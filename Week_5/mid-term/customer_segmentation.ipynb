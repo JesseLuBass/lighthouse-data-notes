{
 "cells": [
  {
   "cell_type": "code",
   "execution_count": 1,
   "id": "079d73d1",
   "metadata": {},
   "outputs": [],
   "source": [
    "import pandas as pd \n",
    "import numpy as np\n",
    "from sklearn.cluster import KMeans\n",
    "from sklearn.compose import make_column_transformer\n",
    "from sklearn.preprocessing import MinMaxScaler, OneHotEncoder, StandardScaler\n",
    "import plotly.express as px\n",
    "import seaborn as sns\n",
    "import matplotlib.pyplot as plt"
   ]
  },
  {
   "cell_type": "code",
   "execution_count": 2,
   "id": "6d21e7f0",
   "metadata": {},
   "outputs": [
    {
     "ename": "FileNotFoundError",
     "evalue": "[Errno 2] File twm_customer.csv does not exist: 'twm_customer.csv'",
     "output_type": "error",
     "traceback": [
      "\u001b[1;31m---------------------------------------------------------------------------\u001b[0m",
      "\u001b[1;31mFileNotFoundError\u001b[0m                         Traceback (most recent call last)",
      "\u001b[1;32m<ipython-input-2-8c00d244a2e5>\u001b[0m in \u001b[0;36m<module>\u001b[1;34m\u001b[0m\n\u001b[0;32m      1\u001b[0m \u001b[1;31m# Import the dataset\u001b[0m\u001b[1;33m\u001b[0m\u001b[1;33m\u001b[0m\u001b[1;33m\u001b[0m\u001b[0m\n\u001b[1;32m----> 2\u001b[1;33m \u001b[0mdf\u001b[0m \u001b[1;33m=\u001b[0m \u001b[0mpd\u001b[0m\u001b[1;33m.\u001b[0m\u001b[0mread_csv\u001b[0m\u001b[1;33m(\u001b[0m\u001b[1;34m'twm_customer.csv'\u001b[0m\u001b[1;33m,\u001b[0m \u001b[0mdelimiter\u001b[0m\u001b[1;33m=\u001b[0m\u001b[1;34m';'\u001b[0m\u001b[1;33m)\u001b[0m\u001b[1;33m\u001b[0m\u001b[1;33m\u001b[0m\u001b[0m\n\u001b[0m\u001b[0;32m      3\u001b[0m \u001b[0mdf\u001b[0m\u001b[1;33m.\u001b[0m\u001b[0misna\u001b[0m\u001b[1;33m(\u001b[0m\u001b[1;33m)\u001b[0m\u001b[1;33m.\u001b[0m\u001b[0mmean\u001b[0m\u001b[1;33m(\u001b[0m\u001b[1;33m)\u001b[0m\u001b[1;33m\u001b[0m\u001b[1;33m\u001b[0m\u001b[0m\n",
      "\u001b[1;32m~\\anaconda3\\lib\\site-packages\\pandas\\io\\parsers.py\u001b[0m in \u001b[0;36mparser_f\u001b[1;34m(filepath_or_buffer, sep, delimiter, header, names, index_col, usecols, squeeze, prefix, mangle_dupe_cols, dtype, engine, converters, true_values, false_values, skipinitialspace, skiprows, skipfooter, nrows, na_values, keep_default_na, na_filter, verbose, skip_blank_lines, parse_dates, infer_datetime_format, keep_date_col, date_parser, dayfirst, cache_dates, iterator, chunksize, compression, thousands, decimal, lineterminator, quotechar, quoting, doublequote, escapechar, comment, encoding, dialect, error_bad_lines, warn_bad_lines, delim_whitespace, low_memory, memory_map, float_precision)\u001b[0m\n\u001b[0;32m    674\u001b[0m         )\n\u001b[0;32m    675\u001b[0m \u001b[1;33m\u001b[0m\u001b[0m\n\u001b[1;32m--> 676\u001b[1;33m         \u001b[1;32mreturn\u001b[0m \u001b[0m_read\u001b[0m\u001b[1;33m(\u001b[0m\u001b[0mfilepath_or_buffer\u001b[0m\u001b[1;33m,\u001b[0m \u001b[0mkwds\u001b[0m\u001b[1;33m)\u001b[0m\u001b[1;33m\u001b[0m\u001b[1;33m\u001b[0m\u001b[0m\n\u001b[0m\u001b[0;32m    677\u001b[0m \u001b[1;33m\u001b[0m\u001b[0m\n\u001b[0;32m    678\u001b[0m     \u001b[0mparser_f\u001b[0m\u001b[1;33m.\u001b[0m\u001b[0m__name__\u001b[0m \u001b[1;33m=\u001b[0m \u001b[0mname\u001b[0m\u001b[1;33m\u001b[0m\u001b[1;33m\u001b[0m\u001b[0m\n",
      "\u001b[1;32m~\\anaconda3\\lib\\site-packages\\pandas\\io\\parsers.py\u001b[0m in \u001b[0;36m_read\u001b[1;34m(filepath_or_buffer, kwds)\u001b[0m\n\u001b[0;32m    446\u001b[0m \u001b[1;33m\u001b[0m\u001b[0m\n\u001b[0;32m    447\u001b[0m     \u001b[1;31m# Create the parser.\u001b[0m\u001b[1;33m\u001b[0m\u001b[1;33m\u001b[0m\u001b[1;33m\u001b[0m\u001b[0m\n\u001b[1;32m--> 448\u001b[1;33m     \u001b[0mparser\u001b[0m \u001b[1;33m=\u001b[0m \u001b[0mTextFileReader\u001b[0m\u001b[1;33m(\u001b[0m\u001b[0mfp_or_buf\u001b[0m\u001b[1;33m,\u001b[0m \u001b[1;33m**\u001b[0m\u001b[0mkwds\u001b[0m\u001b[1;33m)\u001b[0m\u001b[1;33m\u001b[0m\u001b[1;33m\u001b[0m\u001b[0m\n\u001b[0m\u001b[0;32m    449\u001b[0m \u001b[1;33m\u001b[0m\u001b[0m\n\u001b[0;32m    450\u001b[0m     \u001b[1;32mif\u001b[0m \u001b[0mchunksize\u001b[0m \u001b[1;32mor\u001b[0m \u001b[0miterator\u001b[0m\u001b[1;33m:\u001b[0m\u001b[1;33m\u001b[0m\u001b[1;33m\u001b[0m\u001b[0m\n",
      "\u001b[1;32m~\\anaconda3\\lib\\site-packages\\pandas\\io\\parsers.py\u001b[0m in \u001b[0;36m__init__\u001b[1;34m(self, f, engine, **kwds)\u001b[0m\n\u001b[0;32m    878\u001b[0m             \u001b[0mself\u001b[0m\u001b[1;33m.\u001b[0m\u001b[0moptions\u001b[0m\u001b[1;33m[\u001b[0m\u001b[1;34m\"has_index_names\"\u001b[0m\u001b[1;33m]\u001b[0m \u001b[1;33m=\u001b[0m \u001b[0mkwds\u001b[0m\u001b[1;33m[\u001b[0m\u001b[1;34m\"has_index_names\"\u001b[0m\u001b[1;33m]\u001b[0m\u001b[1;33m\u001b[0m\u001b[1;33m\u001b[0m\u001b[0m\n\u001b[0;32m    879\u001b[0m \u001b[1;33m\u001b[0m\u001b[0m\n\u001b[1;32m--> 880\u001b[1;33m         \u001b[0mself\u001b[0m\u001b[1;33m.\u001b[0m\u001b[0m_make_engine\u001b[0m\u001b[1;33m(\u001b[0m\u001b[0mself\u001b[0m\u001b[1;33m.\u001b[0m\u001b[0mengine\u001b[0m\u001b[1;33m)\u001b[0m\u001b[1;33m\u001b[0m\u001b[1;33m\u001b[0m\u001b[0m\n\u001b[0m\u001b[0;32m    881\u001b[0m \u001b[1;33m\u001b[0m\u001b[0m\n\u001b[0;32m    882\u001b[0m     \u001b[1;32mdef\u001b[0m \u001b[0mclose\u001b[0m\u001b[1;33m(\u001b[0m\u001b[0mself\u001b[0m\u001b[1;33m)\u001b[0m\u001b[1;33m:\u001b[0m\u001b[1;33m\u001b[0m\u001b[1;33m\u001b[0m\u001b[0m\n",
      "\u001b[1;32m~\\anaconda3\\lib\\site-packages\\pandas\\io\\parsers.py\u001b[0m in \u001b[0;36m_make_engine\u001b[1;34m(self, engine)\u001b[0m\n\u001b[0;32m   1112\u001b[0m     \u001b[1;32mdef\u001b[0m \u001b[0m_make_engine\u001b[0m\u001b[1;33m(\u001b[0m\u001b[0mself\u001b[0m\u001b[1;33m,\u001b[0m \u001b[0mengine\u001b[0m\u001b[1;33m=\u001b[0m\u001b[1;34m\"c\"\u001b[0m\u001b[1;33m)\u001b[0m\u001b[1;33m:\u001b[0m\u001b[1;33m\u001b[0m\u001b[1;33m\u001b[0m\u001b[0m\n\u001b[0;32m   1113\u001b[0m         \u001b[1;32mif\u001b[0m \u001b[0mengine\u001b[0m \u001b[1;33m==\u001b[0m \u001b[1;34m\"c\"\u001b[0m\u001b[1;33m:\u001b[0m\u001b[1;33m\u001b[0m\u001b[1;33m\u001b[0m\u001b[0m\n\u001b[1;32m-> 1114\u001b[1;33m             \u001b[0mself\u001b[0m\u001b[1;33m.\u001b[0m\u001b[0m_engine\u001b[0m \u001b[1;33m=\u001b[0m \u001b[0mCParserWrapper\u001b[0m\u001b[1;33m(\u001b[0m\u001b[0mself\u001b[0m\u001b[1;33m.\u001b[0m\u001b[0mf\u001b[0m\u001b[1;33m,\u001b[0m \u001b[1;33m**\u001b[0m\u001b[0mself\u001b[0m\u001b[1;33m.\u001b[0m\u001b[0moptions\u001b[0m\u001b[1;33m)\u001b[0m\u001b[1;33m\u001b[0m\u001b[1;33m\u001b[0m\u001b[0m\n\u001b[0m\u001b[0;32m   1115\u001b[0m         \u001b[1;32melse\u001b[0m\u001b[1;33m:\u001b[0m\u001b[1;33m\u001b[0m\u001b[1;33m\u001b[0m\u001b[0m\n\u001b[0;32m   1116\u001b[0m             \u001b[1;32mif\u001b[0m \u001b[0mengine\u001b[0m \u001b[1;33m==\u001b[0m \u001b[1;34m\"python\"\u001b[0m\u001b[1;33m:\u001b[0m\u001b[1;33m\u001b[0m\u001b[1;33m\u001b[0m\u001b[0m\n",
      "\u001b[1;32m~\\anaconda3\\lib\\site-packages\\pandas\\io\\parsers.py\u001b[0m in \u001b[0;36m__init__\u001b[1;34m(self, src, **kwds)\u001b[0m\n\u001b[0;32m   1889\u001b[0m         \u001b[0mkwds\u001b[0m\u001b[1;33m[\u001b[0m\u001b[1;34m\"usecols\"\u001b[0m\u001b[1;33m]\u001b[0m \u001b[1;33m=\u001b[0m \u001b[0mself\u001b[0m\u001b[1;33m.\u001b[0m\u001b[0musecols\u001b[0m\u001b[1;33m\u001b[0m\u001b[1;33m\u001b[0m\u001b[0m\n\u001b[0;32m   1890\u001b[0m \u001b[1;33m\u001b[0m\u001b[0m\n\u001b[1;32m-> 1891\u001b[1;33m         \u001b[0mself\u001b[0m\u001b[1;33m.\u001b[0m\u001b[0m_reader\u001b[0m \u001b[1;33m=\u001b[0m \u001b[0mparsers\u001b[0m\u001b[1;33m.\u001b[0m\u001b[0mTextReader\u001b[0m\u001b[1;33m(\u001b[0m\u001b[0msrc\u001b[0m\u001b[1;33m,\u001b[0m \u001b[1;33m**\u001b[0m\u001b[0mkwds\u001b[0m\u001b[1;33m)\u001b[0m\u001b[1;33m\u001b[0m\u001b[1;33m\u001b[0m\u001b[0m\n\u001b[0m\u001b[0;32m   1892\u001b[0m         \u001b[0mself\u001b[0m\u001b[1;33m.\u001b[0m\u001b[0munnamed_cols\u001b[0m \u001b[1;33m=\u001b[0m \u001b[0mself\u001b[0m\u001b[1;33m.\u001b[0m\u001b[0m_reader\u001b[0m\u001b[1;33m.\u001b[0m\u001b[0munnamed_cols\u001b[0m\u001b[1;33m\u001b[0m\u001b[1;33m\u001b[0m\u001b[0m\n\u001b[0;32m   1893\u001b[0m \u001b[1;33m\u001b[0m\u001b[0m\n",
      "\u001b[1;32mpandas\\_libs\\parsers.pyx\u001b[0m in \u001b[0;36mpandas._libs.parsers.TextReader.__cinit__\u001b[1;34m()\u001b[0m\n",
      "\u001b[1;32mpandas\\_libs\\parsers.pyx\u001b[0m in \u001b[0;36mpandas._libs.parsers.TextReader._setup_parser_source\u001b[1;34m()\u001b[0m\n",
      "\u001b[1;31mFileNotFoundError\u001b[0m: [Errno 2] File twm_customer.csv does not exist: 'twm_customer.csv'"
     ]
    }
   ],
   "source": [
    "# Import the dataset \n",
    "df = pd.read_csv('twm_customer.csv', delimiter=';')\n",
    "df.isna().mean()"
   ]
  },
  {
   "cell_type": "code",
   "execution_count": null,
   "id": "9707eac2",
   "metadata": {
    "tags": []
   },
   "outputs": [],
   "source": [
    "# use column_transformer and drop to prep the data for kmeans \n",
    "df_dropped = df[['income','age','years_with_bank','nbr_children']]"
   ]
  },
  {
   "cell_type": "code",
   "execution_count": null,
   "id": "051d1d5f",
   "metadata": {},
   "outputs": [],
   "source": [
    "ct = make_column_transformer(\n",
    "    (StandardScaler(), ['income','age','years_with_bank','nbr_children']), #turn all values in these columns between 0 and 1 \n",
    "      \n",
    ")\n",
    "\n",
    "df_scaled = ct.fit_transform(df_dropped)"
   ]
  },
  {
   "cell_type": "code",
   "execution_count": null,
   "id": "22ebbff6",
   "metadata": {},
   "outputs": [],
   "source": [
    "# turning the result of scaling back into a dataframe\n",
    "df_scaled = pd.DataFrame(df_scaled, columns = ['income','age','years_with_bank','nbr_children'])"
   ]
  },
  {
   "cell_type": "code",
   "execution_count": null,
   "id": "7b1304cf",
   "metadata": {},
   "outputs": [],
   "source": [
    "# muptiplying the income column by 2 to make it more significant when performing kmeans\n",
    "df_scaled['income'] =df_scaled['income'] * 2"
   ]
  },
  {
   "cell_type": "code",
   "execution_count": null,
   "id": "f83c3749",
   "metadata": {},
   "outputs": [],
   "source": [
    "# now we figure out the optimum number of clusters for kmeans\n",
    "def plot_distortion(X,max_clusters = 10):\n",
    "    distortions = []\n",
    "    for i in range(1, max_clusters +1):\n",
    "        km = KMeans(n_clusters=i,\n",
    "                    init='k-means++',\n",
    "                    n_init=10,\n",
    "                    random_state=0)\n",
    "        km.fit(X)\n",
    "        distortions.append(km.inertia_)\n",
    "\n",
    "    plt.plot(range(1,max_clusters +1), distortions, marker='o')\n",
    "    plt.xlabel('Number of clusters')\n",
    "    plt.ylabel('Distortion')\n",
    "    plt.show() "
   ]
  },
  {
   "cell_type": "code",
   "execution_count": null,
   "id": "b9219018",
   "metadata": {},
   "outputs": [],
   "source": [
    "plot_distortion(df_scaled,max_clusters=10)"
   ]
  },
  {
   "cell_type": "code",
   "execution_count": null,
   "id": "66ec708b",
   "metadata": {},
   "outputs": [],
   "source": [
    "# let's use 5 clusters from the graph given and apply kmeans to df_scaled"
   ]
  },
  {
   "cell_type": "code",
   "execution_count": null,
   "id": "cf75445c",
   "metadata": {},
   "outputs": [],
   "source": [
    "kmeans = KMeans(n_clusters=5, n_init=10)\n",
    "\n",
    "y = kmeans.fit_predict(df_scaled)\n",
    "\n"
   ]
  },
  {
   "cell_type": "code",
   "execution_count": null,
   "id": "69296155",
   "metadata": {},
   "outputs": [],
   "source": [
    "#adding cluster to df_scaled\n",
    "df_scaled['Cluster'] = y"
   ]
  },
  {
   "cell_type": "code",
   "execution_count": null,
   "id": "ed1936a5",
   "metadata": {},
   "outputs": [],
   "source": [
    "ct = make_column_transformer(\n",
    "    (MinMaxScaler(), ['income','age','years_with_bank','nbr_children']), #turn all values in these columns between 0 and 1 \n",
    "      \n",
    ")\n",
    "\n",
    "df_scaled_minmax = ct.fit_transform(df_scaled)\n",
    "df_scaled_minmax = pd.DataFrame(df_scaled_minmax, columns = ['income','age','years_with_bank','nbr_children'])\n",
    "df_scaled_minmax['Cluster'] = y\n",
    "\n",
    "(df_scaled_minmax.groupby('Cluster').mean())"
   ]
  },
  {
   "cell_type": "code",
   "execution_count": null,
   "id": "a8b1d3ff",
   "metadata": {
    "tags": []
   },
   "outputs": [],
   "source": [
    "# the result of kmeans to df_scaled\n",
    "df_scaled_minmax"
   ]
  },
  {
   "cell_type": "code",
   "execution_count": null,
   "id": "a9a20945",
   "metadata": {
    "tags": []
   },
   "outputs": [],
   "source": [
    "# selecting only the 0 cluster customers \n",
    "df_cluster_0 = df_scaled_minmax[df_scaled_minmax.Cluster == 0 ]\n",
    "\n",
    "# calculating the average for each fature in the 0 cluster \n",
    "stats0 = (df_cluster_0.drop('Cluster', axis =1 ).mean(axis=0))\n",
    "\n",
    "# creating labels and values for radar chart \n",
    "stats0 = stats0.values\n",
    "labels = np.array(['income','age','years_with_bank','nbr_children'])\n",
    "\n",
    "# Plotting the fist cluster\n",
    "import plotly.express as px\n",
    "import pandas as pd\n",
    "df = pd.DataFrame(dict(\n",
    "    r=stats0,\n",
    "    theta=labels))\n",
    "fig = px.line_polar(df, r='r', theta='theta', line_close=True)\n",
    "fig.show()"
   ]
  },
  {
   "cell_type": "code",
   "execution_count": null,
   "id": "8392fc93",
   "metadata": {},
   "outputs": [],
   "source": [
    "# selecting only the 1 cluster customers \n",
    "df_cluster_1 = df_scaled_minmax[df_scaled_minmax.Cluster == 1 ]\n",
    "\n",
    "# calculating the average for each fature in the 1 cluster \n",
    "stats1 = (df_cluster_1.drop('Cluster', axis =1 ).mean(axis=0))\n",
    "\n",
    "# creating labels and values for radar chart \n",
    "stats1 = stats1.values\n",
    "labels = np.array(['income','age','years_with_bank','nbr_children'])\n",
    "\n",
    "# Plotting the second cluster\n",
    "import plotly.express as px\n",
    "import pandas as pd\n",
    "df = pd.DataFrame(dict(\n",
    "    r=stats1,\n",
    "    theta=labels))\n",
    "fig = px.line_polar(df, r='r', theta='theta', line_close=True)\n",
    "fig.show()"
   ]
  },
  {
   "cell_type": "code",
   "execution_count": null,
   "id": "059d3841",
   "metadata": {},
   "outputs": [],
   "source": [
    "# selecting only the 2 cluster customers \n",
    "df_cluster_2 = df_scaled_minmax[df_scaled_minmax.Cluster == 2 ]\n",
    "\n",
    "# calculating the average for each fature in the 2 cluster \n",
    "stats2 = (df_cluster_2.drop('Cluster', axis =1 ).mean(axis=0))\n",
    "\n",
    "# selecting only the 3 cluster customers \n",
    "df_cluster_3 = df_scaled_minmax[df_scaled_minmax.Cluster == 3 ]\n",
    "\n",
    "# calculating the average for each fature in the 3 cluster \n",
    "stats3 = (df_cluster_3.drop('Cluster', axis =1 ).mean(axis=0))\n",
    "\n",
    "# selecting only the 4 cluster customers \n",
    "df_cluster_4 = df_scaled_minmax[df_scaled_minmax.Cluster == 4 ]\n",
    "\n",
    "# calculating the average for each fature in the 4 cluster \n",
    "stats4 = (df_cluster_4.drop('Cluster', axis =1 ).mean(axis=0))\n"
   ]
  },
  {
   "cell_type": "code",
   "execution_count": null,
   "id": "b84a3c71",
   "metadata": {},
   "outputs": [],
   "source": [
    "# Plotting the third cluster\n",
    "import plotly.express as px\n",
    "import pandas as pd\n",
    "df = pd.DataFrame(dict(\n",
    "    r=stats2,\n",
    "    theta=labels))\n",
    "fig = px.line_polar(df, r='r', theta='theta', line_close=True)\n",
    "fig.show()"
   ]
  },
  {
   "cell_type": "code",
   "execution_count": null,
   "id": "30a01194",
   "metadata": {},
   "outputs": [],
   "source": [
    "# Plotting the fourth cluster\n",
    "import plotly.express as px\n",
    "import pandas as pd\n",
    "df = pd.DataFrame(dict(\n",
    "    r=stats3,\n",
    "    theta=labels))\n",
    "fig = px.line_polar(df, r='r', theta='theta', line_close=True)\n",
    "fig.show()"
   ]
  },
  {
   "cell_type": "code",
   "execution_count": null,
   "id": "018068e2",
   "metadata": {},
   "outputs": [],
   "source": [
    "# Plotting the fifth cluster\n",
    "import plotly.express as px\n",
    "import pandas as pd\n",
    "df = pd.DataFrame(dict(\n",
    "    r=stats4,\n",
    "    theta=labels))\n",
    "fig = px.line_polar(df, r='r', theta='theta', line_close=True)\n",
    "fig.show()"
   ]
  },
  {
   "cell_type": "code",
   "execution_count": null,
   "id": "b3ce92e2",
   "metadata": {},
   "outputs": [],
   "source": [
    "import plotly.graph_objects as go\n",
    "\n",
    "categories = ['income','age','years_with_bank','nbr_children']\n",
    "fig = go.Figure()\n",
    "\n",
    "fig.add_trace(go.Scatterpolar(\n",
    "      r=stats0,\n",
    "      theta=categories,\n",
    "      fill='toself',\n",
    "      name='Customer Group 1'\n",
    "))\n",
    "fig.add_trace(go.Scatterpolar(\n",
    "      r=stats1,\n",
    "      theta=categories,\n",
    "      fill='toself',\n",
    "      name='Customer Group 2'\n",
    "))\n",
    "\n",
    "fig.add_trace(go.Scatterpolar(\n",
    "      r=stats2,\n",
    "      theta=categories,\n",
    "      fill='toself',\n",
    "      name='Customer Group 3'\n",
    "))\n",
    "\n",
    "fig.add_trace(go.Scatterpolar(\n",
    "      r=stats3,\n",
    "      theta=categories,\n",
    "      fill='toself',\n",
    "      name='Customer Group 4'\n",
    "))\n",
    "\n",
    "fig.add_trace(go.Scatterpolar(\n",
    "      r=stats4,\n",
    "      theta=categories,\n",
    "      fill='toself',\n",
    "      name='Customer Group 5'\n",
    "))\n",
    "\n",
    "\n",
    "fig.update_layout(\n",
    "  polar=dict(\n",
    "    radialaxis=dict(\n",
    "      visible=True,\n",
    "      range=[0, 1]\n",
    "    )),\n",
    "  showlegend=False\n",
    ")\n",
    "\n",
    "fig.show()"
   ]
  },
  {
   "cell_type": "code",
   "execution_count": null,
   "id": "81468cd7",
   "metadata": {},
   "outputs": [],
   "source": [
    "df_scaled_minmax"
   ]
  },
  {
   "cell_type": "code",
   "execution_count": null,
   "id": "64b660e9",
   "metadata": {},
   "outputs": [],
   "source": [
    "features = ['income','age','years_with_bank','nbr_children']\n",
    "\n",
    "fig = px.scatter_matrix(\n",
    "    df_scaled, \n",
    "    dimensions=features,\n",
    "    color = 'Cluster')\n",
    "\n",
    "fig.update_traces(diagonal_visible=False)\n",
    "fig.show()"
   ]
  },
  {
   "cell_type": "code",
   "execution_count": null,
   "id": "698e55bd",
   "metadata": {},
   "outputs": [],
   "source": [
    "from sklearn.decomposition import PCA\n",
    "\n",
    "\n",
    "features = ['income','age','years_with_bank','nbr_children']\n",
    "pca = PCA(n_components=2)\n",
    "components = pca.fit_transform(df_scaled[features])\n",
    "\n",
    "labels ={\n",
    "    str(i): f'PC {i+1} ( {var:.1f}%)'\n",
    "    for i , var in enumerate(pca.explained_variance_ratio_* 100)\n",
    "}\n",
    "\n",
    "fig = px.scatter_matrix(\n",
    "\n",
    "components, labels = labels, \n",
    "\n",
    "dimensions= range(2),\n",
    "color = df_scaled.Cluster)\n",
    "fig.update_traces(diagonal_visible=False)\n",
    "fig.show()"
   ]
  },
  {
   "cell_type": "code",
   "execution_count": null,
   "id": "0297a8c1",
   "metadata": {},
   "outputs": [],
   "source": [
    "# See how well PCs explain variance in the dataset\n",
    "cum_explained_variance = np.cumsum(pca.explained_variance_ratio_)\n",
    "plt.plot(cum_explained_variance)\n",
    "plt.xlabel('PC number')\n",
    "plt.ylabel('% Cumulative explained variance')"
   ]
  },
  {
   "cell_type": "code",
   "execution_count": null,
   "id": "91a7300a",
   "metadata": {},
   "outputs": [],
   "source": []
  }
 ],
 "metadata": {
  "kernelspec": {
   "display_name": "Python 3",
   "language": "python",
   "name": "python3"
  },
  "language_info": {
   "codemirror_mode": {
    "name": "ipython",
    "version": 3
   },
   "file_extension": ".py",
   "mimetype": "text/x-python",
   "name": "python",
   "nbconvert_exporter": "python",
   "pygments_lexer": "ipython3",
   "version": "3.8.8"
  }
 },
 "nbformat": 4,
 "nbformat_minor": 5
}
