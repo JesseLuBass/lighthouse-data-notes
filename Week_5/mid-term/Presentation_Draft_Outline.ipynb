{
 "cells": [
  {
   "cell_type": "markdown",
   "metadata": {},
   "source": [
    "# Presentation Draft Outline\n",
    "\n",
    "## Ideally 7-7.5 minutes total\n",
    "\n",
    "* Tools Used - **30 seconds**\n",
    "    * 1 slide\n",
    "* Clustering - **3 min total**\n",
    "    * Alex’s clustering based on neighborhoods - **1 min**\n",
    "        * criteria used\n",
    "        * results on map\n",
    "    * Jesse’s clustering based on skyscrapers - **1 min**\n",
    "        * criteria used\n",
    "        * Overlap with Alex’s clusters\n",
    "        * PCA results, Neural Networks\n",
    "    * Harpreet’s clustering based on restaurants - **1 min**\n",
    "        * criteria used\n",
    "        * overlap with Alex and Jesse’s clusters\n",
    "* Application of Data (the story) - **2 min total**\n",
    "    * Compare Towers"
   ]
  }
 ],
 "metadata": {
  "kernelspec": {
   "display_name": "Python 3",
   "language": "python",
   "name": "python3"
  },
  "language_info": {
   "codemirror_mode": {
    "name": "ipython",
    "version": 3
   },
   "file_extension": ".py",
   "mimetype": "text/x-python",
   "name": "python",
   "nbconvert_exporter": "python",
   "pygments_lexer": "ipython3",
   "version": "3.8.8"
  }
 },
 "nbformat": 4,
 "nbformat_minor": 4
}
