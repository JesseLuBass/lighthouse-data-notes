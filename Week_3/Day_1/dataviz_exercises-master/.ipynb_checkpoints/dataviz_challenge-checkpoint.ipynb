{
 "cells": [
  {
   "cell_type": "markdown",
   "metadata": {},
   "source": [
    "## Challenge"
   ]
  },
  {
   "cell_type": "markdown",
   "metadata": {},
   "source": [
    "As mentioned in the Compass, we will be using data from international football (soccer :)) matches that took place between 1872 and 2019 (148 years). You can download the dataset from [**this link**](https://drive.google.com/file/d/1cCn5botBKzh1XZOvrxpcLle-Ua7Fh9BR/view?usp=sharing) and find more information about it on [**Kaggle**](https://www.kaggle.com/martj42/international-football-results-from-1872-to-2017).\n",
    "\n",
    "We need to make sure we understand all variables and information they store before we start working on the task. It's very important to understand the dataset to create meaningful visualizations."
   ]
  },
  {
   "cell_type": "markdown",
   "metadata": {},
   "source": [
    "> #### Instruction\n",
    "> Use visualizations to answer following questions. Try different Python packages."
   ]
  },
  {
   "cell_type": "markdown",
   "metadata": {},
   "source": [
    "## Task\n",
    "Which teams scored the largest number of goals in FIFA World Cup?"
   ]
  },
  {
   "cell_type": "code",
   "execution_count": 1,
   "metadata": {},
   "outputs": [],
   "source": [
    "import pandas as pd\n",
    "import matplotlib.pyplot as plt\n",
    "import seaborn as sns"
   ]
  },
  {
   "cell_type": "code",
   "execution_count": 19,
   "metadata": {
    "collapsed": true,
    "jupyter": {
     "outputs_hidden": true
    },
    "tags": []
   },
   "outputs": [
    {
     "data": {
      "text/plain": [
       "array(['Friendly', 'British Championship', 'Copa Lipton', 'Copa Newton',\n",
       "       'Copa Premio Honor Argentino', 'Copa Premio Honor Uruguayo',\n",
       "       'Copa Roca', 'Copa América', 'Copa Chevallier Boutell',\n",
       "       'Nordic Championship', 'International Cup', 'Baltic Cup',\n",
       "       'Balkan Cup', 'FIFA World Cup', 'Copa Rio Branco',\n",
       "       'FIFA World Cup qualification', 'CCCF Championship',\n",
       "       'NAFU Championship', 'Copa Oswaldo Cruz',\n",
       "       'Pan American Championship', 'Copa del Pacífico',\n",
       "       \"Copa Bernardo O'Higgins\", 'AFC Asian Cup qualification',\n",
       "       'Atlantic Cup', 'AFC Asian Cup', 'African Cup of Nations',\n",
       "       'Copa Paz del Chaco', 'Merdeka Tournament',\n",
       "       'UEFA Euro qualification', 'UEFA Euro',\n",
       "       'Windward Islands Tournament',\n",
       "       'African Cup of Nations qualification', 'Vietnam Independence Cup',\n",
       "       'Copa Carlos Dittborn', 'CONCACAF Championship',\n",
       "       'Copa Juan Pinto Durán', 'UAFA Cup', 'South Pacific Games',\n",
       "       'CONCACAF Championship qualification', 'Copa Artigas', 'GaNEFo',\n",
       "       \"King's Cup\", 'Gulf Cup', 'Indonesia Tournament', 'Korea Cup',\n",
       "       'Brazil Independence Cup', 'Copa Ramón Castilla',\n",
       "       'Oceania Nations Cup', 'CECAFA Cup', 'Copa Félix Bogado',\n",
       "       'Kirin Cup', 'CFU Caribbean Cup qualification',\n",
       "       'CFU Caribbean Cup', 'Amílcar Cabral Cup', 'Mundialito',\n",
       "       'West African Cup', 'Nehru Cup', 'Merlion Cup', 'UDEAC Cup',\n",
       "       'Rous Cup', 'Lunar New Year Cup', 'Tournoi de France',\n",
       "       'Malta International Tournament', 'Island Games', 'Dynasty Cup',\n",
       "       'UNCAF Cup', 'Gold Cup', 'USA Cup',\n",
       "       'Jordan International Tournament', 'Confederations Cup',\n",
       "       'United Arab Emirates Friendship Tournament',\n",
       "       'Oceania Nations Cup qualification', 'Simba Tournament',\n",
       "       'SAFF Cup', 'AFF Championship', 'King Hassan II Tournament',\n",
       "       'Cyprus International Tournament', 'Dunhill Cup', 'COSAFA Cup',\n",
       "       'Gold Cup qualification', 'SKN Football Festival', 'UNIFFAC Cup',\n",
       "       'WAFF Championship', 'Millennium Cup', \"Prime Minister's Cup\",\n",
       "       'EAFF Championship', 'AFC Challenge Cup', 'FIFI Wild Cup',\n",
       "       'ELF Cup', 'Viva World Cup', 'UAFA Cup qualification',\n",
       "       'AFC Challenge Cup qualification', 'African Nations Championship',\n",
       "       'VFF Cup', 'Dragon Cup', 'ABCS Tournament',\n",
       "       'Nile Basin Tournament', 'Nations Cup', 'Pacific Games', 'OSN Cup',\n",
       "       'CONIFA World Football Cup', 'CONIFA European Football Cup',\n",
       "       'Copa América qualification', 'World Unity Cup',\n",
       "       'Intercontinental Cup', 'AFF Championship qualification',\n",
       "       'UEFA Nations League', 'CONCACAF Nations League qualification',\n",
       "       'African Nations Championship qualification',\n",
       "       'Atlantic Heritage Cup', 'Inter Games Football Tournament',\n",
       "       'CONCACAF Nations League'], dtype=object)"
      ]
     },
     "execution_count": 19,
     "metadata": {},
     "output_type": "execute_result"
    }
   ],
   "source": [
    "df = pd.read_csv('results.csv')\n",
    "df.tournament.unique()"
   ]
  },
  {
   "cell_type": "code",
   "execution_count": 23,
   "metadata": {},
   "outputs": [],
   "source": [
    "fifa_df = df[df.tournament == 'FIFA World Cup']\n",
    "\n",
    "goal_numbers = fifa_df.groupby('home_team').home_score.sum()+fifa_df.groupby('away_team').away_score.sum()\n",
    "\n",
    "goal_numbers = goal_numbers.sort_values"
   ]
  },
  {
   "cell_type": "markdown",
   "metadata": {},
   "source": [
    "## Task\n",
    "What is the number of matches played in each tournament throughout history?"
   ]
  },
  {
   "cell_type": "code",
   "execution_count": null,
   "metadata": {},
   "outputs": [],
   "source": []
  },
  {
   "cell_type": "code",
   "execution_count": null,
   "metadata": {},
   "outputs": [],
   "source": []
  },
  {
   "cell_type": "markdown",
   "metadata": {},
   "source": [
    "## Task \n",
    "Show the trend in number of matches per year."
   ]
  },
  {
   "cell_type": "code",
   "execution_count": null,
   "metadata": {},
   "outputs": [],
   "source": []
  },
  {
   "cell_type": "code",
   "execution_count": null,
   "metadata": {},
   "outputs": [],
   "source": []
  },
  {
   "cell_type": "markdown",
   "metadata": {},
   "source": [
    "## Task\n",
    "Which teams are the most successful ones? (winning percentage)"
   ]
  },
  {
   "cell_type": "code",
   "execution_count": null,
   "metadata": {},
   "outputs": [],
   "source": []
  },
  {
   "cell_type": "code",
   "execution_count": null,
   "metadata": {},
   "outputs": [],
   "source": []
  },
  {
   "cell_type": "markdown",
   "metadata": {},
   "source": [
    "## Task\n",
    "Which teams are the least successful ones? (winning percentage)"
   ]
  },
  {
   "cell_type": "code",
   "execution_count": null,
   "metadata": {},
   "outputs": [],
   "source": []
  },
  {
   "cell_type": "code",
   "execution_count": null,
   "metadata": {},
   "outputs": [],
   "source": []
  },
  {
   "cell_type": "markdown",
   "metadata": {},
   "source": [
    "## Task\n",
    "Which months through the history had more matches? Is it June, July, or others? Does the number of matches change from month to month?"
   ]
  },
  {
   "cell_type": "code",
   "execution_count": null,
   "metadata": {},
   "outputs": [],
   "source": []
  },
  {
   "cell_type": "code",
   "execution_count": null,
   "metadata": {},
   "outputs": [],
   "source": []
  },
  {
   "cell_type": "markdown",
   "metadata": {},
   "source": [
    "## Task\n",
    "Which teams played against each other the most?"
   ]
  },
  {
   "cell_type": "code",
   "execution_count": null,
   "metadata": {},
   "outputs": [],
   "source": []
  },
  {
   "cell_type": "code",
   "execution_count": null,
   "metadata": {},
   "outputs": [],
   "source": []
  },
  {
   "cell_type": "markdown",
   "metadata": {},
   "source": [
    "## Task\n",
    "Apply your creativity to show some additional insights from the data."
   ]
  },
  {
   "cell_type": "code",
   "execution_count": null,
   "metadata": {},
   "outputs": [],
   "source": []
  },
  {
   "cell_type": "code",
   "execution_count": null,
   "metadata": {},
   "outputs": [],
   "source": []
  },
  {
   "cell_type": "markdown",
   "metadata": {},
   "source": [
    "## Task (Stretch)\n",
    "Create these graphs in Tableau as well."
   ]
  },
  {
   "cell_type": "code",
   "execution_count": null,
   "metadata": {},
   "outputs": [],
   "source": []
  }
 ],
 "metadata": {
  "kernelspec": {
   "display_name": "Python 3",
   "language": "python",
   "name": "python3"
  },
  "language_info": {
   "codemirror_mode": {
    "name": "ipython",
    "version": 3
   },
   "file_extension": ".py",
   "mimetype": "text/x-python",
   "name": "python",
   "nbconvert_exporter": "python",
   "pygments_lexer": "ipython3",
   "version": "3.8.8"
  }
 },
 "nbformat": 4,
 "nbformat_minor": 4
}
