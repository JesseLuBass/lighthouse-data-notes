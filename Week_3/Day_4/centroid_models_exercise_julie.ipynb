{
 "cells": [
  {
   "cell_type": "markdown",
   "metadata": {},
   "source": [
    "## Centroid Models Assignment"
   ]
  },
  {
   "cell_type": "code",
   "execution_count": 1,
   "metadata": {
    "ExecuteTime": {
     "end_time": "2020-04-23T18:49:13.019261Z",
     "start_time": "2020-04-23T18:49:11.598033Z"
    }
   },
   "outputs": [],
   "source": [
    "# import pandas\n",
    "import pandas as pd\n",
    "\n",
    "# import Kmeans \n",
    "from sklearn.cluster import KMeans\n",
    "\n",
    "# import numpy\n",
    "import numpy as np\n",
    "\n",
    "# import matplotlib\n",
    "import matplotlib.pyplot as plt\n",
    "\n",
    "# set figure size\n",
    "plt.rcParams[\"figure.figsize\"] = (12,8)"
   ]
  },
  {
   "cell_type": "code",
   "execution_count": 2,
   "metadata": {
    "ExecuteTime": {
     "end_time": "2020-04-23T18:49:13.389568Z",
     "start_time": "2020-04-23T18:49:13.066942Z"
    }
   },
   "outputs": [],
   "source": [
    "# Load dataframe\n",
    "df = pd.read_csv('https://raw.githubusercontent.com/lucko515/clustering-python/master/Customer%20in%20Mall%20clusterng/Mall_Customers.csv')"
   ]
  },
  {
   "cell_type": "markdown",
   "metadata": {},
   "source": [
    "**Take some time to explore the dataframe above.**"
   ]
  },
  {
   "cell_type": "code",
   "execution_count": 23,
   "metadata": {},
   "outputs": [],
   "source": [
    "df.loc[(df['Genre'] == 'Male'),'Sex'] = '0'"
   ]
  },
  {
   "cell_type": "code",
   "execution_count": 22,
   "metadata": {},
   "outputs": [],
   "source": [
    "df.loc[(df['Genre'] == 'Female'),'Sex'] = '1'"
   ]
  },
  {
   "cell_type": "code",
   "execution_count": 32,
   "metadata": {},
   "outputs": [
    {
     "data": {
      "text/html": [
       "<div>\n",
       "<style scoped>\n",
       "    .dataframe tbody tr th:only-of-type {\n",
       "        vertical-align: middle;\n",
       "    }\n",
       "\n",
       "    .dataframe tbody tr th {\n",
       "        vertical-align: top;\n",
       "    }\n",
       "\n",
       "    .dataframe thead th {\n",
       "        text-align: right;\n",
       "    }\n",
       "</style>\n",
       "<table border=\"1\" class=\"dataframe\">\n",
       "  <thead>\n",
       "    <tr style=\"text-align: right;\">\n",
       "      <th></th>\n",
       "      <th>CustomerID</th>\n",
       "      <th>Genre</th>\n",
       "      <th>Age</th>\n",
       "      <th>Annual Income (k$)</th>\n",
       "      <th>Spending Score (1-100)</th>\n",
       "      <th>Sex</th>\n",
       "    </tr>\n",
       "  </thead>\n",
       "  <tbody>\n",
       "    <tr>\n",
       "      <th>0</th>\n",
       "      <td>1</td>\n",
       "      <td>Male</td>\n",
       "      <td>19</td>\n",
       "      <td>15</td>\n",
       "      <td>39</td>\n",
       "      <td>0</td>\n",
       "    </tr>\n",
       "    <tr>\n",
       "      <th>1</th>\n",
       "      <td>2</td>\n",
       "      <td>Male</td>\n",
       "      <td>21</td>\n",
       "      <td>15</td>\n",
       "      <td>81</td>\n",
       "      <td>0</td>\n",
       "    </tr>\n",
       "    <tr>\n",
       "      <th>2</th>\n",
       "      <td>3</td>\n",
       "      <td>Female</td>\n",
       "      <td>20</td>\n",
       "      <td>16</td>\n",
       "      <td>6</td>\n",
       "      <td>1</td>\n",
       "    </tr>\n",
       "    <tr>\n",
       "      <th>3</th>\n",
       "      <td>4</td>\n",
       "      <td>Female</td>\n",
       "      <td>23</td>\n",
       "      <td>16</td>\n",
       "      <td>77</td>\n",
       "      <td>1</td>\n",
       "    </tr>\n",
       "    <tr>\n",
       "      <th>4</th>\n",
       "      <td>5</td>\n",
       "      <td>Female</td>\n",
       "      <td>31</td>\n",
       "      <td>17</td>\n",
       "      <td>40</td>\n",
       "      <td>1</td>\n",
       "    </tr>\n",
       "  </tbody>\n",
       "</table>\n",
       "</div>"
      ],
      "text/plain": [
       "   CustomerID   Genre  Age  Annual Income (k$)  Spending Score (1-100) Sex\n",
       "0           1    Male   19                  15                      39   0\n",
       "1           2    Male   21                  15                      81   0\n",
       "2           3  Female   20                  16                       6   1\n",
       "3           4  Female   23                  16                      77   1\n",
       "4           5  Female   31                  17                      40   1"
      ]
     },
     "execution_count": 32,
     "metadata": {},
     "output_type": "execute_result"
    }
   ],
   "source": [
    "df.head()"
   ]
  },
  {
   "cell_type": "code",
   "execution_count": 6,
   "metadata": {},
   "outputs": [
    {
     "data": {
      "text/html": [
       "<div>\n",
       "<style scoped>\n",
       "    .dataframe tbody tr th:only-of-type {\n",
       "        vertical-align: middle;\n",
       "    }\n",
       "\n",
       "    .dataframe tbody tr th {\n",
       "        vertical-align: top;\n",
       "    }\n",
       "\n",
       "    .dataframe thead th {\n",
       "        text-align: right;\n",
       "    }\n",
       "</style>\n",
       "<table border=\"1\" class=\"dataframe\">\n",
       "  <thead>\n",
       "    <tr style=\"text-align: right;\">\n",
       "      <th></th>\n",
       "      <th>CustomerID</th>\n",
       "      <th>Age</th>\n",
       "      <th>Annual Income (k$)</th>\n",
       "      <th>Spending Score (1-100)</th>\n",
       "    </tr>\n",
       "  </thead>\n",
       "  <tbody>\n",
       "    <tr>\n",
       "      <th>count</th>\n",
       "      <td>200.000000</td>\n",
       "      <td>200.000000</td>\n",
       "      <td>200.000000</td>\n",
       "      <td>200.000000</td>\n",
       "    </tr>\n",
       "    <tr>\n",
       "      <th>mean</th>\n",
       "      <td>100.500000</td>\n",
       "      <td>38.850000</td>\n",
       "      <td>60.560000</td>\n",
       "      <td>50.200000</td>\n",
       "    </tr>\n",
       "    <tr>\n",
       "      <th>std</th>\n",
       "      <td>57.879185</td>\n",
       "      <td>13.969007</td>\n",
       "      <td>26.264721</td>\n",
       "      <td>25.823522</td>\n",
       "    </tr>\n",
       "    <tr>\n",
       "      <th>min</th>\n",
       "      <td>1.000000</td>\n",
       "      <td>18.000000</td>\n",
       "      <td>15.000000</td>\n",
       "      <td>1.000000</td>\n",
       "    </tr>\n",
       "    <tr>\n",
       "      <th>25%</th>\n",
       "      <td>50.750000</td>\n",
       "      <td>28.750000</td>\n",
       "      <td>41.500000</td>\n",
       "      <td>34.750000</td>\n",
       "    </tr>\n",
       "    <tr>\n",
       "      <th>50%</th>\n",
       "      <td>100.500000</td>\n",
       "      <td>36.000000</td>\n",
       "      <td>61.500000</td>\n",
       "      <td>50.000000</td>\n",
       "    </tr>\n",
       "    <tr>\n",
       "      <th>75%</th>\n",
       "      <td>150.250000</td>\n",
       "      <td>49.000000</td>\n",
       "      <td>78.000000</td>\n",
       "      <td>73.000000</td>\n",
       "    </tr>\n",
       "    <tr>\n",
       "      <th>max</th>\n",
       "      <td>200.000000</td>\n",
       "      <td>70.000000</td>\n",
       "      <td>137.000000</td>\n",
       "      <td>99.000000</td>\n",
       "    </tr>\n",
       "  </tbody>\n",
       "</table>\n",
       "</div>"
      ],
      "text/plain": [
       "       CustomerID         Age  Annual Income (k$)  Spending Score (1-100)\n",
       "count  200.000000  200.000000          200.000000              200.000000\n",
       "mean   100.500000   38.850000           60.560000               50.200000\n",
       "std     57.879185   13.969007           26.264721               25.823522\n",
       "min      1.000000   18.000000           15.000000                1.000000\n",
       "25%     50.750000   28.750000           41.500000               34.750000\n",
       "50%    100.500000   36.000000           61.500000               50.000000\n",
       "75%    150.250000   49.000000           78.000000               73.000000\n",
       "max    200.000000   70.000000          137.000000               99.000000"
      ]
     },
     "execution_count": 6,
     "metadata": {},
     "output_type": "execute_result"
    }
   ],
   "source": [
    "df.describe()"
   ]
  },
  {
   "cell_type": "markdown",
   "metadata": {
    "ExecuteTime": {
     "end_time": "2020-02-19T08:33:55.508169Z",
     "start_time": "2020-02-19T08:33:55.504670Z"
    }
   },
   "source": [
    "----------------------\n",
    "## Objective: \n",
    "#### 1. Fit K-Means, \n",
    "#### 2. Find the optimal number of clusters using the elbow rule and plot the clusters.\n",
    "\n",
    "\n",
    "It may be difficult to visualize clusters on dataframes with many features. To simplify the task, we can plot the clusters in 2-D, by creating a clustering model on the last two columns of the dataset. \n",
    "\n",
    "> **Note:** There are ways to lower the dimension of your data so it can plotted in two dimensions and we will get to those in the beginning of next week.\n",
    "\n",
    "We shouldn't forget to scale the data using some technique from sklearn, even though it's **not a must** in the case because we take only the last two columns, and they have already have similar scale.\n"
   ]
  },
  {
   "cell_type": "code",
   "execution_count": 40,
   "metadata": {},
   "outputs": [],
   "source": [
    "from sklearn.preprocessing import StandardScaler\n",
    "sc=StandardScaler()\n",
    "data_scaled=sc.fit_transform(df.drop(['Genre'],axis=1))"
   ]
  },
  {
   "cell_type": "code",
   "execution_count": 43,
   "metadata": {},
   "outputs": [
    {
     "data": {
      "text/plain": [
       "array([[-1.7234121 , -1.42456879, -1.73899919, -0.43480148, -1.12815215],\n",
       "       [-1.70609137, -1.28103541, -1.73899919,  1.19570407, -1.12815215],\n",
       "       [-1.68877065, -1.3528021 , -1.70082976, -1.71591298,  0.88640526],\n",
       "       [-1.67144992, -1.13750203, -1.70082976,  1.04041783,  0.88640526],\n",
       "       [-1.6541292 , -0.56336851, -1.66266033, -0.39597992,  0.88640526],\n",
       "       [-1.63680847, -1.20926872, -1.66266033,  1.00159627,  0.88640526],\n",
       "       [-1.61948775, -0.27630176, -1.62449091, -1.71591298,  0.88640526],\n",
       "       [-1.60216702, -1.13750203, -1.62449091,  1.70038436,  0.88640526],\n",
       "       [-1.5848463 ,  1.80493225, -1.58632148, -1.83237767, -1.12815215],\n",
       "       [-1.56752558, -0.6351352 , -1.58632148,  0.84631002,  0.88640526],\n",
       "       [-1.55020485,  2.02023231, -1.58632148, -1.4053405 , -1.12815215],\n",
       "       [-1.53288413, -0.27630176, -1.58632148,  1.89449216,  0.88640526],\n",
       "       [-1.5155634 ,  1.37433211, -1.54815205, -1.36651894,  0.88640526],\n",
       "       [-1.49824268, -1.06573534, -1.54815205,  1.04041783,  0.88640526],\n",
       "       [-1.48092195, -0.13276838, -1.54815205, -1.44416206, -1.12815215],\n",
       "       [-1.46360123, -1.20926872, -1.54815205,  1.11806095, -1.12815215],\n",
       "       [-1.4462805 , -0.27630176, -1.50998262, -0.59008772,  0.88640526],\n",
       "       [-1.42895978, -1.3528021 , -1.50998262,  0.61338066, -1.12815215],\n",
       "       [-1.41163905,  0.94373197, -1.43364376, -0.82301709, -1.12815215],\n",
       "       [-1.39431833, -0.27630176, -1.43364376,  1.8556706 ,  0.88640526],\n",
       "       [-1.3769976 , -0.27630176, -1.39547433, -0.59008772, -1.12815215],\n",
       "       [-1.35967688, -0.99396865, -1.39547433,  0.88513158, -1.12815215],\n",
       "       [-1.34235616,  0.51313183, -1.3573049 , -1.75473454,  0.88640526],\n",
       "       [-1.32503543, -0.56336851, -1.3573049 ,  0.88513158, -1.12815215],\n",
       "       [-1.30771471,  1.08726535, -1.24279661, -1.4053405 ,  0.88640526],\n",
       "       [-1.29039398, -0.70690189, -1.24279661,  1.23452563, -1.12815215],\n",
       "       [-1.27307326,  0.44136514, -1.24279661, -0.7065524 ,  0.88640526],\n",
       "       [-1.25575253, -0.27630176, -1.24279661,  0.41927286, -1.12815215],\n",
       "       [-1.23843181,  0.08253169, -1.20462718, -0.74537397,  0.88640526],\n",
       "       [-1.22111108, -1.13750203, -1.20462718,  1.42863343,  0.88640526],\n",
       "       [-1.20379036,  1.51786549, -1.16645776, -1.7935561 , -1.12815215],\n",
       "       [-1.18646963, -1.28103541, -1.16645776,  0.88513158,  0.88640526],\n",
       "       [-1.16914891,  1.01549866, -1.05194947, -1.7935561 , -1.12815215],\n",
       "       [-1.15182818, -1.49633548, -1.05194947,  1.62274124, -1.12815215],\n",
       "       [-1.13450746,  0.7284319 , -1.05194947, -1.4053405 ,  0.88640526],\n",
       "       [-1.11718674, -1.28103541, -1.05194947,  1.19570407,  0.88640526],\n",
       "       [-1.09986601,  0.22606507, -1.01378004, -1.28887582,  0.88640526],\n",
       "       [-1.08254529, -0.6351352 , -1.01378004,  0.88513158,  0.88640526],\n",
       "       [-1.06522456, -0.20453507, -0.89927175, -0.93948177,  0.88640526],\n",
       "       [-1.04790384, -1.3528021 , -0.89927175,  0.96277471,  0.88640526],\n",
       "       [-1.03058311,  1.87669894, -0.86110232, -0.59008772,  0.88640526],\n",
       "       [-1.01326239, -1.06573534, -0.86110232,  1.62274124, -1.12815215],\n",
       "       [-0.99594166,  0.65666521, -0.82293289, -0.55126616, -1.12815215],\n",
       "       [-0.97862094, -0.56336851, -0.82293289,  0.41927286,  0.88640526],\n",
       "       [-0.96130021,  0.7284319 , -0.82293289, -0.86183865,  0.88640526],\n",
       "       [-0.94397949, -1.06573534, -0.82293289,  0.5745591 ,  0.88640526],\n",
       "       [-0.92665877,  0.80019859, -0.78476346,  0.18634349,  0.88640526],\n",
       "       [-0.90933804, -0.85043527, -0.78476346, -0.12422899,  0.88640526],\n",
       "       [-0.89201732, -0.70690189, -0.78476346, -0.3183368 ,  0.88640526],\n",
       "       [-0.87469659, -0.56336851, -0.78476346, -0.3183368 ,  0.88640526],\n",
       "       [-0.85737587,  0.7284319 , -0.70842461,  0.06987881,  0.88640526],\n",
       "       [-0.84005514, -0.41983513, -0.70842461,  0.38045129, -1.12815215],\n",
       "       [-0.82273442, -0.56336851, -0.67025518,  0.14752193,  0.88640526],\n",
       "       [-0.80541369,  1.4460988 , -0.67025518,  0.38045129, -1.12815215],\n",
       "       [-0.78809297,  0.80019859, -0.67025518, -0.20187212,  0.88640526],\n",
       "       [-0.77077224,  0.58489852, -0.67025518, -0.35715836, -1.12815215],\n",
       "       [-0.75345152,  0.87196528, -0.63208575, -0.00776431,  0.88640526],\n",
       "       [-0.73613079,  2.16376569, -0.63208575, -0.16305055, -1.12815215],\n",
       "       [-0.71881007, -0.85043527, -0.55574689,  0.03105725,  0.88640526],\n",
       "       [-0.70148935,  1.01549866, -0.55574689, -0.16305055, -1.12815215],\n",
       "       [-0.68416862,  2.23553238, -0.55574689,  0.22516505, -1.12815215],\n",
       "       [-0.6668479 , -1.42456879, -0.55574689,  0.18634349, -1.12815215],\n",
       "       [-0.64952717,  2.02023231, -0.51757746,  0.06987881,  0.88640526],\n",
       "       [-0.63220645,  1.08726535, -0.51757746,  0.34162973,  0.88640526],\n",
       "       [-0.61488572,  1.73316556, -0.47940803,  0.03105725, -1.12815215],\n",
       "       [-0.597565  , -1.49633548, -0.47940803,  0.34162973, -1.12815215],\n",
       "       [-0.58024427,  0.29783176, -0.47940803, -0.00776431,  0.88640526],\n",
       "       [-0.56292355,  2.091999  , -0.47940803, -0.08540743,  0.88640526],\n",
       "       [-0.54560282, -1.42456879, -0.47940803,  0.34162973, -1.12815215],\n",
       "       [-0.5282821 , -0.49160182, -0.47940803, -0.12422899,  0.88640526],\n",
       "       [-0.51096138,  2.23553238, -0.4412386 ,  0.18634349, -1.12815215],\n",
       "       [-0.49364065,  0.58489852, -0.4412386 , -0.3183368 ,  0.88640526],\n",
       "       [-0.47631993,  1.51786549, -0.40306917, -0.04658587,  0.88640526],\n",
       "       [-0.4589992 ,  1.51786549, -0.40306917,  0.22516505,  0.88640526],\n",
       "       [-0.44167848,  1.4460988 , -0.25039146, -0.12422899, -1.12815215],\n",
       "       [-0.42435775, -0.92220196, -0.25039146,  0.14752193, -1.12815215],\n",
       "       [-0.40703703,  0.44136514, -0.25039146,  0.10870037,  0.88640526],\n",
       "       [-0.3897163 ,  0.08253169, -0.25039146, -0.08540743, -1.12815215],\n",
       "       [-0.37239558, -1.13750203, -0.25039146,  0.06987881,  0.88640526],\n",
       "       [-0.35507485,  0.7284319 , -0.25039146, -0.3183368 ,  0.88640526],\n",
       "       [-0.33775413,  1.30256542, -0.25039146,  0.03105725, -1.12815215],\n",
       "       [-0.3204334 , -0.06100169, -0.25039146,  0.18634349, -1.12815215],\n",
       "       [-0.30311268,  2.02023231, -0.25039146, -0.35715836, -1.12815215],\n",
       "       [-0.28579196,  0.51313183, -0.25039146, -0.24069368,  0.88640526],\n",
       "       [-0.26847123, -1.28103541, -0.25039146,  0.26398661,  0.88640526],\n",
       "       [-0.25115051,  0.65666521, -0.25039146, -0.16305055, -1.12815215],\n",
       "       [-0.23382978,  1.15903204, -0.13588317,  0.30280817,  0.88640526],\n",
       "       [-0.21650906, -1.20926872, -0.13588317,  0.18634349,  0.88640526],\n",
       "       [-0.19918833, -0.34806844, -0.09771374,  0.38045129,  0.88640526],\n",
       "       [-0.18186761,  0.80019859, -0.09771374, -0.16305055,  0.88640526],\n",
       "       [-0.16454688,  2.091999  , -0.05954431,  0.18634349,  0.88640526],\n",
       "       [-0.14722616, -1.49633548, -0.05954431, -0.35715836, -1.12815215],\n",
       "       [-0.12990543,  0.65666521, -0.02137488, -0.04658587, -1.12815215],\n",
       "       [-0.11258471,  0.08253169, -0.02137488, -0.39597992,  0.88640526],\n",
       "       [-0.09526399, -0.49160182, -0.02137488, -0.3183368 ,  0.88640526],\n",
       "       [-0.07794326, -1.06573534, -0.02137488,  0.06987881, -1.12815215],\n",
       "       [-0.06062254,  0.58489852, -0.02137488, -0.12422899,  0.88640526],\n",
       "       [-0.04330181, -0.85043527, -0.02137488, -0.00776431,  0.88640526],\n",
       "       [-0.02598109,  0.65666521,  0.01679455, -0.3183368 , -1.12815215],\n",
       "       [-0.00866036, -1.3528021 ,  0.01679455, -0.04658587, -1.12815215],\n",
       "       [ 0.00866036, -1.13750203,  0.05496398, -0.35715836,  0.88640526],\n",
       "       [ 0.02598109,  0.7284319 ,  0.05496398, -0.08540743,  0.88640526],\n",
       "       [ 0.04330181,  2.02023231,  0.05496398,  0.34162973, -1.12815215],\n",
       "       [ 0.06062254, -0.92220196,  0.05496398,  0.18634349, -1.12815215],\n",
       "       [ 0.07794326,  0.7284319 ,  0.05496398,  0.22516505, -1.12815215],\n",
       "       [ 0.09526399, -1.28103541,  0.05496398, -0.3183368 ,  0.88640526],\n",
       "       [ 0.11258471,  1.94846562,  0.09313341, -0.00776431,  0.88640526],\n",
       "       [ 0.12990543,  1.08726535,  0.09313341, -0.16305055, -1.12815215],\n",
       "       [ 0.14722616,  2.091999  ,  0.09313341, -0.27951524, -1.12815215],\n",
       "       [ 0.16454688,  1.94846562,  0.09313341, -0.08540743, -1.12815215],\n",
       "       [ 0.18186761,  1.87669894,  0.09313341,  0.06987881, -1.12815215],\n",
       "       [ 0.19918833, -1.42456879,  0.09313341,  0.14752193,  0.88640526],\n",
       "       [ 0.21650906, -0.06100169,  0.13130284, -0.3183368 ,  0.88640526],\n",
       "       [ 0.23382978, -1.42456879,  0.13130284, -0.16305055, -1.12815215],\n",
       "       [ 0.25115051, -1.49633548,  0.16947227, -0.08540743,  0.88640526],\n",
       "       [ 0.26847123, -1.42456879,  0.16947227, -0.00776431,  0.88640526],\n",
       "       [ 0.28579196,  1.73316556,  0.16947227, -0.27951524,  0.88640526],\n",
       "       [ 0.30311268,  0.7284319 ,  0.16947227,  0.34162973,  0.88640526],\n",
       "       [ 0.3204334 ,  0.87196528,  0.24581112, -0.27951524,  0.88640526],\n",
       "       [ 0.33775413,  0.80019859,  0.24581112,  0.26398661,  0.88640526],\n",
       "       [ 0.35507485, -0.85043527,  0.24581112,  0.22516505, -1.12815215],\n",
       "       [ 0.37239558, -0.06100169,  0.24581112, -0.39597992,  0.88640526],\n",
       "       [ 0.3897163 ,  0.08253169,  0.32214998,  0.30280817,  0.88640526],\n",
       "       [ 0.40703703,  0.010765  ,  0.32214998,  1.58391968, -1.12815215],\n",
       "       [ 0.42435775, -1.13750203,  0.36031941, -0.82301709,  0.88640526],\n",
       "       [ 0.44167848, -0.56336851,  0.36031941,  1.04041783,  0.88640526],\n",
       "       [ 0.4589992 ,  0.29783176,  0.39848884, -0.59008772, -1.12815215],\n",
       "       [ 0.47631993,  0.08253169,  0.39848884,  1.73920592, -1.12815215],\n",
       "       [ 0.49364065,  1.4460988 ,  0.39848884, -1.52180518, -1.12815215],\n",
       "       [ 0.51096138, -0.06100169,  0.39848884,  0.96277471, -1.12815215],\n",
       "       [ 0.5282821 ,  0.58489852,  0.39848884, -1.5994483 , -1.12815215],\n",
       "       [ 0.54560282,  0.010765  ,  0.39848884,  0.96277471, -1.12815215],\n",
       "       [ 0.56292355, -0.99396865,  0.43665827, -0.62890928,  0.88640526],\n",
       "       [ 0.58024427, -0.56336851,  0.43665827,  0.80748846,  0.88640526],\n",
       "       [ 0.597565  , -1.3528021 ,  0.4748277 , -1.75473454, -1.12815215],\n",
       "       [ 0.61488572, -0.70690189,  0.4748277 ,  1.46745499,  0.88640526],\n",
       "       [ 0.63220645,  0.36959845,  0.4748277 , -1.67709142,  0.88640526],\n",
       "       [ 0.64952717, -0.49160182,  0.4748277 ,  0.88513158, -1.12815215],\n",
       "       [ 0.6668479 , -1.42456879,  0.51299713, -1.56062674, -1.12815215],\n",
       "       [ 0.68416862, -0.27630176,  0.51299713,  0.84631002,  0.88640526],\n",
       "       [ 0.70148935,  1.30256542,  0.55116656, -1.75473454,  0.88640526],\n",
       "       [ 0.71881007, -0.49160182,  0.55116656,  1.6615628 , -1.12815215],\n",
       "       [ 0.73613079, -0.77866858,  0.58933599, -0.39597992,  0.88640526],\n",
       "       [ 0.75345152, -0.49160182,  0.58933599,  1.42863343,  0.88640526],\n",
       "       [ 0.77077224, -0.99396865,  0.62750542, -1.48298362, -1.12815215],\n",
       "       [ 0.78809297, -0.77866858,  0.62750542,  1.81684904, -1.12815215],\n",
       "       [ 0.80541369,  0.65666521,  0.62750542, -0.55126616, -1.12815215],\n",
       "       [ 0.82273442, -0.49160182,  0.62750542,  0.92395314,  0.88640526],\n",
       "       [ 0.84005514, -0.34806844,  0.66567484, -1.09476801,  0.88640526],\n",
       "       [ 0.85737587, -0.34806844,  0.66567484,  1.54509812, -1.12815215],\n",
       "       [ 0.87469659,  0.29783176,  0.66567484, -1.28887582, -1.12815215],\n",
       "       [ 0.89201732,  0.010765  ,  0.66567484,  1.46745499, -1.12815215],\n",
       "       [ 0.90933804,  0.36959845,  0.66567484, -1.17241113,  0.88640526],\n",
       "       [ 0.92665877, -0.06100169,  0.66567484,  1.00159627,  0.88640526],\n",
       "       [ 0.94397949,  0.58489852,  0.66567484, -1.32769738,  0.88640526],\n",
       "       [ 0.96130021, -0.85043527,  0.66567484,  1.50627656,  0.88640526],\n",
       "       [ 0.97862094, -0.13276838,  0.66567484, -1.91002079, -1.12815215],\n",
       "       [ 0.99594166, -0.6351352 ,  0.66567484,  1.07923939,  0.88640526],\n",
       "       [ 1.01326239, -0.34806844,  0.66567484, -1.91002079, -1.12815215],\n",
       "       [ 1.03058311, -0.6351352 ,  0.66567484,  0.88513158,  0.88640526],\n",
       "       [ 1.04790384,  1.23079873,  0.70384427, -0.59008772,  0.88640526],\n",
       "       [ 1.06522456, -0.70690189,  0.70384427,  1.27334719,  0.88640526],\n",
       "       [ 1.08254529, -1.42456879,  0.78018313, -1.75473454, -1.12815215],\n",
       "       [ 1.09986601, -0.56336851,  0.78018313,  1.6615628 ,  0.88640526],\n",
       "       [ 1.11718674,  0.80019859,  0.93286085, -0.93948177, -1.12815215],\n",
       "       [ 1.13450746, -0.20453507,  0.93286085,  0.96277471,  0.88640526],\n",
       "       [ 1.15182818,  0.22606507,  0.97103028, -1.17241113, -1.12815215],\n",
       "       [ 1.16914891, -0.41983513,  0.97103028,  1.73920592,  0.88640526],\n",
       "       [ 1.18646963, -0.20453507,  1.00919971, -0.90066021,  0.88640526],\n",
       "       [ 1.20379036, -0.49160182,  1.00919971,  0.49691598, -1.12815215],\n",
       "       [ 1.22111108,  0.08253169,  1.00919971, -1.44416206, -1.12815215],\n",
       "       [ 1.23843181, -0.77866858,  1.00919971,  0.96277471, -1.12815215],\n",
       "       [ 1.25575253, -0.20453507,  1.00919971, -1.56062674, -1.12815215],\n",
       "       [ 1.27307326, -0.20453507,  1.00919971,  1.62274124, -1.12815215],\n",
       "       [ 1.29039398,  0.94373197,  1.04736914, -1.44416206,  0.88640526],\n",
       "       [ 1.30771471, -0.6351352 ,  1.04736914,  1.38981187,  0.88640526],\n",
       "       [ 1.32503543,  1.37433211,  1.04736914, -1.36651894, -1.12815215],\n",
       "       [ 1.34235616, -0.85043527,  1.04736914,  0.72984534, -1.12815215],\n",
       "       [ 1.35967688,  1.4460988 ,  1.23821628, -1.4053405 , -1.12815215],\n",
       "       [ 1.3769976 , -0.27630176,  1.23821628,  1.54509812, -1.12815215],\n",
       "       [ 1.39431833, -0.13276838,  1.390894  , -0.7065524 ,  0.88640526],\n",
       "       [ 1.41163905, -0.49160182,  1.390894  ,  1.38981187,  0.88640526],\n",
       "       [ 1.42895978,  0.51313183,  1.42906343, -1.36651894, -1.12815215],\n",
       "       [ 1.4462805 , -0.70690189,  1.42906343,  1.46745499,  0.88640526],\n",
       "       [ 1.46360123,  0.15429838,  1.46723286, -0.43480148,  0.88640526],\n",
       "       [ 1.48092195, -0.6351352 ,  1.46723286,  1.81684904, -1.12815215],\n",
       "       [ 1.49824268,  1.08726535,  1.54357172, -1.01712489,  0.88640526],\n",
       "       [ 1.5155634 , -0.77866858,  1.54357172,  0.69102378, -1.12815215],\n",
       "       [ 1.53288413,  0.15429838,  1.61991057, -1.28887582,  0.88640526],\n",
       "       [ 1.55020485, -0.20453507,  1.61991057,  1.35099031,  0.88640526],\n",
       "       [ 1.56752558, -0.34806844,  1.61991057, -1.05594645,  0.88640526],\n",
       "       [ 1.5848463 , -0.49160182,  1.61991057,  0.72984534,  0.88640526],\n",
       "       [ 1.60216702, -0.41983513,  2.00160487, -1.63826986, -1.12815215],\n",
       "       [ 1.61948775, -0.06100169,  2.00160487,  1.58391968,  0.88640526],\n",
       "       [ 1.63680847,  0.58489852,  2.26879087, -1.32769738,  0.88640526],\n",
       "       [ 1.6541292 , -0.27630176,  2.26879087,  1.11806095,  0.88640526],\n",
       "       [ 1.67144992,  0.44136514,  2.49780745, -0.86183865,  0.88640526],\n",
       "       [ 1.68877065, -0.49160182,  2.49780745,  0.92395314, -1.12815215],\n",
       "       [ 1.70609137, -0.49160182,  2.91767117, -1.25005425, -1.12815215],\n",
       "       [ 1.7234121 , -0.6351352 ,  2.91767117,  1.27334719, -1.12815215]])"
      ]
     },
     "execution_count": 43,
     "metadata": {},
     "output_type": "execute_result"
    }
   ],
   "source": [
    "data_scaled"
   ]
  },
  {
   "cell_type": "markdown",
   "metadata": {},
   "source": [
    "- elbow rule"
   ]
  },
  {
   "cell_type": "code",
   "execution_count": 36,
   "metadata": {},
   "outputs": [
    {
     "data": {
      "text/html": [
       "<div>\n",
       "<style scoped>\n",
       "    .dataframe tbody tr th:only-of-type {\n",
       "        vertical-align: middle;\n",
       "    }\n",
       "\n",
       "    .dataframe tbody tr th {\n",
       "        vertical-align: top;\n",
       "    }\n",
       "\n",
       "    .dataframe thead th {\n",
       "        text-align: right;\n",
       "    }\n",
       "</style>\n",
       "<table border=\"1\" class=\"dataframe\">\n",
       "  <thead>\n",
       "    <tr style=\"text-align: right;\">\n",
       "      <th></th>\n",
       "      <th>CustomerID</th>\n",
       "      <th>Genre</th>\n",
       "      <th>Age</th>\n",
       "      <th>Annual Income (k$)</th>\n",
       "      <th>Spending Score (1-100)</th>\n",
       "      <th>Sex</th>\n",
       "    </tr>\n",
       "  </thead>\n",
       "  <tbody>\n",
       "    <tr>\n",
       "      <th>0</th>\n",
       "      <td>1</td>\n",
       "      <td>Male</td>\n",
       "      <td>19</td>\n",
       "      <td>15</td>\n",
       "      <td>39</td>\n",
       "      <td>0</td>\n",
       "    </tr>\n",
       "    <tr>\n",
       "      <th>1</th>\n",
       "      <td>2</td>\n",
       "      <td>Male</td>\n",
       "      <td>21</td>\n",
       "      <td>15</td>\n",
       "      <td>81</td>\n",
       "      <td>0</td>\n",
       "    </tr>\n",
       "    <tr>\n",
       "      <th>2</th>\n",
       "      <td>3</td>\n",
       "      <td>Female</td>\n",
       "      <td>20</td>\n",
       "      <td>16</td>\n",
       "      <td>6</td>\n",
       "      <td>1</td>\n",
       "    </tr>\n",
       "    <tr>\n",
       "      <th>3</th>\n",
       "      <td>4</td>\n",
       "      <td>Female</td>\n",
       "      <td>23</td>\n",
       "      <td>16</td>\n",
       "      <td>77</td>\n",
       "      <td>1</td>\n",
       "    </tr>\n",
       "    <tr>\n",
       "      <th>4</th>\n",
       "      <td>5</td>\n",
       "      <td>Female</td>\n",
       "      <td>31</td>\n",
       "      <td>17</td>\n",
       "      <td>40</td>\n",
       "      <td>1</td>\n",
       "    </tr>\n",
       "  </tbody>\n",
       "</table>\n",
       "</div>"
      ],
      "text/plain": [
       "   CustomerID   Genre  Age  Annual Income (k$)  Spending Score (1-100) Sex\n",
       "0           1    Male   19                  15                      39   0\n",
       "1           2    Male   21                  15                      81   0\n",
       "2           3  Female   20                  16                       6   1\n",
       "3           4  Female   23                  16                      77   1\n",
       "4           5  Female   31                  17                      40   1"
      ]
     },
     "execution_count": 36,
     "metadata": {},
     "output_type": "execute_result"
    }
   ],
   "source": [
    "df.head()"
   ]
  },
  {
   "cell_type": "code",
   "execution_count": 41,
   "metadata": {
    "ExecuteTime": {
     "end_time": "2020-04-23T18:49:14.289468Z",
     "start_time": "2020-04-23T18:49:13.646392Z"
    }
   },
   "outputs": [],
   "source": [
    "%matplotlib inline\n",
    "def plot_distortion(X,max_clusters = 10):\n",
    "    distortions = []\n",
    "    for i in range(1, max_clusters +1):\n",
    "        km = KMeans(n_clusters=i,\n",
    "                    init='k-means++',\n",
    "                    n_init=10,\n",
    "                    random_state=0)\n",
    "        km.fit(X)\n",
    "        distortions.append(km.inertia_)\n",
    "\n",
    "    plt.plot(range(1,max_clusters +1), distortions, marker='o')\n",
    "    plt.xlabel('Spending Score (1-100)')\n",
    "    plt.ylabel('Annual Income (k$)')\n",
    "    plt.show() "
   ]
  },
  {
   "cell_type": "code",
   "execution_count": 42,
   "metadata": {},
   "outputs": [
    {
     "data": {
      "image/png": "[encoded data removed]",
      "text/plain": [
       "<Figure size 432x288 with 1 Axes>"
      ]
     },
     "metadata": {
      "needs_background": "light"
     },
     "output_type": "display_data"
    }
   ],
   "source": [
    "plot_distortion(data_scaled)"
   ]
  },
  {
   "cell_type": "markdown",
   "metadata": {},
   "source": [
    "* fit model with optimal number of clusters"
   ]
  },
  {
   "cell_type": "code",
   "execution_count": 58,
   "metadata": {
    "ExecuteTime": {
     "end_time": "2020-04-23T18:49:14.458083Z",
     "start_time": "2020-04-23T18:49:14.407738Z"
    }
   },
   "outputs": [
    {
     "name": "stdout",
     "output_type": "stream",
     "text": [
      "[[-0.48768665  1.11866328 -0.44004581 -0.39052064 -0.05791853]\n",
      " [-0.90562646 -0.9286097  -0.86859989  0.33053786  0.20289471]\n",
      " [ 1.02408784 -0.24490383  0.96005657  0.08104001 -0.09569148]]\n"
     ]
    }
   ],
   "source": [
    "#Fitting data into K-Means model with 3 clusters\n",
    "km=KMeans(n_clusters=3)\n",
    "km.fit(data_scaled)\n",
    "print(km.cluster_centers_)"
   ]
  },
  {
   "cell_type": "code",
   "execution_count": 59,
   "metadata": {},
   "outputs": [
    {
     "data": {
      "text/plain": [
       "2    80\n",
       "0    64\n",
       "1    56\n",
       "dtype: int64"
      ]
     },
     "execution_count": 59,
     "metadata": {},
     "output_type": "execute_result"
    }
   ],
   "source": [
    "# count of points in each cluster\n",
    "pd.Series(km.labels_).value_counts()"
   ]
  },
  {
   "cell_type": "code",
   "execution_count": 53,
   "metadata": {},
   "outputs": [],
   "source": [
    "y_km=km.fit_predict(data_scaled)"
   ]
  },
  {
   "cell_type": "markdown",
   "metadata": {},
   "source": [
    "* define function plot_clusters"
   ]
  },
  {
   "cell_type": "code",
   "execution_count": 56,
   "metadata": {
    "ExecuteTime": {
     "end_time": "2020-04-23T18:49:14.521508Z",
     "start_time": "2020-04-23T18:49:14.512112Z"
    }
   },
   "outputs": [],
   "source": [
    "# define function \n",
    "def plot_clusters(data_scaled,y_res, plt_cluster_centers = False):\n",
    "    X_centroids = []\n",
    "    Y_centroids = []\n",
    "\n",
    "    for cluster in set(y_res):\n",
    "        x = data_scaled[y_res == cluster,0]\n",
    "        y = data_scaled[y_res == cluster,1]\n",
    "        X_centroids.append(np.mean(x))\n",
    "        Y_centroids.append(np.mean(y))\n",
    "\n",
    "        plt.scatter(x,\n",
    "                    y,\n",
    "                    s=50,\n",
    "                    marker='s',\n",
    "                    label=f'cluster {cluster}')\n",
    "\n",
    "    if plt_cluster_centers:\n",
    "        plt.scatter(X_centroids,\n",
    "                    Y_centroids,\n",
    "                    marker='*',\n",
    "                    c='red',\n",
    "                    s=250,\n",
    "                    label='centroids')\n",
    "    plt.legend()\n",
    "    plt.grid()\n",
    "    plt.show()"
   ]
  },
  {
   "cell_type": "code",
   "execution_count": null,
   "metadata": {},
   "outputs": [],
   "source": []
  },
  {
   "cell_type": "markdown",
   "metadata": {},
   "source": [
    "* plot clusters"
   ]
  },
  {
   "cell_type": "code",
   "execution_count": 57,
   "metadata": {
    "ExecuteTime": {
     "end_time": "2020-04-23T18:49:14.989930Z",
     "start_time": "2020-04-23T18:49:14.719639Z"
    }
   },
   "outputs": [
    {
     "data": {
      "image/png": "[encoded data removed]",
      "text/plain": [
       "<Figure size 432x288 with 1 Axes>"
      ]
     },
     "metadata": {
      "needs_background": "light"
     },
     "output_type": "display_data"
    }
   ],
   "source": [
    "plot_clusters(data_scaled,y_km, plt_cluster_centers= True)"
   ]
  },
  {
   "cell_type": "code",
   "execution_count": null,
   "metadata": {},
   "outputs": [],
   "source": []
  },
  {
   "cell_type": "code",
   "execution_count": null,
   "metadata": {},
   "outputs": [],
   "source": []
  }
 ],
 "metadata": {
  "kernelspec": {
   "display_name": "Python 3",
   "language": "python",
   "name": "python3"
  },
  "language_info": {
   "codemirror_mode": {
    "name": "ipython",
    "version": 3
   },
   "file_extension": ".py",
   "mimetype": "text/x-python",
   "name": "python",
   "nbconvert_exporter": "python",
   "pygments_lexer": "ipython3",
   "version": "3.8.8"
  },
  "toc": {
   "base_numbering": 1,
   "nav_menu": {},
   "number_sections": true,
   "sideBar": true,
   "skip_h1_title": false,
   "title_cell": "Table of Contents",
   "title_sidebar": "Contents",
   "toc_cell": false,
   "toc_position": {},
   "toc_section_display": true,
   "toc_window_display": false
  },
  "varInspector": {
   "cols": {
    "lenName": 16,
    "lenType": 16,
    "lenVar": 40
   },
   "kernels_config": {
    "python": {
     "delete_cmd_postfix": "",
     "delete_cmd_prefix": "del ",
     "library": "var_list.py",
     "varRefreshCmd": "print(var_dic_list())"
    },
    "r": {
     "delete_cmd_postfix": ") ",
     "delete_cmd_prefix": "rm(",
     "library": "var_list.r",
     "varRefreshCmd": "cat(var_dic_list()) "
    }
   },
   "types_to_exclude": [
    "module",
    "function",
    "builtin_function_or_method",
    "instance",
    "_Feature"
   ],
   "window_display": false
  }
 },
 "nbformat": 4,
 "nbformat_minor": 4
}
