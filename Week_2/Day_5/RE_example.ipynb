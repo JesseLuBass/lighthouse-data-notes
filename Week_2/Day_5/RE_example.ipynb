{
 "cells": [
  {
   "cell_type": "code",
   "execution_count": 2,
   "id": "379e074f",
   "metadata": {},
   "outputs": [],
   "source": [
    "import re "
   ]
  },
  {
   "cell_type": "code",
   "execution_count": 4,
   "id": "e68b5b03",
   "metadata": {},
   "outputs": [],
   "source": [
    "regex = r\"([a-zA-Z]+) (\\d+)\""
   ]
  },
  {
   "cell_type": "code",
   "execution_count": 10,
   "id": "84e7eada",
   "metadata": {},
   "outputs": [
    {
     "name": "stdout",
     "output_type": "stream",
     "text": [
      "Match at index 0, 7\n",
      "June 24\n",
      "June\n",
      "24\n"
     ]
    }
   ],
   "source": [
    "if re.search(regex, 'June 24'):\n",
    "    match = re.search(regex, 'June 24')\n",
    "    print(f'Match at index {match.start()}, {match.end()}')\n",
    "    print (match.group(0))\n",
    "    print (match.group(1))\n",
    "    print (match.group(2))\n",
    "else:\n",
    "    print ('the pattern does not match')"
   ]
  },
  {
   "cell_type": "code",
   "execution_count": 11,
   "id": "9fd25f57",
   "metadata": {},
   "outputs": [],
   "source": [
    "regex = r'[a-zA-Z]+ \\d+'\n",
    "matches = re.findall(regex, 'June 24, August 9, Dec 12')"
   ]
  },
  {
   "cell_type": "code",
   "execution_count": 13,
   "id": "5b0a5a51",
   "metadata": {},
   "outputs": [
    {
     "name": "stdout",
     "output_type": "stream",
     "text": [
      "Full mtch: June 24\n",
      "Full mtch: August 9\n",
      "Full mtch: Dec 12\n"
     ]
    }
   ],
   "source": [
    "for match in matches: \n",
    "    print(f'Full mtch: {match}')"
   ]
  }
 ],
 "metadata": {
  "kernelspec": {
   "display_name": "Python 3",
   "language": "python",
   "name": "python3"
  },
  "language_info": {
   "codemirror_mode": {
    "name": "ipython",
    "version": 3
   },
   "file_extension": ".py",
   "mimetype": "text/x-python",
   "name": "python",
   "nbconvert_exporter": "python",
   "pygments_lexer": "ipython3",
   "version": "3.8.8"
  }
 },
 "nbformat": 4,
 "nbformat_minor": 5
}
