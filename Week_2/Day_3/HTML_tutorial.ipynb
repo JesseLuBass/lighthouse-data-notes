{
 "cells": [
  {
   "cell_type": "code",
   "execution_count": 1,
   "id": "9efe6b91",
   "metadata": {},
   "outputs": [],
   "source": [
    "import pandas as pd\n",
    "import requests"
   ]
  },
  {
   "cell_type": "code",
   "execution_count": 2,
   "id": "0d11376d",
   "metadata": {},
   "outputs": [
    {
     "data": {
      "text/plain": [
       "<Response [200]>"
      ]
     },
     "execution_count": 2,
     "metadata": {},
     "output_type": "execute_result"
    }
   ],
   "source": [
    "url = 'https://www.worldcoinindex.com/'\n",
    "crypto_url = requests.get(url)\n",
    "crypto_url"
   ]
  },
  {
   "cell_type": "code",
   "execution_count": 3,
   "id": "681b328c",
   "metadata": {},
   "outputs": [],
   "source": [
    "body = crypto_url.text"
   ]
  },
  {
   "cell_type": "code",
   "execution_count": 4,
   "id": "d2e04fb1",
   "metadata": {},
   "outputs": [
    {
     "name": "stdout",
     "output_type": "stream",
     "text": [
      "<class 'list'>\n",
      "1\n"
     ]
    }
   ],
   "source": [
    "crypto_data = pd.read_html(body)\n",
    "print(type(crypto_data))\n",
    "print(len(crypto_data))"
   ]
  },
  {
   "cell_type": "code",
   "execution_count": 5,
   "id": "bc5553a0",
   "metadata": {},
   "outputs": [
    {
     "data": {
      "text/html": [
       "<div>\n",
       "<style scoped>\n",
       "    .dataframe tbody tr th:only-of-type {\n",
       "        vertical-align: middle;\n",
       "    }\n",
       "\n",
       "    .dataframe tbody tr th {\n",
       "        vertical-align: top;\n",
       "    }\n",
       "\n",
       "    .dataframe thead th {\n",
       "        text-align: right;\n",
       "    }\n",
       "</style>\n",
       "<table border=\"1\" class=\"dataframe\">\n",
       "  <thead>\n",
       "    <tr style=\"text-align: right;\">\n",
       "      <th></th>\n",
       "      <th>#</th>\n",
       "      <th>Unnamed: 1</th>\n",
       "      <th>Name</th>\n",
       "      <th>Ticker</th>\n",
       "      <th>Last price</th>\n",
       "      <th>%</th>\n",
       "      <th>24 high</th>\n",
       "      <th>24 low</th>\n",
       "      <th>Price Charts 7d</th>\n",
       "      <th>24 volume</th>\n",
       "      <th># Coins</th>\n",
       "      <th>Market cap</th>\n",
       "    </tr>\n",
       "  </thead>\n",
       "  <tbody>\n",
       "    <tr>\n",
       "      <th>0</th>\n",
       "      <td>1</td>\n",
       "      <td>NaN</td>\n",
       "      <td>Dogecoin</td>\n",
       "      <td>DOGE</td>\n",
       "      <td>$ 0.607398</td>\n",
       "      <td>+12.72%</td>\n",
       "      <td>$ 0.694956</td>\n",
       "      <td>$ 0.535421</td>\n",
       "      <td>NaN</td>\n",
       "      <td>$ 39.06B</td>\n",
       "      <td>129.40B</td>\n",
       "      <td>$ 78.59B</td>\n",
       "    </tr>\n",
       "    <tr>\n",
       "      <th>1</th>\n",
       "      <td>2</td>\n",
       "      <td>NaN</td>\n",
       "      <td>Ethereum</td>\n",
       "      <td>ETH</td>\n",
       "      <td>$ 3,399.99</td>\n",
       "      <td>+4.77%</td>\n",
       "      <td>$ 3,414.83</td>\n",
       "      <td>$ 3,211.77</td>\n",
       "      <td>NaN</td>\n",
       "      <td>$ 30.10B</td>\n",
       "      <td>115.75M</td>\n",
       "      <td>$ 393.55B</td>\n",
       "    </tr>\n",
       "    <tr>\n",
       "      <th>2</th>\n",
       "      <td>3</td>\n",
       "      <td>NaN</td>\n",
       "      <td>Bitcoin</td>\n",
       "      <td>BTC</td>\n",
       "      <td>$ 57,484</td>\n",
       "      <td>+7.89%</td>\n",
       "      <td>$ 57,929</td>\n",
       "      <td>$ 53,010</td>\n",
       "      <td>NaN</td>\n",
       "      <td>$ 22.93B</td>\n",
       "      <td>18.70M</td>\n",
       "      <td>$ 1.07T</td>\n",
       "    </tr>\n",
       "    <tr>\n",
       "      <th>3</th>\n",
       "      <td>4</td>\n",
       "      <td>NaN</td>\n",
       "      <td>Ethereumclassic</td>\n",
       "      <td>ETC</td>\n",
       "      <td>$ 90.23</td>\n",
       "      <td>+30.78%</td>\n",
       "      <td>$ 94.65</td>\n",
       "      <td>$ 67.54</td>\n",
       "      <td>NaN</td>\n",
       "      <td>$ 19.78B</td>\n",
       "      <td>109.78M</td>\n",
       "      <td>$ 9.90B</td>\n",
       "    </tr>\n",
       "    <tr>\n",
       "      <th>4</th>\n",
       "      <td>5</td>\n",
       "      <td>NaN</td>\n",
       "      <td>Ripple</td>\n",
       "      <td>XRP</td>\n",
       "      <td>$ 1.56</td>\n",
       "      <td>+12.51%</td>\n",
       "      <td>$ 1.61</td>\n",
       "      <td>$ 1.37</td>\n",
       "      <td>NaN</td>\n",
       "      <td>$ 10.17B</td>\n",
       "      <td>46.03B</td>\n",
       "      <td>$ 71.95B</td>\n",
       "    </tr>\n",
       "  </tbody>\n",
       "</table>\n",
       "</div>"
      ],
      "text/plain": [
       "   # Unnamed: 1             Name Ticker  Last price        %     24 high  \\\n",
       "0  1        NaN         Dogecoin   DOGE  $ 0.607398  +12.72%  $ 0.694956   \n",
       "1  2        NaN         Ethereum    ETH  $ 3,399.99   +4.77%  $ 3,414.83   \n",
       "2  3        NaN          Bitcoin    BTC    $ 57,484   +7.89%    $ 57,929   \n",
       "3  4        NaN  Ethereumclassic    ETC     $ 90.23  +30.78%     $ 94.65   \n",
       "4  5        NaN           Ripple    XRP      $ 1.56  +12.51%      $ 1.61   \n",
       "\n",
       "       24 low Price Charts 7d 24 volume  # Coins Market cap  \n",
       "0  $ 0.535421             NaN  $ 39.06B  129.40B   $ 78.59B  \n",
       "1  $ 3,211.77             NaN  $ 30.10B  115.75M  $ 393.55B  \n",
       "2    $ 53,010             NaN  $ 22.93B   18.70M    $ 1.07T  \n",
       "3     $ 67.54             NaN  $ 19.78B  109.78M    $ 9.90B  \n",
       "4      $ 1.37             NaN  $ 10.17B   46.03B   $ 71.95B  "
      ]
     },
     "execution_count": 5,
     "metadata": {},
     "output_type": "execute_result"
    }
   ],
   "source": [
    "crypto_data = crypto_data[0]\n",
    "crypto_data.head()"
   ]
  },
  {
   "cell_type": "code",
   "execution_count": null,
   "id": "8e9b29f2",
   "metadata": {},
   "outputs": [],
   "source": []
  }
 ],
 "metadata": {
  "kernelspec": {
   "display_name": "Python 3",
   "language": "python",
   "name": "python3"
  },
  "language_info": {
   "codemirror_mode": {
    "name": "ipython",
    "version": 3
   },
   "file_extension": ".py",
   "mimetype": "text/x-python",
   "name": "python",
   "nbconvert_exporter": "python",
   "pygments_lexer": "ipython3",
   "version": "3.8.8"
  }
 },
 "nbformat": 4,
 "nbformat_minor": 5
}
