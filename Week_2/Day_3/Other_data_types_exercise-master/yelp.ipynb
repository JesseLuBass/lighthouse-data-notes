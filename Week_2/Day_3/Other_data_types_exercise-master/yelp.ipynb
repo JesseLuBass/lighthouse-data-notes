{
 "cells": [
  {
   "cell_type": "code",
   "execution_count": 9,
   "id": "f7ca6997",
   "metadata": {},
   "outputs": [],
   "source": [
    "\n",
    "def count_all(string):\n",
    "    lst = list(string)\n",
    "    letters = [x for x in lst if isinstance(x, str)]\n",
    "    digits = [x for x in lst if isinstance(x, int)]\n",
    "    return lst, letters, digits"
   ]
  },
  {
   "cell_type": "code",
   "execution_count": 10,
   "id": "2c5fcd68",
   "metadata": {},
   "outputs": [
    {
     "data": {
      "text/plain": [
       "(['H', '3', 'l', 'l', '0', ' ', 'W', 'o', 'r', '1', 'd'],\n",
       " ['H', '3', 'l', 'l', '0', ' ', 'W', 'o', 'r', '1', 'd'],\n",
       " [])"
      ]
     },
     "execution_count": 10,
     "metadata": {},
     "output_type": "execute_result"
    }
   ],
   "source": [
    "count_all(\"H3ll0 Wor1d\")"
   ]
  },
  {
   "cell_type": "code",
   "execution_count": 15,
   "id": "974ecb09",
   "metadata": {},
   "outputs": [],
   "source": [
    "def count_all(string):\n",
    "    numbers = sum(c.isdigit() for c in string)\n",
    "    letters = sum(c.isalpha() for c in string)\n",
    "    dict = {}\n",
    "    dict['LETTERS'] = letters\n",
    "    dict['DIGITS'] = numbers\n",
    "    return dict"
   ]
  },
  {
   "cell_type": "code",
   "execution_count": 16,
   "id": "b4f3d307",
   "metadata": {},
   "outputs": [
    {
     "data": {
      "text/plain": [
       "{'LETTERS': 7, 'DIGITS': 3}"
      ]
     },
     "execution_count": 16,
     "metadata": {},
     "output_type": "execute_result"
    }
   ],
   "source": [
    "count_all(\"H3ll0 Wor1d\")"
   ]
  },
  {
   "cell_type": "code",
   "execution_count": null,
   "id": "6c810e97",
   "metadata": {},
   "outputs": [],
   "source": []
  }
 ],
 "metadata": {
  "kernelspec": {
   "display_name": "Python 3",
   "language": "python",
   "name": "python3"
  },
  "language_info": {
   "codemirror_mode": {
    "name": "ipython",
    "version": 3
   },
   "file_extension": ".py",
   "mimetype": "text/x-python",
   "name": "python",
   "nbconvert_exporter": "python",
   "pygments_lexer": "ipython3",
   "version": "3.8.8"
  }
 },
 "nbformat": 4,
 "nbformat_minor": 5
}
