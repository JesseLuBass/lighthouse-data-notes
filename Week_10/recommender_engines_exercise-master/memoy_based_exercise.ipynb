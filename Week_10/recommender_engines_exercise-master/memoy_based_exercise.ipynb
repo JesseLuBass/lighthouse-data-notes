{
 "metadata": {
  "language_info": {
   "codemirror_mode": {
    "name": "ipython",
    "version": 3
   },
   "file_extension": ".py",
   "mimetype": "text/x-python",
   "name": "python",
   "nbconvert_exporter": "python",
   "pygments_lexer": "ipython3",
   "version": "3.8.8"
  },
  "orig_nbformat": 4,
  "kernelspec": {
   "name": "python3",
   "display_name": "Python 3.8.8 64-bit ('base': conda)"
  },
  "interpreter": {
   "hash": "b3ba2566441a7c06988d0923437866b63cedc61552a5af99d1f4fb67d367b25f"
  }
 },
 "nbformat": 4,
 "nbformat_minor": 2,
 "cells": [
  {
   "cell_type": "code",
   "execution_count": 9,
   "metadata": {},
   "outputs": [],
   "source": [
    "# import pandas\n",
    "import pandas as pd\n",
    "from sklearn.neighbors import NearestNeighbors\n",
    "import matplotlib.pyplot as plt\n",
    "import seaborn as sns"
   ]
  },
  {
   "cell_type": "code",
   "execution_count": 2,
   "metadata": {},
   "outputs": [
    {
     "output_type": "stream",
     "name": "stderr",
     "text": [
      "b'Skipping line 6452: expected 8 fields, saw 9\\nSkipping line 43667: expected 8 fields, saw 10\\nSkipping line 51751: expected 8 fields, saw 9\\n'\n",
      "b'Skipping line 92038: expected 8 fields, saw 9\\nSkipping line 104319: expected 8 fields, saw 9\\nSkipping line 121768: expected 8 fields, saw 9\\n'\n",
      "b'Skipping line 144058: expected 8 fields, saw 9\\nSkipping line 150789: expected 8 fields, saw 9\\nSkipping line 157128: expected 8 fields, saw 9\\nSkipping line 180189: expected 8 fields, saw 9\\nSkipping line 185738: expected 8 fields, saw 9\\n'\n",
      "b'Skipping line 209388: expected 8 fields, saw 9\\nSkipping line 220626: expected 8 fields, saw 9\\nSkipping line 227933: expected 8 fields, saw 11\\nSkipping line 228957: expected 8 fields, saw 10\\nSkipping line 245933: expected 8 fields, saw 9\\nSkipping line 251296: expected 8 fields, saw 9\\nSkipping line 259941: expected 8 fields, saw 9\\nSkipping line 261529: expected 8 fields, saw 9\\n'\n",
      "C:\\ProgramData\\Anaconda3\\lib\\site-packages\\IPython\\core\\interactiveshell.py:3165: DtypeWarning: Columns (3) have mixed types.Specify dtype option on import or set low_memory=False.\n",
      "  has_raised = await self.run_ast_nodes(code_ast.body, cell_name,\n"
     ]
    }
   ],
   "source": [
    "book_ratings = pd.read_csv('BX-Book-Ratings.csv',sep=\";\", encoding=\"latin\")\n",
    "books = pd.read_csv('BX-Books.csv',sep=\";\", encoding=\"latin\", error_bad_lines=False)"
   ]
  },
  {
   "cell_type": "code",
   "execution_count": 3,
   "metadata": {},
   "outputs": [
    {
     "output_type": "execute_result",
     "data": {
      "text/plain": [
       "   User-ID        ISBN  Book-Rating\n",
       "0   276725  034545104X            0\n",
       "1   276726  0155061224            5\n",
       "2   276727  0446520802            0\n",
       "3   276729  052165615X            3\n",
       "4   276729  0521795028            6"
      ],
      "text/html": "<div>\n<style scoped>\n    .dataframe tbody tr th:only-of-type {\n        vertical-align: middle;\n    }\n\n    .dataframe tbody tr th {\n        vertical-align: top;\n    }\n\n    .dataframe thead th {\n        text-align: right;\n    }\n</style>\n<table border=\"1\" class=\"dataframe\">\n  <thead>\n    <tr style=\"text-align: right;\">\n      <th></th>\n      <th>User-ID</th>\n      <th>ISBN</th>\n      <th>Book-Rating</th>\n    </tr>\n  </thead>\n  <tbody>\n    <tr>\n      <th>0</th>\n      <td>276725</td>\n      <td>034545104X</td>\n      <td>0</td>\n    </tr>\n    <tr>\n      <th>1</th>\n      <td>276726</td>\n      <td>0155061224</td>\n      <td>5</td>\n    </tr>\n    <tr>\n      <th>2</th>\n      <td>276727</td>\n      <td>0446520802</td>\n      <td>0</td>\n    </tr>\n    <tr>\n      <th>3</th>\n      <td>276729</td>\n      <td>052165615X</td>\n      <td>3</td>\n    </tr>\n    <tr>\n      <th>4</th>\n      <td>276729</td>\n      <td>0521795028</td>\n      <td>6</td>\n    </tr>\n  </tbody>\n</table>\n</div>"
     },
     "metadata": {},
     "execution_count": 3
    }
   ],
   "source": [
    "book_ratings.head()"
   ]
  },
  {
   "cell_type": "code",
   "execution_count": 4,
   "metadata": {},
   "outputs": [
    {
     "output_type": "execute_result",
     "data": {
      "text/plain": [
       "Index(['ISBN', 'Book-Title', 'Book-Author', 'Year-Of-Publication', 'Publisher',\n",
       "       'Image-URL-S', 'Image-URL-M', 'Image-URL-L'],\n",
       "      dtype='object')"
      ]
     },
     "metadata": {},
     "execution_count": 4
    }
   ],
   "source": [
    "books.columns"
   ]
  },
  {
   "cell_type": "code",
   "execution_count": 5,
   "metadata": {},
   "outputs": [],
   "source": [
    "books_name = books[['ISBN','Book-Title']]"
   ]
  },
  {
   "cell_type": "code",
   "execution_count": 6,
   "metadata": {},
   "outputs": [],
   "source": [
    "book_data = pd.merge(book_ratings, books_name, on='ISBN')"
   ]
  },
  {
   "cell_type": "code",
   "execution_count": 7,
   "metadata": {},
   "outputs": [
    {
     "output_type": "execute_result",
     "data": {
      "text/plain": [
       "   User-ID        ISBN  Book-Rating            Book-Title\n",
       "0   276725  034545104X            0  Flesh Tones: A Novel\n",
       "1     2313  034545104X            5  Flesh Tones: A Novel\n",
       "2     6543  034545104X            0  Flesh Tones: A Novel\n",
       "3     8680  034545104X            5  Flesh Tones: A Novel\n",
       "4    10314  034545104X            9  Flesh Tones: A Novel"
      ],
      "text/html": "<div>\n<style scoped>\n    .dataframe tbody tr th:only-of-type {\n        vertical-align: middle;\n    }\n\n    .dataframe tbody tr th {\n        vertical-align: top;\n    }\n\n    .dataframe thead th {\n        text-align: right;\n    }\n</style>\n<table border=\"1\" class=\"dataframe\">\n  <thead>\n    <tr style=\"text-align: right;\">\n      <th></th>\n      <th>User-ID</th>\n      <th>ISBN</th>\n      <th>Book-Rating</th>\n      <th>Book-Title</th>\n    </tr>\n  </thead>\n  <tbody>\n    <tr>\n      <th>0</th>\n      <td>276725</td>\n      <td>034545104X</td>\n      <td>0</td>\n      <td>Flesh Tones: A Novel</td>\n    </tr>\n    <tr>\n      <th>1</th>\n      <td>2313</td>\n      <td>034545104X</td>\n      <td>5</td>\n      <td>Flesh Tones: A Novel</td>\n    </tr>\n    <tr>\n      <th>2</th>\n      <td>6543</td>\n      <td>034545104X</td>\n      <td>0</td>\n      <td>Flesh Tones: A Novel</td>\n    </tr>\n    <tr>\n      <th>3</th>\n      <td>8680</td>\n      <td>034545104X</td>\n      <td>5</td>\n      <td>Flesh Tones: A Novel</td>\n    </tr>\n    <tr>\n      <th>4</th>\n      <td>10314</td>\n      <td>034545104X</td>\n      <td>9</td>\n      <td>Flesh Tones: A Novel</td>\n    </tr>\n  </tbody>\n</table>\n</div>"
     },
     "metadata": {},
     "execution_count": 7
    }
   ],
   "source": [
    "book_data.head()"
   ]
  },
  {
   "cell_type": "code",
   "execution_count": 8,
   "metadata": {},
   "outputs": [
    {
     "output_type": "execute_result",
     "data": {
      "text/plain": [
       "(1031136, 4)"
      ]
     },
     "metadata": {},
     "execution_count": 8
    }
   ],
   "source": [
    "book_data.shape"
   ]
  },
  {
   "cell_type": "code",
   "execution_count": 12,
   "metadata": {},
   "outputs": [],
   "source": [
    "plot_data = book_data.groupby('Book-Title')['Book-Rating'].count().sort_values(ascending=False)"
   ]
  },
  {
   "cell_type": "code",
   "execution_count": null,
   "metadata": {},
   "outputs": [],
   "source": [
    "ratings_mean_count = pd.DataFrame(book_data.groupby('Book-Title'))"
   ]
  },
  {
   "cell_type": "code",
   "execution_count": 17,
   "metadata": {},
   "outputs": [],
   "source": [
    "book = book_data[:100000]"
   ]
  },
  {
   "cell_type": "code",
   "execution_count": 19,
   "metadata": {},
   "outputs": [
    {
     "output_type": "execute_result",
     "data": {
      "text/plain": [
       "(100000, 4)"
      ]
     },
     "metadata": {},
     "execution_count": 19
    }
   ],
   "source": [
    "book.shape"
   ]
  },
  {
   "cell_type": "code",
   "execution_count": 20,
   "metadata": {},
   "outputs": [
    {
     "output_type": "execute_result",
     "data": {
      "text/plain": [
       "Index(['User-ID', 'ISBN', 'Book-Rating', 'Book-Title'], dtype='object')"
      ]
     },
     "metadata": {},
     "execution_count": 20
    }
   ],
   "source": [
    "book.columns"
   ]
  },
  {
   "cell_type": "code",
   "execution_count": 24,
   "metadata": {},
   "outputs": [],
   "source": [
    "user_book_rating = book.pivot_table(index='User-ID', columns='Book-Title', values='Book-Rating')"
   ]
  },
  {
   "cell_type": "code",
   "execution_count": 25,
   "metadata": {},
   "outputs": [
    {
     "output_type": "execute_result",
     "data": {
      "text/plain": [
       "Book-Title  007 El Mundo Nunca Es Suficiente  \\\n",
       "User-ID                                        \n",
       "9                                        NaN   \n",
       "14                                       NaN   \n",
       "23                                       NaN   \n",
       "26                                       NaN   \n",
       "39                                       NaN   \n",
       "\n",
       "Book-Title  01-01-00: The Novel of the Millennium  101 Dalmatians  \\\n",
       "User-ID                                                             \n",
       "9                                             NaN             NaN   \n",
       "14                                            NaN             NaN   \n",
       "23                                            NaN             NaN   \n",
       "26                                            NaN             NaN   \n",
       "39                                            NaN             NaN   \n",
       "\n",
       "Book-Title  101 Experiments in the Philosophy of Everyday Life  \\\n",
       "User-ID                                                          \n",
       "9                                                         NaN    \n",
       "14                                                        NaN    \n",
       "23                                                        NaN    \n",
       "26                                                        NaN    \n",
       "39                                                        NaN    \n",
       "\n",
       "Book-Title  101 Great Resumes  1421 : The Year China Discovered America  \\\n",
       "User-ID                                                                   \n",
       "9                         NaN                                       NaN   \n",
       "14                        NaN                                       NaN   \n",
       "23                        NaN                                       NaN   \n",
       "26                        NaN                                       NaN   \n",
       "39                        NaN                                       NaN   \n",
       "\n",
       "Book-Title  1st to Die: A Novel  21 Dog Years : Doing Time @ Amazon.com  \\\n",
       "User-ID                                                                   \n",
       "9                           NaN                                     NaN   \n",
       "14                          NaN                                     NaN   \n",
       "23                          NaN                                     NaN   \n",
       "26                          NaN                                     NaN   \n",
       "39                          NaN                                     NaN   \n",
       "\n",
       "Book-Title  24 Hours  28 Barbary Lane : A \\Tales of the City\\\" Omnibus\"  ...  \\\n",
       "User-ID                                                                  ...   \n",
       "9                NaN                                                NaN  ...   \n",
       "14               NaN                                                NaN  ...   \n",
       "23               NaN                                                NaN  ...   \n",
       "26               NaN                                                NaN  ...   \n",
       "39               NaN                                                NaN  ...   \n",
       "\n",
       "Book-Title  You're Not Elected, Charlie Brown  \\\n",
       "User-ID                                         \n",
       "9                                         NaN   \n",
       "14                                        NaN   \n",
       "23                                        NaN   \n",
       "26                                        NaN   \n",
       "39                                        NaN   \n",
       "\n",
       "Book-Title  Your Finances in Changing Times (The Christian Financial Concepts Series)  \\\n",
       "User-ID                                                                                 \n",
       "9                                                         NaN                           \n",
       "14                                                        NaN                           \n",
       "23                                                        NaN                           \n",
       "26                                                        NaN                           \n",
       "39                                                        NaN                           \n",
       "\n",
       "Book-Title  Your Life in Your Hands: Understanding, Preventing and Overcoming Breast Cancer  \\\n",
       "User-ID                                                                                       \n",
       "9                                                         NaN                                 \n",
       "14                                                        NaN                                 \n",
       "23                                                        NaN                                 \n",
       "26                                                        NaN                                 \n",
       "39                                                        NaN                                 \n",
       "\n",
       "Book-Title  Your Personal Trainer  Your Second Child  \\\n",
       "User-ID                                                \n",
       "9                             NaN                NaN   \n",
       "14                            NaN                NaN   \n",
       "23                            NaN                NaN   \n",
       "26                            NaN                NaN   \n",
       "39                            NaN                NaN   \n",
       "\n",
       "Book-Title  Zen Essence : The Science of Freedom (Shambhala Pocket Classics)  \\\n",
       "User-ID                                                                        \n",
       "9                                                         NaN                  \n",
       "14                                                        NaN                  \n",
       "23                                                        NaN                  \n",
       "26                                                        NaN                  \n",
       "39                                                        NaN                  \n",
       "\n",
       "Book-Title  Zentak, tome 1 : La Passe des Argonautes  Zuiderkruis: Roman  \\\n",
       "User-ID                                                                    \n",
       "9                                                NaN                 NaN   \n",
       "14                                               NaN                 NaN   \n",
       "23                                               NaN                 NaN   \n",
       "26                                               NaN                 NaN   \n",
       "39                                               NaN                 NaN   \n",
       "\n",
       "Book-Title  \\ Lamb to the Slaughter and Other Stories (Penguin 60s S.)\"  \\\n",
       "User-ID                                                                   \n",
       "9                                                         NaN             \n",
       "14                                                        NaN             \n",
       "23                                                        NaN             \n",
       "26                                                        NaN             \n",
       "39                                                        NaN             \n",
       "\n",
       "Book-Title  Â¡No bajes al sÃ³tano! (EscalofrÃ­os No. 2)  \n",
       "User-ID                                                  \n",
       "9                                                   NaN  \n",
       "14                                                  NaN  \n",
       "23                                                  NaN  \n",
       "26                                                  NaN  \n",
       "39                                                  NaN  \n",
       "\n",
       "[5 rows x 2530 columns]"
      ],
      "text/html": "<div>\n<style scoped>\n    .dataframe tbody tr th:only-of-type {\n        vertical-align: middle;\n    }\n\n    .dataframe tbody tr th {\n        vertical-align: top;\n    }\n\n    .dataframe thead th {\n        text-align: right;\n    }\n</style>\n<table border=\"1\" class=\"dataframe\">\n  <thead>\n    <tr style=\"text-align: right;\">\n      <th>Book-Title</th>\n      <th>007 El Mundo Nunca Es Suficiente</th>\n      <th>01-01-00: The Novel of the Millennium</th>\n      <th>101 Dalmatians</th>\n      <th>101 Experiments in the Philosophy of Everyday Life</th>\n      <th>101 Great Resumes</th>\n      <th>1421 : The Year China Discovered America</th>\n      <th>1st to Die: A Novel</th>\n      <th>21 Dog Years : Doing Time @ Amazon.com</th>\n      <th>24 Hours</th>\n      <th>28 Barbary Lane : A \\Tales of the City\\\" Omnibus\"</th>\n      <th>...</th>\n      <th>You're Not Elected, Charlie Brown</th>\n      <th>Your Finances in Changing Times (The Christian Financial Concepts Series)</th>\n      <th>Your Life in Your Hands: Understanding, Preventing and Overcoming Breast Cancer</th>\n      <th>Your Personal Trainer</th>\n      <th>Your Second Child</th>\n      <th>Zen Essence : The Science of Freedom (Shambhala Pocket Classics)</th>\n      <th>Zentak, tome 1 : La Passe des Argonautes</th>\n      <th>Zuiderkruis: Roman</th>\n      <th>\\ Lamb to the Slaughter and Other Stories (Penguin 60s S.)\"</th>\n      <th>Â¡No bajes al sÃ³tano! (EscalofrÃ­os No. 2)</th>\n    </tr>\n    <tr>\n      <th>User-ID</th>\n      <th></th>\n      <th></th>\n      <th></th>\n      <th></th>\n      <th></th>\n      <th></th>\n      <th></th>\n      <th></th>\n      <th></th>\n      <th></th>\n      <th></th>\n      <th></th>\n      <th></th>\n      <th></th>\n      <th></th>\n      <th></th>\n      <th></th>\n      <th></th>\n      <th></th>\n      <th></th>\n      <th></th>\n    </tr>\n  </thead>\n  <tbody>\n    <tr>\n      <th>9</th>\n      <td>NaN</td>\n      <td>NaN</td>\n      <td>NaN</td>\n      <td>NaN</td>\n      <td>NaN</td>\n      <td>NaN</td>\n      <td>NaN</td>\n      <td>NaN</td>\n      <td>NaN</td>\n      <td>NaN</td>\n      <td>...</td>\n      <td>NaN</td>\n      <td>NaN</td>\n      <td>NaN</td>\n      <td>NaN</td>\n      <td>NaN</td>\n      <td>NaN</td>\n      <td>NaN</td>\n      <td>NaN</td>\n      <td>NaN</td>\n      <td>NaN</td>\n    </tr>\n    <tr>\n      <th>14</th>\n      <td>NaN</td>\n      <td>NaN</td>\n      <td>NaN</td>\n      <td>NaN</td>\n      <td>NaN</td>\n      <td>NaN</td>\n      <td>NaN</td>\n      <td>NaN</td>\n      <td>NaN</td>\n      <td>NaN</td>\n      <td>...</td>\n      <td>NaN</td>\n      <td>NaN</td>\n      <td>NaN</td>\n      <td>NaN</td>\n      <td>NaN</td>\n      <td>NaN</td>\n      <td>NaN</td>\n      <td>NaN</td>\n      <td>NaN</td>\n      <td>NaN</td>\n    </tr>\n    <tr>\n      <th>23</th>\n      <td>NaN</td>\n      <td>NaN</td>\n      <td>NaN</td>\n      <td>NaN</td>\n      <td>NaN</td>\n      <td>NaN</td>\n      <td>NaN</td>\n      <td>NaN</td>\n      <td>NaN</td>\n      <td>NaN</td>\n      <td>...</td>\n      <td>NaN</td>\n      <td>NaN</td>\n      <td>NaN</td>\n      <td>NaN</td>\n      <td>NaN</td>\n      <td>NaN</td>\n      <td>NaN</td>\n      <td>NaN</td>\n      <td>NaN</td>\n      <td>NaN</td>\n    </tr>\n    <tr>\n      <th>26</th>\n      <td>NaN</td>\n      <td>NaN</td>\n      <td>NaN</td>\n      <td>NaN</td>\n      <td>NaN</td>\n      <td>NaN</td>\n      <td>NaN</td>\n      <td>NaN</td>\n      <td>NaN</td>\n      <td>NaN</td>\n      <td>...</td>\n      <td>NaN</td>\n      <td>NaN</td>\n      <td>NaN</td>\n      <td>NaN</td>\n      <td>NaN</td>\n      <td>NaN</td>\n      <td>NaN</td>\n      <td>NaN</td>\n      <td>NaN</td>\n      <td>NaN</td>\n    </tr>\n    <tr>\n      <th>39</th>\n      <td>NaN</td>\n      <td>NaN</td>\n      <td>NaN</td>\n      <td>NaN</td>\n      <td>NaN</td>\n      <td>NaN</td>\n      <td>NaN</td>\n      <td>NaN</td>\n      <td>NaN</td>\n      <td>NaN</td>\n      <td>...</td>\n      <td>NaN</td>\n      <td>NaN</td>\n      <td>NaN</td>\n      <td>NaN</td>\n      <td>NaN</td>\n      <td>NaN</td>\n      <td>NaN</td>\n      <td>NaN</td>\n      <td>NaN</td>\n      <td>NaN</td>\n    </tr>\n  </tbody>\n</table>\n<p>5 rows × 2530 columns</p>\n</div>"
     },
     "metadata": {},
     "execution_count": 25
    }
   ],
   "source": [
    "user_book_rating.head()"
   ]
  },
  {
   "cell_type": "code",
   "execution_count": 26,
   "metadata": {},
   "outputs": [
    {
     "output_type": "execute_result",
     "data": {
      "text/plain": [
       "User-ID\n",
       "9        NaN\n",
       "14       NaN\n",
       "23       NaN\n",
       "26       NaN\n",
       "39       NaN\n",
       "          ..\n",
       "278819   NaN\n",
       "278825   NaN\n",
       "278832   NaN\n",
       "278843   NaN\n",
       "278854   NaN\n",
       "Name: 101 Dalmatians, Length: 27324, dtype: float64"
      ]
     },
     "metadata": {},
     "execution_count": 26
    }
   ],
   "source": [
    "user_book_rating['101 Dalmatians']"
   ]
  },
  {
   "cell_type": "code",
   "execution_count": 27,
   "metadata": {},
   "outputs": [
    {
     "output_type": "stream",
     "name": "stderr",
     "text": [
      "C:\\Users\\jesse\\AppData\\Roaming\\Python\\Python38\\site-packages\\numpy\\lib\\function_base.py:2551: RuntimeWarning: Degrees of freedom <= 0 for slice\n  c = cov(x, y, rowvar)\nC:\\Users\\jesse\\AppData\\Roaming\\Python\\Python38\\site-packages\\numpy\\lib\\function_base.py:2480: RuntimeWarning: divide by zero encountered in true_divide\n  c *= np.true_divide(1, fact)\n"
     ]
    },
    {
     "output_type": "execute_result",
     "data": {
      "text/plain": [
       "                     Correlation\n",
       "Book-Title                      \n",
       "101 Dalmatians          1.000000\n",
       "1st to Die: A Novel    -0.333333\n",
       "A Walk to Remember     -0.407309\n",
       "Aladdin                 1.000000\n",
       "Are You My Mother?      1.000000"
      ],
      "text/html": "<div>\n<style scoped>\n    .dataframe tbody tr th:only-of-type {\n        vertical-align: middle;\n    }\n\n    .dataframe tbody tr th {\n        vertical-align: top;\n    }\n\n    .dataframe thead th {\n        text-align: right;\n    }\n</style>\n<table border=\"1\" class=\"dataframe\">\n  <thead>\n    <tr style=\"text-align: right;\">\n      <th></th>\n      <th>Correlation</th>\n    </tr>\n    <tr>\n      <th>Book-Title</th>\n      <th></th>\n    </tr>\n  </thead>\n  <tbody>\n    <tr>\n      <th>101 Dalmatians</th>\n      <td>1.000000</td>\n    </tr>\n    <tr>\n      <th>1st to Die: A Novel</th>\n      <td>-0.333333</td>\n    </tr>\n    <tr>\n      <th>A Walk to Remember</th>\n      <td>-0.407309</td>\n    </tr>\n    <tr>\n      <th>Aladdin</th>\n      <td>1.000000</td>\n    </tr>\n    <tr>\n      <th>Are You My Mother?</th>\n      <td>1.000000</td>\n    </tr>\n  </tbody>\n</table>\n</div>"
     },
     "metadata": {},
     "execution_count": 27
    }
   ],
   "source": [
    "books_like_101_dalmatians = user_book_rating.corrwith(user_book_rating['101 Dalmatians'])\n",
    "\n",
    "corr_forrest_gump = pd.DataFrame(books_like_101_dalmatians, columns=['Correlation'])\n",
    "corr_forrest_gump.dropna(inplace=True)\n",
    "corr_forrest_gump.head()"
   ]
  },
  {
   "cell_type": "code",
   "execution_count": 29,
   "metadata": {},
   "outputs": [
    {
     "output_type": "execute_result",
     "data": {
      "text/plain": [
       "                                                    Correlation\n",
       "Book-Title                                                     \n",
       "The Divine Secrets of the Ya-Ya Sisterhood: A N...          1.0\n",
       "The Grand and Wonderful Day (Little Golden Book)            1.0\n",
       "Hop on Pop (I Can Read It All by Myself Beginne...          1.0\n",
       "Eeyore, You're the Best (Disney's Pooh)                     1.0\n",
       "Dumbo                                                       1.0\n",
       "Divine Secrets of the Ya-Ya Sisterhood: A Novel             1.0\n",
       "Disney's: The Little Mermaid (Disney's Wonderfu...          1.0\n",
       "Disney's The Hunchback of Notre Dame                        1.0\n",
       "Denial (Frank Clevenger)                                    1.0\n",
       "G Is for Gumshoe (Kinsey Millhone Mysteries (Pa...          1.0\n",
       "Girl with a Pearl Earring                                   1.0\n",
       "Clifford's Sports Day                                       1.0\n",
       "The King of Torts                                           1.0\n",
       "Chocolat                                                    1.0\n",
       "The Promise                                                 1.0"
      ],
      "text/html": "<div>\n<style scoped>\n    .dataframe tbody tr th:only-of-type {\n        vertical-align: middle;\n    }\n\n    .dataframe tbody tr th {\n        vertical-align: top;\n    }\n\n    .dataframe thead th {\n        text-align: right;\n    }\n</style>\n<table border=\"1\" class=\"dataframe\">\n  <thead>\n    <tr style=\"text-align: right;\">\n      <th></th>\n      <th>Correlation</th>\n    </tr>\n    <tr>\n      <th>Book-Title</th>\n      <th></th>\n    </tr>\n  </thead>\n  <tbody>\n    <tr>\n      <th>The Divine Secrets of the Ya-Ya Sisterhood: A Novel</th>\n      <td>1.0</td>\n    </tr>\n    <tr>\n      <th>The Grand and Wonderful Day (Little Golden Book)</th>\n      <td>1.0</td>\n    </tr>\n    <tr>\n      <th>Hop on Pop (I Can Read It All by Myself Beginner Books)</th>\n      <td>1.0</td>\n    </tr>\n    <tr>\n      <th>Eeyore, You're the Best (Disney's Pooh)</th>\n      <td>1.0</td>\n    </tr>\n    <tr>\n      <th>Dumbo</th>\n      <td>1.0</td>\n    </tr>\n    <tr>\n      <th>Divine Secrets of the Ya-Ya Sisterhood: A Novel</th>\n      <td>1.0</td>\n    </tr>\n    <tr>\n      <th>Disney's: The Little Mermaid (Disney's Wonderful World of Reading)</th>\n      <td>1.0</td>\n    </tr>\n    <tr>\n      <th>Disney's The Hunchback of Notre Dame</th>\n      <td>1.0</td>\n    </tr>\n    <tr>\n      <th>Denial (Frank Clevenger)</th>\n      <td>1.0</td>\n    </tr>\n    <tr>\n      <th>G Is for Gumshoe (Kinsey Millhone Mysteries (Paperback))</th>\n      <td>1.0</td>\n    </tr>\n    <tr>\n      <th>Girl with a Pearl Earring</th>\n      <td>1.0</td>\n    </tr>\n    <tr>\n      <th>Clifford's Sports Day</th>\n      <td>1.0</td>\n    </tr>\n    <tr>\n      <th>The King of Torts</th>\n      <td>1.0</td>\n    </tr>\n    <tr>\n      <th>Chocolat</th>\n      <td>1.0</td>\n    </tr>\n    <tr>\n      <th>The Promise</th>\n      <td>1.0</td>\n    </tr>\n  </tbody>\n</table>\n</div>"
     },
     "metadata": {},
     "execution_count": 29
    }
   ],
   "source": [
    "corr_forrest_gump.sort_values('Correlation', ascending=False).head(15)"
   ]
  },
  {
   "cell_type": "code",
   "execution_count": null,
   "metadata": {},
   "outputs": [],
   "source": []
  }
 ]
}