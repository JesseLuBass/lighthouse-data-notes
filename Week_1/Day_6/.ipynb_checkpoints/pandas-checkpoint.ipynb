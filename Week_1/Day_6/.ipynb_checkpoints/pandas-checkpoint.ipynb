{
 "cells": [
  {
   "cell_type": "code",
   "execution_count": 1,
   "id": "c517cb97",
   "metadata": {},
   "outputs": [],
   "source": [
    "import numpy as np \n",
    "import pandas as pd \n",
    "\n"
   ]
  },
  {
   "cell_type": "code",
   "execution_count": 2,
   "id": "3bef1cab",
   "metadata": {},
   "outputs": [],
   "source": [
    "data = ['a','b','c','d','e']"
   ]
  },
  {
   "cell_type": "code",
   "execution_count": 3,
   "id": "8d74c007",
   "metadata": {},
   "outputs": [],
   "source": [
    "s = pd.Series(np.random.randn(5), index=data)"
   ]
  },
  {
   "cell_type": "code",
   "execution_count": 4,
   "id": "3c978977",
   "metadata": {},
   "outputs": [
    {
     "data": {
      "text/plain": [
       "a    0.258031\n",
       "b    2.007093\n",
       "c   -0.409703\n",
       "d    1.317201\n",
       "e    0.224081\n",
       "dtype: float64"
      ]
     },
     "execution_count": 4,
     "metadata": {},
     "output_type": "execute_result"
    }
   ],
   "source": [
    "s"
   ]
  },
  {
   "cell_type": "code",
   "execution_count": 5,
   "id": "4bf2e663",
   "metadata": {},
   "outputs": [
    {
     "data": {
      "text/plain": [
       "Index(['a', 'b', 'c', 'd', 'e'], dtype='object')"
      ]
     },
     "execution_count": 5,
     "metadata": {},
     "output_type": "execute_result"
    }
   ],
   "source": [
    "s.index"
   ]
  },
  {
   "cell_type": "code",
   "execution_count": 6,
   "id": "fd881bf7",
   "metadata": {},
   "outputs": [
    {
     "data": {
      "text/plain": [
       "0    0.803740\n",
       "1    0.720031\n",
       "2    0.122217\n",
       "3    0.818910\n",
       "4    0.676975\n",
       "dtype: float64"
      ]
     },
     "execution_count": 6,
     "metadata": {},
     "output_type": "execute_result"
    }
   ],
   "source": [
    "pd.Series(np.random.rand(5))"
   ]
  },
  {
   "cell_type": "code",
   "execution_count": 7,
   "id": "871de13e",
   "metadata": {},
   "outputs": [
    {
     "data": {
      "text/plain": [
       "b    1\n",
       "a    0\n",
       "c    2\n",
       "dtype: int64"
      ]
     },
     "execution_count": 7,
     "metadata": {},
     "output_type": "execute_result"
    }
   ],
   "source": [
    "d = {'b':1, 'a':0, 'c':2}\n",
    "\n",
    "pd.Series(d)"
   ]
  },
  {
   "cell_type": "code",
   "execution_count": 8,
   "id": "7786aae9",
   "metadata": {},
   "outputs": [
    {
     "data": {
      "text/plain": [
       "a    4\n",
       "b    4\n",
       "c    4\n",
       "d    4\n",
       "e    4\n",
       "dtype: int64"
      ]
     },
     "execution_count": 8,
     "metadata": {},
     "output_type": "execute_result"
    }
   ],
   "source": [
    "pd.Series(4, index = data)"
   ]
  },
  {
   "cell_type": "code",
   "execution_count": 9,
   "id": "2239fb32",
   "metadata": {},
   "outputs": [
    {
     "data": {
      "text/plain": [
       "0.2580312165723718"
      ]
     },
     "execution_count": 9,
     "metadata": {},
     "output_type": "execute_result"
    }
   ],
   "source": [
    "s[0]"
   ]
  },
  {
   "cell_type": "code",
   "execution_count": 10,
   "id": "a5bb33ea",
   "metadata": {},
   "outputs": [
    {
     "data": {
      "text/plain": [
       "a    0.258031\n",
       "b    2.007093\n",
       "c   -0.409703\n",
       "dtype: float64"
      ]
     },
     "execution_count": 10,
     "metadata": {},
     "output_type": "execute_result"
    }
   ],
   "source": [
    "s[:3]"
   ]
  },
  {
   "cell_type": "code",
   "execution_count": 11,
   "id": "9415c5d8",
   "metadata": {},
   "outputs": [
    {
     "data": {
      "text/plain": [
       "0.2580312165723718"
      ]
     },
     "execution_count": 11,
     "metadata": {},
     "output_type": "execute_result"
    }
   ],
   "source": [
    "s.median()"
   ]
  },
  {
   "cell_type": "code",
   "execution_count": 12,
   "id": "b7ed2690",
   "metadata": {},
   "outputs": [
    {
     "data": {
      "text/plain": [
       "b    2.007093\n",
       "d    1.317201\n",
       "dtype: float64"
      ]
     },
     "execution_count": 12,
     "metadata": {},
     "output_type": "execute_result"
    }
   ],
   "source": [
    "s[s > s.median()]"
   ]
  },
  {
   "cell_type": "code",
   "execution_count": 13,
   "id": "d4fa20e8",
   "metadata": {},
   "outputs": [
    {
     "data": {
      "text/plain": [
       "a    1.294379\n",
       "b    7.441652\n",
       "c    0.663847\n",
       "d    3.732958\n",
       "e    1.251173\n",
       "dtype: float64"
      ]
     },
     "execution_count": 13,
     "metadata": {},
     "output_type": "execute_result"
    }
   ],
   "source": [
    "np.exp(s)"
   ]
  },
  {
   "cell_type": "code",
   "execution_count": 14,
   "id": "bba7c03b",
   "metadata": {},
   "outputs": [
    {
     "data": {
      "text/plain": [
       "array([ 0.25803122,  2.00709293, -0.40970319,  1.31720086,  0.22408127])"
      ]
     },
     "execution_count": 14,
     "metadata": {},
     "output_type": "execute_result"
    }
   ],
   "source": [
    "s.to_numpy()"
   ]
  },
  {
   "cell_type": "code",
   "execution_count": 15,
   "id": "89acb0e0",
   "metadata": {},
   "outputs": [],
   "source": [
    "s['e'] = 12"
   ]
  },
  {
   "cell_type": "code",
   "execution_count": 16,
   "id": "2988052c",
   "metadata": {},
   "outputs": [
    {
     "data": {
      "text/plain": [
       "a     0.258031\n",
       "b     2.007093\n",
       "c    -0.409703\n",
       "d     1.317201\n",
       "e    12.000000\n",
       "dtype: float64"
      ]
     },
     "execution_count": 16,
     "metadata": {},
     "output_type": "execute_result"
    }
   ],
   "source": [
    "s"
   ]
  },
  {
   "cell_type": "raw",
   "id": "415d8c5c",
   "metadata": {},
   "source": [
    "rs['f']"
   ]
  },
  {
   "cell_type": "code",
   "execution_count": 18,
   "id": "9cdec874",
   "metadata": {},
   "outputs": [
    {
     "data": {
      "text/plain": [
       "a     0.516062\n",
       "b     4.014186\n",
       "c    -0.819406\n",
       "d     2.634402\n",
       "e    24.000000\n",
       "dtype: float64"
      ]
     },
     "execution_count": 18,
     "metadata": {},
     "output_type": "execute_result"
    }
   ],
   "source": [
    "s + s"
   ]
  },
  {
   "cell_type": "code",
   "execution_count": 20,
   "id": "cf4fbdf5",
   "metadata": {},
   "outputs": [
    {
     "data": {
      "text/plain": [
       "a         NaN\n",
       "b    4.014186\n",
       "c   -0.819406\n",
       "d    2.634402\n",
       "e         NaN\n",
       "dtype: float64"
      ]
     },
     "execution_count": 20,
     "metadata": {},
     "output_type": "execute_result"
    }
   ],
   "source": [
    "s1 = s[1:]\n",
    "s2 = s[:-1]\n",
    "s1 + s2 "
   ]
  },
  {
   "cell_type": "code",
   "execution_count": null,
   "id": "cdc28a70",
   "metadata": {},
   "outputs": [],
   "source": []
  }
 ],
 "metadata": {
  "kernelspec": {
   "display_name": "Python 3",
   "language": "python",
   "name": "python3"
  },
  "language_info": {
   "codemirror_mode": {
    "name": "ipython",
    "version": 3
   },
   "file_extension": ".py",
   "mimetype": "text/x-python",
   "name": "python",
   "nbconvert_exporter": "python",
   "pygments_lexer": "ipython3",
   "version": "3.8.8"
  }
 },
 "nbformat": 4,
 "nbformat_minor": 5
}
