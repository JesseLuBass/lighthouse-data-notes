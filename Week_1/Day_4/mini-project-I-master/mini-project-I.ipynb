{
 "cells": [
  {
   "cell_type": "markdown",
   "metadata": {},
   "source": [
    "# Mini-Project I\n",
    "During this project, we will practice handling of complex lists and dictionaries in Python. Plus, we will learn how to work with API documentation. Don't be afraid to search for the information in the [**documentation**](https://api.tfl.gov.uk/swagger/ui/index.html?url=/swagger/docs/v1#!/AccidentStats/AccidentStats_Get).\n",
    "\n",
    "Let's go to the tasks, we have some parsing to do :)!!"
   ]
  },
  {
   "cell_type": "code",
   "execution_count": null,
   "metadata": {},
   "outputs": [],
   "source": []
  },
  {
   "cell_type": "code",
   "execution_count": 1,
   "metadata": {},
   "outputs": [],
   "source": [
    "# import packages we need (remember what packages we used yesterday during the API session)\n",
    "# IMPORT HERE\n",
    "import os\n",
    "import requests  \n",
    "import json \n",
    "from IPython.display import JSON\n"
   ]
  },
  {
   "cell_type": "code",
   "execution_count": null,
   "metadata": {},
   "outputs": [],
   "source": []
  },
  {
   "cell_type": "code",
   "execution_count": null,
   "metadata": {},
   "outputs": [],
   "source": []
  },
  {
   "cell_type": "markdown",
   "metadata": {},
   "source": [
    "## Demo"
   ]
  },
  {
   "cell_type": "code",
   "execution_count": null,
   "metadata": {},
   "outputs": [],
   "source": [
    "# don't forget package os\n",
    "app_id = os.environ[\"<your app id name>\"]\n",
    "app_key = os.environ[\"<your app key name>\"]\n",
    "url_append = f'?app_id={app_id}&app_key={app_key}' "
   ]
  },
  {
   "cell_type": "code",
   "execution_count": null,
   "metadata": {},
   "outputs": [],
   "source": [
    "print(url_append)"
   ]
  },
  {
   "cell_type": "code",
   "execution_count": 2,
   "metadata": {},
   "outputs": [],
   "source": [
    "# URL\n",
    "url = \"https://api.tfl.gov.uk/AirQuality\""
   ]
  },
  {
   "cell_type": "code",
   "execution_count": 3,
   "metadata": {},
   "outputs": [],
   "source": [
    "# We send the request to the API\n",
    "# NOTE: if you don't have your APP_KEY, run this without the url_append\n",
    "res = requests.get(url)"
   ]
  },
  {
   "cell_type": "code",
   "execution_count": 4,
   "metadata": {},
   "outputs": [
    {
     "data": {
      "text/plain": [
       "200"
      ]
     },
     "execution_count": 4,
     "metadata": {},
     "output_type": "execute_result"
    }
   ],
   "source": [
    "# We can check if the request was successful\n",
    "res.status_code"
   ]
  },
  {
   "cell_type": "code",
   "execution_count": 5,
   "metadata": {},
   "outputs": [
    {
     "data": {
      "text/plain": [
       "{'$id': '1',\n",
       " '$type': 'Tfl.Api.Presentation.Entities.LondonAirForecast, Tfl.Api.Presentation.Entities',\n",
       " 'updatePeriod': 'hourly',\n",
       " 'updateFrequency': '1',\n",
       " 'forecastURL': 'http://londonair.org.uk/forecast',\n",
       " 'disclaimerText': 'This forecast is intended to provide information on expected pollution levels in areas of significant public exposure. It may not apply in very specific locations close to unusually strong or short-lived local sources of pollution.',\n",
       " 'currentForecast': [{'$id': '2',\n",
       "   '$type': 'Tfl.Api.Presentation.Entities.CurrentForecast, Tfl.Api.Presentation.Entities',\n",
       "   'forecastType': 'Current',\n",
       "   'forecastID': '31559',\n",
       "   'toDate': '2021-01-05T23:59:00Z',\n",
       "   'forecastBand': 'Low',\n",
       "   'forecastSummary': 'Low air pollution forecast valid from Thursday 29 April 12:00 to end of Saturday 1 May GMT',\n",
       "   'nO2Band': 'Low',\n",
       "   'o3Band': 'Low',\n",
       "   'pM10Band': 'Low',\n",
       "   'pM25Band': 'Low',\n",
       "   'sO2Band': 'Low',\n",
       "   'forecastText': 'Rather cool-feeling as Greater London is affected by a flow of northerly air coming down across the North Sea from Scandinavia. Given this path, little by way of imported pollution is expected and a steady breeze should give good dispersion of local emissions. &lt;br/&gt; &lt;br/&gt;Air pollution is expected to remain &#39;Low&#39; for the following pollutants:&lt;br/&gt;&lt;br/&gt;Nitrogen Dioxide&lt;br/&gt;Ozone&lt;br/&gt;PM10 Particulate&lt;br/&gt;PM2.5 Particulate&lt;br/&gt;Sulphur Dioxide&lt;br/&gt;&lt;br/&gt;&lt;br/&gt;&lt;br/&gt;&lt;br/&gt;&lt;br/&gt;&lt;br/&gt;&lt;br/&gt;&lt;br/&gt;'},\n",
       "  {'$id': '3',\n",
       "   '$type': 'Tfl.Api.Presentation.Entities.CurrentForecast, Tfl.Api.Presentation.Entities',\n",
       "   'forecastType': 'Future',\n",
       "   'forecastID': '31559',\n",
       "   'toDate': '2021-01-05T23:59:00Z',\n",
       "   'forecastBand': 'Low',\n",
       "   'forecastSummary': 'Low air pollution forecast valid from Thursday 29 April 12:00 to end of Saturday 1 May GMT',\n",
       "   'nO2Band': 'Low',\n",
       "   'o3Band': 'Low',\n",
       "   'pM10Band': 'Low',\n",
       "   'pM25Band': 'Low',\n",
       "   'sO2Band': 'Low',\n",
       "   'forecastText': 'Rather cool-feeling as Greater London is affected by a flow of northerly air coming down across the North Sea from Scandinavia. Given this path, little by way of imported pollution is expected and a steady breeze should give good dispersion of local emissions. &lt;br/&gt; &lt;br/&gt;Air pollution is expected to remain &#39;Low&#39; for the following pollutants:&lt;br/&gt;&lt;br/&gt;Nitrogen Dioxide&lt;br/&gt;Ozone&lt;br/&gt;PM10 Particulate&lt;br/&gt;PM2.5 Particulate&lt;br/&gt;Sulphur Dioxide&lt;br/&gt;&lt;br/&gt;&lt;br/&gt;&lt;br/&gt;&lt;br/&gt;&lt;br/&gt;&lt;br/&gt;&lt;br/&gt;&lt;br/&gt;'}]}"
      ]
     },
     "execution_count": 5,
     "metadata": {},
     "output_type": "execute_result"
    }
   ],
   "source": [
    "# We can export the information that was returned using method .json()\n",
    "result=res.json()\n",
    "result"
   ]
  },
  {
   "cell_type": "code",
   "execution_count": 6,
   "metadata": {},
   "outputs": [
    {
     "data": {
      "application/json": {
       "$id": "1",
       "$type": "Tfl.Api.Presentation.Entities.LondonAirForecast, Tfl.Api.Presentation.Entities",
       "currentForecast": [
        {
         "$id": "2",
         "$type": "Tfl.Api.Presentation.Entities.CurrentForecast, Tfl.Api.Presentation.Entities",
         "forecastBand": "Low",
         "forecastID": "31559",
         "forecastSummary": "Low air pollution forecast valid from Thursday 29 April 12:00 to end of Saturday 1 May GMT",
         "forecastText": "Rather cool-feeling as Greater London is affected by a flow of northerly air coming down across the North Sea from Scandinavia. Given this path, little by way of imported pollution is expected and a steady breeze should give good dispersion of local emissions. &lt;br/&gt; &lt;br/&gt;Air pollution is expected to remain &#39;Low&#39; for the following pollutants:&lt;br/&gt;&lt;br/&gt;Nitrogen Dioxide&lt;br/&gt;Ozone&lt;br/&gt;PM10 Particulate&lt;br/&gt;PM2.5 Particulate&lt;br/&gt;Sulphur Dioxide&lt;br/&gt;&lt;br/&gt;&lt;br/&gt;&lt;br/&gt;&lt;br/&gt;&lt;br/&gt;&lt;br/&gt;&lt;br/&gt;&lt;br/&gt;",
         "forecastType": "Current",
         "nO2Band": "Low",
         "o3Band": "Low",
         "pM10Band": "Low",
         "pM25Band": "Low",
         "sO2Band": "Low",
         "toDate": "2021-01-05T23:59:00Z"
        },
        {
         "$id": "3",
         "$type": "Tfl.Api.Presentation.Entities.CurrentForecast, Tfl.Api.Presentation.Entities",
         "forecastBand": "Low",
         "forecastID": "31559",
         "forecastSummary": "Low air pollution forecast valid from Thursday 29 April 12:00 to end of Saturday 1 May GMT",
         "forecastText": "Rather cool-feeling as Greater London is affected by a flow of northerly air coming down across the North Sea from Scandinavia. Given this path, little by way of imported pollution is expected and a steady breeze should give good dispersion of local emissions. &lt;br/&gt; &lt;br/&gt;Air pollution is expected to remain &#39;Low&#39; for the following pollutants:&lt;br/&gt;&lt;br/&gt;Nitrogen Dioxide&lt;br/&gt;Ozone&lt;br/&gt;PM10 Particulate&lt;br/&gt;PM2.5 Particulate&lt;br/&gt;Sulphur Dioxide&lt;br/&gt;&lt;br/&gt;&lt;br/&gt;&lt;br/&gt;&lt;br/&gt;&lt;br/&gt;&lt;br/&gt;&lt;br/&gt;&lt;br/&gt;",
         "forecastType": "Future",
         "nO2Band": "Low",
         "o3Band": "Low",
         "pM10Band": "Low",
         "pM25Band": "Low",
         "sO2Band": "Low",
         "toDate": "2021-01-05T23:59:00Z"
        }
       ],
       "disclaimerText": "This forecast is intended to provide information on expected pollution levels in areas of significant public exposure. It may not apply in very specific locations close to unusually strong or short-lived local sources of pollution.",
       "forecastURL": "http://londonair.org.uk/forecast",
       "updateFrequency": "1",
       "updatePeriod": "hourly"
      },
      "text/plain": [
       "<IPython.core.display.JSON object>"
      ]
     },
     "execution_count": 6,
     "metadata": {
      "application/json": {
       "expanded": false,
       "root": "root"
      }
     },
     "output_type": "execute_result"
    }
   ],
   "source": [
    "JSON(result)"
   ]
  },
  {
   "cell_type": "markdown",
   "metadata": {},
   "source": [
    "## Task\n",
    "Parse the dictionary and print the AirQuality predictions for tomorrow"
   ]
  },
  {
   "cell_type": "code",
   "execution_count": 7,
   "metadata": {},
   "outputs": [
    {
     "data": {
      "text/plain": [
       "'Rather cool-feeling as Greater London is affected by a flow of northerly air coming down across the North Sea from Scandinavia. Given this path, little by way of imported pollution is expected and a steady breeze should give good dispersion of local emissions. &lt;br/&gt; &lt;br/&gt;Air pollution is expected to remain &#39;Low&#39; for the following pollutants:&lt;br/&gt;&lt;br/&gt;Nitrogen Dioxide&lt;br/&gt;Ozone&lt;br/&gt;PM10 Particulate&lt;br/&gt;PM2.5 Particulate&lt;br/&gt;Sulphur Dioxide&lt;br/&gt;&lt;br/&gt;&lt;br/&gt;&lt;br/&gt;&lt;br/&gt;&lt;br/&gt;&lt;br/&gt;&lt;br/&gt;&lt;br/&gt;'"
      ]
     },
     "execution_count": 7,
     "metadata": {},
     "output_type": "execute_result"
    }
   ],
   "source": [
    "(result['currentForecast'][1]['forecastText'])"
   ]
  },
  {
   "cell_type": "code",
   "execution_count": null,
   "metadata": {},
   "outputs": [],
   "source": []
  },
  {
   "cell_type": "markdown",
   "metadata": {},
   "source": [
    "## Task\n",
    "What are the different modes of transport which are operated by Transfer for London? How many of modes do they have?\n",
    "\n",
    "Print the list with different modes of transport, plus their count. Example output:\n",
    "```\n",
    "[bus, cable-car,.....]\n",
    "Number of different modes of transport is: xyz\n",
    "```\n",
    "\n",
    "We need to search the documentation for correct request."
   ]
  },
  {
   "cell_type": "code",
   "execution_count": 16,
   "metadata": {},
   "outputs": [
    {
     "data": {
      "text/plain": [
       "['bus',\n",
       " 'cable-car',\n",
       " 'coach',\n",
       " 'cycle',\n",
       " 'cycle-hire',\n",
       " 'dlr',\n",
       " 'interchange-keep-sitting',\n",
       " 'interchange-secure',\n",
       " 'national-rail',\n",
       " 'overground',\n",
       " 'replacement-bus',\n",
       " 'river-bus',\n",
       " 'river-tour',\n",
       " 'taxi',\n",
       " 'tflrail',\n",
       " 'tram',\n",
       " 'tube',\n",
       " 'walking']"
      ]
     },
     "execution_count": 16,
     "metadata": {},
     "output_type": "execute_result"
    }
   ],
   "source": [
    "res = requests.get('https://api.tfl.gov.uk/Line/Meta/Modes')\n",
    "#res.json()\n",
    "lst = json.loads(res.content)\n",
    "lst1= []\n",
    "for i in lst:\n",
    "    lst1.append(i['modeName'])\n",
    "lst1"
   ]
  },
  {
   "cell_type": "code",
   "execution_count": 18,
   "metadata": {},
   "outputs": [
    {
     "data": {
      "text/plain": [
       "['bus',\n",
       " 'cable-car',\n",
       " 'cycle-hire',\n",
       " 'dlr',\n",
       " 'overground',\n",
       " 'replacement-bus',\n",
       " 'river-bus',\n",
       " 'river-tour',\n",
       " 'tflrail',\n",
       " 'tram',\n",
       " 'tube']"
      ]
     },
     "execution_count": 18,
     "metadata": {},
     "output_type": "execute_result"
    }
   ],
   "source": [
    "\n",
    "lst2 = []\n",
    "for i in lst:\n",
    "   \n",
    "    if i['isTflService'] == True:\n",
    "        lst2.append(i)\n",
    "lst3= []\n",
    "for i in lst2:\n",
    "    lst3.append(i['modeName'])\n",
    "lst3\n",
    "    "
   ]
  },
  {
   "cell_type": "markdown",
   "metadata": {},
   "source": [
    "## Task\n",
    "How many BikePoints in London are operated by Transfor for London? How many docks are in **all** BikePoints? There is the information for empty and full docks for each BikePoint."
   ]
  },
  {
   "cell_type": "code",
   "execution_count": 57,
   "metadata": {},
   "outputs": [
    {
     "data": {
      "text/plain": [
       "788"
      ]
     },
     "execution_count": 57,
     "metadata": {},
     "output_type": "execute_result"
    }
   ],
   "source": [
    "bikePoint = requests.get('https://api.tfl.gov.uk/BikePoint/')\n",
    "bikePointJson = bikePoint.json()\n",
    "JSON(bikePointJson[0]['additionalProperties'][8])\n",
    "len(bikePointJson)"
   ]
  },
  {
   "cell_type": "code",
   "execution_count": 49,
   "metadata": {},
   "outputs": [
    {
     "data": {
      "text/plain": [
       "11195"
      ]
     },
     "execution_count": 49,
     "metadata": {},
     "output_type": "execute_result"
    }
   ],
   "source": [
    "emptyDocks = []\n",
    "for i in bikePointJson:\n",
    "    emptyDocks.append(i['additionalProperties'][7]['value'])\n",
    "\n",
    "for i in range(len(emptyDocks)):\n",
    "    emptyDocks[i] = int(emptyDocks[i])\n",
    "\n",
    "sum(emptyDocks)\n"
   ]
  },
  {
   "cell_type": "code",
   "execution_count": 75,
   "metadata": {},
   "outputs": [
    {
     "data": {
      "text/plain": [
       "9487"
      ]
     },
     "execution_count": 75,
     "metadata": {},
     "output_type": "execute_result"
    }
   ],
   "source": [
    "fullDocks = []\n",
    "for i in bikePointJson:\n",
    "    fullDocks.append(i['additionalProperties'][6]['value'])\n",
    "\n",
    "for i in range(len(fullDocks)):\n",
    "    fullDocks[i] = int(fullDocks[i])\n",
    "\n",
    "sum(fullDocks)\n"
   ]
  },
  {
   "cell_type": "markdown",
   "metadata": {},
   "source": [
    "## Task\n",
    "How many tube and bus lines are in London? Print names of all tube lines."
   ]
  },
  {
   "cell_type": "code",
   "execution_count": null,
   "metadata": {},
   "outputs": [],
   "source": [
    "tal = requests.get('https://api.tfl.gov.uk/Line/Route')\n",
    "tal = tal.json()\n",
    "JSON(tal)"
   ]
  },
  {
   "cell_type": "code",
   "execution_count": 22,
   "metadata": {},
   "outputs": [
    {
     "data": {
      "text/plain": [
       "690"
      ]
     },
     "execution_count": 22,
     "metadata": {},
     "output_type": "execute_result"
    }
   ],
   "source": [
    "count = 0\n",
    "for i in tal:\n",
    "    if i['modeName'] == 'bus' or i['modeName'] == 'tube':\n",
    "        count+=1\n",
    "#    count.append(i['modeName'])\n",
    "count"
   ]
  },
  {
   "cell_type": "code",
   "execution_count": 23,
   "metadata": {},
   "outputs": [
    {
     "data": {
      "application/json": [
       {
        "$type": "Tfl.Api.Presentation.Entities.Line, Tfl.Api.Presentation.Entities",
        "created": "2021-04-27T12:51:57.11Z",
        "crowding": {
         "$type": "Tfl.Api.Presentation.Entities.Crowding, Tfl.Api.Presentation.Entities"
        },
        "disruptions": [],
        "id": "bakerloo",
        "lineStatuses": [],
        "modeName": "tube",
        "modified": "2021-04-27T12:51:57.11Z",
        "name": "Bakerloo",
        "routeSections": [
         {
          "$type": "Tfl.Api.Presentation.Entities.MatchedRoute, Tfl.Api.Presentation.Entities",
          "destination": "940GZZLUEAC",
          "destinationName": "Elephant & Castle Underground Station",
          "direction": "inbound",
          "name": "Harrow & Wealdstone Underground Station - Elephant & Castle Underground Station",
          "originationName": "Harrow & Wealdstone Underground Station",
          "originator": "940GZZLUHAW",
          "serviceType": "Regular",
          "validFrom": "2021-04-24T00:00:00Z",
          "validTo": "2021-11-23T00:00:00Z"
         },
         {
          "$type": "Tfl.Api.Presentation.Entities.MatchedRoute, Tfl.Api.Presentation.Entities",
          "destination": "940GZZLUHAW",
          "destinationName": "Harrow & Wealdstone Underground Station",
          "direction": "outbound",
          "name": "Elephant & Castle Underground Station - Harrow & Wealdstone Underground Station",
          "originationName": "Elephant & Castle Underground Station",
          "originator": "940GZZLUEAC",
          "serviceType": "Regular",
          "validFrom": "2021-04-24T00:00:00Z",
          "validTo": "2021-11-23T00:00:00Z"
         }
        ],
        "serviceTypes": [
         {
          "$type": "Tfl.Api.Presentation.Entities.LineServiceTypeInfo, Tfl.Api.Presentation.Entities",
          "name": "Regular",
          "uri": "/Line/Route?ids=Bakerloo&serviceTypes=Regular"
         }
        ]
       },
       {
        "$type": "Tfl.Api.Presentation.Entities.Line, Tfl.Api.Presentation.Entities",
        "created": "2021-04-27T12:51:57.11Z",
        "crowding": {
         "$type": "Tfl.Api.Presentation.Entities.Crowding, Tfl.Api.Presentation.Entities"
        },
        "disruptions": [],
        "id": "central",
        "lineStatuses": [],
        "modeName": "tube",
        "modified": "2021-04-27T12:51:57.11Z",
        "name": "Central",
        "routeSections": [
         {
          "$type": "Tfl.Api.Presentation.Entities.MatchedRoute, Tfl.Api.Presentation.Entities",
          "destination": "940GZZLUHLT",
          "destinationName": "Hainault Underground Station",
          "direction": "outbound",
          "name": "Ealing Broadway Underground Station - Hainault Underground Station",
          "originationName": "Ealing Broadway Underground Station",
          "originator": "940GZZLUEBY",
          "serviceType": "Regular",
          "validFrom": "2021-04-24T00:00:00Z",
          "validTo": "2021-11-23T00:00:00Z"
         },
         {
          "$type": "Tfl.Api.Presentation.Entities.MatchedRoute, Tfl.Api.Presentation.Entities",
          "destination": "940GZZLUWRP",
          "destinationName": "West Ruislip Underground Station",
          "direction": "inbound",
          "name": "Epping Underground Station - West Ruislip Underground Station",
          "originationName": "Epping Underground Station",
          "originator": "940GZZLUEPG",
          "serviceType": "Regular",
          "validFrom": "2021-04-24T00:00:00Z",
          "validTo": "2021-11-23T00:00:00Z"
         },
         {
          "$type": "Tfl.Api.Presentation.Entities.MatchedRoute, Tfl.Api.Presentation.Entities",
          "destination": "940GZZLUEPG",
          "destinationName": "Epping Underground Station",
          "direction": "outbound",
          "name": "West Ruislip Underground Station - Epping Underground Station",
          "originationName": "West Ruislip Underground Station",
          "originator": "940GZZLUWRP",
          "serviceType": "Regular",
          "validFrom": "2021-04-24T00:00:00Z",
          "validTo": "2021-11-23T00:00:00Z"
         },
         {
          "$type": "Tfl.Api.Presentation.Entities.MatchedRoute, Tfl.Api.Presentation.Entities",
          "destination": "940GZZLUWRP",
          "destinationName": "West Ruislip Underground Station",
          "direction": "inbound",
          "name": "Hainault Underground Station - West Ruislip Underground Station",
          "originationName": "Hainault Underground Station",
          "originator": "940GZZLUHLT",
          "serviceType": "Regular",
          "validFrom": "2021-04-24T00:00:00Z",
          "validTo": "2021-11-23T00:00:00Z"
         },
         {
          "$type": "Tfl.Api.Presentation.Entities.MatchedRoute, Tfl.Api.Presentation.Entities",
          "destination": "940GZZLUWRP",
          "destinationName": "West Ruislip Underground Station",
          "direction": "inbound",
          "name": "Hainault Underground Station - West Ruislip Underground Station",
          "originationName": "Hainault Underground Station",
          "originator": "940GZZLUHLT",
          "serviceType": "Regular",
          "validFrom": "2021-04-24T00:00:00Z",
          "validTo": "2021-11-23T00:00:00Z"
         },
         {
          "$type": "Tfl.Api.Presentation.Entities.MatchedRoute, Tfl.Api.Presentation.Entities",
          "destination": "940GZZLUHLT",
          "destinationName": "Hainault Underground Station",
          "direction": "outbound",
          "name": "West Ruislip Underground Station - Hainault Underground Station",
          "originationName": "West Ruislip Underground Station",
          "originator": "940GZZLUWRP",
          "serviceType": "Regular",
          "validFrom": "2021-04-24T00:00:00Z",
          "validTo": "2021-11-23T00:00:00Z"
         },
         {
          "$type": "Tfl.Api.Presentation.Entities.MatchedRoute, Tfl.Api.Presentation.Entities",
          "destination": "940GZZLUHLT",
          "destinationName": "Hainault Underground Station",
          "direction": "outbound",
          "name": "West Ruislip Underground Station - Hainault Underground Station",
          "originationName": "West Ruislip Underground Station",
          "originator": "940GZZLUWRP",
          "serviceType": "Regular",
          "validFrom": "2021-04-24T00:00:00Z",
          "validTo": "2021-11-23T00:00:00Z"
         },
         {
          "$type": "Tfl.Api.Presentation.Entities.MatchedRoute, Tfl.Api.Presentation.Entities",
          "destination": "940GZZLUEBY",
          "destinationName": "Ealing Broadway Underground Station",
          "direction": "inbound",
          "name": "Epping Underground Station - Ealing Broadway Underground Station",
          "originationName": "Epping Underground Station",
          "originator": "940GZZLUEPG",
          "serviceType": "Regular",
          "validFrom": "2021-04-24T00:00:00Z",
          "validTo": "2021-11-23T00:00:00Z"
         },
         {
          "$type": "Tfl.Api.Presentation.Entities.MatchedRoute, Tfl.Api.Presentation.Entities",
          "destination": "940GZZLUEPG",
          "destinationName": "Epping Underground Station",
          "direction": "outbound",
          "name": "Ealing Broadway Underground Station - Epping Underground Station",
          "originationName": "Ealing Broadway Underground Station",
          "originator": "940GZZLUEBY",
          "serviceType": "Regular",
          "validFrom": "2021-04-24T00:00:00Z",
          "validTo": "2021-11-23T00:00:00Z"
         },
         {
          "$type": "Tfl.Api.Presentation.Entities.MatchedRoute, Tfl.Api.Presentation.Entities",
          "destination": "940GZZLUEBY",
          "destinationName": "Ealing Broadway Underground Station",
          "direction": "inbound",
          "name": "Hainault Underground Station - Ealing Broadway Underground Station",
          "originationName": "Hainault Underground Station",
          "originator": "940GZZLUHLT",
          "serviceType": "Regular",
          "validFrom": "2021-04-24T00:00:00Z",
          "validTo": "2021-11-23T00:00:00Z"
         }
        ],
        "serviceTypes": [
         {
          "$type": "Tfl.Api.Presentation.Entities.LineServiceTypeInfo, Tfl.Api.Presentation.Entities",
          "name": "Regular",
          "uri": "/Line/Route?ids=Central&serviceTypes=Regular"
         },
         {
          "$type": "Tfl.Api.Presentation.Entities.LineServiceTypeInfo, Tfl.Api.Presentation.Entities",
          "name": "Night",
          "uri": "/Line/Route?ids=Central&serviceTypes=Night"
         }
        ]
       },
       {
        "$type": "Tfl.Api.Presentation.Entities.Line, Tfl.Api.Presentation.Entities",
        "created": "2021-04-27T12:51:57.11Z",
        "crowding": {
         "$type": "Tfl.Api.Presentation.Entities.Crowding, Tfl.Api.Presentation.Entities"
        },
        "disruptions": [],
        "id": "circle",
        "lineStatuses": [],
        "modeName": "tube",
        "modified": "2021-04-27T12:51:57.11Z",
        "name": "Circle",
        "routeSections": [
         {
          "$type": "Tfl.Api.Presentation.Entities.MatchedRoute, Tfl.Api.Presentation.Entities",
          "destination": "940GZZLUHSC",
          "destinationName": "Hammersmith (H&C Line) Underground Station",
          "direction": "inbound",
          "name": "Edgware Road (Circle Line) Underground Station - Hammersmith (H&C Line) Underground Station",
          "originationName": "Edgware Road (Circle Line) Underground Station",
          "originator": "940GZZLUERC",
          "serviceType": "Regular",
          "validFrom": "2021-04-24T00:00:00Z",
          "validTo": "2021-11-23T00:00:00Z"
         },
         {
          "$type": "Tfl.Api.Presentation.Entities.MatchedRoute, Tfl.Api.Presentation.Entities",
          "destination": "940GZZLUERC",
          "destinationName": "Edgware Road (Circle Line) Underground Station",
          "direction": "outbound",
          "name": "Hammersmith (H&C Line) Underground Station - Edgware Road (Circle Line) Underground Station",
          "originationName": "Hammersmith (H&C Line) Underground Station",
          "originator": "940GZZLUHSC",
          "serviceType": "Regular",
          "validFrom": "2021-04-24T00:00:00Z",
          "validTo": "2021-11-23T00:00:00Z"
         }
        ],
        "serviceTypes": [
         {
          "$type": "Tfl.Api.Presentation.Entities.LineServiceTypeInfo, Tfl.Api.Presentation.Entities",
          "name": "Regular",
          "uri": "/Line/Route?ids=Circle&serviceTypes=Regular"
         }
        ]
       },
       {
        "$type": "Tfl.Api.Presentation.Entities.Line, Tfl.Api.Presentation.Entities",
        "created": "2021-04-27T12:51:57.11Z",
        "crowding": {
         "$type": "Tfl.Api.Presentation.Entities.Crowding, Tfl.Api.Presentation.Entities"
        },
        "disruptions": [],
        "id": "district",
        "lineStatuses": [],
        "modeName": "tube",
        "modified": "2021-04-27T12:51:57.11Z",
        "name": "District",
        "routeSections": [
         {
          "$type": "Tfl.Api.Presentation.Entities.MatchedRoute, Tfl.Api.Presentation.Entities",
          "destination": "940GZZLUKOY",
          "destinationName": "Kensington (Olympia) Underground Station",
          "direction": "inbound",
          "name": "Edgware Road (Circle Line) Underground Station - Kensington (Olympia) Underground Station",
          "originationName": "Edgware Road (Circle Line) Underground Station",
          "originator": "940GZZLUERC",
          "serviceType": "Regular",
          "validFrom": "2021-04-27T00:00:00Z",
          "validTo": "2021-04-29T00:00:00Z"
         },
         {
          "$type": "Tfl.Api.Presentation.Entities.MatchedRoute, Tfl.Api.Presentation.Entities",
          "destination": "940GZZLUERC",
          "destinationName": "Edgware Road (Circle Line) Underground Station",
          "direction": "outbound",
          "name": "Kensington (Olympia) Underground Station - Edgware Road (Circle Line) Underground Station",
          "originationName": "Kensington (Olympia) Underground Station",
          "originator": "940GZZLUKOY",
          "serviceType": "Regular",
          "validFrom": "2021-04-27T00:00:00Z",
          "validTo": "2021-04-29T00:00:00Z"
         },
         {
          "$type": "Tfl.Api.Presentation.Entities.MatchedRoute, Tfl.Api.Presentation.Entities",
          "destination": "940GZZLUEBY",
          "destinationName": "Ealing Broadway Underground Station",
          "direction": "inbound",
          "name": "Upminster Underground Station - Ealing Broadway Underground Station",
          "originationName": "Upminster Underground Station",
          "originator": "940GZZLUUPM",
          "serviceType": "Regular",
          "validFrom": "2021-04-27T00:00:00Z",
          "validTo": "2021-04-29T00:00:00Z"
         },
         {
          "$type": "Tfl.Api.Presentation.Entities.MatchedRoute, Tfl.Api.Presentation.Entities",
          "destination": "940GZZLUUPM",
          "destinationName": "Upminster Underground Station",
          "direction": "outbound",
          "name": "Ealing Broadway Underground Station - Upminster Underground Station",
          "originationName": "Ealing Broadway Underground Station",
          "originator": "940GZZLUEBY",
          "serviceType": "Regular",
          "validFrom": "2021-04-27T00:00:00Z",
          "validTo": "2021-04-29T00:00:00Z"
         },
         {
          "$type": "Tfl.Api.Presentation.Entities.MatchedRoute, Tfl.Api.Presentation.Entities",
          "destination": "940GZZLURMD",
          "destinationName": "Richmond Underground Station",
          "direction": "inbound",
          "name": "Upminster Underground Station - Richmond Underground Station",
          "originationName": "Upminster Underground Station",
          "originator": "940GZZLUUPM",
          "serviceType": "Regular",
          "validFrom": "2021-04-27T00:00:00Z",
          "validTo": "2021-04-29T00:00:00Z"
         },
         {
          "$type": "Tfl.Api.Presentation.Entities.MatchedRoute, Tfl.Api.Presentation.Entities",
          "destination": "940GZZLUUPM",
          "destinationName": "Upminster Underground Station",
          "direction": "outbound",
          "name": "Richmond Underground Station - Upminster Underground Station",
          "originationName": "Richmond Underground Station",
          "originator": "940GZZLURMD",
          "serviceType": "Regular",
          "validFrom": "2021-04-27T00:00:00Z",
          "validTo": "2021-04-29T00:00:00Z"
         },
         {
          "$type": "Tfl.Api.Presentation.Entities.MatchedRoute, Tfl.Api.Presentation.Entities",
          "destination": "940GZZLUWIM",
          "destinationName": "Wimbledon Underground Station",
          "direction": "inbound",
          "name": "Upminster Underground Station - Wimbledon Underground Station",
          "originationName": "Upminster Underground Station",
          "originator": "940GZZLUUPM",
          "serviceType": "Regular",
          "validFrom": "2021-04-27T00:00:00Z",
          "validTo": "2021-04-29T00:00:00Z"
         },
         {
          "$type": "Tfl.Api.Presentation.Entities.MatchedRoute, Tfl.Api.Presentation.Entities",
          "destination": "940GZZLUUPM",
          "destinationName": "Upminster Underground Station",
          "direction": "outbound",
          "name": "Wimbledon Underground Station - Upminster Underground Station",
          "originationName": "Wimbledon Underground Station",
          "originator": "940GZZLUWIM",
          "serviceType": "Regular",
          "validFrom": "2021-04-27T00:00:00Z",
          "validTo": "2021-04-29T00:00:00Z"
         },
         {
          "$type": "Tfl.Api.Presentation.Entities.MatchedRoute, Tfl.Api.Presentation.Entities",
          "destination": "940GZZLURMD",
          "destinationName": "Richmond Underground Station",
          "direction": "inbound",
          "name": "Edgware Road (Circle Line) Underground Station - Richmond Underground Station",
          "originationName": "Edgware Road (Circle Line) Underground Station",
          "originator": "940GZZLUERC",
          "serviceType": "Regular",
          "validFrom": "2021-04-27T00:00:00Z",
          "validTo": "2021-04-29T00:00:00Z"
         },
         {
          "$type": "Tfl.Api.Presentation.Entities.MatchedRoute, Tfl.Api.Presentation.Entities",
          "destination": "940GZZLUERC",
          "destinationName": "Edgware Road (Circle Line) Underground Station",
          "direction": "outbound",
          "name": "Richmond Underground Station - Edgware Road (Circle Line) Underground Station",
          "originationName": "Richmond Underground Station",
          "originator": "940GZZLURMD",
          "serviceType": "Regular",
          "validFrom": "2021-04-27T00:00:00Z",
          "validTo": "2021-04-29T00:00:00Z"
         },
         {
          "$type": "Tfl.Api.Presentation.Entities.MatchedRoute, Tfl.Api.Presentation.Entities",
          "destination": "940GZZLUWIM",
          "destinationName": "Wimbledon Underground Station",
          "direction": "inbound",
          "name": "Edgware Road (Circle Line) Underground Station - Wimbledon Underground Station",
          "originationName": "Edgware Road (Circle Line) Underground Station",
          "originator": "940GZZLUERC",
          "serviceType": "Regular",
          "validFrom": "2021-04-27T00:00:00Z",
          "validTo": "2021-04-29T00:00:00Z"
         },
         {
          "$type": "Tfl.Api.Presentation.Entities.MatchedRoute, Tfl.Api.Presentation.Entities",
          "destination": "940GZZLUERC",
          "destinationName": "Edgware Road (Circle Line) Underground Station",
          "direction": "outbound",
          "name": "Wimbledon Underground Station - Edgware Road (Circle Line) Underground Station",
          "originationName": "Wimbledon Underground Station",
          "originator": "940GZZLUWIM",
          "serviceType": "Regular",
          "validFrom": "2021-04-27T00:00:00Z",
          "validTo": "2021-04-29T00:00:00Z"
         }
        ],
        "serviceTypes": [
         {
          "$type": "Tfl.Api.Presentation.Entities.LineServiceTypeInfo, Tfl.Api.Presentation.Entities",
          "name": "Regular",
          "uri": "/Line/Route?ids=District&serviceTypes=Regular"
         }
        ]
       },
       {
        "$type": "Tfl.Api.Presentation.Entities.Line, Tfl.Api.Presentation.Entities",
        "created": "2021-04-27T12:51:57.11Z",
        "crowding": {
         "$type": "Tfl.Api.Presentation.Entities.Crowding, Tfl.Api.Presentation.Entities"
        },
        "disruptions": [],
        "id": "hammersmith-city",
        "lineStatuses": [],
        "modeName": "tube",
        "modified": "2021-04-27T12:51:57.11Z",
        "name": "Hammersmith & City",
        "routeSections": [
         {
          "$type": "Tfl.Api.Presentation.Entities.MatchedRoute, Tfl.Api.Presentation.Entities",
          "destination": "940GZZLUHSC",
          "destinationName": "Hammersmith (H&C Line) Underground Station",
          "direction": "inbound",
          "name": "Barking Underground Station - Hammersmith (H&C Line) Underground Station",
          "originationName": "Barking Underground Station",
          "originator": "940GZZLUBKG",
          "serviceType": "Regular",
          "validFrom": "2021-04-24T00:00:00Z",
          "validTo": "2021-11-23T00:00:00Z"
         },
         {
          "$type": "Tfl.Api.Presentation.Entities.MatchedRoute, Tfl.Api.Presentation.Entities",
          "destination": "940GZZLUBKG",
          "destinationName": "Barking Underground Station",
          "direction": "outbound",
          "name": "Hammersmith (H&C Line) Underground Station - Barking Underground Station",
          "originationName": "Hammersmith (H&C Line) Underground Station",
          "originator": "940GZZLUHSC",
          "serviceType": "Regular",
          "validFrom": "2021-04-24T00:00:00Z",
          "validTo": "2021-11-23T00:00:00Z"
         }
        ],
        "serviceTypes": [
         {
          "$type": "Tfl.Api.Presentation.Entities.LineServiceTypeInfo, Tfl.Api.Presentation.Entities",
          "name": "Regular",
          "uri": "/Line/Route?ids=Hammersmith & City&serviceTypes=Regular"
         }
        ]
       },
       {
        "$type": "Tfl.Api.Presentation.Entities.Line, Tfl.Api.Presentation.Entities",
        "created": "2021-04-27T12:51:57.127Z",
        "crowding": {
         "$type": "Tfl.Api.Presentation.Entities.Crowding, Tfl.Api.Presentation.Entities"
        },
        "disruptions": [],
        "id": "jubilee",
        "lineStatuses": [],
        "modeName": "tube",
        "modified": "2021-04-27T12:51:57.127Z",
        "name": "Jubilee",
        "routeSections": [
         {
          "$type": "Tfl.Api.Presentation.Entities.MatchedRoute, Tfl.Api.Presentation.Entities",
          "destination": "940GZZLUSTM",
          "destinationName": "Stanmore Underground Station",
          "direction": "inbound",
          "name": "Stratford Underground Station - Stanmore Underground Station",
          "originationName": "Stratford Underground Station",
          "originator": "940GZZLUSTD",
          "serviceType": "Regular",
          "validFrom": "2021-04-24T00:00:00Z",
          "validTo": "2021-11-23T00:00:00Z"
         },
         {
          "$type": "Tfl.Api.Presentation.Entities.MatchedRoute, Tfl.Api.Presentation.Entities",
          "destination": "940GZZLUSTD",
          "destinationName": "Stratford Underground Station",
          "direction": "outbound",
          "name": "Stanmore Underground Station - Stratford Underground Station",
          "originationName": "Stanmore Underground Station",
          "originator": "940GZZLUSTM",
          "serviceType": "Regular",
          "validFrom": "2021-04-24T00:00:00Z",
          "validTo": "2021-11-23T00:00:00Z"
         }
        ],
        "serviceTypes": [
         {
          "$type": "Tfl.Api.Presentation.Entities.LineServiceTypeInfo, Tfl.Api.Presentation.Entities",
          "name": "Regular",
          "uri": "/Line/Route?ids=Jubilee&serviceTypes=Regular"
         },
         {
          "$type": "Tfl.Api.Presentation.Entities.LineServiceTypeInfo, Tfl.Api.Presentation.Entities",
          "name": "Night",
          "uri": "/Line/Route?ids=Jubilee&serviceTypes=Night"
         }
        ]
       },
       {
        "$type": "Tfl.Api.Presentation.Entities.Line, Tfl.Api.Presentation.Entities",
        "created": "2021-04-27T12:51:57.11Z",
        "crowding": {
         "$type": "Tfl.Api.Presentation.Entities.Crowding, Tfl.Api.Presentation.Entities"
        },
        "disruptions": [],
        "id": "metropolitan",
        "lineStatuses": [],
        "modeName": "tube",
        "modified": "2021-04-27T12:51:57.11Z",
        "name": "Metropolitan",
        "routeSections": [
         {
          "$type": "Tfl.Api.Presentation.Entities.MatchedRoute, Tfl.Api.Presentation.Entities",
          "destination": "940GZZLUALD",
          "destinationName": "Aldgate Underground Station",
          "direction": "outbound",
          "name": "Amersham Underground Station - Aldgate Underground Station",
          "originationName": "Amersham Underground Station",
          "originator": "940GZZLUAMS",
          "serviceType": "Regular",
          "validFrom": "2021-04-24T00:00:00Z",
          "validTo": "2021-11-23T00:00:00Z"
         },
         {
          "$type": "Tfl.Api.Presentation.Entities.MatchedRoute, Tfl.Api.Presentation.Entities",
          "destination": "940GZZLUAMS",
          "destinationName": "Amersham Underground Station",
          "direction": "inbound",
          "name": "Aldgate Underground Station - Amersham Underground Station",
          "originationName": "Aldgate Underground Station",
          "originator": "940GZZLUALD",
          "serviceType": "Regular",
          "validFrom": "2021-04-24T00:00:00Z",
          "validTo": "2021-11-23T00:00:00Z"
         },
         {
          "$type": "Tfl.Api.Presentation.Entities.MatchedRoute, Tfl.Api.Presentation.Entities",
          "destination": "940GZZLUCSM",
          "destinationName": "Chesham Underground Station",
          "direction": "inbound",
          "name": "Aldgate Underground Station - Chesham Underground Station",
          "originationName": "Aldgate Underground Station",
          "originator": "940GZZLUALD",
          "serviceType": "Regular",
          "validFrom": "2021-04-24T00:00:00Z",
          "validTo": "2021-11-23T00:00:00Z"
         },
         {
          "$type": "Tfl.Api.Presentation.Entities.MatchedRoute, Tfl.Api.Presentation.Entities",
          "destination": "940GZZLUALD",
          "destinationName": "Aldgate Underground Station",
          "direction": "outbound",
          "name": "Chesham Underground Station - Aldgate Underground Station",
          "originationName": "Chesham Underground Station",
          "originator": "940GZZLUCSM",
          "serviceType": "Regular",
          "validFrom": "2021-04-24T00:00:00Z",
          "validTo": "2021-11-23T00:00:00Z"
         },
         {
          "$type": "Tfl.Api.Presentation.Entities.MatchedRoute, Tfl.Api.Presentation.Entities",
          "destination": "940GZZLUUXB",
          "destinationName": "Uxbridge Underground Station",
          "direction": "inbound",
          "name": "Aldgate Underground Station - Uxbridge Underground Station",
          "originationName": "Aldgate Underground Station",
          "originator": "940GZZLUALD",
          "serviceType": "Regular",
          "validFrom": "2021-04-24T00:00:00Z",
          "validTo": "2021-11-23T00:00:00Z"
         },
         {
          "$type": "Tfl.Api.Presentation.Entities.MatchedRoute, Tfl.Api.Presentation.Entities",
          "destination": "940GZZLUALD",
          "destinationName": "Aldgate Underground Station",
          "direction": "outbound",
          "name": "Uxbridge Underground Station - Aldgate Underground Station",
          "originationName": "Uxbridge Underground Station",
          "originator": "940GZZLUUXB",
          "serviceType": "Regular",
          "validFrom": "2021-04-24T00:00:00Z",
          "validTo": "2021-11-23T00:00:00Z"
         },
         {
          "$type": "Tfl.Api.Presentation.Entities.MatchedRoute, Tfl.Api.Presentation.Entities",
          "destination": "940GZZLUWAF",
          "destinationName": "Watford Underground Station",
          "direction": "inbound",
          "name": "Aldgate Underground Station - Watford Underground Station",
          "originationName": "Aldgate Underground Station",
          "originator": "940GZZLUALD",
          "serviceType": "Regular",
          "validFrom": "2021-04-24T00:00:00Z",
          "validTo": "2021-11-23T00:00:00Z"
         },
         {
          "$type": "Tfl.Api.Presentation.Entities.MatchedRoute, Tfl.Api.Presentation.Entities",
          "destination": "940GZZLUALD",
          "destinationName": "Aldgate Underground Station",
          "direction": "outbound",
          "name": "Watford Underground Station - Aldgate Underground Station",
          "originationName": "Watford Underground Station",
          "originator": "940GZZLUWAF",
          "serviceType": "Regular",
          "validFrom": "2021-04-24T00:00:00Z",
          "validTo": "2021-11-23T00:00:00Z"
         },
         {
          "$type": "Tfl.Api.Presentation.Entities.MatchedRoute, Tfl.Api.Presentation.Entities",
          "destination": "940GZZLUWAF",
          "destinationName": "Watford Underground Station",
          "direction": "outbound",
          "name": "Chesham Underground Station - Watford Underground Station",
          "originationName": "Chesham Underground Station",
          "originator": "940GZZLUCSM",
          "serviceType": "Regular",
          "validFrom": "2021-04-24T00:00:00Z",
          "validTo": "2021-11-23T00:00:00Z"
         },
         {
          "$type": "Tfl.Api.Presentation.Entities.MatchedRoute, Tfl.Api.Presentation.Entities",
          "destination": "940GZZLURKW",
          "destinationName": "Rickmansworth Underground Station",
          "direction": "inbound",
          "name": "Watford Underground Station - Rickmansworth Underground Station",
          "originationName": "Watford Underground Station",
          "originator": "940GZZLUWAF",
          "serviceType": "Regular",
          "validFrom": "2021-04-24T00:00:00Z",
          "validTo": "2021-11-23T00:00:00Z"
         }
        ],
        "serviceTypes": [
         {
          "$type": "Tfl.Api.Presentation.Entities.LineServiceTypeInfo, Tfl.Api.Presentation.Entities",
          "name": "Regular",
          "uri": "/Line/Route?ids=Metropolitan&serviceTypes=Regular"
         }
        ]
       },
       {
        "$type": "Tfl.Api.Presentation.Entities.Line, Tfl.Api.Presentation.Entities",
        "created": "2021-04-27T12:51:57.11Z",
        "crowding": {
         "$type": "Tfl.Api.Presentation.Entities.Crowding, Tfl.Api.Presentation.Entities"
        },
        "disruptions": [],
        "id": "northern",
        "lineStatuses": [],
        "modeName": "tube",
        "modified": "2021-04-27T12:51:57.11Z",
        "name": "Northern",
        "routeSections": [
         {
          "$type": "Tfl.Api.Presentation.Entities.MatchedRoute, Tfl.Api.Presentation.Entities",
          "destination": "940GZZLUMDN",
          "destinationName": "Morden Underground Station",
          "direction": "inbound",
          "name": "High Barnet Underground Station - Morden Underground Station",
          "originationName": "High Barnet Underground Station",
          "originator": "940GZZLUHBT",
          "serviceType": "Regular",
          "validFrom": "2021-04-24T00:00:00Z",
          "validTo": "2021-11-23T00:00:00Z"
         },
         {
          "$type": "Tfl.Api.Presentation.Entities.MatchedRoute, Tfl.Api.Presentation.Entities",
          "destination": "940GZZLUMDN",
          "destinationName": "Morden Underground Station",
          "direction": "inbound",
          "name": "High Barnet Underground Station - Morden Underground Station",
          "originationName": "High Barnet Underground Station",
          "originator": "940GZZLUHBT",
          "serviceType": "Regular",
          "validFrom": "2021-04-24T00:00:00Z",
          "validTo": "2021-11-23T00:00:00Z"
         },
         {
          "$type": "Tfl.Api.Presentation.Entities.MatchedRoute, Tfl.Api.Presentation.Entities",
          "destination": "940GZZLUHBT",
          "destinationName": "High Barnet Underground Station",
          "direction": "outbound",
          "name": "Morden Underground Station - High Barnet Underground Station",
          "originationName": "Morden Underground Station",
          "originator": "940GZZLUMDN",
          "serviceType": "Regular",
          "validFrom": "2021-04-24T00:00:00Z",
          "validTo": "2021-11-23T00:00:00Z"
         },
         {
          "$type": "Tfl.Api.Presentation.Entities.MatchedRoute, Tfl.Api.Presentation.Entities",
          "destination": "940GZZLUHBT",
          "destinationName": "High Barnet Underground Station",
          "direction": "outbound",
          "name": "Morden Underground Station - High Barnet Underground Station",
          "originationName": "Morden Underground Station",
          "originator": "940GZZLUMDN",
          "serviceType": "Regular",
          "validFrom": "2021-04-24T00:00:00Z",
          "validTo": "2021-11-23T00:00:00Z"
         },
         {
          "$type": "Tfl.Api.Presentation.Entities.MatchedRoute, Tfl.Api.Presentation.Entities",
          "destination": "940GZZLUMDN",
          "destinationName": "Morden Underground Station",
          "direction": "inbound",
          "name": "Edgware Underground Station - Morden Underground Station",
          "originationName": "Edgware Underground Station",
          "originator": "940GZZLUEGW",
          "serviceType": "Regular",
          "validFrom": "2021-04-24T00:00:00Z",
          "validTo": "2021-11-23T00:00:00Z"
         },
         {
          "$type": "Tfl.Api.Presentation.Entities.MatchedRoute, Tfl.Api.Presentation.Entities",
          "destination": "940GZZLUMDN",
          "destinationName": "Morden Underground Station",
          "direction": "inbound",
          "name": "Edgware Underground Station - Morden Underground Station",
          "originationName": "Edgware Underground Station",
          "originator": "940GZZLUEGW",
          "serviceType": "Regular",
          "validFrom": "2021-04-24T00:00:00Z",
          "validTo": "2021-11-23T00:00:00Z"
         },
         {
          "$type": "Tfl.Api.Presentation.Entities.MatchedRoute, Tfl.Api.Presentation.Entities",
          "destination": "940GZZLUEGW",
          "destinationName": "Edgware Underground Station",
          "direction": "outbound",
          "name": "Morden Underground Station - Edgware Underground Station",
          "originationName": "Morden Underground Station",
          "originator": "940GZZLUMDN",
          "serviceType": "Regular",
          "validFrom": "2021-04-24T00:00:00Z",
          "validTo": "2021-11-23T00:00:00Z"
         },
         {
          "$type": "Tfl.Api.Presentation.Entities.MatchedRoute, Tfl.Api.Presentation.Entities",
          "destination": "940GZZLUEGW",
          "destinationName": "Edgware Underground Station",
          "direction": "outbound",
          "name": "Morden Underground Station - Edgware Underground Station",
          "originationName": "Morden Underground Station",
          "originator": "940GZZLUMDN",
          "serviceType": "Regular",
          "validFrom": "2021-04-24T00:00:00Z",
          "validTo": "2021-11-23T00:00:00Z"
         },
         {
          "$type": "Tfl.Api.Presentation.Entities.MatchedRoute, Tfl.Api.Presentation.Entities",
          "destination": "940GZZLUMDN",
          "destinationName": "Morden Underground Station",
          "direction": "inbound",
          "name": "Mill Hill East Underground Station - Morden Underground Station",
          "originationName": "Mill Hill East Underground Station",
          "originator": "940GZZLUMHL",
          "serviceType": "Regular",
          "validFrom": "2021-04-24T00:00:00Z",
          "validTo": "2021-11-23T00:00:00Z"
         },
         {
          "$type": "Tfl.Api.Presentation.Entities.MatchedRoute, Tfl.Api.Presentation.Entities",
          "destination": "940GZZLUMHL",
          "destinationName": "Mill Hill East Underground Station",
          "direction": "outbound",
          "name": "Morden Underground Station - Mill Hill East Underground Station",
          "originationName": "Morden Underground Station",
          "originator": "940GZZLUMDN",
          "serviceType": "Regular",
          "validFrom": "2021-04-24T00:00:00Z",
          "validTo": "2021-11-23T00:00:00Z"
         },
         {
          "$type": "Tfl.Api.Presentation.Entities.MatchedRoute, Tfl.Api.Presentation.Entities",
          "destination": "940GZZLUMHL",
          "destinationName": "Mill Hill East Underground Station",
          "direction": "outbound",
          "name": "Morden Underground Station - Mill Hill East Underground Station",
          "originationName": "Morden Underground Station",
          "originator": "940GZZLUMDN",
          "serviceType": "Regular",
          "validFrom": "2021-04-24T00:00:00Z",
          "validTo": "2021-11-23T00:00:00Z"
         }
        ],
        "serviceTypes": [
         {
          "$type": "Tfl.Api.Presentation.Entities.LineServiceTypeInfo, Tfl.Api.Presentation.Entities",
          "name": "Regular",
          "uri": "/Line/Route?ids=Northern&serviceTypes=Regular"
         },
         {
          "$type": "Tfl.Api.Presentation.Entities.LineServiceTypeInfo, Tfl.Api.Presentation.Entities",
          "name": "Night",
          "uri": "/Line/Route?ids=Northern&serviceTypes=Night"
         }
        ]
       },
       {
        "$type": "Tfl.Api.Presentation.Entities.Line, Tfl.Api.Presentation.Entities",
        "created": "2021-04-27T12:51:57.11Z",
        "crowding": {
         "$type": "Tfl.Api.Presentation.Entities.Crowding, Tfl.Api.Presentation.Entities"
        },
        "disruptions": [],
        "id": "piccadilly",
        "lineStatuses": [],
        "modeName": "tube",
        "modified": "2021-04-27T12:51:57.11Z",
        "name": "Piccadilly",
        "routeSections": [
         {
          "$type": "Tfl.Api.Presentation.Entities.MatchedRoute, Tfl.Api.Presentation.Entities",
          "destination": "940GZZLUCKS",
          "destinationName": "Cockfosters Underground Station",
          "direction": "outbound",
          "name": "Heathrow Terminal 5 Underground Station - Cockfosters Underground Station",
          "originationName": "Heathrow Terminal 5 Underground Station",
          "originator": "940GZZLUHR5",
          "serviceType": "Regular",
          "validFrom": "2021-04-24T00:00:00Z",
          "validTo": "2021-11-23T00:00:00Z"
         },
         {
          "$type": "Tfl.Api.Presentation.Entities.MatchedRoute, Tfl.Api.Presentation.Entities",
          "destination": "940GZZLUUXB",
          "destinationName": "Uxbridge Underground Station",
          "direction": "inbound",
          "name": "Cockfosters Underground Station - Uxbridge Underground Station",
          "originationName": "Cockfosters Underground Station",
          "originator": "940GZZLUCKS",
          "serviceType": "Regular",
          "validFrom": "2021-04-24T00:00:00Z",
          "validTo": "2021-11-23T00:00:00Z"
         },
         {
          "$type": "Tfl.Api.Presentation.Entities.MatchedRoute, Tfl.Api.Presentation.Entities",
          "destination": "940GZZLUCKS",
          "destinationName": "Cockfosters Underground Station",
          "direction": "outbound",
          "name": "Uxbridge Underground Station - Cockfosters Underground Station",
          "originationName": "Uxbridge Underground Station",
          "originator": "940GZZLUUXB",
          "serviceType": "Regular",
          "validFrom": "2021-04-24T00:00:00Z",
          "validTo": "2021-11-23T00:00:00Z"
         },
         {
          "$type": "Tfl.Api.Presentation.Entities.MatchedRoute, Tfl.Api.Presentation.Entities",
          "destination": "940GZZLUHR5",
          "destinationName": "Heathrow Terminal 5 Underground Station",
          "direction": "inbound",
          "name": "Cockfosters Underground Station - Heathrow Terminal 5 Underground Station",
          "originationName": "Cockfosters Underground Station",
          "originator": "940GZZLUCKS",
          "serviceType": "Regular",
          "validFrom": "2021-04-24T00:00:00Z",
          "validTo": "2021-11-23T00:00:00Z"
         }
        ],
        "serviceTypes": [
         {
          "$type": "Tfl.Api.Presentation.Entities.LineServiceTypeInfo, Tfl.Api.Presentation.Entities",
          "name": "Regular",
          "uri": "/Line/Route?ids=Piccadilly&serviceTypes=Regular"
         },
         {
          "$type": "Tfl.Api.Presentation.Entities.LineServiceTypeInfo, Tfl.Api.Presentation.Entities",
          "name": "Night",
          "uri": "/Line/Route?ids=Piccadilly&serviceTypes=Night"
         }
        ]
       },
       {
        "$type": "Tfl.Api.Presentation.Entities.Line, Tfl.Api.Presentation.Entities",
        "created": "2021-04-27T12:51:57.11Z",
        "crowding": {
         "$type": "Tfl.Api.Presentation.Entities.Crowding, Tfl.Api.Presentation.Entities"
        },
        "disruptions": [],
        "id": "victoria",
        "lineStatuses": [],
        "modeName": "tube",
        "modified": "2021-04-27T12:51:57.11Z",
        "name": "Victoria",
        "routeSections": [
         {
          "$type": "Tfl.Api.Presentation.Entities.MatchedRoute, Tfl.Api.Presentation.Entities",
          "destination": "940GZZLUBXN",
          "destinationName": "Brixton Underground Station",
          "direction": "inbound",
          "name": "Walthamstow Central Underground Station - Brixton Underground Station",
          "originationName": "Walthamstow Central Underground Station",
          "originator": "940GZZLUWWL",
          "serviceType": "Regular",
          "validFrom": "2021-04-24T00:00:00Z",
          "validTo": "2021-11-23T00:00:00Z"
         },
         {
          "$type": "Tfl.Api.Presentation.Entities.MatchedRoute, Tfl.Api.Presentation.Entities",
          "destination": "940GZZLUWWL",
          "destinationName": "Walthamstow Central Underground Station",
          "direction": "outbound",
          "name": "Brixton Underground Station - Walthamstow Central Underground Station",
          "originationName": "Brixton Underground Station",
          "originator": "940GZZLUBXN",
          "serviceType": "Regular",
          "validFrom": "2021-04-24T00:00:00Z",
          "validTo": "2021-11-23T00:00:00Z"
         }
        ],
        "serviceTypes": [
         {
          "$type": "Tfl.Api.Presentation.Entities.LineServiceTypeInfo, Tfl.Api.Presentation.Entities",
          "name": "Regular",
          "uri": "/Line/Route?ids=Victoria&serviceTypes=Regular"
         },
         {
          "$type": "Tfl.Api.Presentation.Entities.LineServiceTypeInfo, Tfl.Api.Presentation.Entities",
          "name": "Night",
          "uri": "/Line/Route?ids=Victoria&serviceTypes=Night"
         }
        ]
       },
       {
        "$type": "Tfl.Api.Presentation.Entities.Line, Tfl.Api.Presentation.Entities",
        "created": "2021-04-27T12:51:57.11Z",
        "crowding": {
         "$type": "Tfl.Api.Presentation.Entities.Crowding, Tfl.Api.Presentation.Entities"
        },
        "disruptions": [],
        "id": "waterloo-city",
        "lineStatuses": [],
        "modeName": "tube",
        "modified": "2021-04-27T12:51:57.11Z",
        "name": "Waterloo & City",
        "routeSections": [
         {
          "$type": "Tfl.Api.Presentation.Entities.MatchedRoute, Tfl.Api.Presentation.Entities",
          "destination": "940GZZLUWLO",
          "destinationName": "Waterloo Underground Station",
          "direction": "inbound",
          "name": "Bank Underground Station - Waterloo Underground Station",
          "originationName": "Bank Underground Station",
          "originator": "940GZZLUBNK",
          "serviceType": "Regular",
          "validFrom": "2021-04-24T00:00:00Z",
          "validTo": "2021-11-23T00:00:00Z"
         },
         {
          "$type": "Tfl.Api.Presentation.Entities.MatchedRoute, Tfl.Api.Presentation.Entities",
          "destination": "940GZZLUBNK",
          "destinationName": "Bank Underground Station",
          "direction": "outbound",
          "name": "Waterloo Underground Station - Bank Underground Station",
          "originationName": "Waterloo Underground Station",
          "originator": "940GZZLUWLO",
          "serviceType": "Regular",
          "validFrom": "2021-04-24T00:00:00Z",
          "validTo": "2021-11-23T00:00:00Z"
         }
        ],
        "serviceTypes": [
         {
          "$type": "Tfl.Api.Presentation.Entities.LineServiceTypeInfo, Tfl.Api.Presentation.Entities",
          "name": "Regular",
          "uri": "/Line/Route?ids=Waterloo & City&serviceTypes=Regular"
         }
        ]
       }
      ],
      "text/plain": [
       "<IPython.core.display.JSON object>"
      ]
     },
     "execution_count": 23,
     "metadata": {
      "application/json": {
       "expanded": false,
       "root": "root"
      }
     },
     "output_type": "execute_result"
    }
   ],
   "source": [
    "name = []\n",
    "for i in tal:\n",
    "    if i['modeName'] == 'tube':\n",
    "        name.append(i)\n",
    "\n",
    "\n",
    "\n",
    "name_final = []\n",
    "\n",
    "for i in name:\n",
    "    name_final.append(i['name'])\n",
    "\n",
    "name_final\n",
    "\n",
    "JSON(name)"
   ]
  },
  {
   "cell_type": "markdown",
   "metadata": {},
   "source": [
    "## Task\n",
    "How many station has `victoria` line?"
   ]
  },
  {
   "cell_type": "code",
   "execution_count": 85,
   "metadata": {},
   "outputs": [
    {
     "data": {
      "application/json": [
       {
        "$type": "Tfl.Api.Presentation.Entities.StopPoint, Tfl.Api.Presentation.Entities",
        "additionalProperties": [
         {
          "$type": "Tfl.Api.Presentation.Entities.AdditionalProperties, Tfl.Api.Presentation.Entities",
          "category": "ServiceInfo",
          "key": "Night",
          "sourceSystemKey": "TransXchangeETL",
          "value": "yes"
         },
         {
          "$type": "Tfl.Api.Presentation.Entities.AdditionalProperties, Tfl.Api.Presentation.Entities",
          "category": "Facility",
          "key": "Help Points",
          "sourceSystemKey": "StaticObjects",
          "value": "0 on platforms, 0 in ticket halls, 0 elsewhere"
         },
         {
          "$type": "Tfl.Api.Presentation.Entities.AdditionalProperties, Tfl.Api.Presentation.Entities",
          "category": "Facility",
          "key": "Payphones",
          "sourceSystemKey": "StaticObjects",
          "value": "2"
         },
         {
          "$type": "Tfl.Api.Presentation.Entities.AdditionalProperties, Tfl.Api.Presentation.Entities",
          "category": "Geo",
          "key": "Zone",
          "sourceSystemKey": "StaticObjects",
          "value": "3"
         },
         {
          "$type": "Tfl.Api.Presentation.Entities.AdditionalProperties, Tfl.Api.Presentation.Entities",
          "category": "Facility",
          "key": "Bridge",
          "sourceSystemKey": "StaticObjects",
          "value": "no"
         },
         {
          "$type": "Tfl.Api.Presentation.Entities.AdditionalProperties, Tfl.Api.Presentation.Entities",
          "category": "Facility",
          "key": "Ticket Halls",
          "sourceSystemKey": "StaticObjects",
          "value": "1"
         },
         {
          "$type": "Tfl.Api.Presentation.Entities.AdditionalProperties, Tfl.Api.Presentation.Entities",
          "category": "Address",
          "key": "PhoneNo",
          "sourceSystemKey": "StaticObjects",
          "value": "0845 330 9880"
         },
         {
          "$type": "Tfl.Api.Presentation.Entities.AdditionalProperties, Tfl.Api.Presentation.Entities",
          "category": "Facility",
          "key": "Photo Booths",
          "sourceSystemKey": "StaticObjects",
          "value": "0"
         },
         {
          "$type": "Tfl.Api.Presentation.Entities.AdditionalProperties, Tfl.Api.Presentation.Entities",
          "category": "Facility",
          "key": "Waiting Room",
          "sourceSystemKey": "StaticObjects",
          "value": "no"
         },
         {
          "$type": "Tfl.Api.Presentation.Entities.AdditionalProperties, Tfl.Api.Presentation.Entities",
          "category": "Facility",
          "key": "Car park",
          "sourceSystemKey": "StaticObjects",
          "value": "no"
         },
         {
          "$type": "Tfl.Api.Presentation.Entities.AdditionalProperties, Tfl.Api.Presentation.Entities",
          "category": "Facility",
          "key": "Other Facilities",
          "sourceSystemKey": "StaticObjects",
          "value": "post office style queuing for tickets, routeways platform to ticket hall."
         },
         {
          "$type": "Tfl.Api.Presentation.Entities.AdditionalProperties, Tfl.Api.Presentation.Entities",
          "category": "Address",
          "key": "Address",
          "sourceSystemKey": "StaticObjects",
          "value": "Blackhorse Road Underground Station,London Underground Ltd.,Blackhorse Rd,London,E17 6ND"
         },
         {
          "$type": "Tfl.Api.Presentation.Entities.AdditionalProperties, Tfl.Api.Presentation.Entities",
          "category": "Facility",
          "key": "ASDA Click and Collect",
          "sourceSystemKey": "StaticObjects",
          "value": "yes"
         },
         {
          "$type": "Tfl.Api.Presentation.Entities.AdditionalProperties, Tfl.Api.Presentation.Entities",
          "category": "Facility",
          "key": "Cash Machines",
          "sourceSystemKey": "StaticObjects",
          "value": "0"
         },
         {
          "$type": "Tfl.Api.Presentation.Entities.AdditionalProperties, Tfl.Api.Presentation.Entities",
          "category": "Facility",
          "key": "Gates",
          "sourceSystemKey": "StaticObjects",
          "value": "5"
         },
         {
          "$type": "Tfl.Api.Presentation.Entities.AdditionalProperties, Tfl.Api.Presentation.Entities",
          "category": "Facility",
          "key": "Lifts",
          "sourceSystemKey": "StaticObjects",
          "value": "0"
         },
         {
          "$type": "Tfl.Api.Presentation.Entities.AdditionalProperties, Tfl.Api.Presentation.Entities",
          "category": "Facility",
          "key": "Toilets",
          "sourceSystemKey": "StaticObjects",
          "value": "no"
         },
         {
          "$type": "Tfl.Api.Presentation.Entities.AdditionalProperties, Tfl.Api.Presentation.Entities",
          "category": "Facility",
          "key": "Escalators",
          "sourceSystemKey": "StaticObjects",
          "value": "2"
         },
         {
          "$type": "Tfl.Api.Presentation.Entities.AdditionalProperties, Tfl.Api.Presentation.Entities",
          "category": "Facility",
          "key": "WiFi",
          "sourceSystemKey": "StaticObjects",
          "value": "yes"
         },
         {
          "$type": "Tfl.Api.Presentation.Entities.AdditionalProperties, Tfl.Api.Presentation.Entities",
          "category": "NearestPlaces",
          "key": "SourceSystemPlaceId",
          "sourceSystemKey": "StaticObjects",
          "value": "CarParks_800466"
         }
        ],
        "children": [
         {
          "$type": "Tfl.Api.Presentation.Entities.StopPoint, Tfl.Api.Presentation.Entities",
          "additionalProperties": [],
          "children": [],
          "commonName": "Blackhorse Road Underground Station",
          "hubNaptanCode": "HUBBHO",
          "icsCode": "1000024",
          "id": "9400ZZLUBLR1",
          "lat": 0,
          "lineGroup": [],
          "lineModeGroups": [],
          "lines": [],
          "lon": 0,
          "modes": [],
          "naptanId": "9400ZZLUBLR1",
          "placeType": "StopPoint",
          "stationNaptan": "940GZZLUBLR",
          "status": true
         }
        ],
        "commonName": "Blackhorse Road Underground Station",
        "hubNaptanCode": "HUBBHO",
        "icsCode": "1000024",
        "id": "940GZZLUBLR",
        "lat": 51.586919,
        "lineGroup": [
         {
          "$type": "Tfl.Api.Presentation.Entities.LineGroup, Tfl.Api.Presentation.Entities",
          "lineIdentifier": [
           "victoria"
          ],
          "stationAtcoCode": "940GZZLUBLR"
         }
        ],
        "lineModeGroups": [
         {
          "$type": "Tfl.Api.Presentation.Entities.LineModeGroup, Tfl.Api.Presentation.Entities",
          "lineIdentifier": [
           "victoria"
          ],
          "modeName": "tube"
         }
        ],
        "lines": [
         {
          "$type": "Tfl.Api.Presentation.Entities.Identifier, Tfl.Api.Presentation.Entities",
          "crowding": {
           "$type": "Tfl.Api.Presentation.Entities.Crowding, Tfl.Api.Presentation.Entities"
          },
          "id": "victoria",
          "name": "Victoria",
          "routeType": "Unknown",
          "status": "Unknown",
          "type": "Line",
          "uri": "/Line/victoria"
         }
        ],
        "lon": -0.04115,
        "modes": [
         "tube"
        ],
        "naptanId": "940GZZLUBLR",
        "placeType": "StopPoint",
        "stationNaptan": "940GZZLUBLR",
        "status": true,
        "stopType": "NaptanMetroStation"
       },
       {
        "$type": "Tfl.Api.Presentation.Entities.StopPoint, Tfl.Api.Presentation.Entities",
        "additionalProperties": [
         {
          "$type": "Tfl.Api.Presentation.Entities.AdditionalProperties, Tfl.Api.Presentation.Entities",
          "category": "ServiceInfo",
          "key": "Night",
          "sourceSystemKey": "TransXchangeETL",
          "value": "yes"
         },
         {
          "$type": "Tfl.Api.Presentation.Entities.AdditionalProperties, Tfl.Api.Presentation.Entities",
          "category": "Facility",
          "key": "Help Points",
          "sourceSystemKey": "StaticObjects",
          "value": "6 on platforms, 0 in ticket halls, 1 elsewhere"
         },
         {
          "$type": "Tfl.Api.Presentation.Entities.AdditionalProperties, Tfl.Api.Presentation.Entities",
          "category": "Address",
          "key": "PhoneNo",
          "sourceSystemKey": "StaticObjects",
          "value": "0845 330 9880"
         },
         {
          "$type": "Tfl.Api.Presentation.Entities.AdditionalProperties, Tfl.Api.Presentation.Entities",
          "category": "Facility",
          "key": "Waiting Room",
          "sourceSystemKey": "StaticObjects",
          "value": "no"
         },
         {
          "$type": "Tfl.Api.Presentation.Entities.AdditionalProperties, Tfl.Api.Presentation.Entities",
          "category": "Facility",
          "key": "Cash Machines",
          "sourceSystemKey": "StaticObjects",
          "value": "0"
         },
         {
          "$type": "Tfl.Api.Presentation.Entities.AdditionalProperties, Tfl.Api.Presentation.Entities",
          "category": "Facility",
          "key": "Escalators",
          "sourceSystemKey": "StaticObjects",
          "value": "2"
         },
         {
          "$type": "Tfl.Api.Presentation.Entities.AdditionalProperties, Tfl.Api.Presentation.Entities",
          "category": "Geo",
          "key": "Zone",
          "sourceSystemKey": "StaticObjects",
          "value": "2"
         },
         {
          "$type": "Tfl.Api.Presentation.Entities.AdditionalProperties, Tfl.Api.Presentation.Entities",
          "category": "Facility",
          "key": "Bridge",
          "sourceSystemKey": "StaticObjects",
          "value": "no"
         },
         {
          "$type": "Tfl.Api.Presentation.Entities.AdditionalProperties, Tfl.Api.Presentation.Entities",
          "category": "Facility",
          "key": "Car park",
          "sourceSystemKey": "StaticObjects",
          "value": "no"
         },
         {
          "$type": "Tfl.Api.Presentation.Entities.AdditionalProperties, Tfl.Api.Presentation.Entities",
          "category": "Facility",
          "key": "Toilets",
          "sourceSystemKey": "StaticObjects",
          "value": "no"
         },
         {
          "$type": "Tfl.Api.Presentation.Entities.AdditionalProperties, Tfl.Api.Presentation.Entities",
          "category": "Facility",
          "key": "Ticket Halls",
          "sourceSystemKey": "StaticObjects",
          "value": "1"
         },
         {
          "$type": "Tfl.Api.Presentation.Entities.AdditionalProperties, Tfl.Api.Presentation.Entities",
          "category": "Address",
          "key": "Address",
          "sourceSystemKey": "StaticObjects",
          "value": "Brixton Underground Station,London Underground Ltd.,Brixton Rd,London,SW9 8HE"
         },
         {
          "$type": "Tfl.Api.Presentation.Entities.AdditionalProperties, Tfl.Api.Presentation.Entities",
          "category": "Facility",
          "key": "Gates",
          "sourceSystemKey": "StaticObjects",
          "value": "9"
         },
         {
          "$type": "Tfl.Api.Presentation.Entities.AdditionalProperties, Tfl.Api.Presentation.Entities",
          "category": "Facility",
          "key": "Lifts",
          "sourceSystemKey": "StaticObjects",
          "value": "2"
         },
         {
          "$type": "Tfl.Api.Presentation.Entities.AdditionalProperties, Tfl.Api.Presentation.Entities",
          "category": "Facility",
          "key": "Photo Booths",
          "sourceSystemKey": "StaticObjects",
          "value": "0"
         },
         {
          "$type": "Tfl.Api.Presentation.Entities.AdditionalProperties, Tfl.Api.Presentation.Entities",
          "category": "Facility",
          "key": "Other Facilities",
          "sourceSystemKey": "StaticObjects",
          "value": "electronic whiteboards in ticket hall, routeways platform to ticket hall."
         },
         {
          "$type": "Tfl.Api.Presentation.Entities.AdditionalProperties, Tfl.Api.Presentation.Entities",
          "category": "Facility",
          "key": "WiFi",
          "sourceSystemKey": "StaticObjects",
          "value": "yes"
         },
         {
          "$type": "Tfl.Api.Presentation.Entities.AdditionalProperties, Tfl.Api.Presentation.Entities",
          "category": "Facility",
          "key": "Payphones",
          "sourceSystemKey": "StaticObjects",
          "value": "0"
         },
         {
          "$type": "Tfl.Api.Presentation.Entities.AdditionalProperties, Tfl.Api.Presentation.Entities",
          "category": "Accessibility",
          "key": "AccessViaLift",
          "sourceSystemKey": "LRAD",
          "value": "Yes"
         },
         {
          "$type": "Tfl.Api.Presentation.Entities.AdditionalProperties, Tfl.Api.Presentation.Entities",
          "category": "Accessibility",
          "key": "BlueBadgeCarParkSpaces",
          "sourceSystemKey": "LRAD",
          "value": "0"
         },
         {
          "$type": "Tfl.Api.Presentation.Entities.AdditionalProperties, Tfl.Api.Presentation.Entities",
          "category": "Accessibility",
          "key": "LimitedCapacityLift",
          "sourceSystemKey": "LRAD",
          "value": "No"
         },
         {
          "$type": "Tfl.Api.Presentation.Entities.AdditionalProperties, Tfl.Api.Presentation.Entities",
          "category": "Accessibility",
          "key": "SpecificEntranceRequired",
          "sourceSystemKey": "LRAD",
          "value": "No"
         },
         {
          "$type": "Tfl.Api.Presentation.Entities.AdditionalProperties, Tfl.Api.Presentation.Entities",
          "category": "Accessibility",
          "key": "TaxiRankOutsideStation",
          "sourceSystemKey": "LRAD",
          "value": "No"
         },
         {
          "$type": "Tfl.Api.Presentation.Entities.AdditionalProperties, Tfl.Api.Presentation.Entities",
          "category": "Accessibility",
          "key": "Toilet",
          "sourceSystemKey": "LRAD",
          "value": "No"
         },
         {
          "$type": "Tfl.Api.Presentation.Entities.AdditionalProperties, Tfl.Api.Presentation.Entities",
          "category": "NearestPlaces",
          "key": "SourceSystemPlaceId",
          "sourceSystemKey": "StaticObjects",
          "value": "BikePoints_831"
         },
         {
          "$type": "Tfl.Api.Presentation.Entities.AdditionalProperties, Tfl.Api.Presentation.Entities",
          "category": "NearestPlaces",
          "key": "SourceSystemPlaceId",
          "sourceSystemKey": "StaticObjects",
          "value": "BikePoints_832"
         },
         {
          "$type": "Tfl.Api.Presentation.Entities.AdditionalProperties, Tfl.Api.Presentation.Entities",
          "category": "NearestPlaces",
          "key": "SourceSystemPlaceId",
          "sourceSystemKey": "StaticObjects",
          "value": "BikePoints_833"
         }
        ],
        "children": [
         {
          "$type": "Tfl.Api.Presentation.Entities.StopPoint, Tfl.Api.Presentation.Entities",
          "additionalProperties": [],
          "children": [],
          "commonName": "Brixton Underground Station",
          "hubNaptanCode": "HUBBRX",
          "icsCode": "1000031",
          "id": "9400ZZLUBXN1",
          "lat": 0,
          "lineGroup": [],
          "lineModeGroups": [],
          "lines": [],
          "lon": 0,
          "modes": [],
          "naptanId": "9400ZZLUBXN1",
          "placeType": "StopPoint",
          "stationNaptan": "940GZZLUBXN",
          "status": true
         }
        ],
        "commonName": "Brixton Underground Station",
        "hubNaptanCode": "HUBBRX",
        "icsCode": "1000031",
        "id": "940GZZLUBXN",
        "lat": 51.462618,
        "lineGroup": [
         {
          "$type": "Tfl.Api.Presentation.Entities.LineGroup, Tfl.Api.Presentation.Entities",
          "lineIdentifier": [
           "victoria"
          ],
          "stationAtcoCode": "940GZZLUBXN"
         }
        ],
        "lineModeGroups": [
         {
          "$type": "Tfl.Api.Presentation.Entities.LineModeGroup, Tfl.Api.Presentation.Entities",
          "lineIdentifier": [
           "victoria"
          ],
          "modeName": "tube"
         }
        ],
        "lines": [
         {
          "$type": "Tfl.Api.Presentation.Entities.Identifier, Tfl.Api.Presentation.Entities",
          "crowding": {
           "$type": "Tfl.Api.Presentation.Entities.Crowding, Tfl.Api.Presentation.Entities"
          },
          "id": "victoria",
          "name": "Victoria",
          "routeType": "Unknown",
          "status": "Unknown",
          "type": "Line",
          "uri": "/Line/victoria"
         }
        ],
        "lon": -0.114888,
        "modes": [
         "tube"
        ],
        "naptanId": "940GZZLUBXN",
        "placeType": "StopPoint",
        "stationNaptan": "940GZZLUBXN",
        "status": true,
        "stopType": "NaptanMetroStation"
       },
       {
        "$type": "Tfl.Api.Presentation.Entities.StopPoint, Tfl.Api.Presentation.Entities",
        "additionalProperties": [
         {
          "$type": "Tfl.Api.Presentation.Entities.AdditionalProperties, Tfl.Api.Presentation.Entities",
          "category": "ServiceInfo",
          "key": "Night",
          "sourceSystemKey": "TransXchangeETL",
          "value": "yes"
         },
         {
          "$type": "Tfl.Api.Presentation.Entities.AdditionalProperties, Tfl.Api.Presentation.Entities",
          "category": "Address",
          "key": "PhoneNo",
          "sourceSystemKey": "StaticObjects",
          "value": "0845 330 9880"
         },
         {
          "$type": "Tfl.Api.Presentation.Entities.AdditionalProperties, Tfl.Api.Presentation.Entities",
          "category": "Facility",
          "key": "Bridge",
          "sourceSystemKey": "StaticObjects",
          "value": "no"
         },
         {
          "$type": "Tfl.Api.Presentation.Entities.AdditionalProperties, Tfl.Api.Presentation.Entities",
          "category": "Facility",
          "key": "Help Points",
          "sourceSystemKey": "StaticObjects",
          "value": "0 on platforms, 0 in ticket halls, 0 elsewhere"
         },
         {
          "$type": "Tfl.Api.Presentation.Entities.AdditionalProperties, Tfl.Api.Presentation.Entities",
          "category": "Facility",
          "key": "Other Facilities",
          "sourceSystemKey": "StaticObjects",
          "value": "electronic whiteboards in ticket hall, post office style queuing for tickets."
         },
         {
          "$type": "Tfl.Api.Presentation.Entities.AdditionalProperties, Tfl.Api.Presentation.Entities",
          "category": "Facility",
          "key": "Payphones",
          "sourceSystemKey": "StaticObjects",
          "value": "2"
         },
         {
          "$type": "Tfl.Api.Presentation.Entities.AdditionalProperties, Tfl.Api.Presentation.Entities",
          "category": "Facility",
          "key": "Boarding Ramps",
          "sourceSystemKey": "StaticObjects",
          "value": "yes London Overgrounnd and National Rail only"
         },
         {
          "$type": "Tfl.Api.Presentation.Entities.AdditionalProperties, Tfl.Api.Presentation.Entities",
          "category": "Facility",
          "key": "Toilets",
          "sourceSystemKey": "StaticObjects",
          "value": "yes"
         },
         {
          "$type": "Tfl.Api.Presentation.Entities.AdditionalProperties, Tfl.Api.Presentation.Entities",
          "category": "Facility",
          "key": "Waiting Room",
          "sourceSystemKey": "StaticObjects",
          "value": "no"
         },
         {
          "$type": "Tfl.Api.Presentation.Entities.AdditionalProperties, Tfl.Api.Presentation.Entities",
          "category": "Facility",
          "key": "WiFi",
          "sourceSystemKey": "StaticObjects",
          "value": "yes"
         },
         {
          "$type": "Tfl.Api.Presentation.Entities.AdditionalProperties, Tfl.Api.Presentation.Entities",
          "category": "Geo",
          "key": "Zone",
          "sourceSystemKey": "StaticObjects",
          "value": "1"
         },
         {
          "$type": "Tfl.Api.Presentation.Entities.AdditionalProperties, Tfl.Api.Presentation.Entities",
          "category": "Address",
          "key": "Address",
          "sourceSystemKey": "StaticObjects",
          "value": "Euston Underground Station,London Underground Ltd.,Eversholt St,London,NW1 2DU"
         },
         {
          "$type": "Tfl.Api.Presentation.Entities.AdditionalProperties, Tfl.Api.Presentation.Entities",
          "category": "Facility",
          "key": "Cash Machines",
          "sourceSystemKey": "StaticObjects",
          "value": "2"
         },
         {
          "$type": "Tfl.Api.Presentation.Entities.AdditionalProperties, Tfl.Api.Presentation.Entities",
          "category": "Facility",
          "key": "Gates",
          "sourceSystemKey": "StaticObjects",
          "value": "16"
         },
         {
          "$type": "Tfl.Api.Presentation.Entities.AdditionalProperties, Tfl.Api.Presentation.Entities",
          "category": "Facility",
          "key": "Euro Cash Machines",
          "sourceSystemKey": "StaticObjects",
          "value": "yes"
         },
         {
          "$type": "Tfl.Api.Presentation.Entities.AdditionalProperties, Tfl.Api.Presentation.Entities",
          "category": "Facility",
          "key": "Car park",
          "sourceSystemKey": "StaticObjects",
          "value": "no"
         },
         {
          "$type": "Tfl.Api.Presentation.Entities.AdditionalProperties, Tfl.Api.Presentation.Entities",
          "category": "Facility",
          "key": "Escalators",
          "sourceSystemKey": "StaticObjects",
          "value": "10"
         },
         {
          "$type": "Tfl.Api.Presentation.Entities.AdditionalProperties, Tfl.Api.Presentation.Entities",
          "category": "Facility",
          "key": "Lifts",
          "sourceSystemKey": "StaticObjects",
          "value": "0"
         },
         {
          "$type": "Tfl.Api.Presentation.Entities.AdditionalProperties, Tfl.Api.Presentation.Entities",
          "category": "Facility",
          "key": "Photo Booths",
          "sourceSystemKey": "StaticObjects",
          "value": "0"
         },
         {
          "$type": "Tfl.Api.Presentation.Entities.AdditionalProperties, Tfl.Api.Presentation.Entities",
          "category": "Facility",
          "key": "Ticket Halls",
          "sourceSystemKey": "StaticObjects",
          "value": "1"
         },
         {
          "$type": "Tfl.Api.Presentation.Entities.AdditionalProperties, Tfl.Api.Presentation.Entities",
          "category": "NearestPlaces",
          "key": "SourceSystemPlaceId",
          "sourceSystemKey": "StaticObjects",
          "value": "BikePoints_16"
         },
         {
          "$type": "Tfl.Api.Presentation.Entities.AdditionalProperties, Tfl.Api.Presentation.Entities",
          "category": "NearestPlaces",
          "key": "SourceSystemPlaceId",
          "sourceSystemKey": "StaticObjects",
          "value": "BikePoints_19"
         },
         {
          "$type": "Tfl.Api.Presentation.Entities.AdditionalProperties, Tfl.Api.Presentation.Entities",
          "category": "NearestPlaces",
          "key": "SourceSystemPlaceId",
          "sourceSystemKey": "StaticObjects",
          "value": "BikePoints_20"
         },
         {
          "$type": "Tfl.Api.Presentation.Entities.AdditionalProperties, Tfl.Api.Presentation.Entities",
          "category": "NearestPlaces",
          "key": "SourceSystemPlaceId",
          "sourceSystemKey": "StaticObjects",
          "value": "BikePoints_25"
         },
         {
          "$type": "Tfl.Api.Presentation.Entities.AdditionalProperties, Tfl.Api.Presentation.Entities",
          "category": "NearestPlaces",
          "key": "SourceSystemPlaceId",
          "sourceSystemKey": "StaticObjects",
          "value": "BikePoints_69"
         },
         {
          "$type": "Tfl.Api.Presentation.Entities.AdditionalProperties, Tfl.Api.Presentation.Entities",
          "category": "NearestPlaces",
          "key": "SourceSystemPlaceId",
          "sourceSystemKey": "StaticObjects",
          "value": "BikePoints_214"
         },
         {
          "$type": "Tfl.Api.Presentation.Entities.AdditionalProperties, Tfl.Api.Presentation.Entities",
          "category": "NearestPlaces",
          "key": "SourceSystemPlaceId",
          "sourceSystemKey": "StaticObjects",
          "value": "BikePoints_795"
         },
         {
          "$type": "Tfl.Api.Presentation.Entities.AdditionalProperties, Tfl.Api.Presentation.Entities",
          "category": "NearestPlaces",
          "key": "SourceSystemPlaceId",
          "sourceSystemKey": "StaticObjects",
          "value": "BikePoints_797"
         },
         {
          "$type": "Tfl.Api.Presentation.Entities.AdditionalProperties, Tfl.Api.Presentation.Entities",
          "category": "NearestPlaces",
          "key": "SourceSystemPlaceId",
          "sourceSystemKey": "StaticObjects",
          "value": "TaxiRank_5449"
         },
         {
          "$type": "Tfl.Api.Presentation.Entities.AdditionalProperties, Tfl.Api.Presentation.Entities",
          "category": "NearestPlaces",
          "key": "SourceSystemPlaceId",
          "sourceSystemKey": "StaticObjects",
          "value": "TaxiRank_4427"
         },
         {
          "$type": "Tfl.Api.Presentation.Entities.AdditionalProperties, Tfl.Api.Presentation.Entities",
          "category": "NearestPlaces",
          "key": "SourceSystemPlaceId",
          "sourceSystemKey": "StaticObjects",
          "value": "TaxiRank_4914"
         },
         {
          "$type": "Tfl.Api.Presentation.Entities.AdditionalProperties, Tfl.Api.Presentation.Entities",
          "category": "NearestPlaces",
          "key": "SourceSystemPlaceId",
          "sourceSystemKey": "StaticObjects",
          "value": "TaxiRank_5896"
         }
        ],
        "children": [
         {
          "$type": "Tfl.Api.Presentation.Entities.StopPoint, Tfl.Api.Presentation.Entities",
          "additionalProperties": [],
          "children": [],
          "commonName": "Euston Underground Station",
          "hubNaptanCode": "HUBEUS",
          "icsCode": "1000077",
          "id": "9400ZZLUEUS2",
          "lat": 0,
          "lineGroup": [],
          "lineModeGroups": [],
          "lines": [],
          "lon": 0,
          "modes": [],
          "naptanId": "9400ZZLUEUS2",
          "placeType": "StopPoint",
          "stationNaptan": "940GZZLUEUS",
          "status": true
         },
         {
          "$type": "Tfl.Api.Presentation.Entities.StopPoint, Tfl.Api.Presentation.Entities",
          "additionalProperties": [],
          "children": [],
          "commonName": "Euston Underground Station",
          "hubNaptanCode": "HUBEUS",
          "icsCode": "1000077",
          "id": "9400ZZLUEUS3",
          "lat": 51.528344,
          "lineGroup": [],
          "lineModeGroups": [],
          "lines": [],
          "lon": -0.1323,
          "modes": [],
          "naptanId": "9400ZZLUEUS3",
          "placeType": "StopPoint",
          "stationNaptan": "940GZZLUEUS",
          "status": true
         },
         {
          "$type": "Tfl.Api.Presentation.Entities.StopPoint, Tfl.Api.Presentation.Entities",
          "additionalProperties": [],
          "children": [],
          "commonName": "Euston Underground Station",
          "hubNaptanCode": "HUBEUS",
          "icsCode": "1000077",
          "id": "9400ZZLUEUS4",
          "lat": 0,
          "lineGroup": [],
          "lineModeGroups": [],
          "lines": [],
          "lon": 0,
          "modes": [],
          "naptanId": "9400ZZLUEUS4",
          "placeType": "StopPoint",
          "stationNaptan": "940GZZLUEUS",
          "status": true
         },
         {
          "$type": "Tfl.Api.Presentation.Entities.StopPoint, Tfl.Api.Presentation.Entities",
          "additionalProperties": [],
          "children": [],
          "commonName": "Euston Underground Station",
          "hubNaptanCode": "HUBEUS",
          "icsCode": "1000077",
          "id": "9400ZZLUEUS5",
          "lat": 0,
          "lineGroup": [],
          "lineModeGroups": [],
          "lines": [],
          "lon": 0,
          "modes": [],
          "naptanId": "9400ZZLUEUS5",
          "placeType": "StopPoint",
          "stationNaptan": "940GZZLUEUS",
          "status": true
         },
         {
          "$type": "Tfl.Api.Presentation.Entities.StopPoint, Tfl.Api.Presentation.Entities",
          "additionalProperties": [],
          "children": [],
          "commonName": "Euston Underground Station",
          "hubNaptanCode": "HUBEUS",
          "icsCode": "1000077",
          "id": "9400ZZLUEUS1",
          "lat": 0,
          "lineGroup": [],
          "lineModeGroups": [],
          "lines": [],
          "lon": 0,
          "modes": [],
          "naptanId": "9400ZZLUEUS1",
          "placeType": "StopPoint",
          "stationNaptan": "940GZZLUEUS",
          "status": true
         },
         {
          "$type": "Tfl.Api.Presentation.Entities.StopPoint, Tfl.Api.Presentation.Entities",
          "additionalProperties": [],
          "children": [],
          "commonName": "Euston Underground Station",
          "hubNaptanCode": "HUBEUS",
          "icsCode": "1000077",
          "id": "9400ZZLUEUS6",
          "lat": 0,
          "lineGroup": [],
          "lineModeGroups": [],
          "lines": [],
          "lon": 0,
          "modes": [],
          "naptanId": "9400ZZLUEUS6",
          "placeType": "StopPoint",
          "stationNaptan": "940GZZLUEUS",
          "status": true
         }
        ],
        "commonName": "Euston Underground Station",
        "hubNaptanCode": "HUBEUS",
        "icsCode": "1000077",
        "id": "940GZZLUEUS",
        "lat": 51.528344,
        "lineGroup": [
         {
          "$type": "Tfl.Api.Presentation.Entities.LineGroup, Tfl.Api.Presentation.Entities",
          "lineIdentifier": [
           "northern"
          ],
          "stationAtcoCode": "940GZZLUEUS"
         },
         {
          "$type": "Tfl.Api.Presentation.Entities.LineGroup, Tfl.Api.Presentation.Entities",
          "lineIdentifier": [
           "victoria"
          ],
          "stationAtcoCode": "940GZZLUEUS"
         }
        ],
        "lineModeGroups": [
         {
          "$type": "Tfl.Api.Presentation.Entities.LineModeGroup, Tfl.Api.Presentation.Entities",
          "lineIdentifier": [
           "northern",
           "victoria"
          ],
          "modeName": "tube"
         }
        ],
        "lines": [
         {
          "$type": "Tfl.Api.Presentation.Entities.Identifier, Tfl.Api.Presentation.Entities",
          "crowding": {
           "$type": "Tfl.Api.Presentation.Entities.Crowding, Tfl.Api.Presentation.Entities"
          },
          "id": "northern",
          "name": "Northern",
          "routeType": "Unknown",
          "status": "Unknown",
          "type": "Line",
          "uri": "/Line/northern"
         },
         {
          "$type": "Tfl.Api.Presentation.Entities.Identifier, Tfl.Api.Presentation.Entities",
          "crowding": {
           "$type": "Tfl.Api.Presentation.Entities.Crowding, Tfl.Api.Presentation.Entities"
          },
          "id": "victoria",
          "name": "Victoria",
          "routeType": "Unknown",
          "status": "Unknown",
          "type": "Line",
          "uri": "/Line/victoria"
         }
        ],
        "lon": -0.1323,
        "modes": [
         "tube"
        ],
        "naptanId": "940GZZLUEUS",
        "placeType": "StopPoint",
        "stationNaptan": "940GZZLUEUS",
        "status": true,
        "stopType": "NaptanMetroStation"
       },
       {
        "$type": "Tfl.Api.Presentation.Entities.StopPoint, Tfl.Api.Presentation.Entities",
        "additionalProperties": [
         {
          "$type": "Tfl.Api.Presentation.Entities.AdditionalProperties, Tfl.Api.Presentation.Entities",
          "category": "ServiceInfo",
          "key": "Night",
          "sourceSystemKey": "TransXchangeETL",
          "value": "yes"
         },
         {
          "$type": "Tfl.Api.Presentation.Entities.AdditionalProperties, Tfl.Api.Presentation.Entities",
          "category": "Address",
          "key": "PhoneNo",
          "sourceSystemKey": "StaticObjects",
          "value": "0845 330 9880"
         },
         {
          "$type": "Tfl.Api.Presentation.Entities.AdditionalProperties, Tfl.Api.Presentation.Entities",
          "category": "Opening Time",
          "key": "SunFrom",
          "sourceSystemKey": "StaticObjects",
          "value": "08:15"
         },
         {
          "$type": "Tfl.Api.Presentation.Entities.AdditionalProperties, Tfl.Api.Presentation.Entities",
          "category": "Facility",
          "key": "Cash Machines",
          "sourceSystemKey": "StaticObjects",
          "value": "2"
         },
         {
          "$type": "Tfl.Api.Presentation.Entities.AdditionalProperties, Tfl.Api.Presentation.Entities",
          "category": "Facility",
          "key": "Escalators",
          "sourceSystemKey": "StaticObjects",
          "value": "0"
         },
         {
          "$type": "Tfl.Api.Presentation.Entities.AdditionalProperties, Tfl.Api.Presentation.Entities",
          "category": "Opening Time",
          "key": "MonFriTo",
          "sourceSystemKey": "StaticObjects",
          "value": "21:15"
         },
         {
          "$type": "Tfl.Api.Presentation.Entities.AdditionalProperties, Tfl.Api.Presentation.Entities",
          "category": "Facility",
          "key": "Other Facilities",
          "sourceSystemKey": "StaticObjects",
          "value": "electronic whiteboards in ticket hall, subway to street, routeways platform to ticket hall."
         },
         {
          "$type": "Tfl.Api.Presentation.Entities.AdditionalProperties, Tfl.Api.Presentation.Entities",
          "category": "Opening Time",
          "key": "SatTo",
          "sourceSystemKey": "StaticObjects",
          "value": "22:30"
         },
         {
          "$type": "Tfl.Api.Presentation.Entities.AdditionalProperties, Tfl.Api.Presentation.Entities",
          "category": "Facility",
          "key": "Ticket Halls",
          "sourceSystemKey": "StaticObjects",
          "value": "1"
         },
         {
          "$type": "Tfl.Api.Presentation.Entities.AdditionalProperties, Tfl.Api.Presentation.Entities",
          "category": "Facility",
          "key": "Toilets",
          "sourceSystemKey": "StaticObjects",
          "value": "no"
         },
         {
          "$type": "Tfl.Api.Presentation.Entities.AdditionalProperties, Tfl.Api.Presentation.Entities",
          "category": "Facility",
          "key": "Bridge",
          "sourceSystemKey": "StaticObjects",
          "value": "no"
         },
         {
          "$type": "Tfl.Api.Presentation.Entities.AdditionalProperties, Tfl.Api.Presentation.Entities",
          "category": "Facility",
          "key": "Gates",
          "sourceSystemKey": "StaticObjects",
          "value": "0"
         },
         {
          "$type": "Tfl.Api.Presentation.Entities.AdditionalProperties, Tfl.Api.Presentation.Entities",
          "category": "Facility",
          "key": "Photo Booths",
          "sourceSystemKey": "StaticObjects",
          "value": "0"
         },
         {
          "$type": "Tfl.Api.Presentation.Entities.AdditionalProperties, Tfl.Api.Presentation.Entities",
          "category": "Opening Time",
          "key": "MonFriFrom",
          "sourceSystemKey": "StaticObjects",
          "value": "06:15"
         },
         {
          "$type": "Tfl.Api.Presentation.Entities.AdditionalProperties, Tfl.Api.Presentation.Entities",
          "category": "Facility",
          "key": "WiFi",
          "sourceSystemKey": "StaticObjects",
          "value": "yes"
         },
         {
          "$type": "Tfl.Api.Presentation.Entities.AdditionalProperties, Tfl.Api.Presentation.Entities",
          "category": "Facility",
          "key": "Euro Cash Machines",
          "sourceSystemKey": "StaticObjects",
          "value": "yes"
         },
         {
          "$type": "Tfl.Api.Presentation.Entities.AdditionalProperties, Tfl.Api.Presentation.Entities",
          "category": "Facility",
          "key": "Help Points",
          "sourceSystemKey": "StaticObjects",
          "value": "12 on platforms, 0 in ticket halls, 5 elsewhere"
         },
         {
          "$type": "Tfl.Api.Presentation.Entities.AdditionalProperties, Tfl.Api.Presentation.Entities",
          "category": "Facility",
          "key": "Lifts",
          "sourceSystemKey": "StaticObjects",
          "value": "1"
         },
         {
          "$type": "Tfl.Api.Presentation.Entities.AdditionalProperties, Tfl.Api.Presentation.Entities",
          "category": "Opening Time",
          "key": "SatFrom",
          "sourceSystemKey": "StaticObjects",
          "value": "07:00"
         },
         {
          "$type": "Tfl.Api.Presentation.Entities.AdditionalProperties, Tfl.Api.Presentation.Entities",
          "category": "Geo",
          "key": "Zone",
          "sourceSystemKey": "StaticObjects",
          "value": "2"
         },
         {
          "$type": "Tfl.Api.Presentation.Entities.AdditionalProperties, Tfl.Api.Presentation.Entities",
          "category": "Address",
          "key": "Address",
          "sourceSystemKey": "StaticObjects",
          "value": "Finsbury Park Underground Station,London Underground Ltd.,Wells Terrace,London,N4 3JU"
         },
         {
          "$type": "Tfl.Api.Presentation.Entities.AdditionalProperties, Tfl.Api.Presentation.Entities",
          "category": "Opening Time",
          "key": "SunTo",
          "sourceSystemKey": "StaticObjects",
          "value": "22:00"
         },
         {
          "$type": "Tfl.Api.Presentation.Entities.AdditionalProperties, Tfl.Api.Presentation.Entities",
          "category": "Facility",
          "key": "Car park",
          "sourceSystemKey": "StaticObjects",
          "value": "no"
         },
         {
          "$type": "Tfl.Api.Presentation.Entities.AdditionalProperties, Tfl.Api.Presentation.Entities",
          "category": "Facility",
          "key": "Payphones",
          "sourceSystemKey": "StaticObjects",
          "value": "4"
         },
         {
          "$type": "Tfl.Api.Presentation.Entities.AdditionalProperties, Tfl.Api.Presentation.Entities",
          "category": "Facility",
          "key": "Waiting Room",
          "sourceSystemKey": "StaticObjects",
          "value": "no"
         },
         {
          "$type": "Tfl.Api.Presentation.Entities.AdditionalProperties, Tfl.Api.Presentation.Entities",
          "category": "Accessibility",
          "key": "AccessViaLift",
          "sourceSystemKey": "LRAD",
          "value": "No"
         },
         {
          "$type": "Tfl.Api.Presentation.Entities.AdditionalProperties, Tfl.Api.Presentation.Entities",
          "category": "Accessibility",
          "key": "BlueBadgeCarParkSpaces",
          "sourceSystemKey": "LRAD",
          "value": "0"
         },
         {
          "$type": "Tfl.Api.Presentation.Entities.AdditionalProperties, Tfl.Api.Presentation.Entities",
          "category": "Accessibility",
          "key": "LimitedCapacityLift",
          "sourceSystemKey": "LRAD",
          "value": "No"
         },
         {
          "$type": "Tfl.Api.Presentation.Entities.AdditionalProperties, Tfl.Api.Presentation.Entities",
          "category": "Accessibility",
          "key": "TaxiRankOutsideStation",
          "sourceSystemKey": "LRAD",
          "value": "No"
         },
         {
          "$type": "Tfl.Api.Presentation.Entities.AdditionalProperties, Tfl.Api.Presentation.Entities",
          "category": "Accessibility",
          "key": "Toilet",
          "sourceSystemKey": "LRAD",
          "value": "No"
         },
         {
          "$type": "Tfl.Api.Presentation.Entities.AdditionalProperties, Tfl.Api.Presentation.Entities",
          "category": "NearestPlaces",
          "key": "SourceSystemPlaceId",
          "sourceSystemKey": "StaticObjects",
          "value": "TaxiRank_5870"
         }
        ],
        "children": [
         {
          "$type": "Tfl.Api.Presentation.Entities.StopPoint, Tfl.Api.Presentation.Entities",
          "additionalProperties": [],
          "children": [],
          "commonName": "Finsbury Park Underground Station",
          "hubNaptanCode": "HUBFPK",
          "icsCode": "1000083",
          "id": "9400ZZLUFPK1",
          "lat": 0,
          "lineGroup": [],
          "lineModeGroups": [],
          "lines": [],
          "lon": 0,
          "modes": [],
          "naptanId": "9400ZZLUFPK1",
          "placeType": "StopPoint",
          "stationNaptan": "940GZZLUFPK",
          "status": true
         },
         {
          "$type": "Tfl.Api.Presentation.Entities.StopPoint, Tfl.Api.Presentation.Entities",
          "additionalProperties": [],
          "children": [],
          "commonName": "Finsbury Park Underground Station",
          "hubNaptanCode": "HUBFPK",
          "icsCode": "1000083",
          "id": "9400ZZLUFPK2",
          "lat": 0,
          "lineGroup": [],
          "lineModeGroups": [],
          "lines": [],
          "lon": 0,
          "modes": [],
          "naptanId": "9400ZZLUFPK2",
          "placeType": "StopPoint",
          "stationNaptan": "940GZZLUFPK",
          "status": true
         },
         {
          "$type": "Tfl.Api.Presentation.Entities.StopPoint, Tfl.Api.Presentation.Entities",
          "additionalProperties": [],
          "children": [],
          "commonName": "Finsbury Park Underground Station",
          "hubNaptanCode": "HUBFPK",
          "icsCode": "1000083",
          "id": "9400ZZLUFPK3",
          "lat": 0,
          "lineGroup": [],
          "lineModeGroups": [],
          "lines": [],
          "lon": 0,
          "modes": [],
          "naptanId": "9400ZZLUFPK3",
          "placeType": "StopPoint",
          "stationNaptan": "940GZZLUFPK",
          "status": true
         },
         {
          "$type": "Tfl.Api.Presentation.Entities.StopPoint, Tfl.Api.Presentation.Entities",
          "additionalProperties": [],
          "children": [],
          "commonName": "Finsbury Park Underground Station",
          "hubNaptanCode": "HUBFPK",
          "icsCode": "1000083",
          "id": "9400ZZLUFPK4",
          "lat": 0,
          "lineGroup": [],
          "lineModeGroups": [],
          "lines": [],
          "lon": 0,
          "modes": [],
          "naptanId": "9400ZZLUFPK4",
          "placeType": "StopPoint",
          "stationNaptan": "940GZZLUFPK",
          "status": true
         }
        ],
        "commonName": "Finsbury Park Underground Station",
        "hubNaptanCode": "HUBFPK",
        "icsCode": "1000083",
        "id": "940GZZLUFPK",
        "lat": 51.564158,
        "lineGroup": [
         {
          "$type": "Tfl.Api.Presentation.Entities.LineGroup, Tfl.Api.Presentation.Entities",
          "lineIdentifier": [
           "piccadilly"
          ],
          "stationAtcoCode": "940GZZLUFPK"
         },
         {
          "$type": "Tfl.Api.Presentation.Entities.LineGroup, Tfl.Api.Presentation.Entities",
          "lineIdentifier": [
           "victoria"
          ],
          "stationAtcoCode": "940GZZLUFPK"
         }
        ],
        "lineModeGroups": [
         {
          "$type": "Tfl.Api.Presentation.Entities.LineModeGroup, Tfl.Api.Presentation.Entities",
          "lineIdentifier": [
           "piccadilly",
           "victoria"
          ],
          "modeName": "tube"
         }
        ],
        "lines": [
         {
          "$type": "Tfl.Api.Presentation.Entities.Identifier, Tfl.Api.Presentation.Entities",
          "crowding": {
           "$type": "Tfl.Api.Presentation.Entities.Crowding, Tfl.Api.Presentation.Entities"
          },
          "id": "piccadilly",
          "name": "Piccadilly",
          "routeType": "Unknown",
          "status": "Unknown",
          "type": "Line",
          "uri": "/Line/piccadilly"
         },
         {
          "$type": "Tfl.Api.Presentation.Entities.Identifier, Tfl.Api.Presentation.Entities",
          "crowding": {
           "$type": "Tfl.Api.Presentation.Entities.Crowding, Tfl.Api.Presentation.Entities"
          },
          "id": "victoria",
          "name": "Victoria",
          "routeType": "Unknown",
          "status": "Unknown",
          "type": "Line",
          "uri": "/Line/victoria"
         }
        ],
        "lon": -0.106825,
        "modes": [
         "tube"
        ],
        "naptanId": "940GZZLUFPK",
        "placeType": "StopPoint",
        "stationNaptan": "940GZZLUFPK",
        "status": true,
        "stopType": "NaptanMetroStation"
       },
       {
        "$type": "Tfl.Api.Presentation.Entities.StopPoint, Tfl.Api.Presentation.Entities",
        "additionalProperties": [
         {
          "$type": "Tfl.Api.Presentation.Entities.AdditionalProperties, Tfl.Api.Presentation.Entities",
          "category": "ServiceInfo",
          "key": "Night",
          "sourceSystemKey": "TransXchangeETL",
          "value": "yes"
         },
         {
          "$type": "Tfl.Api.Presentation.Entities.AdditionalProperties, Tfl.Api.Presentation.Entities",
          "category": "Address",
          "key": "PhoneNo",
          "sourceSystemKey": "StaticObjects",
          "value": "0845 330 9880"
         },
         {
          "$type": "Tfl.Api.Presentation.Entities.AdditionalProperties, Tfl.Api.Presentation.Entities",
          "category": "Facility",
          "key": "Waiting Room",
          "sourceSystemKey": "StaticObjects",
          "value": "no"
         },
         {
          "$type": "Tfl.Api.Presentation.Entities.AdditionalProperties, Tfl.Api.Presentation.Entities",
          "category": "Facility",
          "key": "Euro Cash Machines",
          "sourceSystemKey": "StaticObjects",
          "value": "yes"
         },
         {
          "$type": "Tfl.Api.Presentation.Entities.AdditionalProperties, Tfl.Api.Presentation.Entities",
          "category": "Facility",
          "key": "Toilets",
          "sourceSystemKey": "StaticObjects",
          "value": "no"
         },
         {
          "$type": "Tfl.Api.Presentation.Entities.AdditionalProperties, Tfl.Api.Presentation.Entities",
          "category": "Address",
          "key": "Address",
          "sourceSystemKey": "StaticObjects",
          "value": "Green Park Station,London Underground Ltd.,Piccadilly,London,W1J 9DZ"
         },
         {
          "$type": "Tfl.Api.Presentation.Entities.AdditionalProperties, Tfl.Api.Presentation.Entities",
          "category": "Facility",
          "key": "Gates",
          "sourceSystemKey": "StaticObjects",
          "value": "13"
         },
         {
          "$type": "Tfl.Api.Presentation.Entities.AdditionalProperties, Tfl.Api.Presentation.Entities",
          "category": "Facility",
          "key": "WiFi",
          "sourceSystemKey": "StaticObjects",
          "value": "yes"
         },
         {
          "$type": "Tfl.Api.Presentation.Entities.AdditionalProperties, Tfl.Api.Presentation.Entities",
          "category": "Geo",
          "key": "Zone",
          "sourceSystemKey": "StaticObjects",
          "value": "1"
         },
         {
          "$type": "Tfl.Api.Presentation.Entities.AdditionalProperties, Tfl.Api.Presentation.Entities",
          "category": "Facility",
          "key": "Other Facilities",
          "sourceSystemKey": "StaticObjects",
          "value": "electronic whiteboards in ticket hall, subway to street, routeways platform to ticket hall."
         },
         {
          "$type": "Tfl.Api.Presentation.Entities.AdditionalProperties, Tfl.Api.Presentation.Entities",
          "category": "Facility",
          "key": "Ticket Halls",
          "sourceSystemKey": "StaticObjects",
          "value": "1"
         },
         {
          "$type": "Tfl.Api.Presentation.Entities.AdditionalProperties, Tfl.Api.Presentation.Entities",
          "category": "Facility",
          "key": "Help Points",
          "sourceSystemKey": "StaticObjects",
          "value": "0 on platforms, 0 in ticket halls, 0 elsewhere"
         },
         {
          "$type": "Tfl.Api.Presentation.Entities.AdditionalProperties, Tfl.Api.Presentation.Entities",
          "category": "Facility",
          "key": "Lifts",
          "sourceSystemKey": "StaticObjects",
          "value": "5"
         },
         {
          "$type": "Tfl.Api.Presentation.Entities.AdditionalProperties, Tfl.Api.Presentation.Entities",
          "category": "Facility",
          "key": "Bridge",
          "sourceSystemKey": "StaticObjects",
          "value": "no"
         },
         {
          "$type": "Tfl.Api.Presentation.Entities.AdditionalProperties, Tfl.Api.Presentation.Entities",
          "category": "Facility",
          "key": "Car park",
          "sourceSystemKey": "StaticObjects",
          "value": "no"
         },
         {
          "$type": "Tfl.Api.Presentation.Entities.AdditionalProperties, Tfl.Api.Presentation.Entities",
          "category": "Facility",
          "key": "Cash Machines",
          "sourceSystemKey": "StaticObjects",
          "value": "1"
         },
         {
          "$type": "Tfl.Api.Presentation.Entities.AdditionalProperties, Tfl.Api.Presentation.Entities",
          "category": "Facility",
          "key": "Escalators",
          "sourceSystemKey": "StaticObjects",
          "value": "11"
         },
         {
          "$type": "Tfl.Api.Presentation.Entities.AdditionalProperties, Tfl.Api.Presentation.Entities",
          "category": "Facility",
          "key": "Payphones",
          "sourceSystemKey": "StaticObjects",
          "value": "4"
         },
         {
          "$type": "Tfl.Api.Presentation.Entities.AdditionalProperties, Tfl.Api.Presentation.Entities",
          "category": "Facility",
          "key": "Photo Booths",
          "sourceSystemKey": "StaticObjects",
          "value": "0"
         },
         {
          "$type": "Tfl.Api.Presentation.Entities.AdditionalProperties, Tfl.Api.Presentation.Entities",
          "category": "Accessibility",
          "key": "AccessViaLift",
          "sourceSystemKey": "LRAD",
          "value": "Yes"
         },
         {
          "$type": "Tfl.Api.Presentation.Entities.AdditionalProperties, Tfl.Api.Presentation.Entities",
          "category": "Accessibility",
          "key": "AddtionalInformation",
          "sourceSystemKey": "LRAD",
          "value": "You need to make a 220m journey to change between the Jubilee and the Piccadilly line, a  160m journey to change between the Victoria  and the Piccadilly line and a 380m journey to  change between the Victoria and the Jubilee line"
         },
         {
          "$type": "Tfl.Api.Presentation.Entities.AdditionalProperties, Tfl.Api.Presentation.Entities",
          "category": "Accessibility",
          "key": "BlueBadgeCarParkSpaces",
          "sourceSystemKey": "LRAD",
          "value": "0"
         },
         {
          "$type": "Tfl.Api.Presentation.Entities.AdditionalProperties, Tfl.Api.Presentation.Entities",
          "category": "Accessibility",
          "key": "LimitedCapacityLift",
          "sourceSystemKey": "LRAD",
          "value": "No"
         },
         {
          "$type": "Tfl.Api.Presentation.Entities.AdditionalProperties, Tfl.Api.Presentation.Entities",
          "category": "Accessibility",
          "key": "SpecificEntranceRequired",
          "sourceSystemKey": "LRAD",
          "value": "No"
         },
         {
          "$type": "Tfl.Api.Presentation.Entities.AdditionalProperties, Tfl.Api.Presentation.Entities",
          "category": "Accessibility",
          "key": "TaxiRankOutsideStation",
          "sourceSystemKey": "LRAD",
          "value": "No"
         },
         {
          "$type": "Tfl.Api.Presentation.Entities.AdditionalProperties, Tfl.Api.Presentation.Entities",
          "category": "Accessibility",
          "key": "Toilet",
          "sourceSystemKey": "LRAD",
          "value": "No"
         },
         {
          "$type": "Tfl.Api.Presentation.Entities.AdditionalProperties, Tfl.Api.Presentation.Entities",
          "category": "NearestPlaces",
          "key": "SourceSystemPlaceId",
          "sourceSystemKey": "StaticObjects",
          "value": "BikePoints_528"
         },
         {
          "$type": "Tfl.Api.Presentation.Entities.AdditionalProperties, Tfl.Api.Presentation.Entities",
          "category": "NearestPlaces",
          "key": "SourceSystemPlaceId",
          "sourceSystemKey": "StaticObjects",
          "value": "BikePoints_541"
         },
         {
          "$type": "Tfl.Api.Presentation.Entities.AdditionalProperties, Tfl.Api.Presentation.Entities",
          "category": "NearestPlaces",
          "key": "SourceSystemPlaceId",
          "sourceSystemKey": "StaticObjects",
          "value": "BikePoints_44"
         },
         {
          "$type": "Tfl.Api.Presentation.Entities.AdditionalProperties, Tfl.Api.Presentation.Entities",
          "category": "NearestPlaces",
          "key": "SourceSystemPlaceId",
          "sourceSystemKey": "StaticObjects",
          "value": "BikePoints_49"
         },
         {
          "$type": "Tfl.Api.Presentation.Entities.AdditionalProperties, Tfl.Api.Presentation.Entities",
          "category": "NearestPlaces",
          "key": "SourceSystemPlaceId",
          "sourceSystemKey": "StaticObjects",
          "value": "BikePoints_53"
         },
         {
          "$type": "Tfl.Api.Presentation.Entities.AdditionalProperties, Tfl.Api.Presentation.Entities",
          "category": "NearestPlaces",
          "key": "SourceSystemPlaceId",
          "sourceSystemKey": "StaticObjects",
          "value": "BikePoints_318"
         },
         {
          "$type": "Tfl.Api.Presentation.Entities.AdditionalProperties, Tfl.Api.Presentation.Entities",
          "category": "NearestPlaces",
          "key": "SourceSystemPlaceId",
          "sourceSystemKey": "StaticObjects",
          "value": "BikePoints_382"
         },
         {
          "$type": "Tfl.Api.Presentation.Entities.AdditionalProperties, Tfl.Api.Presentation.Entities",
          "category": "NearestPlaces",
          "key": "SourceSystemPlaceId",
          "sourceSystemKey": "StaticObjects",
          "value": "BikePoints_391"
         },
         {
          "$type": "Tfl.Api.Presentation.Entities.AdditionalProperties, Tfl.Api.Presentation.Entities",
          "category": "NearestPlaces",
          "key": "SourceSystemPlaceId",
          "sourceSystemKey": "StaticObjects",
          "value": "TaxiRank_5252"
         },
         {
          "$type": "Tfl.Api.Presentation.Entities.AdditionalProperties, Tfl.Api.Presentation.Entities",
          "category": "NearestPlaces",
          "key": "SourceSystemPlaceId",
          "sourceSystemKey": "StaticObjects",
          "value": "TaxiRank_5510"
         },
         {
          "$type": "Tfl.Api.Presentation.Entities.AdditionalProperties, Tfl.Api.Presentation.Entities",
          "category": "NearestPlaces",
          "key": "SourceSystemPlaceId",
          "sourceSystemKey": "StaticObjects",
          "value": "TaxiRank_5821"
         },
         {
          "$type": "Tfl.Api.Presentation.Entities.AdditionalProperties, Tfl.Api.Presentation.Entities",
          "category": "NearestPlaces",
          "key": "SourceSystemPlaceId",
          "sourceSystemKey": "StaticObjects",
          "value": "TaxiRank_5868"
         },
         {
          "$type": "Tfl.Api.Presentation.Entities.AdditionalProperties, Tfl.Api.Presentation.Entities",
          "category": "NearestPlaces",
          "key": "SourceSystemPlaceId",
          "sourceSystemKey": "StaticObjects",
          "value": "TaxiRank_5191"
         },
         {
          "$type": "Tfl.Api.Presentation.Entities.AdditionalProperties, Tfl.Api.Presentation.Entities",
          "category": "NearestPlaces",
          "key": "SourceSystemPlaceId",
          "sourceSystemKey": "StaticObjects",
          "value": "TaxiRank_3451"
         },
         {
          "$type": "Tfl.Api.Presentation.Entities.AdditionalProperties, Tfl.Api.Presentation.Entities",
          "category": "NearestPlaces",
          "key": "SourceSystemPlaceId",
          "sourceSystemKey": "StaticObjects",
          "value": "TaxiRank_5014"
         },
         {
          "$type": "Tfl.Api.Presentation.Entities.AdditionalProperties, Tfl.Api.Presentation.Entities",
          "category": "NearestPlaces",
          "key": "SourceSystemPlaceId",
          "sourceSystemKey": "StaticObjects",
          "value": "TaxiRank_5862"
         },
         {
          "$type": "Tfl.Api.Presentation.Entities.AdditionalProperties, Tfl.Api.Presentation.Entities",
          "category": "NearestPlaces",
          "key": "SourceSystemPlaceId",
          "sourceSystemKey": "StaticObjects",
          "value": "TaxiRank_5778"
         },
         {
          "$type": "Tfl.Api.Presentation.Entities.AdditionalProperties, Tfl.Api.Presentation.Entities",
          "category": "NearestPlaces",
          "key": "SourceSystemPlaceId",
          "sourceSystemKey": "StaticObjects",
          "value": "TaxiRank_4706"
         },
         {
          "$type": "Tfl.Api.Presentation.Entities.AdditionalProperties, Tfl.Api.Presentation.Entities",
          "category": "NearestPlaces",
          "key": "SourceSystemPlaceId",
          "sourceSystemKey": "StaticObjects",
          "value": "TaxiRank_5594"
         },
         {
          "$type": "Tfl.Api.Presentation.Entities.AdditionalProperties, Tfl.Api.Presentation.Entities",
          "category": "NearestPlaces",
          "key": "SourceSystemPlaceId",
          "sourceSystemKey": "StaticObjects",
          "value": "TaxiRank_4182"
         },
         {
          "$type": "Tfl.Api.Presentation.Entities.AdditionalProperties, Tfl.Api.Presentation.Entities",
          "category": "NearestPlaces",
          "key": "SourceSystemPlaceId",
          "sourceSystemKey": "StaticObjects",
          "value": "TaxiRank_4623"
         },
         {
          "$type": "Tfl.Api.Presentation.Entities.AdditionalProperties, Tfl.Api.Presentation.Entities",
          "category": "NearestPlaces",
          "key": "SourceSystemPlaceId",
          "sourceSystemKey": "StaticObjects",
          "value": "TaxiRank_5714"
         },
         {
          "$type": "Tfl.Api.Presentation.Entities.AdditionalProperties, Tfl.Api.Presentation.Entities",
          "category": "NearestPlaces",
          "key": "SourceSystemPlaceId",
          "sourceSystemKey": "StaticObjects",
          "value": "TaxiRank_5647"
         },
         {
          "$type": "Tfl.Api.Presentation.Entities.AdditionalProperties, Tfl.Api.Presentation.Entities",
          "category": "NearestPlaces",
          "key": "SourceSystemPlaceId",
          "sourceSystemKey": "StaticObjects",
          "value": "TaxiRank_5811"
         },
         {
          "$type": "Tfl.Api.Presentation.Entities.AdditionalProperties, Tfl.Api.Presentation.Entities",
          "category": "NearestPlaces",
          "key": "SourceSystemPlaceId",
          "sourceSystemKey": "StaticObjects",
          "value": "TaxiRank_5863"
         },
         {
          "$type": "Tfl.Api.Presentation.Entities.AdditionalProperties, Tfl.Api.Presentation.Entities",
          "category": "NearestPlaces",
          "key": "SourceSystemPlaceId",
          "sourceSystemKey": "StaticObjects",
          "value": "TaxiRank_5351"
         },
         {
          "$type": "Tfl.Api.Presentation.Entities.AdditionalProperties, Tfl.Api.Presentation.Entities",
          "category": "NearestPlaces",
          "key": "SourceSystemPlaceId",
          "sourceSystemKey": "StaticObjects",
          "value": "TaxiRank_4875"
         },
         {
          "$type": "Tfl.Api.Presentation.Entities.AdditionalProperties, Tfl.Api.Presentation.Entities",
          "category": "NearestPlaces",
          "key": "SourceSystemPlaceId",
          "sourceSystemKey": "StaticObjects",
          "value": "TaxiRank_4150"
         },
         {
          "$type": "Tfl.Api.Presentation.Entities.AdditionalProperties, Tfl.Api.Presentation.Entities",
          "category": "NearestPlaces",
          "key": "SourceSystemPlaceId",
          "sourceSystemKey": "StaticObjects",
          "value": "TaxiRank_5317"
         },
         {
          "$type": "Tfl.Api.Presentation.Entities.AdditionalProperties, Tfl.Api.Presentation.Entities",
          "category": "NearestPlaces",
          "key": "SourceSystemPlaceId",
          "sourceSystemKey": "StaticObjects",
          "value": "TaxiRank_4863"
         },
         {
          "$type": "Tfl.Api.Presentation.Entities.AdditionalProperties, Tfl.Api.Presentation.Entities",
          "category": "NearestPlaces",
          "key": "SourceSystemPlaceId",
          "sourceSystemKey": "StaticObjects",
          "value": "TaxiRank_5713"
         },
         {
          "$type": "Tfl.Api.Presentation.Entities.AdditionalProperties, Tfl.Api.Presentation.Entities",
          "category": "NearestPlaces",
          "key": "SourceSystemPlaceId",
          "sourceSystemKey": "StaticObjects",
          "value": "TaxiRank_5651"
         },
         {
          "$type": "Tfl.Api.Presentation.Entities.AdditionalProperties, Tfl.Api.Presentation.Entities",
          "category": "NearestPlaces",
          "key": "SourceSystemPlaceId",
          "sourceSystemKey": "StaticObjects",
          "value": "TaxiRank_5363"
         },
         {
          "$type": "Tfl.Api.Presentation.Entities.AdditionalProperties, Tfl.Api.Presentation.Entities",
          "category": "NearestPlaces",
          "key": "SourceSystemPlaceId",
          "sourceSystemKey": "StaticObjects",
          "value": "TaxiRank_5323"
         },
         {
          "$type": "Tfl.Api.Presentation.Entities.AdditionalProperties, Tfl.Api.Presentation.Entities",
          "category": "NearestPlaces",
          "key": "SourceSystemPlaceId",
          "sourceSystemKey": "StaticObjects",
          "value": "TaxiRank_5099"
         },
         {
          "$type": "Tfl.Api.Presentation.Entities.AdditionalProperties, Tfl.Api.Presentation.Entities",
          "category": "NearestPlaces",
          "key": "SourceSystemPlaceId",
          "sourceSystemKey": "StaticObjects",
          "value": "TaxiRank_5715"
         },
         {
          "$type": "Tfl.Api.Presentation.Entities.AdditionalProperties, Tfl.Api.Presentation.Entities",
          "category": "NearestPlaces",
          "key": "SourceSystemPlaceId",
          "sourceSystemKey": "StaticObjects",
          "value": "TaxiRank_4475"
         },
         {
          "$type": "Tfl.Api.Presentation.Entities.AdditionalProperties, Tfl.Api.Presentation.Entities",
          "category": "NearestPlaces",
          "key": "SourceSystemPlaceId",
          "sourceSystemKey": "StaticObjects",
          "value": "TaxiRank_5267"
         },
         {
          "$type": "Tfl.Api.Presentation.Entities.AdditionalProperties, Tfl.Api.Presentation.Entities",
          "category": "NearestPlaces",
          "key": "SourceSystemPlaceId",
          "sourceSystemKey": "StaticObjects",
          "value": "TaxiRank_5687"
         },
         {
          "$type": "Tfl.Api.Presentation.Entities.AdditionalProperties, Tfl.Api.Presentation.Entities",
          "category": "NearestPlaces",
          "key": "SourceSystemPlaceId",
          "sourceSystemKey": "StaticObjects",
          "value": "TaxiRank_5861"
         },
         {
          "$type": "Tfl.Api.Presentation.Entities.AdditionalProperties, Tfl.Api.Presentation.Entities",
          "category": "NearestPlaces",
          "key": "SourceSystemPlaceId",
          "sourceSystemKey": "StaticObjects",
          "value": "TaxiRank_5600"
         },
         {
          "$type": "Tfl.Api.Presentation.Entities.AdditionalProperties, Tfl.Api.Presentation.Entities",
          "category": "NearestPlaces",
          "key": "SourceSystemPlaceId",
          "sourceSystemKey": "StaticObjects",
          "value": "TaxiRank_5800"
         },
         {
          "$type": "Tfl.Api.Presentation.Entities.AdditionalProperties, Tfl.Api.Presentation.Entities",
          "category": "NearestPlaces",
          "key": "SourceSystemPlaceId",
          "sourceSystemKey": "StaticObjects",
          "value": "TaxiRank_4949"
         }
        ],
        "children": [
         {
          "$type": "Tfl.Api.Presentation.Entities.StopPoint, Tfl.Api.Presentation.Entities",
          "additionalProperties": [],
          "children": [],
          "commonName": "Green Park Underground Station",
          "icsCode": "1000093",
          "id": "9400ZZLUGPK2",
          "lat": 0,
          "lineGroup": [],
          "lineModeGroups": [],
          "lines": [],
          "lon": 0,
          "modes": [],
          "naptanId": "9400ZZLUGPK2",
          "placeType": "StopPoint",
          "stationNaptan": "940GZZLUGPK",
          "status": true
         },
         {
          "$type": "Tfl.Api.Presentation.Entities.StopPoint, Tfl.Api.Presentation.Entities",
          "additionalProperties": [],
          "children": [],
          "commonName": "Green Park Underground Station",
          "icsCode": "1000093",
          "id": "9400ZZLUGPK3",
          "lat": 0,
          "lineGroup": [],
          "lineModeGroups": [],
          "lines": [],
          "lon": 0,
          "modes": [],
          "naptanId": "9400ZZLUGPK3",
          "placeType": "StopPoint",
          "stationNaptan": "940GZZLUGPK",
          "status": true
         },
         {
          "$type": "Tfl.Api.Presentation.Entities.StopPoint, Tfl.Api.Presentation.Entities",
          "additionalProperties": [],
          "children": [],
          "commonName": "Green Park Underground Station",
          "icsCode": "1000093",
          "id": "9400ZZLUGPK4",
          "lat": 0,
          "lineGroup": [],
          "lineModeGroups": [],
          "lines": [],
          "lon": 0,
          "modes": [],
          "naptanId": "9400ZZLUGPK4",
          "placeType": "StopPoint",
          "stationNaptan": "940GZZLUGPK",
          "status": true
         },
         {
          "$type": "Tfl.Api.Presentation.Entities.StopPoint, Tfl.Api.Presentation.Entities",
          "additionalProperties": [],
          "children": [],
          "commonName": "Green Park Underground Station",
          "icsCode": "1000093",
          "id": "9400ZZLUGPK1",
          "lat": 0,
          "lineGroup": [],
          "lineModeGroups": [],
          "lines": [],
          "lon": 0,
          "modes": [],
          "naptanId": "9400ZZLUGPK1",
          "placeType": "StopPoint",
          "stationNaptan": "940GZZLUGPK",
          "status": true
         },
         {
          "$type": "Tfl.Api.Presentation.Entities.StopPoint, Tfl.Api.Presentation.Entities",
          "additionalProperties": [],
          "children": [],
          "commonName": "Green Park Underground Station",
          "icsCode": "1000093",
          "id": "9400ZZLUGPK5",
          "lat": 0,
          "lineGroup": [],
          "lineModeGroups": [],
          "lines": [],
          "lon": 0,
          "modes": [],
          "naptanId": "9400ZZLUGPK5",
          "placeType": "StopPoint",
          "stationNaptan": "940GZZLUGPK",
          "status": true
         }
        ],
        "commonName": "Green Park Underground Station",
        "icsCode": "1000093",
        "id": "940GZZLUGPK",
        "lat": 51.506947,
        "lineGroup": [
         {
          "$type": "Tfl.Api.Presentation.Entities.LineGroup, Tfl.Api.Presentation.Entities",
          "lineIdentifier": [
           "14",
           "19",
           "38",
           "6",
           "9",
           "n19",
           "n38",
           "n9",
           "n97"
          ],
          "naptanIdReference": "490000093PB",
          "stationAtcoCode": "490G00093PE"
         },
         {
          "$type": "Tfl.Api.Presentation.Entities.LineGroup, Tfl.Api.Presentation.Entities",
          "lineIdentifier": [
           "14",
           "19",
           "22",
           "38",
           "6",
           "9",
           "n19",
           "n22",
           "n38",
           "n9",
           "n97"
          ],
          "naptanIdReference": "490000093PE",
          "stationAtcoCode": "490G00093PE"
         },
         {
          "$type": "Tfl.Api.Presentation.Entities.LineGroup, Tfl.Api.Presentation.Entities",
          "lineIdentifier": [
           "22",
           "n22"
          ],
          "naptanIdReference": "490000093PA",
          "stationAtcoCode": "490G00093PE"
         },
         {
          "$type": "Tfl.Api.Presentation.Entities.LineGroup, Tfl.Api.Presentation.Entities",
          "lineIdentifier": [
           "jubilee"
          ],
          "stationAtcoCode": "940GZZLUGPK"
         },
         {
          "$type": "Tfl.Api.Presentation.Entities.LineGroup, Tfl.Api.Presentation.Entities",
          "lineIdentifier": [
           "piccadilly"
          ],
          "stationAtcoCode": "940GZZLUGPK"
         },
         {
          "$type": "Tfl.Api.Presentation.Entities.LineGroup, Tfl.Api.Presentation.Entities",
          "lineIdentifier": [
           "victoria"
          ],
          "stationAtcoCode": "940GZZLUGPK"
         }
        ],
        "lineModeGroups": [
         {
          "$type": "Tfl.Api.Presentation.Entities.LineModeGroup, Tfl.Api.Presentation.Entities",
          "lineIdentifier": [
           "14",
           "19",
           "22",
           "38",
           "6",
           "9",
           "n19",
           "n22",
           "n38",
           "n9",
           "n97"
          ],
          "modeName": "bus"
         },
         {
          "$type": "Tfl.Api.Presentation.Entities.LineModeGroup, Tfl.Api.Presentation.Entities",
          "lineIdentifier": [
           "jubilee",
           "piccadilly",
           "victoria"
          ],
          "modeName": "tube"
         }
        ],
        "lines": [
         {
          "$type": "Tfl.Api.Presentation.Entities.Identifier, Tfl.Api.Presentation.Entities",
          "crowding": {
           "$type": "Tfl.Api.Presentation.Entities.Crowding, Tfl.Api.Presentation.Entities"
          },
          "id": "14",
          "name": "14",
          "routeType": "Unknown",
          "status": "Unknown",
          "type": "Line",
          "uri": "/Line/14"
         },
         {
          "$type": "Tfl.Api.Presentation.Entities.Identifier, Tfl.Api.Presentation.Entities",
          "crowding": {
           "$type": "Tfl.Api.Presentation.Entities.Crowding, Tfl.Api.Presentation.Entities"
          },
          "id": "19",
          "name": "19",
          "routeType": "Unknown",
          "status": "Unknown",
          "type": "Line",
          "uri": "/Line/19"
         },
         {
          "$type": "Tfl.Api.Presentation.Entities.Identifier, Tfl.Api.Presentation.Entities",
          "crowding": {
           "$type": "Tfl.Api.Presentation.Entities.Crowding, Tfl.Api.Presentation.Entities"
          },
          "id": "22",
          "name": "22",
          "routeType": "Unknown",
          "status": "Unknown",
          "type": "Line",
          "uri": "/Line/22"
         },
         {
          "$type": "Tfl.Api.Presentation.Entities.Identifier, Tfl.Api.Presentation.Entities",
          "crowding": {
           "$type": "Tfl.Api.Presentation.Entities.Crowding, Tfl.Api.Presentation.Entities"
          },
          "id": "38",
          "name": "38",
          "routeType": "Unknown",
          "status": "Unknown",
          "type": "Line",
          "uri": "/Line/38"
         },
         {
          "$type": "Tfl.Api.Presentation.Entities.Identifier, Tfl.Api.Presentation.Entities",
          "crowding": {
           "$type": "Tfl.Api.Presentation.Entities.Crowding, Tfl.Api.Presentation.Entities"
          },
          "id": "6",
          "name": "6",
          "routeType": "Unknown",
          "status": "Unknown",
          "type": "Line",
          "uri": "/Line/6"
         },
         {
          "$type": "Tfl.Api.Presentation.Entities.Identifier, Tfl.Api.Presentation.Entities",
          "crowding": {
           "$type": "Tfl.Api.Presentation.Entities.Crowding, Tfl.Api.Presentation.Entities"
          },
          "id": "9",
          "name": "9",
          "routeType": "Unknown",
          "status": "Unknown",
          "type": "Line",
          "uri": "/Line/9"
         },
         {
          "$type": "Tfl.Api.Presentation.Entities.Identifier, Tfl.Api.Presentation.Entities",
          "crowding": {
           "$type": "Tfl.Api.Presentation.Entities.Crowding, Tfl.Api.Presentation.Entities"
          },
          "id": "jubilee",
          "name": "Jubilee",
          "routeType": "Unknown",
          "status": "Unknown",
          "type": "Line",
          "uri": "/Line/jubilee"
         },
         {
          "$type": "Tfl.Api.Presentation.Entities.Identifier, Tfl.Api.Presentation.Entities",
          "crowding": {
           "$type": "Tfl.Api.Presentation.Entities.Crowding, Tfl.Api.Presentation.Entities"
          },
          "id": "n19",
          "name": "N19",
          "routeType": "Unknown",
          "status": "Unknown",
          "type": "Line",
          "uri": "/Line/n19"
         },
         {
          "$type": "Tfl.Api.Presentation.Entities.Identifier, Tfl.Api.Presentation.Entities",
          "crowding": {
           "$type": "Tfl.Api.Presentation.Entities.Crowding, Tfl.Api.Presentation.Entities"
          },
          "id": "n22",
          "name": "N22",
          "routeType": "Unknown",
          "status": "Unknown",
          "type": "Line",
          "uri": "/Line/n22"
         },
         {
          "$type": "Tfl.Api.Presentation.Entities.Identifier, Tfl.Api.Presentation.Entities",
          "crowding": {
           "$type": "Tfl.Api.Presentation.Entities.Crowding, Tfl.Api.Presentation.Entities"
          },
          "id": "n38",
          "name": "N38",
          "routeType": "Unknown",
          "status": "Unknown",
          "type": "Line",
          "uri": "/Line/n38"
         },
         {
          "$type": "Tfl.Api.Presentation.Entities.Identifier, Tfl.Api.Presentation.Entities",
          "crowding": {
           "$type": "Tfl.Api.Presentation.Entities.Crowding, Tfl.Api.Presentation.Entities"
          },
          "id": "n9",
          "name": "N9",
          "routeType": "Unknown",
          "status": "Unknown",
          "type": "Line",
          "uri": "/Line/n9"
         },
         {
          "$type": "Tfl.Api.Presentation.Entities.Identifier, Tfl.Api.Presentation.Entities",
          "crowding": {
           "$type": "Tfl.Api.Presentation.Entities.Crowding, Tfl.Api.Presentation.Entities"
          },
          "id": "n97",
          "name": "N97",
          "routeType": "Unknown",
          "status": "Unknown",
          "type": "Line",
          "uri": "/Line/n97"
         },
         {
          "$type": "Tfl.Api.Presentation.Entities.Identifier, Tfl.Api.Presentation.Entities",
          "crowding": {
           "$type": "Tfl.Api.Presentation.Entities.Crowding, Tfl.Api.Presentation.Entities"
          },
          "id": "piccadilly",
          "name": "Piccadilly",
          "routeType": "Unknown",
          "status": "Unknown",
          "type": "Line",
          "uri": "/Line/piccadilly"
         },
         {
          "$type": "Tfl.Api.Presentation.Entities.Identifier, Tfl.Api.Presentation.Entities",
          "crowding": {
           "$type": "Tfl.Api.Presentation.Entities.Crowding, Tfl.Api.Presentation.Entities"
          },
          "id": "victoria",
          "name": "Victoria",
          "routeType": "Unknown",
          "status": "Unknown",
          "type": "Line",
          "uri": "/Line/victoria"
         }
        ],
        "lon": -0.142787,
        "modes": [
         "tube",
         "bus"
        ],
        "naptanId": "940GZZLUGPK",
        "placeType": "StopPoint",
        "stationNaptan": "940GZZLUGPK",
        "status": true,
        "stopType": "NaptanMetroStation"
       },
       {
        "$type": "Tfl.Api.Presentation.Entities.StopPoint, Tfl.Api.Presentation.Entities",
        "additionalProperties": [
         {
          "$type": "Tfl.Api.Presentation.Entities.AdditionalProperties, Tfl.Api.Presentation.Entities",
          "category": "ServiceInfo",
          "key": "Night",
          "sourceSystemKey": "TransXchangeETL",
          "value": "yes"
         },
         {
          "$type": "Tfl.Api.Presentation.Entities.AdditionalProperties, Tfl.Api.Presentation.Entities",
          "category": "Facility",
          "key": "Car park",
          "sourceSystemKey": "StaticObjects",
          "value": "no"
         },
         {
          "$type": "Tfl.Api.Presentation.Entities.AdditionalProperties, Tfl.Api.Presentation.Entities",
          "category": "Facility",
          "key": "Photo Booths",
          "sourceSystemKey": "StaticObjects",
          "value": "0"
         },
         {
          "$type": "Tfl.Api.Presentation.Entities.AdditionalProperties, Tfl.Api.Presentation.Entities",
          "category": "Facility",
          "key": "Other Facilities",
          "sourceSystemKey": "StaticObjects",
          "value": "taxi ranks outside station, routeways platform to ticket hall."
         },
         {
          "$type": "Tfl.Api.Presentation.Entities.AdditionalProperties, Tfl.Api.Presentation.Entities",
          "category": "Facility",
          "key": "Toilets",
          "sourceSystemKey": "StaticObjects",
          "value": "no"
         },
         {
          "$type": "Tfl.Api.Presentation.Entities.AdditionalProperties, Tfl.Api.Presentation.Entities",
          "category": "Facility",
          "key": "Bridge",
          "sourceSystemKey": "StaticObjects",
          "value": "yes"
         },
         {
          "$type": "Tfl.Api.Presentation.Entities.AdditionalProperties, Tfl.Api.Presentation.Entities",
          "category": "Facility",
          "key": "Cash Machines",
          "sourceSystemKey": "StaticObjects",
          "value": "0"
         },
         {
          "$type": "Tfl.Api.Presentation.Entities.AdditionalProperties, Tfl.Api.Presentation.Entities",
          "category": "Facility",
          "key": "Payphones",
          "sourceSystemKey": "StaticObjects",
          "value": "2"
         },
         {
          "$type": "Tfl.Api.Presentation.Entities.AdditionalProperties, Tfl.Api.Presentation.Entities",
          "category": "Facility",
          "key": "Waiting Room",
          "sourceSystemKey": "StaticObjects",
          "value": "no"
         },
         {
          "$type": "Tfl.Api.Presentation.Entities.AdditionalProperties, Tfl.Api.Presentation.Entities",
          "category": "Facility",
          "key": "Gates",
          "sourceSystemKey": "StaticObjects",
          "value": "7"
         },
         {
          "$type": "Tfl.Api.Presentation.Entities.AdditionalProperties, Tfl.Api.Presentation.Entities",
          "category": "Address",
          "key": "PhoneNo",
          "sourceSystemKey": "StaticObjects",
          "value": "0845 330 9880"
         },
         {
          "$type": "Tfl.Api.Presentation.Entities.AdditionalProperties, Tfl.Api.Presentation.Entities",
          "category": "Facility",
          "key": "WiFi",
          "sourceSystemKey": "StaticObjects",
          "value": "yes"
         },
         {
          "$type": "Tfl.Api.Presentation.Entities.AdditionalProperties, Tfl.Api.Presentation.Entities",
          "category": "Address",
          "key": "Address",
          "sourceSystemKey": "StaticObjects",
          "value": "Highbury & Islington Underground Station,London Underground Ltd.,Holloway Rd,London,N5 1RA"
         },
         {
          "$type": "Tfl.Api.Presentation.Entities.AdditionalProperties, Tfl.Api.Presentation.Entities",
          "category": "Geo",
          "key": "Zone",
          "sourceSystemKey": "StaticObjects",
          "value": "2"
         },
         {
          "$type": "Tfl.Api.Presentation.Entities.AdditionalProperties, Tfl.Api.Presentation.Entities",
          "category": "Facility",
          "key": "Ticket Halls",
          "sourceSystemKey": "StaticObjects",
          "value": "1"
         },
         {
          "$type": "Tfl.Api.Presentation.Entities.AdditionalProperties, Tfl.Api.Presentation.Entities",
          "category": "Facility",
          "key": "Boarding Ramps",
          "sourceSystemKey": "StaticObjects",
          "value": "yes London Overground Only"
         },
         {
          "$type": "Tfl.Api.Presentation.Entities.AdditionalProperties, Tfl.Api.Presentation.Entities",
          "category": "Facility",
          "key": "Escalators",
          "sourceSystemKey": "StaticObjects",
          "value": "2"
         },
         {
          "$type": "Tfl.Api.Presentation.Entities.AdditionalProperties, Tfl.Api.Presentation.Entities",
          "category": "Facility",
          "key": "Help Points",
          "sourceSystemKey": "StaticObjects",
          "value": "0 on platforms, 0 in ticket halls, 0 elsewhere"
         },
         {
          "$type": "Tfl.Api.Presentation.Entities.AdditionalProperties, Tfl.Api.Presentation.Entities",
          "category": "Facility",
          "key": "Lifts",
          "sourceSystemKey": "StaticObjects",
          "value": "3"
         }
        ],
        "children": [
         {
          "$type": "Tfl.Api.Presentation.Entities.StopPoint, Tfl.Api.Presentation.Entities",
          "additionalProperties": [],
          "children": [],
          "commonName": "Highbury & Islington Underground Station",
          "hubNaptanCode": "HUBHHY",
          "icsCode": "1000108",
          "id": "9400ZZLUHAI1",
          "lat": 0,
          "lineGroup": [],
          "lineModeGroups": [],
          "lines": [],
          "lon": 0,
          "modes": [],
          "naptanId": "9400ZZLUHAI1",
          "placeType": "StopPoint",
          "stationNaptan": "940GZZLUHAI",
          "status": true
         },
         {
          "$type": "Tfl.Api.Presentation.Entities.StopPoint, Tfl.Api.Presentation.Entities",
          "additionalProperties": [],
          "children": [],
          "commonName": "Highbury & Islington Underground Station",
          "hubNaptanCode": "HUBHHY",
          "icsCode": "1000108",
          "id": "9400ZZLUHAI2",
          "lat": 0,
          "lineGroup": [],
          "lineModeGroups": [],
          "lines": [],
          "lon": 0,
          "modes": [],
          "naptanId": "9400ZZLUHAI2",
          "placeType": "StopPoint",
          "stationNaptan": "940GZZLUHAI",
          "status": true
         }
        ],
        "commonName": "Highbury & Islington Underground Station",
        "hubNaptanCode": "HUBHHY",
        "icsCode": "1000108",
        "id": "940GZZLUHAI",
        "lat": 51.54635,
        "lineGroup": [
         {
          "$type": "Tfl.Api.Presentation.Entities.LineGroup, Tfl.Api.Presentation.Entities",
          "lineIdentifier": [
           "victoria"
          ],
          "stationAtcoCode": "940GZZLUHAI"
         }
        ],
        "lineModeGroups": [
         {
          "$type": "Tfl.Api.Presentation.Entities.LineModeGroup, Tfl.Api.Presentation.Entities",
          "lineIdentifier": [
           "victoria"
          ],
          "modeName": "tube"
         }
        ],
        "lines": [
         {
          "$type": "Tfl.Api.Presentation.Entities.Identifier, Tfl.Api.Presentation.Entities",
          "crowding": {
           "$type": "Tfl.Api.Presentation.Entities.Crowding, Tfl.Api.Presentation.Entities"
          },
          "id": "victoria",
          "name": "Victoria",
          "routeType": "Unknown",
          "status": "Unknown",
          "type": "Line",
          "uri": "/Line/victoria"
         }
        ],
        "lon": -0.103324,
        "modes": [
         "tube"
        ],
        "naptanId": "940GZZLUHAI",
        "placeType": "StopPoint",
        "stationNaptan": "940GZZLUHAI",
        "status": true,
        "stopType": "NaptanMetroStation"
       },
       {
        "$type": "Tfl.Api.Presentation.Entities.StopPoint, Tfl.Api.Presentation.Entities",
        "additionalProperties": [
         {
          "$type": "Tfl.Api.Presentation.Entities.AdditionalProperties, Tfl.Api.Presentation.Entities",
          "category": "ServiceInfo",
          "key": "Night",
          "sourceSystemKey": "TransXchangeETL",
          "value": "yes"
         },
         {
          "$type": "Tfl.Api.Presentation.Entities.AdditionalProperties, Tfl.Api.Presentation.Entities",
          "category": "Facility",
          "key": "Toilets",
          "sourceSystemKey": "StaticObjects",
          "value": "no"
         },
         {
          "$type": "Tfl.Api.Presentation.Entities.AdditionalProperties, Tfl.Api.Presentation.Entities",
          "category": "Facility",
          "key": "Bridge",
          "sourceSystemKey": "StaticObjects",
          "value": "no"
         },
         {
          "$type": "Tfl.Api.Presentation.Entities.AdditionalProperties, Tfl.Api.Presentation.Entities",
          "category": "Facility",
          "key": "Cash Machines",
          "sourceSystemKey": "StaticObjects",
          "value": "9"
         },
         {
          "$type": "Tfl.Api.Presentation.Entities.AdditionalProperties, Tfl.Api.Presentation.Entities",
          "category": "VisitorCentre",
          "key": "Location",
          "sourceSystemKey": "StaticObjects",
          "value": "Western Ticket Hall Underground Station"
         },
         {
          "$type": "Tfl.Api.Presentation.Entities.AdditionalProperties, Tfl.Api.Presentation.Entities",
          "category": "Facility",
          "key": "Gates",
          "sourceSystemKey": "StaticObjects",
          "value": "45"
         },
         {
          "$type": "Tfl.Api.Presentation.Entities.AdditionalProperties, Tfl.Api.Presentation.Entities",
          "category": "Address",
          "key": "PhoneNo",
          "sourceSystemKey": "StaticObjects",
          "value": "0845 330 9880"
         },
         {
          "$type": "Tfl.Api.Presentation.Entities.AdditionalProperties, Tfl.Api.Presentation.Entities",
          "category": "Facility",
          "key": "Ticket Halls",
          "sourceSystemKey": "StaticObjects",
          "value": "4"
         },
         {
          "$type": "Tfl.Api.Presentation.Entities.AdditionalProperties, Tfl.Api.Presentation.Entities",
          "category": "Facility",
          "key": "Lifts",
          "sourceSystemKey": "StaticObjects",
          "value": "10"
         },
         {
          "$type": "Tfl.Api.Presentation.Entities.AdditionalProperties, Tfl.Api.Presentation.Entities",
          "category": "Facility",
          "key": "Other Facilities",
          "sourceSystemKey": "StaticObjects",
          "value": "none"
         },
         {
          "$type": "Tfl.Api.Presentation.Entities.AdditionalProperties, Tfl.Api.Presentation.Entities",
          "category": "Facility",
          "key": "WiFi",
          "sourceSystemKey": "StaticObjects",
          "value": "yes"
         },
         {
          "$type": "Tfl.Api.Presentation.Entities.AdditionalProperties, Tfl.Api.Presentation.Entities",
          "category": "Geo",
          "key": "Zone",
          "sourceSystemKey": "StaticObjects",
          "value": "1"
         },
         {
          "$type": "Tfl.Api.Presentation.Entities.AdditionalProperties, Tfl.Api.Presentation.Entities",
          "category": "Address",
          "key": "Address",
          "sourceSystemKey": "StaticObjects",
          "value": "King's Cross St. Pancras,London Underground Ltd.,Euston Road,London,N1 9AL"
         },
         {
          "$type": "Tfl.Api.Presentation.Entities.AdditionalProperties, Tfl.Api.Presentation.Entities",
          "category": "Facility",
          "key": "Help Points",
          "sourceSystemKey": "StaticObjects",
          "value": "0 on platforms, 0 in ticket halls, 0 elsewhere"
         },
         {
          "$type": "Tfl.Api.Presentation.Entities.AdditionalProperties, Tfl.Api.Presentation.Entities",
          "category": "Facility",
          "key": "Waiting Room",
          "sourceSystemKey": "StaticObjects",
          "value": "no"
         },
         {
          "$type": "Tfl.Api.Presentation.Entities.AdditionalProperties, Tfl.Api.Presentation.Entities",
          "category": "Facility",
          "key": "Escalators",
          "sourceSystemKey": "StaticObjects",
          "value": "19"
         },
         {
          "$type": "Tfl.Api.Presentation.Entities.AdditionalProperties, Tfl.Api.Presentation.Entities",
          "category": "Facility",
          "key": "Euro Cash Machines",
          "sourceSystemKey": "StaticObjects",
          "value": "yes"
         },
         {
          "$type": "Tfl.Api.Presentation.Entities.AdditionalProperties, Tfl.Api.Presentation.Entities",
          "category": "Facility",
          "key": "Car park",
          "sourceSystemKey": "StaticObjects",
          "value": "no"
         },
         {
          "$type": "Tfl.Api.Presentation.Entities.AdditionalProperties, Tfl.Api.Presentation.Entities",
          "category": "Facility",
          "key": "Payphones",
          "sourceSystemKey": "StaticObjects",
          "value": "4"
         },
         {
          "$type": "Tfl.Api.Presentation.Entities.AdditionalProperties, Tfl.Api.Presentation.Entities",
          "category": "Facility",
          "key": "Photo Booths",
          "sourceSystemKey": "StaticObjects",
          "value": "0"
         },
         {
          "$type": "Tfl.Api.Presentation.Entities.AdditionalProperties, Tfl.Api.Presentation.Entities",
          "category": "Accessibility",
          "key": "AccessViaLift",
          "sourceSystemKey": "LRAD",
          "value": "Yes"
         },
         {
          "$type": "Tfl.Api.Presentation.Entities.AdditionalProperties, Tfl.Api.Presentation.Entities",
          "category": "Accessibility",
          "key": "BlueBadgeCarParkSpaces",
          "sourceSystemKey": "LRAD",
          "value": "0"
         },
         {
          "$type": "Tfl.Api.Presentation.Entities.AdditionalProperties, Tfl.Api.Presentation.Entities",
          "category": "Accessibility",
          "key": "LimitedCapacityLift",
          "sourceSystemKey": "LRAD",
          "value": "No"
         },
         {
          "$type": "Tfl.Api.Presentation.Entities.AdditionalProperties, Tfl.Api.Presentation.Entities",
          "category": "Accessibility",
          "key": "SpecificEntranceRequired",
          "sourceSystemKey": "LRAD",
          "value": "No"
         },
         {
          "$type": "Tfl.Api.Presentation.Entities.AdditionalProperties, Tfl.Api.Presentation.Entities",
          "category": "Accessibility",
          "key": "TaxiRankOutsideStation",
          "sourceSystemKey": "LRAD",
          "value": "Yes"
         },
         {
          "$type": "Tfl.Api.Presentation.Entities.AdditionalProperties, Tfl.Api.Presentation.Entities",
          "category": "Accessibility",
          "key": "Toilet",
          "sourceSystemKey": "LRAD",
          "value": "Yes"
         },
         {
          "$type": "Tfl.Api.Presentation.Entities.AdditionalProperties, Tfl.Api.Presentation.Entities",
          "category": "Accessibility",
          "key": "ToiletNote",
          "sourceSystemKey": "LRAD",
          "value": "(National Rail)"
         },
         {
          "$type": "Tfl.Api.Presentation.Entities.AdditionalProperties, Tfl.Api.Presentation.Entities",
          "category": "NearestPlaces",
          "key": "SourceSystemPlaceId",
          "sourceSystemKey": "StaticObjects",
          "value": "BikePoints_593"
         },
         {
          "$type": "Tfl.Api.Presentation.Entities.AdditionalProperties, Tfl.Api.Presentation.Entities",
          "category": "NearestPlaces",
          "key": "SourceSystemPlaceId",
          "sourceSystemKey": "StaticObjects",
          "value": "BikePoints_4"
         },
         {
          "$type": "Tfl.Api.Presentation.Entities.AdditionalProperties, Tfl.Api.Presentation.Entities",
          "category": "NearestPlaces",
          "key": "SourceSystemPlaceId",
          "sourceSystemKey": "StaticObjects",
          "value": "BikePoints_14"
         },
         {
          "$type": "Tfl.Api.Presentation.Entities.AdditionalProperties, Tfl.Api.Presentation.Entities",
          "category": "NearestPlaces",
          "key": "SourceSystemPlaceId",
          "sourceSystemKey": "StaticObjects",
          "value": "BikePoints_70"
         },
         {
          "$type": "Tfl.Api.Presentation.Entities.AdditionalProperties, Tfl.Api.Presentation.Entities",
          "category": "NearestPlaces",
          "key": "SourceSystemPlaceId",
          "sourceSystemKey": "StaticObjects",
          "value": "BikePoints_89"
         },
         {
          "$type": "Tfl.Api.Presentation.Entities.AdditionalProperties, Tfl.Api.Presentation.Entities",
          "category": "NearestPlaces",
          "key": "SourceSystemPlaceId",
          "sourceSystemKey": "StaticObjects",
          "value": "BikePoints_431"
         },
         {
          "$type": "Tfl.Api.Presentation.Entities.AdditionalProperties, Tfl.Api.Presentation.Entities",
          "category": "NearestPlaces",
          "key": "SourceSystemPlaceId",
          "sourceSystemKey": "StaticObjects",
          "value": "BikePoints_439"
         },
         {
          "$type": "Tfl.Api.Presentation.Entities.AdditionalProperties, Tfl.Api.Presentation.Entities",
          "category": "NearestPlaces",
          "key": "SourceSystemPlaceId",
          "sourceSystemKey": "StaticObjects",
          "value": "BikePoints_793"
         },
         {
          "$type": "Tfl.Api.Presentation.Entities.AdditionalProperties, Tfl.Api.Presentation.Entities",
          "category": "NearestPlaces",
          "key": "SourceSystemPlaceId",
          "sourceSystemKey": "StaticObjects",
          "value": "BikePoints_797"
         },
         {
          "$type": "Tfl.Api.Presentation.Entities.AdditionalProperties, Tfl.Api.Presentation.Entities",
          "category": "NearestPlaces",
          "key": "SourceSystemPlaceId",
          "sourceSystemKey": "StaticObjects",
          "value": "BikePoints_798"
         },
         {
          "$type": "Tfl.Api.Presentation.Entities.AdditionalProperties, Tfl.Api.Presentation.Entities",
          "category": "NearestPlaces",
          "key": "SourceSystemPlaceId",
          "sourceSystemKey": "StaticObjects",
          "value": "BikePoints_804"
         },
         {
          "$type": "Tfl.Api.Presentation.Entities.AdditionalProperties, Tfl.Api.Presentation.Entities",
          "category": "NearestPlaces",
          "key": "SourceSystemPlaceId",
          "sourceSystemKey": "StaticObjects",
          "value": "TaxiRank_5237"
         },
         {
          "$type": "Tfl.Api.Presentation.Entities.AdditionalProperties, Tfl.Api.Presentation.Entities",
          "category": "NearestPlaces",
          "key": "SourceSystemPlaceId",
          "sourceSystemKey": "StaticObjects",
          "value": "TaxiRank_5896"
         },
         {
          "$type": "Tfl.Api.Presentation.Entities.AdditionalProperties, Tfl.Api.Presentation.Entities",
          "category": "NearestPlaces",
          "key": "SourceSystemPlaceId",
          "sourceSystemKey": "StaticObjects",
          "value": "TaxiRank_5708"
         }
        ],
        "children": [
         {
          "$type": "Tfl.Api.Presentation.Entities.StopPoint, Tfl.Api.Presentation.Entities",
          "additionalProperties": [],
          "children": [],
          "commonName": "King's Cross St. Pancras Underground Station",
          "hubNaptanCode": "HUBKGX",
          "icsCode": "1000129",
          "id": "9400ZZLUKSX3",
          "lat": 0,
          "lineGroup": [],
          "lineModeGroups": [],
          "lines": [],
          "lon": 0,
          "modes": [],
          "naptanId": "9400ZZLUKSX3",
          "placeType": "StopPoint",
          "stationNaptan": "940GZZLUKSX",
          "status": true
         },
         {
          "$type": "Tfl.Api.Presentation.Entities.StopPoint, Tfl.Api.Presentation.Entities",
          "additionalProperties": [],
          "children": [],
          "commonName": "King's Cross St. Pancras Underground Station",
          "hubNaptanCode": "HUBKGX",
          "icsCode": "1000129",
          "id": "9400ZZLUKSX4",
          "lat": 0,
          "lineGroup": [],
          "lineModeGroups": [],
          "lines": [],
          "lon": 0,
          "modes": [],
          "naptanId": "9400ZZLUKSX4",
          "placeType": "StopPoint",
          "stationNaptan": "940GZZLUKSX",
          "status": true
         },
         {
          "$type": "Tfl.Api.Presentation.Entities.StopPoint, Tfl.Api.Presentation.Entities",
          "additionalProperties": [],
          "children": [],
          "commonName": "King's Cross St. Pancras Underground Station",
          "hubNaptanCode": "HUBKGX",
          "icsCode": "1000129",
          "id": "9400ZZLUKSX5",
          "lat": 0,
          "lineGroup": [],
          "lineModeGroups": [],
          "lines": [],
          "lon": 0,
          "modes": [],
          "naptanId": "9400ZZLUKSX5",
          "placeType": "StopPoint",
          "stationNaptan": "940GZZLUKSX",
          "status": true
         },
         {
          "$type": "Tfl.Api.Presentation.Entities.StopPoint, Tfl.Api.Presentation.Entities",
          "additionalProperties": [],
          "children": [],
          "commonName": "King's Cross St. Pancras Underground Station",
          "hubNaptanCode": "HUBKGX",
          "icsCode": "1000129",
          "id": "9400ZZLUKSX6",
          "lat": 0,
          "lineGroup": [],
          "lineModeGroups": [],
          "lines": [],
          "lon": 0,
          "modes": [],
          "naptanId": "9400ZZLUKSX6",
          "placeType": "StopPoint",
          "stationNaptan": "940GZZLUKSX",
          "status": true
         },
         {
          "$type": "Tfl.Api.Presentation.Entities.StopPoint, Tfl.Api.Presentation.Entities",
          "additionalProperties": [],
          "children": [],
          "commonName": "King's Cross St. Pancras Underground Station",
          "hubNaptanCode": "HUBKGX",
          "icsCode": "1000129",
          "id": "9400ZZLUKSX7",
          "lat": 0,
          "lineGroup": [],
          "lineModeGroups": [],
          "lines": [],
          "lon": 0,
          "modes": [],
          "naptanId": "9400ZZLUKSX7",
          "placeType": "StopPoint",
          "stationNaptan": "940GZZLUKSX",
          "status": true
         },
         {
          "$type": "Tfl.Api.Presentation.Entities.StopPoint, Tfl.Api.Presentation.Entities",
          "additionalProperties": [],
          "children": [],
          "commonName": "King's Cross St. Pancras Underground Station",
          "hubNaptanCode": "HUBKGX",
          "icsCode": "1000129",
          "id": "9400ZZLUKSX1",
          "lat": 0,
          "lineGroup": [],
          "lineModeGroups": [],
          "lines": [],
          "lon": 0,
          "modes": [],
          "naptanId": "9400ZZLUKSX1",
          "placeType": "StopPoint",
          "stationNaptan": "940GZZLUKSX",
          "status": true
         },
         {
          "$type": "Tfl.Api.Presentation.Entities.StopPoint, Tfl.Api.Presentation.Entities",
          "additionalProperties": [],
          "children": [],
          "commonName": "King's Cross St. Pancras Underground Station",
          "hubNaptanCode": "HUBKGX",
          "icsCode": "1000129",
          "id": "9400ZZLUKSX2",
          "lat": 0,
          "lineGroup": [],
          "lineModeGroups": [],
          "lines": [],
          "lon": 0,
          "modes": [],
          "naptanId": "9400ZZLUKSX2",
          "placeType": "StopPoint",
          "stationNaptan": "940GZZLUKSX",
          "status": true
         }
        ],
        "commonName": "King's Cross St. Pancras Underground Station",
        "hubNaptanCode": "HUBKGX",
        "icsCode": "1000129",
        "id": "940GZZLUKSX",
        "lat": 51.530663,
        "lineGroup": [
         {
          "$type": "Tfl.Api.Presentation.Entities.LineGroup, Tfl.Api.Presentation.Entities",
          "lineIdentifier": [
           "circle",
           "hammersmith-city",
           "metropolitan"
          ],
          "stationAtcoCode": "940GZZLUKSX"
         },
         {
          "$type": "Tfl.Api.Presentation.Entities.LineGroup, Tfl.Api.Presentation.Entities",
          "lineIdentifier": [
           "northern"
          ],
          "stationAtcoCode": "940GZZLUKSX"
         },
         {
          "$type": "Tfl.Api.Presentation.Entities.LineGroup, Tfl.Api.Presentation.Entities",
          "lineIdentifier": [
           "piccadilly"
          ],
          "stationAtcoCode": "940GZZLUKSX"
         },
         {
          "$type": "Tfl.Api.Presentation.Entities.LineGroup, Tfl.Api.Presentation.Entities",
          "lineIdentifier": [
           "victoria"
          ],
          "stationAtcoCode": "940GZZLUKSX"
         }
        ],
        "lineModeGroups": [
         {
          "$type": "Tfl.Api.Presentation.Entities.LineModeGroup, Tfl.Api.Presentation.Entities",
          "lineIdentifier": [
           "circle",
           "hammersmith-city",
           "metropolitan",
           "northern",
           "piccadilly",
           "victoria"
          ],
          "modeName": "tube"
         }
        ],
        "lines": [
         {
          "$type": "Tfl.Api.Presentation.Entities.Identifier, Tfl.Api.Presentation.Entities",
          "crowding": {
           "$type": "Tfl.Api.Presentation.Entities.Crowding, Tfl.Api.Presentation.Entities"
          },
          "id": "circle",
          "name": "Circle",
          "routeType": "Unknown",
          "status": "Unknown",
          "type": "Line",
          "uri": "/Line/circle"
         },
         {
          "$type": "Tfl.Api.Presentation.Entities.Identifier, Tfl.Api.Presentation.Entities",
          "crowding": {
           "$type": "Tfl.Api.Presentation.Entities.Crowding, Tfl.Api.Presentation.Entities"
          },
          "id": "hammersmith-city",
          "name": "Hammersmith & City",
          "routeType": "Unknown",
          "status": "Unknown",
          "type": "Line",
          "uri": "/Line/hammersmith-city"
         },
         {
          "$type": "Tfl.Api.Presentation.Entities.Identifier, Tfl.Api.Presentation.Entities",
          "crowding": {
           "$type": "Tfl.Api.Presentation.Entities.Crowding, Tfl.Api.Presentation.Entities"
          },
          "id": "metropolitan",
          "name": "Metropolitan",
          "routeType": "Unknown",
          "status": "Unknown",
          "type": "Line",
          "uri": "/Line/metropolitan"
         },
         {
          "$type": "Tfl.Api.Presentation.Entities.Identifier, Tfl.Api.Presentation.Entities",
          "crowding": {
           "$type": "Tfl.Api.Presentation.Entities.Crowding, Tfl.Api.Presentation.Entities"
          },
          "id": "northern",
          "name": "Northern",
          "routeType": "Unknown",
          "status": "Unknown",
          "type": "Line",
          "uri": "/Line/northern"
         },
         {
          "$type": "Tfl.Api.Presentation.Entities.Identifier, Tfl.Api.Presentation.Entities",
          "crowding": {
           "$type": "Tfl.Api.Presentation.Entities.Crowding, Tfl.Api.Presentation.Entities"
          },
          "id": "piccadilly",
          "name": "Piccadilly",
          "routeType": "Unknown",
          "status": "Unknown",
          "type": "Line",
          "uri": "/Line/piccadilly"
         },
         {
          "$type": "Tfl.Api.Presentation.Entities.Identifier, Tfl.Api.Presentation.Entities",
          "crowding": {
           "$type": "Tfl.Api.Presentation.Entities.Crowding, Tfl.Api.Presentation.Entities"
          },
          "id": "victoria",
          "name": "Victoria",
          "routeType": "Unknown",
          "status": "Unknown",
          "type": "Line",
          "uri": "/Line/victoria"
         }
        ],
        "lon": -0.123194,
        "modes": [
         "tube"
        ],
        "naptanId": "940GZZLUKSX",
        "placeType": "StopPoint",
        "stationNaptan": "940GZZLUKSX",
        "status": true,
        "stopType": "NaptanMetroStation"
       },
       {
        "$type": "Tfl.Api.Presentation.Entities.StopPoint, Tfl.Api.Presentation.Entities",
        "additionalProperties": [
         {
          "$type": "Tfl.Api.Presentation.Entities.AdditionalProperties, Tfl.Api.Presentation.Entities",
          "category": "ServiceInfo",
          "key": "Night",
          "sourceSystemKey": "TransXchangeETL",
          "value": "yes"
         },
         {
          "$type": "Tfl.Api.Presentation.Entities.AdditionalProperties, Tfl.Api.Presentation.Entities",
          "category": "Facility",
          "key": "Lifts",
          "sourceSystemKey": "StaticObjects",
          "value": "0"
         },
         {
          "$type": "Tfl.Api.Presentation.Entities.AdditionalProperties, Tfl.Api.Presentation.Entities",
          "category": "Address",
          "key": "PhoneNo",
          "sourceSystemKey": "StaticObjects",
          "value": "0845 330 9880"
         },
         {
          "$type": "Tfl.Api.Presentation.Entities.AdditionalProperties, Tfl.Api.Presentation.Entities",
          "category": "Facility",
          "key": "WiFi",
          "sourceSystemKey": "StaticObjects",
          "value": "yes"
         },
         {
          "$type": "Tfl.Api.Presentation.Entities.AdditionalProperties, Tfl.Api.Presentation.Entities",
          "category": "Geo",
          "key": "Zone",
          "sourceSystemKey": "StaticObjects",
          "value": "1"
         },
         {
          "$type": "Tfl.Api.Presentation.Entities.AdditionalProperties, Tfl.Api.Presentation.Entities",
          "category": "Facility",
          "key": "Bridge",
          "sourceSystemKey": "StaticObjects",
          "value": "no"
         },
         {
          "$type": "Tfl.Api.Presentation.Entities.AdditionalProperties, Tfl.Api.Presentation.Entities",
          "category": "Facility",
          "key": "Gates",
          "sourceSystemKey": "StaticObjects",
          "value": "30"
         },
         {
          "$type": "Tfl.Api.Presentation.Entities.AdditionalProperties, Tfl.Api.Presentation.Entities",
          "category": "Facility",
          "key": "Payphones",
          "sourceSystemKey": "StaticObjects",
          "value": "3"
         },
         {
          "$type": "Tfl.Api.Presentation.Entities.AdditionalProperties, Tfl.Api.Presentation.Entities",
          "category": "Facility",
          "key": "Photo Booths",
          "sourceSystemKey": "StaticObjects",
          "value": "0"
         },
         {
          "$type": "Tfl.Api.Presentation.Entities.AdditionalProperties, Tfl.Api.Presentation.Entities",
          "category": "Facility",
          "key": "Cash Machines",
          "sourceSystemKey": "StaticObjects",
          "value": "3"
         },
         {
          "$type": "Tfl.Api.Presentation.Entities.AdditionalProperties, Tfl.Api.Presentation.Entities",
          "category": "Facility",
          "key": "Toilets",
          "sourceSystemKey": "StaticObjects",
          "value": "no"
         },
         {
          "$type": "Tfl.Api.Presentation.Entities.AdditionalProperties, Tfl.Api.Presentation.Entities",
          "category": "Facility",
          "key": "Car park",
          "sourceSystemKey": "StaticObjects",
          "value": "no"
         },
         {
          "$type": "Tfl.Api.Presentation.Entities.AdditionalProperties, Tfl.Api.Presentation.Entities",
          "category": "Facility",
          "key": "Escalators",
          "sourceSystemKey": "StaticObjects",
          "value": "14"
         },
         {
          "$type": "Tfl.Api.Presentation.Entities.AdditionalProperties, Tfl.Api.Presentation.Entities",
          "category": "Facility",
          "key": "Euro Cash Machines",
          "sourceSystemKey": "StaticObjects",
          "value": "yes"
         },
         {
          "$type": "Tfl.Api.Presentation.Entities.AdditionalProperties, Tfl.Api.Presentation.Entities",
          "category": "Facility",
          "key": "Ticket Halls",
          "sourceSystemKey": "StaticObjects",
          "value": "2"
         },
         {
          "$type": "Tfl.Api.Presentation.Entities.AdditionalProperties, Tfl.Api.Presentation.Entities",
          "category": "Address",
          "key": "Address",
          "sourceSystemKey": "StaticObjects",
          "value": "Oxford Circus Station,London Underground Ltd.,Oxford St,London,W1B 3AG"
         },
         {
          "$type": "Tfl.Api.Presentation.Entities.AdditionalProperties, Tfl.Api.Presentation.Entities",
          "category": "Facility",
          "key": "Other Facilities",
          "sourceSystemKey": "StaticObjects",
          "value": "canopies over platform, routeways platform to ticket hall."
         },
         {
          "$type": "Tfl.Api.Presentation.Entities.AdditionalProperties, Tfl.Api.Presentation.Entities",
          "category": "Facility",
          "key": "Waiting Room",
          "sourceSystemKey": "StaticObjects",
          "value": "no"
         },
         {
          "$type": "Tfl.Api.Presentation.Entities.AdditionalProperties, Tfl.Api.Presentation.Entities",
          "category": "Facility",
          "key": "Help Points",
          "sourceSystemKey": "StaticObjects",
          "value": "18 on platforms, 0 in ticket halls, 18 elsewhere"
         },
         {
          "$type": "Tfl.Api.Presentation.Entities.AdditionalProperties, Tfl.Api.Presentation.Entities",
          "category": "Accessibility",
          "key": "AccessViaLift",
          "sourceSystemKey": "LRAD",
          "value": "No"
         },
         {
          "$type": "Tfl.Api.Presentation.Entities.AdditionalProperties, Tfl.Api.Presentation.Entities",
          "category": "Accessibility",
          "key": "BlueBadgeCarParkSpaces",
          "sourceSystemKey": "LRAD",
          "value": "0"
         },
         {
          "$type": "Tfl.Api.Presentation.Entities.AdditionalProperties, Tfl.Api.Presentation.Entities",
          "category": "Accessibility",
          "key": "LimitedCapacityLift",
          "sourceSystemKey": "LRAD",
          "value": "No"
         },
         {
          "$type": "Tfl.Api.Presentation.Entities.AdditionalProperties, Tfl.Api.Presentation.Entities",
          "category": "Accessibility",
          "key": "TaxiRankOutsideStation",
          "sourceSystemKey": "LRAD",
          "value": "No"
         },
         {
          "$type": "Tfl.Api.Presentation.Entities.AdditionalProperties, Tfl.Api.Presentation.Entities",
          "category": "Accessibility",
          "key": "Toilet",
          "sourceSystemKey": "LRAD",
          "value": "No"
         },
         {
          "$type": "Tfl.Api.Presentation.Entities.AdditionalProperties, Tfl.Api.Presentation.Entities",
          "category": "NearestPlaces",
          "key": "SourceSystemPlaceId",
          "sourceSystemKey": "StaticObjects",
          "value": "BikePoints_106"
         },
         {
          "$type": "Tfl.Api.Presentation.Entities.AdditionalProperties, Tfl.Api.Presentation.Entities",
          "category": "NearestPlaces",
          "key": "SourceSystemPlaceId",
          "sourceSystemKey": "StaticObjects",
          "value": "BikePoints_116"
         },
         {
          "$type": "Tfl.Api.Presentation.Entities.AdditionalProperties, Tfl.Api.Presentation.Entities",
          "category": "NearestPlaces",
          "key": "SourceSystemPlaceId",
          "sourceSystemKey": "StaticObjects",
          "value": "BikePoints_141"
         },
         {
          "$type": "Tfl.Api.Presentation.Entities.AdditionalProperties, Tfl.Api.Presentation.Entities",
          "category": "NearestPlaces",
          "key": "SourceSystemPlaceId",
          "sourceSystemKey": "StaticObjects",
          "value": "BikePoints_159"
         },
         {
          "$type": "Tfl.Api.Presentation.Entities.AdditionalProperties, Tfl.Api.Presentation.Entities",
          "category": "NearestPlaces",
          "key": "SourceSystemPlaceId",
          "sourceSystemKey": "StaticObjects",
          "value": "BikePoints_6"
         },
         {
          "$type": "Tfl.Api.Presentation.Entities.AdditionalProperties, Tfl.Api.Presentation.Entities",
          "category": "NearestPlaces",
          "key": "SourceSystemPlaceId",
          "sourceSystemKey": "StaticObjects",
          "value": "BikePoints_260"
         },
         {
          "$type": "Tfl.Api.Presentation.Entities.AdditionalProperties, Tfl.Api.Presentation.Entities",
          "category": "NearestPlaces",
          "key": "SourceSystemPlaceId",
          "sourceSystemKey": "StaticObjects",
          "value": "BikePoints_301"
         },
         {
          "$type": "Tfl.Api.Presentation.Entities.AdditionalProperties, Tfl.Api.Presentation.Entities",
          "category": "NearestPlaces",
          "key": "SourceSystemPlaceId",
          "sourceSystemKey": "StaticObjects",
          "value": "BikePoints_311"
         },
         {
          "$type": "Tfl.Api.Presentation.Entities.AdditionalProperties, Tfl.Api.Presentation.Entities",
          "category": "NearestPlaces",
          "key": "SourceSystemPlaceId",
          "sourceSystemKey": "StaticObjects",
          "value": "BikePoints_313"
         },
         {
          "$type": "Tfl.Api.Presentation.Entities.AdditionalProperties, Tfl.Api.Presentation.Entities",
          "category": "NearestPlaces",
          "key": "SourceSystemPlaceId",
          "sourceSystemKey": "StaticObjects",
          "value": "BikePoints_349"
         },
         {
          "$type": "Tfl.Api.Presentation.Entities.AdditionalProperties, Tfl.Api.Presentation.Entities",
          "category": "NearestPlaces",
          "key": "SourceSystemPlaceId",
          "sourceSystemKey": "StaticObjects",
          "value": "TaxiRank_5683"
         },
         {
          "$type": "Tfl.Api.Presentation.Entities.AdditionalProperties, Tfl.Api.Presentation.Entities",
          "category": "NearestPlaces",
          "key": "SourceSystemPlaceId",
          "sourceSystemKey": "StaticObjects",
          "value": "TaxiRank_5576"
         },
         {
          "$type": "Tfl.Api.Presentation.Entities.AdditionalProperties, Tfl.Api.Presentation.Entities",
          "category": "NearestPlaces",
          "key": "SourceSystemPlaceId",
          "sourceSystemKey": "StaticObjects",
          "value": "TaxiRank_5379"
         },
         {
          "$type": "Tfl.Api.Presentation.Entities.AdditionalProperties, Tfl.Api.Presentation.Entities",
          "category": "NearestPlaces",
          "key": "SourceSystemPlaceId",
          "sourceSystemKey": "StaticObjects",
          "value": "TaxiRank_4334"
         },
         {
          "$type": "Tfl.Api.Presentation.Entities.AdditionalProperties, Tfl.Api.Presentation.Entities",
          "category": "NearestPlaces",
          "key": "SourceSystemPlaceId",
          "sourceSystemKey": "StaticObjects",
          "value": "TaxiRank_5580"
         },
         {
          "$type": "Tfl.Api.Presentation.Entities.AdditionalProperties, Tfl.Api.Presentation.Entities",
          "category": "NearestPlaces",
          "key": "SourceSystemPlaceId",
          "sourceSystemKey": "StaticObjects",
          "value": "TaxiRank_5500"
         },
         {
          "$type": "Tfl.Api.Presentation.Entities.AdditionalProperties, Tfl.Api.Presentation.Entities",
          "category": "NearestPlaces",
          "key": "SourceSystemPlaceId",
          "sourceSystemKey": "StaticObjects",
          "value": "TaxiRank_4787"
         },
         {
          "$type": "Tfl.Api.Presentation.Entities.AdditionalProperties, Tfl.Api.Presentation.Entities",
          "category": "NearestPlaces",
          "key": "SourceSystemPlaceId",
          "sourceSystemKey": "StaticObjects",
          "value": "TaxiRank_5866"
         },
         {
          "$type": "Tfl.Api.Presentation.Entities.AdditionalProperties, Tfl.Api.Presentation.Entities",
          "category": "NearestPlaces",
          "key": "SourceSystemPlaceId",
          "sourceSystemKey": "StaticObjects",
          "value": "TaxiRank_5677"
         },
         {
          "$type": "Tfl.Api.Presentation.Entities.AdditionalProperties, Tfl.Api.Presentation.Entities",
          "category": "NearestPlaces",
          "key": "SourceSystemPlaceId",
          "sourceSystemKey": "StaticObjects",
          "value": "TaxiRank_5074"
         },
         {
          "$type": "Tfl.Api.Presentation.Entities.AdditionalProperties, Tfl.Api.Presentation.Entities",
          "category": "NearestPlaces",
          "key": "SourceSystemPlaceId",
          "sourceSystemKey": "StaticObjects",
          "value": "TaxiRank_5195"
         },
         {
          "$type": "Tfl.Api.Presentation.Entities.AdditionalProperties, Tfl.Api.Presentation.Entities",
          "category": "NearestPlaces",
          "key": "SourceSystemPlaceId",
          "sourceSystemKey": "StaticObjects",
          "value": "TaxiRank_5660"
         },
         {
          "$type": "Tfl.Api.Presentation.Entities.AdditionalProperties, Tfl.Api.Presentation.Entities",
          "category": "NearestPlaces",
          "key": "SourceSystemPlaceId",
          "sourceSystemKey": "StaticObjects",
          "value": "TaxiRank_5015"
         },
         {
          "$type": "Tfl.Api.Presentation.Entities.AdditionalProperties, Tfl.Api.Presentation.Entities",
          "category": "NearestPlaces",
          "key": "SourceSystemPlaceId",
          "sourceSystemKey": "StaticObjects",
          "value": "TaxiRank_4603"
         },
         {
          "$type": "Tfl.Api.Presentation.Entities.AdditionalProperties, Tfl.Api.Presentation.Entities",
          "category": "NearestPlaces",
          "key": "SourceSystemPlaceId",
          "sourceSystemKey": "StaticObjects",
          "value": "TaxiRank_5627"
         },
         {
          "$type": "Tfl.Api.Presentation.Entities.AdditionalProperties, Tfl.Api.Presentation.Entities",
          "category": "NearestPlaces",
          "key": "SourceSystemPlaceId",
          "sourceSystemKey": "StaticObjects",
          "value": "TaxiRank_5065"
         },
         {
          "$type": "Tfl.Api.Presentation.Entities.AdditionalProperties, Tfl.Api.Presentation.Entities",
          "category": "NearestPlaces",
          "key": "SourceSystemPlaceId",
          "sourceSystemKey": "StaticObjects",
          "value": "TaxiRank_5816"
         },
         {
          "$type": "Tfl.Api.Presentation.Entities.AdditionalProperties, Tfl.Api.Presentation.Entities",
          "category": "NearestPlaces",
          "key": "SourceSystemPlaceId",
          "sourceSystemKey": "StaticObjects",
          "value": "TaxiRank_5611"
         }
        ],
        "children": [
         {
          "$type": "Tfl.Api.Presentation.Entities.StopPoint, Tfl.Api.Presentation.Entities",
          "additionalProperties": [],
          "children": [],
          "commonName": "Oxford Circus Underground Station",
          "icsCode": "1000173",
          "id": "9400ZZLUOXC3",
          "lat": 0,
          "lineGroup": [],
          "lineModeGroups": [],
          "lines": [],
          "lon": 0,
          "modes": [],
          "naptanId": "9400ZZLUOXC3",
          "placeType": "StopPoint",
          "stationNaptan": "940GZZLUOXC",
          "status": true
         },
         {
          "$type": "Tfl.Api.Presentation.Entities.StopPoint, Tfl.Api.Presentation.Entities",
          "additionalProperties": [],
          "children": [],
          "commonName": "Oxford Circus Underground Station",
          "icsCode": "1000173",
          "id": "9400ZZLUOXC4",
          "lat": 0,
          "lineGroup": [],
          "lineModeGroups": [],
          "lines": [],
          "lon": 0,
          "modes": [],
          "naptanId": "9400ZZLUOXC4",
          "placeType": "StopPoint",
          "stationNaptan": "940GZZLUOXC",
          "status": true
         },
         {
          "$type": "Tfl.Api.Presentation.Entities.StopPoint, Tfl.Api.Presentation.Entities",
          "additionalProperties": [],
          "children": [],
          "commonName": "Oxford Circus Underground Station",
          "icsCode": "1000173",
          "id": "9400ZZLUOXC1",
          "lat": 0,
          "lineGroup": [],
          "lineModeGroups": [],
          "lines": [],
          "lon": 0,
          "modes": [],
          "naptanId": "9400ZZLUOXC1",
          "placeType": "StopPoint",
          "stationNaptan": "940GZZLUOXC",
          "status": true
         },
         {
          "$type": "Tfl.Api.Presentation.Entities.StopPoint, Tfl.Api.Presentation.Entities",
          "additionalProperties": [],
          "children": [],
          "commonName": "Oxford Circus Underground Station",
          "icsCode": "1000173",
          "id": "9400ZZLUOXC5",
          "lat": 0,
          "lineGroup": [],
          "lineModeGroups": [],
          "lines": [],
          "lon": 0,
          "modes": [],
          "naptanId": "9400ZZLUOXC5",
          "placeType": "StopPoint",
          "stationNaptan": "940GZZLUOXC",
          "status": true
         },
         {
          "$type": "Tfl.Api.Presentation.Entities.StopPoint, Tfl.Api.Presentation.Entities",
          "additionalProperties": [],
          "children": [],
          "commonName": "Oxford Circus Underground Station",
          "icsCode": "1000173",
          "id": "9400ZZLUOXC2",
          "lat": 0,
          "lineGroup": [],
          "lineModeGroups": [],
          "lines": [],
          "lon": 0,
          "modes": [],
          "naptanId": "9400ZZLUOXC2",
          "placeType": "StopPoint",
          "stationNaptan": "940GZZLUOXC",
          "status": true
         },
         {
          "$type": "Tfl.Api.Presentation.Entities.StopPoint, Tfl.Api.Presentation.Entities",
          "additionalProperties": [],
          "children": [],
          "commonName": "Oxford Circus Underground Station",
          "icsCode": "1000173",
          "id": "9400ZZLUOXC6",
          "lat": 0,
          "lineGroup": [],
          "lineModeGroups": [],
          "lines": [],
          "lon": 0,
          "modes": [],
          "naptanId": "9400ZZLUOXC6",
          "placeType": "StopPoint",
          "stationNaptan": "940GZZLUOXC",
          "status": true
         }
        ],
        "commonName": "Oxford Circus Underground Station",
        "icsCode": "1000173",
        "id": "940GZZLUOXC",
        "lat": 51.515224,
        "lineGroup": [
         {
          "$type": "Tfl.Api.Presentation.Entities.LineGroup, Tfl.Api.Presentation.Entities",
          "lineIdentifier": [
           "113",
           "n137"
          ],
          "naptanIdReference": "490000173Z",
          "stationAtcoCode": "490G00173OQ"
         },
         {
          "$type": "Tfl.Api.Presentation.Entities.LineGroup, Tfl.Api.Presentation.Entities",
          "lineIdentifier": [
           "12",
           "159",
           "22",
           "88",
           "94",
           "n15",
           "n22",
           "n3"
          ],
          "naptanIdReference": "490000173RC",
          "stationAtcoCode": "490G00173RG"
         },
         {
          "$type": "Tfl.Api.Presentation.Entities.LineGroup, Tfl.Api.Presentation.Entities",
          "lineIdentifier": [
           "139",
           "159",
           "22",
           "94",
           "n109",
           "n113",
           "n136",
           "n15",
           "n18",
           "n22"
          ],
          "naptanIdReference": "490000173RG",
          "stationAtcoCode": "490G00173RG"
         },
         {
          "$type": "Tfl.Api.Presentation.Entities.LineGroup, Tfl.Api.Presentation.Entities",
          "lineIdentifier": [
           "bakerloo"
          ],
          "stationAtcoCode": "940GZZLUOXC"
         },
         {
          "$type": "Tfl.Api.Presentation.Entities.LineGroup, Tfl.Api.Presentation.Entities",
          "lineIdentifier": [
           "central"
          ],
          "stationAtcoCode": "940GZZLUOXC"
         },
         {
          "$type": "Tfl.Api.Presentation.Entities.LineGroup, Tfl.Api.Presentation.Entities",
          "lineIdentifier": [
           "victoria"
          ],
          "stationAtcoCode": "940GZZLUOXC"
         }
        ],
        "lineModeGroups": [
         {
          "$type": "Tfl.Api.Presentation.Entities.LineModeGroup, Tfl.Api.Presentation.Entities",
          "lineIdentifier": [
           "113",
           "12",
           "139",
           "159",
           "22",
           "88",
           "94",
           "n109",
           "n113",
           "n136",
           "n137",
           "n15",
           "n18",
           "n22",
           "n3"
          ],
          "modeName": "bus"
         },
         {
          "$type": "Tfl.Api.Presentation.Entities.LineModeGroup, Tfl.Api.Presentation.Entities",
          "lineIdentifier": [
           "bakerloo",
           "central",
           "victoria"
          ],
          "modeName": "tube"
         }
        ],
        "lines": [
         {
          "$type": "Tfl.Api.Presentation.Entities.Identifier, Tfl.Api.Presentation.Entities",
          "crowding": {
           "$type": "Tfl.Api.Presentation.Entities.Crowding, Tfl.Api.Presentation.Entities"
          },
          "id": "113",
          "name": "113",
          "routeType": "Unknown",
          "status": "Unknown",
          "type": "Line",
          "uri": "/Line/113"
         },
         {
          "$type": "Tfl.Api.Presentation.Entities.Identifier, Tfl.Api.Presentation.Entities",
          "crowding": {
           "$type": "Tfl.Api.Presentation.Entities.Crowding, Tfl.Api.Presentation.Entities"
          },
          "id": "12",
          "name": "12",
          "routeType": "Unknown",
          "status": "Unknown",
          "type": "Line",
          "uri": "/Line/12"
         },
         {
          "$type": "Tfl.Api.Presentation.Entities.Identifier, Tfl.Api.Presentation.Entities",
          "crowding": {
           "$type": "Tfl.Api.Presentation.Entities.Crowding, Tfl.Api.Presentation.Entities"
          },
          "id": "139",
          "name": "139",
          "routeType": "Unknown",
          "status": "Unknown",
          "type": "Line",
          "uri": "/Line/139"
         },
         {
          "$type": "Tfl.Api.Presentation.Entities.Identifier, Tfl.Api.Presentation.Entities",
          "crowding": {
           "$type": "Tfl.Api.Presentation.Entities.Crowding, Tfl.Api.Presentation.Entities"
          },
          "id": "159",
          "name": "159",
          "routeType": "Unknown",
          "status": "Unknown",
          "type": "Line",
          "uri": "/Line/159"
         },
         {
          "$type": "Tfl.Api.Presentation.Entities.Identifier, Tfl.Api.Presentation.Entities",
          "crowding": {
           "$type": "Tfl.Api.Presentation.Entities.Crowding, Tfl.Api.Presentation.Entities"
          },
          "id": "22",
          "name": "22",
          "routeType": "Unknown",
          "status": "Unknown",
          "type": "Line",
          "uri": "/Line/22"
         },
         {
          "$type": "Tfl.Api.Presentation.Entities.Identifier, Tfl.Api.Presentation.Entities",
          "crowding": {
           "$type": "Tfl.Api.Presentation.Entities.Crowding, Tfl.Api.Presentation.Entities"
          },
          "id": "88",
          "name": "88",
          "routeType": "Unknown",
          "status": "Unknown",
          "type": "Line",
          "uri": "/Line/88"
         },
         {
          "$type": "Tfl.Api.Presentation.Entities.Identifier, Tfl.Api.Presentation.Entities",
          "crowding": {
           "$type": "Tfl.Api.Presentation.Entities.Crowding, Tfl.Api.Presentation.Entities"
          },
          "id": "94",
          "name": "94",
          "routeType": "Unknown",
          "status": "Unknown",
          "type": "Line",
          "uri": "/Line/94"
         },
         {
          "$type": "Tfl.Api.Presentation.Entities.Identifier, Tfl.Api.Presentation.Entities",
          "crowding": {
           "$type": "Tfl.Api.Presentation.Entities.Crowding, Tfl.Api.Presentation.Entities"
          },
          "id": "bakerloo",
          "name": "Bakerloo",
          "routeType": "Unknown",
          "status": "Unknown",
          "type": "Line",
          "uri": "/Line/bakerloo"
         },
         {
          "$type": "Tfl.Api.Presentation.Entities.Identifier, Tfl.Api.Presentation.Entities",
          "crowding": {
           "$type": "Tfl.Api.Presentation.Entities.Crowding, Tfl.Api.Presentation.Entities"
          },
          "id": "central",
          "name": "Central",
          "routeType": "Unknown",
          "status": "Unknown",
          "type": "Line",
          "uri": "/Line/central"
         },
         {
          "$type": "Tfl.Api.Presentation.Entities.Identifier, Tfl.Api.Presentation.Entities",
          "crowding": {
           "$type": "Tfl.Api.Presentation.Entities.Crowding, Tfl.Api.Presentation.Entities"
          },
          "id": "n109",
          "name": "N109",
          "routeType": "Unknown",
          "status": "Unknown",
          "type": "Line",
          "uri": "/Line/n109"
         },
         {
          "$type": "Tfl.Api.Presentation.Entities.Identifier, Tfl.Api.Presentation.Entities",
          "crowding": {
           "$type": "Tfl.Api.Presentation.Entities.Crowding, Tfl.Api.Presentation.Entities"
          },
          "id": "n113",
          "name": "N113",
          "routeType": "Unknown",
          "status": "Unknown",
          "type": "Line",
          "uri": "/Line/n113"
         },
         {
          "$type": "Tfl.Api.Presentation.Entities.Identifier, Tfl.Api.Presentation.Entities",
          "crowding": {
           "$type": "Tfl.Api.Presentation.Entities.Crowding, Tfl.Api.Presentation.Entities"
          },
          "id": "n136",
          "name": "N136",
          "routeType": "Unknown",
          "status": "Unknown",
          "type": "Line",
          "uri": "/Line/n136"
         },
         {
          "$type": "Tfl.Api.Presentation.Entities.Identifier, Tfl.Api.Presentation.Entities",
          "crowding": {
           "$type": "Tfl.Api.Presentation.Entities.Crowding, Tfl.Api.Presentation.Entities"
          },
          "id": "n137",
          "name": "N137",
          "routeType": "Unknown",
          "status": "Unknown",
          "type": "Line",
          "uri": "/Line/n137"
         },
         {
          "$type": "Tfl.Api.Presentation.Entities.Identifier, Tfl.Api.Presentation.Entities",
          "crowding": {
           "$type": "Tfl.Api.Presentation.Entities.Crowding, Tfl.Api.Presentation.Entities"
          },
          "id": "n15",
          "name": "N15",
          "routeType": "Unknown",
          "status": "Unknown",
          "type": "Line",
          "uri": "/Line/n15"
         },
         {
          "$type": "Tfl.Api.Presentation.Entities.Identifier, Tfl.Api.Presentation.Entities",
          "crowding": {
           "$type": "Tfl.Api.Presentation.Entities.Crowding, Tfl.Api.Presentation.Entities"
          },
          "id": "n18",
          "name": "N18",
          "routeType": "Unknown",
          "status": "Unknown",
          "type": "Line",
          "uri": "/Line/n18"
         },
         {
          "$type": "Tfl.Api.Presentation.Entities.Identifier, Tfl.Api.Presentation.Entities",
          "crowding": {
           "$type": "Tfl.Api.Presentation.Entities.Crowding, Tfl.Api.Presentation.Entities"
          },
          "id": "n22",
          "name": "N22",
          "routeType": "Unknown",
          "status": "Unknown",
          "type": "Line",
          "uri": "/Line/n22"
         },
         {
          "$type": "Tfl.Api.Presentation.Entities.Identifier, Tfl.Api.Presentation.Entities",
          "crowding": {
           "$type": "Tfl.Api.Presentation.Entities.Crowding, Tfl.Api.Presentation.Entities"
          },
          "id": "n3",
          "name": "N3",
          "routeType": "Unknown",
          "status": "Unknown",
          "type": "Line",
          "uri": "/Line/n3"
         },
         {
          "$type": "Tfl.Api.Presentation.Entities.Identifier, Tfl.Api.Presentation.Entities",
          "crowding": {
           "$type": "Tfl.Api.Presentation.Entities.Crowding, Tfl.Api.Presentation.Entities"
          },
          "id": "victoria",
          "name": "Victoria",
          "routeType": "Unknown",
          "status": "Unknown",
          "type": "Line",
          "uri": "/Line/victoria"
         }
        ],
        "lon": -0.141903,
        "modes": [
         "tube",
         "bus"
        ],
        "naptanId": "940GZZLUOXC",
        "placeType": "StopPoint",
        "stationNaptan": "940GZZLUOXC",
        "status": true,
        "stopType": "NaptanMetroStation"
       },
       {
        "$type": "Tfl.Api.Presentation.Entities.StopPoint, Tfl.Api.Presentation.Entities",
        "additionalProperties": [
         {
          "$type": "Tfl.Api.Presentation.Entities.AdditionalProperties, Tfl.Api.Presentation.Entities",
          "category": "ServiceInfo",
          "key": "Night",
          "sourceSystemKey": "TransXchangeETL",
          "value": "yes"
         },
         {
          "$type": "Tfl.Api.Presentation.Entities.AdditionalProperties, Tfl.Api.Presentation.Entities",
          "category": "Facility",
          "key": "Cash Machines",
          "sourceSystemKey": "StaticObjects",
          "value": "0"
         },
         {
          "$type": "Tfl.Api.Presentation.Entities.AdditionalProperties, Tfl.Api.Presentation.Entities",
          "category": "Facility",
          "key": "Gates",
          "sourceSystemKey": "StaticObjects",
          "value": "7"
         },
         {
          "$type": "Tfl.Api.Presentation.Entities.AdditionalProperties, Tfl.Api.Presentation.Entities",
          "category": "Facility",
          "key": "Help Points",
          "sourceSystemKey": "StaticObjects",
          "value": "4 on platforms, 0 in ticket halls, 1 elsewhere"
         },
         {
          "$type": "Tfl.Api.Presentation.Entities.AdditionalProperties, Tfl.Api.Presentation.Entities",
          "category": "Facility",
          "key": "Car park",
          "sourceSystemKey": "StaticObjects",
          "value": "no"
         },
         {
          "$type": "Tfl.Api.Presentation.Entities.AdditionalProperties, Tfl.Api.Presentation.Entities",
          "category": "Facility",
          "key": "Lifts",
          "sourceSystemKey": "StaticObjects",
          "value": "0"
         },
         {
          "$type": "Tfl.Api.Presentation.Entities.AdditionalProperties, Tfl.Api.Presentation.Entities",
          "category": "Address",
          "key": "Address",
          "sourceSystemKey": "StaticObjects",
          "value": "Pimlico Station,London Underground Ltd.,Bessborough St,London,SW1V 2JA"
         },
         {
          "$type": "Tfl.Api.Presentation.Entities.AdditionalProperties, Tfl.Api.Presentation.Entities",
          "category": "Address",
          "key": "PhoneNo",
          "sourceSystemKey": "StaticObjects",
          "value": "0845 330 9880"
         },
         {
          "$type": "Tfl.Api.Presentation.Entities.AdditionalProperties, Tfl.Api.Presentation.Entities",
          "category": "Facility",
          "key": "Photo Booths",
          "sourceSystemKey": "StaticObjects",
          "value": "0"
         },
         {
          "$type": "Tfl.Api.Presentation.Entities.AdditionalProperties, Tfl.Api.Presentation.Entities",
          "category": "Facility",
          "key": "Other Facilities",
          "sourceSystemKey": "StaticObjects",
          "value": "routeways platform to ticket hall."
         },
         {
          "$type": "Tfl.Api.Presentation.Entities.AdditionalProperties, Tfl.Api.Presentation.Entities",
          "category": "Facility",
          "key": "Payphones",
          "sourceSystemKey": "StaticObjects",
          "value": "1"
         },
         {
          "$type": "Tfl.Api.Presentation.Entities.AdditionalProperties, Tfl.Api.Presentation.Entities",
          "category": "Facility",
          "key": "Toilets",
          "sourceSystemKey": "StaticObjects",
          "value": "no"
         },
         {
          "$type": "Tfl.Api.Presentation.Entities.AdditionalProperties, Tfl.Api.Presentation.Entities",
          "category": "Facility",
          "key": "Bridge",
          "sourceSystemKey": "StaticObjects",
          "value": "no"
         },
         {
          "$type": "Tfl.Api.Presentation.Entities.AdditionalProperties, Tfl.Api.Presentation.Entities",
          "category": "Facility",
          "key": "Ticket Halls",
          "sourceSystemKey": "StaticObjects",
          "value": "1"
         },
         {
          "$type": "Tfl.Api.Presentation.Entities.AdditionalProperties, Tfl.Api.Presentation.Entities",
          "category": "Facility",
          "key": "WiFi",
          "sourceSystemKey": "StaticObjects",
          "value": "yes"
         },
         {
          "$type": "Tfl.Api.Presentation.Entities.AdditionalProperties, Tfl.Api.Presentation.Entities",
          "category": "Geo",
          "key": "Zone",
          "sourceSystemKey": "StaticObjects",
          "value": "1"
         },
         {
          "$type": "Tfl.Api.Presentation.Entities.AdditionalProperties, Tfl.Api.Presentation.Entities",
          "category": "Facility",
          "key": "Escalators",
          "sourceSystemKey": "StaticObjects",
          "value": "2"
         },
         {
          "$type": "Tfl.Api.Presentation.Entities.AdditionalProperties, Tfl.Api.Presentation.Entities",
          "category": "Facility",
          "key": "Waiting Room",
          "sourceSystemKey": "StaticObjects",
          "value": "no"
         },
         {
          "$type": "Tfl.Api.Presentation.Entities.AdditionalProperties, Tfl.Api.Presentation.Entities",
          "category": "NearestPlaces",
          "key": "SourceSystemPlaceId",
          "sourceSystemKey": "StaticObjects",
          "value": "BikePoints_146"
         },
         {
          "$type": "Tfl.Api.Presentation.Entities.AdditionalProperties, Tfl.Api.Presentation.Entities",
          "category": "NearestPlaces",
          "key": "SourceSystemPlaceId",
          "sourceSystemKey": "StaticObjects",
          "value": "BikePoints_148"
         },
         {
          "$type": "Tfl.Api.Presentation.Entities.AdditionalProperties, Tfl.Api.Presentation.Entities",
          "category": "NearestPlaces",
          "key": "SourceSystemPlaceId",
          "sourceSystemKey": "StaticObjects",
          "value": "BikePoints_185"
         },
         {
          "$type": "Tfl.Api.Presentation.Entities.AdditionalProperties, Tfl.Api.Presentation.Entities",
          "category": "NearestPlaces",
          "key": "SourceSystemPlaceId",
          "sourceSystemKey": "StaticObjects",
          "value": "BikePoints_190"
         },
         {
          "$type": "Tfl.Api.Presentation.Entities.AdditionalProperties, Tfl.Api.Presentation.Entities",
          "category": "NearestPlaces",
          "key": "SourceSystemPlaceId",
          "sourceSystemKey": "StaticObjects",
          "value": "BikePoints_243"
         },
         {
          "$type": "Tfl.Api.Presentation.Entities.AdditionalProperties, Tfl.Api.Presentation.Entities",
          "category": "NearestPlaces",
          "key": "SourceSystemPlaceId",
          "sourceSystemKey": "StaticObjects",
          "value": "BikePoints_267"
         },
         {
          "$type": "Tfl.Api.Presentation.Entities.AdditionalProperties, Tfl.Api.Presentation.Entities",
          "category": "NearestPlaces",
          "key": "SourceSystemPlaceId",
          "sourceSystemKey": "StaticObjects",
          "value": "BikePoints_294"
         },
         {
          "$type": "Tfl.Api.Presentation.Entities.AdditionalProperties, Tfl.Api.Presentation.Entities",
          "category": "NearestPlaces",
          "key": "SourceSystemPlaceId",
          "sourceSystemKey": "StaticObjects",
          "value": "TaxiRank_5495"
         }
        ],
        "children": [
         {
          "$type": "Tfl.Api.Presentation.Entities.StopPoint, Tfl.Api.Presentation.Entities",
          "additionalProperties": [],
          "children": [],
          "commonName": "Pimlico Underground Station",
          "icsCode": "1000180",
          "id": "9400ZZLUPCO1",
          "lat": 0,
          "lineGroup": [],
          "lineModeGroups": [],
          "lines": [],
          "lon": 0,
          "modes": [],
          "naptanId": "9400ZZLUPCO1",
          "placeType": "StopPoint",
          "stationNaptan": "940GZZLUPCO",
          "status": true
         }
        ],
        "commonName": "Pimlico Underground Station",
        "icsCode": "1000180",
        "id": "940GZZLUPCO",
        "lat": 51.489097,
        "lineGroup": [
         {
          "$type": "Tfl.Api.Presentation.Entities.LineGroup, Tfl.Api.Presentation.Entities",
          "lineIdentifier": [
           "185",
           "2",
           "36",
           "n136",
           "n2"
          ],
          "naptanIdReference": "490000180A",
          "stationAtcoCode": "490G00180A"
         },
         {
          "$type": "Tfl.Api.Presentation.Entities.LineGroup, Tfl.Api.Presentation.Entities",
          "lineIdentifier": [
           "185",
           "2",
           "36",
           "n136",
           "n2"
          ],
          "naptanIdReference": "490000180D",
          "stationAtcoCode": "490G00180A"
         },
         {
          "$type": "Tfl.Api.Presentation.Entities.LineGroup, Tfl.Api.Presentation.Entities",
          "lineIdentifier": [
           "360",
           "c10"
          ],
          "naptanIdReference": "490000180H",
          "stationAtcoCode": "490G00180H"
         },
         {
          "$type": "Tfl.Api.Presentation.Entities.LineGroup, Tfl.Api.Presentation.Entities",
          "lineIdentifier": [
           "360",
           "c10"
          ],
          "naptanIdReference": "490000180J",
          "stationAtcoCode": "490G00180H"
         },
         {
          "$type": "Tfl.Api.Presentation.Entities.LineGroup, Tfl.Api.Presentation.Entities",
          "lineIdentifier": [
           "victoria"
          ],
          "stationAtcoCode": "940GZZLUPCO"
         }
        ],
        "lineModeGroups": [
         {
          "$type": "Tfl.Api.Presentation.Entities.LineModeGroup, Tfl.Api.Presentation.Entities",
          "lineIdentifier": [
           "185",
           "2",
           "36",
           "360",
           "c10",
           "n136",
           "n2"
          ],
          "modeName": "bus"
         },
         {
          "$type": "Tfl.Api.Presentation.Entities.LineModeGroup, Tfl.Api.Presentation.Entities",
          "lineIdentifier": [
           "victoria"
          ],
          "modeName": "tube"
         }
        ],
        "lines": [
         {
          "$type": "Tfl.Api.Presentation.Entities.Identifier, Tfl.Api.Presentation.Entities",
          "crowding": {
           "$type": "Tfl.Api.Presentation.Entities.Crowding, Tfl.Api.Presentation.Entities"
          },
          "id": "185",
          "name": "185",
          "routeType": "Unknown",
          "status": "Unknown",
          "type": "Line",
          "uri": "/Line/185"
         },
         {
          "$type": "Tfl.Api.Presentation.Entities.Identifier, Tfl.Api.Presentation.Entities",
          "crowding": {
           "$type": "Tfl.Api.Presentation.Entities.Crowding, Tfl.Api.Presentation.Entities"
          },
          "id": "2",
          "name": "2",
          "routeType": "Unknown",
          "status": "Unknown",
          "type": "Line",
          "uri": "/Line/2"
         },
         {
          "$type": "Tfl.Api.Presentation.Entities.Identifier, Tfl.Api.Presentation.Entities",
          "crowding": {
           "$type": "Tfl.Api.Presentation.Entities.Crowding, Tfl.Api.Presentation.Entities"
          },
          "id": "36",
          "name": "36",
          "routeType": "Unknown",
          "status": "Unknown",
          "type": "Line",
          "uri": "/Line/36"
         },
         {
          "$type": "Tfl.Api.Presentation.Entities.Identifier, Tfl.Api.Presentation.Entities",
          "crowding": {
           "$type": "Tfl.Api.Presentation.Entities.Crowding, Tfl.Api.Presentation.Entities"
          },
          "id": "360",
          "name": "360",
          "routeType": "Unknown",
          "status": "Unknown",
          "type": "Line",
          "uri": "/Line/360"
         },
         {
          "$type": "Tfl.Api.Presentation.Entities.Identifier, Tfl.Api.Presentation.Entities",
          "crowding": {
           "$type": "Tfl.Api.Presentation.Entities.Crowding, Tfl.Api.Presentation.Entities"
          },
          "id": "c10",
          "name": "C10",
          "routeType": "Unknown",
          "status": "Unknown",
          "type": "Line",
          "uri": "/Line/c10"
         },
         {
          "$type": "Tfl.Api.Presentation.Entities.Identifier, Tfl.Api.Presentation.Entities",
          "crowding": {
           "$type": "Tfl.Api.Presentation.Entities.Crowding, Tfl.Api.Presentation.Entities"
          },
          "id": "n136",
          "name": "N136",
          "routeType": "Unknown",
          "status": "Unknown",
          "type": "Line",
          "uri": "/Line/n136"
         },
         {
          "$type": "Tfl.Api.Presentation.Entities.Identifier, Tfl.Api.Presentation.Entities",
          "crowding": {
           "$type": "Tfl.Api.Presentation.Entities.Crowding, Tfl.Api.Presentation.Entities"
          },
          "id": "n2",
          "name": "N2",
          "routeType": "Unknown",
          "status": "Unknown",
          "type": "Line",
          "uri": "/Line/n2"
         },
         {
          "$type": "Tfl.Api.Presentation.Entities.Identifier, Tfl.Api.Presentation.Entities",
          "crowding": {
           "$type": "Tfl.Api.Presentation.Entities.Crowding, Tfl.Api.Presentation.Entities"
          },
          "id": "victoria",
          "name": "Victoria",
          "routeType": "Unknown",
          "status": "Unknown",
          "type": "Line",
          "uri": "/Line/victoria"
         }
        ],
        "lon": -0.133761,
        "modes": [
         "tube",
         "bus"
        ],
        "naptanId": "940GZZLUPCO",
        "placeType": "StopPoint",
        "stationNaptan": "940GZZLUPCO",
        "status": true,
        "stopType": "NaptanMetroStation"
       },
       {
        "$type": "Tfl.Api.Presentation.Entities.StopPoint, Tfl.Api.Presentation.Entities",
        "additionalProperties": [
         {
          "$type": "Tfl.Api.Presentation.Entities.AdditionalProperties, Tfl.Api.Presentation.Entities",
          "category": "ServiceInfo",
          "key": "Night",
          "sourceSystemKey": "TransXchangeETL",
          "value": "yes"
         },
         {
          "$type": "Tfl.Api.Presentation.Entities.AdditionalProperties, Tfl.Api.Presentation.Entities",
          "category": "Facility",
          "key": "Cash Machines",
          "sourceSystemKey": "StaticObjects",
          "value": "0"
         },
         {
          "$type": "Tfl.Api.Presentation.Entities.AdditionalProperties, Tfl.Api.Presentation.Entities",
          "category": "Facility",
          "key": "Gates",
          "sourceSystemKey": "StaticObjects",
          "value": "7"
         },
         {
          "$type": "Tfl.Api.Presentation.Entities.AdditionalProperties, Tfl.Api.Presentation.Entities",
          "category": "Facility",
          "key": "Lifts",
          "sourceSystemKey": "StaticObjects",
          "value": "0"
         },
         {
          "$type": "Tfl.Api.Presentation.Entities.AdditionalProperties, Tfl.Api.Presentation.Entities",
          "category": "Facility",
          "key": "Other Facilities",
          "sourceSystemKey": "StaticObjects",
          "value": "electronic whiteboards in ticket hall, post office style queuing for tickets."
         },
         {
          "$type": "Tfl.Api.Presentation.Entities.AdditionalProperties, Tfl.Api.Presentation.Entities",
          "category": "Facility",
          "key": "Toilets",
          "sourceSystemKey": "StaticObjects",
          "value": "no"
         },
         {
          "$type": "Tfl.Api.Presentation.Entities.AdditionalProperties, Tfl.Api.Presentation.Entities",
          "category": "Facility",
          "key": "Bridge",
          "sourceSystemKey": "StaticObjects",
          "value": "no"
         },
         {
          "$type": "Tfl.Api.Presentation.Entities.AdditionalProperties, Tfl.Api.Presentation.Entities",
          "category": "Facility",
          "key": "Waiting Room",
          "sourceSystemKey": "StaticObjects",
          "value": "no"
         },
         {
          "$type": "Tfl.Api.Presentation.Entities.AdditionalProperties, Tfl.Api.Presentation.Entities",
          "category": "Facility",
          "key": "Car park",
          "sourceSystemKey": "StaticObjects",
          "value": "no"
         },
         {
          "$type": "Tfl.Api.Presentation.Entities.AdditionalProperties, Tfl.Api.Presentation.Entities",
          "category": "Facility",
          "key": "Escalators",
          "sourceSystemKey": "StaticObjects",
          "value": "3"
         },
         {
          "$type": "Tfl.Api.Presentation.Entities.AdditionalProperties, Tfl.Api.Presentation.Entities",
          "category": "Facility",
          "key": "Photo Booths",
          "sourceSystemKey": "StaticObjects",
          "value": "0"
         },
         {
          "$type": "Tfl.Api.Presentation.Entities.AdditionalProperties, Tfl.Api.Presentation.Entities",
          "category": "Address",
          "key": "Address",
          "sourceSystemKey": "StaticObjects",
          "value": "Stockwell Station,London Underground Ltd.,Clapham Rd,London,SW9 9AE"
         },
         {
          "$type": "Tfl.Api.Presentation.Entities.AdditionalProperties, Tfl.Api.Presentation.Entities",
          "category": "Facility",
          "key": "Help Points",
          "sourceSystemKey": "StaticObjects",
          "value": "0 on platforms, 0 in ticket halls, 0 elsewhere"
         },
         {
          "$type": "Tfl.Api.Presentation.Entities.AdditionalProperties, Tfl.Api.Presentation.Entities",
          "category": "Facility",
          "key": "Payphones",
          "sourceSystemKey": "StaticObjects",
          "value": "5"
         },
         {
          "$type": "Tfl.Api.Presentation.Entities.AdditionalProperties, Tfl.Api.Presentation.Entities",
          "category": "Facility",
          "key": "Ticket Halls",
          "sourceSystemKey": "StaticObjects",
          "value": "1"
         },
         {
          "$type": "Tfl.Api.Presentation.Entities.AdditionalProperties, Tfl.Api.Presentation.Entities",
          "category": "Facility",
          "key": "WiFi",
          "sourceSystemKey": "StaticObjects",
          "value": "yes"
         },
         {
          "$type": "Tfl.Api.Presentation.Entities.AdditionalProperties, Tfl.Api.Presentation.Entities",
          "category": "Address",
          "key": "PhoneNo",
          "sourceSystemKey": "StaticObjects",
          "value": "0845 330 9880"
         },
         {
          "$type": "Tfl.Api.Presentation.Entities.AdditionalProperties, Tfl.Api.Presentation.Entities",
          "category": "Geo",
          "key": "Zone",
          "sourceSystemKey": "StaticObjects",
          "value": "2"
         },
         {
          "$type": "Tfl.Api.Presentation.Entities.AdditionalProperties, Tfl.Api.Presentation.Entities",
          "category": "Accessibility",
          "key": "AccessViaLift",
          "sourceSystemKey": "LRAD",
          "value": "No"
         },
         {
          "$type": "Tfl.Api.Presentation.Entities.AdditionalProperties, Tfl.Api.Presentation.Entities",
          "category": "Accessibility",
          "key": "BlueBadgeCarParkSpaces",
          "sourceSystemKey": "LRAD",
          "value": "0"
         },
         {
          "$type": "Tfl.Api.Presentation.Entities.AdditionalProperties, Tfl.Api.Presentation.Entities",
          "category": "Accessibility",
          "key": "LimitedCapacityLift",
          "sourceSystemKey": "LRAD",
          "value": "No"
         },
         {
          "$type": "Tfl.Api.Presentation.Entities.AdditionalProperties, Tfl.Api.Presentation.Entities",
          "category": "Accessibility",
          "key": "TaxiRankOutsideStation",
          "sourceSystemKey": "LRAD",
          "value": "No"
         },
         {
          "$type": "Tfl.Api.Presentation.Entities.AdditionalProperties, Tfl.Api.Presentation.Entities",
          "category": "Accessibility",
          "key": "Toilet",
          "sourceSystemKey": "LRAD",
          "value": "No"
         },
         {
          "$type": "Tfl.Api.Presentation.Entities.AdditionalProperties, Tfl.Api.Presentation.Entities",
          "category": "NearestPlaces",
          "key": "SourceSystemPlaceId",
          "sourceSystemKey": "StaticObjects",
          "value": "BikePoints_830"
         },
         {
          "$type": "Tfl.Api.Presentation.Entities.AdditionalProperties, Tfl.Api.Presentation.Entities",
          "category": "NearestPlaces",
          "key": "SourceSystemPlaceId",
          "sourceSystemKey": "StaticObjects",
          "value": "BikePoints_630"
         },
         {
          "$type": "Tfl.Api.Presentation.Entities.AdditionalProperties, Tfl.Api.Presentation.Entities",
          "category": "NearestPlaces",
          "key": "SourceSystemPlaceId",
          "sourceSystemKey": "StaticObjects",
          "value": "BikePoints_669"
         },
         {
          "$type": "Tfl.Api.Presentation.Entities.AdditionalProperties, Tfl.Api.Presentation.Entities",
          "category": "NearestPlaces",
          "key": "SourceSystemPlaceId",
          "sourceSystemKey": "StaticObjects",
          "value": "BikePoints_772"
         },
         {
          "$type": "Tfl.Api.Presentation.Entities.AdditionalProperties, Tfl.Api.Presentation.Entities",
          "category": "NearestPlaces",
          "key": "SourceSystemPlaceId",
          "sourceSystemKey": "StaticObjects",
          "value": "BikePoints_814"
         }
        ],
        "children": [
         {
          "$type": "Tfl.Api.Presentation.Entities.StopPoint, Tfl.Api.Presentation.Entities",
          "additionalProperties": [],
          "children": [],
          "commonName": "Stockwell Underground Station",
          "icsCode": "1000223",
          "id": "9400ZZLUSKW1",
          "lat": 0,
          "lineGroup": [],
          "lineModeGroups": [],
          "lines": [],
          "lon": 0,
          "modes": [],
          "naptanId": "9400ZZLUSKW1",
          "placeType": "StopPoint",
          "stationNaptan": "940GZZLUSKW",
          "status": true
         },
         {
          "$type": "Tfl.Api.Presentation.Entities.StopPoint, Tfl.Api.Presentation.Entities",
          "additionalProperties": [],
          "children": [],
          "commonName": "Stockwell Underground Station",
          "icsCode": "1000223",
          "id": "9400ZZLUSKW2",
          "lat": 0,
          "lineGroup": [],
          "lineModeGroups": [],
          "lines": [],
          "lon": 0,
          "modes": [],
          "naptanId": "9400ZZLUSKW2",
          "placeType": "StopPoint",
          "stationNaptan": "940GZZLUSKW",
          "status": true
         },
         {
          "$type": "Tfl.Api.Presentation.Entities.StopPoint, Tfl.Api.Presentation.Entities",
          "additionalProperties": [],
          "children": [],
          "commonName": "Stockwell Underground Station",
          "icsCode": "1000223",
          "id": "9400ZZLUSKW3",
          "lat": 0,
          "lineGroup": [],
          "lineModeGroups": [],
          "lines": [],
          "lon": 0,
          "modes": [],
          "naptanId": "9400ZZLUSKW3",
          "placeType": "StopPoint",
          "stationNaptan": "940GZZLUSKW",
          "status": true
         },
         {
          "$type": "Tfl.Api.Presentation.Entities.StopPoint, Tfl.Api.Presentation.Entities",
          "additionalProperties": [],
          "children": [],
          "commonName": "Stockwell Underground Station",
          "icsCode": "1000223",
          "id": "9400ZZLUSKW4",
          "lat": 0,
          "lineGroup": [],
          "lineModeGroups": [],
          "lines": [],
          "lon": 0,
          "modes": [],
          "naptanId": "9400ZZLUSKW4",
          "placeType": "StopPoint",
          "stationNaptan": "940GZZLUSKW",
          "status": true
         }
        ],
        "commonName": "Stockwell Underground Station",
        "icsCode": "1000223",
        "id": "940GZZLUSKW",
        "lat": 51.472184,
        "lineGroup": [
         {
          "$type": "Tfl.Api.Presentation.Entities.LineGroup, Tfl.Api.Presentation.Entities",
          "lineIdentifier": [
           "155",
           "345",
           "n155"
          ],
          "naptanIdReference": "490000223G",
          "stationAtcoCode": "490G00223G"
         },
         {
          "$type": "Tfl.Api.Presentation.Entities.LineGroup, Tfl.Api.Presentation.Entities",
          "lineIdentifier": [
           "northern"
          ],
          "stationAtcoCode": "940GZZLUSKW"
         },
         {
          "$type": "Tfl.Api.Presentation.Entities.LineGroup, Tfl.Api.Presentation.Entities",
          "lineIdentifier": [
           "victoria"
          ],
          "stationAtcoCode": "940GZZLUSKW"
         }
        ],
        "lineModeGroups": [
         {
          "$type": "Tfl.Api.Presentation.Entities.LineModeGroup, Tfl.Api.Presentation.Entities",
          "lineIdentifier": [
           "155",
           "345",
           "n155"
          ],
          "modeName": "bus"
         },
         {
          "$type": "Tfl.Api.Presentation.Entities.LineModeGroup, Tfl.Api.Presentation.Entities",
          "lineIdentifier": [
           "northern",
           "victoria"
          ],
          "modeName": "tube"
         }
        ],
        "lines": [
         {
          "$type": "Tfl.Api.Presentation.Entities.Identifier, Tfl.Api.Presentation.Entities",
          "crowding": {
           "$type": "Tfl.Api.Presentation.Entities.Crowding, Tfl.Api.Presentation.Entities"
          },
          "id": "155",
          "name": "155",
          "routeType": "Unknown",
          "status": "Unknown",
          "type": "Line",
          "uri": "/Line/155"
         },
         {
          "$type": "Tfl.Api.Presentation.Entities.Identifier, Tfl.Api.Presentation.Entities",
          "crowding": {
           "$type": "Tfl.Api.Presentation.Entities.Crowding, Tfl.Api.Presentation.Entities"
          },
          "id": "345",
          "name": "345",
          "routeType": "Unknown",
          "status": "Unknown",
          "type": "Line",
          "uri": "/Line/345"
         },
         {
          "$type": "Tfl.Api.Presentation.Entities.Identifier, Tfl.Api.Presentation.Entities",
          "crowding": {
           "$type": "Tfl.Api.Presentation.Entities.Crowding, Tfl.Api.Presentation.Entities"
          },
          "id": "n155",
          "name": "N155",
          "routeType": "Unknown",
          "status": "Unknown",
          "type": "Line",
          "uri": "/Line/n155"
         },
         {
          "$type": "Tfl.Api.Presentation.Entities.Identifier, Tfl.Api.Presentation.Entities",
          "crowding": {
           "$type": "Tfl.Api.Presentation.Entities.Crowding, Tfl.Api.Presentation.Entities"
          },
          "id": "northern",
          "name": "Northern",
          "routeType": "Unknown",
          "status": "Unknown",
          "type": "Line",
          "uri": "/Line/northern"
         },
         {
          "$type": "Tfl.Api.Presentation.Entities.Identifier, Tfl.Api.Presentation.Entities",
          "crowding": {
           "$type": "Tfl.Api.Presentation.Entities.Crowding, Tfl.Api.Presentation.Entities"
          },
          "id": "victoria",
          "name": "Victoria",
          "routeType": "Unknown",
          "status": "Unknown",
          "type": "Line",
          "uri": "/Line/victoria"
         }
        ],
        "lon": -0.122644,
        "modes": [
         "tube",
         "bus"
        ],
        "naptanId": "940GZZLUSKW",
        "placeType": "StopPoint",
        "stationNaptan": "940GZZLUSKW",
        "status": true,
        "stopType": "NaptanMetroStation"
       },
       {
        "$type": "Tfl.Api.Presentation.Entities.StopPoint, Tfl.Api.Presentation.Entities",
        "additionalProperties": [
         {
          "$type": "Tfl.Api.Presentation.Entities.AdditionalProperties, Tfl.Api.Presentation.Entities",
          "category": "ServiceInfo",
          "key": "Night",
          "sourceSystemKey": "TransXchangeETL",
          "value": "yes"
         },
         {
          "$type": "Tfl.Api.Presentation.Entities.AdditionalProperties, Tfl.Api.Presentation.Entities",
          "category": "Facility",
          "key": "Payphones",
          "sourceSystemKey": "StaticObjects",
          "value": "4"
         },
         {
          "$type": "Tfl.Api.Presentation.Entities.AdditionalProperties, Tfl.Api.Presentation.Entities",
          "category": "Facility",
          "key": "Photo Booths",
          "sourceSystemKey": "StaticObjects",
          "value": "0"
         },
         {
          "$type": "Tfl.Api.Presentation.Entities.AdditionalProperties, Tfl.Api.Presentation.Entities",
          "category": "Facility",
          "key": "Waiting Room",
          "sourceSystemKey": "StaticObjects",
          "value": "no"
         },
         {
          "$type": "Tfl.Api.Presentation.Entities.AdditionalProperties, Tfl.Api.Presentation.Entities",
          "category": "Facility",
          "key": "Euro Cash Machines",
          "sourceSystemKey": "StaticObjects",
          "value": "yes"
         },
         {
          "$type": "Tfl.Api.Presentation.Entities.AdditionalProperties, Tfl.Api.Presentation.Entities",
          "category": "Facility",
          "key": "Ticket Halls",
          "sourceSystemKey": "StaticObjects",
          "value": "2"
         },
         {
          "$type": "Tfl.Api.Presentation.Entities.AdditionalProperties, Tfl.Api.Presentation.Entities",
          "category": "Facility",
          "key": "Toilets",
          "sourceSystemKey": "StaticObjects",
          "value": "no"
         },
         {
          "$type": "Tfl.Api.Presentation.Entities.AdditionalProperties, Tfl.Api.Presentation.Entities",
          "category": "Geo",
          "key": "Zone",
          "sourceSystemKey": "StaticObjects",
          "value": "3"
         },
         {
          "$type": "Tfl.Api.Presentation.Entities.AdditionalProperties, Tfl.Api.Presentation.Entities",
          "category": "Address",
          "key": "Address",
          "sourceSystemKey": "StaticObjects",
          "value": "Seven Sisters Underground Station,London Underground Ltd.,Seven Sisters Rd,London"
         },
         {
          "$type": "Tfl.Api.Presentation.Entities.AdditionalProperties, Tfl.Api.Presentation.Entities",
          "category": "Facility",
          "key": "Gates",
          "sourceSystemKey": "StaticObjects",
          "value": "13"
         },
         {
          "$type": "Tfl.Api.Presentation.Entities.AdditionalProperties, Tfl.Api.Presentation.Entities",
          "category": "Facility",
          "key": "Bridge",
          "sourceSystemKey": "StaticObjects",
          "value": "no"
         },
         {
          "$type": "Tfl.Api.Presentation.Entities.AdditionalProperties, Tfl.Api.Presentation.Entities",
          "category": "Facility",
          "key": "Escalators",
          "sourceSystemKey": "StaticObjects",
          "value": "4"
         },
         {
          "$type": "Tfl.Api.Presentation.Entities.AdditionalProperties, Tfl.Api.Presentation.Entities",
          "category": "Facility",
          "key": "Lifts",
          "sourceSystemKey": "StaticObjects",
          "value": "0"
         },
         {
          "$type": "Tfl.Api.Presentation.Entities.AdditionalProperties, Tfl.Api.Presentation.Entities",
          "category": "Address",
          "key": "PhoneNo",
          "sourceSystemKey": "StaticObjects",
          "value": "0845 330 9880"
         },
         {
          "$type": "Tfl.Api.Presentation.Entities.AdditionalProperties, Tfl.Api.Presentation.Entities",
          "category": "Facility",
          "key": "WiFi",
          "sourceSystemKey": "StaticObjects",
          "value": "yes"
         },
         {
          "$type": "Tfl.Api.Presentation.Entities.AdditionalProperties, Tfl.Api.Presentation.Entities",
          "category": "Facility",
          "key": "Help Points",
          "sourceSystemKey": "StaticObjects",
          "value": "0 on platforms, 0 in ticket halls, 0 elsewhere"
         },
         {
          "$type": "Tfl.Api.Presentation.Entities.AdditionalProperties, Tfl.Api.Presentation.Entities",
          "category": "Facility",
          "key": "Car park",
          "sourceSystemKey": "StaticObjects",
          "value": "no"
         },
         {
          "$type": "Tfl.Api.Presentation.Entities.AdditionalProperties, Tfl.Api.Presentation.Entities",
          "category": "Facility",
          "key": "Cash Machines",
          "sourceSystemKey": "StaticObjects",
          "value": "1"
         },
         {
          "$type": "Tfl.Api.Presentation.Entities.AdditionalProperties, Tfl.Api.Presentation.Entities",
          "category": "Facility",
          "key": "Other Facilities",
          "sourceSystemKey": "StaticObjects",
          "value": "taxi ranks outside station, subway to street, routeways platform to ticket hall."
         }
        ],
        "children": [
         {
          "$type": "Tfl.Api.Presentation.Entities.StopPoint, Tfl.Api.Presentation.Entities",
          "additionalProperties": [],
          "children": [],
          "commonName": "Seven Sisters Underground Station",
          "hubNaptanCode": "HUBSVS",
          "icsCode": "1000201",
          "id": "9400ZZLUSVS1",
          "lat": 0,
          "lineGroup": [],
          "lineModeGroups": [],
          "lines": [],
          "lon": 0,
          "modes": [],
          "naptanId": "9400ZZLUSVS1",
          "placeType": "StopPoint",
          "stationNaptan": "940GZZLUSVS",
          "status": true
         },
         {
          "$type": "Tfl.Api.Presentation.Entities.StopPoint, Tfl.Api.Presentation.Entities",
          "additionalProperties": [],
          "children": [],
          "commonName": "Seven Sisters Underground Station",
          "hubNaptanCode": "HUBSVS",
          "icsCode": "1000201",
          "id": "9400ZZLUSVS2",
          "lat": 0,
          "lineGroup": [],
          "lineModeGroups": [],
          "lines": [],
          "lon": 0,
          "modes": [],
          "naptanId": "9400ZZLUSVS2",
          "placeType": "StopPoint",
          "stationNaptan": "940GZZLUSVS",
          "status": true
         }
        ],
        "commonName": "Seven Sisters Underground Station",
        "hubNaptanCode": "HUBSVS",
        "icsCode": "1000201",
        "id": "940GZZLUSVS",
        "lat": 51.58333,
        "lineGroup": [
         {
          "$type": "Tfl.Api.Presentation.Entities.LineGroup, Tfl.Api.Presentation.Entities",
          "lineIdentifier": [
           "victoria"
          ],
          "stationAtcoCode": "940GZZLUSVS"
         }
        ],
        "lineModeGroups": [
         {
          "$type": "Tfl.Api.Presentation.Entities.LineModeGroup, Tfl.Api.Presentation.Entities",
          "lineIdentifier": [
           "victoria"
          ],
          "modeName": "tube"
         }
        ],
        "lines": [
         {
          "$type": "Tfl.Api.Presentation.Entities.Identifier, Tfl.Api.Presentation.Entities",
          "crowding": {
           "$type": "Tfl.Api.Presentation.Entities.Crowding, Tfl.Api.Presentation.Entities"
          },
          "id": "victoria",
          "name": "Victoria",
          "routeType": "Unknown",
          "status": "Unknown",
          "type": "Line",
          "uri": "/Line/victoria"
         }
        ],
        "lon": -0.072584,
        "modes": [
         "tube"
        ],
        "naptanId": "940GZZLUSVS",
        "placeType": "StopPoint",
        "stationNaptan": "940GZZLUSVS",
        "status": true,
        "stopType": "NaptanMetroStation"
       },
       {
        "$type": "Tfl.Api.Presentation.Entities.StopPoint, Tfl.Api.Presentation.Entities",
        "additionalProperties": [
         {
          "$type": "Tfl.Api.Presentation.Entities.AdditionalProperties, Tfl.Api.Presentation.Entities",
          "category": "ServiceInfo",
          "key": "Night",
          "sourceSystemKey": "TransXchangeETL",
          "value": "yes"
         },
         {
          "$type": "Tfl.Api.Presentation.Entities.AdditionalProperties, Tfl.Api.Presentation.Entities",
          "category": "Facility",
          "key": "Escalators",
          "sourceSystemKey": "StaticObjects",
          "value": "2"
         },
         {
          "$type": "Tfl.Api.Presentation.Entities.AdditionalProperties, Tfl.Api.Presentation.Entities",
          "category": "Facility",
          "key": "Photo Booths",
          "sourceSystemKey": "StaticObjects",
          "value": "0"
         },
         {
          "$type": "Tfl.Api.Presentation.Entities.AdditionalProperties, Tfl.Api.Presentation.Entities",
          "category": "Address",
          "key": "Address",
          "sourceSystemKey": "StaticObjects",
          "value": "Tottenham Hale Underground Station,London Underground Ltd.,Station Rd,London,N17 9LR"
         },
         {
          "$type": "Tfl.Api.Presentation.Entities.AdditionalProperties, Tfl.Api.Presentation.Entities",
          "category": "Facility",
          "key": "Lifts",
          "sourceSystemKey": "StaticObjects",
          "value": "1"
         },
         {
          "$type": "Tfl.Api.Presentation.Entities.AdditionalProperties, Tfl.Api.Presentation.Entities",
          "category": "Facility",
          "key": "Other Facilities",
          "sourceSystemKey": "StaticObjects",
          "value": "taxi ranks outside station, post office style queuing for tickets, routeways platform to ticket hall."
         },
         {
          "$type": "Tfl.Api.Presentation.Entities.AdditionalProperties, Tfl.Api.Presentation.Entities",
          "category": "Facility",
          "key": "Ticket Halls",
          "sourceSystemKey": "StaticObjects",
          "value": "1"
         },
         {
          "$type": "Tfl.Api.Presentation.Entities.AdditionalProperties, Tfl.Api.Presentation.Entities",
          "category": "Geo",
          "key": "Zone",
          "sourceSystemKey": "StaticObjects",
          "value": "3"
         },
         {
          "$type": "Tfl.Api.Presentation.Entities.AdditionalProperties, Tfl.Api.Presentation.Entities",
          "category": "Facility",
          "key": "WiFi",
          "sourceSystemKey": "StaticObjects",
          "value": "yes"
         },
         {
          "$type": "Tfl.Api.Presentation.Entities.AdditionalProperties, Tfl.Api.Presentation.Entities",
          "category": "Facility",
          "key": "Help Points",
          "sourceSystemKey": "StaticObjects",
          "value": "6 on platforms, 0 in ticket halls, 1 elsewhere"
         },
         {
          "$type": "Tfl.Api.Presentation.Entities.AdditionalProperties, Tfl.Api.Presentation.Entities",
          "category": "Address",
          "key": "PhoneNo",
          "sourceSystemKey": "StaticObjects",
          "value": "0845 330 9880"
         },
         {
          "$type": "Tfl.Api.Presentation.Entities.AdditionalProperties, Tfl.Api.Presentation.Entities",
          "category": "Facility",
          "key": "Waiting Room",
          "sourceSystemKey": "StaticObjects",
          "value": "no"
         },
         {
          "$type": "Tfl.Api.Presentation.Entities.AdditionalProperties, Tfl.Api.Presentation.Entities",
          "category": "Facility",
          "key": "Cash Machines",
          "sourceSystemKey": "StaticObjects",
          "value": "0"
         },
         {
          "$type": "Tfl.Api.Presentation.Entities.AdditionalProperties, Tfl.Api.Presentation.Entities",
          "category": "Facility",
          "key": "Toilets",
          "sourceSystemKey": "StaticObjects",
          "value": "no"
         },
         {
          "$type": "Tfl.Api.Presentation.Entities.AdditionalProperties, Tfl.Api.Presentation.Entities",
          "category": "Facility",
          "key": "Bridge",
          "sourceSystemKey": "StaticObjects",
          "value": "no"
         },
         {
          "$type": "Tfl.Api.Presentation.Entities.AdditionalProperties, Tfl.Api.Presentation.Entities",
          "category": "Facility",
          "key": "Car park",
          "sourceSystemKey": "StaticObjects",
          "value": "no"
         },
         {
          "$type": "Tfl.Api.Presentation.Entities.AdditionalProperties, Tfl.Api.Presentation.Entities",
          "category": "Facility",
          "key": "Gates",
          "sourceSystemKey": "StaticObjects",
          "value": "5"
         },
         {
          "$type": "Tfl.Api.Presentation.Entities.AdditionalProperties, Tfl.Api.Presentation.Entities",
          "category": "Facility",
          "key": "Payphones",
          "sourceSystemKey": "StaticObjects",
          "value": "2"
         },
         {
          "$type": "Tfl.Api.Presentation.Entities.AdditionalProperties, Tfl.Api.Presentation.Entities",
          "category": "NearestPlaces",
          "key": "SourceSystemPlaceId",
          "sourceSystemKey": "StaticObjects",
          "value": "CarParks_800494"
         }
        ],
        "children": [
         {
          "$type": "Tfl.Api.Presentation.Entities.StopPoint, Tfl.Api.Presentation.Entities",
          "additionalProperties": [],
          "children": [],
          "commonName": "Tottenham Hale Underground Station",
          "hubNaptanCode": "HUBTOM",
          "icsCode": "1000236",
          "id": "9400ZZLUTMH1",
          "lat": 0,
          "lineGroup": [],
          "lineModeGroups": [],
          "lines": [],
          "lon": 0,
          "modes": [],
          "naptanId": "9400ZZLUTMH1",
          "placeType": "StopPoint",
          "stationNaptan": "940GZZLUTMH",
          "status": true
         }
        ],
        "commonName": "Tottenham Hale Underground Station",
        "hubNaptanCode": "HUBTOM",
        "icsCode": "1000236",
        "id": "940GZZLUTMH",
        "lat": 51.588108,
        "lineGroup": [
         {
          "$type": "Tfl.Api.Presentation.Entities.LineGroup, Tfl.Api.Presentation.Entities",
          "lineIdentifier": [
           "victoria"
          ],
          "stationAtcoCode": "940GZZLUTMH"
         }
        ],
        "lineModeGroups": [
         {
          "$type": "Tfl.Api.Presentation.Entities.LineModeGroup, Tfl.Api.Presentation.Entities",
          "lineIdentifier": [
           "victoria"
          ],
          "modeName": "tube"
         }
        ],
        "lines": [
         {
          "$type": "Tfl.Api.Presentation.Entities.Identifier, Tfl.Api.Presentation.Entities",
          "crowding": {
           "$type": "Tfl.Api.Presentation.Entities.Crowding, Tfl.Api.Presentation.Entities"
          },
          "id": "victoria",
          "name": "Victoria",
          "routeType": "Unknown",
          "status": "Unknown",
          "type": "Line",
          "uri": "/Line/victoria"
         }
        ],
        "lon": -0.060241,
        "modes": [
         "tube"
        ],
        "naptanId": "940GZZLUTMH",
        "placeType": "StopPoint",
        "stationNaptan": "940GZZLUTMH",
        "status": true,
        "stopType": "NaptanMetroStation"
       },
       {
        "$type": "Tfl.Api.Presentation.Entities.StopPoint, Tfl.Api.Presentation.Entities",
        "additionalProperties": [
         {
          "$type": "Tfl.Api.Presentation.Entities.AdditionalProperties, Tfl.Api.Presentation.Entities",
          "category": "ServiceInfo",
          "key": "Night",
          "sourceSystemKey": "TransXchangeETL",
          "value": "yes"
         },
         {
          "$type": "Tfl.Api.Presentation.Entities.AdditionalProperties, Tfl.Api.Presentation.Entities",
          "category": "Facility",
          "key": "Escalators",
          "sourceSystemKey": "StaticObjects",
          "value": "6"
         },
         {
          "$type": "Tfl.Api.Presentation.Entities.AdditionalProperties, Tfl.Api.Presentation.Entities",
          "category": "Facility",
          "key": "Help Points",
          "sourceSystemKey": "StaticObjects",
          "value": "0 on platforms, 0 in ticket halls, 0 elsewhere"
         },
         {
          "$type": "Tfl.Api.Presentation.Entities.AdditionalProperties, Tfl.Api.Presentation.Entities",
          "category": "Address",
          "key": "Address",
          "sourceSystemKey": "StaticObjects",
          "value": "Victoria Underground Station,London Underground Ltd.,Victoria St,London,SW1E 5ND"
         },
         {
          "$type": "Tfl.Api.Presentation.Entities.AdditionalProperties, Tfl.Api.Presentation.Entities",
          "category": "Facility",
          "key": "Other Facilities",
          "sourceSystemKey": "StaticObjects",
          "value": "canopies over platform, taxi ranks outside station, routeways platform to ticket hall."
         },
         {
          "$type": "Tfl.Api.Presentation.Entities.AdditionalProperties, Tfl.Api.Presentation.Entities",
          "category": "Facility",
          "key": "Boarding Ramps",
          "sourceSystemKey": "StaticObjects",
          "value": "yes"
         },
         {
          "$type": "Tfl.Api.Presentation.Entities.AdditionalProperties, Tfl.Api.Presentation.Entities",
          "category": "Facility",
          "key": "Gates",
          "sourceSystemKey": "StaticObjects",
          "value": "33"
         },
         {
          "$type": "Tfl.Api.Presentation.Entities.AdditionalProperties, Tfl.Api.Presentation.Entities",
          "category": "Facility",
          "key": "Car park",
          "sourceSystemKey": "StaticObjects",
          "value": "no"
         },
         {
          "$type": "Tfl.Api.Presentation.Entities.AdditionalProperties, Tfl.Api.Presentation.Entities",
          "category": "Facility",
          "key": "Cash Machines",
          "sourceSystemKey": "StaticObjects",
          "value": "1"
         },
         {
          "$type": "Tfl.Api.Presentation.Entities.AdditionalProperties, Tfl.Api.Presentation.Entities",
          "category": "Facility",
          "key": "Payphones",
          "sourceSystemKey": "StaticObjects",
          "value": "4"
         },
         {
          "$type": "Tfl.Api.Presentation.Entities.AdditionalProperties, Tfl.Api.Presentation.Entities",
          "category": "Address",
          "key": "PhoneNo",
          "sourceSystemKey": "StaticObjects",
          "value": "0845 330 9880"
         },
         {
          "$type": "Tfl.Api.Presentation.Entities.AdditionalProperties, Tfl.Api.Presentation.Entities",
          "category": "Facility",
          "key": "Photo Booths",
          "sourceSystemKey": "StaticObjects",
          "value": "0"
         },
         {
          "$type": "Tfl.Api.Presentation.Entities.AdditionalProperties, Tfl.Api.Presentation.Entities",
          "category": "Facility",
          "key": "Toilets",
          "sourceSystemKey": "StaticObjects",
          "value": "yes"
         },
         {
          "$type": "Tfl.Api.Presentation.Entities.AdditionalProperties, Tfl.Api.Presentation.Entities",
          "category": "Facility",
          "key": "Waiting Room",
          "sourceSystemKey": "StaticObjects",
          "value": "no"
         },
         {
          "$type": "Tfl.Api.Presentation.Entities.AdditionalProperties, Tfl.Api.Presentation.Entities",
          "category": "Facility",
          "key": "Bridge",
          "sourceSystemKey": "StaticObjects",
          "value": "no"
         },
         {
          "$type": "Tfl.Api.Presentation.Entities.AdditionalProperties, Tfl.Api.Presentation.Entities",
          "category": "Facility",
          "key": "Euro Cash Machines",
          "sourceSystemKey": "StaticObjects",
          "value": "yes"
         },
         {
          "$type": "Tfl.Api.Presentation.Entities.AdditionalProperties, Tfl.Api.Presentation.Entities",
          "category": "VisitorCentre",
          "key": "Location",
          "sourceSystemKey": "StaticObjects",
          "value": "Main Opposite Platform 8 Victoria Rail Station"
         },
         {
          "$type": "Tfl.Api.Presentation.Entities.AdditionalProperties, Tfl.Api.Presentation.Entities",
          "category": "Facility",
          "key": "Lifts",
          "sourceSystemKey": "StaticObjects",
          "value": "1"
         },
         {
          "$type": "Tfl.Api.Presentation.Entities.AdditionalProperties, Tfl.Api.Presentation.Entities",
          "category": "Facility",
          "key": "Ticket Halls",
          "sourceSystemKey": "StaticObjects",
          "value": "2"
         },
         {
          "$type": "Tfl.Api.Presentation.Entities.AdditionalProperties, Tfl.Api.Presentation.Entities",
          "category": "Facility",
          "key": "WiFi",
          "sourceSystemKey": "StaticObjects",
          "value": "yes"
         },
         {
          "$type": "Tfl.Api.Presentation.Entities.AdditionalProperties, Tfl.Api.Presentation.Entities",
          "category": "Geo",
          "key": "Zone",
          "sourceSystemKey": "StaticObjects",
          "value": "1"
         },
         {
          "$type": "Tfl.Api.Presentation.Entities.AdditionalProperties, Tfl.Api.Presentation.Entities",
          "category": "NearestPlaces",
          "key": "SourceSystemPlaceId",
          "sourceSystemKey": "StaticObjects",
          "value": "BikePoints_161"
         },
         {
          "$type": "Tfl.Api.Presentation.Entities.AdditionalProperties, Tfl.Api.Presentation.Entities",
          "category": "NearestPlaces",
          "key": "SourceSystemPlaceId",
          "sourceSystemKey": "StaticObjects",
          "value": "BikePoints_167"
         },
         {
          "$type": "Tfl.Api.Presentation.Entities.AdditionalProperties, Tfl.Api.Presentation.Entities",
          "category": "NearestPlaces",
          "key": "SourceSystemPlaceId",
          "sourceSystemKey": "StaticObjects",
          "value": "BikePoints_177"
         },
         {
          "$type": "Tfl.Api.Presentation.Entities.AdditionalProperties, Tfl.Api.Presentation.Entities",
          "category": "NearestPlaces",
          "key": "SourceSystemPlaceId",
          "sourceSystemKey": "StaticObjects",
          "value": "BikePoints_826"
         },
         {
          "$type": "Tfl.Api.Presentation.Entities.AdditionalProperties, Tfl.Api.Presentation.Entities",
          "category": "NearestPlaces",
          "key": "SourceSystemPlaceId",
          "sourceSystemKey": "StaticObjects",
          "value": "BikePoints_268"
         },
         {
          "$type": "Tfl.Api.Presentation.Entities.AdditionalProperties, Tfl.Api.Presentation.Entities",
          "category": "NearestPlaces",
          "key": "SourceSystemPlaceId",
          "sourceSystemKey": "StaticObjects",
          "value": "BikePoints_646"
         },
         {
          "$type": "Tfl.Api.Presentation.Entities.AdditionalProperties, Tfl.Api.Presentation.Entities",
          "category": "NearestPlaces",
          "key": "SourceSystemPlaceId",
          "sourceSystemKey": "StaticObjects",
          "value": "BikePoints_316"
         },
         {
          "$type": "Tfl.Api.Presentation.Entities.AdditionalProperties, Tfl.Api.Presentation.Entities",
          "category": "NearestPlaces",
          "key": "SourceSystemPlaceId",
          "sourceSystemKey": "StaticObjects",
          "value": "BikePoints_320"
         },
         {
          "$type": "Tfl.Api.Presentation.Entities.AdditionalProperties, Tfl.Api.Presentation.Entities",
          "category": "NearestPlaces",
          "key": "SourceSystemPlaceId",
          "sourceSystemKey": "StaticObjects",
          "value": "BikePoints_360"
         },
         {
          "$type": "Tfl.Api.Presentation.Entities.AdditionalProperties, Tfl.Api.Presentation.Entities",
          "category": "NearestPlaces",
          "key": "SourceSystemPlaceId",
          "sourceSystemKey": "StaticObjects",
          "value": "BikePoints_799"
         },
         {
          "$type": "Tfl.Api.Presentation.Entities.AdditionalProperties, Tfl.Api.Presentation.Entities",
          "category": "NearestPlaces",
          "key": "SourceSystemPlaceId",
          "sourceSystemKey": "StaticObjects",
          "value": "TaxiRank_5970"
         },
         {
          "$type": "Tfl.Api.Presentation.Entities.AdditionalProperties, Tfl.Api.Presentation.Entities",
          "category": "NearestPlaces",
          "key": "SourceSystemPlaceId",
          "sourceSystemKey": "StaticObjects",
          "value": "TaxiRank_5744"
         },
         {
          "$type": "Tfl.Api.Presentation.Entities.AdditionalProperties, Tfl.Api.Presentation.Entities",
          "category": "NearestPlaces",
          "key": "SourceSystemPlaceId",
          "sourceSystemKey": "StaticObjects",
          "value": "TaxiRank_5654"
         },
         {
          "$type": "Tfl.Api.Presentation.Entities.AdditionalProperties, Tfl.Api.Presentation.Entities",
          "category": "NearestPlaces",
          "key": "SourceSystemPlaceId",
          "sourceSystemKey": "StaticObjects",
          "value": "TaxiRank_5773"
         },
         {
          "$type": "Tfl.Api.Presentation.Entities.AdditionalProperties, Tfl.Api.Presentation.Entities",
          "category": "NearestPlaces",
          "key": "SourceSystemPlaceId",
          "sourceSystemKey": "StaticObjects",
          "value": "TaxiRank_5743"
         }
        ],
        "children": [
         {
          "$type": "Tfl.Api.Presentation.Entities.StopPoint, Tfl.Api.Presentation.Entities",
          "additionalProperties": [],
          "children": [],
          "commonName": "Victoria Underground Station",
          "hubNaptanCode": "HUBVIC",
          "icsCode": "1000248",
          "id": "9400ZZLUVIC1",
          "lat": 0,
          "lineGroup": [],
          "lineModeGroups": [],
          "lines": [],
          "lon": 0,
          "modes": [],
          "naptanId": "9400ZZLUVIC1",
          "placeType": "StopPoint",
          "stationNaptan": "940GZZLUVIC",
          "status": true
         },
         {
          "$type": "Tfl.Api.Presentation.Entities.StopPoint, Tfl.Api.Presentation.Entities",
          "additionalProperties": [],
          "children": [],
          "commonName": "Victoria Underground Station",
          "hubNaptanCode": "HUBVIC",
          "icsCode": "1000248",
          "id": "9400ZZLUVIC4",
          "lat": 0,
          "lineGroup": [],
          "lineModeGroups": [],
          "lines": [],
          "lon": 0,
          "modes": [],
          "naptanId": "9400ZZLUVIC4",
          "placeType": "StopPoint",
          "stationNaptan": "940GZZLUVIC",
          "status": true
         },
         {
          "$type": "Tfl.Api.Presentation.Entities.StopPoint, Tfl.Api.Presentation.Entities",
          "additionalProperties": [],
          "children": [],
          "commonName": "Victoria Underground Station",
          "hubNaptanCode": "HUBVIC",
          "icsCode": "1000248",
          "id": "9400ZZLUVIC2",
          "lat": 0,
          "lineGroup": [],
          "lineModeGroups": [],
          "lines": [],
          "lon": 0,
          "modes": [],
          "naptanId": "9400ZZLUVIC2",
          "placeType": "StopPoint",
          "stationNaptan": "940GZZLUVIC",
          "status": true
         },
         {
          "$type": "Tfl.Api.Presentation.Entities.StopPoint, Tfl.Api.Presentation.Entities",
          "additionalProperties": [],
          "children": [],
          "commonName": "Victoria Underground Station",
          "hubNaptanCode": "HUBVIC",
          "icsCode": "1000248",
          "id": "9400ZZLUVIC3",
          "lat": 0,
          "lineGroup": [],
          "lineModeGroups": [],
          "lines": [],
          "lon": 0,
          "modes": [],
          "naptanId": "9400ZZLUVIC3",
          "placeType": "StopPoint",
          "stationNaptan": "940GZZLUVIC",
          "status": true
         }
        ],
        "commonName": "Victoria Underground Station",
        "hubNaptanCode": "HUBVIC",
        "icsCode": "1000248",
        "id": "940GZZLUVIC",
        "lat": 51.496359,
        "lineGroup": [
         {
          "$type": "Tfl.Api.Presentation.Entities.LineGroup, Tfl.Api.Presentation.Entities",
          "lineIdentifier": [
           "circle"
          ],
          "stationAtcoCode": "940GZZLUVIC"
         },
         {
          "$type": "Tfl.Api.Presentation.Entities.LineGroup, Tfl.Api.Presentation.Entities",
          "lineIdentifier": [
           "circle",
           "district"
          ],
          "stationAtcoCode": "940GZZLUVIC"
         },
         {
          "$type": "Tfl.Api.Presentation.Entities.LineGroup, Tfl.Api.Presentation.Entities",
          "lineIdentifier": [
           "victoria"
          ],
          "stationAtcoCode": "940GZZLUVIC"
         }
        ],
        "lineModeGroups": [
         {
          "$type": "Tfl.Api.Presentation.Entities.LineModeGroup, Tfl.Api.Presentation.Entities",
          "lineIdentifier": [
           "circle",
           "district",
           "victoria"
          ],
          "modeName": "tube"
         }
        ],
        "lines": [
         {
          "$type": "Tfl.Api.Presentation.Entities.Identifier, Tfl.Api.Presentation.Entities",
          "crowding": {
           "$type": "Tfl.Api.Presentation.Entities.Crowding, Tfl.Api.Presentation.Entities"
          },
          "id": "circle",
          "name": "Circle",
          "routeType": "Unknown",
          "status": "Unknown",
          "type": "Line",
          "uri": "/Line/circle"
         },
         {
          "$type": "Tfl.Api.Presentation.Entities.Identifier, Tfl.Api.Presentation.Entities",
          "crowding": {
           "$type": "Tfl.Api.Presentation.Entities.Crowding, Tfl.Api.Presentation.Entities"
          },
          "id": "district",
          "name": "District",
          "routeType": "Unknown",
          "status": "Unknown",
          "type": "Line",
          "uri": "/Line/district"
         },
         {
          "$type": "Tfl.Api.Presentation.Entities.Identifier, Tfl.Api.Presentation.Entities",
          "crowding": {
           "$type": "Tfl.Api.Presentation.Entities.Crowding, Tfl.Api.Presentation.Entities"
          },
          "id": "victoria",
          "name": "Victoria",
          "routeType": "Unknown",
          "status": "Unknown",
          "type": "Line",
          "uri": "/Line/victoria"
         }
        ],
        "lon": -0.143102,
        "modes": [
         "tube"
        ],
        "naptanId": "940GZZLUVIC",
        "placeType": "StopPoint",
        "stationNaptan": "940GZZLUVIC",
        "status": true,
        "stopType": "NaptanMetroStation"
       },
       {
        "$type": "Tfl.Api.Presentation.Entities.StopPoint, Tfl.Api.Presentation.Entities",
        "additionalProperties": [
         {
          "$type": "Tfl.Api.Presentation.Entities.AdditionalProperties, Tfl.Api.Presentation.Entities",
          "category": "ServiceInfo",
          "key": "Night",
          "sourceSystemKey": "TransXchangeETL",
          "value": "yes"
         },
         {
          "$type": "Tfl.Api.Presentation.Entities.AdditionalProperties, Tfl.Api.Presentation.Entities",
          "category": "Address",
          "key": "Address",
          "sourceSystemKey": "StaticObjects",
          "value": "Vauxhall Underground Station,London Underground Ltd.,Vauxhall Cross,London,SE1"
         },
         {
          "$type": "Tfl.Api.Presentation.Entities.AdditionalProperties, Tfl.Api.Presentation.Entities",
          "category": "Facility",
          "key": "Bridge",
          "sourceSystemKey": "StaticObjects",
          "value": "no"
         },
         {
          "$type": "Tfl.Api.Presentation.Entities.AdditionalProperties, Tfl.Api.Presentation.Entities",
          "category": "Facility",
          "key": "Help Points",
          "sourceSystemKey": "StaticObjects",
          "value": "4 on platforms, 0 in ticket halls, 1 elsewhere"
         },
         {
          "$type": "Tfl.Api.Presentation.Entities.AdditionalProperties, Tfl.Api.Presentation.Entities",
          "category": "Facility",
          "key": "Payphones",
          "sourceSystemKey": "StaticObjects",
          "value": "2"
         },
         {
          "$type": "Tfl.Api.Presentation.Entities.AdditionalProperties, Tfl.Api.Presentation.Entities",
          "category": "Facility",
          "key": "Toilets",
          "sourceSystemKey": "StaticObjects",
          "value": "no"
         },
         {
          "$type": "Tfl.Api.Presentation.Entities.AdditionalProperties, Tfl.Api.Presentation.Entities",
          "category": "Geo",
          "key": "Zone",
          "sourceSystemKey": "StaticObjects",
          "value": "1+2"
         },
         {
          "$type": "Tfl.Api.Presentation.Entities.AdditionalProperties, Tfl.Api.Presentation.Entities",
          "category": "Facility",
          "key": "Cash Machines",
          "sourceSystemKey": "StaticObjects",
          "value": "3"
         },
         {
          "$type": "Tfl.Api.Presentation.Entities.AdditionalProperties, Tfl.Api.Presentation.Entities",
          "category": "Facility",
          "key": "Waiting Room",
          "sourceSystemKey": "StaticObjects",
          "value": "no"
         },
         {
          "$type": "Tfl.Api.Presentation.Entities.AdditionalProperties, Tfl.Api.Presentation.Entities",
          "category": "Address",
          "key": "PhoneNo",
          "sourceSystemKey": "StaticObjects",
          "value": "0845 330 9880"
         },
         {
          "$type": "Tfl.Api.Presentation.Entities.AdditionalProperties, Tfl.Api.Presentation.Entities",
          "category": "Facility",
          "key": "Euro Cash Machines",
          "sourceSystemKey": "StaticObjects",
          "value": "yes"
         },
         {
          "$type": "Tfl.Api.Presentation.Entities.AdditionalProperties, Tfl.Api.Presentation.Entities",
          "category": "Facility",
          "key": "Lifts",
          "sourceSystemKey": "StaticObjects",
          "value": "0"
         },
         {
          "$type": "Tfl.Api.Presentation.Entities.AdditionalProperties, Tfl.Api.Presentation.Entities",
          "category": "Facility",
          "key": "Ticket Halls",
          "sourceSystemKey": "StaticObjects",
          "value": "1"
         },
         {
          "$type": "Tfl.Api.Presentation.Entities.AdditionalProperties, Tfl.Api.Presentation.Entities",
          "category": "Facility",
          "key": "WiFi",
          "sourceSystemKey": "StaticObjects",
          "value": "yes"
         },
         {
          "$type": "Tfl.Api.Presentation.Entities.AdditionalProperties, Tfl.Api.Presentation.Entities",
          "category": "Facility",
          "key": "Car park",
          "sourceSystemKey": "StaticObjects",
          "value": "no"
         },
         {
          "$type": "Tfl.Api.Presentation.Entities.AdditionalProperties, Tfl.Api.Presentation.Entities",
          "category": "Facility",
          "key": "Escalators",
          "sourceSystemKey": "StaticObjects",
          "value": "2"
         },
         {
          "$type": "Tfl.Api.Presentation.Entities.AdditionalProperties, Tfl.Api.Presentation.Entities",
          "category": "Facility",
          "key": "Other Facilities",
          "sourceSystemKey": "StaticObjects",
          "value": "taxi ranks outside station, subway to street, routeways platform to ticket hall."
         },
         {
          "$type": "Tfl.Api.Presentation.Entities.AdditionalProperties, Tfl.Api.Presentation.Entities",
          "category": "Facility",
          "key": "Gates",
          "sourceSystemKey": "StaticObjects",
          "value": "8"
         },
         {
          "$type": "Tfl.Api.Presentation.Entities.AdditionalProperties, Tfl.Api.Presentation.Entities",
          "category": "Facility",
          "key": "Photo Booths",
          "sourceSystemKey": "StaticObjects",
          "value": "0"
         },
         {
          "$type": "Tfl.Api.Presentation.Entities.AdditionalProperties, Tfl.Api.Presentation.Entities",
          "category": "NearestPlaces",
          "key": "SourceSystemPlaceId",
          "sourceSystemKey": "StaticObjects",
          "value": "BikePoints_146"
         },
         {
          "$type": "Tfl.Api.Presentation.Entities.AdditionalProperties, Tfl.Api.Presentation.Entities",
          "category": "NearestPlaces",
          "key": "SourceSystemPlaceId",
          "sourceSystemKey": "StaticObjects",
          "value": "BikePoints_600"
         },
         {
          "$type": "Tfl.Api.Presentation.Entities.AdditionalProperties, Tfl.Api.Presentation.Entities",
          "category": "NearestPlaces",
          "key": "SourceSystemPlaceId",
          "sourceSystemKey": "StaticObjects",
          "value": "BikePoints_74"
         },
         {
          "$type": "Tfl.Api.Presentation.Entities.AdditionalProperties, Tfl.Api.Presentation.Entities",
          "category": "NearestPlaces",
          "key": "SourceSystemPlaceId",
          "sourceSystemKey": "StaticObjects",
          "value": "BikePoints_437"
         },
         {
          "$type": "Tfl.Api.Presentation.Entities.AdditionalProperties, Tfl.Api.Presentation.Entities",
          "category": "NearestPlaces",
          "key": "SourceSystemPlaceId",
          "sourceSystemKey": "StaticObjects",
          "value": "BikePoints_270"
         },
         {
          "$type": "Tfl.Api.Presentation.Entities.AdditionalProperties, Tfl.Api.Presentation.Entities",
          "category": "NearestPlaces",
          "key": "SourceSystemPlaceId",
          "sourceSystemKey": "StaticObjects",
          "value": "BikePoints_813"
         },
         {
          "$type": "Tfl.Api.Presentation.Entities.AdditionalProperties, Tfl.Api.Presentation.Entities",
          "category": "NearestPlaces",
          "key": "SourceSystemPlaceId",
          "sourceSystemKey": "StaticObjects",
          "value": "TaxiRank_5533"
         },
         {
          "$type": "Tfl.Api.Presentation.Entities.AdditionalProperties, Tfl.Api.Presentation.Entities",
          "category": "NearestPlaces",
          "key": "SourceSystemPlaceId",
          "sourceSystemKey": "StaticObjects",
          "value": "TaxiRank_5490"
         }
        ],
        "children": [
         {
          "$type": "Tfl.Api.Presentation.Entities.StopPoint, Tfl.Api.Presentation.Entities",
          "additionalProperties": [],
          "children": [],
          "commonName": "Vauxhall Underground Station",
          "hubNaptanCode": "HUBVXH",
          "icsCode": "1000247",
          "id": "9400ZZLUVXL1",
          "lat": 0,
          "lineGroup": [],
          "lineModeGroups": [],
          "lines": [],
          "lon": 0,
          "modes": [],
          "naptanId": "9400ZZLUVXL1",
          "placeType": "StopPoint",
          "stationNaptan": "940GZZLUVXL",
          "status": true
         }
        ],
        "commonName": "Vauxhall Underground Station",
        "hubNaptanCode": "HUBVXH",
        "icsCode": "1000247",
        "id": "940GZZLUVXL",
        "lat": 51.485743,
        "lineGroup": [
         {
          "$type": "Tfl.Api.Presentation.Entities.LineGroup, Tfl.Api.Presentation.Entities",
          "lineIdentifier": [
           "victoria"
          ],
          "stationAtcoCode": "940GZZLUVXL"
         }
        ],
        "lineModeGroups": [
         {
          "$type": "Tfl.Api.Presentation.Entities.LineModeGroup, Tfl.Api.Presentation.Entities",
          "lineIdentifier": [
           "victoria"
          ],
          "modeName": "tube"
         }
        ],
        "lines": [
         {
          "$type": "Tfl.Api.Presentation.Entities.Identifier, Tfl.Api.Presentation.Entities",
          "crowding": {
           "$type": "Tfl.Api.Presentation.Entities.Crowding, Tfl.Api.Presentation.Entities"
          },
          "id": "victoria",
          "name": "Victoria",
          "routeType": "Unknown",
          "status": "Unknown",
          "type": "Line",
          "uri": "/Line/victoria"
         }
        ],
        "lon": -0.124204,
        "modes": [
         "tube"
        ],
        "naptanId": "940GZZLUVXL",
        "placeType": "StopPoint",
        "stationNaptan": "940GZZLUVXL",
        "status": true,
        "stopType": "NaptanMetroStation"
       },
       {
        "$type": "Tfl.Api.Presentation.Entities.StopPoint, Tfl.Api.Presentation.Entities",
        "additionalProperties": [
         {
          "$type": "Tfl.Api.Presentation.Entities.AdditionalProperties, Tfl.Api.Presentation.Entities",
          "category": "ServiceInfo",
          "key": "Night",
          "sourceSystemKey": "TransXchangeETL",
          "value": "yes"
         },
         {
          "$type": "Tfl.Api.Presentation.Entities.AdditionalProperties, Tfl.Api.Presentation.Entities",
          "category": "Facility",
          "key": "Help Points",
          "sourceSystemKey": "StaticObjects",
          "value": "0 on platforms, 0 in ticket halls, 5 elsewhere"
         },
         {
          "$type": "Tfl.Api.Presentation.Entities.AdditionalProperties, Tfl.Api.Presentation.Entities",
          "category": "Address",
          "key": "PhoneNo",
          "sourceSystemKey": "StaticObjects",
          "value": "0845 330 9880"
         },
         {
          "$type": "Tfl.Api.Presentation.Entities.AdditionalProperties, Tfl.Api.Presentation.Entities",
          "category": "Facility",
          "key": "Waiting Room",
          "sourceSystemKey": "StaticObjects",
          "value": "no"
         },
         {
          "$type": "Tfl.Api.Presentation.Entities.AdditionalProperties, Tfl.Api.Presentation.Entities",
          "category": "Geo",
          "key": "Zone",
          "sourceSystemKey": "StaticObjects",
          "value": "1"
         },
         {
          "$type": "Tfl.Api.Presentation.Entities.AdditionalProperties, Tfl.Api.Presentation.Entities",
          "category": "Address",
          "key": "Address",
          "sourceSystemKey": "StaticObjects",
          "value": "Warren Street Station,London Underground Ltd.,Tottenham Court Rd,London,NW1 3AA"
         },
         {
          "$type": "Tfl.Api.Presentation.Entities.AdditionalProperties, Tfl.Api.Presentation.Entities",
          "category": "Facility",
          "key": "Gates",
          "sourceSystemKey": "StaticObjects",
          "value": "10"
         },
         {
          "$type": "Tfl.Api.Presentation.Entities.AdditionalProperties, Tfl.Api.Presentation.Entities",
          "category": "Facility",
          "key": "Payphones",
          "sourceSystemKey": "StaticObjects",
          "value": "1"
         },
         {
          "$type": "Tfl.Api.Presentation.Entities.AdditionalProperties, Tfl.Api.Presentation.Entities",
          "category": "Facility",
          "key": "Escalators",
          "sourceSystemKey": "StaticObjects",
          "value": "7"
         },
         {
          "$type": "Tfl.Api.Presentation.Entities.AdditionalProperties, Tfl.Api.Presentation.Entities",
          "category": "Facility",
          "key": "Lifts",
          "sourceSystemKey": "StaticObjects",
          "value": "0"
         },
         {
          "$type": "Tfl.Api.Presentation.Entities.AdditionalProperties, Tfl.Api.Presentation.Entities",
          "category": "Facility",
          "key": "Ticket Halls",
          "sourceSystemKey": "StaticObjects",
          "value": "1"
         },
         {
          "$type": "Tfl.Api.Presentation.Entities.AdditionalProperties, Tfl.Api.Presentation.Entities",
          "category": "Facility",
          "key": "WiFi",
          "sourceSystemKey": "StaticObjects",
          "value": "yes"
         },
         {
          "$type": "Tfl.Api.Presentation.Entities.AdditionalProperties, Tfl.Api.Presentation.Entities",
          "category": "Facility",
          "key": "Car park",
          "sourceSystemKey": "StaticObjects",
          "value": "no"
         },
         {
          "$type": "Tfl.Api.Presentation.Entities.AdditionalProperties, Tfl.Api.Presentation.Entities",
          "category": "Facility",
          "key": "Photo Booths",
          "sourceSystemKey": "StaticObjects",
          "value": "0"
         },
         {
          "$type": "Tfl.Api.Presentation.Entities.AdditionalProperties, Tfl.Api.Presentation.Entities",
          "category": "Facility",
          "key": "Bridge",
          "sourceSystemKey": "StaticObjects",
          "value": "no"
         },
         {
          "$type": "Tfl.Api.Presentation.Entities.AdditionalProperties, Tfl.Api.Presentation.Entities",
          "category": "Facility",
          "key": "Cash Machines",
          "sourceSystemKey": "StaticObjects",
          "value": "0"
         },
         {
          "$type": "Tfl.Api.Presentation.Entities.AdditionalProperties, Tfl.Api.Presentation.Entities",
          "category": "Facility",
          "key": "Toilets",
          "sourceSystemKey": "StaticObjects",
          "value": "yes"
         },
         {
          "$type": "Tfl.Api.Presentation.Entities.AdditionalProperties, Tfl.Api.Presentation.Entities",
          "category": "Facility",
          "key": "Other Facilities",
          "sourceSystemKey": "StaticObjects",
          "value": "canopies over platform, routeways platform to ticket hall."
         },
         {
          "$type": "Tfl.Api.Presentation.Entities.AdditionalProperties, Tfl.Api.Presentation.Entities",
          "category": "NearestPlaces",
          "key": "SourceSystemPlaceId",
          "sourceSystemKey": "StaticObjects",
          "value": "BikePoints_19"
         },
         {
          "$type": "Tfl.Api.Presentation.Entities.AdditionalProperties, Tfl.Api.Presentation.Entities",
          "category": "NearestPlaces",
          "key": "SourceSystemPlaceId",
          "sourceSystemKey": "StaticObjects",
          "value": "BikePoints_20"
         },
         {
          "$type": "Tfl.Api.Presentation.Entities.AdditionalProperties, Tfl.Api.Presentation.Entities",
          "category": "NearestPlaces",
          "key": "SourceSystemPlaceId",
          "sourceSystemKey": "StaticObjects",
          "value": "BikePoints_28"
         },
         {
          "$type": "Tfl.Api.Presentation.Entities.AdditionalProperties, Tfl.Api.Presentation.Entities",
          "category": "NearestPlaces",
          "key": "SourceSystemPlaceId",
          "sourceSystemKey": "StaticObjects",
          "value": "BikePoints_69"
         },
         {
          "$type": "Tfl.Api.Presentation.Entities.AdditionalProperties, Tfl.Api.Presentation.Entities",
          "category": "NearestPlaces",
          "key": "SourceSystemPlaceId",
          "sourceSystemKey": "StaticObjects",
          "value": "BikePoints_76"
         },
         {
          "$type": "Tfl.Api.Presentation.Entities.AdditionalProperties, Tfl.Api.Presentation.Entities",
          "category": "NearestPlaces",
          "key": "SourceSystemPlaceId",
          "sourceSystemKey": "StaticObjects",
          "value": "BikePoints_98"
         },
         {
          "$type": "Tfl.Api.Presentation.Entities.AdditionalProperties, Tfl.Api.Presentation.Entities",
          "category": "NearestPlaces",
          "key": "SourceSystemPlaceId",
          "sourceSystemKey": "StaticObjects",
          "value": "BikePoints_239"
         },
         {
          "$type": "Tfl.Api.Presentation.Entities.AdditionalProperties, Tfl.Api.Presentation.Entities",
          "category": "NearestPlaces",
          "key": "SourceSystemPlaceId",
          "sourceSystemKey": "StaticObjects",
          "value": "BikePoints_357"
         },
         {
          "$type": "Tfl.Api.Presentation.Entities.AdditionalProperties, Tfl.Api.Presentation.Entities",
          "category": "NearestPlaces",
          "key": "SourceSystemPlaceId",
          "sourceSystemKey": "StaticObjects",
          "value": "TaxiRank_5405"
         },
         {
          "$type": "Tfl.Api.Presentation.Entities.AdditionalProperties, Tfl.Api.Presentation.Entities",
          "category": "NearestPlaces",
          "key": "SourceSystemPlaceId",
          "sourceSystemKey": "StaticObjects",
          "value": "TaxiRank_5592"
         },
         {
          "$type": "Tfl.Api.Presentation.Entities.AdditionalProperties, Tfl.Api.Presentation.Entities",
          "category": "NearestPlaces",
          "key": "SourceSystemPlaceId",
          "sourceSystemKey": "StaticObjects",
          "value": "TaxiRank_4427"
         },
         {
          "$type": "Tfl.Api.Presentation.Entities.AdditionalProperties, Tfl.Api.Presentation.Entities",
          "category": "NearestPlaces",
          "key": "SourceSystemPlaceId",
          "sourceSystemKey": "StaticObjects",
          "value": "TaxiRank_4914"
         },
         {
          "$type": "Tfl.Api.Presentation.Entities.AdditionalProperties, Tfl.Api.Presentation.Entities",
          "category": "NearestPlaces",
          "key": "SourceSystemPlaceId",
          "sourceSystemKey": "StaticObjects",
          "value": "TaxiRank_5399"
         },
         {
          "$type": "Tfl.Api.Presentation.Entities.AdditionalProperties, Tfl.Api.Presentation.Entities",
          "category": "NearestPlaces",
          "key": "SourceSystemPlaceId",
          "sourceSystemKey": "StaticObjects",
          "value": "TaxiRank_5638"
         },
         {
          "$type": "Tfl.Api.Presentation.Entities.AdditionalProperties, Tfl.Api.Presentation.Entities",
          "category": "NearestPlaces",
          "key": "SourceSystemPlaceId",
          "sourceSystemKey": "StaticObjects",
          "value": "TaxiRank_5433"
         }
        ],
        "children": [
         {
          "$type": "Tfl.Api.Presentation.Entities.StopPoint, Tfl.Api.Presentation.Entities",
          "additionalProperties": [],
          "children": [],
          "commonName": "Warren Street Underground Station",
          "icsCode": "1000252",
          "id": "9400ZZLUWRR1",
          "lat": 0,
          "lineGroup": [],
          "lineModeGroups": [],
          "lines": [],
          "lon": 0,
          "modes": [],
          "naptanId": "9400ZZLUWRR1",
          "placeType": "StopPoint",
          "stationNaptan": "940GZZLUWRR",
          "status": true
         },
         {
          "$type": "Tfl.Api.Presentation.Entities.StopPoint, Tfl.Api.Presentation.Entities",
          "additionalProperties": [],
          "children": [],
          "commonName": "Warren Street Underground Station",
          "icsCode": "1000252",
          "id": "9400ZZLUWRR2",
          "lat": 0,
          "lineGroup": [],
          "lineModeGroups": [],
          "lines": [],
          "lon": 0,
          "modes": [],
          "naptanId": "9400ZZLUWRR2",
          "placeType": "StopPoint",
          "stationNaptan": "940GZZLUWRR",
          "status": true
         },
         {
          "$type": "Tfl.Api.Presentation.Entities.StopPoint, Tfl.Api.Presentation.Entities",
          "additionalProperties": [],
          "children": [],
          "commonName": "Warren Street Underground Station",
          "icsCode": "1000252",
          "id": "9400ZZLUWRR3",
          "lat": 0,
          "lineGroup": [],
          "lineModeGroups": [],
          "lines": [],
          "lon": 0,
          "modes": [],
          "naptanId": "9400ZZLUWRR3",
          "placeType": "StopPoint",
          "stationNaptan": "940GZZLUWRR",
          "status": true
         },
         {
          "$type": "Tfl.Api.Presentation.Entities.StopPoint, Tfl.Api.Presentation.Entities",
          "additionalProperties": [],
          "children": [],
          "commonName": "Warren Street Underground Station",
          "icsCode": "1000252",
          "id": "9400ZZLUWRR4",
          "lat": 0,
          "lineGroup": [],
          "lineModeGroups": [],
          "lines": [],
          "lon": 0,
          "modes": [],
          "naptanId": "9400ZZLUWRR4",
          "placeType": "StopPoint",
          "stationNaptan": "940GZZLUWRR",
          "status": true
         }
        ],
        "commonName": "Warren Street Underground Station",
        "icsCode": "1000252",
        "id": "940GZZLUWRR",
        "lat": 51.524951,
        "lineGroup": [
         {
          "$type": "Tfl.Api.Presentation.Entities.LineGroup, Tfl.Api.Presentation.Entities",
          "lineIdentifier": [
           "134",
           "24",
           "29",
           "390",
           "73",
           "n20",
           "n253",
           "n279",
           "n29",
           "n5",
           "n73"
          ],
          "naptanIdReference": "490000252X",
          "stationAtcoCode": "490G00252X"
         },
         {
          "$type": "Tfl.Api.Presentation.Entities.LineGroup, Tfl.Api.Presentation.Entities",
          "lineIdentifier": [
           "18",
           "205",
           "30",
           "n205"
          ],
          "naptanIdReference": "490000252KA",
          "stationAtcoCode": "490G00252KA"
         },
         {
          "$type": "Tfl.Api.Presentation.Entities.LineGroup, Tfl.Api.Presentation.Entities",
          "lineIdentifier": [
           "18",
           "205",
           "27",
           "30",
           "n205",
           "n27"
          ],
          "naptanIdReference": "490000252V",
          "stationAtcoCode": "490G00252KA"
         },
         {
          "$type": "Tfl.Api.Presentation.Entities.LineGroup, Tfl.Api.Presentation.Entities",
          "lineIdentifier": [
           "northern"
          ],
          "stationAtcoCode": "940GZZLUWRR"
         },
         {
          "$type": "Tfl.Api.Presentation.Entities.LineGroup, Tfl.Api.Presentation.Entities",
          "lineIdentifier": [
           "victoria"
          ],
          "stationAtcoCode": "940GZZLUWRR"
         }
        ],
        "lineModeGroups": [
         {
          "$type": "Tfl.Api.Presentation.Entities.LineModeGroup, Tfl.Api.Presentation.Entities",
          "lineIdentifier": [
           "134",
           "18",
           "205",
           "24",
           "27",
           "29",
           "30",
           "390",
           "73",
           "n20",
           "n205",
           "n253",
           "n27",
           "n279",
           "n29",
           "n5",
           "n73"
          ],
          "modeName": "bus"
         },
         {
          "$type": "Tfl.Api.Presentation.Entities.LineModeGroup, Tfl.Api.Presentation.Entities",
          "lineIdentifier": [
           "northern",
           "victoria"
          ],
          "modeName": "tube"
         }
        ],
        "lines": [
         {
          "$type": "Tfl.Api.Presentation.Entities.Identifier, Tfl.Api.Presentation.Entities",
          "crowding": {
           "$type": "Tfl.Api.Presentation.Entities.Crowding, Tfl.Api.Presentation.Entities"
          },
          "id": "134",
          "name": "134",
          "routeType": "Unknown",
          "status": "Unknown",
          "type": "Line",
          "uri": "/Line/134"
         },
         {
          "$type": "Tfl.Api.Presentation.Entities.Identifier, Tfl.Api.Presentation.Entities",
          "crowding": {
           "$type": "Tfl.Api.Presentation.Entities.Crowding, Tfl.Api.Presentation.Entities"
          },
          "id": "18",
          "name": "18",
          "routeType": "Unknown",
          "status": "Unknown",
          "type": "Line",
          "uri": "/Line/18"
         },
         {
          "$type": "Tfl.Api.Presentation.Entities.Identifier, Tfl.Api.Presentation.Entities",
          "crowding": {
           "$type": "Tfl.Api.Presentation.Entities.Crowding, Tfl.Api.Presentation.Entities"
          },
          "id": "205",
          "name": "205",
          "routeType": "Unknown",
          "status": "Unknown",
          "type": "Line",
          "uri": "/Line/205"
         },
         {
          "$type": "Tfl.Api.Presentation.Entities.Identifier, Tfl.Api.Presentation.Entities",
          "crowding": {
           "$type": "Tfl.Api.Presentation.Entities.Crowding, Tfl.Api.Presentation.Entities"
          },
          "id": "24",
          "name": "24",
          "routeType": "Unknown",
          "status": "Unknown",
          "type": "Line",
          "uri": "/Line/24"
         },
         {
          "$type": "Tfl.Api.Presentation.Entities.Identifier, Tfl.Api.Presentation.Entities",
          "crowding": {
           "$type": "Tfl.Api.Presentation.Entities.Crowding, Tfl.Api.Presentation.Entities"
          },
          "id": "27",
          "name": "27",
          "routeType": "Unknown",
          "status": "Unknown",
          "type": "Line",
          "uri": "/Line/27"
         },
         {
          "$type": "Tfl.Api.Presentation.Entities.Identifier, Tfl.Api.Presentation.Entities",
          "crowding": {
           "$type": "Tfl.Api.Presentation.Entities.Crowding, Tfl.Api.Presentation.Entities"
          },
          "id": "29",
          "name": "29",
          "routeType": "Unknown",
          "status": "Unknown",
          "type": "Line",
          "uri": "/Line/29"
         },
         {
          "$type": "Tfl.Api.Presentation.Entities.Identifier, Tfl.Api.Presentation.Entities",
          "crowding": {
           "$type": "Tfl.Api.Presentation.Entities.Crowding, Tfl.Api.Presentation.Entities"
          },
          "id": "30",
          "name": "30",
          "routeType": "Unknown",
          "status": "Unknown",
          "type": "Line",
          "uri": "/Line/30"
         },
         {
          "$type": "Tfl.Api.Presentation.Entities.Identifier, Tfl.Api.Presentation.Entities",
          "crowding": {
           "$type": "Tfl.Api.Presentation.Entities.Crowding, Tfl.Api.Presentation.Entities"
          },
          "id": "390",
          "name": "390",
          "routeType": "Unknown",
          "status": "Unknown",
          "type": "Line",
          "uri": "/Line/390"
         },
         {
          "$type": "Tfl.Api.Presentation.Entities.Identifier, Tfl.Api.Presentation.Entities",
          "crowding": {
           "$type": "Tfl.Api.Presentation.Entities.Crowding, Tfl.Api.Presentation.Entities"
          },
          "id": "73",
          "name": "73",
          "routeType": "Unknown",
          "status": "Unknown",
          "type": "Line",
          "uri": "/Line/73"
         },
         {
          "$type": "Tfl.Api.Presentation.Entities.Identifier, Tfl.Api.Presentation.Entities",
          "crowding": {
           "$type": "Tfl.Api.Presentation.Entities.Crowding, Tfl.Api.Presentation.Entities"
          },
          "id": "n20",
          "name": "N20",
          "routeType": "Unknown",
          "status": "Unknown",
          "type": "Line",
          "uri": "/Line/n20"
         },
         {
          "$type": "Tfl.Api.Presentation.Entities.Identifier, Tfl.Api.Presentation.Entities",
          "crowding": {
           "$type": "Tfl.Api.Presentation.Entities.Crowding, Tfl.Api.Presentation.Entities"
          },
          "id": "n205",
          "name": "N205",
          "routeType": "Unknown",
          "status": "Unknown",
          "type": "Line",
          "uri": "/Line/n205"
         },
         {
          "$type": "Tfl.Api.Presentation.Entities.Identifier, Tfl.Api.Presentation.Entities",
          "crowding": {
           "$type": "Tfl.Api.Presentation.Entities.Crowding, Tfl.Api.Presentation.Entities"
          },
          "id": "n253",
          "name": "N253",
          "routeType": "Unknown",
          "status": "Unknown",
          "type": "Line",
          "uri": "/Line/n253"
         },
         {
          "$type": "Tfl.Api.Presentation.Entities.Identifier, Tfl.Api.Presentation.Entities",
          "crowding": {
           "$type": "Tfl.Api.Presentation.Entities.Crowding, Tfl.Api.Presentation.Entities"
          },
          "id": "n27",
          "name": "N27",
          "routeType": "Unknown",
          "status": "Unknown",
          "type": "Line",
          "uri": "/Line/n27"
         },
         {
          "$type": "Tfl.Api.Presentation.Entities.Identifier, Tfl.Api.Presentation.Entities",
          "crowding": {
           "$type": "Tfl.Api.Presentation.Entities.Crowding, Tfl.Api.Presentation.Entities"
          },
          "id": "n279",
          "name": "N279",
          "routeType": "Unknown",
          "status": "Unknown",
          "type": "Line",
          "uri": "/Line/n279"
         },
         {
          "$type": "Tfl.Api.Presentation.Entities.Identifier, Tfl.Api.Presentation.Entities",
          "crowding": {
           "$type": "Tfl.Api.Presentation.Entities.Crowding, Tfl.Api.Presentation.Entities"
          },
          "id": "n29",
          "name": "N29",
          "routeType": "Unknown",
          "status": "Unknown",
          "type": "Line",
          "uri": "/Line/n29"
         },
         {
          "$type": "Tfl.Api.Presentation.Entities.Identifier, Tfl.Api.Presentation.Entities",
          "crowding": {
           "$type": "Tfl.Api.Presentation.Entities.Crowding, Tfl.Api.Presentation.Entities"
          },
          "id": "n5",
          "name": "N5",
          "routeType": "Unknown",
          "status": "Unknown",
          "type": "Line",
          "uri": "/Line/n5"
         },
         {
          "$type": "Tfl.Api.Presentation.Entities.Identifier, Tfl.Api.Presentation.Entities",
          "crowding": {
           "$type": "Tfl.Api.Presentation.Entities.Crowding, Tfl.Api.Presentation.Entities"
          },
          "id": "n73",
          "name": "N73",
          "routeType": "Unknown",
          "status": "Unknown",
          "type": "Line",
          "uri": "/Line/n73"
         },
         {
          "$type": "Tfl.Api.Presentation.Entities.Identifier, Tfl.Api.Presentation.Entities",
          "crowding": {
           "$type": "Tfl.Api.Presentation.Entities.Crowding, Tfl.Api.Presentation.Entities"
          },
          "id": "northern",
          "name": "Northern",
          "routeType": "Unknown",
          "status": "Unknown",
          "type": "Line",
          "uri": "/Line/northern"
         },
         {
          "$type": "Tfl.Api.Presentation.Entities.Identifier, Tfl.Api.Presentation.Entities",
          "crowding": {
           "$type": "Tfl.Api.Presentation.Entities.Crowding, Tfl.Api.Presentation.Entities"
          },
          "id": "victoria",
          "name": "Victoria",
          "routeType": "Unknown",
          "status": "Unknown",
          "type": "Line",
          "uri": "/Line/victoria"
         }
        ],
        "lon": -0.138321,
        "modes": [
         "bus",
         "tube"
        ],
        "naptanId": "940GZZLUWRR",
        "placeType": "StopPoint",
        "stationNaptan": "940GZZLUWRR",
        "status": true,
        "stopType": "NaptanMetroStation"
       },
       {
        "$type": "Tfl.Api.Presentation.Entities.StopPoint, Tfl.Api.Presentation.Entities",
        "additionalProperties": [
         {
          "$type": "Tfl.Api.Presentation.Entities.AdditionalProperties, Tfl.Api.Presentation.Entities",
          "category": "ServiceInfo",
          "key": "Night",
          "sourceSystemKey": "TransXchangeETL",
          "value": "yes"
         },
         {
          "$type": "Tfl.Api.Presentation.Entities.AdditionalProperties, Tfl.Api.Presentation.Entities",
          "category": "Address",
          "key": "Address",
          "sourceSystemKey": "StaticObjects",
          "value": "Walthamstow Central Station BR Hoe St,London,E17 7LP"
         },
         {
          "$type": "Tfl.Api.Presentation.Entities.AdditionalProperties, Tfl.Api.Presentation.Entities",
          "category": "Facility",
          "key": "Payphones",
          "sourceSystemKey": "StaticObjects",
          "value": "0"
         },
         {
          "$type": "Tfl.Api.Presentation.Entities.AdditionalProperties, Tfl.Api.Presentation.Entities",
          "category": "Facility",
          "key": "Cash Machines",
          "sourceSystemKey": "StaticObjects",
          "value": "0"
         },
         {
          "$type": "Tfl.Api.Presentation.Entities.AdditionalProperties, Tfl.Api.Presentation.Entities",
          "category": "Facility",
          "key": "Gates",
          "sourceSystemKey": "StaticObjects",
          "value": "7"
         },
         {
          "$type": "Tfl.Api.Presentation.Entities.AdditionalProperties, Tfl.Api.Presentation.Entities",
          "category": "Facility",
          "key": "Escalators",
          "sourceSystemKey": "StaticObjects",
          "value": "2"
         },
         {
          "$type": "Tfl.Api.Presentation.Entities.AdditionalProperties, Tfl.Api.Presentation.Entities",
          "category": "Facility",
          "key": "Photo Booths",
          "sourceSystemKey": "StaticObjects",
          "value": "0"
         },
         {
          "$type": "Tfl.Api.Presentation.Entities.AdditionalProperties, Tfl.Api.Presentation.Entities",
          "category": "Facility",
          "key": "Ticket Halls",
          "sourceSystemKey": "StaticObjects",
          "value": "1"
         },
         {
          "$type": "Tfl.Api.Presentation.Entities.AdditionalProperties, Tfl.Api.Presentation.Entities",
          "category": "Facility",
          "key": "Bridge",
          "sourceSystemKey": "StaticObjects",
          "value": "no"
         },
         {
          "$type": "Tfl.Api.Presentation.Entities.AdditionalProperties, Tfl.Api.Presentation.Entities",
          "category": "Facility",
          "key": "Lifts",
          "sourceSystemKey": "StaticObjects",
          "value": "0"
         },
         {
          "$type": "Tfl.Api.Presentation.Entities.AdditionalProperties, Tfl.Api.Presentation.Entities",
          "category": "Facility",
          "key": "Other Facilities",
          "sourceSystemKey": "StaticObjects",
          "value": "electronic whiteboards in ticket hall, post office style queuing for tickets, subway to street, routeways platform to ticket hall."
         },
         {
          "$type": "Tfl.Api.Presentation.Entities.AdditionalProperties, Tfl.Api.Presentation.Entities",
          "category": "Facility",
          "key": "Toilets",
          "sourceSystemKey": "StaticObjects",
          "value": "no"
         },
         {
          "$type": "Tfl.Api.Presentation.Entities.AdditionalProperties, Tfl.Api.Presentation.Entities",
          "category": "Facility",
          "key": "WiFi",
          "sourceSystemKey": "StaticObjects",
          "value": "yes"
         },
         {
          "$type": "Tfl.Api.Presentation.Entities.AdditionalProperties, Tfl.Api.Presentation.Entities",
          "category": "Facility",
          "key": "Car park",
          "sourceSystemKey": "StaticObjects",
          "value": "no"
         },
         {
          "$type": "Tfl.Api.Presentation.Entities.AdditionalProperties, Tfl.Api.Presentation.Entities",
          "category": "Facility",
          "key": "Help Points",
          "sourceSystemKey": "StaticObjects",
          "value": "0 on platforms, 0 in ticket halls, 0 elsewhere"
         },
         {
          "$type": "Tfl.Api.Presentation.Entities.AdditionalProperties, Tfl.Api.Presentation.Entities",
          "category": "Address",
          "key": "PhoneNo",
          "sourceSystemKey": "StaticObjects",
          "value": "0845 330 9880"
         },
         {
          "$type": "Tfl.Api.Presentation.Entities.AdditionalProperties, Tfl.Api.Presentation.Entities",
          "category": "Facility",
          "key": "Waiting Room",
          "sourceSystemKey": "StaticObjects",
          "value": "no"
         },
         {
          "$type": "Tfl.Api.Presentation.Entities.AdditionalProperties, Tfl.Api.Presentation.Entities",
          "category": "Geo",
          "key": "Zone",
          "sourceSystemKey": "StaticObjects",
          "value": "3"
         },
         {
          "$type": "Tfl.Api.Presentation.Entities.AdditionalProperties, Tfl.Api.Presentation.Entities",
          "category": "NearestPlaces",
          "key": "SourceSystemPlaceId",
          "sourceSystemKey": "StaticObjects",
          "value": "TaxiRank_5295"
         },
         {
          "$type": "Tfl.Api.Presentation.Entities.AdditionalProperties, Tfl.Api.Presentation.Entities",
          "category": "NearestPlaces",
          "key": "SourceSystemPlaceId",
          "sourceSystemKey": "StaticObjects",
          "value": "TaxiRank_5235"
         },
         {
          "$type": "Tfl.Api.Presentation.Entities.AdditionalProperties, Tfl.Api.Presentation.Entities",
          "category": "NearestPlaces",
          "key": "SourceSystemPlaceId",
          "sourceSystemKey": "StaticObjects",
          "value": "TaxiRank_4913"
         }
        ],
        "children": [
         {
          "$type": "Tfl.Api.Presentation.Entities.StopPoint, Tfl.Api.Presentation.Entities",
          "additionalProperties": [],
          "children": [],
          "commonName": "Walthamstow Central Underground Station",
          "hubNaptanCode": "HUBWHC",
          "icsCode": "1000249",
          "id": "9400ZZLUWWL1",
          "lat": 0,
          "lineGroup": [],
          "lineModeGroups": [],
          "lines": [],
          "lon": 0,
          "modes": [],
          "naptanId": "9400ZZLUWWL1",
          "placeType": "StopPoint",
          "stationNaptan": "940GZZLUWWL",
          "status": true
         }
        ],
        "commonName": "Walthamstow Central Underground Station",
        "hubNaptanCode": "HUBWHC",
        "icsCode": "1000249",
        "id": "940GZZLUWWL",
        "lat": 51.582965,
        "lineGroup": [
         {
          "$type": "Tfl.Api.Presentation.Entities.LineGroup, Tfl.Api.Presentation.Entities",
          "lineIdentifier": [
           "victoria"
          ],
          "stationAtcoCode": "940GZZLUWWL"
         }
        ],
        "lineModeGroups": [
         {
          "$type": "Tfl.Api.Presentation.Entities.LineModeGroup, Tfl.Api.Presentation.Entities",
          "lineIdentifier": [
           "victoria"
          ],
          "modeName": "tube"
         }
        ],
        "lines": [
         {
          "$type": "Tfl.Api.Presentation.Entities.Identifier, Tfl.Api.Presentation.Entities",
          "crowding": {
           "$type": "Tfl.Api.Presentation.Entities.Crowding, Tfl.Api.Presentation.Entities"
          },
          "id": "victoria",
          "name": "Victoria",
          "routeType": "Unknown",
          "status": "Unknown",
          "type": "Line",
          "uri": "/Line/victoria"
         }
        ],
        "lon": -0.019885,
        "modes": [
         "tube"
        ],
        "naptanId": "940GZZLUWWL",
        "placeType": "StopPoint",
        "stationNaptan": "940GZZLUWWL",
        "status": true,
        "stopType": "NaptanMetroStation"
       }
      ],
      "text/plain": [
       "<IPython.core.display.JSON object>"
      ]
     },
     "execution_count": 85,
     "metadata": {
      "application/json": {
       "expanded": false,
       "root": "root"
      }
     },
     "output_type": "execute_result"
    }
   ],
   "source": [
    "victoria = requests.get('https://api.tfl.gov.uk/Line/victoria/StopPoints')\n",
    "victoria = victoria.json()\n",
    "JSON(victoria)"
   ]
  },
  {
   "cell_type": "code",
   "execution_count": 86,
   "metadata": {},
   "outputs": [
    {
     "data": {
      "text/plain": [
       "16"
      ]
     },
     "execution_count": 86,
     "metadata": {},
     "output_type": "execute_result"
    }
   ],
   "source": [
    "len(victoria)"
   ]
  },
  {
   "cell_type": "markdown",
   "metadata": {},
   "source": [
    "## Task\n",
    "Plan the journey from Heathrow Airport to Tower Bridge using Bus and Tube? Which way is faster? Example output:\n",
    "```\n",
    "Planned duration:\n",
    "Bus: x minutes\n",
    "Tube: y minutes\n",
    "```\n",
    "\n",
    "We need to search the documentation for correct requests and parameters we need."
   ]
  },
  {
   "cell_type": "code",
   "execution_count": 81,
   "metadata": {},
   "outputs": [
    {
     "data": {
      "application/json": {
       "$type": "Tfl.Api.Presentation.Entities.JourneyPlanner.DisambiguationResult, Tfl.Api.Presentation.Entities",
       "fromLocationDisambiguation": {
        "$type": "Tfl.Api.Presentation.Entities.JourneyPlanner.Disambiguation, Tfl.Api.Presentation.Entities",
        "disambiguationOptions": [
         {
          "$type": "Tfl.Api.Presentation.Entities.JourneyPlanner.DisambiguationOption, Tfl.Api.Presentation.Entities",
          "matchQuality": 959,
          "parameterValue": "51.46962511264,-0.44968473098",
          "place": {
           "$type": "Tfl.Api.Presentation.Entities.Place, Tfl.Api.Presentation.Entities",
           "additionalProperties": [],
           "commonName": "Hillingdon, Heathrow Airport Terminal 2",
           "lat": 51.46962511264,
           "lon": -0.44968473098,
           "placeType": "PointOfInterest",
           "url": "/Place/"
          },
          "uri": "/journey/journeyresults/51.46962511264,-0.44968473098/to/tower%20bridge?time=0530&timeis=arriving&journeypreference=leasttime&mode=tube"
         },
         {
          "$type": "Tfl.Api.Presentation.Entities.JourneyPlanner.DisambiguationOption, Tfl.Api.Presentation.Entities",
          "matchQuality": 959,
          "parameterValue": "1008026",
          "place": {
           "$type": "Tfl.Api.Presentation.Entities.StopPoint, Tfl.Api.Presentation.Entities",
           "additionalProperties": [],
           "commonName": "Heathrow Airport, Heathrow Airport Terminal 3",
           "icsCode": "1008026",
           "lat": 51.47254839367,
           "lon": -0.45724573875,
           "modes": [],
           "naptanId": "490G000588",
           "placeType": "StopPoint",
           "stopType": "stop",
           "url": "/StopPoint/490G000588"
          },
          "uri": "/journey/journeyresults/1008026/to/towerbridge?time=0530&timeis=arriving&journeypreference=leasttime&mode=tube"
         },
         {
          "$type": "Tfl.Api.Presentation.Entities.JourneyPlanner.DisambiguationOption, Tfl.Api.Presentation.Entities",
          "matchQuality": 950,
          "parameterValue": "51.47238603683,-0.48688352825",
          "place": {
           "$type": "Tfl.Api.Presentation.Entities.Place, Tfl.Api.Presentation.Entities",
           "additionalProperties": [],
           "commonName": "Hillingdon, London Heathrow Airport Terminal 5",
           "lat": 51.47238603683,
           "lon": -0.48688352825,
           "placeType": "PointOfInterest",
           "url": "/Place/"
          },
          "uri": "/journey/journeyresults/51.47238603683,-0.48688352825/to/tower%20bridge?time=0530&timeis=arriving&journeypreference=leasttime&mode=tube"
         },
         {
          "$type": "Tfl.Api.Presentation.Entities.JourneyPlanner.DisambiguationOption, Tfl.Api.Presentation.Entities",
          "matchQuality": 945,
          "parameterValue": "51.47154455027,-0.45886341771",
          "place": {
           "$type": "Tfl.Api.Presentation.Entities.Place, Tfl.Api.Presentation.Entities",
           "additionalProperties": [],
           "commonName": "Hillingdon, Heathrow Airport Terminal 3 Arrivals",
           "lat": 51.471544550269996,
           "lon": -0.45886341771,
           "placeType": "PointOfInterest",
           "url": "/Place/"
          },
          "uri": "/journey/journeyresults/51.47154455027,-0.45886341771/to/tower%20bridge?time=0530&timeis=arriving&journeypreference=leasttime&mode=tube"
         },
         {
          "$type": "Tfl.Api.Presentation.Entities.JourneyPlanner.DisambiguationOption, Tfl.Api.Presentation.Entities",
          "matchQuality": 945,
          "parameterValue": "51.46046306549,-0.44636767138",
          "place": {
           "$type": "Tfl.Api.Presentation.Entities.Place, Tfl.Api.Presentation.Entities",
           "additionalProperties": [],
           "commonName": "Hillingdon, Heathrow Airport Terminal 4 Arrivals",
           "lat": 51.46046306549,
           "lon": -0.44636767138,
           "placeType": "PointOfInterest",
           "url": "/Place/"
          },
          "uri": "/journey/journeyresults/51.46046306549,-0.44636767138/to/tower%20bridge?time=0530&timeis=arriving&journeypreference=leasttime&mode=tube"
         },
         {
          "$type": "Tfl.Api.Presentation.Entities.JourneyPlanner.DisambiguationOption, Tfl.Api.Presentation.Entities",
          "matchQuality": 945,
          "parameterValue": "51.47212537413,-0.48689215164",
          "place": {
           "$type": "Tfl.Api.Presentation.Entities.Place, Tfl.Api.Presentation.Entities",
           "additionalProperties": [],
           "commonName": "Hillingdon, Heathrow Airport Terminal 5 Arrivals",
           "lat": 51.47212537413,
           "lon": -0.48689215164,
           "placeType": "PointOfInterest",
           "url": "/Place/"
          },
          "uri": "/journey/journeyresults/51.47212537413,-0.48689215164/to/tower%20bridge?time=0530&timeis=arriving&journeypreference=leasttime&mode=tube"
         },
         {
          "$type": "Tfl.Api.Presentation.Entities.JourneyPlanner.DisambiguationOption, Tfl.Api.Presentation.Entities",
          "matchQuality": 938,
          "parameterValue": "51.4697660699,-0.44946398636",
          "place": {
           "$type": "Tfl.Api.Presentation.Entities.Place, Tfl.Api.Presentation.Entities",
           "additionalProperties": [],
           "commonName": "Hillingdon, United Airlines, Heathrow Airport Terminal 2",
           "lat": 51.4697660699,
           "lon": -0.44946398635999996,
           "placeType": "PointOfInterest",
           "url": "/Place/"
          },
          "uri": "/journey/journeyresults/51.4697660699,-0.44946398636/to/tower%20bridge?time=0530&timeis=arriving&journeypreference=leasttime&mode=tube"
         },
         {
          "$type": "Tfl.Api.Presentation.Entities.JourneyPlanner.DisambiguationOption, Tfl.Api.Presentation.Entities",
          "matchQuality": 937,
          "parameterValue": "1001147",
          "place": {
           "$type": "Tfl.Api.Presentation.Entities.StopPoint, Tfl.Api.Presentation.Entities",
           "additionalProperties": [],
           "commonName": "Heathrow Airport Terminals 1-3, Heathrow Airport Terminals 2 & 3 Rail Station",
           "icsCode": "1001147",
           "lat": 51.47198549429,
           "lon": -0.45478818469000004,
           "modes": [
            "national-rail",
            "tflrail"
           ],
           "naptanId": "HUBH13",
           "placeType": "StopPoint",
           "stopType": "stop",
           "url": "/StopPoint/HUBH13"
          },
          "uri": "/journey/journeyresults/1001147/to/towerbridge?time=0530&timeis=arriving&journeypreference=leasttime&mode=tube"
         }
        ],
        "matchStatus": "list"
       },
       "journeyVector": {
        "$type": "Tfl.Api.Presentation.Entities.JourneyPlanner.JourneyVector, Tfl.Api.Presentation.Entities",
        "from": "Heathrow Airport",
        "to": "Tower Bridge",
        "uri": "/journey/journeyresults/heathrow%20airport/to/tower%20bridge?time=0530&timeis=arriving&journeypreference=leasttime&mode=tube",
        "via": ""
       },
       "recommendedMaxAgeMinutes": 1440,
       "searchCriteria": {
        "$type": "Tfl.Api.Presentation.Entities.JourneyPlanner.SearchCriteria, Tfl.Api.Presentation.Entities",
        "dateTime": "2021-04-29T05:30:00",
        "dateTimeType": "Arriving"
       },
       "toLocationDisambiguation": {
        "$type": "Tfl.Api.Presentation.Entities.JourneyPlanner.Disambiguation, Tfl.Api.Presentation.Entities",
        "disambiguationOptions": [
         {
          "$type": "Tfl.Api.Presentation.Entities.JourneyPlanner.DisambiguationOption, Tfl.Api.Presentation.Entities",
          "matchQuality": 1000,
          "parameterValue": "51.50599630145,-0.07502752221",
          "place": {
           "$type": "Tfl.Api.Presentation.Entities.Place, Tfl.Api.Presentation.Entities",
           "additionalProperties": [],
           "commonName": "City of London, Tower Bridge",
           "lat": 51.50599630145,
           "lon": -0.07502752220999999,
           "placeType": "StopPoint",
           "url": "/Place/"
          },
          "uri": "/journey/journeyresults/heathrow%20airport/to/51.50599630145,-0.07502752221?time=0530&timeis=arriving&journeypreference=leasttime&mode=tube"
         },
         {
          "$type": "Tfl.Api.Presentation.Entities.JourneyPlanner.DisambiguationOption, Tfl.Api.Presentation.Entities",
          "matchQuality": 974,
          "parameterValue": "51.5039580037,-0.07740449014",
          "place": {
           "$type": "Tfl.Api.Presentation.Entities.Place, Tfl.Api.Presentation.Entities",
           "additionalProperties": [],
           "commonName": "Southwark, One Tower Bridge",
           "lat": 51.503958003700006,
           "lon": -0.07740449013999999,
           "placeType": "PointOfInterest",
           "url": "/Place/"
          },
          "uri": "/journey/journeyresults/heathrow%20airport/to/51.5039580037,-0.07740449014?time=0530&timeis=arriving&journeypreference=leasttime&mode=tube"
         },
         {
          "$type": "Tfl.Api.Presentation.Entities.JourneyPlanner.DisambiguationOption, Tfl.Api.Presentation.Entities",
          "matchQuality": 971,
          "parameterValue": "1013746",
          "place": {
           "$type": "Tfl.Api.Presentation.Entities.StopPoint, Tfl.Api.Presentation.Entities",
           "additionalProperties": [],
           "commonName": "London Bridge, Tower Bridge Road",
           "icsCode": "1013746",
           "lat": 51.50227892501,
           "lon": -0.0786566734,
           "modes": [
            "bus"
           ],
           "naptanId": "490G00013746",
           "placeType": "StopPoint",
           "stopType": "stop",
           "url": "/StopPoint/490G00013746"
          },
          "uri": "/journey/journeyresults/heathrowairport/to/1013746?time=0530&timeis=arriving&journeypreference=leasttime&mode=tube"
         },
         {
          "$type": "Tfl.Api.Presentation.Entities.JourneyPlanner.DisambiguationOption, Tfl.Api.Presentation.Entities",
          "matchQuality": 971,
          "parameterValue": "51.49743849977,-0.08015688257",
          "place": {
           "$type": "Tfl.Api.Presentation.Entities.Place, Tfl.Api.Presentation.Entities",
           "additionalProperties": [],
           "commonName": "Southwark, Tower Bridge Road",
           "lat": 51.49743849977,
           "lon": -0.08015688257,
           "placeType": "StopPoint",
           "url": "/Place/"
          },
          "uri": "/journey/journeyresults/heathrow%20airport/to/51.49743849977,-0.08015688257?time=0530&timeis=arriving&journeypreference=leasttime&mode=tube"
         },
         {
          "$type": "Tfl.Api.Presentation.Entities.JourneyPlanner.DisambiguationOption, Tfl.Api.Presentation.Entities",
          "matchQuality": 971,
          "parameterValue": "51.55796833405,-0.3351140985",
          "place": {
           "$type": "Tfl.Api.Presentation.Entities.Place, Tfl.Api.Presentation.Entities",
           "additionalProperties": [],
           "commonName": "Harrow (London), Tower Bridge Mews",
           "lat": 51.55796833405,
           "lon": -0.3351140985,
           "placeType": "StopPoint",
           "url": "/Place/"
          },
          "uri": "/journey/journeyresults/heathrow%20airport/to/51.55796833405,-0.3351140985?time=0530&timeis=arriving&journeypreference=leasttime&mode=tube"
         },
         {
          "$type": "Tfl.Api.Presentation.Entities.JourneyPlanner.DisambiguationOption, Tfl.Api.Presentation.Entities",
          "matchQuality": 968,
          "parameterValue": "51.50022693522,-0.07910317812",
          "place": {
           "$type": "Tfl.Api.Presentation.Entities.Place, Tfl.Api.Presentation.Entities",
           "additionalProperties": [],
           "commonName": "Southwark, Think Tower Bridge",
           "lat": 51.500226935220006,
           "lon": -0.07910317811999999,
           "placeType": "PointOfInterest",
           "url": "/Place/"
          },
          "uri": "/journey/journeyresults/heathrow%20airport/to/51.50022693522,-0.07910317812?time=0530&timeis=arriving&journeypreference=leasttime&mode=tube"
         },
         {
          "$type": "Tfl.Api.Presentation.Entities.JourneyPlanner.DisambiguationOption, Tfl.Api.Presentation.Entities",
          "matchQuality": 961,
          "parameterValue": "51.50813908211,-0.07408698432",
          "place": {
           "$type": "Tfl.Api.Presentation.Entities.Place, Tfl.Api.Presentation.Entities",
           "additionalProperties": [],
           "commonName": "City of London, Tower Bridge Approach",
           "lat": 51.508139082110006,
           "lon": -0.07408698432000001,
           "placeType": "StopPoint",
           "url": "/Place/"
          },
          "uri": "/journey/journeyresults/heathrow%20airport/to/51.50813908211,-0.07408698432?time=0530&timeis=arriving&journeypreference=leasttime&mode=tube"
         },
         {
          "$type": "Tfl.Api.Presentation.Entities.JourneyPlanner.DisambiguationOption, Tfl.Api.Presentation.Entities",
          "matchQuality": 957,
          "parameterValue": "51.50551623644,-0.07536476862",
          "place": {
           "$type": "Tfl.Api.Presentation.Entities.Place, Tfl.Api.Presentation.Entities",
           "additionalProperties": [],
           "commonName": "Tower Hamlets, Tower Bridge Exhibition",
           "lat": 51.50551623644,
           "lon": -0.07536476862000001,
           "placeType": "PointOfInterest",
           "url": "/Place/"
          },
          "uri": "/journey/journeyresults/heathrow%20airport/to/51.50551623644,-0.07536476862?time=0530&timeis=arriving&journeypreference=leasttime&mode=tube"
         },
         {
          "$type": "Tfl.Api.Presentation.Entities.JourneyPlanner.DisambiguationOption, Tfl.Api.Presentation.Entities",
          "matchQuality": 955,
          "parameterValue": "1013744",
          "place": {
           "$type": "Tfl.Api.Presentation.Entities.StopPoint, Tfl.Api.Presentation.Entities",
           "additionalProperties": [],
           "commonName": "London Bridge, Tower Bridge / City Hall",
           "icsCode": "1013744",
           "lat": 51.50354961675,
           "lon": -0.07662917924,
           "modes": [
            "bus"
           ],
           "naptanId": "490G00013744",
           "placeType": "StopPoint",
           "stopType": "stop",
           "url": "/StopPoint/490G00013744"
          },
          "uri": "/journey/journeyresults/heathrowairport/to/1013744?time=0530&timeis=arriving&journeypreference=leasttime&mode=tube"
         },
         {
          "$type": "Tfl.Api.Presentation.Entities.JourneyPlanner.DisambiguationOption, Tfl.Api.Presentation.Entities",
          "matchQuality": 952,
          "parameterValue": "51.50291701403,-0.07698722055",
          "place": {
           "$type": "Tfl.Api.Presentation.Entities.Place, Tfl.Api.Presentation.Entities",
           "additionalProperties": [],
           "commonName": "Southwark, Draft House Tower Bridge",
           "lat": 51.502917014030004,
           "lon": -0.07698722055,
           "placeType": "PointOfInterest",
           "url": "/Place/"
          },
          "uri": "/journey/journeyresults/heathrow%20airport/to/51.50291701403,-0.07698722055?time=0530&timeis=arriving&journeypreference=leasttime&mode=tube"
         },
         {
          "$type": "Tfl.Api.Presentation.Entities.JourneyPlanner.DisambiguationOption, Tfl.Api.Presentation.Entities",
          "matchQuality": 950,
          "parameterValue": "51.51148152225,-0.07227427369",
          "place": {
           "$type": "Tfl.Api.Presentation.Entities.Place, Tfl.Api.Presentation.Entities",
           "additionalProperties": [],
           "commonName": "Tower Hamlets [Stepney], Grange Tower Bridge Hotel",
           "lat": 51.511481522249994,
           "lon": -0.07227427369,
           "placeType": "PointOfInterest",
           "url": "/Place/"
          },
          "uri": "/journey/journeyresults/heathrow%20airport/to/51.51148152225,-0.07227427369?time=0530&timeis=arriving&journeypreference=leasttime&mode=tube"
         },
         {
          "$type": "Tfl.Api.Presentation.Entities.JourneyPlanner.DisambiguationOption, Tfl.Api.Presentation.Entities",
          "matchQuality": 949,
          "parameterValue": "51.51092054902,-0.0775437131",
          "place": {
           "$type": "Tfl.Api.Presentation.Entities.Place, Tfl.Api.Presentation.Entities",
           "additionalProperties": [],
           "commonName": "City of Westminster, Novotel Tower Bridge Hotel",
           "lat": 51.51092054902,
           "lon": -0.0775437131,
           "placeType": "PointOfInterest",
           "url": "/Place/"
          },
          "uri": "/journey/journeyresults/heathrow%20airport/to/51.51092054902,-0.0775437131?time=0530&timeis=arriving&journeypreference=leasttime&mode=tube"
         },
         {
          "$type": "Tfl.Api.Presentation.Entities.JourneyPlanner.DisambiguationOption, Tfl.Api.Presentation.Entities",
          "matchQuality": 946,
          "parameterValue": "51.50487643497,-0.0600023505",
          "place": {
           "$type": "Tfl.Api.Presentation.Entities.Place, Tfl.Api.Presentation.Entities",
           "additionalProperties": [],
           "commonName": "Tower Hamlets [Stepney], Try Tag Rugby Tower Bridge",
           "lat": 51.50487643497,
           "lon": -0.0600023505,
           "placeType": "PointOfInterest",
           "url": "/Place/"
          },
          "uri": "/journey/journeyresults/heathrow%20airport/to/51.50487643497,-0.0600023505?time=0530&timeis=arriving&journeypreference=leasttime&mode=tube"
         },
         {
          "$type": "Tfl.Api.Presentation.Entities.JourneyPlanner.DisambiguationOption, Tfl.Api.Presentation.Entities",
          "matchQuality": 944,
          "parameterValue": "51.50196942893,-0.07678216534",
          "place": {
           "$type": "Tfl.Api.Presentation.Entities.Place, Tfl.Api.Presentation.Entities",
           "additionalProperties": [],
           "commonName": "Southwark, Tower Bridge Magistrates Court",
           "lat": 51.501969428929996,
           "lon": -0.07678216534000001,
           "placeType": "PointOfInterest",
           "url": "/Place/"
          },
          "uri": "/journey/journeyresults/heathrow%20airport/to/51.50196942893,-0.07678216534?time=0530&timeis=arriving&journeypreference=leasttime&mode=tube"
         },
         {
          "$type": "Tfl.Api.Presentation.Entities.JourneyPlanner.DisambiguationOption, Tfl.Api.Presentation.Entities",
          "matchQuality": 931,
          "parameterValue": "51.50396395249,-0.08161173173",
          "place": {
           "$type": "Tfl.Api.Presentation.Entities.Place, Tfl.Api.Presentation.Entities",
           "additionalProperties": [],
           "commonName": "Southwark, Chicken Cottage Takeaway Food, Tower Bridge",
           "lat": 51.503963952490004,
           "lon": -0.08161173173,
           "placeType": "PointOfInterest",
           "url": "/Place/"
          },
          "uri": "/journey/journeyresults/heathrow%20airport/to/51.50396395249,-0.08161173173?time=0530&timeis=arriving&journeypreference=leasttime&mode=tube"
         }
        ],
        "matchStatus": "list"
       },
       "viaLocationDisambiguation": {
        "$type": "Tfl.Api.Presentation.Entities.JourneyPlanner.Disambiguation, Tfl.Api.Presentation.Entities",
        "matchStatus": "empty"
       }
      },
      "text/plain": [
       "<IPython.core.display.JSON object>"
      ]
     },
     "execution_count": 81,
     "metadata": {
      "application/json": {
       "expanded": false,
       "root": "root"
      }
     },
     "output_type": "execute_result"
    }
   ],
   "source": [
    "journey = requests.get('https://api.tfl.gov.uk/Journey/JourneyResults/Heathrow%20Airport/to/Tower%20Bridge?time=0530&timeIs=Arriving&journeyPreference=LeastTime&mode=tube')\n",
    "journey = journey.json()\n",
    "JSON(journey)"
   ]
  },
  {
   "cell_type": "code",
   "execution_count": 91,
   "metadata": {},
   "outputs": [
    {
     "data": {
      "application/json": {
       "$type": "Tfl.Api.Presentation.Entities.JourneyPlanner.ItineraryResult, Tfl.Api.Presentation.Entities",
       "journeyVector": {
        "$type": "Tfl.Api.Presentation.Entities.JourneyPlanner.JourneyVector, Tfl.Api.Presentation.Entities",
        "from": "TW61AP",
        "to": "SE14TW",
        "uri": "/journey/journeyresults/tw61ap/to/se14tw?journeypreference=leasttime&mode=tube",
        "via": ""
       },
       "journeys": [
        {
         "$type": "Tfl.Api.Presentation.Entities.JourneyPlanner.Journey, Tfl.Api.Presentation.Entities",
         "arrivalDateTime": "2021-04-30T00:47:00",
         "duration": 99,
         "legs": [
          {
           "$type": "Tfl.Api.Presentation.Entities.JourneyPlanner.Leg, Tfl.Api.Presentation.Entities",
           "arrivalPoint": {
            "$type": "Tfl.Api.Presentation.Entities.StopPoint, Tfl.Api.Presentation.Entities",
            "additionalProperties": [],
            "commonName": "Heathrow Terminals 2 & 3 Underground Station",
            "icsCode": "1000105",
            "lat": 51.471637629,
            "lon": -0.45295694328,
            "naptanId": "940GZZLUHRC",
            "placeType": "StopPoint",
            "platformName": ""
           },
           "arrivalTime": "2021-04-29T23:22:00",
           "departurePoint": {
            "$type": "Tfl.Api.Presentation.Entities.StopPoint, Tfl.Api.Presentation.Entities",
            "additionalProperties": [],
            "commonName": "TW6 1AP",
            "icsCode": "99999997",
            "lat": 51.47237578901,
            "lon": -0.4509737622,
            "placeType": "StopPoint",
            "platformName": ""
           },
           "departureTime": "2021-04-29T23:08:00",
           "disruptions": [],
           "distance": 514,
           "duration": 14,
           "hasFixedLocations": true,
           "instruction": {
            "$type": "Tfl.Api.Presentation.Entities.Instruction, Tfl.Api.Presentation.Entities",
            "detailed": "Walk to Heathrow Terminals 2 & 3 Underground Station",
            "steps": [
             {
              "$type": "Tfl.Api.Presentation.Entities.InstructionStep, Tfl.Api.Presentation.Entities",
              "cumulativeDistance": 166,
              "cumulativeTravelTime": 153,
              "description": " for 166 metres",
              "descriptionHeading": "Continue along ",
              "distance": 166,
              "latitude": 51.47215621597,
              "longitude": -0.45136995977,
              "pathAttribute": {
               "$type": "Tfl.Api.Presentation.Entities.PathAttribute, Tfl.Api.Presentation.Entities"
              },
              "skyDirection": 504,
              "skyDirectionDescription": "North",
              "streetName": "",
              "trackType": "None",
              "turnDirection": "STRAIGHT"
             },
             {
              "$type": "Tfl.Api.Presentation.Entities.InstructionStep, Tfl.Api.Presentation.Entities",
              "cumulativeDistance": 196,
              "cumulativeTravelTime": 179,
              "description": "on to Inner Ring East, continue for 30 metres",
              "descriptionHeading": "Take a slight right",
              "distance": 30,
              "latitude": 51.471216443630006,
              "longitude": -0.4517041426,
              "pathAttribute": {
               "$type": "Tfl.Api.Presentation.Entities.PathAttribute, Tfl.Api.Presentation.Entities"
              },
              "skyDirection": 312,
              "skyDirectionDescription": "North",
              "streetName": "Inner Ring East",
              "trackType": "None",
              "turnDirection": "SLIGHT_RIGHT"
             },
             {
              "$type": "Tfl.Api.Presentation.Entities.InstructionStep, Tfl.Api.Presentation.Entities",
              "cumulativeDistance": 431,
              "cumulativeTravelTime": 393,
              "description": "on to Control Tower Road, continue for 235 metres",
              "descriptionHeading": "Continue along ",
              "distance": 235,
              "latitude": 51.47140038817,
              "longitude": -0.45201467883,
              "pathAttribute": {
               "$type": "Tfl.Api.Presentation.Entities.PathAttribute, Tfl.Api.Presentation.Entities"
              },
              "skyDirection": 506,
              "skyDirectionDescription": "North",
              "streetName": "Control Tower Road",
              "trackType": "None",
              "turnDirection": "U_TURN"
             },
             {
              "$type": "Tfl.Api.Presentation.Entities.InstructionStep, Tfl.Api.Presentation.Entities",
              "cumulativeDistance": 463,
              "cumulativeTravelTime": 421,
              "description": "on to Inner Ring West, continue for 32 metres",
              "descriptionHeading": "Take a sharp left",
              "distance": 32,
              "latitude": 51.47123340134,
              "longitude": -0.45435284892,
              "pathAttribute": {
               "$type": "Tfl.Api.Presentation.Entities.PathAttribute, Tfl.Api.Presentation.Entities"
              },
              "skyDirection": 538,
              "skyDirectionDescription": "North",
              "streetName": "Inner Ring West",
              "trackType": "None",
              "turnDirection": "SHARP_LEFT"
             },
             {
              "$type": "Tfl.Api.Presentation.Entities.InstructionStep, Tfl.Api.Presentation.Entities",
              "cumulativeDistance": 497,
              "cumulativeTravelTime": 452,
              "description": "on to Camborne Road, continue for 34 metres",
              "descriptionHeading": "Turn right",
              "distance": 34,
              "latitude": 51.470945588140005,
              "longitude": -0.45434817678,
              "pathAttribute": {
               "$type": "Tfl.Api.Presentation.Entities.PathAttribute, Tfl.Api.Presentation.Entities"
              },
              "skyDirection": 263,
              "skyDirectionDescription": "North",
              "streetName": "Camborne Road",
              "trackType": "None",
              "turnDirection": "RIGHT"
             },
             {
              "$type": "Tfl.Api.Presentation.Entities.InstructionStep, Tfl.Api.Presentation.Entities",
              "cumulativeDistance": 514,
              "cumulativeTravelTime": 467,
              "description": "on to Camborne Crescent, continue for 17 metres",
              "descriptionHeading": "Take a sharp right",
              "distance": 17,
              "latitude": 51.47091608387,
              "longitude": -0.45483871127000003,
              "pathAttribute": {
               "$type": "Tfl.Api.Presentation.Entities.PathAttribute, Tfl.Api.Presentation.Entities"
              },
              "skyDirection": 400,
              "skyDirectionDescription": "North",
              "streetName": "Camborne Crescent",
              "trackType": "None",
              "turnDirection": "SHARP_RIGHT"
             }
            ],
            "summary": "Walk to Heathrow Terminals 2 & 3 Underground Station"
           },
           "isDisrupted": false,
           "mode": {
            "$type": "Tfl.Api.Presentation.Entities.Identifier, Tfl.Api.Presentation.Entities",
            "id": "walking",
            "name": "walking",
            "routeType": "Unknown",
            "status": "Unknown",
            "type": "Mode"
           },
           "obstacles": [
            {
             "$type": "Tfl.Api.Presentation.Entities.JourneyPlanner.Obstacle, Tfl.Api.Presentation.Entities",
             "incline": "DOWN",
             "position": "IDEST",
             "stopId": 1000105,
             "type": "RAMP"
            },
            {
             "$type": "Tfl.Api.Presentation.Entities.JourneyPlanner.Obstacle, Tfl.Api.Presentation.Entities",
             "incline": "DOWN",
             "position": "IDEST",
             "stopId": 1000105,
             "type": "ESCALATOR"
            }
           ],
           "path": {
            "$type": "Tfl.Api.Presentation.Entities.JourneyPlanner.Path, Tfl.Api.Presentation.Entities",
            "elevation": [],
            "lineString": "[[51.47237578901, -0.4509737622],[51.47215621597, -0.45136995977],[51.47162672488, -0.45076875706],[51.4714825331, -0.45074484442],[51.47121897008, -0.45121451622],[51.47121644363, -0.4517041426],[51.47140038817, -0.45201467883],[51.47129100956, -0.45190319442],[51.47104756751, -0.45185384127],[51.47086299442, -0.45217684784],[51.47097389233, -0.45240346593],[51.47102977877, -0.45391338582],[51.47123340134, -0.45435284892],[51.47094558814, -0.45434817678],[51.47091608387, -0.45483871127],[51.47103084483, -0.45467645423],[51.47107692392, -0.45476128667],[51.4714450785, -0.45267548951],[51.471637629, -0.45295694328],[51.47133397351, -0.45296249441]]",
            "stopPoints": []
           },
           "plannedWorks": [],
           "routeOptions": [
            {
             "$type": "Tfl.Api.Presentation.Entities.JourneyPlanner.RouteOption, Tfl.Api.Presentation.Entities",
             "directions": [
              ""
             ],
             "name": ""
            }
           ]
          },
          {
           "$type": "Tfl.Api.Presentation.Entities.JourneyPlanner.Leg, Tfl.Api.Presentation.Entities",
           "arrivalPoint": {
            "$type": "Tfl.Api.Presentation.Entities.StopPoint, Tfl.Api.Presentation.Entities",
            "additionalProperties": [],
            "commonName": "Green Park Underground Station",
            "icsCode": "1000093",
            "lat": 51.507120049280005,
            "lon": -0.14191535794,
            "naptanId": "940GZZLUGPK",
            "placeType": "StopPoint",
            "platformName": ""
           },
           "arrivalTime": "2021-04-30T00:10:00",
           "departurePoint": {
            "$type": "Tfl.Api.Presentation.Entities.StopPoint, Tfl.Api.Presentation.Entities",
            "additionalProperties": [],
            "commonName": "Heathrow Terminals 2 & 3 Underground Station",
            "icsCode": "1000105",
            "lat": 51.471637629,
            "lon": -0.45295694328,
            "naptanId": "940GZZLUHRC",
            "placeType": "StopPoint",
            "platformName": ""
           },
           "departureTime": "2021-04-29T23:22:00",
           "disruptions": [
            {
             "$type": "Tfl.Api.Presentation.Entities.Disruption, Tfl.Api.Presentation.Entities",
             "additionalInfo": "To check for the latest information before travelling, download the TfL Go App, or go to tfl.gov.uk/plan-a-journey.<br /><br />We are working hard to keep service changes to a minimum and are very sorry for the disruption this may cause to your journeys.",
             "category": "Information",
             "categoryDescription": "Information",
             "created": "2021-03-31T14:41:00",
             "description": "METROPOLITAN LINE: Until further notice, due to staff shortages in our control room there could be short notice alterations to Metropolitan line and parts of the Piccadilly line and Chiltern Railways services. This will affect weekday and weekend service and at times will mean there is a reduced service, or no service on this line.",
             "lastUpdate": "2021-03-31T14:44:00",
             "summary": "",
             "type": "lineInfo"
            },
            {
             "$type": "Tfl.Api.Presentation.Entities.Disruption, Tfl.Api.Presentation.Entities",
             "additionalInfo": "",
             "category": "Information",
             "categoryDescription": "Information",
             "created": "2021-03-18T08:11:00",
             "description": "Travelling to NHS vaccination centre at the Compass Centre? From Hatton Cross station, please use bus route 423 from bus stop E, or from Heathrow Terminals 23 Station, please use bus route U3 from stop 18 in the Central Bus Station. No one should go to a vaccination centre unless they have been in contact with the NHS and have an appointment booked. They will not be vaccinated without an appointment and they cannot book an appointment by going to a centre.",
             "lastUpdate": "2021-03-18T08:15:00",
             "summary": "",
             "type": "stopInfo"
            }
           ],
           "duration": 48,
           "hasFixedLocations": true,
           "instruction": {
            "$type": "Tfl.Api.Presentation.Entities.Instruction, Tfl.Api.Presentation.Entities",
            "detailed": "Piccadilly line towards Arnos Grove, or Cockfosters",
            "steps": [],
            "summary": "Piccadilly line to Green Park"
           },
           "isDisrupted": true,
           "mode": {
            "$type": "Tfl.Api.Presentation.Entities.Identifier, Tfl.Api.Presentation.Entities",
            "id": "tube",
            "name": "tube",
            "routeType": "Unknown",
            "status": "Unknown",
            "type": "Mode"
           },
           "obstacles": [
            {
             "$type": "Tfl.Api.Presentation.Entities.JourneyPlanner.Obstacle, Tfl.Api.Presentation.Entities",
             "incline": "UP",
             "position": "AFTER",
             "stopId": 1000093,
             "type": "STAIRS"
            },
            {
             "$type": "Tfl.Api.Presentation.Entities.JourneyPlanner.Obstacle, Tfl.Api.Presentation.Entities",
             "incline": "DOWN",
             "position": "AFTER",
             "stopId": 1000093,
             "type": "STAIRS"
            },
            {
             "$type": "Tfl.Api.Presentation.Entities.JourneyPlanner.Obstacle, Tfl.Api.Presentation.Entities",
             "incline": "LEVEL",
             "position": "AFTER",
             "stopId": 1000093,
             "type": "WALKWAY"
            }
           ],
           "path": {
            "$type": "Tfl.Api.Presentation.Entities.JourneyPlanner.Path, Tfl.Api.Presentation.Entities",
            "elevation": [],
            "lineString": "[[51.47133414008, -0.45297143671],[51.47129625217, -0.45093833188],[51.47119705219, -0.45023617707],[51.46562304245, -0.42736179058],[51.46551394189, -0.42660252651],[51.46550583066, -0.42599815248],[51.46559697209, -0.42541915544],[51.46638638497, -0.42360158321],[51.46638638497, -0.42360158321],[51.46680937918, -0.42262761335],[51.46718153783, -0.42154940001],[51.46922027601, -0.41469773922],[51.46967581535, -0.41314138278],[51.47188053313, -0.40662874577],[51.47266595611, -0.40421118384],[51.4731883564, -0.40229229392],[51.47494220963, -0.39704719586],[51.47507814629, -0.39646644862],[51.47513338514, -0.39590292812],[51.47512038717, -0.39495301203],[51.47498856672, -0.39386327385],[51.47478680503, -0.39291999464],[51.47423550195, -0.39075067401],[51.47358430283, -0.38851292937],[51.47345075673, -0.38795607167],[51.47337113566, -0.38739731574],[51.47335965335, -0.38656257661],[51.4733866923, -0.3859136657],[51.47341926289, -0.385734712],[51.47341926289, -0.385734712],[51.47387990381, -0.38320360757],[51.47400981566, -0.38219106752],[51.47403106901, -0.38112477083],[51.47390051231, -0.38013584652],[51.47368006827, -0.37915011351],[51.47336774641, -0.3780236576],[51.47223737126, -0.37496802597],[51.47157888271, -0.37287484377],[51.47133340786, -0.37138614109],[51.47123772117, -0.37032406734],[51.47125106032, -0.36869657304],[51.47133422543, -0.36620170922],[51.47133422543, -0.36620170922],[51.4713462021, -0.36584229009],[51.471437203, -0.36462956768],[51.47170628789, -0.36264734459],[51.47193784297, -0.36119919215],[51.47212169283, -0.36019909501],[51.47247924827, -0.35876079367],[51.4728923255, -0.35743566677],[51.47309198812, -0.35692453078],[51.47355472319, -0.35612620222],[51.47355472319, -0.35612620222],[51.47425972115, -0.35490986263],[51.47481464229, -0.35408352575],[51.47528513595, -0.35364900059],[51.47574088603, -0.35344539471],[51.47624258518, -0.35331212994],[51.47762670379, -0.35326228544],[51.47850114607, -0.35341800242],[51.47920219297, -0.35339275658],[51.4798650653, -0.35321047201],[51.48028385213, -0.35293616543],[51.48149076439, -0.35181184571],[51.48149076439, -0.35181184571],[51.48165077802, -0.35166277698],[51.48209207177, -0.35107079292],[51.48236279739, -0.35049935335],[51.48257878341, -0.34987227464],[51.48300527151, -0.34822943966],[51.48345936458, -0.34599508165],[51.48368842655, -0.34502183634],[51.48392951692, -0.34426418194],[51.48425966623, -0.34344568222],[51.48476834345, -0.34253428178],[51.49278966746, -0.32986928129],[51.49298247444, -0.32951650763],[51.49354004044, -0.32825725451],[51.4938018695, -0.3277002646],[51.49405676184, -0.32728757871],[51.49505998532, -0.32575263528],[51.49573468815, -0.32481625777],[51.49573468815, -0.32481625777],[51.49669122554, -0.3234886738],[51.49709621533, -0.32288314316],[51.49733208505, -0.32239906485],[51.49831750614, -0.31962555272],[51.49858208852, -0.31863613968],[51.49971676663, -0.31353113831],[51.49971676663, -0.31353113831],[51.50036424411, -0.31061752396],[51.50108944725, -0.30739114955],[51.50108944725, -0.30739114955],[51.50118391718, -0.30697082307],[51.50132127291, -0.30651908558],[51.50231360067, -0.30424901532],[51.502829938, -0.30264491839],[51.50303125403, -0.30164325011],[51.50329277414, -0.29983245096],[51.50433859847, -0.29320863743],[51.50460043866, -0.29204613102],[51.50562103371, -0.28865058866],[51.50578964306, -0.28788057234],[51.50587715008, -0.28709918206],[51.50585659227, -0.28630743346],[51.50570999464, -0.28550600685],[51.50538968178, -0.28450937827],[51.50364425624, -0.28137618171],[51.50277167788, -0.27986003801],[51.50277167788, -0.27986003801],[51.50276765264, -0.27985304418],[51.50209223387, -0.27917247055],[51.50052843591, -0.2780067116],[51.49987182754, -0.27738311875],[51.49874479649, -0.27595607466],[51.49570540839, -0.27107177814],[51.4952880256, -0.27020879586],[51.49492158603, -0.26914221544],[51.49461741054, -0.26803007429],[51.49447542257, -0.26694060845],[51.49450009304, -0.2661761603],[51.49460760363, -0.26493317096],[51.49470011041, -0.26389242917],[51.49510405624, -0.26020352799],[51.49529069168, -0.25642200817],[51.49529539136, -0.25552864659],[51.49526890491, -0.25462221712],[51.49526890491, -0.25462221712],[51.49490995737, -0.24236181984],[51.49482848299, -0.24112603403],[51.49463612357, -0.23969283971],[51.49416765347, -0.23664244205],[51.49413246427, -0.23609637831],[51.4938625608, -0.22952336733],[51.49389162508, -0.22847062012],[51.49387241422, -0.22779429393],[51.4937344074, -0.22699292561],[51.49354399647, -0.22629443585],[51.49330755644, -0.22552571115],[51.49310068802, -0.22492871185],[51.4928333043, -0.22449252917],[51.4920959202, -0.2235783194],[51.4920959202, -0.2235783194],[51.4910645424, -0.22229967955],[51.49062992288, -0.22150991913],[51.49034895321, -0.22077181035],[51.49018503026, -0.22004355659],[51.49011471448, -0.21896595054],[51.4901460911, -0.21807164222],[51.49041793613, -0.21643331258],[51.49047428308, -0.21540837889],[51.4904158226, -0.2139846506],[51.4904158226, -0.2139846506],[51.49040282633, -0.21366820117],[51.49016057498, -0.21134412118],[51.49011999668, -0.21045262339],[51.49019621778, -0.20896596118],[51.4903360229, -0.20811060601],[51.49088403769, -0.20513612287],[51.49092368436, -0.20478884879],[51.49094601713, -0.20448546898],[51.49083894854, -0.20336609718],[51.49056458459, -0.20189319214],[51.49044024696, -0.20140832334],[51.49016268591, -0.20090067952],[51.48978471879, -0.20029616374],[51.48962354255, -0.19975514055],[51.48955945267, -0.19909506012],[51.48954618492, -0.19823131581],[51.48964274665, -0.19749288036],[51.48993635411, -0.19670345334],[51.49050390242, -0.19560070223],[51.49171829011, -0.19376940871],[51.49171829011, -0.19376940871],[51.49244613635, -0.1926717502],[51.49403160383, -0.19052019112],[51.49444266042, -0.18976920715],[51.49471646166, -0.18886518215],[51.49482261759, -0.18816948014],[51.49490709594, -0.18665348339],[51.49482971321, -0.18572015513],[51.49425552631, -0.18320517722],[51.49425552631, -0.18320517722],[51.49387466921, -0.18153716156],[51.49378691891, -0.18051784029],[51.49378142925, -0.17900544763],[51.49407418278, -0.17527705428],[51.49401755653, -0.17336332487],[51.49401755653, -0.17336332487],[51.49394129639, -0.17078772496],[51.49399432205, -0.17015174248],[51.49410486084, -0.16974394965],[51.49426976895, -0.16936278863],[51.49441108677, -0.16919866068],[51.49473169233, -0.16899853537],[51.49510037907, -0.1689981679],[51.49536189764, -0.16904531378],[51.49584157367, -0.16924218993],[51.49640684781, -0.16916191401],[51.49657557542, -0.16902549263],[51.49682158759, -0.16865546415],[51.49754725513, -0.16732974508],[51.49787189295, -0.16681247356],[51.49821225073, -0.16615049125],[51.49849935922, -0.16553385907],[51.49976729498, -0.16323533984],[51.50015414521, -0.16267228786],[51.50074611019, -0.16200011802],[51.50112690177, -0.16162459327],[51.50140565956, -0.16125444556],[51.50140565956, -0.16125444556],[51.50154093013, -0.16107482473],[51.50161932788, -0.16091317727],[51.50179025681, -0.16034436908],[51.50203528527, -0.15934031773],[51.50217721135, -0.15864299072],[51.50225554705, -0.15790499789],[51.50234454305, -0.15612915575],[51.50243049075, -0.15530439673],[51.50268829722, -0.15367476289],[51.50268829722, -0.15367476289],[51.50318288971, -0.15054791446],[51.5033436452, -0.14990741464],[51.50355831772, -0.14926472576],[51.50382713453, -0.14863424531],[51.50439308278, -0.14745856884],[51.50584117644, -0.14463317644],[51.50620563109, -0.14379701293],[51.50714109072, -0.14194261337]]",
            "stopPoints": [
             {
              "$type": "Tfl.Api.Presentation.Entities.Identifier, Tfl.Api.Presentation.Entities",
              "id": "940GZZLUHNX",
              "name": "Hatton Cross Underground Station",
              "routeType": "Unknown",
              "status": "Unknown",
              "type": "StopPoint",
              "uri": "/StopPoint/940GZZLUHNX"
             },
             {
              "$type": "Tfl.Api.Presentation.Entities.Identifier, Tfl.Api.Presentation.Entities",
              "id": "940GZZLUHWT",
              "name": "Hounslow West Underground Station",
              "routeType": "Unknown",
              "status": "Unknown",
              "type": "StopPoint",
              "uri": "/StopPoint/940GZZLUHWT"
             },
             {
              "$type": "Tfl.Api.Presentation.Entities.Identifier, Tfl.Api.Presentation.Entities",
              "id": "940GZZLUHWC",
              "name": "Hounslow Central Underground Station",
              "routeType": "Unknown",
              "status": "Unknown",
              "type": "StopPoint",
              "uri": "/StopPoint/940GZZLUHWC"
             },
             {
              "$type": "Tfl.Api.Presentation.Entities.Identifier, Tfl.Api.Presentation.Entities",
              "id": "940GZZLUHWE",
              "name": "Hounslow East Underground Station",
              "routeType": "Unknown",
              "status": "Unknown",
              "type": "StopPoint",
              "uri": "/StopPoint/940GZZLUHWE"
             },
             {
              "$type": "Tfl.Api.Presentation.Entities.Identifier, Tfl.Api.Presentation.Entities",
              "id": "940GZZLUOSY",
              "name": "Osterley Underground Station",
              "routeType": "Unknown",
              "status": "Unknown",
              "type": "StopPoint",
              "uri": "/StopPoint/940GZZLUOSY"
             },
             {
              "$type": "Tfl.Api.Presentation.Entities.Identifier, Tfl.Api.Presentation.Entities",
              "id": "940GZZLUBOS",
              "name": "Boston Manor Underground Station",
              "routeType": "Unknown",
              "status": "Unknown",
              "type": "StopPoint",
              "uri": "/StopPoint/940GZZLUBOS"
             },
             {
              "$type": "Tfl.Api.Presentation.Entities.Identifier, Tfl.Api.Presentation.Entities",
              "id": "940GZZLUNFD",
              "name": "Northfields Underground Station",
              "routeType": "Unknown",
              "status": "Unknown",
              "type": "StopPoint",
              "uri": "/StopPoint/940GZZLUNFD"
             },
             {
              "$type": "Tfl.Api.Presentation.Entities.Identifier, Tfl.Api.Presentation.Entities",
              "id": "940GZZLUSEA",
              "name": "South Ealing Underground Station",
              "routeType": "Unknown",
              "status": "Unknown",
              "type": "StopPoint",
              "uri": "/StopPoint/940GZZLUSEA"
             },
             {
              "$type": "Tfl.Api.Presentation.Entities.Identifier, Tfl.Api.Presentation.Entities",
              "id": "940GZZLUACT",
              "name": "Acton Town Underground Station",
              "routeType": "Unknown",
              "status": "Unknown",
              "type": "StopPoint",
              "uri": "/StopPoint/940GZZLUACT"
             },
             {
              "$type": "Tfl.Api.Presentation.Entities.Identifier, Tfl.Api.Presentation.Entities",
              "id": "940GZZLUTNG",
              "name": "Turnham Green Underground Station",
              "routeType": "Unknown",
              "status": "Unknown",
              "type": "StopPoint",
              "uri": "/StopPoint/940GZZLUTNG"
             },
             {
              "$type": "Tfl.Api.Presentation.Entities.Identifier, Tfl.Api.Presentation.Entities",
              "id": "940GZZLUHSD",
              "name": "Hammersmith (Dist&Picc Line) Underground Station",
              "routeType": "Unknown",
              "status": "Unknown",
              "type": "StopPoint",
              "uri": "/StopPoint/940GZZLUHSD"
             },
             {
              "$type": "Tfl.Api.Presentation.Entities.Identifier, Tfl.Api.Presentation.Entities",
              "id": "940GZZLUBSC",
              "name": "Barons Court Underground Station",
              "routeType": "Unknown",
              "status": "Unknown",
              "type": "StopPoint",
              "uri": "/StopPoint/940GZZLUBSC"
             },
             {
              "$type": "Tfl.Api.Presentation.Entities.Identifier, Tfl.Api.Presentation.Entities",
              "id": "940GZZLUECT",
              "name": "Earl's Court Underground Station",
              "routeType": "Unknown",
              "status": "Unknown",
              "type": "StopPoint",
              "uri": "/StopPoint/940GZZLUECT"
             },
             {
              "$type": "Tfl.Api.Presentation.Entities.Identifier, Tfl.Api.Presentation.Entities",
              "id": "940GZZLUGTR",
              "name": "Gloucester Road Underground Station",
              "routeType": "Unknown",
              "status": "Unknown",
              "type": "StopPoint",
              "uri": "/StopPoint/940GZZLUGTR"
             },
             {
              "$type": "Tfl.Api.Presentation.Entities.Identifier, Tfl.Api.Presentation.Entities",
              "id": "940GZZLUKNB",
              "name": "Knightsbridge Underground Station",
              "routeType": "Unknown",
              "status": "Unknown",
              "type": "StopPoint",
              "uri": "/StopPoint/940GZZLUKNB"
             },
             {
              "$type": "Tfl.Api.Presentation.Entities.Identifier, Tfl.Api.Presentation.Entities",
              "id": "940GZZLUHPC",
              "name": "Hyde Park Corner Underground Station",
              "routeType": "Unknown",
              "status": "Unknown",
              "type": "StopPoint",
              "uri": "/StopPoint/940GZZLUHPC"
             },
             {
              "$type": "Tfl.Api.Presentation.Entities.Identifier, Tfl.Api.Presentation.Entities",
              "id": "940GZZLUGPK",
              "name": "Green Park Underground Station",
              "routeType": "Unknown",
              "status": "Unknown",
              "type": "StopPoint",
              "uri": "/StopPoint/940GZZLUGPK"
             }
            ]
           },
           "plannedWorks": [],
           "routeOptions": [
            {
             "$type": "Tfl.Api.Presentation.Entities.JourneyPlanner.RouteOption, Tfl.Api.Presentation.Entities",
             "directions": [
              "Arnos Grove Underground Station",
              "Cockfosters Underground Station"
             ],
             "lineIdentifier": {
              "$type": "Tfl.Api.Presentation.Entities.Identifier, Tfl.Api.Presentation.Entities",
              "crowding": {
               "$type": "Tfl.Api.Presentation.Entities.Crowding, Tfl.Api.Presentation.Entities"
              },
              "id": "piccadilly",
              "name": "Piccadilly",
              "routeType": "Unknown",
              "status": "Unknown",
              "type": "Line",
              "uri": "/Line/piccadilly"
             },
             "name": "Piccadilly"
            }
           ]
          },
          {
           "$type": "Tfl.Api.Presentation.Entities.JourneyPlanner.Leg, Tfl.Api.Presentation.Entities",
           "arrivalPoint": {
            "$type": "Tfl.Api.Presentation.Entities.StopPoint, Tfl.Api.Presentation.Entities",
            "additionalProperties": [],
            "commonName": "London Bridge Underground Station",
            "icsCode": "1000139",
            "lat": 51.50583751486,
            "lon": -0.08785894256,
            "naptanId": "940GZZLULNB",
            "placeType": "StopPoint",
            "platformName": ""
           },
           "arrivalTime": "2021-04-30T00:24:00",
           "departurePoint": {
            "$type": "Tfl.Api.Presentation.Entities.StopPoint, Tfl.Api.Presentation.Entities",
            "additionalProperties": [],
            "commonName": "Green Park Underground Station",
            "icsCode": "1000093",
            "lat": 51.506161524460005,
            "lon": -0.14157969695,
            "naptanId": "940GZZLUGPK",
            "placeType": "StopPoint",
            "platformName": ""
           },
           "departureTime": "2021-04-30T00:18:00",
           "disruptions": [
            {
             "$type": "Tfl.Api.Presentation.Entities.Disruption, Tfl.Api.Presentation.Entities",
             "additionalInfo": "",
             "category": "PlannedWork",
             "categoryDescription": "PlannedWork",
             "created": "2018-01-22T11:40:00",
             "description": "LONDON BRIDGE STATION: Please note that step free interchange between the Jubilee and Northern lines is partly at street level, in both directions. Lifts are available between Northern line and Borough High Street entrance then via Borough High Street, St Thomas Street and Joiner Street to the main Underground ticket hall from where lifts are available to/from the Jubilee line.",
             "lastUpdate": "2018-03-05T15:29:00",
             "summary": "",
             "type": "stopInfo"
            }
           ],
           "duration": 6,
           "hasFixedLocations": true,
           "instruction": {
            "$type": "Tfl.Api.Presentation.Entities.Instruction, Tfl.Api.Presentation.Entities",
            "detailed": "Jubilee line towards Stratford",
            "steps": [],
            "summary": "Jubilee line to London Bridge"
           },
           "isDisrupted": true,
           "mode": {
            "$type": "Tfl.Api.Presentation.Entities.Identifier, Tfl.Api.Presentation.Entities",
            "id": "tube",
            "name": "tube",
            "routeType": "Unknown",
            "status": "Unknown",
            "type": "Mode"
           },
           "obstacles": [],
           "path": {
            "$type": "Tfl.Api.Presentation.Entities.JourneyPlanner.Path, Tfl.Api.Presentation.Entities",
            "elevation": [],
            "lineString": "[[51.50616302255, -0.14157907788],[51.50591197371, -0.14001919115],[51.50578760902, -0.13954873597],[51.50560033551, -0.13908084636],[51.5020131521, -0.1312158545],[51.50169268756, -0.13029241786],[51.50143374446, -0.12928002483],[51.50123402222, -0.12803468442],[51.50108659683, -0.12668635271],[51.50099956538, -0.12485966609],[51.50099956538, -0.12485966609],[51.5009783417, -0.12441429778],[51.50106337511, -0.12298439272],[51.50170090818, -0.11955780858],[51.50333888904, -0.11302583748],[51.50333888904, -0.11302583748],[51.50398263824, -0.11045815313],[51.50426792153, -0.10863078519],[51.50435392304, -0.10727275095],[51.50429122782, -0.10537666705],[51.50429122782, -0.10537666705],[51.50407248611, -0.0987685702],[51.50422182972, -0.09577963576],[51.50438856048, -0.09441820849],[51.50474305469, -0.09299129429],[51.50495952019, -0.09247792387],[51.50527608892, -0.09148484967],[51.50575025934, -0.08967822594],[51.50586159146, -0.08823258945],[51.50583318936, -0.08785978875]]",
            "stopPoints": [
             {
              "$type": "Tfl.Api.Presentation.Entities.Identifier, Tfl.Api.Presentation.Entities",
              "id": "940GZZLUWSM",
              "name": "Westminster Underground Station",
              "routeType": "Unknown",
              "status": "Unknown",
              "type": "StopPoint",
              "uri": "/StopPoint/940GZZLUWSM"
             },
             {
              "$type": "Tfl.Api.Presentation.Entities.Identifier, Tfl.Api.Presentation.Entities",
              "id": "940GZZLUWLO",
              "name": "Waterloo Underground Station",
              "routeType": "Unknown",
              "status": "Unknown",
              "type": "StopPoint",
              "uri": "/StopPoint/940GZZLUWLO"
             },
             {
              "$type": "Tfl.Api.Presentation.Entities.Identifier, Tfl.Api.Presentation.Entities",
              "id": "940GZZLUSWK",
              "name": "Southwark Underground Station",
              "routeType": "Unknown",
              "status": "Unknown",
              "type": "StopPoint",
              "uri": "/StopPoint/940GZZLUSWK"
             },
             {
              "$type": "Tfl.Api.Presentation.Entities.Identifier, Tfl.Api.Presentation.Entities",
              "id": "940GZZLULNB",
              "name": "London Bridge Underground Station",
              "routeType": "Unknown",
              "status": "Unknown",
              "type": "StopPoint",
              "uri": "/StopPoint/940GZZLULNB"
             }
            ]
           },
           "plannedWorks": [],
           "routeOptions": [
            {
             "$type": "Tfl.Api.Presentation.Entities.JourneyPlanner.RouteOption, Tfl.Api.Presentation.Entities",
             "directions": [
              "Stratford Underground Station"
             ],
             "lineIdentifier": {
              "$type": "Tfl.Api.Presentation.Entities.Identifier, Tfl.Api.Presentation.Entities",
              "crowding": {
               "$type": "Tfl.Api.Presentation.Entities.Crowding, Tfl.Api.Presentation.Entities"
              },
              "id": "jubilee",
              "name": "Jubilee",
              "routeType": "Unknown",
              "status": "Unknown",
              "type": "Line",
              "uri": "/Line/jubilee"
             },
             "name": "Jubilee"
            }
           ]
          },
          {
           "$type": "Tfl.Api.Presentation.Entities.JourneyPlanner.Leg, Tfl.Api.Presentation.Entities",
           "arrivalPoint": {
            "$type": "Tfl.Api.Presentation.Entities.Place, Tfl.Api.Presentation.Entities",
            "commonName": "SE1 4TW",
            "lat": 51.496527864600004,
            "lon": -0.08275956985,
            "placeType": "StopPoint"
           },
           "arrivalTime": "2021-04-30T00:47:00",
           "departurePoint": {
            "$type": "Tfl.Api.Presentation.Entities.StopPoint, Tfl.Api.Presentation.Entities",
            "additionalProperties": [],
            "commonName": "London Bridge Underground Station",
            "icsCode": "1000139",
            "lat": 51.50583751486,
            "lon": -0.08785894256,
            "naptanId": "940GZZLULNB",
            "placeType": "StopPoint",
            "platformName": ""
           },
           "departureTime": "2021-04-30T00:24:00",
           "disruptions": [],
           "distance": 1270,
           "duration": 23,
           "hasFixedLocations": false,
           "instruction": {
            "$type": "Tfl.Api.Presentation.Entities.Instruction, Tfl.Api.Presentation.Entities",
            "detailed": "Walk to SE1 4TW",
            "steps": [
             {
              "$type": "Tfl.Api.Presentation.Entities.InstructionStep, Tfl.Api.Presentation.Entities",
              "cumulativeDistance": 14,
              "cumulativeTravelTime": 13,
              "description": " for 14 metres",
              "descriptionHeading": "Continue along ",
              "distance": 14,
              "latitude": 51.50573620429,
              "longitude": -0.08660953442,
              "pathAttribute": {
               "$type": "Tfl.Api.Presentation.Entities.PathAttribute, Tfl.Api.Presentation.Entities"
              },
              "skyDirection": 403,
              "skyDirectionDescription": "North",
              "streetName": "",
              "trackType": "None",
              "turnDirection": "STRAIGHT"
             },
             {
              "$type": "Tfl.Api.Presentation.Entities.InstructionStep, Tfl.Api.Presentation.Entities",
              "cumulativeDistance": 43,
              "cumulativeTravelTime": 39,
              "description": "on to Duke Street Hill, continue for 29 metres",
              "descriptionHeading": "Take a slight right",
              "distance": 29,
              "latitude": 51.50582371923,
              "longitude": -0.08646177031,
              "pathAttribute": {
               "$type": "Tfl.Api.Presentation.Entities.PathAttribute, Tfl.Api.Presentation.Entities"
              },
              "skyDirection": 464,
              "skyDirectionDescription": "North",
              "streetName": "Duke Street Hill",
              "trackType": "None",
              "turnDirection": "SLIGHT_RIGHT"
             },
             {
              "$type": "Tfl.Api.Presentation.Entities.InstructionStep, Tfl.Api.Presentation.Entities",
              "cumulativeDistance": 252,
              "cumulativeTravelTime": 227,
              "description": "on to Tooley Street, continue for 209 metres",
              "descriptionHeading": "Continue along ",
              "distance": 209,
              "latitude": 51.50573626196,
              "longitude": -0.08606196091,
              "pathAttribute": {
               "$type": "Tfl.Api.Presentation.Entities.PathAttribute, Tfl.Api.Presentation.Entities"
              },
              "skyDirection": 467,
              "skyDirectionDescription": "North",
              "streetName": "Tooley Street",
              "trackType": "None",
              "turnDirection": "STRAIGHT"
             },
             {
              "$type": "Tfl.Api.Presentation.Entities.InstructionStep, Tfl.Api.Presentation.Entities",
              "cumulativeDistance": 1168,
              "cumulativeTravelTime": 1052,
              "description": "on to Bermondsey Street, continue for 916 metres",
              "descriptionHeading": "Take a slight right",
              "distance": 916,
              "latitude": 51.504741843000005,
              "longitude": -0.08353874691,
              "pathAttribute": {
               "$type": "Tfl.Api.Presentation.Entities.PathAttribute, Tfl.Api.Presentation.Entities"
              },
              "skyDirection": 509,
              "skyDirectionDescription": "North",
              "streetName": "Bermondsey Street",
              "trackType": "None",
              "turnDirection": "SLIGHT_RIGHT"
             },
             {
              "$type": "Tfl.Api.Presentation.Entities.InstructionStep, Tfl.Api.Presentation.Entities",
              "cumulativeDistance": 1197,
              "cumulativeTravelTime": 1077,
              "description": "on to Decima Street, continue for 29 metres",
              "descriptionHeading": "Turn right",
              "distance": 29,
              "latitude": 51.49690698351,
              "longitude": -0.08229704433999999,
              "pathAttribute": {
               "$type": "Tfl.Api.Presentation.Entities.PathAttribute, Tfl.Api.Presentation.Entities"
              },
              "skyDirection": 304,
              "skyDirectionDescription": "North",
              "streetName": "Decima Street",
              "trackType": "None",
              "turnDirection": "RIGHT"
             },
             {
              "$type": "Tfl.Api.Presentation.Entities.InstructionStep, Tfl.Api.Presentation.Entities",
              "cumulativeDistance": 1216,
              "cumulativeTravelTime": 1095,
              "description": "on to Alice Street, continue for 19 metres",
              "descriptionHeading": "Turn left",
              "distance": 19,
              "latitude": 51.49705641632001,
              "longitude": -0.08263654094999999,
              "pathAttribute": {
               "$type": "Tfl.Api.Presentation.Entities.PathAttribute, Tfl.Api.Presentation.Entities"
              },
              "skyDirection": 216,
              "skyDirectionDescription": "North",
              "streetName": "Alice Street",
              "trackType": "None",
              "turnDirection": "LEFT"
             },
             {
              "$type": "Tfl.Api.Presentation.Entities.InstructionStep, Tfl.Api.Presentation.Entities",
              "cumulativeDistance": 1270,
              "cumulativeTravelTime": 1140,
              "description": "for 54 metres",
              "descriptionHeading": "Continue along ",
              "distance": 54,
              "latitude": 51.49692420908001,
              "longitude": -0.08280056603000001,
              "pathAttribute": {
               "$type": "Tfl.Api.Presentation.Entities.PathAttribute, Tfl.Api.Presentation.Entities"
              },
              "skyDirection": 210,
              "skyDirectionDescription": "North",
              "streetName": "",
              "trackType": "None",
              "turnDirection": "STRAIGHT"
             }
            ],
            "summary": "Walk to SE1 4TW"
           },
           "isDisrupted": false,
           "mode": {
            "$type": "Tfl.Api.Presentation.Entities.Identifier, Tfl.Api.Presentation.Entities",
            "id": "walking",
            "name": "walking",
            "routeType": "Unknown",
            "status": "Unknown",
            "type": "Mode"
           },
           "obstacles": [
            {
             "$type": "Tfl.Api.Presentation.Entities.JourneyPlanner.Obstacle, Tfl.Api.Presentation.Entities",
             "incline": "UP",
             "position": "BEFORE",
             "stopId": 1000139,
             "type": "ESCALATOR"
            },
            {
             "$type": "Tfl.Api.Presentation.Entities.JourneyPlanner.Obstacle, Tfl.Api.Presentation.Entities",
             "incline": "LEVEL",
             "position": "BEFORE",
             "stopId": 1000139,
             "type": "WALKWAY"
            }
           ],
           "path": {
            "$type": "Tfl.Api.Presentation.Entities.JourneyPlanner.Path, Tfl.Api.Presentation.Entities",
            "elevation": [],
            "lineString": "[[51.50583751486, -0.08785894256],[51.50586018302, -0.08814618959],[51.50572698292, -0.08659551096],[51.50573620429, -0.08660953442],[51.50582371923, -0.08646177031],[51.50578401402, -0.08623287728],[51.5057556448, -0.08614760733],[51.50573626196, -0.08606196091],[51.50564833323, -0.0856333533],[51.50550742478, -0.08526460714],[51.50533080462, -0.08491177021],[51.50528422644, -0.08481285579],[51.50510666415, -0.08440242352],[51.50506907198, -0.0843031332],[51.50492910045, -0.08399199446],[51.504741843, -0.08353874691],[51.50448622269, -0.08330451269],[51.50373587802, -0.0830622247],[51.50271264457, -0.08262967418],[51.50254072548, -0.08256484657],[51.50245914142, -0.0825250449],[51.50145411434, -0.08210616175],[51.5013727656, -0.08208076031],[51.5010830808, -0.08196324778],[51.50101071846, -0.08193746947],[51.50078440947, -0.08184611402],[51.50056755785, -0.08178317861],[51.50041361114, -0.08171760232],[51.5001962884, -0.08162587172],[51.49996099275, -0.08153489672],[51.49993379796, -0.0815216308],[51.49984299159, -0.08146781252],[51.49976164271, -0.08144241305],[51.49945351332, -0.08129686748],[51.49919125816, -0.08120702787],[51.49889235049, -0.08107550587],[51.49873887459, -0.08103872958],[51.49825596375, -0.08120308739],[51.49806014701, -0.0813265703],[51.49792652845, -0.0814042183],[51.49765218888, -0.08167506891],[51.49730689913, -0.08200652327],[51.49690698351, -0.08229704434],[51.49705641632, -0.08263654095],[51.49692420908, -0.08280056603],[51.49681801947, -0.08290587067],[51.49672415379, -0.08266489146],[51.49660187438, -0.08288612622],[51.4965278646, -0.08275956985]]",
            "stopPoints": []
           },
           "plannedWorks": [],
           "routeOptions": [
            {
             "$type": "Tfl.Api.Presentation.Entities.JourneyPlanner.RouteOption, Tfl.Api.Presentation.Entities",
             "directions": [
              ""
             ],
             "name": ""
            }
           ]
          }
         ],
         "startDateTime": "2021-04-29T23:08:00"
        },
        {
         "$type": "Tfl.Api.Presentation.Entities.JourneyPlanner.Journey, Tfl.Api.Presentation.Entities",
         "arrivalDateTime": "2021-04-30T00:52:00",
         "duration": 99,
         "legs": [
          {
           "$type": "Tfl.Api.Presentation.Entities.JourneyPlanner.Leg, Tfl.Api.Presentation.Entities",
           "arrivalPoint": {
            "$type": "Tfl.Api.Presentation.Entities.StopPoint, Tfl.Api.Presentation.Entities",
            "additionalProperties": [],
            "commonName": "Heathrow Terminals 2 & 3 Underground Station",
            "icsCode": "1000105",
            "lat": 51.471637629,
            "lon": -0.45295694328,
            "naptanId": "940GZZLUHRC",
            "placeType": "StopPoint",
            "platformName": ""
           },
           "arrivalTime": "2021-04-29T23:27:00",
           "departurePoint": {
            "$type": "Tfl.Api.Presentation.Entities.StopPoint, Tfl.Api.Presentation.Entities",
            "additionalProperties": [],
            "commonName": "TW6 1AP",
            "icsCode": "99999997",
            "lat": 51.47237578901,
            "lon": -0.4509737622,
            "placeType": "StopPoint",
            "platformName": ""
           },
           "departureTime": "2021-04-29T23:13:00",
           "disruptions": [],
           "distance": 514,
           "duration": 14,
           "hasFixedLocations": true,
           "instruction": {
            "$type": "Tfl.Api.Presentation.Entities.Instruction, Tfl.Api.Presentation.Entities",
            "detailed": "Walk to Heathrow Terminals 2 & 3 Underground Station",
            "steps": [
             {
              "$type": "Tfl.Api.Presentation.Entities.InstructionStep, Tfl.Api.Presentation.Entities",
              "cumulativeDistance": 166,
              "cumulativeTravelTime": 153,
              "description": " for 166 metres",
              "descriptionHeading": "Continue along ",
              "distance": 166,
              "latitude": 51.47215621597,
              "longitude": -0.45136995977,
              "pathAttribute": {
               "$type": "Tfl.Api.Presentation.Entities.PathAttribute, Tfl.Api.Presentation.Entities"
              },
              "skyDirection": 504,
              "skyDirectionDescription": "North",
              "streetName": "",
              "trackType": "None",
              "turnDirection": "STRAIGHT"
             },
             {
              "$type": "Tfl.Api.Presentation.Entities.InstructionStep, Tfl.Api.Presentation.Entities",
              "cumulativeDistance": 196,
              "cumulativeTravelTime": 179,
              "description": "on to Inner Ring East, continue for 30 metres",
              "descriptionHeading": "Take a slight right",
              "distance": 30,
              "latitude": 51.471216443630006,
              "longitude": -0.4517041426,
              "pathAttribute": {
               "$type": "Tfl.Api.Presentation.Entities.PathAttribute, Tfl.Api.Presentation.Entities"
              },
              "skyDirection": 312,
              "skyDirectionDescription": "North",
              "streetName": "Inner Ring East",
              "trackType": "None",
              "turnDirection": "SLIGHT_RIGHT"
             },
             {
              "$type": "Tfl.Api.Presentation.Entities.InstructionStep, Tfl.Api.Presentation.Entities",
              "cumulativeDistance": 431,
              "cumulativeTravelTime": 393,
              "description": "on to Control Tower Road, continue for 235 metres",
              "descriptionHeading": "Continue along ",
              "distance": 235,
              "latitude": 51.47140038817,
              "longitude": -0.45201467883,
              "pathAttribute": {
               "$type": "Tfl.Api.Presentation.Entities.PathAttribute, Tfl.Api.Presentation.Entities"
              },
              "skyDirection": 506,
              "skyDirectionDescription": "North",
              "streetName": "Control Tower Road",
              "trackType": "None",
              "turnDirection": "U_TURN"
             },
             {
              "$type": "Tfl.Api.Presentation.Entities.InstructionStep, Tfl.Api.Presentation.Entities",
              "cumulativeDistance": 463,
              "cumulativeTravelTime": 421,
              "description": "on to Inner Ring West, continue for 32 metres",
              "descriptionHeading": "Take a sharp left",
              "distance": 32,
              "latitude": 51.47123340134,
              "longitude": -0.45435284892,
              "pathAttribute": {
               "$type": "Tfl.Api.Presentation.Entities.PathAttribute, Tfl.Api.Presentation.Entities"
              },
              "skyDirection": 538,
              "skyDirectionDescription": "North",
              "streetName": "Inner Ring West",
              "trackType": "None",
              "turnDirection": "SHARP_LEFT"
             },
             {
              "$type": "Tfl.Api.Presentation.Entities.InstructionStep, Tfl.Api.Presentation.Entities",
              "cumulativeDistance": 497,
              "cumulativeTravelTime": 452,
              "description": "on to Camborne Road, continue for 34 metres",
              "descriptionHeading": "Turn right",
              "distance": 34,
              "latitude": 51.470945588140005,
              "longitude": -0.45434817678,
              "pathAttribute": {
               "$type": "Tfl.Api.Presentation.Entities.PathAttribute, Tfl.Api.Presentation.Entities"
              },
              "skyDirection": 263,
              "skyDirectionDescription": "North",
              "streetName": "Camborne Road",
              "trackType": "None",
              "turnDirection": "RIGHT"
             },
             {
              "$type": "Tfl.Api.Presentation.Entities.InstructionStep, Tfl.Api.Presentation.Entities",
              "cumulativeDistance": 514,
              "cumulativeTravelTime": 467,
              "description": "on to Camborne Crescent, continue for 17 metres",
              "descriptionHeading": "Take a sharp right",
              "distance": 17,
              "latitude": 51.47091608387,
              "longitude": -0.45483871127000003,
              "pathAttribute": {
               "$type": "Tfl.Api.Presentation.Entities.PathAttribute, Tfl.Api.Presentation.Entities"
              },
              "skyDirection": 400,
              "skyDirectionDescription": "North",
              "streetName": "Camborne Crescent",
              "trackType": "None",
              "turnDirection": "SHARP_RIGHT"
             }
            ],
            "summary": "Walk to Heathrow Terminals 2 & 3 Underground Station"
           },
           "isDisrupted": false,
           "mode": {
            "$type": "Tfl.Api.Presentation.Entities.Identifier, Tfl.Api.Presentation.Entities",
            "id": "walking",
            "name": "walking",
            "routeType": "Unknown",
            "status": "Unknown",
            "type": "Mode"
           },
           "obstacles": [
            {
             "$type": "Tfl.Api.Presentation.Entities.JourneyPlanner.Obstacle, Tfl.Api.Presentation.Entities",
             "incline": "DOWN",
             "position": "IDEST",
             "stopId": 1000105,
             "type": "RAMP"
            },
            {
             "$type": "Tfl.Api.Presentation.Entities.JourneyPlanner.Obstacle, Tfl.Api.Presentation.Entities",
             "incline": "DOWN",
             "position": "IDEST",
             "stopId": 1000105,
             "type": "ESCALATOR"
            }
           ],
           "path": {
            "$type": "Tfl.Api.Presentation.Entities.JourneyPlanner.Path, Tfl.Api.Presentation.Entities",
            "elevation": [],
            "lineString": "[[51.47237578901, -0.4509737622],[51.47215621597, -0.45136995977],[51.47162672488, -0.45076875706],[51.4714825331, -0.45074484442],[51.47121897008, -0.45121451622],[51.47121644363, -0.4517041426],[51.47140038817, -0.45201467883],[51.47129100956, -0.45190319442],[51.47104756751, -0.45185384127],[51.47086299442, -0.45217684784],[51.47097389233, -0.45240346593],[51.47102977877, -0.45391338582],[51.47123340134, -0.45435284892],[51.47094558814, -0.45434817678],[51.47091608387, -0.45483871127],[51.47103084483, -0.45467645423],[51.47107692392, -0.45476128667],[51.4714450785, -0.45267548951],[51.471637629, -0.45295694328],[51.47133397351, -0.45296249441]]",
            "stopPoints": []
           },
           "plannedWorks": [],
           "routeOptions": [
            {
             "$type": "Tfl.Api.Presentation.Entities.JourneyPlanner.RouteOption, Tfl.Api.Presentation.Entities",
             "directions": [
              ""
             ],
             "name": ""
            }
           ]
          },
          {
           "$type": "Tfl.Api.Presentation.Entities.JourneyPlanner.Leg, Tfl.Api.Presentation.Entities",
           "arrivalPoint": {
            "$type": "Tfl.Api.Presentation.Entities.StopPoint, Tfl.Api.Presentation.Entities",
            "additionalProperties": [],
            "commonName": "Green Park Underground Station",
            "icsCode": "1000093",
            "lat": 51.507120049280005,
            "lon": -0.14191535794,
            "naptanId": "940GZZLUGPK",
            "placeType": "StopPoint",
            "platformName": ""
           },
           "arrivalTime": "2021-04-30T00:14:00",
           "departurePoint": {
            "$type": "Tfl.Api.Presentation.Entities.StopPoint, Tfl.Api.Presentation.Entities",
            "additionalProperties": [],
            "commonName": "Heathrow Terminals 2 & 3 Underground Station",
            "icsCode": "1000105",
            "lat": 51.471637629,
            "lon": -0.45295694328,
            "naptanId": "940GZZLUHRC",
            "placeType": "StopPoint",
            "platformName": ""
           },
           "departureTime": "2021-04-29T23:27:00",
           "disruptions": [
            {
             "$type": "Tfl.Api.Presentation.Entities.Disruption, Tfl.Api.Presentation.Entities",
             "additionalInfo": "To check for the latest information before travelling, download the TfL Go App, or go to tfl.gov.uk/plan-a-journey.<br /><br />We are working hard to keep service changes to a minimum and are very sorry for the disruption this may cause to your journeys.",
             "category": "Information",
             "categoryDescription": "Information",
             "created": "2021-03-31T14:41:00",
             "description": "METROPOLITAN LINE: Until further notice, due to staff shortages in our control room there could be short notice alterations to Metropolitan line and parts of the Piccadilly line and Chiltern Railways services. This will affect weekday and weekend service and at times will mean there is a reduced service, or no service on this line.",
             "lastUpdate": "2021-03-31T14:44:00",
             "summary": "",
             "type": "lineInfo"
            },
            {
             "$type": "Tfl.Api.Presentation.Entities.Disruption, Tfl.Api.Presentation.Entities",
             "additionalInfo": "",
             "category": "Information",
             "categoryDescription": "Information",
             "created": "2021-03-18T08:11:00",
             "description": "Travelling to NHS vaccination centre at the Compass Centre? From Hatton Cross station, please use bus route 423 from bus stop E, or from Heathrow Terminals 23 Station, please use bus route U3 from stop 18 in the Central Bus Station. No one should go to a vaccination centre unless they have been in contact with the NHS and have an appointment booked. They will not be vaccinated without an appointment and they cannot book an appointment by going to a centre.",
             "lastUpdate": "2021-03-18T08:15:00",
             "summary": "",
             "type": "stopInfo"
            }
           ],
           "duration": 47,
           "hasFixedLocations": true,
           "instruction": {
            "$type": "Tfl.Api.Presentation.Entities.Instruction, Tfl.Api.Presentation.Entities",
            "detailed": "Piccadilly line towards Cockfosters, or Arnos Grove",
            "steps": [],
            "summary": "Piccadilly line to Green Park"
           },
           "isDisrupted": true,
           "mode": {
            "$type": "Tfl.Api.Presentation.Entities.Identifier, Tfl.Api.Presentation.Entities",
            "id": "tube",
            "name": "tube",
            "routeType": "Unknown",
            "status": "Unknown",
            "type": "Mode"
           },
           "obstacles": [
            {
             "$type": "Tfl.Api.Presentation.Entities.JourneyPlanner.Obstacle, Tfl.Api.Presentation.Entities",
             "incline": "UP",
             "position": "AFTER",
             "stopId": 1000093,
             "type": "STAIRS"
            },
            {
             "$type": "Tfl.Api.Presentation.Entities.JourneyPlanner.Obstacle, Tfl.Api.Presentation.Entities",
             "incline": "DOWN",
             "position": "AFTER",
             "stopId": 1000093,
             "type": "STAIRS"
            },
            {
             "$type": "Tfl.Api.Presentation.Entities.JourneyPlanner.Obstacle, Tfl.Api.Presentation.Entities",
             "incline": "LEVEL",
             "position": "AFTER",
             "stopId": 1000093,
             "type": "WALKWAY"
            }
           ],
           "path": {
            "$type": "Tfl.Api.Presentation.Entities.JourneyPlanner.Path, Tfl.Api.Presentation.Entities",
            "elevation": [],
            "lineString": "[[51.47133414008, -0.45297143671],[51.47129625217, -0.45093833188],[51.47119705219, -0.45023617707],[51.46562304245, -0.42736179058],[51.46551394189, -0.42660252651],[51.46550583066, -0.42599815248],[51.46559697209, -0.42541915544],[51.46638638497, -0.42360158321],[51.46638638497, -0.42360158321],[51.46680937918, -0.42262761335],[51.46718153783, -0.42154940001],[51.46922027601, -0.41469773922],[51.46967581535, -0.41314138278],[51.47188053313, -0.40662874577],[51.47266595611, -0.40421118384],[51.4731883564, -0.40229229392],[51.47494220963, -0.39704719586],[51.47507814629, -0.39646644862],[51.47513338514, -0.39590292812],[51.47512038717, -0.39495301203],[51.47498856672, -0.39386327385],[51.47478680503, -0.39291999464],[51.47423550195, -0.39075067401],[51.47358430283, -0.38851292937],[51.47345075673, -0.38795607167],[51.47337113566, -0.38739731574],[51.47335965335, -0.38656257661],[51.4733866923, -0.3859136657],[51.47341926289, -0.385734712],[51.47341926289, -0.385734712],[51.47387990381, -0.38320360757],[51.47400981566, -0.38219106752],[51.47403106901, -0.38112477083],[51.47390051231, -0.38013584652],[51.47368006827, -0.37915011351],[51.47336774641, -0.3780236576],[51.47223737126, -0.37496802597],[51.47157888271, -0.37287484377],[51.47133340786, -0.37138614109],[51.47123772117, -0.37032406734],[51.47125106032, -0.36869657304],[51.47133422543, -0.36620170922],[51.47133422543, -0.36620170922],[51.4713462021, -0.36584229009],[51.471437203, -0.36462956768],[51.47170628789, -0.36264734459],[51.47193784297, -0.36119919215],[51.47212169283, -0.36019909501],[51.47247924827, -0.35876079367],[51.4728923255, -0.35743566677],[51.47309198812, -0.35692453078],[51.47355472319, -0.35612620222],[51.47355472319, -0.35612620222],[51.47425972115, -0.35490986263],[51.47481464229, -0.35408352575],[51.47528513595, -0.35364900059],[51.47574088603, -0.35344539471],[51.47624258518, -0.35331212994],[51.47762670379, -0.35326228544],[51.47850114607, -0.35341800242],[51.47920219297, -0.35339275658],[51.4798650653, -0.35321047201],[51.48028385213, -0.35293616543],[51.48149076439, -0.35181184571],[51.48149076439, -0.35181184571],[51.48165077802, -0.35166277698],[51.48209207177, -0.35107079292],[51.48236279739, -0.35049935335],[51.48257878341, -0.34987227464],[51.48300527151, -0.34822943966],[51.48345936458, -0.34599508165],[51.48368842655, -0.34502183634],[51.48392951692, -0.34426418194],[51.48425966623, -0.34344568222],[51.48476834345, -0.34253428178],[51.49278966746, -0.32986928129],[51.49298247444, -0.32951650763],[51.49354004044, -0.32825725451],[51.4938018695, -0.3277002646],[51.49405676184, -0.32728757871],[51.49505998532, -0.32575263528],[51.49573468815, -0.32481625777],[51.49573468815, -0.32481625777],[51.49669122554, -0.3234886738],[51.49709621533, -0.32288314316],[51.49733208505, -0.32239906485],[51.49831750614, -0.31962555272],[51.49858208852, -0.31863613968],[51.49971676663, -0.31353113831],[51.49971676663, -0.31353113831],[51.50036424411, -0.31061752396],[51.50108944725, -0.30739114955],[51.50108944725, -0.30739114955],[51.50118391718, -0.30697082307],[51.50132127291, -0.30651908558],[51.50231360067, -0.30424901532],[51.502829938, -0.30264491839],[51.50303125403, -0.30164325011],[51.50329277414, -0.29983245096],[51.50433859847, -0.29320863743],[51.50460043866, -0.29204613102],[51.50562103371, -0.28865058866],[51.50578964306, -0.28788057234],[51.50587715008, -0.28709918206],[51.50585659227, -0.28630743346],[51.50570999464, -0.28550600685],[51.50538968178, -0.28450937827],[51.50364425624, -0.28137618171],[51.50277167788, -0.27986003801],[51.50277167788, -0.27986003801],[51.50276765264, -0.27985304418],[51.50209223387, -0.27917247055],[51.50052843591, -0.2780067116],[51.49987182754, -0.27738311875],[51.49874479649, -0.27595607466],[51.49570540839, -0.27107177814],[51.4952880256, -0.27020879586],[51.49492158603, -0.26914221544],[51.49461741054, -0.26803007429],[51.49447542257, -0.26694060845],[51.49450009304, -0.2661761603],[51.49460760363, -0.26493317096],[51.49470011041, -0.26389242917],[51.49510405624, -0.26020352799],[51.49529069168, -0.25642200817],[51.49529539136, -0.25552864659],[51.49526890491, -0.25462221712],[51.49526890491, -0.25462221712],[51.49490995737, -0.24236181984],[51.49482848299, -0.24112603403],[51.49463612357, -0.23969283971],[51.49416765347, -0.23664244205],[51.49413246427, -0.23609637831],[51.4938625608, -0.22952336733],[51.49389162508, -0.22847062012],[51.49387241422, -0.22779429393],[51.4937344074, -0.22699292561],[51.49354399647, -0.22629443585],[51.49330755644, -0.22552571115],[51.49310068802, -0.22492871185],[51.4928333043, -0.22449252917],[51.4920959202, -0.2235783194],[51.4920959202, -0.2235783194],[51.4910645424, -0.22229967955],[51.49062992288, -0.22150991913],[51.49034895321, -0.22077181035],[51.49018503026, -0.22004355659],[51.49011471448, -0.21896595054],[51.4901460911, -0.21807164222],[51.49041793613, -0.21643331258],[51.49047428308, -0.21540837889],[51.4904158226, -0.2139846506],[51.4904158226, -0.2139846506],[51.49040282633, -0.21366820117],[51.49016057498, -0.21134412118],[51.49011999668, -0.21045262339],[51.49019621778, -0.20896596118],[51.4903360229, -0.20811060601],[51.49088403769, -0.20513612287],[51.49092368436, -0.20478884879],[51.49094601713, -0.20448546898],[51.49083894854, -0.20336609718],[51.49056458459, -0.20189319214],[51.49044024696, -0.20140832334],[51.49016268591, -0.20090067952],[51.48978471879, -0.20029616374],[51.48962354255, -0.19975514055],[51.48955945267, -0.19909506012],[51.48954618492, -0.19823131581],[51.48964274665, -0.19749288036],[51.48993635411, -0.19670345334],[51.49050390242, -0.19560070223],[51.49171829011, -0.19376940871],[51.49171829011, -0.19376940871],[51.49244613635, -0.1926717502],[51.49403160383, -0.19052019112],[51.49444266042, -0.18976920715],[51.49471646166, -0.18886518215],[51.49482261759, -0.18816948014],[51.49490709594, -0.18665348339],[51.49482971321, -0.18572015513],[51.49425552631, -0.18320517722],[51.49425552631, -0.18320517722],[51.49387466921, -0.18153716156],[51.49378691891, -0.18051784029],[51.49378142925, -0.17900544763],[51.49407418278, -0.17527705428],[51.49401755653, -0.17336332487],[51.49401755653, -0.17336332487],[51.49394129639, -0.17078772496],[51.49399432205, -0.17015174248],[51.49410486084, -0.16974394965],[51.49426976895, -0.16936278863],[51.49441108677, -0.16919866068],[51.49473169233, -0.16899853537],[51.49510037907, -0.1689981679],[51.49536189764, -0.16904531378],[51.49584157367, -0.16924218993],[51.49640684781, -0.16916191401],[51.49657557542, -0.16902549263],[51.49682158759, -0.16865546415],[51.49754725513, -0.16732974508],[51.49787189295, -0.16681247356],[51.49821225073, -0.16615049125],[51.49849935922, -0.16553385907],[51.49976729498, -0.16323533984],[51.50015414521, -0.16267228786],[51.50074611019, -0.16200011802],[51.50112690177, -0.16162459327],[51.50140565956, -0.16125444556],[51.50140565956, -0.16125444556],[51.50154093013, -0.16107482473],[51.50161932788, -0.16091317727],[51.50179025681, -0.16034436908],[51.50203528527, -0.15934031773],[51.50217721135, -0.15864299072],[51.50225554705, -0.15790499789],[51.50234454305, -0.15612915575],[51.50243049075, -0.15530439673],[51.50268829722, -0.15367476289],[51.50268829722, -0.15367476289],[51.50318288971, -0.15054791446],[51.5033436452, -0.14990741464],[51.50355831772, -0.14926472576],[51.50382713453, -0.14863424531],[51.50439308278, -0.14745856884],[51.50584117644, -0.14463317644],[51.50620563109, -0.14379701293],[51.50714109072, -0.14194261337]]",
            "stopPoints": [
             {
              "$type": "Tfl.Api.Presentation.Entities.Identifier, Tfl.Api.Presentation.Entities",
              "id": "940GZZLUHNX",
              "name": "Hatton Cross Underground Station",
              "routeType": "Unknown",
              "status": "Unknown",
              "type": "StopPoint",
              "uri": "/StopPoint/940GZZLUHNX"
             },
             {
              "$type": "Tfl.Api.Presentation.Entities.Identifier, Tfl.Api.Presentation.Entities",
              "id": "940GZZLUHWT",
              "name": "Hounslow West Underground Station",
              "routeType": "Unknown",
              "status": "Unknown",
              "type": "StopPoint",
              "uri": "/StopPoint/940GZZLUHWT"
             },
             {
              "$type": "Tfl.Api.Presentation.Entities.Identifier, Tfl.Api.Presentation.Entities",
              "id": "940GZZLUHWC",
              "name": "Hounslow Central Underground Station",
              "routeType": "Unknown",
              "status": "Unknown",
              "type": "StopPoint",
              "uri": "/StopPoint/940GZZLUHWC"
             },
             {
              "$type": "Tfl.Api.Presentation.Entities.Identifier, Tfl.Api.Presentation.Entities",
              "id": "940GZZLUHWE",
              "name": "Hounslow East Underground Station",
              "routeType": "Unknown",
              "status": "Unknown",
              "type": "StopPoint",
              "uri": "/StopPoint/940GZZLUHWE"
             },
             {
              "$type": "Tfl.Api.Presentation.Entities.Identifier, Tfl.Api.Presentation.Entities",
              "id": "940GZZLUOSY",
              "name": "Osterley Underground Station",
              "routeType": "Unknown",
              "status": "Unknown",
              "type": "StopPoint",
              "uri": "/StopPoint/940GZZLUOSY"
             },
             {
              "$type": "Tfl.Api.Presentation.Entities.Identifier, Tfl.Api.Presentation.Entities",
              "id": "940GZZLUBOS",
              "name": "Boston Manor Underground Station",
              "routeType": "Unknown",
              "status": "Unknown",
              "type": "StopPoint",
              "uri": "/StopPoint/940GZZLUBOS"
             },
             {
              "$type": "Tfl.Api.Presentation.Entities.Identifier, Tfl.Api.Presentation.Entities",
              "id": "940GZZLUNFD",
              "name": "Northfields Underground Station",
              "routeType": "Unknown",
              "status": "Unknown",
              "type": "StopPoint",
              "uri": "/StopPoint/940GZZLUNFD"
             },
             {
              "$type": "Tfl.Api.Presentation.Entities.Identifier, Tfl.Api.Presentation.Entities",
              "id": "940GZZLUSEA",
              "name": "South Ealing Underground Station",
              "routeType": "Unknown",
              "status": "Unknown",
              "type": "StopPoint",
              "uri": "/StopPoint/940GZZLUSEA"
             },
             {
              "$type": "Tfl.Api.Presentation.Entities.Identifier, Tfl.Api.Presentation.Entities",
              "id": "940GZZLUACT",
              "name": "Acton Town Underground Station",
              "routeType": "Unknown",
              "status": "Unknown",
              "type": "StopPoint",
              "uri": "/StopPoint/940GZZLUACT"
             },
             {
              "$type": "Tfl.Api.Presentation.Entities.Identifier, Tfl.Api.Presentation.Entities",
              "id": "940GZZLUTNG",
              "name": "Turnham Green Underground Station",
              "routeType": "Unknown",
              "status": "Unknown",
              "type": "StopPoint",
              "uri": "/StopPoint/940GZZLUTNG"
             },
             {
              "$type": "Tfl.Api.Presentation.Entities.Identifier, Tfl.Api.Presentation.Entities",
              "id": "940GZZLUHSD",
              "name": "Hammersmith (Dist&Picc Line) Underground Station",
              "routeType": "Unknown",
              "status": "Unknown",
              "type": "StopPoint",
              "uri": "/StopPoint/940GZZLUHSD"
             },
             {
              "$type": "Tfl.Api.Presentation.Entities.Identifier, Tfl.Api.Presentation.Entities",
              "id": "940GZZLUBSC",
              "name": "Barons Court Underground Station",
              "routeType": "Unknown",
              "status": "Unknown",
              "type": "StopPoint",
              "uri": "/StopPoint/940GZZLUBSC"
             },
             {
              "$type": "Tfl.Api.Presentation.Entities.Identifier, Tfl.Api.Presentation.Entities",
              "id": "940GZZLUECT",
              "name": "Earl's Court Underground Station",
              "routeType": "Unknown",
              "status": "Unknown",
              "type": "StopPoint",
              "uri": "/StopPoint/940GZZLUECT"
             },
             {
              "$type": "Tfl.Api.Presentation.Entities.Identifier, Tfl.Api.Presentation.Entities",
              "id": "940GZZLUGTR",
              "name": "Gloucester Road Underground Station",
              "routeType": "Unknown",
              "status": "Unknown",
              "type": "StopPoint",
              "uri": "/StopPoint/940GZZLUGTR"
             },
             {
              "$type": "Tfl.Api.Presentation.Entities.Identifier, Tfl.Api.Presentation.Entities",
              "id": "940GZZLUKNB",
              "name": "Knightsbridge Underground Station",
              "routeType": "Unknown",
              "status": "Unknown",
              "type": "StopPoint",
              "uri": "/StopPoint/940GZZLUKNB"
             },
             {
              "$type": "Tfl.Api.Presentation.Entities.Identifier, Tfl.Api.Presentation.Entities",
              "id": "940GZZLUHPC",
              "name": "Hyde Park Corner Underground Station",
              "routeType": "Unknown",
              "status": "Unknown",
              "type": "StopPoint",
              "uri": "/StopPoint/940GZZLUHPC"
             },
             {
              "$type": "Tfl.Api.Presentation.Entities.Identifier, Tfl.Api.Presentation.Entities",
              "id": "940GZZLUGPK",
              "name": "Green Park Underground Station",
              "routeType": "Unknown",
              "status": "Unknown",
              "type": "StopPoint",
              "uri": "/StopPoint/940GZZLUGPK"
             }
            ]
           },
           "plannedWorks": [],
           "routeOptions": [
            {
             "$type": "Tfl.Api.Presentation.Entities.JourneyPlanner.RouteOption, Tfl.Api.Presentation.Entities",
             "directions": [
              "Cockfosters Underground Station",
              "Arnos Grove Underground Station"
             ],
             "lineIdentifier": {
              "$type": "Tfl.Api.Presentation.Entities.Identifier, Tfl.Api.Presentation.Entities",
              "crowding": {
               "$type": "Tfl.Api.Presentation.Entities.Crowding, Tfl.Api.Presentation.Entities"
              },
              "id": "piccadilly",
              "name": "Piccadilly",
              "routeType": "Unknown",
              "status": "Unknown",
              "type": "Line",
              "uri": "/Line/piccadilly"
             },
             "name": "Piccadilly"
            }
           ]
          },
          {
           "$type": "Tfl.Api.Presentation.Entities.JourneyPlanner.Leg, Tfl.Api.Presentation.Entities",
           "arrivalPoint": {
            "$type": "Tfl.Api.Presentation.Entities.StopPoint, Tfl.Api.Presentation.Entities",
            "additionalProperties": [],
            "commonName": "London Bridge Underground Station",
            "icsCode": "1000139",
            "lat": 51.50583751486,
            "lon": -0.08785894256,
            "naptanId": "940GZZLULNB",
            "placeType": "StopPoint",
            "platformName": ""
           },
           "arrivalTime": "2021-04-30T00:29:00",
           "departurePoint": {
            "$type": "Tfl.Api.Presentation.Entities.StopPoint, Tfl.Api.Presentation.Entities",
            "additionalProperties": [],
            "commonName": "Green Park Underground Station",
            "icsCode": "1000093",
            "lat": 51.506161524460005,
            "lon": -0.14157969695,
            "naptanId": "940GZZLUGPK",
            "placeType": "StopPoint",
            "platformName": ""
           },
           "departureTime": "2021-04-30T00:23:00",
           "disruptions": [
            {
             "$type": "Tfl.Api.Presentation.Entities.Disruption, Tfl.Api.Presentation.Entities",
             "additionalInfo": "",
             "category": "PlannedWork",
             "categoryDescription": "PlannedWork",
             "created": "2018-01-22T11:40:00",
             "description": "LONDON BRIDGE STATION: Please note that step free interchange between the Jubilee and Northern lines is partly at street level, in both directions. Lifts are available between Northern line and Borough High Street entrance then via Borough High Street, St Thomas Street and Joiner Street to the main Underground ticket hall from where lifts are available to/from the Jubilee line.",
             "lastUpdate": "2018-03-05T15:29:00",
             "summary": "",
             "type": "stopInfo"
            }
           ],
           "duration": 6,
           "hasFixedLocations": true,
           "instruction": {
            "$type": "Tfl.Api.Presentation.Entities.Instruction, Tfl.Api.Presentation.Entities",
            "detailed": "Jubilee line towards Stratford",
            "steps": [],
            "summary": "Jubilee line to London Bridge"
           },
           "isDisrupted": true,
           "mode": {
            "$type": "Tfl.Api.Presentation.Entities.Identifier, Tfl.Api.Presentation.Entities",
            "id": "tube",
            "name": "tube",
            "routeType": "Unknown",
            "status": "Unknown",
            "type": "Mode"
           },
           "obstacles": [],
           "path": {
            "$type": "Tfl.Api.Presentation.Entities.JourneyPlanner.Path, Tfl.Api.Presentation.Entities",
            "elevation": [],
            "lineString": "[[51.50616302255, -0.14157907788],[51.50591197371, -0.14001919115],[51.50578760902, -0.13954873597],[51.50560033551, -0.13908084636],[51.5020131521, -0.1312158545],[51.50169268756, -0.13029241786],[51.50143374446, -0.12928002483],[51.50123402222, -0.12803468442],[51.50108659683, -0.12668635271],[51.50099956538, -0.12485966609],[51.50099956538, -0.12485966609],[51.5009783417, -0.12441429778],[51.50106337511, -0.12298439272],[51.50170090818, -0.11955780858],[51.50333888904, -0.11302583748],[51.50333888904, -0.11302583748],[51.50398263824, -0.11045815313],[51.50426792153, -0.10863078519],[51.50435392304, -0.10727275095],[51.50429122782, -0.10537666705],[51.50429122782, -0.10537666705],[51.50407248611, -0.0987685702],[51.50422182972, -0.09577963576],[51.50438856048, -0.09441820849],[51.50474305469, -0.09299129429],[51.50495952019, -0.09247792387],[51.50527608892, -0.09148484967],[51.50575025934, -0.08967822594],[51.50586159146, -0.08823258945],[51.50583318936, -0.08785978875]]",
            "stopPoints": [
             {
              "$type": "Tfl.Api.Presentation.Entities.Identifier, Tfl.Api.Presentation.Entities",
              "id": "940GZZLUWSM",
              "name": "Westminster Underground Station",
              "routeType": "Unknown",
              "status": "Unknown",
              "type": "StopPoint",
              "uri": "/StopPoint/940GZZLUWSM"
             },
             {
              "$type": "Tfl.Api.Presentation.Entities.Identifier, Tfl.Api.Presentation.Entities",
              "id": "940GZZLUWLO",
              "name": "Waterloo Underground Station",
              "routeType": "Unknown",
              "status": "Unknown",
              "type": "StopPoint",
              "uri": "/StopPoint/940GZZLUWLO"
             },
             {
              "$type": "Tfl.Api.Presentation.Entities.Identifier, Tfl.Api.Presentation.Entities",
              "id": "940GZZLUSWK",
              "name": "Southwark Underground Station",
              "routeType": "Unknown",
              "status": "Unknown",
              "type": "StopPoint",
              "uri": "/StopPoint/940GZZLUSWK"
             },
             {
              "$type": "Tfl.Api.Presentation.Entities.Identifier, Tfl.Api.Presentation.Entities",
              "id": "940GZZLULNB",
              "name": "London Bridge Underground Station",
              "routeType": "Unknown",
              "status": "Unknown",
              "type": "StopPoint",
              "uri": "/StopPoint/940GZZLULNB"
             }
            ]
           },
           "plannedWorks": [],
           "routeOptions": [
            {
             "$type": "Tfl.Api.Presentation.Entities.JourneyPlanner.RouteOption, Tfl.Api.Presentation.Entities",
             "directions": [
              "Stratford Underground Station"
             ],
             "lineIdentifier": {
              "$type": "Tfl.Api.Presentation.Entities.Identifier, Tfl.Api.Presentation.Entities",
              "crowding": {
               "$type": "Tfl.Api.Presentation.Entities.Crowding, Tfl.Api.Presentation.Entities"
              },
              "id": "jubilee",
              "name": "Jubilee",
              "routeType": "Unknown",
              "status": "Unknown",
              "type": "Line",
              "uri": "/Line/jubilee"
             },
             "name": "Jubilee"
            }
           ]
          },
          {
           "$type": "Tfl.Api.Presentation.Entities.JourneyPlanner.Leg, Tfl.Api.Presentation.Entities",
           "arrivalPoint": {
            "$type": "Tfl.Api.Presentation.Entities.Place, Tfl.Api.Presentation.Entities",
            "commonName": "SE1 4TW",
            "lat": 51.496527864600004,
            "lon": -0.08275956985,
            "placeType": "StopPoint"
           },
           "arrivalTime": "2021-04-30T00:52:00",
           "departurePoint": {
            "$type": "Tfl.Api.Presentation.Entities.StopPoint, Tfl.Api.Presentation.Entities",
            "additionalProperties": [],
            "commonName": "London Bridge Underground Station",
            "icsCode": "1000139",
            "lat": 51.50583751486,
            "lon": -0.08785894256,
            "naptanId": "940GZZLULNB",
            "placeType": "StopPoint",
            "platformName": ""
           },
           "departureTime": "2021-04-30T00:29:00",
           "disruptions": [],
           "distance": 1270,
           "duration": 23,
           "hasFixedLocations": false,
           "instruction": {
            "$type": "Tfl.Api.Presentation.Entities.Instruction, Tfl.Api.Presentation.Entities",
            "detailed": "Walk to SE1 4TW",
            "steps": [
             {
              "$type": "Tfl.Api.Presentation.Entities.InstructionStep, Tfl.Api.Presentation.Entities",
              "cumulativeDistance": 14,
              "cumulativeTravelTime": 13,
              "description": " for 14 metres",
              "descriptionHeading": "Continue along ",
              "distance": 14,
              "latitude": 51.50573620429,
              "longitude": -0.08660953442,
              "pathAttribute": {
               "$type": "Tfl.Api.Presentation.Entities.PathAttribute, Tfl.Api.Presentation.Entities"
              },
              "skyDirection": 403,
              "skyDirectionDescription": "North",
              "streetName": "",
              "trackType": "None",
              "turnDirection": "STRAIGHT"
             },
             {
              "$type": "Tfl.Api.Presentation.Entities.InstructionStep, Tfl.Api.Presentation.Entities",
              "cumulativeDistance": 43,
              "cumulativeTravelTime": 39,
              "description": "on to Duke Street Hill, continue for 29 metres",
              "descriptionHeading": "Take a slight right",
              "distance": 29,
              "latitude": 51.50582371923,
              "longitude": -0.08646177031,
              "pathAttribute": {
               "$type": "Tfl.Api.Presentation.Entities.PathAttribute, Tfl.Api.Presentation.Entities"
              },
              "skyDirection": 464,
              "skyDirectionDescription": "North",
              "streetName": "Duke Street Hill",
              "trackType": "None",
              "turnDirection": "SLIGHT_RIGHT"
             },
             {
              "$type": "Tfl.Api.Presentation.Entities.InstructionStep, Tfl.Api.Presentation.Entities",
              "cumulativeDistance": 252,
              "cumulativeTravelTime": 227,
              "description": "on to Tooley Street, continue for 209 metres",
              "descriptionHeading": "Continue along ",
              "distance": 209,
              "latitude": 51.50573626196,
              "longitude": -0.08606196091,
              "pathAttribute": {
               "$type": "Tfl.Api.Presentation.Entities.PathAttribute, Tfl.Api.Presentation.Entities"
              },
              "skyDirection": 467,
              "skyDirectionDescription": "North",
              "streetName": "Tooley Street",
              "trackType": "None",
              "turnDirection": "STRAIGHT"
             },
             {
              "$type": "Tfl.Api.Presentation.Entities.InstructionStep, Tfl.Api.Presentation.Entities",
              "cumulativeDistance": 1168,
              "cumulativeTravelTime": 1052,
              "description": "on to Bermondsey Street, continue for 916 metres",
              "descriptionHeading": "Take a slight right",
              "distance": 916,
              "latitude": 51.504741843000005,
              "longitude": -0.08353874691,
              "pathAttribute": {
               "$type": "Tfl.Api.Presentation.Entities.PathAttribute, Tfl.Api.Presentation.Entities"
              },
              "skyDirection": 509,
              "skyDirectionDescription": "North",
              "streetName": "Bermondsey Street",
              "trackType": "None",
              "turnDirection": "SLIGHT_RIGHT"
             },
             {
              "$type": "Tfl.Api.Presentation.Entities.InstructionStep, Tfl.Api.Presentation.Entities",
              "cumulativeDistance": 1197,
              "cumulativeTravelTime": 1077,
              "description": "on to Decima Street, continue for 29 metres",
              "descriptionHeading": "Turn right",
              "distance": 29,
              "latitude": 51.49690698351,
              "longitude": -0.08229704433999999,
              "pathAttribute": {
               "$type": "Tfl.Api.Presentation.Entities.PathAttribute, Tfl.Api.Presentation.Entities"
              },
              "skyDirection": 304,
              "skyDirectionDescription": "North",
              "streetName": "Decima Street",
              "trackType": "None",
              "turnDirection": "RIGHT"
             },
             {
              "$type": "Tfl.Api.Presentation.Entities.InstructionStep, Tfl.Api.Presentation.Entities",
              "cumulativeDistance": 1216,
              "cumulativeTravelTime": 1095,
              "description": "on to Alice Street, continue for 19 metres",
              "descriptionHeading": "Turn left",
              "distance": 19,
              "latitude": 51.49705641632001,
              "longitude": -0.08263654094999999,
              "pathAttribute": {
               "$type": "Tfl.Api.Presentation.Entities.PathAttribute, Tfl.Api.Presentation.Entities"
              },
              "skyDirection": 216,
              "skyDirectionDescription": "North",
              "streetName": "Alice Street",
              "trackType": "None",
              "turnDirection": "LEFT"
             },
             {
              "$type": "Tfl.Api.Presentation.Entities.InstructionStep, Tfl.Api.Presentation.Entities",
              "cumulativeDistance": 1270,
              "cumulativeTravelTime": 1140,
              "description": "for 54 metres",
              "descriptionHeading": "Continue along ",
              "distance": 54,
              "latitude": 51.49692420908001,
              "longitude": -0.08280056603000001,
              "pathAttribute": {
               "$type": "Tfl.Api.Presentation.Entities.PathAttribute, Tfl.Api.Presentation.Entities"
              },
              "skyDirection": 210,
              "skyDirectionDescription": "North",
              "streetName": "",
              "trackType": "None",
              "turnDirection": "STRAIGHT"
             }
            ],
            "summary": "Walk to SE1 4TW"
           },
           "isDisrupted": false,
           "mode": {
            "$type": "Tfl.Api.Presentation.Entities.Identifier, Tfl.Api.Presentation.Entities",
            "id": "walking",
            "name": "walking",
            "routeType": "Unknown",
            "status": "Unknown",
            "type": "Mode"
           },
           "obstacles": [
            {
             "$type": "Tfl.Api.Presentation.Entities.JourneyPlanner.Obstacle, Tfl.Api.Presentation.Entities",
             "incline": "UP",
             "position": "BEFORE",
             "stopId": 1000139,
             "type": "ESCALATOR"
            },
            {
             "$type": "Tfl.Api.Presentation.Entities.JourneyPlanner.Obstacle, Tfl.Api.Presentation.Entities",
             "incline": "LEVEL",
             "position": "BEFORE",
             "stopId": 1000139,
             "type": "WALKWAY"
            }
           ],
           "path": {
            "$type": "Tfl.Api.Presentation.Entities.JourneyPlanner.Path, Tfl.Api.Presentation.Entities",
            "elevation": [],
            "lineString": "[[51.50583751486, -0.08785894256],[51.50586018302, -0.08814618959],[51.50572698292, -0.08659551096],[51.50573620429, -0.08660953442],[51.50582371923, -0.08646177031],[51.50578401402, -0.08623287728],[51.5057556448, -0.08614760733],[51.50573626196, -0.08606196091],[51.50564833323, -0.0856333533],[51.50550742478, -0.08526460714],[51.50533080462, -0.08491177021],[51.50528422644, -0.08481285579],[51.50510666415, -0.08440242352],[51.50506907198, -0.0843031332],[51.50492910045, -0.08399199446],[51.504741843, -0.08353874691],[51.50448622269, -0.08330451269],[51.50373587802, -0.0830622247],[51.50271264457, -0.08262967418],[51.50254072548, -0.08256484657],[51.50245914142, -0.0825250449],[51.50145411434, -0.08210616175],[51.5013727656, -0.08208076031],[51.5010830808, -0.08196324778],[51.50101071846, -0.08193746947],[51.50078440947, -0.08184611402],[51.50056755785, -0.08178317861],[51.50041361114, -0.08171760232],[51.5001962884, -0.08162587172],[51.49996099275, -0.08153489672],[51.49993379796, -0.0815216308],[51.49984299159, -0.08146781252],[51.49976164271, -0.08144241305],[51.49945351332, -0.08129686748],[51.49919125816, -0.08120702787],[51.49889235049, -0.08107550587],[51.49873887459, -0.08103872958],[51.49825596375, -0.08120308739],[51.49806014701, -0.0813265703],[51.49792652845, -0.0814042183],[51.49765218888, -0.08167506891],[51.49730689913, -0.08200652327],[51.49690698351, -0.08229704434],[51.49705641632, -0.08263654095],[51.49692420908, -0.08280056603],[51.49681801947, -0.08290587067],[51.49672415379, -0.08266489146],[51.49660187438, -0.08288612622],[51.4965278646, -0.08275956985]]",
            "stopPoints": []
           },
           "plannedWorks": [],
           "routeOptions": [
            {
             "$type": "Tfl.Api.Presentation.Entities.JourneyPlanner.RouteOption, Tfl.Api.Presentation.Entities",
             "directions": [
              ""
             ],
             "name": ""
            }
           ]
          }
         ],
         "startDateTime": "2021-04-29T23:13:00"
        },
        {
         "$type": "Tfl.Api.Presentation.Entities.JourneyPlanner.Journey, Tfl.Api.Presentation.Entities",
         "arrivalDateTime": "2021-04-30T00:58:00",
         "duration": 96,
         "legs": [
          {
           "$type": "Tfl.Api.Presentation.Entities.JourneyPlanner.Leg, Tfl.Api.Presentation.Entities",
           "arrivalPoint": {
            "$type": "Tfl.Api.Presentation.Entities.StopPoint, Tfl.Api.Presentation.Entities",
            "additionalProperties": [],
            "commonName": "Heathrow Terminals 2 & 3 Underground Station",
            "icsCode": "1000105",
            "lat": 51.471637629,
            "lon": -0.45295694328,
            "naptanId": "940GZZLUHRC",
            "placeType": "StopPoint",
            "platformName": ""
           },
           "arrivalTime": "2021-04-29T23:36:00",
           "departurePoint": {
            "$type": "Tfl.Api.Presentation.Entities.StopPoint, Tfl.Api.Presentation.Entities",
            "additionalProperties": [],
            "commonName": "TW6 1AP",
            "icsCode": "99999997",
            "lat": 51.47237578901,
            "lon": -0.4509737622,
            "placeType": "StopPoint",
            "platformName": ""
           },
           "departureTime": "2021-04-29T23:22:00",
           "disruptions": [],
           "distance": 514,
           "duration": 14,
           "hasFixedLocations": true,
           "instruction": {
            "$type": "Tfl.Api.Presentation.Entities.Instruction, Tfl.Api.Presentation.Entities",
            "detailed": "Walk to Heathrow Terminals 2 & 3 Underground Station",
            "steps": [
             {
              "$type": "Tfl.Api.Presentation.Entities.InstructionStep, Tfl.Api.Presentation.Entities",
              "cumulativeDistance": 166,
              "cumulativeTravelTime": 153,
              "description": " for 166 metres",
              "descriptionHeading": "Continue along ",
              "distance": 166,
              "latitude": 51.47215621597,
              "longitude": -0.45136995977,
              "pathAttribute": {
               "$type": "Tfl.Api.Presentation.Entities.PathAttribute, Tfl.Api.Presentation.Entities"
              },
              "skyDirection": 504,
              "skyDirectionDescription": "North",
              "streetName": "",
              "trackType": "None",
              "turnDirection": "STRAIGHT"
             },
             {
              "$type": "Tfl.Api.Presentation.Entities.InstructionStep, Tfl.Api.Presentation.Entities",
              "cumulativeDistance": 196,
              "cumulativeTravelTime": 179,
              "description": "on to Inner Ring East, continue for 30 metres",
              "descriptionHeading": "Take a slight right",
              "distance": 30,
              "latitude": 51.471216443630006,
              "longitude": -0.4517041426,
              "pathAttribute": {
               "$type": "Tfl.Api.Presentation.Entities.PathAttribute, Tfl.Api.Presentation.Entities"
              },
              "skyDirection": 312,
              "skyDirectionDescription": "North",
              "streetName": "Inner Ring East",
              "trackType": "None",
              "turnDirection": "SLIGHT_RIGHT"
             },
             {
              "$type": "Tfl.Api.Presentation.Entities.InstructionStep, Tfl.Api.Presentation.Entities",
              "cumulativeDistance": 431,
              "cumulativeTravelTime": 393,
              "description": "on to Control Tower Road, continue for 235 metres",
              "descriptionHeading": "Continue along ",
              "distance": 235,
              "latitude": 51.47140038817,
              "longitude": -0.45201467883,
              "pathAttribute": {
               "$type": "Tfl.Api.Presentation.Entities.PathAttribute, Tfl.Api.Presentation.Entities"
              },
              "skyDirection": 506,
              "skyDirectionDescription": "North",
              "streetName": "Control Tower Road",
              "trackType": "None",
              "turnDirection": "U_TURN"
             },
             {
              "$type": "Tfl.Api.Presentation.Entities.InstructionStep, Tfl.Api.Presentation.Entities",
              "cumulativeDistance": 463,
              "cumulativeTravelTime": 421,
              "description": "on to Inner Ring West, continue for 32 metres",
              "descriptionHeading": "Take a sharp left",
              "distance": 32,
              "latitude": 51.47123340134,
              "longitude": -0.45435284892,
              "pathAttribute": {
               "$type": "Tfl.Api.Presentation.Entities.PathAttribute, Tfl.Api.Presentation.Entities"
              },
              "skyDirection": 538,
              "skyDirectionDescription": "North",
              "streetName": "Inner Ring West",
              "trackType": "None",
              "turnDirection": "SHARP_LEFT"
             },
             {
              "$type": "Tfl.Api.Presentation.Entities.InstructionStep, Tfl.Api.Presentation.Entities",
              "cumulativeDistance": 497,
              "cumulativeTravelTime": 452,
              "description": "on to Camborne Road, continue for 34 metres",
              "descriptionHeading": "Turn right",
              "distance": 34,
              "latitude": 51.470945588140005,
              "longitude": -0.45434817678,
              "pathAttribute": {
               "$type": "Tfl.Api.Presentation.Entities.PathAttribute, Tfl.Api.Presentation.Entities"
              },
              "skyDirection": 263,
              "skyDirectionDescription": "North",
              "streetName": "Camborne Road",
              "trackType": "None",
              "turnDirection": "RIGHT"
             },
             {
              "$type": "Tfl.Api.Presentation.Entities.InstructionStep, Tfl.Api.Presentation.Entities",
              "cumulativeDistance": 514,
              "cumulativeTravelTime": 467,
              "description": "on to Camborne Crescent, continue for 17 metres",
              "descriptionHeading": "Take a sharp right",
              "distance": 17,
              "latitude": 51.47091608387,
              "longitude": -0.45483871127000003,
              "pathAttribute": {
               "$type": "Tfl.Api.Presentation.Entities.PathAttribute, Tfl.Api.Presentation.Entities"
              },
              "skyDirection": 400,
              "skyDirectionDescription": "North",
              "streetName": "Camborne Crescent",
              "trackType": "None",
              "turnDirection": "SHARP_RIGHT"
             }
            ],
            "summary": "Walk to Heathrow Terminals 2 & 3 Underground Station"
           },
           "isDisrupted": false,
           "mode": {
            "$type": "Tfl.Api.Presentation.Entities.Identifier, Tfl.Api.Presentation.Entities",
            "id": "walking",
            "name": "walking",
            "routeType": "Unknown",
            "status": "Unknown",
            "type": "Mode"
           },
           "obstacles": [
            {
             "$type": "Tfl.Api.Presentation.Entities.JourneyPlanner.Obstacle, Tfl.Api.Presentation.Entities",
             "incline": "DOWN",
             "position": "IDEST",
             "stopId": 1000105,
             "type": "RAMP"
            },
            {
             "$type": "Tfl.Api.Presentation.Entities.JourneyPlanner.Obstacle, Tfl.Api.Presentation.Entities",
             "incline": "DOWN",
             "position": "IDEST",
             "stopId": 1000105,
             "type": "ESCALATOR"
            }
           ],
           "path": {
            "$type": "Tfl.Api.Presentation.Entities.JourneyPlanner.Path, Tfl.Api.Presentation.Entities",
            "elevation": [],
            "lineString": "[[51.47237578901, -0.4509737622],[51.47215621597, -0.45136995977],[51.47162672488, -0.45076875706],[51.4714825331, -0.45074484442],[51.47121897008, -0.45121451622],[51.47121644363, -0.4517041426],[51.47140038817, -0.45201467883],[51.47129100956, -0.45190319442],[51.47104756751, -0.45185384127],[51.47086299442, -0.45217684784],[51.47097389233, -0.45240346593],[51.47102977877, -0.45391338582],[51.47123340134, -0.45435284892],[51.47094558814, -0.45434817678],[51.47091608387, -0.45483871127],[51.47103084483, -0.45467645423],[51.47107692392, -0.45476128667],[51.4714450785, -0.45267548951],[51.471637629, -0.45295694328],[51.47133397351, -0.45296249441]]",
            "stopPoints": []
           },
           "plannedWorks": [],
           "routeOptions": [
            {
             "$type": "Tfl.Api.Presentation.Entities.JourneyPlanner.RouteOption, Tfl.Api.Presentation.Entities",
             "directions": [
              ""
             ],
             "name": ""
            }
           ]
          },
          {
           "$type": "Tfl.Api.Presentation.Entities.JourneyPlanner.Leg, Tfl.Api.Presentation.Entities",
           "arrivalPoint": {
            "$type": "Tfl.Api.Presentation.Entities.StopPoint, Tfl.Api.Presentation.Entities",
            "additionalProperties": [],
            "commonName": "Green Park Underground Station",
            "icsCode": "1000093",
            "lat": 51.507120049280005,
            "lon": -0.14191535794,
            "naptanId": "940GZZLUGPK",
            "placeType": "StopPoint",
            "platformName": ""
           },
           "arrivalTime": "2021-04-30T00:22:00",
           "departurePoint": {
            "$type": "Tfl.Api.Presentation.Entities.StopPoint, Tfl.Api.Presentation.Entities",
            "additionalProperties": [],
            "commonName": "Heathrow Terminals 2 & 3 Underground Station",
            "icsCode": "1000105",
            "lat": 51.471637629,
            "lon": -0.45295694328,
            "naptanId": "940GZZLUHRC",
            "placeType": "StopPoint",
            "platformName": ""
           },
           "departureTime": "2021-04-29T23:36:00",
           "disruptions": [
            {
             "$type": "Tfl.Api.Presentation.Entities.Disruption, Tfl.Api.Presentation.Entities",
             "additionalInfo": "To check for the latest information before travelling, download the TfL Go App, or go to tfl.gov.uk/plan-a-journey.<br /><br />We are working hard to keep service changes to a minimum and are very sorry for the disruption this may cause to your journeys.",
             "category": "Information",
             "categoryDescription": "Information",
             "created": "2021-03-31T14:41:00",
             "description": "METROPOLITAN LINE: Until further notice, due to staff shortages in our control room there could be short notice alterations to Metropolitan line and parts of the Piccadilly line and Chiltern Railways services. This will affect weekday and weekend service and at times will mean there is a reduced service, or no service on this line.",
             "lastUpdate": "2021-03-31T14:44:00",
             "summary": "",
             "type": "lineInfo"
            },
            {
             "$type": "Tfl.Api.Presentation.Entities.Disruption, Tfl.Api.Presentation.Entities",
             "additionalInfo": "",
             "category": "Information",
             "categoryDescription": "Information",
             "created": "2021-03-18T08:11:00",
             "description": "Travelling to NHS vaccination centre at the Compass Centre? From Hatton Cross station, please use bus route 423 from bus stop E, or from Heathrow Terminals 23 Station, please use bus route U3 from stop 18 in the Central Bus Station. No one should go to a vaccination centre unless they have been in contact with the NHS and have an appointment booked. They will not be vaccinated without an appointment and they cannot book an appointment by going to a centre.",
             "lastUpdate": "2021-03-18T08:15:00",
             "summary": "",
             "type": "stopInfo"
            }
           ],
           "duration": 46,
           "hasFixedLocations": true,
           "instruction": {
            "$type": "Tfl.Api.Presentation.Entities.Instruction, Tfl.Api.Presentation.Entities",
            "detailed": "Piccadilly line towards Cockfosters, or Arnos Grove",
            "steps": [],
            "summary": "Piccadilly line to Green Park"
           },
           "isDisrupted": true,
           "mode": {
            "$type": "Tfl.Api.Presentation.Entities.Identifier, Tfl.Api.Presentation.Entities",
            "id": "tube",
            "name": "tube",
            "routeType": "Unknown",
            "status": "Unknown",
            "type": "Mode"
           },
           "obstacles": [
            {
             "$type": "Tfl.Api.Presentation.Entities.JourneyPlanner.Obstacle, Tfl.Api.Presentation.Entities",
             "incline": "UP",
             "position": "AFTER",
             "stopId": 1000093,
             "type": "STAIRS"
            },
            {
             "$type": "Tfl.Api.Presentation.Entities.JourneyPlanner.Obstacle, Tfl.Api.Presentation.Entities",
             "incline": "DOWN",
             "position": "AFTER",
             "stopId": 1000093,
             "type": "STAIRS"
            },
            {
             "$type": "Tfl.Api.Presentation.Entities.JourneyPlanner.Obstacle, Tfl.Api.Presentation.Entities",
             "incline": "LEVEL",
             "position": "AFTER",
             "stopId": 1000093,
             "type": "WALKWAY"
            }
           ],
           "path": {
            "$type": "Tfl.Api.Presentation.Entities.JourneyPlanner.Path, Tfl.Api.Presentation.Entities",
            "elevation": [],
            "lineString": "[[51.47133414008, -0.45297143671],[51.47129625217, -0.45093833188],[51.47119705219, -0.45023617707],[51.46562304245, -0.42736179058],[51.46551394189, -0.42660252651],[51.46550583066, -0.42599815248],[51.46559697209, -0.42541915544],[51.46638638497, -0.42360158321],[51.46638638497, -0.42360158321],[51.46680937918, -0.42262761335],[51.46718153783, -0.42154940001],[51.46922027601, -0.41469773922],[51.46967581535, -0.41314138278],[51.47188053313, -0.40662874577],[51.47266595611, -0.40421118384],[51.4731883564, -0.40229229392],[51.47494220963, -0.39704719586],[51.47507814629, -0.39646644862],[51.47513338514, -0.39590292812],[51.47512038717, -0.39495301203],[51.47498856672, -0.39386327385],[51.47478680503, -0.39291999464],[51.47423550195, -0.39075067401],[51.47358430283, -0.38851292937],[51.47345075673, -0.38795607167],[51.47337113566, -0.38739731574],[51.47335965335, -0.38656257661],[51.4733866923, -0.3859136657],[51.47341926289, -0.385734712],[51.47341926289, -0.385734712],[51.47387990381, -0.38320360757],[51.47400981566, -0.38219106752],[51.47403106901, -0.38112477083],[51.47390051231, -0.38013584652],[51.47368006827, -0.37915011351],[51.47336774641, -0.3780236576],[51.47223737126, -0.37496802597],[51.47157888271, -0.37287484377],[51.47133340786, -0.37138614109],[51.47123772117, -0.37032406734],[51.47125106032, -0.36869657304],[51.47133422543, -0.36620170922],[51.47133422543, -0.36620170922],[51.4713462021, -0.36584229009],[51.471437203, -0.36462956768],[51.47170628789, -0.36264734459],[51.47193784297, -0.36119919215],[51.47212169283, -0.36019909501],[51.47247924827, -0.35876079367],[51.4728923255, -0.35743566677],[51.47309198812, -0.35692453078],[51.47355472319, -0.35612620222],[51.47355472319, -0.35612620222],[51.47425972115, -0.35490986263],[51.47481464229, -0.35408352575],[51.47528513595, -0.35364900059],[51.47574088603, -0.35344539471],[51.47624258518, -0.35331212994],[51.47762670379, -0.35326228544],[51.47850114607, -0.35341800242],[51.47920219297, -0.35339275658],[51.4798650653, -0.35321047201],[51.48028385213, -0.35293616543],[51.48149076439, -0.35181184571],[51.48149076439, -0.35181184571],[51.48165077802, -0.35166277698],[51.48209207177, -0.35107079292],[51.48236279739, -0.35049935335],[51.48257878341, -0.34987227464],[51.48300527151, -0.34822943966],[51.48345936458, -0.34599508165],[51.48368842655, -0.34502183634],[51.48392951692, -0.34426418194],[51.48425966623, -0.34344568222],[51.48476834345, -0.34253428178],[51.49278966746, -0.32986928129],[51.49298247444, -0.32951650763],[51.49354004044, -0.32825725451],[51.4938018695, -0.3277002646],[51.49405676184, -0.32728757871],[51.49505998532, -0.32575263528],[51.49573468815, -0.32481625777],[51.49573468815, -0.32481625777],[51.49669122554, -0.3234886738],[51.49709621533, -0.32288314316],[51.49733208505, -0.32239906485],[51.49831750614, -0.31962555272],[51.49858208852, -0.31863613968],[51.49971676663, -0.31353113831],[51.49971676663, -0.31353113831],[51.50036424411, -0.31061752396],[51.50108944725, -0.30739114955],[51.50108944725, -0.30739114955],[51.50118391718, -0.30697082307],[51.50132127291, -0.30651908558],[51.50231360067, -0.30424901532],[51.502829938, -0.30264491839],[51.50303125403, -0.30164325011],[51.50329277414, -0.29983245096],[51.50433859847, -0.29320863743],[51.50460043866, -0.29204613102],[51.50562103371, -0.28865058866],[51.50578964306, -0.28788057234],[51.50587715008, -0.28709918206],[51.50585659227, -0.28630743346],[51.50570999464, -0.28550600685],[51.50538968178, -0.28450937827],[51.50364425624, -0.28137618171],[51.50277167788, -0.27986003801],[51.50277167788, -0.27986003801],[51.50276765264, -0.27985304418],[51.50209223387, -0.27917247055],[51.50052843591, -0.2780067116],[51.49987182754, -0.27738311875],[51.49874479649, -0.27595607466],[51.49570540839, -0.27107177814],[51.4952880256, -0.27020879586],[51.49492158603, -0.26914221544],[51.49461741054, -0.26803007429],[51.49447542257, -0.26694060845],[51.49450009304, -0.2661761603],[51.49460760363, -0.26493317096],[51.49470011041, -0.26389242917],[51.49510405624, -0.26020352799],[51.49529069168, -0.25642200817],[51.49529539136, -0.25552864659],[51.49526890491, -0.25462221712],[51.49526890491, -0.25462221712],[51.49490995737, -0.24236181984],[51.49482848299, -0.24112603403],[51.49463612357, -0.23969283971],[51.49416765347, -0.23664244205],[51.49413246427, -0.23609637831],[51.4938625608, -0.22952336733],[51.49389162508, -0.22847062012],[51.49387241422, -0.22779429393],[51.4937344074, -0.22699292561],[51.49354399647, -0.22629443585],[51.49330755644, -0.22552571115],[51.49310068802, -0.22492871185],[51.4928333043, -0.22449252917],[51.4920959202, -0.2235783194],[51.4920959202, -0.2235783194],[51.4910645424, -0.22229967955],[51.49062992288, -0.22150991913],[51.49034895321, -0.22077181035],[51.49018503026, -0.22004355659],[51.49011471448, -0.21896595054],[51.4901460911, -0.21807164222],[51.49041793613, -0.21643331258],[51.49047428308, -0.21540837889],[51.4904158226, -0.2139846506],[51.4904158226, -0.2139846506],[51.49040282633, -0.21366820117],[51.49016057498, -0.21134412118],[51.49011999668, -0.21045262339],[51.49019621778, -0.20896596118],[51.4903360229, -0.20811060601],[51.49088403769, -0.20513612287],[51.49092368436, -0.20478884879],[51.49094601713, -0.20448546898],[51.49083894854, -0.20336609718],[51.49056458459, -0.20189319214],[51.49044024696, -0.20140832334],[51.49016268591, -0.20090067952],[51.48978471879, -0.20029616374],[51.48962354255, -0.19975514055],[51.48955945267, -0.19909506012],[51.48954618492, -0.19823131581],[51.48964274665, -0.19749288036],[51.48993635411, -0.19670345334],[51.49050390242, -0.19560070223],[51.49171829011, -0.19376940871],[51.49171829011, -0.19376940871],[51.49244613635, -0.1926717502],[51.49403160383, -0.19052019112],[51.49444266042, -0.18976920715],[51.49471646166, -0.18886518215],[51.49482261759, -0.18816948014],[51.49490709594, -0.18665348339],[51.49482971321, -0.18572015513],[51.49425552631, -0.18320517722],[51.49425552631, -0.18320517722],[51.49387466921, -0.18153716156],[51.49378691891, -0.18051784029],[51.49378142925, -0.17900544763],[51.49407418278, -0.17527705428],[51.49401755653, -0.17336332487],[51.49401755653, -0.17336332487],[51.49394129639, -0.17078772496],[51.49399432205, -0.17015174248],[51.49410486084, -0.16974394965],[51.49426976895, -0.16936278863],[51.49441108677, -0.16919866068],[51.49473169233, -0.16899853537],[51.49510037907, -0.1689981679],[51.49536189764, -0.16904531378],[51.49584157367, -0.16924218993],[51.49640684781, -0.16916191401],[51.49657557542, -0.16902549263],[51.49682158759, -0.16865546415],[51.49754725513, -0.16732974508],[51.49787189295, -0.16681247356],[51.49821225073, -0.16615049125],[51.49849935922, -0.16553385907],[51.49976729498, -0.16323533984],[51.50015414521, -0.16267228786],[51.50074611019, -0.16200011802],[51.50112690177, -0.16162459327],[51.50140565956, -0.16125444556],[51.50140565956, -0.16125444556],[51.50154093013, -0.16107482473],[51.50161932788, -0.16091317727],[51.50179025681, -0.16034436908],[51.50203528527, -0.15934031773],[51.50217721135, -0.15864299072],[51.50225554705, -0.15790499789],[51.50234454305, -0.15612915575],[51.50243049075, -0.15530439673],[51.50268829722, -0.15367476289],[51.50268829722, -0.15367476289],[51.50318288971, -0.15054791446],[51.5033436452, -0.14990741464],[51.50355831772, -0.14926472576],[51.50382713453, -0.14863424531],[51.50439308278, -0.14745856884],[51.50584117644, -0.14463317644],[51.50620563109, -0.14379701293],[51.50714109072, -0.14194261337]]",
            "stopPoints": [
             {
              "$type": "Tfl.Api.Presentation.Entities.Identifier, Tfl.Api.Presentation.Entities",
              "id": "940GZZLUHNX",
              "name": "Hatton Cross Underground Station",
              "routeType": "Unknown",
              "status": "Unknown",
              "type": "StopPoint",
              "uri": "/StopPoint/940GZZLUHNX"
             },
             {
              "$type": "Tfl.Api.Presentation.Entities.Identifier, Tfl.Api.Presentation.Entities",
              "id": "940GZZLUHWT",
              "name": "Hounslow West Underground Station",
              "routeType": "Unknown",
              "status": "Unknown",
              "type": "StopPoint",
              "uri": "/StopPoint/940GZZLUHWT"
             },
             {
              "$type": "Tfl.Api.Presentation.Entities.Identifier, Tfl.Api.Presentation.Entities",
              "id": "940GZZLUHWC",
              "name": "Hounslow Central Underground Station",
              "routeType": "Unknown",
              "status": "Unknown",
              "type": "StopPoint",
              "uri": "/StopPoint/940GZZLUHWC"
             },
             {
              "$type": "Tfl.Api.Presentation.Entities.Identifier, Tfl.Api.Presentation.Entities",
              "id": "940GZZLUHWE",
              "name": "Hounslow East Underground Station",
              "routeType": "Unknown",
              "status": "Unknown",
              "type": "StopPoint",
              "uri": "/StopPoint/940GZZLUHWE"
             },
             {
              "$type": "Tfl.Api.Presentation.Entities.Identifier, Tfl.Api.Presentation.Entities",
              "id": "940GZZLUOSY",
              "name": "Osterley Underground Station",
              "routeType": "Unknown",
              "status": "Unknown",
              "type": "StopPoint",
              "uri": "/StopPoint/940GZZLUOSY"
             },
             {
              "$type": "Tfl.Api.Presentation.Entities.Identifier, Tfl.Api.Presentation.Entities",
              "id": "940GZZLUBOS",
              "name": "Boston Manor Underground Station",
              "routeType": "Unknown",
              "status": "Unknown",
              "type": "StopPoint",
              "uri": "/StopPoint/940GZZLUBOS"
             },
             {
              "$type": "Tfl.Api.Presentation.Entities.Identifier, Tfl.Api.Presentation.Entities",
              "id": "940GZZLUNFD",
              "name": "Northfields Underground Station",
              "routeType": "Unknown",
              "status": "Unknown",
              "type": "StopPoint",
              "uri": "/StopPoint/940GZZLUNFD"
             },
             {
              "$type": "Tfl.Api.Presentation.Entities.Identifier, Tfl.Api.Presentation.Entities",
              "id": "940GZZLUSEA",
              "name": "South Ealing Underground Station",
              "routeType": "Unknown",
              "status": "Unknown",
              "type": "StopPoint",
              "uri": "/StopPoint/940GZZLUSEA"
             },
             {
              "$type": "Tfl.Api.Presentation.Entities.Identifier, Tfl.Api.Presentation.Entities",
              "id": "940GZZLUACT",
              "name": "Acton Town Underground Station",
              "routeType": "Unknown",
              "status": "Unknown",
              "type": "StopPoint",
              "uri": "/StopPoint/940GZZLUACT"
             },
             {
              "$type": "Tfl.Api.Presentation.Entities.Identifier, Tfl.Api.Presentation.Entities",
              "id": "940GZZLUTNG",
              "name": "Turnham Green Underground Station",
              "routeType": "Unknown",
              "status": "Unknown",
              "type": "StopPoint",
              "uri": "/StopPoint/940GZZLUTNG"
             },
             {
              "$type": "Tfl.Api.Presentation.Entities.Identifier, Tfl.Api.Presentation.Entities",
              "id": "940GZZLUHSD",
              "name": "Hammersmith (Dist&Picc Line) Underground Station",
              "routeType": "Unknown",
              "status": "Unknown",
              "type": "StopPoint",
              "uri": "/StopPoint/940GZZLUHSD"
             },
             {
              "$type": "Tfl.Api.Presentation.Entities.Identifier, Tfl.Api.Presentation.Entities",
              "id": "940GZZLUBSC",
              "name": "Barons Court Underground Station",
              "routeType": "Unknown",
              "status": "Unknown",
              "type": "StopPoint",
              "uri": "/StopPoint/940GZZLUBSC"
             },
             {
              "$type": "Tfl.Api.Presentation.Entities.Identifier, Tfl.Api.Presentation.Entities",
              "id": "940GZZLUECT",
              "name": "Earl's Court Underground Station",
              "routeType": "Unknown",
              "status": "Unknown",
              "type": "StopPoint",
              "uri": "/StopPoint/940GZZLUECT"
             },
             {
              "$type": "Tfl.Api.Presentation.Entities.Identifier, Tfl.Api.Presentation.Entities",
              "id": "940GZZLUGTR",
              "name": "Gloucester Road Underground Station",
              "routeType": "Unknown",
              "status": "Unknown",
              "type": "StopPoint",
              "uri": "/StopPoint/940GZZLUGTR"
             },
             {
              "$type": "Tfl.Api.Presentation.Entities.Identifier, Tfl.Api.Presentation.Entities",
              "id": "940GZZLUKNB",
              "name": "Knightsbridge Underground Station",
              "routeType": "Unknown",
              "status": "Unknown",
              "type": "StopPoint",
              "uri": "/StopPoint/940GZZLUKNB"
             },
             {
              "$type": "Tfl.Api.Presentation.Entities.Identifier, Tfl.Api.Presentation.Entities",
              "id": "940GZZLUHPC",
              "name": "Hyde Park Corner Underground Station",
              "routeType": "Unknown",
              "status": "Unknown",
              "type": "StopPoint",
              "uri": "/StopPoint/940GZZLUHPC"
             },
             {
              "$type": "Tfl.Api.Presentation.Entities.Identifier, Tfl.Api.Presentation.Entities",
              "id": "940GZZLUGPK",
              "name": "Green Park Underground Station",
              "routeType": "Unknown",
              "status": "Unknown",
              "type": "StopPoint",
              "uri": "/StopPoint/940GZZLUGPK"
             }
            ]
           },
           "plannedWorks": [],
           "routeOptions": [
            {
             "$type": "Tfl.Api.Presentation.Entities.JourneyPlanner.RouteOption, Tfl.Api.Presentation.Entities",
             "directions": [
              "Cockfosters Underground Station",
              "Arnos Grove Underground Station"
             ],
             "lineIdentifier": {
              "$type": "Tfl.Api.Presentation.Entities.Identifier, Tfl.Api.Presentation.Entities",
              "crowding": {
               "$type": "Tfl.Api.Presentation.Entities.Crowding, Tfl.Api.Presentation.Entities"
              },
              "id": "piccadilly",
              "name": "Piccadilly",
              "routeType": "Unknown",
              "status": "Unknown",
              "type": "Line",
              "uri": "/Line/piccadilly"
             },
             "name": "Piccadilly"
            }
           ]
          },
          {
           "$type": "Tfl.Api.Presentation.Entities.JourneyPlanner.Leg, Tfl.Api.Presentation.Entities",
           "arrivalPoint": {
            "$type": "Tfl.Api.Presentation.Entities.StopPoint, Tfl.Api.Presentation.Entities",
            "additionalProperties": [],
            "commonName": "London Bridge Underground Station",
            "icsCode": "1000139",
            "lat": 51.50583751486,
            "lon": -0.08785894256,
            "naptanId": "940GZZLULNB",
            "placeType": "StopPoint",
            "platformName": ""
           },
           "arrivalTime": "2021-04-30T00:35:00",
           "departurePoint": {
            "$type": "Tfl.Api.Presentation.Entities.StopPoint, Tfl.Api.Presentation.Entities",
            "additionalProperties": [],
            "commonName": "Green Park Underground Station",
            "icsCode": "1000093",
            "lat": 51.506161524460005,
            "lon": -0.14157969695,
            "naptanId": "940GZZLUGPK",
            "placeType": "StopPoint",
            "platformName": ""
           },
           "departureTime": "2021-04-30T00:29:00",
           "disruptions": [
            {
             "$type": "Tfl.Api.Presentation.Entities.Disruption, Tfl.Api.Presentation.Entities",
             "additionalInfo": "",
             "category": "PlannedWork",
             "categoryDescription": "PlannedWork",
             "created": "2018-01-22T11:40:00",
             "description": "LONDON BRIDGE STATION: Please note that step free interchange between the Jubilee and Northern lines is partly at street level, in both directions. Lifts are available between Northern line and Borough High Street entrance then via Borough High Street, St Thomas Street and Joiner Street to the main Underground ticket hall from where lifts are available to/from the Jubilee line.",
             "lastUpdate": "2018-03-05T15:29:00",
             "summary": "",
             "type": "stopInfo"
            }
           ],
           "duration": 6,
           "hasFixedLocations": true,
           "instruction": {
            "$type": "Tfl.Api.Presentation.Entities.Instruction, Tfl.Api.Presentation.Entities",
            "detailed": "Jubilee line towards Stratford",
            "steps": [],
            "summary": "Jubilee line to London Bridge"
           },
           "isDisrupted": true,
           "mode": {
            "$type": "Tfl.Api.Presentation.Entities.Identifier, Tfl.Api.Presentation.Entities",
            "id": "tube",
            "name": "tube",
            "routeType": "Unknown",
            "status": "Unknown",
            "type": "Mode"
           },
           "obstacles": [],
           "path": {
            "$type": "Tfl.Api.Presentation.Entities.JourneyPlanner.Path, Tfl.Api.Presentation.Entities",
            "elevation": [],
            "lineString": "[[51.50616302255, -0.14157907788],[51.50591197371, -0.14001919115],[51.50578760902, -0.13954873597],[51.50560033551, -0.13908084636],[51.5020131521, -0.1312158545],[51.50169268756, -0.13029241786],[51.50143374446, -0.12928002483],[51.50123402222, -0.12803468442],[51.50108659683, -0.12668635271],[51.50099956538, -0.12485966609],[51.50099956538, -0.12485966609],[51.5009783417, -0.12441429778],[51.50106337511, -0.12298439272],[51.50170090818, -0.11955780858],[51.50333888904, -0.11302583748],[51.50333888904, -0.11302583748],[51.50398263824, -0.11045815313],[51.50426792153, -0.10863078519],[51.50435392304, -0.10727275095],[51.50429122782, -0.10537666705],[51.50429122782, -0.10537666705],[51.50407248611, -0.0987685702],[51.50422182972, -0.09577963576],[51.50438856048, -0.09441820849],[51.50474305469, -0.09299129429],[51.50495952019, -0.09247792387],[51.50527608892, -0.09148484967],[51.50575025934, -0.08967822594],[51.50586159146, -0.08823258945],[51.50583318936, -0.08785978875]]",
            "stopPoints": [
             {
              "$type": "Tfl.Api.Presentation.Entities.Identifier, Tfl.Api.Presentation.Entities",
              "id": "940GZZLUWSM",
              "name": "Westminster Underground Station",
              "routeType": "Unknown",
              "status": "Unknown",
              "type": "StopPoint",
              "uri": "/StopPoint/940GZZLUWSM"
             },
             {
              "$type": "Tfl.Api.Presentation.Entities.Identifier, Tfl.Api.Presentation.Entities",
              "id": "940GZZLUWLO",
              "name": "Waterloo Underground Station",
              "routeType": "Unknown",
              "status": "Unknown",
              "type": "StopPoint",
              "uri": "/StopPoint/940GZZLUWLO"
             },
             {
              "$type": "Tfl.Api.Presentation.Entities.Identifier, Tfl.Api.Presentation.Entities",
              "id": "940GZZLUSWK",
              "name": "Southwark Underground Station",
              "routeType": "Unknown",
              "status": "Unknown",
              "type": "StopPoint",
              "uri": "/StopPoint/940GZZLUSWK"
             },
             {
              "$type": "Tfl.Api.Presentation.Entities.Identifier, Tfl.Api.Presentation.Entities",
              "id": "940GZZLULNB",
              "name": "London Bridge Underground Station",
              "routeType": "Unknown",
              "status": "Unknown",
              "type": "StopPoint",
              "uri": "/StopPoint/940GZZLULNB"
             }
            ]
           },
           "plannedWorks": [],
           "routeOptions": [
            {
             "$type": "Tfl.Api.Presentation.Entities.JourneyPlanner.RouteOption, Tfl.Api.Presentation.Entities",
             "directions": [
              "Stratford Underground Station"
             ],
             "lineIdentifier": {
              "$type": "Tfl.Api.Presentation.Entities.Identifier, Tfl.Api.Presentation.Entities",
              "crowding": {
               "$type": "Tfl.Api.Presentation.Entities.Crowding, Tfl.Api.Presentation.Entities"
              },
              "id": "jubilee",
              "name": "Jubilee",
              "routeType": "Unknown",
              "status": "Unknown",
              "type": "Line",
              "uri": "/Line/jubilee"
             },
             "name": "Jubilee"
            }
           ]
          },
          {
           "$type": "Tfl.Api.Presentation.Entities.JourneyPlanner.Leg, Tfl.Api.Presentation.Entities",
           "arrivalPoint": {
            "$type": "Tfl.Api.Presentation.Entities.Place, Tfl.Api.Presentation.Entities",
            "commonName": "SE1 4TW",
            "lat": 51.496527864600004,
            "lon": -0.08275956985,
            "placeType": "StopPoint"
           },
           "arrivalTime": "2021-04-30T00:58:00",
           "departurePoint": {
            "$type": "Tfl.Api.Presentation.Entities.StopPoint, Tfl.Api.Presentation.Entities",
            "additionalProperties": [],
            "commonName": "London Bridge Underground Station",
            "icsCode": "1000139",
            "lat": 51.50583751486,
            "lon": -0.08785894256,
            "naptanId": "940GZZLULNB",
            "placeType": "StopPoint",
            "platformName": ""
           },
           "departureTime": "2021-04-30T00:35:00",
           "disruptions": [],
           "distance": 1270,
           "duration": 23,
           "hasFixedLocations": false,
           "instruction": {
            "$type": "Tfl.Api.Presentation.Entities.Instruction, Tfl.Api.Presentation.Entities",
            "detailed": "Walk to SE1 4TW",
            "steps": [
             {
              "$type": "Tfl.Api.Presentation.Entities.InstructionStep, Tfl.Api.Presentation.Entities",
              "cumulativeDistance": 14,
              "cumulativeTravelTime": 13,
              "description": " for 14 metres",
              "descriptionHeading": "Continue along ",
              "distance": 14,
              "latitude": 51.50573620429,
              "longitude": -0.08660953442,
              "pathAttribute": {
               "$type": "Tfl.Api.Presentation.Entities.PathAttribute, Tfl.Api.Presentation.Entities"
              },
              "skyDirection": 403,
              "skyDirectionDescription": "North",
              "streetName": "",
              "trackType": "None",
              "turnDirection": "STRAIGHT"
             },
             {
              "$type": "Tfl.Api.Presentation.Entities.InstructionStep, Tfl.Api.Presentation.Entities",
              "cumulativeDistance": 43,
              "cumulativeTravelTime": 39,
              "description": "on to Duke Street Hill, continue for 29 metres",
              "descriptionHeading": "Take a slight right",
              "distance": 29,
              "latitude": 51.50582371923,
              "longitude": -0.08646177031,
              "pathAttribute": {
               "$type": "Tfl.Api.Presentation.Entities.PathAttribute, Tfl.Api.Presentation.Entities"
              },
              "skyDirection": 464,
              "skyDirectionDescription": "North",
              "streetName": "Duke Street Hill",
              "trackType": "None",
              "turnDirection": "SLIGHT_RIGHT"
             },
             {
              "$type": "Tfl.Api.Presentation.Entities.InstructionStep, Tfl.Api.Presentation.Entities",
              "cumulativeDistance": 252,
              "cumulativeTravelTime": 227,
              "description": "on to Tooley Street, continue for 209 metres",
              "descriptionHeading": "Continue along ",
              "distance": 209,
              "latitude": 51.50573626196,
              "longitude": -0.08606196091,
              "pathAttribute": {
               "$type": "Tfl.Api.Presentation.Entities.PathAttribute, Tfl.Api.Presentation.Entities"
              },
              "skyDirection": 467,
              "skyDirectionDescription": "North",
              "streetName": "Tooley Street",
              "trackType": "None",
              "turnDirection": "STRAIGHT"
             },
             {
              "$type": "Tfl.Api.Presentation.Entities.InstructionStep, Tfl.Api.Presentation.Entities",
              "cumulativeDistance": 1168,
              "cumulativeTravelTime": 1052,
              "description": "on to Bermondsey Street, continue for 916 metres",
              "descriptionHeading": "Take a slight right",
              "distance": 916,
              "latitude": 51.504741843000005,
              "longitude": -0.08353874691,
              "pathAttribute": {
               "$type": "Tfl.Api.Presentation.Entities.PathAttribute, Tfl.Api.Presentation.Entities"
              },
              "skyDirection": 509,
              "skyDirectionDescription": "North",
              "streetName": "Bermondsey Street",
              "trackType": "None",
              "turnDirection": "SLIGHT_RIGHT"
             },
             {
              "$type": "Tfl.Api.Presentation.Entities.InstructionStep, Tfl.Api.Presentation.Entities",
              "cumulativeDistance": 1197,
              "cumulativeTravelTime": 1077,
              "description": "on to Decima Street, continue for 29 metres",
              "descriptionHeading": "Turn right",
              "distance": 29,
              "latitude": 51.49690698351,
              "longitude": -0.08229704433999999,
              "pathAttribute": {
               "$type": "Tfl.Api.Presentation.Entities.PathAttribute, Tfl.Api.Presentation.Entities"
              },
              "skyDirection": 304,
              "skyDirectionDescription": "North",
              "streetName": "Decima Street",
              "trackType": "None",
              "turnDirection": "RIGHT"
             },
             {
              "$type": "Tfl.Api.Presentation.Entities.InstructionStep, Tfl.Api.Presentation.Entities",
              "cumulativeDistance": 1216,
              "cumulativeTravelTime": 1095,
              "description": "on to Alice Street, continue for 19 metres",
              "descriptionHeading": "Turn left",
              "distance": 19,
              "latitude": 51.49705641632001,
              "longitude": -0.08263654094999999,
              "pathAttribute": {
               "$type": "Tfl.Api.Presentation.Entities.PathAttribute, Tfl.Api.Presentation.Entities"
              },
              "skyDirection": 216,
              "skyDirectionDescription": "North",
              "streetName": "Alice Street",
              "trackType": "None",
              "turnDirection": "LEFT"
             },
             {
              "$type": "Tfl.Api.Presentation.Entities.InstructionStep, Tfl.Api.Presentation.Entities",
              "cumulativeDistance": 1270,
              "cumulativeTravelTime": 1140,
              "description": "for 54 metres",
              "descriptionHeading": "Continue along ",
              "distance": 54,
              "latitude": 51.49692420908001,
              "longitude": -0.08280056603000001,
              "pathAttribute": {
               "$type": "Tfl.Api.Presentation.Entities.PathAttribute, Tfl.Api.Presentation.Entities"
              },
              "skyDirection": 210,
              "skyDirectionDescription": "North",
              "streetName": "",
              "trackType": "None",
              "turnDirection": "STRAIGHT"
             }
            ],
            "summary": "Walk to SE1 4TW"
           },
           "isDisrupted": false,
           "mode": {
            "$type": "Tfl.Api.Presentation.Entities.Identifier, Tfl.Api.Presentation.Entities",
            "id": "walking",
            "name": "walking",
            "routeType": "Unknown",
            "status": "Unknown",
            "type": "Mode"
           },
           "obstacles": [
            {
             "$type": "Tfl.Api.Presentation.Entities.JourneyPlanner.Obstacle, Tfl.Api.Presentation.Entities",
             "incline": "UP",
             "position": "BEFORE",
             "stopId": 1000139,
             "type": "ESCALATOR"
            },
            {
             "$type": "Tfl.Api.Presentation.Entities.JourneyPlanner.Obstacle, Tfl.Api.Presentation.Entities",
             "incline": "LEVEL",
             "position": "BEFORE",
             "stopId": 1000139,
             "type": "WALKWAY"
            }
           ],
           "path": {
            "$type": "Tfl.Api.Presentation.Entities.JourneyPlanner.Path, Tfl.Api.Presentation.Entities",
            "elevation": [],
            "lineString": "[[51.50583751486, -0.08785894256],[51.50586018302, -0.08814618959],[51.50572698292, -0.08659551096],[51.50573620429, -0.08660953442],[51.50582371923, -0.08646177031],[51.50578401402, -0.08623287728],[51.5057556448, -0.08614760733],[51.50573626196, -0.08606196091],[51.50564833323, -0.0856333533],[51.50550742478, -0.08526460714],[51.50533080462, -0.08491177021],[51.50528422644, -0.08481285579],[51.50510666415, -0.08440242352],[51.50506907198, -0.0843031332],[51.50492910045, -0.08399199446],[51.504741843, -0.08353874691],[51.50448622269, -0.08330451269],[51.50373587802, -0.0830622247],[51.50271264457, -0.08262967418],[51.50254072548, -0.08256484657],[51.50245914142, -0.0825250449],[51.50145411434, -0.08210616175],[51.5013727656, -0.08208076031],[51.5010830808, -0.08196324778],[51.50101071846, -0.08193746947],[51.50078440947, -0.08184611402],[51.50056755785, -0.08178317861],[51.50041361114, -0.08171760232],[51.5001962884, -0.08162587172],[51.49996099275, -0.08153489672],[51.49993379796, -0.0815216308],[51.49984299159, -0.08146781252],[51.49976164271, -0.08144241305],[51.49945351332, -0.08129686748],[51.49919125816, -0.08120702787],[51.49889235049, -0.08107550587],[51.49873887459, -0.08103872958],[51.49825596375, -0.08120308739],[51.49806014701, -0.0813265703],[51.49792652845, -0.0814042183],[51.49765218888, -0.08167506891],[51.49730689913, -0.08200652327],[51.49690698351, -0.08229704434],[51.49705641632, -0.08263654095],[51.49692420908, -0.08280056603],[51.49681801947, -0.08290587067],[51.49672415379, -0.08266489146],[51.49660187438, -0.08288612622],[51.4965278646, -0.08275956985]]",
            "stopPoints": []
           },
           "plannedWorks": [],
           "routeOptions": [
            {
             "$type": "Tfl.Api.Presentation.Entities.JourneyPlanner.RouteOption, Tfl.Api.Presentation.Entities",
             "directions": [
              ""
             ],
             "name": ""
            }
           ]
          }
         ],
         "startDateTime": "2021-04-29T23:22:00"
        }
       ],
       "lines": [
        {
         "$type": "Tfl.Api.Presentation.Entities.Line, Tfl.Api.Presentation.Entities",
         "created": "2021-04-27T12:51:57.127Z",
         "crowding": {
          "$type": "Tfl.Api.Presentation.Entities.Crowding, Tfl.Api.Presentation.Entities"
         },
         "disruptions": [],
         "id": "jubilee",
         "lineStatuses": [
          {
           "$type": "Tfl.Api.Presentation.Entities.LineStatus, Tfl.Api.Presentation.Entities",
           "created": "0001-01-01T00:00:00",
           "id": 0,
           "statusSeverity": 10,
           "statusSeverityDescription": "Good Service",
           "validityPeriods": []
          }
         ],
         "modeName": "tube",
         "modified": "2021-04-27T12:51:57.127Z",
         "name": "Jubilee",
         "routeSections": [],
         "serviceTypes": [
          {
           "$type": "Tfl.Api.Presentation.Entities.LineServiceTypeInfo, Tfl.Api.Presentation.Entities",
           "name": "Regular",
           "uri": "/Line/Route?ids=Jubilee&serviceTypes=Regular"
          },
          {
           "$type": "Tfl.Api.Presentation.Entities.LineServiceTypeInfo, Tfl.Api.Presentation.Entities",
           "name": "Night",
           "uri": "/Line/Route?ids=Jubilee&serviceTypes=Night"
          }
         ]
        },
        {
         "$type": "Tfl.Api.Presentation.Entities.Line, Tfl.Api.Presentation.Entities",
         "created": "2021-04-27T12:51:57.11Z",
         "crowding": {
          "$type": "Tfl.Api.Presentation.Entities.Crowding, Tfl.Api.Presentation.Entities"
         },
         "disruptions": [],
         "id": "piccadilly",
         "lineStatuses": [
          {
           "$type": "Tfl.Api.Presentation.Entities.LineStatus, Tfl.Api.Presentation.Entities",
           "created": "0001-01-01T00:00:00",
           "id": 0,
           "statusSeverity": 10,
           "statusSeverityDescription": "Good Service",
           "validityPeriods": []
          }
         ],
         "modeName": "tube",
         "modified": "2021-04-27T12:51:57.11Z",
         "name": "Piccadilly",
         "routeSections": [],
         "serviceTypes": [
          {
           "$type": "Tfl.Api.Presentation.Entities.LineServiceTypeInfo, Tfl.Api.Presentation.Entities",
           "name": "Regular",
           "uri": "/Line/Route?ids=Piccadilly&serviceTypes=Regular"
          },
          {
           "$type": "Tfl.Api.Presentation.Entities.LineServiceTypeInfo, Tfl.Api.Presentation.Entities",
           "name": "Night",
           "uri": "/Line/Route?ids=Piccadilly&serviceTypes=Night"
          }
         ]
        }
       ],
       "recommendedMaxAgeMinutes": 2,
       "searchCriteria": {
        "$type": "Tfl.Api.Presentation.Entities.JourneyPlanner.SearchCriteria, Tfl.Api.Presentation.Entities",
        "dateTime": "2021-04-29T23:10:00",
        "dateTimeType": "Departing",
        "timeAdjustments": {
         "$type": "Tfl.Api.Presentation.Entities.JourneyPlanner.TimeAdjustments, Tfl.Api.Presentation.Entities",
         "earlier": {
          "$type": "Tfl.Api.Presentation.Entities.JourneyPlanner.TimeAdjustment, Tfl.Api.Presentation.Entities",
          "date": "20210429",
          "time": "2308",
          "timeIs": "departing",
          "uri": "/journey/journeyresults/tw61ap/to/se14tw?journeypreference=leasttime&mode=tube&time=2308&date=20210429&timeIs=departing"
         },
         "earliest": {
          "$type": "Tfl.Api.Presentation.Entities.JourneyPlanner.TimeAdjustment, Tfl.Api.Presentation.Entities",
          "date": "20210429",
          "time": "0300",
          "timeIs": "departing",
          "uri": "/journey/journeyresults/tw61ap/to/se14tw?journeypreference=leasttime&mode=tube&time=0300&date=20210429&timeIs=departing"
         },
         "later": {
          "$type": "Tfl.Api.Presentation.Entities.JourneyPlanner.TimeAdjustment, Tfl.Api.Presentation.Entities",
          "date": "20210429",
          "time": "2322",
          "timeIs": "departing",
          "uri": "/journey/journeyresults/tw61ap/to/se14tw?journeypreference=leasttime&mode=tube&time=2322&date=20210429&timeIs=departing"
         },
         "latest": {
          "$type": "Tfl.Api.Presentation.Entities.JourneyPlanner.TimeAdjustment, Tfl.Api.Presentation.Entities",
          "date": "20210430",
          "time": "0300",
          "timeIs": "departing",
          "uri": "/journey/journeyresults/tw61ap/to/se14tw?journeypreference=leasttime&mode=tube&time=0300&date=20210430&timeIs=departing"
         }
        }
       },
       "stopMessages": []
      },
      "text/plain": [
       "<IPython.core.display.JSON object>"
      ]
     },
     "execution_count": 91,
     "metadata": {
      "application/json": {
       "expanded": false,
       "root": "root"
      }
     },
     "output_type": "execute_result"
    }
   ],
   "source": [
    "journey = requests.get('https://api.tfl.gov.uk/journey/journeyresults/TW61AP/to/SE14TW?journeyPreference=LeastTime&mode=tube')\n",
    "journey = journey.json()\n",
    "JSON(journey)"
   ]
  },
  {
   "cell_type": "code",
   "execution_count": 92,
   "metadata": {},
   "outputs": [
    {
     "data": {
      "application/json": {
       "$type": "Tfl.Api.Presentation.Entities.JourneyPlanner.ItineraryResult, Tfl.Api.Presentation.Entities",
       "journeyVector": {
        "$type": "Tfl.Api.Presentation.Entities.JourneyPlanner.JourneyVector, Tfl.Api.Presentation.Entities",
        "from": "TW61AP",
        "to": "SE14TW",
        "uri": "/journey/journeyresults/tw61ap/to/se14tw?journeypreference=leasttime&mode=bus",
        "via": ""
       },
       "journeys": [
        {
         "$type": "Tfl.Api.Presentation.Entities.JourneyPlanner.Journey, Tfl.Api.Presentation.Entities",
         "arrivalDateTime": "2021-04-30T01:14:00",
         "duration": 120,
         "legs": [
          {
           "$type": "Tfl.Api.Presentation.Entities.JourneyPlanner.Leg, Tfl.Api.Presentation.Entities",
           "arrivalPoint": {
            "$type": "Tfl.Api.Presentation.Entities.StopPoint, Tfl.Api.Presentation.Entities",
            "additionalProperties": [],
            "commonName": "Heathrow Central Bus Stn (Rail-Air)",
            "icsCode": "1008016",
            "lat": 51.47136544841,
            "lon": -0.45345569183,
            "naptanId": "910GHTRWCBS",
            "placeType": "StopPoint",
            "platformName": "19"
           },
           "arrivalTime": "2021-04-29T23:20:00",
           "departurePoint": {
            "$type": "Tfl.Api.Presentation.Entities.StopPoint, Tfl.Api.Presentation.Entities",
            "additionalProperties": [],
            "commonName": "TW6 1AP",
            "icsCode": "99999997",
            "lat": 51.47237578901,
            "lon": -0.4509737622,
            "placeType": "StopPoint",
            "platformName": ""
           },
           "departureTime": "2021-04-29T23:14:00",
           "disruptions": [],
           "distance": 363,
           "duration": 6,
           "hasFixedLocations": true,
           "instruction": {
            "$type": "Tfl.Api.Presentation.Entities.Instruction, Tfl.Api.Presentation.Entities",
            "detailed": "Walk to Heathrow Central Bus Station",
            "steps": [
             {
              "$type": "Tfl.Api.Presentation.Entities.InstructionStep, Tfl.Api.Presentation.Entities",
              "cumulativeDistance": 166,
              "cumulativeTravelTime": 153,
              "description": " for 166 metres",
              "descriptionHeading": "Continue along ",
              "distance": 166,
              "latitude": 51.47215621597,
              "longitude": -0.45136995977,
              "pathAttribute": {
               "$type": "Tfl.Api.Presentation.Entities.PathAttribute, Tfl.Api.Presentation.Entities"
              },
              "skyDirection": 504,
              "skyDirectionDescription": "North",
              "streetName": "",
              "trackType": "None",
              "turnDirection": "STRAIGHT"
             },
             {
              "$type": "Tfl.Api.Presentation.Entities.InstructionStep, Tfl.Api.Presentation.Entities",
              "cumulativeDistance": 196,
              "cumulativeTravelTime": 179,
              "description": "on to Inner Ring East, continue for 30 metres",
              "descriptionHeading": "Take a slight right",
              "distance": 30,
              "latitude": 51.471216443630006,
              "longitude": -0.4517041426,
              "pathAttribute": {
               "$type": "Tfl.Api.Presentation.Entities.PathAttribute, Tfl.Api.Presentation.Entities"
              },
              "skyDirection": 312,
              "skyDirectionDescription": "North",
              "streetName": "Inner Ring East",
              "trackType": "None",
              "turnDirection": "SLIGHT_RIGHT"
             },
             {
              "$type": "Tfl.Api.Presentation.Entities.InstructionStep, Tfl.Api.Presentation.Entities",
              "cumulativeDistance": 363,
              "cumulativeTravelTime": 332,
              "description": "on to Control Tower Road, continue for 167 metres",
              "descriptionHeading": "Continue along ",
              "distance": 167,
              "latitude": 51.47140038817,
              "longitude": -0.45201467883,
              "pathAttribute": {
               "$type": "Tfl.Api.Presentation.Entities.PathAttribute, Tfl.Api.Presentation.Entities"
              },
              "skyDirection": 506,
              "skyDirectionDescription": "North",
              "streetName": "Control Tower Road",
              "trackType": "None",
              "turnDirection": "U_TURN"
             }
            ],
            "summary": "Walk to Heathrow Central Bus Station"
           },
           "isDisrupted": false,
           "mode": {
            "$type": "Tfl.Api.Presentation.Entities.Identifier, Tfl.Api.Presentation.Entities",
            "id": "walking",
            "name": "walking",
            "routeType": "Unknown",
            "status": "Unknown",
            "type": "Mode"
           },
           "obstacles": [],
           "path": {
            "$type": "Tfl.Api.Presentation.Entities.JourneyPlanner.Path, Tfl.Api.Presentation.Entities",
            "elevation": [],
            "lineString": "[[51.47237578901, -0.4509737622],[51.47215621597, -0.45136995977],[51.47162672488, -0.45076875706],[51.4714825331, -0.45074484442],[51.47121897008, -0.45121451622],[51.47121644363, -0.4517041426],[51.47140038817, -0.45201467883],[51.47129100956, -0.45190319442],[51.47104756751, -0.45185384127],[51.47086299442, -0.45217684784],[51.47097389233, -0.45240346593],[51.47101509723, -0.4534819363]]",
            "stopPoints": []
           },
           "plannedWorks": [],
           "routeOptions": [
            {
             "$type": "Tfl.Api.Presentation.Entities.JourneyPlanner.RouteOption, Tfl.Api.Presentation.Entities",
             "directions": [
              ""
             ],
             "name": ""
            }
           ]
          },
          {
           "$type": "Tfl.Api.Presentation.Entities.JourneyPlanner.Leg, Tfl.Api.Presentation.Entities",
           "arrivalPoint": {
            "$type": "Tfl.Api.Presentation.Entities.StopPoint, Tfl.Api.Presentation.Entities",
            "additionalProperties": [],
            "commonName": "Hounslow Bus Station",
            "icsCode": "1008392",
            "lat": 51.471188317010004,
            "lon": -0.35519312050999996,
            "naptanId": "490G000601",
            "placeType": "StopPoint",
            "platformName": "D",
            "stopLetter": "D"
           },
           "arrivalTime": "2021-04-29T23:45:00",
           "departurePoint": {
            "$type": "Tfl.Api.Presentation.Entities.StopPoint, Tfl.Api.Presentation.Entities",
            "additionalProperties": [],
            "commonName": "Heathrow Central Bus Stn (Rail-Air)",
            "icsCode": "1008016",
            "lat": 51.47136544841,
            "lon": -0.45345569183,
            "naptanId": "910GHTRWCBS",
            "placeType": "StopPoint",
            "platformName": "19"
           },
           "departureTime": "2021-04-29T23:20:00",
           "disruptions": [
            {
             "$type": "Tfl.Api.Presentation.Entities.Disruption, Tfl.Api.Presentation.Entities",
             "additionalInfo": "Find out more and&nbsp;<a href=\"https://tfl.gov.uk/modes/buses/bus-changes?intcmp=47904#on-this-page-1\">which routes</a> are affected.",
             "category": "PlannedWork",
             "categoryDescription": "PlannedWork",
             "created": "2021-03-04T11:18:00",
             "description": "We are committed to helping London's schools remain open and operate safely and to help this 200 extra buses on our network continue to operate. We will also be prioritising some of our bus services for school travel from this date. Government guidance allows for all seats to be occupied on these 'school services', doubling their capacity, which is currently limited due to necessary social distancing. These 'school services' will be clearly signed and will operate on several key routes between 0730-0900 (some routes will run until 0930) and 1430-1630 on weekdays. On designated routes 'school services' will operate on an every other bus basis. We ask that schoolchildren travelling without adults use the designated 'school services' where these are provided, to help ensure space for customers on other services.",
             "lastUpdate": "2021-04-19T12:42:00",
             "summary": "",
             "type": "lineInfo"
            }
           ],
           "duration": 25,
           "hasFixedLocations": true,
           "instruction": {
            "$type": "Tfl.Api.Presentation.Entities.Instruction, Tfl.Api.Presentation.Entities",
            "detailed": "111 bus towards Kingston",
            "steps": [],
            "summary": "111 bus to Hounslow Bus Station"
           },
           "isDisrupted": true,
           "mode": {
            "$type": "Tfl.Api.Presentation.Entities.Identifier, Tfl.Api.Presentation.Entities",
            "id": "bus",
            "name": "bus",
            "routeType": "Unknown",
            "status": "Unknown",
            "type": "Mode"
           },
           "obstacles": [],
           "path": {
            "$type": "Tfl.Api.Presentation.Entities.JourneyPlanner.Path, Tfl.Api.Presentation.Entities",
            "elevation": [],
            "lineString": "[[51.47101407422, -0.45348903241],[51.47102977877, -0.45391338582],[51.47123340134, -0.45435284892],[51.47164382467, -0.45410860501],[51.47176814204, -0.45398921576],[51.4718389094, -0.45390043298],[51.47199993852, -0.45383739555],[51.47215027137, -0.45364513232],[51.47265000589, -0.45335466072],[51.47292750196, -0.45325888387],[51.47348382278, -0.45316807442],[51.47415718024, -0.45308770308],[51.47983216464, -0.45315493627],[51.48028233488, -0.45319731136],[51.48051216594, -0.45357836826],[51.4805808203, -0.45537619694],[51.48058255226, -0.45687386359],[51.480532032, -0.45713478996],[51.48032199499, -0.45757391089],[51.48025907736, -0.45757603333],[51.47999264857, -0.45782983811],[51.48000068956, -0.45912565839],[51.48004790025, -0.45929687979],[51.48024791081, -0.45946295338],[51.48031159651, -0.45944031377],[51.48031159651, -0.45944031377],[51.48056117556, -0.45935159034],[51.48067291611, -0.45895899209],[51.48067026775, -0.45875746417],[51.48081143083, -0.45855108799],[51.48100936126, -0.45855881648],[51.4810906338, -0.45858487926],[51.48112318079, -0.45832455735],[51.48128929481, -0.45591391834],[51.48129013154, -0.45529462871],[51.48129236583, -0.45501490104],[51.48129236583, -0.45501490104],[51.48129691805, -0.45444471504],[51.4813390818, -0.45355040017],[51.48137203681, -0.45059698657],[51.48135277608, -0.4498199607],[51.4812593432, -0.44824648928],[51.4812593432, -0.44824648928],[51.48124865507, -0.44806651712],[51.48118141416, -0.44638383501],[51.48115790672, -0.44596699318],[51.48110660893, -0.44485074433],[51.48110660893, -0.44485074433],[51.48105679557, -0.44376702021],[51.48103806298, -0.44303318812],[51.48101148482, -0.44238603203],[51.48094665055, -0.44089050135],[51.48091833743, -0.44011379483],[51.48089063509, -0.43919645045],[51.48089063509, -0.43919645045],[51.48085402792, -0.43798459424],[51.48083621828, -0.43732274234],[51.48077896367, -0.43572615539],[51.48076859265, -0.43494884035],[51.48075211113, -0.43438775421],[51.48074139338, -0.43425850962],[51.48074004802, -0.43415774669],[51.48072740776, -0.4338845552],[51.48069032907, -0.43309839139],[51.48069032907, -0.43309839139],[51.48065213014, -0.43228859374],[51.48063170332, -0.42874658466],[51.4807350556, -0.42651532735],[51.4807350556, -0.42651532735],[51.48074327993, -0.4263377336],[51.48078145873, -0.42583237365],[51.4809098962, -0.42401338102],[51.48093105628, -0.42358061078],[51.48099590984, -0.42261420937],[51.48099590984, -0.42261420937],[51.48104341969, -0.42190617429],[51.48126090105, -0.4200264766],[51.48127716756, -0.41973193202],[51.48127716756, -0.41973193202],[51.48136208978, -0.41819398861],[51.48134882974, -0.4178776143],[51.48121586028, -0.41668689413],[51.48051086688, -0.41375905236],[51.48027370119, -0.41284560526],[51.48005720113, -0.41204923993],[51.48005720113, -0.41204923993],[51.48003711323, -0.41197535075],[51.47975323824, -0.41093393623],[51.4797155306, -0.41080563771],[51.47975128767, -0.41078999391],[51.47985563259, -0.4105271484],[51.48002621011, -0.41050681753],[51.48035837708, -0.41046646776],[51.4805751955, -0.41046761043],[51.4805751955, -0.41046761043],[51.48071809343, -0.41046836352],[51.48100571042, -0.4104583644],[51.48112255481, -0.41045430221],[51.48167082463, -0.4104352408],[51.48233593876, -0.41041211632],[51.48265950777, -0.41040086625],[51.48275427812, -0.41009513004],[51.48308625806, -0.40937788393],[51.48318364134, -0.40912419984],[51.48318364134, -0.40912419984],[51.48343367001, -0.40847286186],[51.48391726331, -0.40766389863],[51.48402296929, -0.40750179084],[51.48417263757, -0.40726613869],[51.48463941988, -0.40654415067],[51.48518669823, -0.40579053518],[51.48524180039, -0.40587503009],[51.48527599118, -0.40574421297],[51.48523964776, -0.40571667492],[51.48508701147, -0.4044113522],[51.48502633912, -0.403925435],[51.48502633912, -0.403925435],[51.48497599663, -0.40352226151],[51.48497770085, -0.40232678034],[51.48508548221, -0.40099796451],[51.48514442757, -0.40004532275],[51.48514226707, -0.39988696836],[51.48511357113, -0.39778517569],[51.48510727657, -0.39732450927],[51.48510727657, -0.39732450927],[51.48510137378, -0.39689263465],[51.48488572384, -0.39558955562],[51.4846044623, -0.39474967535],[51.48435599201, -0.39367821346],[51.4843610686, -0.39282641117],[51.4843610686, -0.39282641117],[51.48436688786, -0.39184871387],[51.48434358145, -0.39146066654],[51.48432145871, -0.39115899282],[51.48402188913, -0.38964288203],[51.48392616732, -0.38856607676],[51.48388428067, -0.38813548273],[51.48383784003, -0.38737379637],[51.48376067685, -0.38683219264],[51.48376067685, -0.38683219264],[51.48367858777, -0.38625603554],[51.48361376277, -0.38546619907],[51.48358105093, -0.38504968883],[51.48359790236, -0.38431457806],[51.48350411628, -0.38338174721],[51.48336517644, -0.38200187992],[51.48336517644, -0.38200187992],[51.48330614333, -0.38141564966],[51.48336727043, -0.38128386573],[51.48364331204, -0.38108686209],[51.48429604988, -0.38081890463],[51.48476123394, -0.38064399924],[51.48477980606, -0.38068654929],[51.48487827533, -0.38065425594],[51.48482196251, -0.38048341882],[51.4848286947, -0.37986142361],[51.4848286947, -0.37986142361],[51.48483381232, -0.37938839675],[51.48483643342, -0.37892741859],[51.48484422733, -0.37884072621],[51.48486843472, -0.37799010994],[51.48509216207, -0.37726203443],[51.48544673346, -0.37559311898],[51.48545673173, -0.37501664909],[51.48545674156, -0.37436851976],[51.48538763957, -0.3739244889],[51.48548810727, -0.37338800868],[51.48564629434, -0.37312312722],[51.48530934779, -0.37309917529],[51.48530934779, -0.37309917529],[51.48510622397, -0.37308473632],[51.48493445608, -0.3730188358],[51.48472613754, -0.37291102874],[51.48459850989, -0.37278594789],[51.48360324008, -0.37104989208],[51.48351695002, -0.37066410568],[51.4835025615, -0.37027575754],[51.48335613802, -0.36944564899],[51.48307168683, -0.36839003709],[51.48300716966, -0.36827712281],[51.48300611096, -0.36827536608],[51.48300611096, -0.36827536608],[51.48289671162, -0.3680938383],[51.48239376535, -0.36749250866],[51.48154386528, -0.36651474086],[51.48116834535, -0.36602410388],[51.48075386254, -0.36531884674],[51.48043447239, -0.36498463473],[51.48024958528, -0.36497011961],[51.48024958528, -0.36497011961],[51.47993035111, -0.3649450574],[51.47969586472, -0.36489583842],[51.4793882714, -0.36476282854],[51.47901615723, -0.36451692125],[51.47893446377, -0.36446224],[51.47874351099, -0.36431066186],[51.47869776875, -0.36425469517],[51.4785599395, -0.36404361521],[51.47813444835, -0.36319480385],[51.47804712814, -0.36273711201],[51.47713608428, -0.36189131622],[51.47706110277, -0.36102998784],[51.4770576827, -0.36078530632],[51.47696760333, -0.36077413524],[51.47669255511, -0.36060207631],[51.47669255511, -0.36060207631],[51.47587900354, -0.36009316452],[51.47545771297, -0.3595466826],[51.47528311869, -0.35927935175],[51.47454181152, -0.35835558431],[51.47381948083, -0.35750316101],[51.47345432341, -0.35711310053],[51.47344238962, -0.35710335739],[51.47344238962, -0.35710335739],[51.47286305779, -0.35663037808],[51.47272662712, -0.3565200894],[51.4724443742, -0.35627105391],[51.47202568954, -0.35591173626],[51.47147895444, -0.35539864574],[51.47117516078, -0.35527818755]]",
            "stopPoints": [
             {
              "$type": "Tfl.Api.Presentation.Entities.Identifier, Tfl.Api.Presentation.Entities",
              "id": "490G00010245",
              "name": "Newport Road",
              "routeType": "Unknown",
              "status": "Unknown",
              "type": "StopPoint",
              "uri": "/StopPoint/490G00010245"
             },
             {
              "$type": "Tfl.Api.Presentation.Entities.Identifier, Tfl.Api.Presentation.Entities",
              "id": "490G00012177",
              "name": "Sipson Way / Blunts Avenue",
              "routeType": "Unknown",
              "status": "Unknown",
              "type": "StopPoint",
              "uri": "/StopPoint/490G00012177"
             },
             {
              "$type": "Tfl.Api.Presentation.Entities.Identifier, Tfl.Api.Presentation.Entities",
              "id": "490G00012176",
              "name": "Nene Road",
              "routeType": "Unknown",
              "status": "Unknown",
              "type": "StopPoint",
              "uri": "/StopPoint/490G00012176"
             },
             {
              "$type": "Tfl.Api.Presentation.Entities.Identifier, Tfl.Api.Presentation.Entities",
              "id": "490G00004139",
              "name": "Bolton's Lane",
              "routeType": "Unknown",
              "status": "Unknown",
              "type": "StopPoint",
              "uri": "/StopPoint/490G00004139"
             },
             {
              "$type": "Tfl.Api.Presentation.Entities.Identifier, Tfl.Api.Presentation.Entities",
              "id": "490G00010251",
              "name": "New Road",
              "routeType": "Unknown",
              "status": "Unknown",
              "type": "StopPoint",
              "uri": "/StopPoint/490G00010251"
             },
             {
              "$type": "Tfl.Api.Presentation.Entities.Identifier, Tfl.Api.Presentation.Entities",
              "id": "490G00007811",
              "name": "Harlington Corner",
              "routeType": "Unknown",
              "status": "Unknown",
              "type": "StopPoint",
              "uri": "/StopPoint/490G00007811"
             },
             {
              "$type": "Tfl.Api.Presentation.Entities.Identifier, Tfl.Api.Presentation.Entities",
              "id": "490G00015397",
              "name": "Nobel Drive",
              "routeType": "Unknown",
              "status": "Unknown",
              "type": "StopPoint",
              "uri": "/StopPoint/490G00015397"
             },
             {
              "$type": "Tfl.Api.Presentation.Entities.Identifier, Tfl.Api.Presentation.Entities",
              "id": "490G00010677",
              "name": "Oxford Avenue",
              "routeType": "Unknown",
              "status": "Unknown",
              "type": "StopPoint",
              "uri": "/StopPoint/490G00010677"
             },
             {
              "$type": "Tfl.Api.Presentation.Entities.Identifier, Tfl.Api.Presentation.Entities",
              "id": "490G00013596",
              "name": "Craneswater",
              "routeType": "Unknown",
              "status": "Unknown",
              "type": "StopPoint",
              "uri": "/StopPoint/490G00013596"
             },
             {
              "$type": "Tfl.Api.Presentation.Entities.Identifier, Tfl.Api.Presentation.Entities",
              "id": "490G00005704",
              "name": "Waye Avenue",
              "routeType": "Unknown",
              "status": "Unknown",
              "type": "StopPoint",
              "uri": "/StopPoint/490G00005704"
             },
             {
              "$type": "Tfl.Api.Presentation.Entities.Identifier, Tfl.Api.Presentation.Entities",
              "id": "490G00013235",
              "name": "The Avenue",
              "routeType": "Unknown",
              "status": "Unknown",
              "type": "StopPoint",
              "uri": "/StopPoint/490G00013235"
             },
             {
              "$type": "Tfl.Api.Presentation.Entities.Identifier, Tfl.Api.Presentation.Entities",
              "id": "490G00013494",
              "name": "The Parkway",
              "routeType": "Unknown",
              "status": "Unknown",
              "type": "StopPoint",
              "uri": "/StopPoint/490G00013494"
             },
             {
              "$type": "Tfl.Api.Presentation.Entities.Identifier, Tfl.Api.Presentation.Entities",
              "id": "490G00012243",
              "name": "Cranford Lane / Redwood Estate",
              "routeType": "Unknown",
              "status": "Unknown",
              "type": "StopPoint",
              "uri": "/StopPoint/490G00012243"
             },
             {
              "$type": "Tfl.Api.Presentation.Entities.Identifier, Tfl.Api.Presentation.Entities",
              "id": "490G00008115",
              "name": "Harlech Gardens",
              "routeType": "Unknown",
              "status": "Unknown",
              "type": "StopPoint",
              "uri": "/StopPoint/490G00008115"
             },
             {
              "$type": "Tfl.Api.Presentation.Entities.Identifier, Tfl.Api.Presentation.Entities",
              "id": "490G00010365",
              "name": "Northfield Road",
              "routeType": "Unknown",
              "status": "Unknown",
              "type": "StopPoint",
              "uri": "/StopPoint/490G00010365"
             },
             {
              "$type": "Tfl.Api.Presentation.Entities.Identifier, Tfl.Api.Presentation.Entities",
              "id": "490G00012229",
              "name": "Somerset Waye",
              "routeType": "Unknown",
              "status": "Unknown",
              "type": "StopPoint",
              "uri": "/StopPoint/490G00012229"
             },
             {
              "$type": "Tfl.Api.Presentation.Entities.Identifier, Tfl.Api.Presentation.Entities",
              "id": "490G00008114",
              "name": "Heston Health Centre",
              "routeType": "Unknown",
              "status": "Unknown",
              "type": "StopPoint",
              "uri": "/StopPoint/490G00008114"
             },
             {
              "$type": "Tfl.Api.Presentation.Entities.Identifier, Tfl.Api.Presentation.Entities",
              "id": "490G00010221",
              "name": "New Heston Road",
              "routeType": "Unknown",
              "status": "Unknown",
              "type": "StopPoint",
              "uri": "/StopPoint/490G00010221"
             },
             {
              "$type": "Tfl.Api.Presentation.Entities.Identifier, Tfl.Api.Presentation.Entities",
              "id": "490G00012443",
              "name": "St Leonard's Church",
              "routeType": "Unknown",
              "status": "Unknown",
              "type": "StopPoint",
              "uri": "/StopPoint/490G00012443"
             },
             {
              "$type": "Tfl.Api.Presentation.Entities.Identifier, Tfl.Api.Presentation.Entities",
              "id": "490G00008272",
              "name": "Hogarth Gardens",
              "routeType": "Unknown",
              "status": "Unknown",
              "type": "StopPoint",
              "uri": "/StopPoint/490G00008272"
             },
             {
              "$type": "Tfl.Api.Presentation.Entities.Identifier, Tfl.Api.Presentation.Entities",
              "id": "490G00007427",
              "name": "Great West Road",
              "routeType": "Unknown",
              "status": "Unknown",
              "type": "StopPoint",
              "uri": "/StopPoint/490G00007427"
             },
             {
              "$type": "Tfl.Api.Presentation.Entities.Identifier, Tfl.Api.Presentation.Entities",
              "id": "490G00012406",
              "name": "Roebuck Lane",
              "routeType": "Unknown",
              "status": "Unknown",
              "type": "StopPoint",
              "uri": "/StopPoint/490G00012406"
             },
             {
              "$type": "Tfl.Api.Presentation.Entities.Identifier, Tfl.Api.Presentation.Entities",
              "id": "490G00117E",
              "name": "Hounslow East Station",
              "routeType": "Unknown",
              "status": "Unknown",
              "type": "StopPoint",
              "uri": "/StopPoint/490G00117E"
             },
             {
              "$type": "Tfl.Api.Presentation.Entities.Identifier, Tfl.Api.Presentation.Entities",
              "id": "490G000601",
              "name": "Hounslow Bus Station",
              "routeType": "Unknown",
              "status": "Unknown",
              "type": "StopPoint",
              "uri": "/StopPoint/490G000601"
             }
            ]
           },
           "plannedWorks": [],
           "routeOptions": [
            {
             "$type": "Tfl.Api.Presentation.Entities.JourneyPlanner.RouteOption, Tfl.Api.Presentation.Entities",
             "directions": [
              "Kingston"
             ],
             "lineIdentifier": {
              "$type": "Tfl.Api.Presentation.Entities.Identifier, Tfl.Api.Presentation.Entities",
              "crowding": {
               "$type": "Tfl.Api.Presentation.Entities.Crowding, Tfl.Api.Presentation.Entities"
              },
              "id": "111",
              "name": "111",
              "routeType": "Unknown",
              "status": "Unknown",
              "type": "Line",
              "uri": "/Line/111"
             },
             "name": "111"
            }
           ]
          },
          {
           "$type": "Tfl.Api.Presentation.Entities.JourneyPlanner.Leg, Tfl.Api.Presentation.Entities",
           "arrivalPoint": {
            "$type": "Tfl.Api.Presentation.Entities.StopPoint, Tfl.Api.Presentation.Entities",
            "additionalProperties": [],
            "commonName": "Shepherd's Bush Station",
            "icsCode": "1000203",
            "lat": 51.50540750874,
            "lon": -0.21815358642000002,
            "naptanId": "490G00203A",
            "placeType": "StopPoint",
            "platformName": "B",
            "stopLetter": "B"
           },
           "arrivalTime": "2021-04-30T00:21:00",
           "departurePoint": {
            "$type": "Tfl.Api.Presentation.Entities.StopPoint, Tfl.Api.Presentation.Entities",
            "additionalProperties": [],
            "commonName": "Hounslow Bus Station",
            "icsCode": "1008392",
            "lat": 51.47101330861,
            "lon": -0.35361559600000003,
            "naptanId": "490G000601",
            "placeType": "StopPoint",
            "platformName": "",
            "stopLetter": "F"
           },
           "departureTime": "2021-04-29T23:52:00",
           "disruptions": [
            {
             "$type": "Tfl.Api.Presentation.Entities.Disruption, Tfl.Api.Presentation.Entities",
             "additionalInfo": "Find out more and&nbsp;<a href=\"https://tfl.gov.uk/modes/buses/bus-changes?intcmp=47904#on-this-page-1\">which routes</a> are affected.",
             "category": "PlannedWork",
             "categoryDescription": "PlannedWork",
             "created": "2021-03-04T11:18:00",
             "description": "We are committed to helping London's schools remain open and operate safely and to help this 200 extra buses on our network continue to operate. We will also be prioritising some of our bus services for school travel from this date. Government guidance allows for all seats to be occupied on these 'school services', doubling their capacity, which is currently limited due to necessary social distancing. These 'school services' will be clearly signed and will operate on several key routes between 0730-0900 (some routes will run until 0930) and 1430-1630 on weekdays. On designated routes 'school services' will operate on an every other bus basis. We ask that schoolchildren travelling without adults use the designated 'school services' where these are provided, to help ensure space for customers on other services.",
             "lastUpdate": "2021-04-19T12:42:00",
             "summary": "",
             "type": "lineInfo"
            }
           ],
           "duration": 29,
           "hasFixedLocations": true,
           "instruction": {
            "$type": "Tfl.Api.Presentation.Entities.Instruction, Tfl.Api.Presentation.Entities",
            "detailed": "237 bus towards White City",
            "steps": [],
            "summary": "237 bus to Shepherd's Bush (Central Line)"
           },
           "isDisrupted": true,
           "mode": {
            "$type": "Tfl.Api.Presentation.Entities.Identifier, Tfl.Api.Presentation.Entities",
            "id": "bus",
            "name": "bus",
            "routeType": "Unknown",
            "status": "Unknown",
            "type": "Mode"
           },
           "obstacles": [],
           "path": {
            "$type": "Tfl.Api.Presentation.Entities.JourneyPlanner.Path, Tfl.Api.Presentation.Entities",
            "elevation": [],
            "lineString": "[[51.47094062382, -0.35356465205],[51.47106894789, -0.35309525195],[51.4710657137, -0.35286499454],[51.47116729962, -0.35241498571],[51.4713528953, -0.35154439239],[51.47148880822, -0.35097795212],[51.47176204336, -0.34994580061],[51.47194828574, -0.34933718931],[51.47194828574, -0.34933718931],[51.47237241418, -0.34795114569],[51.47243289532, -0.34777617529],[51.47287686931, -0.34673781069],[51.47289963995, -0.34668491049],[51.47289963995, -0.34668491049],[51.47328610106, -0.34578707689],[51.47339989627, -0.34556697407],[51.47360133458, -0.34518530817],[51.4738035842, -0.34486120646],[51.47397961837, -0.34457845069],[51.47397961837, -0.34457845069],[51.47465649554, -0.34349118249],[51.47470838879, -0.34334530746],[51.47486060964, -0.34266301285],[51.47490721203, -0.34214293854],[51.47490721203, -0.34214293854],[51.47498836783, -0.34088722939],[51.47500206663, -0.34058434024],[51.47505173848, -0.339646561],[51.47511917435, -0.33869373461],[51.47516903505, -0.33777034352],[51.47519408895, -0.33730630818],[51.47519408895, -0.33730630818],[51.47521888846, -0.33684695059],[51.47523441421, -0.33667358946],[51.47524626434, -0.33624116713],[51.47526587502, -0.33572206383],[51.47534555457, -0.33493649595],[51.47534555457, -0.33493649595],[51.4754315233, -0.33408886107],[51.47549055198, -0.33381311463],[51.4755412059, -0.33358087207],[51.4759237133, -0.33231020098],[51.4759237133, -0.33231020098],[51.47596195965, -0.33218314475],[51.47608266915, -0.33181874265],[51.47680567179, -0.32954593374],[51.47701990483, -0.3288036932],[51.47713389394, -0.32839851153],[51.47713389394, -0.32839851153],[51.47720819612, -0.32813439585],[51.47743957422, -0.32733391317],[51.47760274241, -0.32679512707],[51.47768810047, -0.32647519271],[51.47783370029, -0.32596584483],[51.47785922492, -0.3258641065],[51.4779703102, -0.3254568229],[51.47803561824, -0.32522689602],[51.47803561824, -0.32522689602],[51.47809017611, -0.32503481502],[51.47822760451, -0.32458336006],[51.47827926824, -0.32442305948],[51.47839974751, -0.32404422566],[51.47857168221, -0.323490694],[51.47889818611, -0.32242745785],[51.47916561322, -0.32160099233],[51.47916561322, -0.32160099233],[51.47949237417, -0.32059112176],[51.47963753562, -0.32005294841],[51.47967183645, -0.31993647906],[51.47974002528, -0.31967475268],[51.47993986637, -0.31905984828],[51.47993986637, -0.31905984828],[51.4804031796, -0.3176341896],[51.48080173702, -0.31658261642],[51.48101031638, -0.31607021305],[51.48101031638, -0.31607021305],[51.48112311779, -0.31579309689],[51.48141877124, -0.31509092446],[51.48149697089, -0.31490082022],[51.48162744087, -0.31459357447],[51.4818269138, -0.3140821572],[51.48203269489, -0.31355831884],[51.48203269489, -0.31355831884],[51.48221727937, -0.31308842961],[51.48237160052, -0.31256426357],[51.48238729718, -0.31240526221],[51.48240009309, -0.31204473976],[51.48242692525, -0.31141006047],[51.48247276584, -0.31084668819],[51.48270111974, -0.30984450588],[51.4828305387, -0.30946526548],[51.48300157313, -0.30885404847],[51.48308605098, -0.30847646555],[51.48332154573, -0.30729081354],[51.48332154573, -0.30729081354],[51.48336269968, -0.30708360706],[51.48346935342, -0.30637394233],[51.48360904117, -0.30546141634],[51.48393181515, -0.30424783529],[51.48393181515, -0.30424783529],[51.48398430855, -0.30405046198],[51.48407085293, -0.30381681058],[51.48418394299, -0.30355336803],[51.4845405596, -0.30271918035],[51.48492434118, -0.30189837321],[51.4850786116, -0.30137413931],[51.48516410782, -0.3010685016],[51.48522284922, -0.30077826018],[51.48568835207, -0.2993926655],[51.48602089972, -0.29876095743],[51.48611869517, -0.2984666894],[51.48611869517, -0.2984666894],[51.48617599145, -0.29829428237],[51.48632167588, -0.29779914788],[51.4863697496, -0.29739406584],[51.48638667959, -0.29732141881],[51.48660906563, -0.2965353538],[51.48672945331, -0.29615637905],[51.4869080458, -0.29556748428],[51.4869080458, -0.29556748428],[51.48717566958, -0.29468498874],[51.4872699262, -0.29436459369],[51.48751674078, -0.29340474295],[51.48765278808, -0.2928667268],[51.48771297605, -0.29267723062],[51.48805968744, -0.29178564676],[51.48823663242, -0.29112138823],[51.48823663242, -0.29112138823],[51.48848598405, -0.29018527932],[51.48851962502, -0.2900255772],[51.48861949673, -0.28947448871],[51.48864435925, -0.28932951814],[51.488784333, -0.28844563189],[51.48888755979, -0.2881248764],[51.48905911196, -0.28755668944],[51.48929546606, -0.28711570741],[51.48933715561, -0.2870490605],[51.48933715561, -0.2870490605],[51.48947999688, -0.28682070622],[51.48957612474, -0.28662984701],[51.48961123323, -0.28657091359],[51.48968959612, -0.2863951237],[51.48980411895, -0.2862323817],[51.49009186725, -0.28561660416],[51.49016187266, -0.28548433776],[51.49026656473, -0.28526434245],[51.49071108466, -0.28429164022],[51.49071108466, -0.28429164022],[51.49116404786, -0.28330042435],[51.49135270775, -0.2826739281],[51.49153266728, -0.28268157073],[51.49162190915, -0.28263500243],[51.49170195273, -0.28257437461],[51.49178157459, -0.28248495241],[51.49184237806, -0.28233861702],[51.49188913219, -0.2818470882],[51.49187866823, -0.28174664629],[51.49180065085, -0.28133183399],[51.49185955372, -0.28105592311],[51.49195145067, -0.28057709936],[51.49200655137, -0.28004203808],[51.49210923691, -0.27907303044],[51.49213990434, -0.27871174734],[51.49217078201, -0.27836486095],[51.49221209707, -0.27794497883],[51.49221209707, -0.27794497883],[51.49223337999, -0.27772867563],[51.49233932118, -0.2763705946],[51.49239877902, -0.275766214],[51.49239877902, -0.275766214],[51.49243320055, -0.27541630875],[51.49250307544, -0.27466459877],[51.49257811835, -0.27365339623],[51.49262292789, -0.27303227592],[51.49281741517, -0.27158439074],[51.49285039388, -0.27138146829],[51.49288927685, -0.27081196001],[51.49288927685, -0.27081196001],[51.49293913599, -0.27008162581],[51.49294302589, -0.26973574897],[51.49291995266, -0.26939089314],[51.49289730342, -0.26907483236],[51.49268332138, -0.26676368051],[51.49262970516, -0.26557007351],[51.49257967723, -0.2648892199],[51.49257967723, -0.2648892199],[51.49256215017, -0.26465069901],[51.49253373446, -0.26394591932],[51.49245976884, -0.26259463485],[51.49245784915, -0.2624650605],[51.49244867533, -0.26184598325],[51.49244376706, -0.26151484904],[51.49244376706, -0.26151484904],[51.49243949823, -0.26122690633],[51.49244378904, -0.26090982741],[51.49245772438, -0.26003057609],[51.49247206748, -0.25978514044],[51.49250075213, -0.2592942687],[51.49252558682, -0.25854424784],[51.49254014061, -0.25831320857],[51.49255335695, -0.258081421],[51.49255335695, -0.258081421],[51.49260434335, -0.25718714724],[51.49261140499, -0.25705723009],[51.49265933384, -0.25604702882],[51.49270404994, -0.2554258924],[51.49274383456, -0.25447361971],[51.49278105551, -0.25395360451],[51.49282154183, -0.25303651019],[51.49282154183, -0.25303651019],[51.49284156966, -0.25258277979],[51.49285182034, -0.2520637934],[51.49286099545, -0.25147282087],[51.49294632862, -0.25056201359],[51.4929781968, -0.25028709017],[51.49304236096, -0.24976603672],[51.49310624109, -0.24927125674],[51.49310624109, -0.24927125674],[51.49317132725, -0.24876711738],[51.49321217847, -0.248491847],[51.49326842274, -0.24804311957],[51.49332999501, -0.24734929217],[51.49333683054, -0.24720497438],[51.49336482904, -0.24653368714],[51.49336482904, -0.24653368714],[51.4933765482, -0.24625268296],[51.49340259157, -0.24558902656],[51.49343078572, -0.2450693427],[51.49361074623, -0.24507683731],[51.49473156716, -0.24486092097],[51.49488391946, -0.24482625709],[51.49519306002, -0.24475440292],[51.49519306002, -0.24475440292],[51.4954036715, -0.24470544946],[51.49552841547, -0.24462862629],[51.4957603598, -0.24450446533],[51.49663477359, -0.24419290563],[51.49663477359, -0.24419290563],[51.4971199544, -0.24402002687],[51.49798805154, -0.2437417446],[51.49821861848, -0.2436702259],[51.49821861848, -0.2436702259],[51.49867726567, -0.24352795757],[51.49869567144, -0.2435560645],[51.49875793515, -0.24351044903],[51.4987204766, -0.24341103823],[51.49878547232, -0.24294750614],[51.4988361597, -0.24272944729],[51.49908959047, -0.2416391459],[51.49941274848, -0.24040207212],[51.49951627406, -0.2401099345],[51.49953149834, -0.24006697298],[51.49953149834, -0.24006697298],[51.49980096556, -0.2393065493],[51.49985294324, -0.23917487749],[51.49987925632, -0.23913064044],[51.49987752671, -0.23901544598],[51.49989756882, -0.23855362877],[51.49991316423, -0.23839454332],[51.49995269264, -0.23803282755],[51.49996936905, -0.23794573838],[51.5000538321, -0.23758228835],[51.50009949215, -0.23732003703],[51.50009949215, -0.23732003703],[51.50020283204, -0.23672648348],[51.50026097926, -0.23640726844],[51.50030992184, -0.23607400018],[51.50039925022, -0.23543660759],[51.50053946393, -0.23459553637],[51.5007627247, -0.23389532851],[51.50083519985, -0.233929132],[51.50083519985, -0.233929132],[51.5007627247, -0.23389532851],[51.50085746351, -0.23361791489],[51.50094386517, -0.23338404647],[51.50115856538, -0.2327129736],[51.50122655681, -0.23245099801],[51.5013960986, -0.23176725622],[51.50149491498, -0.23131736253],[51.50149491498, -0.23131736253],[51.50158122154, -0.23092441585],[51.50163101734, -0.23064873161],[51.50168081249, -0.23037304678],[51.50173060698, -0.23009736136],[51.50187317338, -0.22941464854],[51.50198130941, -0.22883412459],[51.50203110025, -0.22855843576],[51.50218989119, -0.227759817],[51.50223221569, -0.22758527421],[51.50229275629, -0.22722331132],[51.50229275629, -0.22722331132],[51.50235592218, -0.22684564404],[51.50242302937, -0.22652605308],[51.50243947939, -0.22642455517],[51.5025057142, -0.22604736289],[51.50268992391, -0.22514687943],[51.50274912904, -0.22489963348],[51.50298044604, -0.22414139547],[51.50302419667, -0.22406077385],[51.50302419667, -0.22406077385],[51.50316416044, -0.22380285343],[51.50333382556, -0.22372421265],[51.50342413309, -0.22374951867],[51.50370600547, -0.22395469144],[51.50444115882, -0.22440160882],[51.50476752979, -0.22457624207],[51.50503605387, -0.22449375865],[51.50509765576, -0.22440490832],[51.50496027857, -0.22364655707],[51.50490177511, -0.22334623785],[51.50480383123, -0.2228169061],[51.50462634729, -0.22178635119],[51.50453783797, -0.22107932578],[51.50453783797, -0.22107932578],[51.50452402805, -0.22096901348],[51.50446136648, -0.22039508916],[51.50441886203, -0.21996447189],[51.50436321494, -0.21926059496],[51.5043494172, -0.21894413294],[51.50438735393, -0.21848156261],[51.50442550763, -0.21803339214],[51.50506337326, -0.21799409896],[51.50540891113, -0.21800232405]]",
            "stopPoints": [
             {
              "$type": "Tfl.Api.Presentation.Entities.Identifier, Tfl.Api.Presentation.Entities",
              "id": "490G00004327",
              "name": "Bridge Road",
              "routeType": "Unknown",
              "status": "Unknown",
              "type": "StopPoint",
              "uri": "/StopPoint/490G00004327"
             },
             {
              "$type": "Tfl.Api.Presentation.Entities.Identifier, Tfl.Api.Presentation.Entities",
              "id": "490G00012599",
              "name": "Star Road",
              "routeType": "Unknown",
              "status": "Unknown",
              "type": "StopPoint",
              "uri": "/StopPoint/490G00012599"
             },
             {
              "$type": "Tfl.Api.Presentation.Entities.Identifier, Tfl.Api.Presentation.Entities",
              "id": "490G00013620",
              "name": "Thornbury Road",
              "routeType": "Unknown",
              "status": "Unknown",
              "type": "StopPoint",
              "uri": "/StopPoint/490G00013620"
             },
             {
              "$type": "Tfl.Api.Presentation.Entities.Identifier, Tfl.Api.Presentation.Entities",
              "id": "490G00008510",
              "name": "West Thames College",
              "routeType": "Unknown",
              "status": "Unknown",
              "type": "StopPoint",
              "uri": "/StopPoint/490G00008510"
             },
             {
              "$type": "Tfl.Api.Presentation.Entities.Identifier, Tfl.Api.Presentation.Entities",
              "id": "490G01158B",
              "name": "Isleworth Station",
              "routeType": "Unknown",
              "status": "Unknown",
              "type": "StopPoint",
              "uri": "/StopPoint/490G01158B"
             },
             {
              "$type": "Tfl.Api.Presentation.Entities.Identifier, Tfl.Api.Presentation.Entities",
              "id": "490G00009185",
              "name": "Linkfield Road",
              "routeType": "Unknown",
              "status": "Unknown",
              "type": "StopPoint",
              "uri": "/StopPoint/490G00009185"
             },
             {
              "$type": "Tfl.Api.Presentation.Entities.Identifier, Tfl.Api.Presentation.Entities",
              "id": "490G00014874",
              "name": "Wood Lane",
              "routeType": "Unknown",
              "status": "Unknown",
              "type": "StopPoint",
              "uri": "/StopPoint/490G00014874"
             },
             {
              "$type": "Tfl.Api.Presentation.Entities.Identifier, Tfl.Api.Presentation.Entities",
              "id": "490G00007873",
              "name": "Turnpike Way",
              "routeType": "Unknown",
              "status": "Unknown",
              "type": "StopPoint",
              "uri": "/StopPoint/490G00007873"
             },
             {
              "$type": "Tfl.Api.Presentation.Entities.Identifier, Tfl.Api.Presentation.Entities",
              "id": "490G00004635",
              "name": "The Green School",
              "routeType": "Unknown",
              "status": "Unknown",
              "type": "StopPoint",
              "uri": "/StopPoint/490G00004635"
             },
             {
              "$type": "Tfl.Api.Presentation.Entities.Identifier, Tfl.Api.Presentation.Entities",
              "id": "490G00015029",
              "name": "Busch Corner",
              "routeType": "Unknown",
              "status": "Unknown",
              "type": "StopPoint",
              "uri": "/StopPoint/490G00015029"
             },
             {
              "$type": "Tfl.Api.Presentation.Entities.Identifier, Tfl.Api.Presentation.Entities",
              "id": "490G00013141",
              "name": "Syon Lane",
              "routeType": "Unknown",
              "status": "Unknown",
              "type": "StopPoint",
              "uri": "/StopPoint/490G00013141"
             },
             {
              "$type": "Tfl.Api.Presentation.Entities.Identifier, Tfl.Api.Presentation.Entities",
              "id": "490G00003804",
              "name": "Beech Avenue",
              "routeType": "Unknown",
              "status": "Unknown",
              "type": "StopPoint",
              "uri": "/StopPoint/490G00003804"
             },
             {
              "$type": "Tfl.Api.Presentation.Entities.Identifier, Tfl.Api.Presentation.Entities",
              "id": "490G00004296",
              "name": "Brent Lea",
              "routeType": "Unknown",
              "status": "Unknown",
              "type": "StopPoint",
              "uri": "/StopPoint/490G00004296"
             },
             {
              "$type": "Tfl.Api.Presentation.Entities.Identifier, Tfl.Api.Presentation.Entities",
              "id": "490G00004292",
              "name": "Market Place",
              "routeType": "Unknown",
              "status": "Unknown",
              "type": "StopPoint",
              "uri": "/StopPoint/490G00004292"
             },
             {
              "$type": "Tfl.Api.Presentation.Entities.Identifier, Tfl.Api.Presentation.Entities",
              "id": "490G00004289",
              "name": "Brentford County Court",
              "routeType": "Unknown",
              "status": "Unknown",
              "type": "StopPoint",
              "uri": "/StopPoint/490G00004289"
             },
             {
              "$type": "Tfl.Api.Presentation.Entities.Identifier, Tfl.Api.Presentation.Entities",
              "id": "490G00006297",
              "name": "Watermans Centre",
              "routeType": "Unknown",
              "status": "Unknown",
              "type": "StopPoint",
              "uri": "/StopPoint/490G00006297"
             },
             {
              "$type": "Tfl.Api.Presentation.Entities.Identifier, Tfl.Api.Presentation.Entities",
              "id": "490G00004293",
              "name": "The Musical Museum",
              "routeType": "Unknown",
              "status": "Unknown",
              "type": "StopPoint",
              "uri": "/StopPoint/490G00004293"
             },
             {
              "$type": "Tfl.Api.Presentation.Entities.Identifier, Tfl.Api.Presentation.Entities",
              "id": "490G00008690",
              "name": "London Museum Of Water and Steam",
              "routeType": "Unknown",
              "status": "Unknown",
              "type": "StopPoint",
              "uri": "/StopPoint/490G00008690"
             },
             {
              "$type": "Tfl.Api.Presentation.Entities.Identifier, Tfl.Api.Presentation.Entities",
              "id": "490G01167S",
              "name": "Kew Bridge Station",
              "routeType": "Unknown",
              "status": "Unknown",
              "type": "StopPoint",
              "uri": "/StopPoint/490G01167S"
             },
             {
              "$type": "Tfl.Api.Presentation.Entities.Identifier, Tfl.Api.Presentation.Entities",
              "id": "490G00004290",
              "name": "Brentford Fountain Leisure Centre",
              "routeType": "Unknown",
              "status": "Unknown",
              "type": "StopPoint",
              "uri": "/StopPoint/490G00004290"
             },
             {
              "$type": "Tfl.Api.Presentation.Entities.Identifier, Tfl.Api.Presentation.Entities",
              "id": "490G000750",
              "name": "Thorney Hedge Road",
              "routeType": "Unknown",
              "status": "Unknown",
              "type": "StopPoint",
              "uri": "/StopPoint/490G000750"
             },
             {
              "$type": "Tfl.Api.Presentation.Entities.Identifier, Tfl.Api.Presentation.Entities",
              "id": "490G00094B",
              "name": "Gunnersbury Station",
              "routeType": "Unknown",
              "status": "Unknown",
              "type": "StopPoint",
              "uri": "/StopPoint/490G00094B"
             },
             {
              "$type": "Tfl.Api.Presentation.Entities.Identifier, Tfl.Api.Presentation.Entities",
              "id": "490G00005211",
              "name": "Chiswick Road",
              "routeType": "Unknown",
              "status": "Unknown",
              "type": "StopPoint",
              "uri": "/StopPoint/490G00005211"
             },
             {
              "$type": "Tfl.Api.Presentation.Entities.Identifier, Tfl.Api.Presentation.Entities",
              "id": "490G000807",
              "name": "Turnham Green Church",
              "routeType": "Unknown",
              "status": "Unknown",
              "type": "StopPoint",
              "uri": "/StopPoint/490G000807"
             },
             {
              "$type": "Tfl.Api.Presentation.Entities.Identifier, Tfl.Api.Presentation.Entities",
              "id": "490G00005423",
              "name": "Clifton Gardens",
              "routeType": "Unknown",
              "status": "Unknown",
              "type": "StopPoint",
              "uri": "/StopPoint/490G00005423"
             },
             {
              "$type": "Tfl.Api.Presentation.Entities.Identifier, Tfl.Api.Presentation.Entities",
              "id": "490G00005210",
              "name": "Chiswick Police Station",
              "routeType": "Unknown",
              "status": "Unknown",
              "type": "StopPoint",
              "uri": "/StopPoint/490G00005210"
             },
             {
              "$type": "Tfl.Api.Presentation.Entities.Identifier, Tfl.Api.Presentation.Entities",
              "id": "490G00013850",
              "name": "Chiswick Lane",
              "routeType": "Unknown",
              "status": "Unknown",
              "type": "StopPoint",
              "uri": "/StopPoint/490G00013850"
             },
             {
              "$type": "Tfl.Api.Presentation.Entities.Identifier, Tfl.Api.Presentation.Entities",
              "id": "490G00012521",
              "name": "Stamford Brook Bus Garage",
              "routeType": "Unknown",
              "status": "Unknown",
              "type": "StopPoint",
              "uri": "/StopPoint/490G00012521"
             },
             {
              "$type": "Tfl.Api.Presentation.Entities.Identifier, Tfl.Api.Presentation.Entities",
              "id": "490G000535",
              "name": "Goldhawk Road / Young's Corner",
              "routeType": "Unknown",
              "status": "Unknown",
              "type": "StopPoint",
              "uri": "/StopPoint/490G000535"
             },
             {
              "$type": "Tfl.Api.Presentation.Entities.Identifier, Tfl.Api.Presentation.Entities",
              "id": "490G00218N",
              "name": "Stamford Brook Station",
              "routeType": "Unknown",
              "status": "Unknown",
              "type": "StopPoint",
              "uri": "/StopPoint/490G00218N"
             },
             {
              "$type": "Tfl.Api.Presentation.Entities.Identifier, Tfl.Api.Presentation.Entities",
              "id": "490G00011296",
              "name": "Ravenscourt Gardens",
              "routeType": "Unknown",
              "status": "Unknown",
              "type": "StopPoint",
              "uri": "/StopPoint/490G00011296"
             },
             {
              "$type": "Tfl.Api.Presentation.Entities.Identifier, Tfl.Api.Presentation.Entities",
              "id": "490G00012522",
              "name": "Stamford Brook Road",
              "routeType": "Unknown",
              "status": "Unknown",
              "type": "StopPoint",
              "uri": "/StopPoint/490G00012522"
             },
             {
              "$type": "Tfl.Api.Presentation.Entities.Identifier, Tfl.Api.Presentation.Entities",
              "id": "490G00015455",
              "name": "Askew Road",
              "routeType": "Unknown",
              "status": "Unknown",
              "type": "StopPoint",
              "uri": "/StopPoint/490G00015455"
             },
             {
              "$type": "Tfl.Api.Presentation.Entities.Identifier, Tfl.Api.Presentation.Entities",
              "id": "490G00010710",
              "name": "Paddenswick Road",
              "routeType": "Unknown",
              "status": "Unknown",
              "type": "StopPoint",
              "uri": "/StopPoint/490G00010710"
             },
             {
              "$type": "Tfl.Api.Presentation.Entities.Identifier, Tfl.Api.Presentation.Entities",
              "id": "490G00004871",
              "name": "Cathnor Road",
              "routeType": "Unknown",
              "status": "Unknown",
              "type": "StopPoint",
              "uri": "/StopPoint/490G00004871"
             },
             {
              "$type": "Tfl.Api.Presentation.Entities.Identifier, Tfl.Api.Presentation.Entities",
              "id": "490G00012946",
              "name": "St Stephens Avenue",
              "routeType": "Unknown",
              "status": "Unknown",
              "type": "StopPoint",
              "uri": "/StopPoint/490G00012946"
             },
             {
              "$type": "Tfl.Api.Presentation.Entities.Identifier, Tfl.Api.Presentation.Entities",
              "id": "490G00088Y",
              "name": "Goldhawk Road Station",
              "routeType": "Unknown",
              "status": "Unknown",
              "type": "StopPoint",
              "uri": "/StopPoint/490G00088Y"
             },
             {
              "$type": "Tfl.Api.Presentation.Entities.Identifier, Tfl.Api.Presentation.Entities",
              "id": "490G00010913",
              "name": "Shepherd's Bush Road",
              "routeType": "Unknown",
              "status": "Unknown",
              "type": "StopPoint",
              "uri": "/StopPoint/490G00010913"
             },
             {
              "$type": "Tfl.Api.Presentation.Entities.Identifier, Tfl.Api.Presentation.Entities",
              "id": "490G000856",
              "name": "Shepherd's Bush Green",
              "routeType": "Unknown",
              "status": "Unknown",
              "type": "StopPoint",
              "uri": "/StopPoint/490G000856"
             },
             {
              "$type": "Tfl.Api.Presentation.Entities.Identifier, Tfl.Api.Presentation.Entities",
              "id": "490G00203A",
              "name": "Shepherd's Bush Station",
              "routeType": "Unknown",
              "status": "Unknown",
              "type": "StopPoint",
              "uri": "/StopPoint/490G00203A"
             }
            ]
           },
           "plannedWorks": [],
           "routeOptions": [
            {
             "$type": "Tfl.Api.Presentation.Entities.JourneyPlanner.RouteOption, Tfl.Api.Presentation.Entities",
             "directions": [
              "White City"
             ],
             "lineIdentifier": {
              "$type": "Tfl.Api.Presentation.Entities.Identifier, Tfl.Api.Presentation.Entities",
              "crowding": {
               "$type": "Tfl.Api.Presentation.Entities.Crowding, Tfl.Api.Presentation.Entities"
              },
              "id": "237",
              "name": "237",
              "routeType": "Unknown",
              "status": "Unknown",
              "type": "Line",
              "uri": "/Line/237"
             },
             "name": "237"
            }
           ]
          },
          {
           "$type": "Tfl.Api.Presentation.Entities.JourneyPlanner.Leg, Tfl.Api.Presentation.Entities",
           "arrivalPoint": {
            "$type": "Tfl.Api.Presentation.Entities.StopPoint, Tfl.Api.Presentation.Entities",
            "additionalProperties": [],
            "commonName": "St George's Circus",
            "icsCode": "1012693",
            "lat": 51.49861321543,
            "lon": -0.10817333386,
            "naptanId": "490G00012693",
            "placeType": "StopPoint",
            "platformName": "D",
            "stopLetter": "D"
           },
           "arrivalTime": "2021-04-30T01:00:00",
           "departurePoint": {
            "$type": "Tfl.Api.Presentation.Entities.StopPoint, Tfl.Api.Presentation.Entities",
            "additionalProperties": [],
            "commonName": "Shepherd's Bush Station",
            "icsCode": "1000203",
            "lat": 51.50452056142,
            "lon": -0.22014782765,
            "naptanId": "490G00203A",
            "placeType": "StopPoint",
            "platformName": "X",
            "stopLetter": "X"
           },
           "departureTime": "2021-04-30T00:25:00",
           "disruptions": [],
           "duration": 35,
           "hasFixedLocations": true,
           "instruction": {
            "$type": "Tfl.Api.Presentation.Entities.Instruction, Tfl.Api.Presentation.Entities",
            "detailed": "148 bus towards Camberwell Green",
            "steps": [],
            "summary": "148 bus to St George's Circus"
           },
           "isDisrupted": false,
           "mode": {
            "$type": "Tfl.Api.Presentation.Entities.Identifier, Tfl.Api.Presentation.Entities",
            "id": "bus",
            "name": "bus",
            "routeType": "Unknown",
            "status": "Unknown",
            "type": "Mode"
           },
           "obstacles": [],
           "path": {
            "$type": "Tfl.Api.Presentation.Entities.JourneyPlanner.Path, Tfl.Api.Presentation.Entities",
            "elevation": [],
            "lineString": "[[51.5044390008, -0.22016849787],[51.50441886203, -0.21996447189],[51.50436321494, -0.21926059496],[51.5043494172, -0.21894413294],[51.50438735393, -0.21848156261],[51.50442550763, -0.21803339214],[51.5044415126, -0.21790308572],[51.50458926019, -0.2175659108],[51.50464121304, -0.21743420092],[51.50484660312, -0.21733973029],[51.50496234099, -0.21726316705],[51.5050579155, -0.21704329725],[51.50508904722, -0.21672507697],[51.50503118309, -0.21646796848],[51.50491676745, -0.21604015778],[51.50488608219, -0.21579639875],[51.50485408178, -0.2154662359],[51.50490427915, -0.21521931727],[51.50494636558, -0.21503035217],[51.50517886496, -0.21407639623],[51.50517886496, -0.21407639623],[51.50520874202, -0.21395380618],[51.50540951546, -0.21296611443],[51.50545093988, -0.21273394267],[51.50563438749, -0.21179014696],[51.50570101396, -0.21144170998],[51.50591908094, -0.21041008984],[51.50601821828, -0.20992230818],[51.50601821828, -0.20992230818],[51.50601945362, -0.20991622989],[51.50612114332, -0.20950877407],[51.50623137885, -0.20907216195],[51.50637558127, -0.20850452784],[51.50650400714, -0.20808160694],[51.50660569038, -0.20767414285],[51.50684412002, -0.20680019303],[51.50710884329, -0.20588197121],[51.50723637813, -0.20540143087],[51.50741495471, -0.20471253538],[51.50741495471, -0.20471253538],[51.50750809302, -0.204353227],[51.50764328524, -0.20378591602],[51.50773728992, -0.20346519506],[51.50785693094, -0.20305700285],[51.50791675091, -0.20285290596],[51.50813171524, -0.20221039389],[51.50833592228, -0.20145301628],[51.50842225872, -0.20121904996],[51.50854100808, -0.20075323895],[51.50861607188, -0.19978478058],[51.5086311721, -0.19959684925],[51.50865282687, -0.19925014411],[51.50870431653, -0.19908959852],[51.50879073791, -0.198364007],[51.50879073791, -0.198364007],[51.50887158509, -0.19768517946],[51.50892085922, -0.19738061306],[51.50897057531, -0.19710484971],[51.50896703301, -0.19687442022],[51.50904016558, -0.19636716168],[51.50919651903, -0.19542429427],[51.50938115596, -0.19456676644],[51.50948212641, -0.19411604165],[51.5096297369, -0.19338563595],[51.5096297369, -0.19338563595],[51.50969937356, -0.19304105061],[51.50978369571, -0.19267744315],[51.5098831049, -0.19212589571],[51.50996387134, -0.19153185133],[51.50999448909, -0.19118477688],[51.51006093088, -0.19024543428],[51.51008144649, -0.18982670384],[51.5101044061, -0.18956639661],[51.51012174937, -0.18926637424],[51.51012174937, -0.18926637424],[51.51013279441, -0.18907529844],[51.51021207553, -0.18780398747],[51.51021051781, -0.18770317234],[51.51027893543, -0.1868934405],[51.51030092174, -0.18663430924],[51.51030092174, -0.18663430924],[51.51031696753, -0.18644518874],[51.51036918482, -0.18575138498],[51.51042295799, -0.18515839519],[51.51043669738, -0.1848840389],[51.51050761509, -0.18365627743],[51.5105233585, -0.1835115403],[51.51058432216, -0.18280297064],[51.51062953986, -0.18223913717],[51.5106600067, -0.18204956312],[51.5106600067, -0.18204956312],[51.5108509736, -0.18086125877],[51.510957973, -0.18022290194],[51.51099977895, -0.18001947848],[51.51104091401, -0.17977284757],[51.51110876545, -0.17932356716],[51.51110876545, -0.17932356716],[51.51127738428, -0.17820699703],[51.51138392153, -0.17753982346],[51.51150551827, -0.17668469704],[51.51157069575, -0.17624975147],[51.51160238796, -0.17597466822],[51.5116509332, -0.17562685397],[51.51169899034, -0.17522986918],[51.51169899034, -0.17522986918],[51.51173858546, -0.17490277742],[51.51179230345, -0.17430975842],[51.51183792859, -0.17377470775],[51.51201320559, -0.1723265395],[51.51209103436, -0.17149072574],[51.51209103436, -0.17149072574],[51.51225968448, -0.16967933922],[51.51235291375, -0.16873884187],[51.51236841375, -0.1685796915],[51.51246140915, -0.16762478717],[51.51252330372, -0.16701761949],[51.51252330372, -0.16701761949],[51.51257056934, -0.16655393565],[51.51296266738, -0.16287756949],[51.51297748253, -0.16267520671],[51.51303172035, -0.16220952081],[51.51303172035, -0.16220952081],[51.51305674464, -0.16199465652],[51.51310791339, -0.16124317534],[51.51314584693, -0.16079487688],[51.51323024374, -0.15986910994],[51.51326189731, -0.15959400627],[51.51333373717, -0.15901462968],[51.51335730632, -0.15879749889],[51.51329705417, -0.15839639179],[51.51323301586, -0.15832691445],[51.51295171126, -0.15816531682],[51.51273376639, -0.15802998903],[51.51229644704, -0.15779283403],[51.51229644704, -0.15779283403],[51.51218958222, -0.15773488276],[51.51150025107, -0.15735917105],[51.51115581135, -0.15718572158],[51.51100167813, -0.15710547356],[51.51084754485, -0.15702522608],[51.51046625216, -0.15679562433],[51.51013729522, -0.1564630366],[51.50999955038, -0.15628125426],[51.50973236735, -0.1558741247],[51.50894206259, -0.15479641646],[51.50846636552, -0.154282447],[51.50837988679, -0.15418510683],[51.50837988679, -0.15418510683],[51.50797201261, -0.15372601118],[51.50684577532, -0.15244581804],[51.50671814557, -0.15233570114],[51.50662646282, -0.1522241306],[51.50654376675, -0.15211219691],[51.50643388333, -0.15198695377],[51.50606828523, -0.15161268263],[51.50571189973, -0.15125245415],[51.50552989425, -0.15111572507],[51.50516792618, -0.15097187259],[51.50513652526, -0.15097035051],[51.50513652526, -0.15097035051],[51.50500593728, -0.15096402059],[51.50462018721, -0.15102286375],[51.50446809315, -0.15107224806],[51.50435194616, -0.15112017702],[51.50425354568, -0.15115297825],[51.50352175778, -0.15093764502],[51.50330289665, -0.15074477999],[51.50330279988, -0.15016842877],[51.50327379538, -0.15003992349],[51.5030996395, -0.14983084427],[51.50291967698, -0.14982372446],[51.50282127686, -0.14985652738],[51.5025007061, -0.1500568231],[51.50235224623, -0.15033659825],[51.50221436187, -0.15071680317],[51.5021881287, -0.15078210447],[51.5021881287, -0.15078210447],[51.50206726247, -0.15108297023],[51.50202437159, -0.15121438245],[51.50192619801, -0.15126158094],[51.50161996663, -0.1512307489],[51.5015280559, -0.15110479366],[51.5006702586, -0.14974192945],[51.499980345, -0.14876132298],[51.49976955794, -0.14851052457],[51.49924984394, -0.14794528858],[51.49924984394, -0.14794528858],[51.49915653157, -0.14784380461],[51.49878216142, -0.14748438775],[51.49833589611, -0.14712789241],[51.4982605896, -0.14691483705],[51.49824011339, -0.1467571874],[51.49826592865, -0.14554592731],[51.49822439353, -0.14462554691],[51.49816432211, -0.14423899016],[51.49807797284, -0.1438967237],[51.49800015347, -0.14352529749],[51.49794838128, -0.14309518511],[51.49772846076, -0.1422685095],[51.49771638543, -0.14225755953],[51.49771638543, -0.14225755953],[51.497409135, -0.14197894565],[51.49686764962, -0.141856897],[51.49680451433, -0.14184505776],[51.49664421074, -0.14137615286],[51.49678192125, -0.14041969964],[51.49680733749, -0.14024918747],[51.49680733749, -0.14024918747],[51.49695260121, -0.13927460834],[51.49725333916, -0.13725978878],[51.49730245656, -0.13695523908],[51.49735148958, -0.13660739912],[51.49735148958, -0.13660739912],[51.49748832926, -0.13563661649],[51.49752061361, -0.1354047858],[51.49763818521, -0.13488133132],[51.49768911017, -0.134668412],[51.49768911017, -0.134668412],[51.49785740986, -0.13396472907],[51.49838336717, -0.13254573352],[51.49861591795, -0.13190230099],[51.49896883022, -0.13093201299],[51.49896883022, -0.13093201299],[51.49940849874, -0.12972314723],[51.49952096231, -0.12944479645],[51.49977215824, -0.12884379142],[51.49986733564, -0.12860936781],[51.49999593142, -0.12821508748],[51.50013282292, -0.12777724119],[51.50033606793, -0.12755279206],[51.50076696772, -0.12750631438],[51.50093748431, -0.12748491695],[51.50108588901, -0.12720507773],[51.50103913346, -0.12652980875],[51.50102646629, -0.12629979696],[51.50102347553, -0.12611261298],[51.50098662095, -0.12549457244],[51.50097498441, -0.12525450222],[51.50097498441, -0.12525450222],[51.50093294794, -0.12438734513],[51.50091866436, -0.12405654356],[51.50092396562, -0.12382579505],[51.50092166203, -0.12368180789],[51.50091958864, -0.12355221947],[51.50084630493, -0.12178302663],[51.50080087769, -0.12007032528],[51.50079741533, -0.1198543456],[51.50077457529, -0.11899079735],[51.50083078348, -0.11857064643],[51.50081475486, -0.11802435092],[51.50081475486, -0.11802435092],[51.50081093815, -0.11789428063],[51.50074294776, -0.11758010289],[51.50053001507, -0.11719985919],[51.5004276948, -0.11698795571],[51.50037007595, -0.11675980243],[51.50046499764, -0.11651095266],[51.5006458528, -0.11601362065],[51.50069792186, -0.11589620836],[51.50061357245, -0.11568356575],[51.50055757066, -0.11555620298],[51.50048220724, -0.11534319092],[51.50035153534, -0.11504601346],[51.50009926972, -0.11477454508],[51.50009926972, -0.11477454508],[51.50006785917, -0.11474074378],[51.49982911519, -0.11443362333],[51.49970904834, -0.11423686954],[51.49958828652, -0.11399692214],[51.49888052003, -0.11248453206],[51.49873969558, -0.11211575495],[51.49867354442, -0.11191678365],[51.49856843268, -0.11153212627],[51.49848688696, -0.11116744999],[51.49848688696, -0.11116744999],[51.49829709487, -0.1103187154],[51.49830376135, -0.11017436591],[51.49837419788, -0.10952311942],[51.4983679306, -0.10913437903],[51.4983969117, -0.10870095737],[51.49842774915, -0.10838271761],[51.49844590368, -0.1081410691]]",
            "stopPoints": [
             {
              "$type": "Tfl.Api.Presentation.Entities.Identifier, Tfl.Api.Presentation.Entities",
              "id": "490G00008651",
              "name": "Royal Crescent",
              "routeType": "Unknown",
              "status": "Unknown",
              "type": "StopPoint",
              "uri": "/StopPoint/490G00008651"
             },
             {
              "$type": "Tfl.Api.Presentation.Entities.Identifier, Tfl.Api.Presentation.Entities",
              "id": "490G00010305",
              "name": "Norland Square",
              "routeType": "Unknown",
              "status": "Unknown",
              "type": "StopPoint",
              "uri": "/StopPoint/490G00010305"
             },
             {
              "$type": "Tfl.Api.Presentation.Entities.Identifier, Tfl.Api.Presentation.Entities",
              "id": "490G00113G",
              "name": "Holland Park",
              "routeType": "Unknown",
              "status": "Unknown",
              "type": "StopPoint",
              "uri": "/StopPoint/490G00113G"
             },
             {
              "$type": "Tfl.Api.Presentation.Entities.Identifier, Tfl.Api.Presentation.Entities",
              "id": "490G00019162",
              "name": "Notting Hill Gate Stn  / Hillgate St",
              "routeType": "Unknown",
              "status": "Unknown",
              "type": "StopPoint",
              "uri": "/StopPoint/490G00019162"
             },
             {
              "$type": "Tfl.Api.Presentation.Entities.Identifier, Tfl.Api.Presentation.Entities",
              "id": "490G000897",
              "name": "Palace Gardens Terrace",
              "routeType": "Unknown",
              "status": "Unknown",
              "type": "StopPoint",
              "uri": "/StopPoint/490G000897"
             },
             {
              "$type": "Tfl.Api.Presentation.Entities.Identifier, Tfl.Api.Presentation.Entities",
              "id": "490G00010632",
              "name": "Orme Square",
              "routeType": "Unknown",
              "status": "Unknown",
              "type": "StopPoint",
              "uri": "/StopPoint/490G00010632"
             },
             {
              "$type": "Tfl.Api.Presentation.Entities.Identifier, Tfl.Api.Presentation.Entities",
              "id": "490G00187B",
              "name": "Queensway Station",
              "routeType": "Unknown",
              "status": "Unknown",
              "type": "StopPoint",
              "uri": "/StopPoint/490G00187B"
             },
             {
              "$type": "Tfl.Api.Presentation.Entities.Identifier, Tfl.Api.Presentation.Entities",
              "id": "490G00009081",
              "name": "Leinster Terrace",
              "routeType": "Unknown",
              "status": "Unknown",
              "type": "StopPoint",
              "uri": "/StopPoint/490G00009081"
             },
             {
              "$type": "Tfl.Api.Presentation.Entities.Identifier, Tfl.Api.Presentation.Entities",
              "id": "490G00003121",
              "name": "Lancaster Gate",
              "routeType": "Unknown",
              "status": "Unknown",
              "type": "StopPoint",
              "uri": "/StopPoint/490G00003121"
             },
             {
              "$type": "Tfl.Api.Presentation.Entities.Identifier, Tfl.Api.Presentation.Entities",
              "id": "490G00133B",
              "name": "Lancaster Gate Station",
              "routeType": "Unknown",
              "status": "Unknown",
              "type": "StopPoint",
              "uri": "/StopPoint/490G00133B"
             },
             {
              "$type": "Tfl.Api.Presentation.Entities.Identifier, Tfl.Api.Presentation.Entities",
              "id": "490G00014055",
              "name": "Victoria Gate",
              "routeType": "Unknown",
              "status": "Unknown",
              "type": "StopPoint",
              "uri": "/StopPoint/490G00014055"
             },
             {
              "$type": "Tfl.Api.Presentation.Entities.Identifier, Tfl.Api.Presentation.Entities",
              "id": "490G00008446",
              "name": "Hyde Park Street",
              "routeType": "Unknown",
              "status": "Unknown",
              "type": "StopPoint",
              "uri": "/StopPoint/490G00008446"
             },
             {
              "$type": "Tfl.Api.Presentation.Entities.Identifier, Tfl.Api.Presentation.Entities",
              "id": "490G00008447",
              "name": "Marble Arch / Bayswater Road",
              "routeType": "Unknown",
              "status": "Unknown",
              "type": "StopPoint",
              "uri": "/StopPoint/490G00008447"
             },
             {
              "$type": "Tfl.Api.Presentation.Entities.Identifier, Tfl.Api.Presentation.Entities",
              "id": "490G00000399",
              "name": "Marble Arch Station  / Park Lane",
              "routeType": "Unknown",
              "status": "Unknown",
              "type": "StopPoint",
              "uri": "/StopPoint/490G00000399"
             },
             {
              "$type": "Tfl.Api.Presentation.Entities.Identifier, Tfl.Api.Presentation.Entities",
              "id": "490G00006111",
              "name": "Dorchester Hotel",
              "routeType": "Unknown",
              "status": "Unknown",
              "type": "StopPoint",
              "uri": "/StopPoint/490G00006111"
             },
             {
              "$type": "Tfl.Api.Presentation.Entities.Identifier, Tfl.Api.Presentation.Entities",
              "id": "490G00009277",
              "name": "London Hilton Hotel",
              "routeType": "Unknown",
              "status": "Unknown",
              "type": "StopPoint",
              "uri": "/StopPoint/490G00009277"
             },
             {
              "$type": "Tfl.Api.Presentation.Entities.Identifier, Tfl.Api.Presentation.Entities",
              "id": "490G00119F",
              "name": "Hyde Park Corner Station",
              "routeType": "Unknown",
              "status": "Unknown",
              "type": "StopPoint",
              "uri": "/StopPoint/490G00119F"
             },
             {
              "$type": "Tfl.Api.Presentation.Entities.Identifier, Tfl.Api.Presentation.Entities",
              "id": "490G00014728",
              "name": "Wilton Street",
              "routeType": "Unknown",
              "status": "Unknown",
              "type": "StopPoint",
              "uri": "/StopPoint/490G00014728"
             },
             {
              "$type": "Tfl.Api.Presentation.Entities.Identifier, Tfl.Api.Presentation.Entities",
              "id": "490G000931",
              "name": "Bressenden Place",
              "routeType": "Unknown",
              "status": "Unknown",
              "type": "StopPoint",
              "uri": "/StopPoint/490G000931"
             },
             {
              "$type": "Tfl.Api.Presentation.Entities.Identifier, Tfl.Api.Presentation.Entities",
              "id": "490G00014496",
              "name": "Westminster Cathedral",
              "routeType": "Unknown",
              "status": "Unknown",
              "type": "StopPoint",
              "uri": "/StopPoint/490G00014496"
             },
             {
              "$type": "Tfl.Api.Presentation.Entities.Identifier, Tfl.Api.Presentation.Entities",
              "id": "490G000394",
              "name": "Westminster City Hall",
              "routeType": "Unknown",
              "status": "Unknown",
              "type": "StopPoint",
              "uri": "/StopPoint/490G000394"
             },
             {
              "$type": "Tfl.Api.Presentation.Entities.Identifier, Tfl.Api.Presentation.Entities",
              "id": "490G00221V",
              "name": "St James's Park Station",
              "routeType": "Unknown",
              "status": "Unknown",
              "type": "StopPoint",
              "uri": "/StopPoint/490G00221V"
             },
             {
              "$type": "Tfl.Api.Presentation.Entities.Identifier, Tfl.Api.Presentation.Entities",
              "id": "490G000828",
              "name": "Westminster Abbey",
              "routeType": "Unknown",
              "status": "Unknown",
              "type": "StopPoint",
              "uri": "/StopPoint/490G000828"
             },
             {
              "$type": "Tfl.Api.Presentation.Entities.Identifier, Tfl.Api.Presentation.Entities",
              "id": "490G000829",
              "name": "Westminster Stn  / Westmr Pier",
              "routeType": "Unknown",
              "status": "Unknown",
              "type": "StopPoint",
              "uri": "/StopPoint/490G000829"
             },
             {
              "$type": "Tfl.Api.Presentation.Entities.Identifier, Tfl.Api.Presentation.Entities",
              "id": "490G00018956",
              "name": "St Thomas' Hospital / County Hall",
              "routeType": "Unknown",
              "status": "Unknown",
              "type": "StopPoint",
              "uri": "/StopPoint/490G00018956"
             },
             {
              "$type": "Tfl.Api.Presentation.Entities.Identifier, Tfl.Api.Presentation.Entities",
              "id": "490G00009420",
              "name": "Lower Marsh",
              "routeType": "Unknown",
              "status": "Unknown",
              "type": "StopPoint",
              "uri": "/StopPoint/490G00009420"
             },
             {
              "$type": "Tfl.Api.Presentation.Entities.Identifier, Tfl.Api.Presentation.Entities",
              "id": "490G00132G",
              "name": "Lambeth North Station",
              "routeType": "Unknown",
              "status": "Unknown",
              "type": "StopPoint",
              "uri": "/StopPoint/490G00132G"
             },
             {
              "$type": "Tfl.Api.Presentation.Entities.Identifier, Tfl.Api.Presentation.Entities",
              "id": "490G00012693",
              "name": "St George's Circus",
              "routeType": "Unknown",
              "status": "Unknown",
              "type": "StopPoint",
              "uri": "/StopPoint/490G00012693"
             }
            ]
           },
           "plannedWorks": [],
           "routeOptions": [
            {
             "$type": "Tfl.Api.Presentation.Entities.JourneyPlanner.RouteOption, Tfl.Api.Presentation.Entities",
             "directions": [
              "Camberwell Green"
             ],
             "lineIdentifier": {
              "$type": "Tfl.Api.Presentation.Entities.Identifier, Tfl.Api.Presentation.Entities",
              "crowding": {
               "$type": "Tfl.Api.Presentation.Entities.Crowding, Tfl.Api.Presentation.Entities"
              },
              "id": "148",
              "name": "148",
              "routeType": "Unknown",
              "status": "Unknown",
              "type": "Line",
              "uri": "/Line/148"
             },
             "name": "148"
            }
           ]
          },
          {
           "$type": "Tfl.Api.Presentation.Entities.JourneyPlanner.Leg, Tfl.Api.Presentation.Entities",
           "arrivalPoint": {
            "$type": "Tfl.Api.Presentation.Entities.StopPoint, Tfl.Api.Presentation.Entities",
            "additionalProperties": [],
            "commonName": "Bricklayer's Arms / Tower Bridge Road",
            "icsCode": "1019012",
            "lat": 51.49563106005,
            "lon": -0.0834599038,
            "naptanId": "490G00019012",
            "placeType": "StopPoint",
            "platformName": "",
            "stopLetter": "BH"
           },
           "arrivalTime": "2021-04-30T01:11:00",
           "departurePoint": {
            "$type": "Tfl.Api.Presentation.Entities.StopPoint, Tfl.Api.Presentation.Entities",
            "additionalProperties": [],
            "commonName": "St George's Circus",
            "icsCode": "1012693",
            "lat": 51.499336713880005,
            "lon": -0.10619833358000001,
            "naptanId": "490G00012693",
            "placeType": "StopPoint",
            "platformName": "T",
            "stopLetter": "T"
           },
           "departureTime": "2021-04-30T01:06:00",
           "disruptions": [],
           "duration": 5,
           "hasFixedLocations": true,
           "instruction": {
            "$type": "Tfl.Api.Presentation.Entities.Instruction, Tfl.Api.Presentation.Entities",
            "detailed": "N1 bus towards Thamesmead",
            "steps": [],
            "summary": "N1 bus to Bricklayers Arms/Twr Bridge Rd"
           },
           "isDisrupted": false,
           "mode": {
            "$type": "Tfl.Api.Presentation.Entities.Identifier, Tfl.Api.Presentation.Entities",
            "id": "bus",
            "name": "bus",
            "routeType": "Unknown",
            "status": "Unknown",
            "type": "Mode"
           },
           "obstacles": [],
           "path": {
            "$type": "Tfl.Api.Presentation.Entities.JourneyPlanner.Path, Tfl.Api.Presentation.Entities",
            "elevation": [],
            "lineString": "[[51.49922692318, -0.10642707284],[51.4988472548, -0.10595928696],[51.49875343594, -0.10571824853],[51.49866744015, -0.10540484919],[51.49876187234, -0.10512719007],[51.49889914245, -0.10471808461],[51.49879633452, -0.10447742139],[51.49861613825, -0.10445608274],[51.49831655688, -0.10428121628],[51.49777424623, -0.10355454297],[51.49771939567, -0.10349919093],[51.49696689598, -0.10256515968],[51.49629643313, -0.10169978405],[51.49607343237, -0.10138454673],[51.49607343237, -0.10138454673],[51.4956430045, -0.10077609922],[51.49563600882, -0.10034419346],[51.49555046544, -0.1000596195],[51.4953598824, -0.09995229256],[51.49524072488, -0.09981318332],[51.49509799455, -0.09932930198],[51.49505794409, -0.09907822846],[51.49505794409, -0.09907822846],[51.49496786667, -0.09851355335],[51.4949383392, -0.09835631245],[51.49490904499, -0.09821346836],[51.49472358887, -0.09731359235],[51.49466569862, -0.09707109668],[51.49437226571, -0.09561388855],[51.49431343668, -0.09531381138],[51.49419205279, -0.09444845027],[51.49419205279, -0.09444845027],[51.49415070683, -0.09415370102],[51.49417410648, -0.09282736352],[51.49418443799, -0.09180409857],[51.49422070159, -0.09126955766],[51.49422984721, -0.09017431004],[51.49423344065, -0.08984281888],[51.49427016441, -0.08933706875],[51.49431107981, -0.08768220367],[51.49431107981, -0.08768220367],[51.49432435512, -0.08714506634],[51.49440247588, -0.08642148656],[51.494437482, -0.08636239573],[51.4946872232, -0.08623668617],[51.49486225298, -0.08594122858],[51.4948492716, -0.08569686475],[51.49476891848, -0.08518160416],[51.49478289486, -0.08493611116],[51.4948141382, -0.08464667525],[51.49500643125, -0.08430726775],[51.49506792522, -0.08421825112],[51.49535695061, -0.08374512485],[51.49553244453, -0.08347844684],[51.49559684402, -0.0833934036]]",
            "stopPoints": [
             {
              "$type": "Tfl.Api.Presentation.Entities.Identifier, Tfl.Api.Presentation.Entities",
              "id": "490G000642",
              "name": "Elephant & Castle / London Road",
              "routeType": "Unknown",
              "status": "Unknown",
              "type": "StopPoint",
              "uri": "/StopPoint/490G000642"
             },
             {
              "$type": "Tfl.Api.Presentation.Entities.Identifier, Tfl.Api.Presentation.Entities",
              "id": "490G000645",
              "name": "Elephant & Castle / New Kent Road",
              "routeType": "Unknown",
              "status": "Unknown",
              "type": "StopPoint",
              "uri": "/StopPoint/490G000645"
             },
             {
              "$type": "Tfl.Api.Presentation.Entities.Identifier, Tfl.Api.Presentation.Entities",
              "id": "490G00011632",
              "name": "Rodney Place",
              "routeType": "Unknown",
              "status": "Unknown",
              "type": "StopPoint",
              "uri": "/StopPoint/490G00011632"
             },
             {
              "$type": "Tfl.Api.Presentation.Entities.Identifier, Tfl.Api.Presentation.Entities",
              "id": "490G00003658",
              "name": "Bricklayer's Arms / New Kent Road",
              "routeType": "Unknown",
              "status": "Unknown",
              "type": "StopPoint",
              "uri": "/StopPoint/490G00003658"
             },
             {
              "$type": "Tfl.Api.Presentation.Entities.Identifier, Tfl.Api.Presentation.Entities",
              "id": "490G00019012",
              "name": "Bricklayer's Arms / Tower Bridge Road",
              "routeType": "Unknown",
              "status": "Unknown",
              "type": "StopPoint",
              "uri": "/StopPoint/490G00019012"
             }
            ]
           },
           "plannedWorks": [],
           "routeOptions": [
            {
             "$type": "Tfl.Api.Presentation.Entities.JourneyPlanner.RouteOption, Tfl.Api.Presentation.Entities",
             "directions": [
              "Thamesmead"
             ],
             "lineIdentifier": {
              "$type": "Tfl.Api.Presentation.Entities.Identifier, Tfl.Api.Presentation.Entities",
              "crowding": {
               "$type": "Tfl.Api.Presentation.Entities.Crowding, Tfl.Api.Presentation.Entities"
              },
              "id": "n1",
              "name": "N1",
              "routeType": "Unknown",
              "status": "Unknown",
              "type": "Line",
              "uri": "/Line/n1"
             },
             "name": "N1"
            }
           ]
          },
          {
           "$type": "Tfl.Api.Presentation.Entities.JourneyPlanner.Leg, Tfl.Api.Presentation.Entities",
           "arrivalPoint": {
            "$type": "Tfl.Api.Presentation.Entities.Place, Tfl.Api.Presentation.Entities",
            "commonName": "SE1 4TW",
            "lat": 51.496527864600004,
            "lon": -0.08275956985,
            "placeType": "StopPoint"
           },
           "arrivalTime": "2021-04-30T01:14:00",
           "departurePoint": {
            "$type": "Tfl.Api.Presentation.Entities.StopPoint, Tfl.Api.Presentation.Entities",
            "additionalProperties": [],
            "commonName": "Bricklayer's Arms / Tower Bridge Road",
            "icsCode": "1019012",
            "lat": 51.49563106005,
            "lon": -0.0834599038,
            "naptanId": "490G00019012",
            "placeType": "StopPoint",
            "platformName": "",
            "stopLetter": "BH"
           },
           "departureTime": "2021-04-30T01:11:00",
           "disruptions": [],
           "distance": 158,
           "duration": 3,
           "hasFixedLocations": false,
           "instruction": {
            "$type": "Tfl.Api.Presentation.Entities.Instruction, Tfl.Api.Presentation.Entities",
            "detailed": "Walk to SE1 4TW",
            "steps": [
             {
              "$type": "Tfl.Api.Presentation.Entities.InstructionStep, Tfl.Api.Presentation.Entities",
              "cumulativeDistance": 42,
              "cumulativeTravelTime": 38,
              "description": "Tower Bridge Road for 42 metres",
              "descriptionHeading": "Continue along ",
              "distance": 42,
              "latitude": 51.49559393784,
              "longitude": -0.08338942807,
              "pathAttribute": {
               "$type": "Tfl.Api.Presentation.Entities.PathAttribute, Tfl.Api.Presentation.Entities"
              },
              "skyDirection": 398,
              "skyDirectionDescription": "North",
              "streetName": "Tower Bridge Road",
              "trackType": "None",
              "turnDirection": "STRAIGHT"
             },
             {
              "$type": "Tfl.Api.Presentation.Entities.InstructionStep, Tfl.Api.Presentation.Entities",
              "cumulativeDistance": 97,
              "cumulativeTravelTime": 89,
              "description": "on to Rothsay Street, continue for 55 metres",
              "descriptionHeading": "Turn left",
              "distance": 55,
              "latitude": 51.49589359364,
              "longitude": -0.08301669159,
              "pathAttribute": {
               "$type": "Tfl.Api.Presentation.Entities.PathAttribute, Tfl.Api.Presentation.Entities"
              },
              "skyDirection": 318,
              "skyDirectionDescription": "North",
              "streetName": "Rothsay Street",
              "trackType": "None",
              "turnDirection": "LEFT"
             },
             {
              "$type": "Tfl.Api.Presentation.Entities.InstructionStep, Tfl.Api.Presentation.Entities",
              "cumulativeDistance": 158,
              "cumulativeTravelTime": 144,
              "description": "for 61 metres",
              "descriptionHeading": "Turn right",
              "distance": 61,
              "latitude": 51.49626199286,
              "longitude": -0.08354869259999999,
              "pathAttribute": {
               "$type": "Tfl.Api.Presentation.Entities.PathAttribute, Tfl.Api.Presentation.Entities"
              },
              "skyDirection": 409,
              "skyDirectionDescription": "North",
              "streetName": "",
              "trackType": "None",
              "turnDirection": "RIGHT"
             }
            ],
            "summary": "Walk to SE1 4TW"
           },
           "isDisrupted": false,
           "mode": {
            "$type": "Tfl.Api.Presentation.Entities.Identifier, Tfl.Api.Presentation.Entities",
            "id": "walking",
            "name": "walking",
            "routeType": "Unknown",
            "status": "Unknown",
            "type": "Mode"
           },
           "obstacles": [],
           "path": {
            "$type": "Tfl.Api.Presentation.Entities.JourneyPlanner.Path, Tfl.Api.Presentation.Entities",
            "elevation": [],
            "lineString": "[[51.49559393784, -0.08338942807],[51.49581412775, -0.08310646548],[51.49589359364, -0.08301669159],[51.49597635424, -0.08312847282],[51.49626199286, -0.0835486926],[51.49658437223, -0.08291567437],[51.49661062545, -0.08287135213],[51.4965278646, -0.08275956985]]",
            "stopPoints": []
           },
           "plannedWorks": [],
           "routeOptions": [
            {
             "$type": "Tfl.Api.Presentation.Entities.JourneyPlanner.RouteOption, Tfl.Api.Presentation.Entities",
             "directions": [
              ""
             ],
             "name": ""
            }
           ]
          }
         ],
         "startDateTime": "2021-04-29T23:14:00"
        },
        {
         "$type": "Tfl.Api.Presentation.Entities.JourneyPlanner.Journey, Tfl.Api.Presentation.Entities",
         "arrivalDateTime": "2021-04-30T01:17:00",
         "duration": 112,
         "legs": [
          {
           "$type": "Tfl.Api.Presentation.Entities.JourneyPlanner.Leg, Tfl.Api.Presentation.Entities",
           "arrivalPoint": {
            "$type": "Tfl.Api.Presentation.Entities.StopPoint, Tfl.Api.Presentation.Entities",
            "additionalProperties": [],
            "commonName": "Heathrow Central Bus Stn (Rail-Air)",
            "icsCode": "1008016",
            "lat": 51.47136544841,
            "lon": -0.45345569183,
            "naptanId": "910GHTRWCBS",
            "placeType": "StopPoint",
            "platformName": "19"
           },
           "arrivalTime": "2021-04-29T23:31:00",
           "departurePoint": {
            "$type": "Tfl.Api.Presentation.Entities.StopPoint, Tfl.Api.Presentation.Entities",
            "additionalProperties": [],
            "commonName": "TW6 1AP",
            "icsCode": "99999997",
            "lat": 51.47237578901,
            "lon": -0.4509737622,
            "placeType": "StopPoint",
            "platformName": ""
           },
           "departureTime": "2021-04-29T23:25:00",
           "disruptions": [],
           "distance": 363,
           "duration": 6,
           "hasFixedLocations": true,
           "instruction": {
            "$type": "Tfl.Api.Presentation.Entities.Instruction, Tfl.Api.Presentation.Entities",
            "detailed": "Walk to Heathrow Central Bus Station",
            "steps": [
             {
              "$type": "Tfl.Api.Presentation.Entities.InstructionStep, Tfl.Api.Presentation.Entities",
              "cumulativeDistance": 166,
              "cumulativeTravelTime": 153,
              "description": " for 166 metres",
              "descriptionHeading": "Continue along ",
              "distance": 166,
              "latitude": 51.47215621597,
              "longitude": -0.45136995977,
              "pathAttribute": {
               "$type": "Tfl.Api.Presentation.Entities.PathAttribute, Tfl.Api.Presentation.Entities"
              },
              "skyDirection": 504,
              "skyDirectionDescription": "North",
              "streetName": "",
              "trackType": "None",
              "turnDirection": "STRAIGHT"
             },
             {
              "$type": "Tfl.Api.Presentation.Entities.InstructionStep, Tfl.Api.Presentation.Entities",
              "cumulativeDistance": 196,
              "cumulativeTravelTime": 179,
              "description": "on to Inner Ring East, continue for 30 metres",
              "descriptionHeading": "Take a slight right",
              "distance": 30,
              "latitude": 51.471216443630006,
              "longitude": -0.4517041426,
              "pathAttribute": {
               "$type": "Tfl.Api.Presentation.Entities.PathAttribute, Tfl.Api.Presentation.Entities"
              },
              "skyDirection": 312,
              "skyDirectionDescription": "North",
              "streetName": "Inner Ring East",
              "trackType": "None",
              "turnDirection": "SLIGHT_RIGHT"
             },
             {
              "$type": "Tfl.Api.Presentation.Entities.InstructionStep, Tfl.Api.Presentation.Entities",
              "cumulativeDistance": 363,
              "cumulativeTravelTime": 332,
              "description": "on to Control Tower Road, continue for 167 metres",
              "descriptionHeading": "Continue along ",
              "distance": 167,
              "latitude": 51.47140038817,
              "longitude": -0.45201467883,
              "pathAttribute": {
               "$type": "Tfl.Api.Presentation.Entities.PathAttribute, Tfl.Api.Presentation.Entities"
              },
              "skyDirection": 506,
              "skyDirectionDescription": "North",
              "streetName": "Control Tower Road",
              "trackType": "None",
              "turnDirection": "U_TURN"
             }
            ],
            "summary": "Walk to Heathrow Central Bus Station"
           },
           "isDisrupted": false,
           "mode": {
            "$type": "Tfl.Api.Presentation.Entities.Identifier, Tfl.Api.Presentation.Entities",
            "id": "walking",
            "name": "walking",
            "routeType": "Unknown",
            "status": "Unknown",
            "type": "Mode"
           },
           "obstacles": [],
           "path": {
            "$type": "Tfl.Api.Presentation.Entities.JourneyPlanner.Path, Tfl.Api.Presentation.Entities",
            "elevation": [],
            "lineString": "[[51.47237578901, -0.4509737622],[51.47215621597, -0.45136995977],[51.47162672488, -0.45076875706],[51.4714825331, -0.45074484442],[51.47121897008, -0.45121451622],[51.47121644363, -0.4517041426],[51.47140038817, -0.45201467883],[51.47129100956, -0.45190319442],[51.47104756751, -0.45185384127],[51.47086299442, -0.45217684784],[51.47097389233, -0.45240346593],[51.47101509723, -0.4534819363]]",
            "stopPoints": []
           },
           "plannedWorks": [],
           "routeOptions": [
            {
             "$type": "Tfl.Api.Presentation.Entities.JourneyPlanner.RouteOption, Tfl.Api.Presentation.Entities",
             "directions": [
              ""
             ],
             "name": ""
            }
           ]
          },
          {
           "$type": "Tfl.Api.Presentation.Entities.JourneyPlanner.Leg, Tfl.Api.Presentation.Entities",
           "arrivalPoint": {
            "$type": "Tfl.Api.Presentation.Entities.StopPoint, Tfl.Api.Presentation.Entities",
            "additionalProperties": [],
            "commonName": "Newport Road",
            "icsCode": "1010245",
            "lat": 51.48033031768,
            "lon": -0.45957538585,
            "naptanId": "490G00010245",
            "placeType": "StopPoint",
            "platformName": "",
            "stopLetter": "BS"
           },
           "arrivalTime": "2021-04-29T23:33:00",
           "departurePoint": {
            "$type": "Tfl.Api.Presentation.Entities.StopPoint, Tfl.Api.Presentation.Entities",
            "additionalProperties": [],
            "commonName": "Heathrow Central Bus Stn (Rail-Air)",
            "icsCode": "1008016",
            "lat": 51.47136544841,
            "lon": -0.45345569183,
            "naptanId": "910GHTRWCBS",
            "placeType": "StopPoint",
            "platformName": "19"
           },
           "departureTime": "2021-04-29T23:31:00",
           "disruptions": [],
           "duration": 2,
           "hasFixedLocations": true,
           "instruction": {
            "$type": "Tfl.Api.Presentation.Entities.Instruction, Tfl.Api.Presentation.Entities",
            "detailed": "105 bus towards Greenford Station or 278 bus towards Ruislip or 111 bus towards Kingston",
            "steps": [],
            "summary": "105 bus or 278 bus or 111 bus to Newport Road"
           },
           "isDisrupted": false,
           "mode": {
            "$type": "Tfl.Api.Presentation.Entities.Identifier, Tfl.Api.Presentation.Entities",
            "id": "bus",
            "name": "bus",
            "routeType": "Unknown",
            "status": "Unknown",
            "type": "Mode"
           },
           "obstacles": [],
           "path": {
            "$type": "Tfl.Api.Presentation.Entities.JourneyPlanner.Path, Tfl.Api.Presentation.Entities",
            "elevation": [],
            "lineString": "[[51.47101407422, -0.45348903241],[51.47102977877, -0.45391338582],[51.47123340134, -0.45435284892],[51.47164382467, -0.45410860501],[51.47176814204, -0.45398921576],[51.4718389094, -0.45390043298],[51.47199993852, -0.45383739555],[51.47215027137, -0.45364513232],[51.47265000589, -0.45335466072],[51.47292750196, -0.45325888387],[51.47348382278, -0.45316807442],[51.47415718024, -0.45308770308],[51.47983216464, -0.45315493627],[51.48028233488, -0.45319731136],[51.48051216594, -0.45357836826],[51.4805808203, -0.45537619694],[51.48058255226, -0.45687386359],[51.480532032, -0.45713478996],[51.48032199499, -0.45757391089],[51.48025907736, -0.45757603333],[51.47999264857, -0.45782983811],[51.48000068956, -0.45912565839],[51.48004790025, -0.45929687979],[51.48024791081, -0.45946295338],[51.48031159651, -0.45944031377]]",
            "stopPoints": [
             {
              "$type": "Tfl.Api.Presentation.Entities.Identifier, Tfl.Api.Presentation.Entities",
              "id": "490G00010245",
              "name": "Newport Road",
              "routeType": "Unknown",
              "status": "Unknown",
              "type": "StopPoint",
              "uri": "/StopPoint/490G00010245"
             }
            ]
           },
           "plannedWorks": [],
           "routeOptions": [
            {
             "$type": "Tfl.Api.Presentation.Entities.JourneyPlanner.RouteOption, Tfl.Api.Presentation.Entities",
             "directions": [
              "Greenford Station"
             ],
             "lineIdentifier": {
              "$type": "Tfl.Api.Presentation.Entities.Identifier, Tfl.Api.Presentation.Entities",
              "crowding": {
               "$type": "Tfl.Api.Presentation.Entities.Crowding, Tfl.Api.Presentation.Entities"
              },
              "id": "105",
              "name": "105",
              "routeType": "Unknown",
              "status": "Unknown",
              "type": "Line",
              "uri": "/Line/105"
             },
             "name": "105"
            },
            {
             "$type": "Tfl.Api.Presentation.Entities.JourneyPlanner.RouteOption, Tfl.Api.Presentation.Entities",
             "directions": [
              "Ruislip"
             ],
             "lineIdentifier": {
              "$type": "Tfl.Api.Presentation.Entities.Identifier, Tfl.Api.Presentation.Entities",
              "crowding": {
               "$type": "Tfl.Api.Presentation.Entities.Crowding, Tfl.Api.Presentation.Entities"
              },
              "id": "278",
              "name": "278",
              "routeType": "Unknown",
              "status": "Unknown",
              "type": "Line",
              "uri": "/Line/278"
             },
             "name": "278"
            },
            {
             "$type": "Tfl.Api.Presentation.Entities.JourneyPlanner.RouteOption, Tfl.Api.Presentation.Entities",
             "directions": [
              "Kingston"
             ],
             "lineIdentifier": {
              "$type": "Tfl.Api.Presentation.Entities.Identifier, Tfl.Api.Presentation.Entities",
              "crowding": {
               "$type": "Tfl.Api.Presentation.Entities.Crowding, Tfl.Api.Presentation.Entities"
              },
              "id": "111",
              "name": "111",
              "routeType": "Unknown",
              "status": "Unknown",
              "type": "Line",
              "uri": "/Line/111"
             },
             "name": "111"
            }
           ]
          },
          {
           "$type": "Tfl.Api.Presentation.Entities.JourneyPlanner.Leg, Tfl.Api.Presentation.Entities",
           "arrivalPoint": {
            "$type": "Tfl.Api.Presentation.Entities.StopPoint, Tfl.Api.Presentation.Entities",
            "additionalProperties": [],
            "commonName": "Hounslow West Station",
            "icsCode": "1000118",
            "lat": 51.4729425193,
            "lon": -0.3856557626,
            "naptanId": "490G00118B",
            "placeType": "StopPoint",
            "platformName": "A",
            "stopLetter": "A"
           },
           "arrivalTime": "2021-04-29T23:50:00",
           "departurePoint": {
            "$type": "Tfl.Api.Presentation.Entities.StopPoint, Tfl.Api.Presentation.Entities",
            "additionalProperties": [],
            "commonName": "Newport Road",
            "icsCode": "1010245",
            "lat": 51.48102681122,
            "lon": -0.46194254242,
            "naptanId": "490G00010245",
            "placeType": "StopPoint",
            "platformName": "",
            "stopLetter": "BB"
           },
           "departureTime": "2021-04-29T23:39:00",
           "disruptions": [
            {
             "$type": "Tfl.Api.Presentation.Entities.Disruption, Tfl.Api.Presentation.Entities",
             "additionalInfo": "Find out more and&nbsp;<a href=\"https://tfl.gov.uk/modes/buses/bus-changes?intcmp=47904#on-this-page-1\">which routes</a> are affected.",
             "category": "PlannedWork",
             "categoryDescription": "PlannedWork",
             "created": "2021-03-04T11:18:00",
             "description": "We are committed to helping London's schools remain open and operate safely and to help this 200 extra buses on our network continue to operate. We will also be prioritising some of our bus services for school travel from this date. Government guidance allows for all seats to be occupied on these 'school services', doubling their capacity, which is currently limited due to necessary social distancing. These 'school services' will be clearly signed and will operate on several key routes between 0730-0900 (some routes will run until 0930) and 1430-1630 on weekdays. On designated routes 'school services' will operate on an every other bus basis. We ask that schoolchildren travelling without adults use the designated 'school services' where these are provided, to help ensure space for customers on other services.",
             "lastUpdate": "2021-04-19T12:42:00",
             "summary": "",
             "type": "lineInfo"
            }
           ],
           "duration": 11,
           "hasFixedLocations": true,
           "instruction": {
            "$type": "Tfl.Api.Presentation.Entities.Instruction, Tfl.Api.Presentation.Entities",
            "detailed": "81 bus towards Hounslow Bus Station",
            "steps": [],
            "summary": "81 bus to Hounslow West Station"
           },
           "isDisrupted": true,
           "mode": {
            "$type": "Tfl.Api.Presentation.Entities.Identifier, Tfl.Api.Presentation.Entities",
            "id": "bus",
            "name": "bus",
            "routeType": "Unknown",
            "status": "Unknown",
            "type": "Mode"
           },
           "obstacles": [],
           "path": {
            "$type": "Tfl.Api.Presentation.Entities.JourneyPlanner.Path, Tfl.Api.Presentation.Entities",
            "elevation": [],
            "lineString": "[[51.48099976193, -0.46194591774],[51.48095067379, -0.4609370118],[51.48099828363, -0.45976890164],[51.4810906338, -0.45858487926],[51.48112318079, -0.45832455735],[51.48128929481, -0.45591391834],[51.48129013154, -0.45529462871],[51.48129236583, -0.45501490104],[51.48129236583, -0.45501490104],[51.48129691805, -0.45444471504],[51.4813390818, -0.45355040017],[51.48137203681, -0.45059698657],[51.48135277608, -0.4498199607],[51.4812593432, -0.44824648928],[51.4812593432, -0.44824648928],[51.48124865507, -0.44806651712],[51.48118141416, -0.44638383501],[51.48115790672, -0.44596699318],[51.48110660893, -0.44485074433],[51.48110660893, -0.44485074433],[51.48105679557, -0.44376702021],[51.48103806298, -0.44303318812],[51.48101148482, -0.44238603203],[51.48094665055, -0.44089050135],[51.48091833743, -0.44011379483],[51.48089063509, -0.43919645045],[51.48089063509, -0.43919645045],[51.48085402792, -0.43798459424],[51.48083621828, -0.43732274234],[51.48077896367, -0.43572615539],[51.48076859265, -0.43494884035],[51.48075211113, -0.43438775421],[51.48074139338, -0.43425850962],[51.48074004802, -0.43415774669],[51.48072740776, -0.4338845552],[51.48069032907, -0.43309839139],[51.48069032907, -0.43309839139],[51.48065213014, -0.43228859374],[51.48063170332, -0.42874658466],[51.4807350556, -0.42651532735],[51.4807350556, -0.42651532735],[51.48074327993, -0.4263377336],[51.48078145873, -0.42583237365],[51.4809098962, -0.42401338102],[51.48093105628, -0.42358061078],[51.48099590984, -0.42261420937],[51.48099590984, -0.42261420937],[51.48104341969, -0.42190617429],[51.48126090105, -0.4200264766],[51.48127716756, -0.41973193202],[51.48127716756, -0.41973193202],[51.48136208978, -0.41819398861],[51.48134882974, -0.4178776143],[51.48121586028, -0.41668689413],[51.48051086688, -0.41375905236],[51.48027370119, -0.41284560526],[51.48005720113, -0.41204923993],[51.48005720113, -0.41204923993],[51.48003711323, -0.41197535075],[51.47975323824, -0.41093393623],[51.4797155306, -0.41080563771],[51.4796399198, -0.41053464712],[51.47948868509, -0.40999430559],[51.47948868509, -0.40999430559],[51.47917686339, -0.40888024733],[51.4790260231, -0.40836706795],[51.47893106288, -0.40799595373],[51.47879917213, -0.40755412356],[51.47871397939, -0.40724027535],[51.47852561539, -0.40661320888],[51.47829953507, -0.40585785727],[51.47815119939, -0.40534555443],[51.47815119939, -0.40534555443],[51.47796929568, -0.40471733364],[51.47792942717, -0.40443071562],[51.47794681565, -0.40438690751],[51.47798120085, -0.40427050394],[51.47788603189, -0.40388501336],[51.47778559649, -0.40377331589],[51.47762809778, -0.40343320534],[51.4769693816, -0.40118133713],[51.4769693816, -0.40118133713],[51.47683584143, -0.40072484635],[51.47649381445, -0.39938320797],[51.47601886104, -0.39752785119],[51.47587210777, -0.39698325082],[51.47587210777, -0.39698325082],[51.4757536223, -0.39654356138],[51.47570061199, -0.39595503005],[51.47575001122, -0.3956221025],[51.47572166884, -0.3955222985],[51.47569450799, -0.39550885171],[51.47551238525, -0.39534244527],[51.47535092223, -0.39471452635],[51.47526589255, -0.39441511906],[51.47509721084, -0.3939170564],[51.47497228372, -0.39333106303],[51.47485752523, -0.39283111243],[51.47467649426, -0.39208870357],[51.47440862073, -0.39108603012],[51.47440862073, -0.39108603012],[51.47430681304, -0.3907049667],[51.47408882888, -0.38989187964],[51.47392812772, -0.38932156904],[51.47352226457, -0.38792475294],[51.47348433416, -0.38778209924],[51.47316587878, -0.38685739222],[51.47295923305, -0.38621673013],[51.47303735141, -0.38601238855],[51.47292604584, -0.38566947249]]",
            "stopPoints": [
             {
              "$type": "Tfl.Api.Presentation.Entities.Identifier, Tfl.Api.Presentation.Entities",
              "id": "490G00012177",
              "name": "Sipson Way / Blunts Avenue",
              "routeType": "Unknown",
              "status": "Unknown",
              "type": "StopPoint",
              "uri": "/StopPoint/490G00012177"
             },
             {
              "$type": "Tfl.Api.Presentation.Entities.Identifier, Tfl.Api.Presentation.Entities",
              "id": "490G00012176",
              "name": "Nene Road",
              "routeType": "Unknown",
              "status": "Unknown",
              "type": "StopPoint",
              "uri": "/StopPoint/490G00012176"
             },
             {
              "$type": "Tfl.Api.Presentation.Entities.Identifier, Tfl.Api.Presentation.Entities",
              "id": "490G00004139",
              "name": "Bolton's Lane",
              "routeType": "Unknown",
              "status": "Unknown",
              "type": "StopPoint",
              "uri": "/StopPoint/490G00004139"
             },
             {
              "$type": "Tfl.Api.Presentation.Entities.Identifier, Tfl.Api.Presentation.Entities",
              "id": "490G00010251",
              "name": "New Road",
              "routeType": "Unknown",
              "status": "Unknown",
              "type": "StopPoint",
              "uri": "/StopPoint/490G00010251"
             },
             {
              "$type": "Tfl.Api.Presentation.Entities.Identifier, Tfl.Api.Presentation.Entities",
              "id": "490G00007811",
              "name": "Harlington Corner",
              "routeType": "Unknown",
              "status": "Unknown",
              "type": "StopPoint",
              "uri": "/StopPoint/490G00007811"
             },
             {
              "$type": "Tfl.Api.Presentation.Entities.Identifier, Tfl.Api.Presentation.Entities",
              "id": "490G00015397",
              "name": "Nobel Drive",
              "routeType": "Unknown",
              "status": "Unknown",
              "type": "StopPoint",
              "uri": "/StopPoint/490G00015397"
             },
             {
              "$type": "Tfl.Api.Presentation.Entities.Identifier, Tfl.Api.Presentation.Entities",
              "id": "490G00010677",
              "name": "Oxford Avenue",
              "routeType": "Unknown",
              "status": "Unknown",
              "type": "StopPoint",
              "uri": "/StopPoint/490G00010677"
             },
             {
              "$type": "Tfl.Api.Presentation.Entities.Identifier, Tfl.Api.Presentation.Entities",
              "id": "490G00013596",
              "name": "Craneswater",
              "routeType": "Unknown",
              "status": "Unknown",
              "type": "StopPoint",
              "uri": "/StopPoint/490G00013596"
             },
             {
              "$type": "Tfl.Api.Presentation.Entities.Identifier, Tfl.Api.Presentation.Entities",
              "id": "490G00005704",
              "name": "Waye Avenue",
              "routeType": "Unknown",
              "status": "Unknown",
              "type": "StopPoint",
              "uri": "/StopPoint/490G00005704"
             },
             {
              "$type": "Tfl.Api.Presentation.Entities.Identifier, Tfl.Api.Presentation.Entities",
              "id": "490G00013235",
              "name": "The Avenue",
              "routeType": "Unknown",
              "status": "Unknown",
              "type": "StopPoint",
              "uri": "/StopPoint/490G00013235"
             },
             {
              "$type": "Tfl.Api.Presentation.Entities.Identifier, Tfl.Api.Presentation.Entities",
              "id": "490G00013495",
              "name": "The Parkway",
              "routeType": "Unknown",
              "status": "Unknown",
              "type": "StopPoint",
              "uri": "/StopPoint/490G00013495"
             },
             {
              "$type": "Tfl.Api.Presentation.Entities.Identifier, Tfl.Api.Presentation.Entities",
              "id": "490G00011470",
              "name": "Rectory Road",
              "routeType": "Unknown",
              "status": "Unknown",
              "type": "StopPoint",
              "uri": "/StopPoint/490G00011470"
             },
             {
              "$type": "Tfl.Api.Presentation.Entities.Identifier, Tfl.Api.Presentation.Entities",
              "id": "490G00015462",
              "name": "Henlys Roundabout",
              "routeType": "Unknown",
              "status": "Unknown",
              "type": "StopPoint",
              "uri": "/StopPoint/490G00015462"
             },
             {
              "$type": "Tfl.Api.Presentation.Entities.Identifier, Tfl.Api.Presentation.Entities",
              "id": "490G000040",
              "name": "Great West Road / Renfrew Road",
              "routeType": "Unknown",
              "status": "Unknown",
              "type": "StopPoint",
              "uri": "/StopPoint/490G000040"
             },
             {
              "$type": "Tfl.Api.Presentation.Entities.Identifier, Tfl.Api.Presentation.Entities",
              "id": "490G00118B",
              "name": "Hounslow West Station",
              "routeType": "Unknown",
              "status": "Unknown",
              "type": "StopPoint",
              "uri": "/StopPoint/490G00118B"
             }
            ]
           },
           "plannedWorks": [],
           "routeOptions": [
            {
             "$type": "Tfl.Api.Presentation.Entities.JourneyPlanner.RouteOption, Tfl.Api.Presentation.Entities",
             "directions": [
              "Hounslow Bus Station"
             ],
             "lineIdentifier": {
              "$type": "Tfl.Api.Presentation.Entities.Identifier, Tfl.Api.Presentation.Entities",
              "crowding": {
               "$type": "Tfl.Api.Presentation.Entities.Crowding, Tfl.Api.Presentation.Entities"
              },
              "id": "81",
              "name": "81",
              "routeType": "Unknown",
              "status": "Unknown",
              "type": "Line",
              "uri": "/Line/81"
             },
             "name": "81"
            }
           ]
          },
          {
           "$type": "Tfl.Api.Presentation.Entities.JourneyPlanner.Leg, Tfl.Api.Presentation.Entities",
           "arrivalPoint": {
            "$type": "Tfl.Api.Presentation.Entities.StopPoint, Tfl.Api.Presentation.Entities",
            "additionalProperties": [],
            "commonName": "Hammersmith Bus Station",
            "icsCode": "1007705",
            "lat": 51.49259065112,
            "lon": -0.22450195684,
            "naptanId": "490G000565",
            "placeType": "StopPoint",
            "platformName": "",
            "stopLetter": "Z1"
           },
           "arrivalTime": "2021-04-30T00:23:00",
           "departurePoint": {
            "$type": "Tfl.Api.Presentation.Entities.StopPoint, Tfl.Api.Presentation.Entities",
            "additionalProperties": [],
            "commonName": "Hounslow West Station",
            "icsCode": "1000118",
            "lat": 51.47289460746,
            "lon": -0.38544147045000005,
            "naptanId": "490G00118B",
            "placeType": "StopPoint",
            "platformName": "B",
            "stopLetter": "B"
           },
           "departureTime": "2021-04-29T23:55:00",
           "disruptions": [
            {
             "$type": "Tfl.Api.Presentation.Entities.Disruption, Tfl.Api.Presentation.Entities",
             "additionalInfo": "Find out more and&nbsp;<a href=\"https://tfl.gov.uk/modes/buses/bus-changes?intcmp=47904#on-this-page-1\">which routes</a> are affected.",
             "category": "PlannedWork",
             "categoryDescription": "PlannedWork",
             "created": "2021-03-04T11:18:00",
             "description": "We are committed to helping London's schools remain open and operate safely and to help this 200 extra buses on our network continue to operate. We will also be prioritising some of our bus services for school travel from this date. Government guidance allows for all seats to be occupied on these 'school services', doubling their capacity, which is currently limited due to necessary social distancing. These 'school services' will be clearly signed and will operate on several key routes between 0730-0900 (some routes will run until 0930) and 1430-1630 on weekdays. On designated routes 'school services' will operate on an every other bus basis. We ask that schoolchildren travelling without adults use the designated 'school services' where these are provided, to help ensure space for customers on other services.",
             "lastUpdate": "2021-04-19T12:42:00",
             "summary": "",
             "type": "lineInfo"
            }
           ],
           "duration": 28,
           "hasFixedLocations": true,
           "instruction": {
            "$type": "Tfl.Api.Presentation.Entities.Instruction, Tfl.Api.Presentation.Entities",
            "detailed": "H91 bus towards Hammersmith",
            "steps": [],
            "summary": "H91 bus to Hammersmith Bus Station"
           },
           "isDisrupted": true,
           "mode": {
            "$type": "Tfl.Api.Presentation.Entities.Identifier, Tfl.Api.Presentation.Entities",
            "id": "bus",
            "name": "bus",
            "routeType": "Unknown",
            "status": "Unknown",
            "type": "Mode"
           },
           "obstacles": [],
           "path": {
            "$type": "Tfl.Api.Presentation.Entities.JourneyPlanner.Path, Tfl.Api.Presentation.Entities",
            "elevation": [],
            "lineString": "[[51.47286109253, -0.3854693631],[51.47303735141, -0.38601238855],[51.47295923305, -0.38621673013],[51.47316587878, -0.38685739222],[51.47365917403, -0.3865560776],[51.47365917403, -0.3865560776],[51.47406653169, -0.38630725001],[51.47477645381, -0.38561982335],[51.47504311938, -0.3853944161],[51.47578898748, -0.38470569046],[51.47629614385, -0.384313377],[51.47642098321, -0.38423696615],[51.47646552619, -0.38420659225],[51.47650590397, -0.38387396481],[51.47657965311, -0.38335295642],[51.47659167836, -0.38325388829],[51.47659167836, -0.38325388829],[51.47666040286, -0.38268769792],[51.47671636943, -0.38218171502],[51.47687924285, -0.38095193974],[51.47693559945, -0.38047473872],[51.47719811746, -0.37849840611],[51.47719811746, -0.37849840611],[51.47727768035, -0.37789937311],[51.47731823927, -0.37758112782],[51.47752221678, -0.37607625287],[51.47774775786, -0.37420580337],[51.47774775786, -0.37420580337],[51.47778031002, -0.37393582087],[51.47796107214, -0.37270534975],[51.47805813825, -0.37192426627],[51.47859989341, -0.36779044431],[51.47859989341, -0.36779044431],[51.47865161717, -0.36739570657],[51.47883849029, -0.36596335567],[51.47897583469, -0.36484958285],[51.47901615723, -0.36451692125],[51.47905748271, -0.36425622751],[51.4791150904, -0.36382072361],[51.4791150904, -0.36382072361],[51.47912255795, -0.36376426932],[51.47920420044, -0.36317091026],[51.47924411628, -0.36280945816],[51.47932575391, -0.36221609593],[51.47987670707, -0.35801693758],[51.47987670707, -0.35801693758],[51.47999208419, -0.35713741796],[51.48007369293, -0.35654403651],[51.48022013695, -0.35544427795],[51.4803430409, -0.35459018136],[51.48062336583, -0.35277992098],[51.48077768107, -0.35186608333],[51.48077768107, -0.35186608333],[51.48085580753, -0.35140340863],[51.48131259654, -0.34935631203],[51.48178671631, -0.34726534217],[51.48185415476, -0.34694606522],[51.48198862305, -0.34627871961],[51.48213414154, -0.34525716848],[51.48213414154, -0.34525716848],[51.48224226175, -0.34449811128],[51.48237147178, -0.34252790987],[51.48237147178, -0.34252790987],[51.48244201382, -0.34145206297],[51.48246409047, -0.34110561463],[51.48249189488, -0.34052852628],[51.48263374719, -0.33773653638],[51.48263374719, -0.33773653638],[51.48268174605, -0.33679150412],[51.48270401309, -0.33645944666],[51.48294217649, -0.3315457228],[51.48294217649, -0.3315457228],[51.4829543537, -0.33129436998],[51.48310172155, -0.32901344393],[51.48316674535, -0.32856720605],[51.48316674535, -0.32856720605],[51.48338021164, -0.32710216284],[51.48348739784, -0.32642133135],[51.48378244146, -0.32504230052],[51.48395175054, -0.32445867902],[51.48395175054, -0.32445867902],[51.48407383051, -0.32403785097],[51.48417674424, -0.32368841693],[51.48466193711, -0.32240318758],[51.48486144401, -0.32189176933],[51.48532192147, -0.32076584123],[51.48534880116, -0.32070108339],[51.48534880116, -0.32070108339],[51.48570438691, -0.31984440033],[51.48625203723, -0.31852798238],[51.48633902344, -0.31832313731],[51.48679089139, -0.31722625972],[51.48744222778, -0.31561788645],[51.4876584386, -0.31501936909],[51.48786730036, -0.31445161829],[51.48786730036, -0.31445161829],[51.48812576626, -0.31374901046],[51.48829951419, -0.31332488855],[51.4884561138, -0.31295901199],[51.4889167108, -0.31184730288],[51.48943039293, -0.3106759922],[51.48956168073, -0.31042626717],[51.48979613177, -0.30971192352],[51.48979613177, -0.30971192352],[51.48994931489, -0.30924518208],[51.49000911425, -0.3090269038],[51.49005218372, -0.30889567052],[51.49088948981, -0.30647351062],[51.49115147056, -0.30530875879],[51.49115147056, -0.30530875879],[51.49137956201, -0.30429462381],[51.49142262609, -0.30416338224],[51.49139212408, -0.30391963155],[51.4914073922, -0.30373180177],[51.49148125364, -0.3020004744],[51.49149906178, -0.30074658724],[51.49150556662, -0.30018133399],[51.49150556662, -0.30018133399],[51.491518954, -0.29901725964],[51.49155303064, -0.29826693589],[51.49151227523, -0.29793714071],[51.4915032601, -0.2948404228],[51.49147167493, -0.29390528313],[51.49146038345, -0.29374725084],[51.49147246948, -0.29272405198],[51.49151884798, -0.29220374259],[51.49157714752, -0.29188465555],[51.4916872839, -0.29157060302],[51.49172595014, -0.29160539941],[51.49245109816, -0.28953275197],[51.49241371045, -0.28949910786],[51.49287215763, -0.28819170067],[51.49300355497, -0.28733686088],[51.49299850833, -0.2869913207],[51.49277096891, -0.28557372336],[51.49266368676, -0.28500153662],[51.49256583788, -0.28465487506],[51.49256583788, -0.28465487506],[51.49239813887, -0.28406075847],[51.4922937994, -0.28369014171],[51.49216333942, -0.28337812832],[51.49178157459, -0.28248495241],[51.49184237806, -0.28233861702],[51.49188913219, -0.2818470882],[51.49187866823, -0.28174664629],[51.49180065085, -0.28133183399],[51.49185955372, -0.28105592311],[51.49195145067, -0.28057709936],[51.49200655137, -0.28004203808],[51.49210923691, -0.27907303044],[51.49213990434, -0.27871174734],[51.49217078201, -0.27836486095],[51.49221209707, -0.27794497883],[51.49221209707, -0.27794497883],[51.49223337999, -0.27772867563],[51.49233932118, -0.2763705946],[51.49239877902, -0.275766214],[51.49239877902, -0.275766214],[51.49243320055, -0.27541630875],[51.49250307544, -0.27466459877],[51.49257811835, -0.27365339623],[51.49262292789, -0.27303227592],[51.49281741517, -0.27158439074],[51.49285039388, -0.27138146829],[51.49288927685, -0.27081196001],[51.49288927685, -0.27081196001],[51.49293913599, -0.27008162581],[51.49294302589, -0.26973574897],[51.49291995266, -0.26939089314],[51.49289730342, -0.26907483236],[51.49268332138, -0.26676368051],[51.49262970516, -0.26557007351],[51.49257967723, -0.2648892199],[51.49257967723, -0.2648892199],[51.49256215017, -0.26465069901],[51.49253373446, -0.26394591932],[51.49245976884, -0.26259463485],[51.49245784915, -0.2624650605],[51.49244867533, -0.26184598325],[51.49244376706, -0.26151484904],[51.49244376706, -0.26151484904],[51.49243949823, -0.26122690633],[51.49244378904, -0.26090982741],[51.49245772438, -0.26003057609],[51.49247206748, -0.25978514044],[51.49250075213, -0.2592942687],[51.49252558682, -0.25854424784],[51.49254014061, -0.25831320857],[51.49255335695, -0.258081421],[51.49255335695, -0.258081421],[51.49260434335, -0.25718714724],[51.49261140499, -0.25705723009],[51.49265933384, -0.25604702882],[51.49270404994, -0.2554258924],[51.49274383456, -0.25447361971],[51.49278105551, -0.25395360451],[51.49282154183, -0.25303651019],[51.49282154183, -0.25303651019],[51.49284156966, -0.25258277979],[51.49285182034, -0.2520637934],[51.49286099545, -0.25147282087],[51.49294632862, -0.25056201359],[51.4929781968, -0.25028709017],[51.49304236096, -0.24976603672],[51.49310624109, -0.24927125674],[51.49310624109, -0.24927125674],[51.49317132725, -0.24876711738],[51.49321217847, -0.248491847],[51.49326842274, -0.24804311957],[51.49332999501, -0.24734929217],[51.49333683054, -0.24720497438],[51.49335582219, -0.24674964397],[51.49335582219, -0.24674964397],[51.4933765482, -0.24625268296],[51.49340259157, -0.24558902656],[51.49343078572, -0.2450693427],[51.49344229608, -0.24463673267],[51.49349098008, -0.24368409191],[51.49353217917, -0.24283257626],[51.49353771467, -0.24260187327],[51.49355928213, -0.24224090282],[51.49355604504, -0.24202494273],[51.49356257862, -0.24126119228],[51.49355890785, -0.24101643763],[51.49353169517, -0.24026828273],[51.49353169517, -0.24026828273],[51.49349768155, -0.23933333615],[51.49348350624, -0.23898814736],[51.49346142383, -0.23871529162],[51.49339733599, -0.23804069864],[51.49332793545, -0.23761120722],[51.49322386253, -0.23714848127],[51.49322386253, -0.23714848127],[51.49316411615, -0.23688284326],[51.49309730929, -0.2366261217],[51.49304804327, -0.23633991294],[51.49294842621, -0.23569551183],[51.4929243376, -0.2352406338],[51.4929243376, -0.2352406338],[51.49292330323, -0.23522110183],[51.49290186215, -0.2349914427],[51.49282919933, -0.23434600505],[51.49322333561, -0.23424434337],[51.49371611418, -0.23412446236],[51.4938862206, -0.23407467163],[51.49406574779, -0.23405332807],[51.49444147566, -0.23392356043],[51.49446419537, -0.23304391988],[51.49447635226, -0.23261636543],[51.49447635226, -0.23261636543],[51.49448182757, -0.23242378229],[51.49447727018, -0.23212143366],[51.49449402903, -0.23144370544],[51.49447613842, -0.23085375392],[51.49447860901, -0.23042147972],[51.49447404646, -0.23011913145],[51.49447404646, -0.23011913145],[51.49446970044, -0.22983118078],[51.49442310102, -0.22912709509],[51.49439033907, -0.22814876168],[51.49439721735, -0.22741379251],[51.49380064483, -0.2266158063],[51.49361282209, -0.22613708873],[51.49361282209, -0.22613708873],[51.49356682039, -0.22601984219],[51.49310749593, -0.22478439212],[51.49302247048, -0.22451399052],[51.49305580336, -0.22433982929],[51.49307884074, -0.22407963476],[51.49310868408, -0.22367512011],[51.49292654222, -0.2235237399],[51.49289669938, -0.22392825301],[51.49283025256, -0.22429097155],[51.49263842032, -0.22468737086],[51.49255235611, -0.22458296959]]",
            "stopPoints": [
             {
              "$type": "Tfl.Api.Presentation.Entities.Identifier, Tfl.Api.Presentation.Entities",
              "id": "490G000053",
              "name": "Hounslow West Stn  / Vicarage Farm Rd",
              "routeType": "Unknown",
              "status": "Unknown",
              "type": "StopPoint",
              "uri": "/StopPoint/490G000053"
             },
             {
              "$type": "Tfl.Api.Presentation.Entities.Identifier, Tfl.Api.Presentation.Entities",
              "id": "490G00014037",
              "name": "Vicarage Farm Road",
              "routeType": "Unknown",
              "status": "Unknown",
              "type": "StopPoint",
              "uri": "/StopPoint/490G00014037"
             },
             {
              "$type": "Tfl.Api.Presentation.Entities.Identifier, Tfl.Api.Presentation.Entities",
              "id": "490G00007436",
              "name": "Greencroft Road",
              "routeType": "Unknown",
              "status": "Unknown",
              "type": "StopPoint",
              "uri": "/StopPoint/490G00007436"
             },
             {
              "$type": "Tfl.Api.Presentation.Entities.Identifier, Tfl.Api.Presentation.Entities",
              "id": "490G00013078",
              "name": "Sutton Lane",
              "routeType": "Unknown",
              "status": "Unknown",
              "type": "StopPoint",
              "uri": "/StopPoint/490G00013078"
             },
             {
              "$type": "Tfl.Api.Presentation.Entities.Identifier, Tfl.Api.Presentation.Entities",
              "id": "490G000347",
              "name": "Lampton School",
              "routeType": "Unknown",
              "status": "Unknown",
              "type": "StopPoint",
              "uri": "/StopPoint/490G000347"
             },
             {
              "$type": "Tfl.Api.Presentation.Entities.Identifier, Tfl.Api.Presentation.Entities",
              "id": "490G00008925",
              "name": "Lampton Road",
              "routeType": "Unknown",
              "status": "Unknown",
              "type": "StopPoint",
              "uri": "/StopPoint/490G00008925"
             },
             {
              "$type": "Tfl.Api.Presentation.Entities.Identifier, Tfl.Api.Presentation.Entities",
              "id": "490G00007524",
              "name": "Gresham Road",
              "routeType": "Unknown",
              "status": "Unknown",
              "type": "StopPoint",
              "uri": "/StopPoint/490G00007524"
             },
             {
              "$type": "Tfl.Api.Presentation.Entities.Identifier, Tfl.Api.Presentation.Entities",
              "id": "490G00171A",
              "name": "Osterley Station",
              "routeType": "Unknown",
              "status": "Unknown",
              "type": "StopPoint",
              "uri": "/StopPoint/490G00171A"
             },
             {
              "$type": "Tfl.Api.Presentation.Entities.Identifier, Tfl.Api.Presentation.Entities",
              "id": "490G00010658",
              "name": "Osterley Library",
              "routeType": "Unknown",
              "status": "Unknown",
              "type": "StopPoint",
              "uri": "/StopPoint/490G00010658"
             },
             {
              "$type": "Tfl.Api.Presentation.Entities.Identifier, Tfl.Api.Presentation.Entities",
              "id": "490G00011577",
              "name": "Ridgeway Road",
              "routeType": "Unknown",
              "status": "Unknown",
              "type": "StopPoint",
              "uri": "/StopPoint/490G00011577"
             },
             {
              "$type": "Tfl.Api.Presentation.Entities.Identifier, Tfl.Api.Presentation.Entities",
              "id": "490G00014873",
              "name": "Wood Lane",
              "routeType": "Unknown",
              "status": "Unknown",
              "type": "StopPoint",
              "uri": "/StopPoint/490G00014873"
             },
             {
              "$type": "Tfl.Api.Presentation.Entities.Identifier, Tfl.Api.Presentation.Entities",
              "id": "490G00012686",
              "name": "St Francis Of Assisi Church",
              "routeType": "Unknown",
              "status": "Unknown",
              "type": "StopPoint",
              "uri": "/StopPoint/490G00012686"
             },
             {
              "$type": "Tfl.Api.Presentation.Entities.Identifier, Tfl.Api.Presentation.Entities",
              "id": "490G00007179",
              "name": "Gillette Corner",
              "routeType": "Unknown",
              "status": "Unknown",
              "type": "StopPoint",
              "uri": "/StopPoint/490G00007179"
             },
             {
              "$type": "Tfl.Api.Presentation.Entities.Identifier, Tfl.Api.Presentation.Entities",
              "id": "490G00014416",
              "name": "West Cross Centre",
              "routeType": "Unknown",
              "status": "Unknown",
              "type": "StopPoint",
              "uri": "/StopPoint/490G00014416"
             },
             {
              "$type": "Tfl.Api.Presentation.Entities.Identifier, Tfl.Api.Presentation.Entities",
              "id": "490G00014417",
              "name": "West Cross Way",
              "routeType": "Unknown",
              "status": "Unknown",
              "type": "StopPoint",
              "uri": "/StopPoint/490G00014417"
             },
             {
              "$type": "Tfl.Api.Presentation.Entities.Identifier, Tfl.Api.Presentation.Entities",
              "id": "490G00007421",
              "name": "Boston Manor Road",
              "routeType": "Unknown",
              "status": "Unknown",
              "type": "StopPoint",
              "uri": "/StopPoint/490G00007421"
             },
             {
              "$type": "Tfl.Api.Presentation.Entities.Identifier, Tfl.Api.Presentation.Entities",
              "id": "490G00014772",
              "name": "Windmill Road",
              "routeType": "Unknown",
              "status": "Unknown",
              "type": "StopPoint",
              "uri": "/StopPoint/490G00014772"
             },
             {
              "$type": "Tfl.Api.Presentation.Entities.Identifier, Tfl.Api.Presentation.Entities",
              "id": "490G00006300",
              "name": "Ealing Road",
              "routeType": "Unknown",
              "status": "Unknown",
              "type": "StopPoint",
              "uri": "/StopPoint/490G00006300"
             },
             {
              "$type": "Tfl.Api.Presentation.Entities.Identifier, Tfl.Api.Presentation.Entities",
              "id": "490G00005378",
              "name": "Clayponds Avenue",
              "routeType": "Unknown",
              "status": "Unknown",
              "type": "StopPoint",
              "uri": "/StopPoint/490G00005378"
             },
             {
              "$type": "Tfl.Api.Presentation.Entities.Identifier, Tfl.Api.Presentation.Entities",
              "id": "490G00009200",
              "name": "Lionel Road",
              "routeType": "Unknown",
              "status": "Unknown",
              "type": "StopPoint",
              "uri": "/StopPoint/490G00009200"
             },
             {
              "$type": "Tfl.Api.Presentation.Entities.Identifier, Tfl.Api.Presentation.Entities",
              "id": "490G00014010",
              "name": "Vantage West",
              "routeType": "Unknown",
              "status": "Unknown",
              "type": "StopPoint",
              "uri": "/StopPoint/490G00014010"
             },
             {
              "$type": "Tfl.Api.Presentation.Entities.Identifier, Tfl.Api.Presentation.Entities",
              "id": "490G00007605",
              "name": "Chiswick Roundabout / Gunnersbury",
              "routeType": "Unknown",
              "status": "Unknown",
              "type": "StopPoint",
              "uri": "/StopPoint/490G00007605"
             },
             {
              "$type": "Tfl.Api.Presentation.Entities.Identifier, Tfl.Api.Presentation.Entities",
              "id": "490G000750",
              "name": "Thorney Hedge Road",
              "routeType": "Unknown",
              "status": "Unknown",
              "type": "StopPoint",
              "uri": "/StopPoint/490G000750"
             },
             {
              "$type": "Tfl.Api.Presentation.Entities.Identifier, Tfl.Api.Presentation.Entities",
              "id": "490G00094B",
              "name": "Gunnersbury Station",
              "routeType": "Unknown",
              "status": "Unknown",
              "type": "StopPoint",
              "uri": "/StopPoint/490G00094B"
             },
             {
              "$type": "Tfl.Api.Presentation.Entities.Identifier, Tfl.Api.Presentation.Entities",
              "id": "490G00005211",
              "name": "Chiswick Road",
              "routeType": "Unknown",
              "status": "Unknown",
              "type": "StopPoint",
              "uri": "/StopPoint/490G00005211"
             },
             {
              "$type": "Tfl.Api.Presentation.Entities.Identifier, Tfl.Api.Presentation.Entities",
              "id": "490G000807",
              "name": "Turnham Green Church",
              "routeType": "Unknown",
              "status": "Unknown",
              "type": "StopPoint",
              "uri": "/StopPoint/490G000807"
             },
             {
              "$type": "Tfl.Api.Presentation.Entities.Identifier, Tfl.Api.Presentation.Entities",
              "id": "490G00005423",
              "name": "Clifton Gardens",
              "routeType": "Unknown",
              "status": "Unknown",
              "type": "StopPoint",
              "uri": "/StopPoint/490G00005423"
             },
             {
              "$type": "Tfl.Api.Presentation.Entities.Identifier, Tfl.Api.Presentation.Entities",
              "id": "490G00005210",
              "name": "Chiswick Police Station",
              "routeType": "Unknown",
              "status": "Unknown",
              "type": "StopPoint",
              "uri": "/StopPoint/490G00005210"
             },
             {
              "$type": "Tfl.Api.Presentation.Entities.Identifier, Tfl.Api.Presentation.Entities",
              "id": "490G00013850",
              "name": "Chiswick Lane",
              "routeType": "Unknown",
              "status": "Unknown",
              "type": "StopPoint",
              "uri": "/StopPoint/490G00013850"
             },
             {
              "$type": "Tfl.Api.Presentation.Entities.Identifier, Tfl.Api.Presentation.Entities",
              "id": "490G00012521",
              "name": "Stamford Brook Bus Garage",
              "routeType": "Unknown",
              "status": "Unknown",
              "type": "StopPoint",
              "uri": "/StopPoint/490G00012521"
             },
             {
              "$type": "Tfl.Api.Presentation.Entities.Identifier, Tfl.Api.Presentation.Entities",
              "id": "490G000535",
              "name": "Goldhawk Road / Young's Corner",
              "routeType": "Unknown",
              "status": "Unknown",
              "type": "StopPoint",
              "uri": "/StopPoint/490G000535"
             },
             {
              "$type": "Tfl.Api.Presentation.Entities.Identifier, Tfl.Api.Presentation.Entities",
              "id": "490G00012533",
              "name": "Ravenscourt Park",
              "routeType": "Unknown",
              "status": "Unknown",
              "type": "StopPoint",
              "uri": "/StopPoint/490G00012533"
             },
             {
              "$type": "Tfl.Api.Presentation.Entities.Identifier, Tfl.Api.Presentation.Entities",
              "id": "490G00188A",
              "name": "Ravenscourt Park Station",
              "routeType": "Unknown",
              "status": "Unknown",
              "type": "StopPoint",
              "uri": "/StopPoint/490G00188A"
             },
             {
              "$type": "Tfl.Api.Presentation.Entities.Identifier, Tfl.Api.Presentation.Entities",
              "id": "490G00005937",
              "name": "Dalling Road",
              "routeType": "Unknown",
              "status": "Unknown",
              "type": "StopPoint",
              "uri": "/StopPoint/490G00005937"
             },
             {
              "$type": "Tfl.Api.Presentation.Entities.Identifier, Tfl.Api.Presentation.Entities",
              "id": "490G00015588",
              "name": "Lamington Street",
              "routeType": "Unknown",
              "status": "Unknown",
              "type": "StopPoint",
              "uri": "/StopPoint/490G00015588"
             },
             {
              "$type": "Tfl.Api.Presentation.Entities.Identifier, Tfl.Api.Presentation.Entities",
              "id": "490G00007239",
              "name": "Iffley Road",
              "routeType": "Unknown",
              "status": "Unknown",
              "type": "StopPoint",
              "uri": "/StopPoint/490G00007239"
             },
             {
              "$type": "Tfl.Api.Presentation.Entities.Identifier, Tfl.Api.Presentation.Entities",
              "id": "490G00097T",
              "name": "Hammersmith Stn / H&C and Circle Lines",
              "routeType": "Unknown",
              "status": "Unknown",
              "type": "StopPoint",
              "uri": "/StopPoint/490G00097T"
             },
             {
              "$type": "Tfl.Api.Presentation.Entities.Identifier, Tfl.Api.Presentation.Entities",
              "id": "490G000565",
              "name": "Hammersmith Bus Station",
              "routeType": "Unknown",
              "status": "Unknown",
              "type": "StopPoint",
              "uri": "/StopPoint/490G000565"
             }
            ]
           },
           "plannedWorks": [],
           "routeOptions": [
            {
             "$type": "Tfl.Api.Presentation.Entities.JourneyPlanner.RouteOption, Tfl.Api.Presentation.Entities",
             "directions": [
              "Hammersmith"
             ],
             "lineIdentifier": {
              "$type": "Tfl.Api.Presentation.Entities.Identifier, Tfl.Api.Presentation.Entities",
              "crowding": {
               "$type": "Tfl.Api.Presentation.Entities.Crowding, Tfl.Api.Presentation.Entities"
              },
              "id": "h91",
              "name": "H91",
              "routeType": "Unknown",
              "status": "Unknown",
              "type": "Line",
              "uri": "/Line/h91"
             },
             "name": "H91"
            }
           ]
          },
          {
           "$type": "Tfl.Api.Presentation.Entities.JourneyPlanner.Leg, Tfl.Api.Presentation.Entities",
           "arrivalPoint": {
            "$type": "Tfl.Api.Presentation.Entities.StopPoint, Tfl.Api.Presentation.Entities",
            "additionalProperties": [],
            "commonName": "Northumberland Avenue / Trafalgar Square",
            "icsCode": "1013767",
            "lat": 51.50764280917,
            "lon": -0.12954448446,
            "naptanId": "490G000804",
            "placeType": "StopPoint",
            "platformName": "",
            "stopLetter": "B"
           },
           "arrivalTime": "2021-04-30T00:48:00",
           "departurePoint": {
            "$type": "Tfl.Api.Presentation.Entities.StopPoint, Tfl.Api.Presentation.Entities",
            "additionalProperties": [],
            "commonName": "Hammersmith Bus Station",
            "icsCode": "1007705",
            "lat": 51.49254641849,
            "lon": -0.22395627195,
            "naptanId": "490G000565",
            "placeType": "StopPoint",
            "platformName": "",
            "stopLetter": "F"
           },
           "departureTime": "2021-04-30T00:25:00",
           "disruptions": [],
           "duration": 23,
           "hasFixedLocations": true,
           "instruction": {
            "$type": "Tfl.Api.Presentation.Entities.Instruction, Tfl.Api.Presentation.Entities",
            "detailed": "9 bus towards Aldwych",
            "steps": [],
            "summary": "9 bus to Trafalgar Square"
           },
           "isDisrupted": false,
           "mode": {
            "$type": "Tfl.Api.Presentation.Entities.Identifier, Tfl.Api.Presentation.Entities",
            "id": "bus",
            "name": "bus",
            "routeType": "Unknown",
            "status": "Unknown",
            "type": "Mode"
           },
           "obstacles": [],
           "path": {
            "$type": "Tfl.Api.Presentation.Entities.JourneyPlanner.Path, Tfl.Api.Presentation.Entities",
            "elevation": [],
            "lineString": "[[51.49254577137, -0.22395768944],[51.49283025256, -0.22429097155],[51.49289669938, -0.22392825301],[51.49292654222, -0.2235237399],[51.49307779709, -0.22341702133],[51.49303377754, -0.22288572883],[51.49305288382, -0.22236638725],[51.49307005802, -0.22112684423],[51.49319659439, -0.21998387896],[51.4932033962, -0.21983955834],[51.49323366205, -0.2194638343],[51.49324595244, -0.21908881028],[51.4932496023, -0.21903172639],[51.4932496023, -0.21903172639],[51.4934130545, -0.21647487756],[51.49356715802, -0.21596466389],[51.4936210824, -0.21578876975],[51.4936210824, -0.21578876975],[51.49377277194, -0.21529397184],[51.49386637118, -0.21494457742],[51.49410551597, -0.21411410145],[51.49426793821, -0.21356032892],[51.49441326111, -0.21306484495],[51.49451671837, -0.21277267933],[51.49470204183, -0.21230745853],[51.49470204183, -0.21230745853],[51.49481985472, -0.2120117063],[51.49489744572, -0.2117925785],[51.49505416355, -0.2114551037],[51.49561000721, -0.21016558868],[51.49582369513, -0.20943689778],[51.49591419828, -0.20888590647],[51.4959689705, -0.20835072043],[51.4960086263, -0.20800341014],[51.49606647525, -0.20766979207],[51.49615983134, -0.20730596705],[51.49625230572, -0.2068845489],[51.49664152944, -0.2058752137],[51.49681422114, -0.20540741736],[51.4969127914, -0.20514215643],[51.4969127914, -0.20514215643],[51.49715105266, -0.20450096369],[51.49729743909, -0.20407741145],[51.4974038288, -0.20376137524],[51.4974038288, -0.20376137524],[51.4975038661, -0.20346420553],[51.49782314955, -0.20258722794],[51.49790072261, -0.20236807005],[51.498012919, -0.20206110629],[51.49822832229, -0.20144752806],[51.4983236464, -0.20121326016],[51.49848212303, -0.2007539867],[51.49848212303, -0.2007539867],[51.49853027906, -0.20061442637],[51.49863348374, -0.20030780815],[51.49880983497, -0.19949404872],[51.49891148898, -0.19908663532],[51.49903943913, -0.19863496097],[51.49909969419, -0.19845969565],[51.49927191323, -0.19796304902],[51.49943580703, -0.19750994979],[51.49951447703, -0.19736277003],[51.49960014175, -0.19708564511],[51.49977247803, -0.19659149835],[51.49977247803, -0.19659149835],[51.49996187539, -0.19604842041],[51.50021230837, -0.19537577199],[51.50039327946, -0.19486434765],[51.50054795236, -0.19439718239],[51.50063147985, -0.19416718771],[51.50063147985, -0.19416718771],[51.50089301862, -0.19344702169],[51.50097933941, -0.19321307912],[51.50124861741, -0.19259728681],[51.50136977469, -0.19228992137],[51.5016388257, -0.19165971894],[51.50188291116, -0.19116017279],[51.50199574398, -0.19089635402],[51.5021189959, -0.19014223454],[51.50219254462, -0.18966384158],[51.50234452831, -0.18902384436],[51.50237647355, -0.18876322465],[51.50237091341, -0.18840323221],[51.50235551997, -0.18825436033],[51.50235551997, -0.18825436033],[51.5022863365, -0.1875853023],[51.50225425702, -0.18725517997],[51.50222195401, -0.18691065849],[51.50212949332, -0.18616508913],[51.50207000352, -0.18580724055],[51.50195933913, -0.18504799062],[51.5018632176, -0.18456367735],[51.5018632176, -0.18456367735],[51.50180328927, -0.18426173149],[51.50174624636, -0.18406228217],[51.50167776326, -0.18370479679],[51.50150624696, -0.18250132279],[51.50149547477, -0.18238648535],[51.50145104555, -0.18184074006],[51.50144568752, -0.18149515564],[51.5014483204, -0.18130343707],[51.5014483204, -0.18130343707],[51.50145835521, -0.18057252394],[51.50146421456, -0.18037057516],[51.5014720844, -0.18029822046],[51.50147119071, -0.18024062308],[51.50153235954, -0.17954658966],[51.50157380261, -0.17816174314],[51.50156354629, -0.17692304002],[51.50160617336, -0.1763667839],[51.50160617336, -0.1763667839],[51.5017429474, -0.17458172945],[51.50180049507, -0.17365729478],[51.50180746376, -0.1735273409],[51.5019000637, -0.17196753186],[51.50192526656, -0.17103788626],[51.50192526656, -0.17103788626],[51.50192860897, -0.17091457589],[51.50190884056, -0.1702237641],[51.50185379079, -0.16900125621],[51.50185199227, -0.1688860612],[51.50183693457, -0.16849763843],[51.50182637358, -0.16839720318],[51.50181962633, -0.16796522235],[51.50182186435, -0.16753288121],[51.50182091398, -0.16712782869],[51.50182091398, -0.16712782869],[51.50182027482, -0.16685575109],[51.5017189044, -0.165548659],[51.50167349575, -0.16494533227],[51.50167393338, -0.16316910258],[51.50167393338, -0.16316910258],[51.50167404841, -0.16268320064],[51.50166592629, -0.16216482706],[51.50167152822, -0.16194847655],[51.50172694399, -0.1608944365],[51.50186328072, -0.16041347039],[51.5020534849, -0.15935399288],[51.50223717984, -0.15845326262],[51.50234302614, -0.15660469962],[51.50235760458, -0.15638798279],[51.50245933388, -0.15599484493],[51.50268166805, -0.15526543629],[51.5028538517, -0.15420664572],[51.50292061999, -0.15348398613],[51.50292061999, -0.15348398613],[51.50297678308, -0.15287607161],[51.50299807311, -0.15251499127],[51.50303892369, -0.15225398086],[51.50306384215, -0.15212329372],[51.50311435937, -0.15190511792],[51.50313927744, -0.15177443038],[51.50325601381, -0.1511933527],[51.50327979599, -0.15099066598],[51.50330289665, -0.15074477999],[51.50330279988, -0.15016842877],[51.50376092273, -0.14899715453],[51.50383031675, -0.14883584301],[51.50403040989, -0.14835058751],[51.50403040989, -0.14835058751],[51.50409014443, -0.14820572062],[51.5042284752, -0.14785429249],[51.50442925725, -0.14747151096],[51.50491818178, -0.14654388977],[51.50499655908, -0.14638220579],[51.50504035482, -0.14630838133],[51.50551959994, -0.14533789922],[51.50566781968, -0.14504368807],[51.50583401214, -0.14474874497],[51.50589372996, -0.14454458344],[51.50615604076, -0.14407281429],[51.50642596865, -0.1435142708],[51.50665255626, -0.14305835242],[51.50672216991, -0.14291142246],[51.50694875511, -0.14245549816],[51.50694875511, -0.14245549816],[51.50714098851, -0.14210183746],[51.50752431093, -0.14132250244],[51.50774837857, -0.14070815122],[51.507791714, -0.14060551486],[51.50803397962, -0.14000482571],[51.50816329846, -0.13965370876],[51.50819764623, -0.13955143656],[51.50826898363, -0.13933902458],[51.50826898363, -0.13933902458],[51.50840373098, -0.13893780016],[51.50843762106, -0.13880672447],[51.50861719896, -0.13822298313],[51.50873661104, -0.13781461798],[51.50879654522, -0.13762483593],[51.50897680338, -0.13708428955],[51.50906232377, -0.1368069974],[51.50908768233, -0.13670508774],[51.50925572211, -0.13619348546],[51.50925572211, -0.13619348546],[51.50937074103, -0.1358433007],[51.5094140721, -0.13574065615],[51.50945648737, -0.13558040539],[51.50967245365, -0.1350239738],[51.50974045379, -0.13477621091],[51.50984943911, -0.13484381454],[51.50995636316, -0.1347818036],[51.51011422956, -0.13453036792],[51.51002395632, -0.13394320319],[51.5100961279, -0.13339263412],[51.50993877003, -0.13311084572],[51.50974661115, -0.1329025368],[51.50968232884, -0.13281869933],[51.50965733006, -0.13279420354],[51.50965733006, -0.13279420354],[51.50952703333, -0.13266652896],[51.50924363106, -0.13237549018],[51.50883395601, -0.13206079821],[51.50846875468, -0.13171547141],[51.50808626736, -0.13141408857],[51.50769433368, -0.13108427662],[51.5076344804, -0.13015005748],[51.50761421105, -0.13000678455],[51.50757229389, -0.12963383392],[51.50756518671, -0.12956509332]]",
            "stopPoints": [
             {
              "$type": "Tfl.Api.Presentation.Entities.Identifier, Tfl.Api.Presentation.Entities",
              "id": "490G00008997",
              "name": "Latymer Court",
              "routeType": "Unknown",
              "status": "Unknown",
              "type": "StopPoint",
              "uri": "/StopPoint/490G00008997"
             },
             {
              "$type": "Tfl.Api.Presentation.Entities.Identifier, Tfl.Api.Presentation.Entities",
              "id": "490G00004455",
              "name": "Brook Green",
              "routeType": "Unknown",
              "status": "Unknown",
              "type": "StopPoint",
              "uri": "/StopPoint/490G00004455"
             },
             {
              "$type": "Tfl.Api.Presentation.Entities.Identifier, Tfl.Api.Presentation.Entities",
              "id": "490G00010357",
              "name": "North End Road",
              "routeType": "Unknown",
              "status": "Unknown",
              "type": "StopPoint",
              "uri": "/StopPoint/490G00010357"
             },
             {
              "$type": "Tfl.Api.Presentation.Entities.Identifier, Tfl.Api.Presentation.Entities",
              "id": "490G00008287",
              "name": "Holland Road",
              "routeType": "Unknown",
              "status": "Unknown",
              "type": "StopPoint",
              "uri": "/StopPoint/490G00008287"
             },
             {
              "$type": "Tfl.Api.Presentation.Entities.Identifier, Tfl.Api.Presentation.Entities",
              "id": "490G00003106",
              "name": "Warwick Gardens",
              "routeType": "Unknown",
              "status": "Unknown",
              "type": "StopPoint",
              "uri": "/StopPoint/490G00003106"
             },
             {
              "$type": "Tfl.Api.Presentation.Entities.Identifier, Tfl.Api.Presentation.Entities",
              "id": "490G00005528",
              "name": "The Design Museum",
              "routeType": "Unknown",
              "status": "Unknown",
              "type": "StopPoint",
              "uri": "/StopPoint/490G00005528"
             },
             {
              "$type": "Tfl.Api.Presentation.Entities.Identifier, Tfl.Api.Presentation.Entities",
              "id": "490G00010984",
              "name": "Phillimore Gardens",
              "routeType": "Unknown",
              "status": "Unknown",
              "type": "StopPoint",
              "uri": "/StopPoint/490G00010984"
             },
             {
              "$type": "Tfl.Api.Presentation.Entities.Identifier, Tfl.Api.Presentation.Entities",
              "id": "490G00110R",
              "name": "High Street Kensington Station",
              "routeType": "Unknown",
              "status": "Unknown",
              "type": "StopPoint",
              "uri": "/StopPoint/490G00110R"
             },
             {
              "$type": "Tfl.Api.Presentation.Entities.Identifier, Tfl.Api.Presentation.Entities",
              "id": "490G00011761",
              "name": "Kensington Palace",
              "routeType": "Unknown",
              "status": "Unknown",
              "type": "StopPoint",
              "uri": "/StopPoint/490G00011761"
             },
             {
              "$type": "Tfl.Api.Presentation.Entities.Identifier, Tfl.Api.Presentation.Entities",
              "id": "490G00010728",
              "name": "Palace Gate",
              "routeType": "Unknown",
              "status": "Unknown",
              "type": "StopPoint",
              "uri": "/StopPoint/490G00010728"
             },
             {
              "$type": "Tfl.Api.Presentation.Entities.Identifier, Tfl.Api.Presentation.Entities",
              "id": "490G00019923",
              "name": "Queen's Gate",
              "routeType": "Unknown",
              "status": "Unknown",
              "type": "StopPoint",
              "uri": "/StopPoint/490G00019923"
             },
             {
              "$type": "Tfl.Api.Presentation.Entities.Identifier, Tfl.Api.Presentation.Entities",
              "id": "490G00011750",
              "name": "Royal Albert Hall",
              "routeType": "Unknown",
              "status": "Unknown",
              "type": "StopPoint",
              "uri": "/StopPoint/490G00011750"
             },
             {
              "$type": "Tfl.Api.Presentation.Entities.Identifier, Tfl.Api.Presentation.Entities",
              "id": "490G00011198",
              "name": "Prince Of Wales Gate",
              "routeType": "Unknown",
              "status": "Unknown",
              "type": "StopPoint",
              "uri": "/StopPoint/490G00011198"
             },
             {
              "$type": "Tfl.Api.Presentation.Entities.Identifier, Tfl.Api.Presentation.Entities",
              "id": "490G00011822",
              "name": "Rutland Gardens",
              "routeType": "Unknown",
              "status": "Unknown",
              "type": "StopPoint",
              "uri": "/StopPoint/490G00011822"
             },
             {
              "$type": "Tfl.Api.Presentation.Entities.Identifier, Tfl.Api.Presentation.Entities",
              "id": "490G000575",
              "name": "Knightsbridge Station  / Harrods",
              "routeType": "Unknown",
              "status": "Unknown",
              "type": "StopPoint",
              "uri": "/StopPoint/490G000575"
             },
             {
              "$type": "Tfl.Api.Presentation.Entities.Identifier, Tfl.Api.Presentation.Entities",
              "id": "490G00119A",
              "name": "Hyde Park Corner",
              "routeType": "Unknown",
              "status": "Unknown",
              "type": "StopPoint",
              "uri": "/StopPoint/490G00119A"
             },
             {
              "$type": "Tfl.Api.Presentation.Entities.Identifier, Tfl.Api.Presentation.Entities",
              "id": "490G00010574",
              "name": "Old Park Lane / Hard Rock Cafe",
              "routeType": "Unknown",
              "status": "Unknown",
              "type": "StopPoint",
              "uri": "/StopPoint/490G00010574"
             },
             {
              "$type": "Tfl.Api.Presentation.Entities.Identifier, Tfl.Api.Presentation.Entities",
              "id": "490G00093PE",
              "name": "Green Park Station",
              "routeType": "Unknown",
              "status": "Unknown",
              "type": "StopPoint",
              "uri": "/StopPoint/490G00093PE"
             },
             {
              "$type": "Tfl.Api.Presentation.Entities.Identifier, Tfl.Api.Presentation.Entities",
              "id": "490G00010526",
              "name": "Old Bond Street / Royal Academy",
              "routeType": "Unknown",
              "status": "Unknown",
              "type": "StopPoint",
              "uri": "/StopPoint/490G00010526"
             },
             {
              "$type": "Tfl.Api.Presentation.Entities.Identifier, Tfl.Api.Presentation.Entities",
              "id": "490G00179B",
              "name": "Piccadilly Circus",
              "routeType": "Unknown",
              "status": "Unknown",
              "type": "StopPoint",
              "uri": "/StopPoint/490G00179B"
             },
             {
              "$type": "Tfl.Api.Presentation.Entities.Identifier, Tfl.Api.Presentation.Entities",
              "id": "490G00020307",
              "name": "Haymarket / Jermyn Street",
              "routeType": "Unknown",
              "status": "Unknown",
              "type": "StopPoint",
              "uri": "/StopPoint/490G00020307"
             },
             {
              "$type": "Tfl.Api.Presentation.Entities.Identifier, Tfl.Api.Presentation.Entities",
              "id": "490G000804",
              "name": "Northumberland Avenue / Trafalgar Square",
              "routeType": "Unknown",
              "status": "Unknown",
              "type": "StopPoint",
              "uri": "/StopPoint/490G000804"
             }
            ]
           },
           "plannedWorks": [],
           "routeOptions": [
            {
             "$type": "Tfl.Api.Presentation.Entities.JourneyPlanner.RouteOption, Tfl.Api.Presentation.Entities",
             "directions": [
              "Aldwych"
             ],
             "lineIdentifier": {
              "$type": "Tfl.Api.Presentation.Entities.Identifier, Tfl.Api.Presentation.Entities",
              "crowding": {
               "$type": "Tfl.Api.Presentation.Entities.Crowding, Tfl.Api.Presentation.Entities"
              },
              "id": "9",
              "name": "9",
              "routeType": "Unknown",
              "status": "Unknown",
              "type": "Line",
              "uri": "/Line/9"
             },
             "name": "9"
            }
           ]
          },
          {
           "$type": "Tfl.Api.Presentation.Entities.JourneyPlanner.Leg, Tfl.Api.Presentation.Entities",
           "arrivalPoint": {
            "$type": "Tfl.Api.Presentation.Entities.StopPoint, Tfl.Api.Presentation.Entities",
            "additionalProperties": [],
            "commonName": "Bricklayer's Arms",
            "icsCode": "1004315",
            "lat": 51.49377077004,
            "lon": -0.08463278643,
            "naptanId": "490G00004315",
            "placeType": "StopPoint",
            "platformName": "",
            "stopLetter": "BK"
           },
           "arrivalTime": "2021-04-30T01:11:00",
           "departurePoint": {
            "$type": "Tfl.Api.Presentation.Entities.StopPoint, Tfl.Api.Presentation.Entities",
            "additionalProperties": [],
            "commonName": "Northumberland Avenue / Trafalgar Square",
            "icsCode": "1013767",
            "lat": 51.507628969609996,
            "lon": -0.12980443633,
            "naptanId": "490G000804",
            "placeType": "StopPoint",
            "platformName": "A",
            "stopLetter": "A"
           },
           "departureTime": "2021-04-30T00:53:00",
           "disruptions": [
            {
             "$type": "Tfl.Api.Presentation.Entities.Disruption, Tfl.Api.Presentation.Entities",
             "additionalInfo": "Find out more and&nbsp;<a href=\"https://tfl.gov.uk/modes/buses/bus-changes?intcmp=47904#on-this-page-1\">which routes</a> are affected.",
             "category": "PlannedWork",
             "categoryDescription": "PlannedWork",
             "created": "2021-03-04T11:18:00",
             "description": "We are committed to helping London's schools remain open and operate safely and to help this 200 extra buses on our network continue to operate. We will also be prioritising some of our bus services for school travel from this date. Government guidance allows for all seats to be occupied on these 'school services', doubling their capacity, which is currently limited due to necessary social distancing. These 'school services' will be clearly signed and will operate on several key routes between 0730-0900 (some routes will run until 0930) and 1430-1630 on weekdays. On designated routes 'school services' will operate on an every other bus basis. We ask that schoolchildren travelling without adults use the designated 'school services' where these are provided, to help ensure space for customers on other services.",
             "lastUpdate": "2021-04-19T12:42:00",
             "summary": "",
             "type": "lineInfo"
            }
           ],
           "duration": 18,
           "hasFixedLocations": true,
           "instruction": {
            "$type": "Tfl.Api.Presentation.Entities.Instruction, Tfl.Api.Presentation.Entities",
            "detailed": "453 bus towards Deptford Bridge",
            "steps": [],
            "summary": "453 bus to Bricklayer's Arms"
           },
           "isDisrupted": true,
           "mode": {
            "$type": "Tfl.Api.Presentation.Entities.Identifier, Tfl.Api.Presentation.Entities",
            "id": "bus",
            "name": "bus",
            "routeType": "Unknown",
            "status": "Unknown",
            "type": "Mode"
           },
           "obstacles": [],
           "path": {
            "$type": "Tfl.Api.Presentation.Entities.JourneyPlanner.Path, Tfl.Api.Presentation.Entities",
            "elevation": [],
            "lineString": "[[51.50759264688, -0.12981491969],[51.50757229389, -0.12963383392],[51.50750849702, -0.12901680599],[51.50748730727, -0.12881593069],[51.50750252335, -0.12864238436],[51.5075039263, -0.12816678878],[51.50751592321, -0.12779163061],[51.50753274706, -0.12771888968],[51.50754058422, -0.12764651712],[51.5074463493, -0.12737658596],[51.50738321284, -0.12736476442],[51.50723319894, -0.1275438371],[51.50666290145, -0.12730783765],[51.50599214057, -0.12697509508],[51.5057838378, -0.12688276914],[51.50561148155, -0.1267889698],[51.50526078809, -0.12663168382],[51.50526078809, -0.12663168382],[51.50478725613, -0.12641930865],[51.50430286103, -0.12628959304],[51.50430286103, -0.12628959304],[51.50394735705, -0.12619439472],[51.50310054165, -0.12609945214],[51.50277679228, -0.12609832435],[51.50210325384, -0.126154771],[51.50200417064, -0.12614442687],[51.50168940786, -0.12614292996],[51.50159301169, -0.12613624406],[51.50159301169, -0.12613624406],[51.50116726192, -0.12610671493],[51.50102347553, -0.12611261298],[51.50098662095, -0.12549457244],[51.50093294794, -0.12438734513],[51.50091866436, -0.12405654356],[51.50092396562, -0.12382579505],[51.50092166203, -0.12368180789],[51.50091958864, -0.12355221947],[51.50084630493, -0.12178302663],[51.50080087769, -0.12007032528],[51.50079741533, -0.1198543456],[51.50077457529, -0.11899079735],[51.50083078348, -0.11857064643],[51.50081475486, -0.11802435092],[51.50081475486, -0.11802435092],[51.50081093815, -0.11789428063],[51.50074294776, -0.11758010289],[51.50053001507, -0.11719985919],[51.5004276948, -0.11698795571],[51.50037007595, -0.11675980243],[51.50046499764, -0.11651095266],[51.5006458528, -0.11601362065],[51.50069792186, -0.11589620836],[51.50061357245, -0.11568356575],[51.50055757066, -0.11555620298],[51.50048220724, -0.11534319092],[51.50035153534, -0.11504601346],[51.50009926972, -0.11477454508],[51.50009926972, -0.11477454508],[51.50006785917, -0.11474074378],[51.49982911519, -0.11443362333],[51.49970904834, -0.11423686954],[51.49958828652, -0.11399692214],[51.49888052003, -0.11248453206],[51.49873969558, -0.11211575495],[51.49867354442, -0.11191678365],[51.49856843268, -0.11153212627],[51.49848688696, -0.11116744999],[51.49848688696, -0.11116744999],[51.49829709487, -0.1103187154],[51.49830376135, -0.11017436591],[51.49837419788, -0.10952311942],[51.4983679306, -0.10913437903],[51.4983969117, -0.10870095737],[51.49842774915, -0.10838271761],[51.49844590368, -0.1081410691],[51.49844590368, -0.1081410691],[51.49850917846, -0.10729878778],[51.49851560882, -0.10714003946],[51.49856991502, -0.10660471326],[51.49859842171, -0.10614249264],[51.4985970266, -0.10605610562],[51.49861313945, -0.10594017782],[51.49866744015, -0.10540484919],[51.49876187234, -0.10512719007],[51.49889914245, -0.10471808461],[51.49879633452, -0.10447742139],[51.49861613825, -0.10445608274],[51.49831655688, -0.10428121628],[51.49777424623, -0.10355454297],[51.49771939567, -0.10349919093],[51.49696689598, -0.10256515968],[51.49629643313, -0.10169978405],[51.49607343237, -0.10138454673],[51.49607343237, -0.10138454673],[51.4956430045, -0.10077609922],[51.49563600882, -0.10034419346],[51.49555046544, -0.1000596195],[51.4953598824, -0.09995229256],[51.49524072488, -0.09981318332],[51.49509799455, -0.09932930198],[51.49496786667, -0.09851355335],[51.4949383392, -0.09835631245],[51.49490904499, -0.09821346836],[51.4948294239, -0.09782712345],[51.4948294239, -0.09782712345],[51.49472358887, -0.09731359235],[51.49466569862, -0.09707109668],[51.49437226571, -0.09561388855],[51.49431343668, -0.09531381138],[51.49419205279, -0.09444845027],[51.49419205279, -0.09444845027],[51.49415070683, -0.09415370102],[51.49417410648, -0.09282736352],[51.49418443799, -0.09180409857],[51.49422070159, -0.09126955766],[51.49422984721, -0.09017431004],[51.49423344065, -0.08984281888],[51.49427016441, -0.08933706875],[51.49428486283, -0.08874268547],[51.49428486283, -0.08874268547],[51.49432435512, -0.08714506634],[51.49440247588, -0.08642148656],[51.494437482, -0.08636239573],[51.4946872232, -0.08623668617],[51.49486225298, -0.08594122858],[51.4948492716, -0.08569686475],[51.49476891848, -0.08518160416],[51.49464927367, -0.08501374284],[51.49448610704, -0.08493414385],[51.49423566203, -0.08501667106],[51.49408195205, -0.08496548859],[51.49389065049, -0.08481503975],[51.49375796004, -0.08466112884]]",
            "stopPoints": [
             {
              "$type": "Tfl.Api.Presentation.Entities.Identifier, Tfl.Api.Presentation.Entities",
              "id": "490G00019475",
              "name": "Whitehall / Horseguards Avenue",
              "routeType": "Unknown",
              "status": "Unknown",
              "type": "StopPoint",
              "uri": "/StopPoint/490G00019475"
             },
             {
              "$type": "Tfl.Api.Presentation.Entities.Identifier, Tfl.Api.Presentation.Entities",
              "id": "490G00008376",
              "name": "Horse Guards Parade",
              "routeType": "Unknown",
              "status": "Unknown",
              "type": "StopPoint",
              "uri": "/StopPoint/490G00008376"
             },
             {
              "$type": "Tfl.Api.Presentation.Entities.Identifier, Tfl.Api.Presentation.Entities",
              "id": "490G00020361",
              "name": "Westminster Stn  / Parliament Square",
              "routeType": "Unknown",
              "status": "Unknown",
              "type": "StopPoint",
              "uri": "/StopPoint/490G00020361"
             },
             {
              "$type": "Tfl.Api.Presentation.Entities.Identifier, Tfl.Api.Presentation.Entities",
              "id": "490G00018956",
              "name": "St Thomas' Hospital / County Hall",
              "routeType": "Unknown",
              "status": "Unknown",
              "type": "StopPoint",
              "uri": "/StopPoint/490G00018956"
             },
             {
              "$type": "Tfl.Api.Presentation.Entities.Identifier, Tfl.Api.Presentation.Entities",
              "id": "490G00009420",
              "name": "Lower Marsh",
              "routeType": "Unknown",
              "status": "Unknown",
              "type": "StopPoint",
              "uri": "/StopPoint/490G00009420"
             },
             {
              "$type": "Tfl.Api.Presentation.Entities.Identifier, Tfl.Api.Presentation.Entities",
              "id": "490G00132G",
              "name": "Lambeth North Station",
              "routeType": "Unknown",
              "status": "Unknown",
              "type": "StopPoint",
              "uri": "/StopPoint/490G00132G"
             },
             {
              "$type": "Tfl.Api.Presentation.Entities.Identifier, Tfl.Api.Presentation.Entities",
              "id": "490G00012693",
              "name": "St George's Circus",
              "routeType": "Unknown",
              "status": "Unknown",
              "type": "StopPoint",
              "uri": "/StopPoint/490G00012693"
             },
             {
              "$type": "Tfl.Api.Presentation.Entities.Identifier, Tfl.Api.Presentation.Entities",
              "id": "490G000642",
              "name": "Elephant & Castle / London Road",
              "routeType": "Unknown",
              "status": "Unknown",
              "type": "StopPoint",
              "uri": "/StopPoint/490G000642"
             },
             {
              "$type": "Tfl.Api.Presentation.Entities.Identifier, Tfl.Api.Presentation.Entities",
              "id": "490G000645",
              "name": "Elephant & Castle / New Kent Road",
              "routeType": "Unknown",
              "status": "Unknown",
              "type": "StopPoint",
              "uri": "/StopPoint/490G000645"
             },
             {
              "$type": "Tfl.Api.Presentation.Entities.Identifier, Tfl.Api.Presentation.Entities",
              "id": "490G00011632",
              "name": "Rodney Place",
              "routeType": "Unknown",
              "status": "Unknown",
              "type": "StopPoint",
              "uri": "/StopPoint/490G00011632"
             },
             {
              "$type": "Tfl.Api.Presentation.Entities.Identifier, Tfl.Api.Presentation.Entities",
              "id": "490G00003658",
              "name": "Bricklayer's Arms / New Kent Road",
              "routeType": "Unknown",
              "status": "Unknown",
              "type": "StopPoint",
              "uri": "/StopPoint/490G00003658"
             },
             {
              "$type": "Tfl.Api.Presentation.Entities.Identifier, Tfl.Api.Presentation.Entities",
              "id": "490G00004315",
              "name": "Bricklayer's Arms",
              "routeType": "Unknown",
              "status": "Unknown",
              "type": "StopPoint",
              "uri": "/StopPoint/490G00004315"
             }
            ]
           },
           "plannedWorks": [],
           "routeOptions": [
            {
             "$type": "Tfl.Api.Presentation.Entities.JourneyPlanner.RouteOption, Tfl.Api.Presentation.Entities",
             "directions": [
              "Deptford Bridge"
             ],
             "lineIdentifier": {
              "$type": "Tfl.Api.Presentation.Entities.Identifier, Tfl.Api.Presentation.Entities",
              "crowding": {
               "$type": "Tfl.Api.Presentation.Entities.Crowding, Tfl.Api.Presentation.Entities"
              },
              "id": "453",
              "name": "453",
              "routeType": "Unknown",
              "status": "Unknown",
              "type": "Line",
              "uri": "/Line/453"
             },
             "name": "453"
            }
           ]
          },
          {
           "$type": "Tfl.Api.Presentation.Entities.JourneyPlanner.Leg, Tfl.Api.Presentation.Entities",
           "arrivalPoint": {
            "$type": "Tfl.Api.Presentation.Entities.Place, Tfl.Api.Presentation.Entities",
            "commonName": "SE1 4TW",
            "lat": 51.496527864600004,
            "lon": -0.08275956985,
            "placeType": "StopPoint"
           },
           "arrivalTime": "2021-04-30T01:17:00",
           "departurePoint": {
            "$type": "Tfl.Api.Presentation.Entities.StopPoint, Tfl.Api.Presentation.Entities",
            "additionalProperties": [],
            "commonName": "Bricklayer's Arms",
            "icsCode": "1004315",
            "lat": 51.49377077004,
            "lon": -0.08463278643,
            "naptanId": "490G00004315",
            "placeType": "StopPoint",
            "platformName": "",
            "stopLetter": "BK"
           },
           "departureTime": "2021-04-30T01:11:00",
           "disruptions": [],
           "distance": 397,
           "duration": 6,
           "hasFixedLocations": false,
           "instruction": {
            "$type": "Tfl.Api.Presentation.Entities.Instruction, Tfl.Api.Presentation.Entities",
            "detailed": "Walk to SE1 4TW",
            "steps": [
             {
              "$type": "Tfl.Api.Presentation.Entities.InstructionStep, Tfl.Api.Presentation.Entities",
              "cumulativeDistance": 58,
              "cumulativeTravelTime": 54,
              "description": "New Kent Road for 58 metres",
              "descriptionHeading": "Continue along ",
              "distance": 58,
              "latitude": 51.49376225386,
              "longitude": -0.08466195539,
              "pathAttribute": {
               "$type": "Tfl.Api.Presentation.Entities.PathAttribute, Tfl.Api.Presentation.Entities"
              },
              "skyDirection": 323,
              "skyDirectionDescription": "NorthWest",
              "streetName": "New Kent Road",
              "trackType": "None",
              "turnDirection": "STRAIGHT"
             },
             {
              "$type": "Tfl.Api.Presentation.Entities.InstructionStep, Tfl.Api.Presentation.Entities",
              "cumulativeDistance": 86,
              "cumulativeTravelTime": 79,
              "description": "on to Bricklayers Arms, continue for 28 metres",
              "descriptionHeading": "Continue along ",
              "distance": 28,
              "latitude": 51.49423566202999,
              "longitude": -0.08501667106,
              "pathAttribute": {
               "$type": "Tfl.Api.Presentation.Entities.PathAttribute, Tfl.Api.Presentation.Entities"
              },
              "skyDirection": 370,
              "skyDirectionDescription": "North",
              "streetName": "Bricklayers Arms",
              "trackType": "None",
              "turnDirection": "STRAIGHT"
             },
             {
              "$type": "Tfl.Api.Presentation.Entities.InstructionStep, Tfl.Api.Presentation.Entities",
              "cumulativeDistance": 169,
              "cumulativeTravelTime": 153,
              "description": "on to Tower Bridge Road, continue for 83 metres",
              "descriptionHeading": "Continue along ",
              "distance": 83,
              "latitude": 51.494486107040004,
              "longitude": -0.08493414384999999,
              "pathAttribute": {
               "$type": "Tfl.Api.Presentation.Entities.PathAttribute, Tfl.Api.Presentation.Entities"
              },
              "skyDirection": 387,
              "skyDirectionDescription": "North",
              "streetName": "Tower Bridge Road",
              "trackType": "None",
              "turnDirection": "STRAIGHT"
             },
             {
              "$type": "Tfl.Api.Presentation.Entities.InstructionStep, Tfl.Api.Presentation.Entities",
              "cumulativeDistance": 232,
              "cumulativeTravelTime": 210,
              "description": "on to Green Walk, continue for 63 metres",
              "descriptionHeading": "Turn left",
              "distance": 63,
              "latitude": 51.49506792522,
              "longitude": -0.08421825112,
              "pathAttribute": {
               "$type": "Tfl.Api.Presentation.Entities.PathAttribute, Tfl.Api.Presentation.Entities"
              },
              "skyDirection": 325,
              "skyDirectionDescription": "North",
              "streetName": "Green Walk",
              "trackType": "None",
              "turnDirection": "LEFT"
             },
             {
              "$type": "Tfl.Api.Presentation.Entities.InstructionStep, Tfl.Api.Presentation.Entities",
              "cumulativeDistance": 336,
              "cumulativeTravelTime": 303,
              "description": "on to Alice Street, continue for 104 metres",
              "descriptionHeading": "Take a slight right",
              "distance": 104,
              "latitude": 51.49558650204,
              "longitude": -0.08458548502999999,
              "pathAttribute": {
               "$type": "Tfl.Api.Presentation.Entities.PathAttribute, Tfl.Api.Presentation.Entities"
              },
              "skyDirection": 402,
              "skyDirectionDescription": "North",
              "streetName": "Alice Street",
              "trackType": "None",
              "turnDirection": "SLIGHT_RIGHT"
             },
             {
              "$type": "Tfl.Api.Presentation.Entities.InstructionStep, Tfl.Api.Presentation.Entities",
              "cumulativeDistance": 397,
              "cumulativeTravelTime": 354,
              "description": "for 61 metres",
              "descriptionHeading": "Continue along ",
              "distance": 61,
              "latitude": 51.49626199286,
              "longitude": -0.08354869259999999,
              "pathAttribute": {
               "$type": "Tfl.Api.Presentation.Entities.PathAttribute, Tfl.Api.Presentation.Entities"
              },
              "skyDirection": 409,
              "skyDirectionDescription": "North",
              "streetName": "",
              "trackType": "None",
              "turnDirection": "STRAIGHT"
             }
            ],
            "summary": "Walk to SE1 4TW"
           },
           "isDisrupted": false,
           "mode": {
            "$type": "Tfl.Api.Presentation.Entities.Identifier, Tfl.Api.Presentation.Entities",
            "id": "walking",
            "name": "walking",
            "routeType": "Unknown",
            "status": "Unknown",
            "type": "Mode"
           },
           "obstacles": [],
           "path": {
            "$type": "Tfl.Api.Presentation.Entities.JourneyPlanner.Path, Tfl.Api.Presentation.Entities",
            "elevation": [],
            "lineString": "[[51.49376225386, -0.08466195539],[51.49389065049, -0.08481503975],[51.49408195205, -0.08496548859],[51.49423566203, -0.08501667106],[51.49448610704, -0.08493414385],[51.49461027151, -0.08482809608],[51.4948141382, -0.08464667525],[51.49500643125, -0.08430726775],[51.49506792522, -0.08421825112],[51.49515943595, -0.08431525924],[51.49558650204, -0.08458548503],[51.49626199286, -0.0835486926],[51.49658437223, -0.08291567437],[51.49661062545, -0.08287135213],[51.4965278646, -0.08275956985]]",
            "stopPoints": []
           },
           "plannedWorks": [],
           "routeOptions": [
            {
             "$type": "Tfl.Api.Presentation.Entities.JourneyPlanner.RouteOption, Tfl.Api.Presentation.Entities",
             "directions": [
              ""
             ],
             "name": ""
            }
           ]
          }
         ],
         "startDateTime": "2021-04-29T23:25:00"
        },
        {
         "$type": "Tfl.Api.Presentation.Entities.JourneyPlanner.Journey, Tfl.Api.Presentation.Entities",
         "arrivalDateTime": "2021-04-30T01:36:00",
         "duration": 127,
         "legs": [
          {
           "$type": "Tfl.Api.Presentation.Entities.JourneyPlanner.Leg, Tfl.Api.Presentation.Entities",
           "arrivalPoint": {
            "$type": "Tfl.Api.Presentation.Entities.StopPoint, Tfl.Api.Presentation.Entities",
            "additionalProperties": [],
            "commonName": "Heathrow Central Bus Stn (Rail-Air)",
            "icsCode": "1008016",
            "lat": 51.47136544841,
            "lon": -0.45345569183,
            "naptanId": "910GHTRWCBS",
            "placeType": "StopPoint",
            "platformName": "19"
           },
           "arrivalTime": "2021-04-29T23:35:00",
           "departurePoint": {
            "$type": "Tfl.Api.Presentation.Entities.StopPoint, Tfl.Api.Presentation.Entities",
            "additionalProperties": [],
            "commonName": "TW6 1AP",
            "icsCode": "99999997",
            "lat": 51.47237578901,
            "lon": -0.4509737622,
            "placeType": "StopPoint",
            "platformName": ""
           },
           "departureTime": "2021-04-29T23:29:00",
           "disruptions": [],
           "distance": 363,
           "duration": 6,
           "hasFixedLocations": true,
           "instruction": {
            "$type": "Tfl.Api.Presentation.Entities.Instruction, Tfl.Api.Presentation.Entities",
            "detailed": "Walk to Heathrow Central Bus Station",
            "steps": [
             {
              "$type": "Tfl.Api.Presentation.Entities.InstructionStep, Tfl.Api.Presentation.Entities",
              "cumulativeDistance": 166,
              "cumulativeTravelTime": 153,
              "description": " for 166 metres",
              "descriptionHeading": "Continue along ",
              "distance": 166,
              "latitude": 51.47215621597,
              "longitude": -0.45136995977,
              "pathAttribute": {
               "$type": "Tfl.Api.Presentation.Entities.PathAttribute, Tfl.Api.Presentation.Entities"
              },
              "skyDirection": 504,
              "skyDirectionDescription": "North",
              "streetName": "",
              "trackType": "None",
              "turnDirection": "STRAIGHT"
             },
             {
              "$type": "Tfl.Api.Presentation.Entities.InstructionStep, Tfl.Api.Presentation.Entities",
              "cumulativeDistance": 196,
              "cumulativeTravelTime": 179,
              "description": "on to Inner Ring East, continue for 30 metres",
              "descriptionHeading": "Take a slight right",
              "distance": 30,
              "latitude": 51.471216443630006,
              "longitude": -0.4517041426,
              "pathAttribute": {
               "$type": "Tfl.Api.Presentation.Entities.PathAttribute, Tfl.Api.Presentation.Entities"
              },
              "skyDirection": 312,
              "skyDirectionDescription": "North",
              "streetName": "Inner Ring East",
              "trackType": "None",
              "turnDirection": "SLIGHT_RIGHT"
             },
             {
              "$type": "Tfl.Api.Presentation.Entities.InstructionStep, Tfl.Api.Presentation.Entities",
              "cumulativeDistance": 363,
              "cumulativeTravelTime": 332,
              "description": "on to Control Tower Road, continue for 167 metres",
              "descriptionHeading": "Continue along ",
              "distance": 167,
              "latitude": 51.47140038817,
              "longitude": -0.45201467883,
              "pathAttribute": {
               "$type": "Tfl.Api.Presentation.Entities.PathAttribute, Tfl.Api.Presentation.Entities"
              },
              "skyDirection": 506,
              "skyDirectionDescription": "North",
              "streetName": "Control Tower Road",
              "trackType": "None",
              "turnDirection": "U_TURN"
             }
            ],
            "summary": "Walk to Heathrow Central Bus Station"
           },
           "isDisrupted": false,
           "mode": {
            "$type": "Tfl.Api.Presentation.Entities.Identifier, Tfl.Api.Presentation.Entities",
            "id": "walking",
            "name": "walking",
            "routeType": "Unknown",
            "status": "Unknown",
            "type": "Mode"
           },
           "obstacles": [],
           "path": {
            "$type": "Tfl.Api.Presentation.Entities.JourneyPlanner.Path, Tfl.Api.Presentation.Entities",
            "elevation": [],
            "lineString": "[[51.47237578901, -0.4509737622],[51.47215621597, -0.45136995977],[51.47162672488, -0.45076875706],[51.4714825331, -0.45074484442],[51.47121897008, -0.45121451622],[51.47121644363, -0.4517041426],[51.47140038817, -0.45201467883],[51.47129100956, -0.45190319442],[51.47104756751, -0.45185384127],[51.47086299442, -0.45217684784],[51.47097389233, -0.45240346593],[51.47101509723, -0.4534819363]]",
            "stopPoints": []
           },
           "plannedWorks": [],
           "routeOptions": [
            {
             "$type": "Tfl.Api.Presentation.Entities.JourneyPlanner.RouteOption, Tfl.Api.Presentation.Entities",
             "directions": [
              ""
             ],
             "name": ""
            }
           ]
          },
          {
           "$type": "Tfl.Api.Presentation.Entities.JourneyPlanner.Leg, Tfl.Api.Presentation.Entities",
           "arrivalPoint": {
            "$type": "Tfl.Api.Presentation.Entities.StopPoint, Tfl.Api.Presentation.Entities",
            "additionalProperties": [],
            "commonName": "Hounslow Bus Station",
            "icsCode": "1008392",
            "lat": 51.471188317010004,
            "lon": -0.35519312050999996,
            "naptanId": "490G000601",
            "placeType": "StopPoint",
            "platformName": "D",
            "stopLetter": "D"
           },
           "arrivalTime": "2021-04-29T23:59:00",
           "departurePoint": {
            "$type": "Tfl.Api.Presentation.Entities.StopPoint, Tfl.Api.Presentation.Entities",
            "additionalProperties": [],
            "commonName": "Heathrow Central Bus Stn (Rail-Air)",
            "icsCode": "1008016",
            "lat": 51.47136544841,
            "lon": -0.45345569183,
            "naptanId": "910GHTRWCBS",
            "placeType": "StopPoint",
            "platformName": "19"
           },
           "departureTime": "2021-04-29T23:35:00",
           "disruptions": [
            {
             "$type": "Tfl.Api.Presentation.Entities.Disruption, Tfl.Api.Presentation.Entities",
             "additionalInfo": "Find out more and&nbsp;<a href=\"https://tfl.gov.uk/modes/buses/bus-changes?intcmp=47904#on-this-page-1\">which routes</a> are affected.",
             "category": "PlannedWork",
             "categoryDescription": "PlannedWork",
             "created": "2021-03-04T11:18:00",
             "description": "We are committed to helping London's schools remain open and operate safely and to help this 200 extra buses on our network continue to operate. We will also be prioritising some of our bus services for school travel from this date. Government guidance allows for all seats to be occupied on these 'school services', doubling their capacity, which is currently limited due to necessary social distancing. These 'school services' will be clearly signed and will operate on several key routes between 0730-0900 (some routes will run until 0930) and 1430-1630 on weekdays. On designated routes 'school services' will operate on an every other bus basis. We ask that schoolchildren travelling without adults use the designated 'school services' where these are provided, to help ensure space for customers on other services.",
             "lastUpdate": "2021-04-19T12:42:00",
             "summary": "",
             "type": "lineInfo"
            }
           ],
           "duration": 24,
           "hasFixedLocations": true,
           "instruction": {
            "$type": "Tfl.Api.Presentation.Entities.Instruction, Tfl.Api.Presentation.Entities",
            "detailed": "111 bus towards Kingston",
            "steps": [],
            "summary": "111 bus to Hounslow Bus Station"
           },
           "isDisrupted": true,
           "mode": {
            "$type": "Tfl.Api.Presentation.Entities.Identifier, Tfl.Api.Presentation.Entities",
            "id": "bus",
            "name": "bus",
            "routeType": "Unknown",
            "status": "Unknown",
            "type": "Mode"
           },
           "obstacles": [],
           "path": {
            "$type": "Tfl.Api.Presentation.Entities.JourneyPlanner.Path, Tfl.Api.Presentation.Entities",
            "elevation": [],
            "lineString": "[[51.47101407422, -0.45348903241],[51.47102977877, -0.45391338582],[51.47123340134, -0.45435284892],[51.47164382467, -0.45410860501],[51.47176814204, -0.45398921576],[51.4718389094, -0.45390043298],[51.47199993852, -0.45383739555],[51.47215027137, -0.45364513232],[51.47265000589, -0.45335466072],[51.47292750196, -0.45325888387],[51.47348382278, -0.45316807442],[51.47415718024, -0.45308770308],[51.47983216464, -0.45315493627],[51.48028233488, -0.45319731136],[51.48051216594, -0.45357836826],[51.4805808203, -0.45537619694],[51.48058255226, -0.45687386359],[51.480532032, -0.45713478996],[51.48032199499, -0.45757391089],[51.48025907736, -0.45757603333],[51.47999264857, -0.45782983811],[51.48000068956, -0.45912565839],[51.48004790025, -0.45929687979],[51.48024791081, -0.45946295338],[51.48031159651, -0.45944031377],[51.48031159651, -0.45944031377],[51.48056117556, -0.45935159034],[51.48067291611, -0.45895899209],[51.48067026775, -0.45875746417],[51.48081143083, -0.45855108799],[51.48100936126, -0.45855881648],[51.4810906338, -0.45858487926],[51.48112318079, -0.45832455735],[51.48128929481, -0.45591391834],[51.48129013154, -0.45529462871],[51.48129236583, -0.45501490104],[51.48129236583, -0.45501490104],[51.48129691805, -0.45444471504],[51.4813390818, -0.45355040017],[51.48137203681, -0.45059698657],[51.48135277608, -0.4498199607],[51.4812593432, -0.44824648928],[51.4812593432, -0.44824648928],[51.48124865507, -0.44806651712],[51.48118141416, -0.44638383501],[51.48115790672, -0.44596699318],[51.48110660893, -0.44485074433],[51.48110660893, -0.44485074433],[51.48105679557, -0.44376702021],[51.48103806298, -0.44303318812],[51.48101148482, -0.44238603203],[51.48094665055, -0.44089050135],[51.48091833743, -0.44011379483],[51.48089063509, -0.43919645045],[51.48089063509, -0.43919645045],[51.48085402792, -0.43798459424],[51.48083621828, -0.43732274234],[51.48077896367, -0.43572615539],[51.48076859265, -0.43494884035],[51.48075211113, -0.43438775421],[51.48074139338, -0.43425850962],[51.48074004802, -0.43415774669],[51.48072740776, -0.4338845552],[51.48069032907, -0.43309839139],[51.48069032907, -0.43309839139],[51.48065213014, -0.43228859374],[51.48063170332, -0.42874658466],[51.4807350556, -0.42651532735],[51.4807350556, -0.42651532735],[51.48074327993, -0.4263377336],[51.48078145873, -0.42583237365],[51.4809098962, -0.42401338102],[51.48093105628, -0.42358061078],[51.48099590984, -0.42261420937],[51.48099590984, -0.42261420937],[51.48104341969, -0.42190617429],[51.48126090105, -0.4200264766],[51.48127716756, -0.41973193202],[51.48127716756, -0.41973193202],[51.48136208978, -0.41819398861],[51.48134882974, -0.4178776143],[51.48121586028, -0.41668689413],[51.48051086688, -0.41375905236],[51.48027370119, -0.41284560526],[51.48005720113, -0.41204923993],[51.48005720113, -0.41204923993],[51.48003711323, -0.41197535075],[51.47975323824, -0.41093393623],[51.4797155306, -0.41080563771],[51.47975128767, -0.41078999391],[51.47985563259, -0.4105271484],[51.48002621011, -0.41050681753],[51.48035837708, -0.41046646776],[51.4805751955, -0.41046761043],[51.4805751955, -0.41046761043],[51.48071809343, -0.41046836352],[51.48100571042, -0.4104583644],[51.48112255481, -0.41045430221],[51.48167082463, -0.4104352408],[51.48233593876, -0.41041211632],[51.48265950777, -0.41040086625],[51.48275427812, -0.41009513004],[51.48308625806, -0.40937788393],[51.48318364134, -0.40912419984],[51.48318364134, -0.40912419984],[51.48343367001, -0.40847286186],[51.48391726331, -0.40766389863],[51.48402296929, -0.40750179084],[51.48417263757, -0.40726613869],[51.48463941988, -0.40654415067],[51.48518669823, -0.40579053518],[51.48524180039, -0.40587503009],[51.48527599118, -0.40574421297],[51.48523964776, -0.40571667492],[51.48508701147, -0.4044113522],[51.48502633912, -0.403925435],[51.48502633912, -0.403925435],[51.48497599663, -0.40352226151],[51.48497770085, -0.40232678034],[51.48508548221, -0.40099796451],[51.48514442757, -0.40004532275],[51.48514226707, -0.39988696836],[51.48511357113, -0.39778517569],[51.48510727657, -0.39732450927],[51.48510727657, -0.39732450927],[51.48510137378, -0.39689263465],[51.48488572384, -0.39558955562],[51.4846044623, -0.39474967535],[51.48435599201, -0.39367821346],[51.4843610686, -0.39282641117],[51.4843610686, -0.39282641117],[51.48436688786, -0.39184871387],[51.48434358145, -0.39146066654],[51.48432145871, -0.39115899282],[51.48402188913, -0.38964288203],[51.48392616732, -0.38856607676],[51.48388428067, -0.38813548273],[51.48383784003, -0.38737379637],[51.48376067685, -0.38683219264],[51.48376067685, -0.38683219264],[51.48367858777, -0.38625603554],[51.48361376277, -0.38546619907],[51.48358105093, -0.38504968883],[51.48359790236, -0.38431457806],[51.48350411628, -0.38338174721],[51.48336517644, -0.38200187992],[51.48336517644, -0.38200187992],[51.48330614333, -0.38141564966],[51.48336727043, -0.38128386573],[51.48364331204, -0.38108686209],[51.48429604988, -0.38081890463],[51.48476123394, -0.38064399924],[51.48477980606, -0.38068654929],[51.48487827533, -0.38065425594],[51.48482196251, -0.38048341882],[51.4848286947, -0.37986142361],[51.4848286947, -0.37986142361],[51.48483381232, -0.37938839675],[51.48483643342, -0.37892741859],[51.48484422733, -0.37884072621],[51.48486843472, -0.37799010994],[51.48509216207, -0.37726203443],[51.48544673346, -0.37559311898],[51.48545673173, -0.37501664909],[51.48545674156, -0.37436851976],[51.48538763957, -0.3739244889],[51.48548810727, -0.37338800868],[51.48564629434, -0.37312312722],[51.48530934779, -0.37309917529],[51.48530934779, -0.37309917529],[51.48510622397, -0.37308473632],[51.48493445608, -0.3730188358],[51.48472613754, -0.37291102874],[51.48459850989, -0.37278594789],[51.48360324008, -0.37104989208],[51.48351695002, -0.37066410568],[51.4835025615, -0.37027575754],[51.48335613802, -0.36944564899],[51.48307168683, -0.36839003709],[51.48300716966, -0.36827712281],[51.48300611096, -0.36827536608],[51.48300611096, -0.36827536608],[51.48289671162, -0.3680938383],[51.48239376535, -0.36749250866],[51.48154386528, -0.36651474086],[51.48116834535, -0.36602410388],[51.48075386254, -0.36531884674],[51.48043447239, -0.36498463473],[51.48024958528, -0.36497011961],[51.48024958528, -0.36497011961],[51.47993035111, -0.3649450574],[51.47969586472, -0.36489583842],[51.4793882714, -0.36476282854],[51.47901615723, -0.36451692125],[51.47893446377, -0.36446224],[51.47874351099, -0.36431066186],[51.47869776875, -0.36425469517],[51.4785599395, -0.36404361521],[51.47813444835, -0.36319480385],[51.47804712814, -0.36273711201],[51.47713608428, -0.36189131622],[51.47706110277, -0.36102998784],[51.4770576827, -0.36078530632],[51.47696760333, -0.36077413524],[51.47669255511, -0.36060207631],[51.47669255511, -0.36060207631],[51.47587900354, -0.36009316452],[51.47545771297, -0.3595466826],[51.47528311869, -0.35927935175],[51.47454181152, -0.35835558431],[51.47381948083, -0.35750316101],[51.47345432341, -0.35711310053],[51.47344238962, -0.35710335739],[51.47344238962, -0.35710335739],[51.47286305779, -0.35663037808],[51.47272662712, -0.3565200894],[51.4724443742, -0.35627105391],[51.47202568954, -0.35591173626],[51.47147895444, -0.35539864574],[51.47117516078, -0.35527818755]]",
            "stopPoints": [
             {
              "$type": "Tfl.Api.Presentation.Entities.Identifier, Tfl.Api.Presentation.Entities",
              "id": "490G00010245",
              "name": "Newport Road",
              "routeType": "Unknown",
              "status": "Unknown",
              "type": "StopPoint",
              "uri": "/StopPoint/490G00010245"
             },
             {
              "$type": "Tfl.Api.Presentation.Entities.Identifier, Tfl.Api.Presentation.Entities",
              "id": "490G00012177",
              "name": "Sipson Way / Blunts Avenue",
              "routeType": "Unknown",
              "status": "Unknown",
              "type": "StopPoint",
              "uri": "/StopPoint/490G00012177"
             },
             {
              "$type": "Tfl.Api.Presentation.Entities.Identifier, Tfl.Api.Presentation.Entities",
              "id": "490G00012176",
              "name": "Nene Road",
              "routeType": "Unknown",
              "status": "Unknown",
              "type": "StopPoint",
              "uri": "/StopPoint/490G00012176"
             },
             {
              "$type": "Tfl.Api.Presentation.Entities.Identifier, Tfl.Api.Presentation.Entities",
              "id": "490G00004139",
              "name": "Bolton's Lane",
              "routeType": "Unknown",
              "status": "Unknown",
              "type": "StopPoint",
              "uri": "/StopPoint/490G00004139"
             },
             {
              "$type": "Tfl.Api.Presentation.Entities.Identifier, Tfl.Api.Presentation.Entities",
              "id": "490G00010251",
              "name": "New Road",
              "routeType": "Unknown",
              "status": "Unknown",
              "type": "StopPoint",
              "uri": "/StopPoint/490G00010251"
             },
             {
              "$type": "Tfl.Api.Presentation.Entities.Identifier, Tfl.Api.Presentation.Entities",
              "id": "490G00007811",
              "name": "Harlington Corner",
              "routeType": "Unknown",
              "status": "Unknown",
              "type": "StopPoint",
              "uri": "/StopPoint/490G00007811"
             },
             {
              "$type": "Tfl.Api.Presentation.Entities.Identifier, Tfl.Api.Presentation.Entities",
              "id": "490G00015397",
              "name": "Nobel Drive",
              "routeType": "Unknown",
              "status": "Unknown",
              "type": "StopPoint",
              "uri": "/StopPoint/490G00015397"
             },
             {
              "$type": "Tfl.Api.Presentation.Entities.Identifier, Tfl.Api.Presentation.Entities",
              "id": "490G00010677",
              "name": "Oxford Avenue",
              "routeType": "Unknown",
              "status": "Unknown",
              "type": "StopPoint",
              "uri": "/StopPoint/490G00010677"
             },
             {
              "$type": "Tfl.Api.Presentation.Entities.Identifier, Tfl.Api.Presentation.Entities",
              "id": "490G00013596",
              "name": "Craneswater",
              "routeType": "Unknown",
              "status": "Unknown",
              "type": "StopPoint",
              "uri": "/StopPoint/490G00013596"
             },
             {
              "$type": "Tfl.Api.Presentation.Entities.Identifier, Tfl.Api.Presentation.Entities",
              "id": "490G00005704",
              "name": "Waye Avenue",
              "routeType": "Unknown",
              "status": "Unknown",
              "type": "StopPoint",
              "uri": "/StopPoint/490G00005704"
             },
             {
              "$type": "Tfl.Api.Presentation.Entities.Identifier, Tfl.Api.Presentation.Entities",
              "id": "490G00013235",
              "name": "The Avenue",
              "routeType": "Unknown",
              "status": "Unknown",
              "type": "StopPoint",
              "uri": "/StopPoint/490G00013235"
             },
             {
              "$type": "Tfl.Api.Presentation.Entities.Identifier, Tfl.Api.Presentation.Entities",
              "id": "490G00013494",
              "name": "The Parkway",
              "routeType": "Unknown",
              "status": "Unknown",
              "type": "StopPoint",
              "uri": "/StopPoint/490G00013494"
             },
             {
              "$type": "Tfl.Api.Presentation.Entities.Identifier, Tfl.Api.Presentation.Entities",
              "id": "490G00012243",
              "name": "Cranford Lane / Redwood Estate",
              "routeType": "Unknown",
              "status": "Unknown",
              "type": "StopPoint",
              "uri": "/StopPoint/490G00012243"
             },
             {
              "$type": "Tfl.Api.Presentation.Entities.Identifier, Tfl.Api.Presentation.Entities",
              "id": "490G00008115",
              "name": "Harlech Gardens",
              "routeType": "Unknown",
              "status": "Unknown",
              "type": "StopPoint",
              "uri": "/StopPoint/490G00008115"
             },
             {
              "$type": "Tfl.Api.Presentation.Entities.Identifier, Tfl.Api.Presentation.Entities",
              "id": "490G00010365",
              "name": "Northfield Road",
              "routeType": "Unknown",
              "status": "Unknown",
              "type": "StopPoint",
              "uri": "/StopPoint/490G00010365"
             },
             {
              "$type": "Tfl.Api.Presentation.Entities.Identifier, Tfl.Api.Presentation.Entities",
              "id": "490G00012229",
              "name": "Somerset Waye",
              "routeType": "Unknown",
              "status": "Unknown",
              "type": "StopPoint",
              "uri": "/StopPoint/490G00012229"
             },
             {
              "$type": "Tfl.Api.Presentation.Entities.Identifier, Tfl.Api.Presentation.Entities",
              "id": "490G00008114",
              "name": "Heston Health Centre",
              "routeType": "Unknown",
              "status": "Unknown",
              "type": "StopPoint",
              "uri": "/StopPoint/490G00008114"
             },
             {
              "$type": "Tfl.Api.Presentation.Entities.Identifier, Tfl.Api.Presentation.Entities",
              "id": "490G00010221",
              "name": "New Heston Road",
              "routeType": "Unknown",
              "status": "Unknown",
              "type": "StopPoint",
              "uri": "/StopPoint/490G00010221"
             },
             {
              "$type": "Tfl.Api.Presentation.Entities.Identifier, Tfl.Api.Presentation.Entities",
              "id": "490G00012443",
              "name": "St Leonard's Church",
              "routeType": "Unknown",
              "status": "Unknown",
              "type": "StopPoint",
              "uri": "/StopPoint/490G00012443"
             },
             {
              "$type": "Tfl.Api.Presentation.Entities.Identifier, Tfl.Api.Presentation.Entities",
              "id": "490G00008272",
              "name": "Hogarth Gardens",
              "routeType": "Unknown",
              "status": "Unknown",
              "type": "StopPoint",
              "uri": "/StopPoint/490G00008272"
             },
             {
              "$type": "Tfl.Api.Presentation.Entities.Identifier, Tfl.Api.Presentation.Entities",
              "id": "490G00007427",
              "name": "Great West Road",
              "routeType": "Unknown",
              "status": "Unknown",
              "type": "StopPoint",
              "uri": "/StopPoint/490G00007427"
             },
             {
              "$type": "Tfl.Api.Presentation.Entities.Identifier, Tfl.Api.Presentation.Entities",
              "id": "490G00012406",
              "name": "Roebuck Lane",
              "routeType": "Unknown",
              "status": "Unknown",
              "type": "StopPoint",
              "uri": "/StopPoint/490G00012406"
             },
             {
              "$type": "Tfl.Api.Presentation.Entities.Identifier, Tfl.Api.Presentation.Entities",
              "id": "490G00117E",
              "name": "Hounslow East Station",
              "routeType": "Unknown",
              "status": "Unknown",
              "type": "StopPoint",
              "uri": "/StopPoint/490G00117E"
             },
             {
              "$type": "Tfl.Api.Presentation.Entities.Identifier, Tfl.Api.Presentation.Entities",
              "id": "490G000601",
              "name": "Hounslow Bus Station",
              "routeType": "Unknown",
              "status": "Unknown",
              "type": "StopPoint",
              "uri": "/StopPoint/490G000601"
             }
            ]
           },
           "plannedWorks": [],
           "routeOptions": [
            {
             "$type": "Tfl.Api.Presentation.Entities.JourneyPlanner.RouteOption, Tfl.Api.Presentation.Entities",
             "directions": [
              "Kingston"
             ],
             "lineIdentifier": {
              "$type": "Tfl.Api.Presentation.Entities.Identifier, Tfl.Api.Presentation.Entities",
              "crowding": {
               "$type": "Tfl.Api.Presentation.Entities.Crowding, Tfl.Api.Presentation.Entities"
              },
              "id": "111",
              "name": "111",
              "routeType": "Unknown",
              "status": "Unknown",
              "type": "Line",
              "uri": "/Line/111"
             },
             "name": "111"
            }
           ]
          },
          {
           "$type": "Tfl.Api.Presentation.Entities.JourneyPlanner.Leg, Tfl.Api.Presentation.Entities",
           "arrivalPoint": {
            "$type": "Tfl.Api.Presentation.Entities.StopPoint, Tfl.Api.Presentation.Entities",
            "additionalProperties": [],
            "commonName": "Shepherd's Bush Station",
            "icsCode": "1000203",
            "lat": 51.50540750874,
            "lon": -0.21815358642000002,
            "naptanId": "490G00203A",
            "placeType": "StopPoint",
            "platformName": "B",
            "stopLetter": "B"
           },
           "arrivalTime": "2021-04-30T00:33:00",
           "departurePoint": {
            "$type": "Tfl.Api.Presentation.Entities.StopPoint, Tfl.Api.Presentation.Entities",
            "additionalProperties": [],
            "commonName": "Hounslow Bus Station",
            "icsCode": "1008392",
            "lat": 51.47101330861,
            "lon": -0.35361559600000003,
            "naptanId": "490G000601",
            "placeType": "StopPoint",
            "platformName": "",
            "stopLetter": "F"
           },
           "departureTime": "2021-04-30T00:04:00",
           "disruptions": [
            {
             "$type": "Tfl.Api.Presentation.Entities.Disruption, Tfl.Api.Presentation.Entities",
             "additionalInfo": "Find out more and&nbsp;<a href=\"https://tfl.gov.uk/modes/buses/bus-changes?intcmp=47904#on-this-page-1\">which routes</a> are affected.",
             "category": "PlannedWork",
             "categoryDescription": "PlannedWork",
             "created": "2021-03-04T11:18:00",
             "description": "We are committed to helping London's schools remain open and operate safely and to help this 200 extra buses on our network continue to operate. We will also be prioritising some of our bus services for school travel from this date. Government guidance allows for all seats to be occupied on these 'school services', doubling their capacity, which is currently limited due to necessary social distancing. These 'school services' will be clearly signed and will operate on several key routes between 0730-0900 (some routes will run until 0930) and 1430-1630 on weekdays. On designated routes 'school services' will operate on an every other bus basis. We ask that schoolchildren travelling without adults use the designated 'school services' where these are provided, to help ensure space for customers on other services.",
             "lastUpdate": "2021-04-19T12:42:00",
             "summary": "",
             "type": "lineInfo"
            }
           ],
           "duration": 29,
           "hasFixedLocations": true,
           "instruction": {
            "$type": "Tfl.Api.Presentation.Entities.Instruction, Tfl.Api.Presentation.Entities",
            "detailed": "237 bus towards White City",
            "steps": [],
            "summary": "237 bus to Shepherd's Bush (Central Line)"
           },
           "isDisrupted": true,
           "mode": {
            "$type": "Tfl.Api.Presentation.Entities.Identifier, Tfl.Api.Presentation.Entities",
            "id": "bus",
            "name": "bus",
            "routeType": "Unknown",
            "status": "Unknown",
            "type": "Mode"
           },
           "obstacles": [],
           "path": {
            "$type": "Tfl.Api.Presentation.Entities.JourneyPlanner.Path, Tfl.Api.Presentation.Entities",
            "elevation": [],
            "lineString": "[[51.47094062382, -0.35356465205],[51.47106894789, -0.35309525195],[51.4710657137, -0.35286499454],[51.47116729962, -0.35241498571],[51.4713528953, -0.35154439239],[51.47148880822, -0.35097795212],[51.47176204336, -0.34994580061],[51.47194828574, -0.34933718931],[51.47194828574, -0.34933718931],[51.47237241418, -0.34795114569],[51.47243289532, -0.34777617529],[51.47287686931, -0.34673781069],[51.47289963995, -0.34668491049],[51.47289963995, -0.34668491049],[51.47328610106, -0.34578707689],[51.47339989627, -0.34556697407],[51.47360133458, -0.34518530817],[51.4738035842, -0.34486120646],[51.47397961837, -0.34457845069],[51.47397961837, -0.34457845069],[51.47465649554, -0.34349118249],[51.47470838879, -0.34334530746],[51.47486060964, -0.34266301285],[51.47490721203, -0.34214293854],[51.47490721203, -0.34214293854],[51.47498836783, -0.34088722939],[51.47500206663, -0.34058434024],[51.47505173848, -0.339646561],[51.47511917435, -0.33869373461],[51.47516903505, -0.33777034352],[51.47519408895, -0.33730630818],[51.47519408895, -0.33730630818],[51.47521888846, -0.33684695059],[51.47523441421, -0.33667358946],[51.47524626434, -0.33624116713],[51.47526587502, -0.33572206383],[51.47534555457, -0.33493649595],[51.47534555457, -0.33493649595],[51.4754315233, -0.33408886107],[51.47549055198, -0.33381311463],[51.4755412059, -0.33358087207],[51.4759237133, -0.33231020098],[51.4759237133, -0.33231020098],[51.47596195965, -0.33218314475],[51.47608266915, -0.33181874265],[51.47680567179, -0.32954593374],[51.47701990483, -0.3288036932],[51.47713389394, -0.32839851153],[51.47713389394, -0.32839851153],[51.47720819612, -0.32813439585],[51.47743957422, -0.32733391317],[51.47760274241, -0.32679512707],[51.47768810047, -0.32647519271],[51.47783370029, -0.32596584483],[51.47785922492, -0.3258641065],[51.4779703102, -0.3254568229],[51.47803561824, -0.32522689602],[51.47803561824, -0.32522689602],[51.47809017611, -0.32503481502],[51.47822760451, -0.32458336006],[51.47827926824, -0.32442305948],[51.47839974751, -0.32404422566],[51.47857168221, -0.323490694],[51.47889818611, -0.32242745785],[51.47916561322, -0.32160099233],[51.47916561322, -0.32160099233],[51.47949237417, -0.32059112176],[51.47963753562, -0.32005294841],[51.47967183645, -0.31993647906],[51.47974002528, -0.31967475268],[51.47993986637, -0.31905984828],[51.47993986637, -0.31905984828],[51.4804031796, -0.3176341896],[51.48080173702, -0.31658261642],[51.48101031638, -0.31607021305],[51.48101031638, -0.31607021305],[51.48112311779, -0.31579309689],[51.48141877124, -0.31509092446],[51.48149697089, -0.31490082022],[51.48162744087, -0.31459357447],[51.4818269138, -0.3140821572],[51.48203269489, -0.31355831884],[51.48203269489, -0.31355831884],[51.48221727937, -0.31308842961],[51.48237160052, -0.31256426357],[51.48238729718, -0.31240526221],[51.48240009309, -0.31204473976],[51.48242692525, -0.31141006047],[51.48247276584, -0.31084668819],[51.48270111974, -0.30984450588],[51.4828305387, -0.30946526548],[51.48300157313, -0.30885404847],[51.48308605098, -0.30847646555],[51.48332154573, -0.30729081354],[51.48332154573, -0.30729081354],[51.48336269968, -0.30708360706],[51.48346935342, -0.30637394233],[51.48360904117, -0.30546141634],[51.48393181515, -0.30424783529],[51.48393181515, -0.30424783529],[51.48398430855, -0.30405046198],[51.48407085293, -0.30381681058],[51.48418394299, -0.30355336803],[51.4845405596, -0.30271918035],[51.48492434118, -0.30189837321],[51.4850786116, -0.30137413931],[51.48516410782, -0.3010685016],[51.48522284922, -0.30077826018],[51.48568835207, -0.2993926655],[51.48602089972, -0.29876095743],[51.48611869517, -0.2984666894],[51.48611869517, -0.2984666894],[51.48617599145, -0.29829428237],[51.48632167588, -0.29779914788],[51.4863697496, -0.29739406584],[51.48638667959, -0.29732141881],[51.48660906563, -0.2965353538],[51.48672945331, -0.29615637905],[51.4869080458, -0.29556748428],[51.4869080458, -0.29556748428],[51.48717566958, -0.29468498874],[51.4872699262, -0.29436459369],[51.48751674078, -0.29340474295],[51.48765278808, -0.2928667268],[51.48771297605, -0.29267723062],[51.48805968744, -0.29178564676],[51.48823663242, -0.29112138823],[51.48823663242, -0.29112138823],[51.48848598405, -0.29018527932],[51.48851962502, -0.2900255772],[51.48861949673, -0.28947448871],[51.48864435925, -0.28932951814],[51.488784333, -0.28844563189],[51.48888755979, -0.2881248764],[51.48905911196, -0.28755668944],[51.48929546606, -0.28711570741],[51.48933715561, -0.2870490605],[51.48933715561, -0.2870490605],[51.48947999688, -0.28682070622],[51.48957612474, -0.28662984701],[51.48961123323, -0.28657091359],[51.48968959612, -0.2863951237],[51.48980411895, -0.2862323817],[51.49009186725, -0.28561660416],[51.49016187266, -0.28548433776],[51.49026656473, -0.28526434245],[51.49071108466, -0.28429164022],[51.49071108466, -0.28429164022],[51.49116404786, -0.28330042435],[51.49135270775, -0.2826739281],[51.49153266728, -0.28268157073],[51.49162190915, -0.28263500243],[51.49170195273, -0.28257437461],[51.49178157459, -0.28248495241],[51.49184237806, -0.28233861702],[51.49188913219, -0.2818470882],[51.49187866823, -0.28174664629],[51.49180065085, -0.28133183399],[51.49185955372, -0.28105592311],[51.49195145067, -0.28057709936],[51.49200655137, -0.28004203808],[51.49210923691, -0.27907303044],[51.49213990434, -0.27871174734],[51.49217078201, -0.27836486095],[51.49221209707, -0.27794497883],[51.49221209707, -0.27794497883],[51.49223337999, -0.27772867563],[51.49233932118, -0.2763705946],[51.49239877902, -0.275766214],[51.49239877902, -0.275766214],[51.49243320055, -0.27541630875],[51.49250307544, -0.27466459877],[51.49257811835, -0.27365339623],[51.49262292789, -0.27303227592],[51.49281741517, -0.27158439074],[51.49285039388, -0.27138146829],[51.49288927685, -0.27081196001],[51.49288927685, -0.27081196001],[51.49293913599, -0.27008162581],[51.49294302589, -0.26973574897],[51.49291995266, -0.26939089314],[51.49289730342, -0.26907483236],[51.49268332138, -0.26676368051],[51.49262970516, -0.26557007351],[51.49257967723, -0.2648892199],[51.49257967723, -0.2648892199],[51.49256215017, -0.26465069901],[51.49253373446, -0.26394591932],[51.49245976884, -0.26259463485],[51.49245784915, -0.2624650605],[51.49244867533, -0.26184598325],[51.49244376706, -0.26151484904],[51.49244376706, -0.26151484904],[51.49243949823, -0.26122690633],[51.49244378904, -0.26090982741],[51.49245772438, -0.26003057609],[51.49247206748, -0.25978514044],[51.49250075213, -0.2592942687],[51.49252558682, -0.25854424784],[51.49254014061, -0.25831320857],[51.49255335695, -0.258081421],[51.49255335695, -0.258081421],[51.49260434335, -0.25718714724],[51.49261140499, -0.25705723009],[51.49265933384, -0.25604702882],[51.49270404994, -0.2554258924],[51.49274383456, -0.25447361971],[51.49278105551, -0.25395360451],[51.49282154183, -0.25303651019],[51.49282154183, -0.25303651019],[51.49284156966, -0.25258277979],[51.49285182034, -0.2520637934],[51.49286099545, -0.25147282087],[51.49294632862, -0.25056201359],[51.4929781968, -0.25028709017],[51.49304236096, -0.24976603672],[51.49310624109, -0.24927125674],[51.49310624109, -0.24927125674],[51.49317132725, -0.24876711738],[51.49321217847, -0.248491847],[51.49326842274, -0.24804311957],[51.49332999501, -0.24734929217],[51.49333683054, -0.24720497438],[51.49336482904, -0.24653368714],[51.49336482904, -0.24653368714],[51.4933765482, -0.24625268296],[51.49340259157, -0.24558902656],[51.49343078572, -0.2450693427],[51.49361074623, -0.24507683731],[51.49473156716, -0.24486092097],[51.49488391946, -0.24482625709],[51.49519306002, -0.24475440292],[51.49519306002, -0.24475440292],[51.4954036715, -0.24470544946],[51.49552841547, -0.24462862629],[51.4957603598, -0.24450446533],[51.49663477359, -0.24419290563],[51.49663477359, -0.24419290563],[51.4971199544, -0.24402002687],[51.49798805154, -0.2437417446],[51.49821861848, -0.2436702259],[51.49821861848, -0.2436702259],[51.49867726567, -0.24352795757],[51.49869567144, -0.2435560645],[51.49875793515, -0.24351044903],[51.4987204766, -0.24341103823],[51.49878547232, -0.24294750614],[51.4988361597, -0.24272944729],[51.49908959047, -0.2416391459],[51.49941274848, -0.24040207212],[51.49951627406, -0.2401099345],[51.49953149834, -0.24006697298],[51.49953149834, -0.24006697298],[51.49980096556, -0.2393065493],[51.49985294324, -0.23917487749],[51.49987925632, -0.23913064044],[51.49987752671, -0.23901544598],[51.49989756882, -0.23855362877],[51.49991316423, -0.23839454332],[51.49995269264, -0.23803282755],[51.49996936905, -0.23794573838],[51.5000538321, -0.23758228835],[51.50009949215, -0.23732003703],[51.50009949215, -0.23732003703],[51.50020283204, -0.23672648348],[51.50026097926, -0.23640726844],[51.50030992184, -0.23607400018],[51.50039925022, -0.23543660759],[51.50053946393, -0.23459553637],[51.5007627247, -0.23389532851],[51.50083519985, -0.233929132],[51.50083519985, -0.233929132],[51.5007627247, -0.23389532851],[51.50085746351, -0.23361791489],[51.50094386517, -0.23338404647],[51.50115856538, -0.2327129736],[51.50122655681, -0.23245099801],[51.5013960986, -0.23176725622],[51.50149491498, -0.23131736253],[51.50149491498, -0.23131736253],[51.50158122154, -0.23092441585],[51.50163101734, -0.23064873161],[51.50168081249, -0.23037304678],[51.50173060698, -0.23009736136],[51.50187317338, -0.22941464854],[51.50198130941, -0.22883412459],[51.50203110025, -0.22855843576],[51.50218989119, -0.227759817],[51.50223221569, -0.22758527421],[51.50229275629, -0.22722331132],[51.50229275629, -0.22722331132],[51.50235592218, -0.22684564404],[51.50242302937, -0.22652605308],[51.50243947939, -0.22642455517],[51.5025057142, -0.22604736289],[51.50268992391, -0.22514687943],[51.50274912904, -0.22489963348],[51.50298044604, -0.22414139547],[51.50302419667, -0.22406077385],[51.50302419667, -0.22406077385],[51.50316416044, -0.22380285343],[51.50333382556, -0.22372421265],[51.50342413309, -0.22374951867],[51.50370600547, -0.22395469144],[51.50444115882, -0.22440160882],[51.50476752979, -0.22457624207],[51.50503605387, -0.22449375865],[51.50509765576, -0.22440490832],[51.50496027857, -0.22364655707],[51.50490177511, -0.22334623785],[51.50480383123, -0.2228169061],[51.50462634729, -0.22178635119],[51.50453783797, -0.22107932578],[51.50453783797, -0.22107932578],[51.50452402805, -0.22096901348],[51.50446136648, -0.22039508916],[51.50441886203, -0.21996447189],[51.50436321494, -0.21926059496],[51.5043494172, -0.21894413294],[51.50438735393, -0.21848156261],[51.50442550763, -0.21803339214],[51.50506337326, -0.21799409896],[51.50540891113, -0.21800232405]]",
            "stopPoints": [
             {
              "$type": "Tfl.Api.Presentation.Entities.Identifier, Tfl.Api.Presentation.Entities",
              "id": "490G00004327",
              "name": "Bridge Road",
              "routeType": "Unknown",
              "status": "Unknown",
              "type": "StopPoint",
              "uri": "/StopPoint/490G00004327"
             },
             {
              "$type": "Tfl.Api.Presentation.Entities.Identifier, Tfl.Api.Presentation.Entities",
              "id": "490G00012599",
              "name": "Star Road",
              "routeType": "Unknown",
              "status": "Unknown",
              "type": "StopPoint",
              "uri": "/StopPoint/490G00012599"
             },
             {
              "$type": "Tfl.Api.Presentation.Entities.Identifier, Tfl.Api.Presentation.Entities",
              "id": "490G00013620",
              "name": "Thornbury Road",
              "routeType": "Unknown",
              "status": "Unknown",
              "type": "StopPoint",
              "uri": "/StopPoint/490G00013620"
             },
             {
              "$type": "Tfl.Api.Presentation.Entities.Identifier, Tfl.Api.Presentation.Entities",
              "id": "490G00008510",
              "name": "West Thames College",
              "routeType": "Unknown",
              "status": "Unknown",
              "type": "StopPoint",
              "uri": "/StopPoint/490G00008510"
             },
             {
              "$type": "Tfl.Api.Presentation.Entities.Identifier, Tfl.Api.Presentation.Entities",
              "id": "490G01158B",
              "name": "Isleworth Station",
              "routeType": "Unknown",
              "status": "Unknown",
              "type": "StopPoint",
              "uri": "/StopPoint/490G01158B"
             },
             {
              "$type": "Tfl.Api.Presentation.Entities.Identifier, Tfl.Api.Presentation.Entities",
              "id": "490G00009185",
              "name": "Linkfield Road",
              "routeType": "Unknown",
              "status": "Unknown",
              "type": "StopPoint",
              "uri": "/StopPoint/490G00009185"
             },
             {
              "$type": "Tfl.Api.Presentation.Entities.Identifier, Tfl.Api.Presentation.Entities",
              "id": "490G00014874",
              "name": "Wood Lane",
              "routeType": "Unknown",
              "status": "Unknown",
              "type": "StopPoint",
              "uri": "/StopPoint/490G00014874"
             },
             {
              "$type": "Tfl.Api.Presentation.Entities.Identifier, Tfl.Api.Presentation.Entities",
              "id": "490G00007873",
              "name": "Turnpike Way",
              "routeType": "Unknown",
              "status": "Unknown",
              "type": "StopPoint",
              "uri": "/StopPoint/490G00007873"
             },
             {
              "$type": "Tfl.Api.Presentation.Entities.Identifier, Tfl.Api.Presentation.Entities",
              "id": "490G00004635",
              "name": "The Green School",
              "routeType": "Unknown",
              "status": "Unknown",
              "type": "StopPoint",
              "uri": "/StopPoint/490G00004635"
             },
             {
              "$type": "Tfl.Api.Presentation.Entities.Identifier, Tfl.Api.Presentation.Entities",
              "id": "490G00015029",
              "name": "Busch Corner",
              "routeType": "Unknown",
              "status": "Unknown",
              "type": "StopPoint",
              "uri": "/StopPoint/490G00015029"
             },
             {
              "$type": "Tfl.Api.Presentation.Entities.Identifier, Tfl.Api.Presentation.Entities",
              "id": "490G00013141",
              "name": "Syon Lane",
              "routeType": "Unknown",
              "status": "Unknown",
              "type": "StopPoint",
              "uri": "/StopPoint/490G00013141"
             },
             {
              "$type": "Tfl.Api.Presentation.Entities.Identifier, Tfl.Api.Presentation.Entities",
              "id": "490G00003804",
              "name": "Beech Avenue",
              "routeType": "Unknown",
              "status": "Unknown",
              "type": "StopPoint",
              "uri": "/StopPoint/490G00003804"
             },
             {
              "$type": "Tfl.Api.Presentation.Entities.Identifier, Tfl.Api.Presentation.Entities",
              "id": "490G00004296",
              "name": "Brent Lea",
              "routeType": "Unknown",
              "status": "Unknown",
              "type": "StopPoint",
              "uri": "/StopPoint/490G00004296"
             },
             {
              "$type": "Tfl.Api.Presentation.Entities.Identifier, Tfl.Api.Presentation.Entities",
              "id": "490G00004292",
              "name": "Market Place",
              "routeType": "Unknown",
              "status": "Unknown",
              "type": "StopPoint",
              "uri": "/StopPoint/490G00004292"
             },
             {
              "$type": "Tfl.Api.Presentation.Entities.Identifier, Tfl.Api.Presentation.Entities",
              "id": "490G00004289",
              "name": "Brentford County Court",
              "routeType": "Unknown",
              "status": "Unknown",
              "type": "StopPoint",
              "uri": "/StopPoint/490G00004289"
             },
             {
              "$type": "Tfl.Api.Presentation.Entities.Identifier, Tfl.Api.Presentation.Entities",
              "id": "490G00006297",
              "name": "Watermans Centre",
              "routeType": "Unknown",
              "status": "Unknown",
              "type": "StopPoint",
              "uri": "/StopPoint/490G00006297"
             },
             {
              "$type": "Tfl.Api.Presentation.Entities.Identifier, Tfl.Api.Presentation.Entities",
              "id": "490G00004293",
              "name": "The Musical Museum",
              "routeType": "Unknown",
              "status": "Unknown",
              "type": "StopPoint",
              "uri": "/StopPoint/490G00004293"
             },
             {
              "$type": "Tfl.Api.Presentation.Entities.Identifier, Tfl.Api.Presentation.Entities",
              "id": "490G00008690",
              "name": "London Museum Of Water and Steam",
              "routeType": "Unknown",
              "status": "Unknown",
              "type": "StopPoint",
              "uri": "/StopPoint/490G00008690"
             },
             {
              "$type": "Tfl.Api.Presentation.Entities.Identifier, Tfl.Api.Presentation.Entities",
              "id": "490G01167S",
              "name": "Kew Bridge Station",
              "routeType": "Unknown",
              "status": "Unknown",
              "type": "StopPoint",
              "uri": "/StopPoint/490G01167S"
             },
             {
              "$type": "Tfl.Api.Presentation.Entities.Identifier, Tfl.Api.Presentation.Entities",
              "id": "490G00004290",
              "name": "Brentford Fountain Leisure Centre",
              "routeType": "Unknown",
              "status": "Unknown",
              "type": "StopPoint",
              "uri": "/StopPoint/490G00004290"
             },
             {
              "$type": "Tfl.Api.Presentation.Entities.Identifier, Tfl.Api.Presentation.Entities",
              "id": "490G000750",
              "name": "Thorney Hedge Road",
              "routeType": "Unknown",
              "status": "Unknown",
              "type": "StopPoint",
              "uri": "/StopPoint/490G000750"
             },
             {
              "$type": "Tfl.Api.Presentation.Entities.Identifier, Tfl.Api.Presentation.Entities",
              "id": "490G00094B",
              "name": "Gunnersbury Station",
              "routeType": "Unknown",
              "status": "Unknown",
              "type": "StopPoint",
              "uri": "/StopPoint/490G00094B"
             },
             {
              "$type": "Tfl.Api.Presentation.Entities.Identifier, Tfl.Api.Presentation.Entities",
              "id": "490G00005211",
              "name": "Chiswick Road",
              "routeType": "Unknown",
              "status": "Unknown",
              "type": "StopPoint",
              "uri": "/StopPoint/490G00005211"
             },
             {
              "$type": "Tfl.Api.Presentation.Entities.Identifier, Tfl.Api.Presentation.Entities",
              "id": "490G000807",
              "name": "Turnham Green Church",
              "routeType": "Unknown",
              "status": "Unknown",
              "type": "StopPoint",
              "uri": "/StopPoint/490G000807"
             },
             {
              "$type": "Tfl.Api.Presentation.Entities.Identifier, Tfl.Api.Presentation.Entities",
              "id": "490G00005423",
              "name": "Clifton Gardens",
              "routeType": "Unknown",
              "status": "Unknown",
              "type": "StopPoint",
              "uri": "/StopPoint/490G00005423"
             },
             {
              "$type": "Tfl.Api.Presentation.Entities.Identifier, Tfl.Api.Presentation.Entities",
              "id": "490G00005210",
              "name": "Chiswick Police Station",
              "routeType": "Unknown",
              "status": "Unknown",
              "type": "StopPoint",
              "uri": "/StopPoint/490G00005210"
             },
             {
              "$type": "Tfl.Api.Presentation.Entities.Identifier, Tfl.Api.Presentation.Entities",
              "id": "490G00013850",
              "name": "Chiswick Lane",
              "routeType": "Unknown",
              "status": "Unknown",
              "type": "StopPoint",
              "uri": "/StopPoint/490G00013850"
             },
             {
              "$type": "Tfl.Api.Presentation.Entities.Identifier, Tfl.Api.Presentation.Entities",
              "id": "490G00012521",
              "name": "Stamford Brook Bus Garage",
              "routeType": "Unknown",
              "status": "Unknown",
              "type": "StopPoint",
              "uri": "/StopPoint/490G00012521"
             },
             {
              "$type": "Tfl.Api.Presentation.Entities.Identifier, Tfl.Api.Presentation.Entities",
              "id": "490G000535",
              "name": "Goldhawk Road / Young's Corner",
              "routeType": "Unknown",
              "status": "Unknown",
              "type": "StopPoint",
              "uri": "/StopPoint/490G000535"
             },
             {
              "$type": "Tfl.Api.Presentation.Entities.Identifier, Tfl.Api.Presentation.Entities",
              "id": "490G00218N",
              "name": "Stamford Brook Station",
              "routeType": "Unknown",
              "status": "Unknown",
              "type": "StopPoint",
              "uri": "/StopPoint/490G00218N"
             },
             {
              "$type": "Tfl.Api.Presentation.Entities.Identifier, Tfl.Api.Presentation.Entities",
              "id": "490G00011296",
              "name": "Ravenscourt Gardens",
              "routeType": "Unknown",
              "status": "Unknown",
              "type": "StopPoint",
              "uri": "/StopPoint/490G00011296"
             },
             {
              "$type": "Tfl.Api.Presentation.Entities.Identifier, Tfl.Api.Presentation.Entities",
              "id": "490G00012522",
              "name": "Stamford Brook Road",
              "routeType": "Unknown",
              "status": "Unknown",
              "type": "StopPoint",
              "uri": "/StopPoint/490G00012522"
             },
             {
              "$type": "Tfl.Api.Presentation.Entities.Identifier, Tfl.Api.Presentation.Entities",
              "id": "490G00015455",
              "name": "Askew Road",
              "routeType": "Unknown",
              "status": "Unknown",
              "type": "StopPoint",
              "uri": "/StopPoint/490G00015455"
             },
             {
              "$type": "Tfl.Api.Presentation.Entities.Identifier, Tfl.Api.Presentation.Entities",
              "id": "490G00010710",
              "name": "Paddenswick Road",
              "routeType": "Unknown",
              "status": "Unknown",
              "type": "StopPoint",
              "uri": "/StopPoint/490G00010710"
             },
             {
              "$type": "Tfl.Api.Presentation.Entities.Identifier, Tfl.Api.Presentation.Entities",
              "id": "490G00004871",
              "name": "Cathnor Road",
              "routeType": "Unknown",
              "status": "Unknown",
              "type": "StopPoint",
              "uri": "/StopPoint/490G00004871"
             },
             {
              "$type": "Tfl.Api.Presentation.Entities.Identifier, Tfl.Api.Presentation.Entities",
              "id": "490G00012946",
              "name": "St Stephens Avenue",
              "routeType": "Unknown",
              "status": "Unknown",
              "type": "StopPoint",
              "uri": "/StopPoint/490G00012946"
             },
             {
              "$type": "Tfl.Api.Presentation.Entities.Identifier, Tfl.Api.Presentation.Entities",
              "id": "490G00088Y",
              "name": "Goldhawk Road Station",
              "routeType": "Unknown",
              "status": "Unknown",
              "type": "StopPoint",
              "uri": "/StopPoint/490G00088Y"
             },
             {
              "$type": "Tfl.Api.Presentation.Entities.Identifier, Tfl.Api.Presentation.Entities",
              "id": "490G00010913",
              "name": "Shepherd's Bush Road",
              "routeType": "Unknown",
              "status": "Unknown",
              "type": "StopPoint",
              "uri": "/StopPoint/490G00010913"
             },
             {
              "$type": "Tfl.Api.Presentation.Entities.Identifier, Tfl.Api.Presentation.Entities",
              "id": "490G000856",
              "name": "Shepherd's Bush Green",
              "routeType": "Unknown",
              "status": "Unknown",
              "type": "StopPoint",
              "uri": "/StopPoint/490G000856"
             },
             {
              "$type": "Tfl.Api.Presentation.Entities.Identifier, Tfl.Api.Presentation.Entities",
              "id": "490G00203A",
              "name": "Shepherd's Bush Station",
              "routeType": "Unknown",
              "status": "Unknown",
              "type": "StopPoint",
              "uri": "/StopPoint/490G00203A"
             }
            ]
           },
           "plannedWorks": [],
           "routeOptions": [
            {
             "$type": "Tfl.Api.Presentation.Entities.JourneyPlanner.RouteOption, Tfl.Api.Presentation.Entities",
             "directions": [
              "White City"
             ],
             "lineIdentifier": {
              "$type": "Tfl.Api.Presentation.Entities.Identifier, Tfl.Api.Presentation.Entities",
              "crowding": {
               "$type": "Tfl.Api.Presentation.Entities.Crowding, Tfl.Api.Presentation.Entities"
              },
              "id": "237",
              "name": "237",
              "routeType": "Unknown",
              "status": "Unknown",
              "type": "Line",
              "uri": "/Line/237"
             },
             "name": "237"
            }
           ]
          },
          {
           "$type": "Tfl.Api.Presentation.Entities.JourneyPlanner.Leg, Tfl.Api.Presentation.Entities",
           "arrivalPoint": {
            "$type": "Tfl.Api.Presentation.Entities.StopPoint, Tfl.Api.Presentation.Entities",
            "additionalProperties": [],
            "commonName": "St George's Circus",
            "icsCode": "1012693",
            "lat": 51.49861321543,
            "lon": -0.10817333386,
            "naptanId": "490G00012693",
            "placeType": "StopPoint",
            "platformName": "D",
            "stopLetter": "D"
           },
           "arrivalTime": "2021-04-30T01:14:00",
           "departurePoint": {
            "$type": "Tfl.Api.Presentation.Entities.StopPoint, Tfl.Api.Presentation.Entities",
            "additionalProperties": [],
            "commonName": "Shepherd's Bush Station",
            "icsCode": "1000203",
            "lat": 51.50452056142,
            "lon": -0.22014782765,
            "naptanId": "490G00203A",
            "placeType": "StopPoint",
            "platformName": "X",
            "stopLetter": "X"
           },
           "departureTime": "2021-04-30T00:43:00",
           "disruptions": [],
           "duration": 31,
           "hasFixedLocations": true,
           "instruction": {
            "$type": "Tfl.Api.Presentation.Entities.Instruction, Tfl.Api.Presentation.Entities",
            "detailed": "148 bus towards Camberwell Green",
            "steps": [],
            "summary": "148 bus to St George's Circus"
           },
           "isDisrupted": false,
           "mode": {
            "$type": "Tfl.Api.Presentation.Entities.Identifier, Tfl.Api.Presentation.Entities",
            "id": "bus",
            "name": "bus",
            "routeType": "Unknown",
            "status": "Unknown",
            "type": "Mode"
           },
           "obstacles": [],
           "path": {
            "$type": "Tfl.Api.Presentation.Entities.JourneyPlanner.Path, Tfl.Api.Presentation.Entities",
            "elevation": [],
            "lineString": "[[51.5044390008, -0.22016849787],[51.50441886203, -0.21996447189],[51.50436321494, -0.21926059496],[51.5043494172, -0.21894413294],[51.50438735393, -0.21848156261],[51.50442550763, -0.21803339214],[51.5044415126, -0.21790308572],[51.50458926019, -0.2175659108],[51.50464121304, -0.21743420092],[51.50484660312, -0.21733973029],[51.50496234099, -0.21726316705],[51.5050579155, -0.21704329725],[51.50508904722, -0.21672507697],[51.50503118309, -0.21646796848],[51.50491676745, -0.21604015778],[51.50488608219, -0.21579639875],[51.50485408178, -0.2154662359],[51.50490427915, -0.21521931727],[51.50494636558, -0.21503035217],[51.50517886496, -0.21407639623],[51.50517886496, -0.21407639623],[51.50520874202, -0.21395380618],[51.50540951546, -0.21296611443],[51.50545093988, -0.21273394267],[51.50563438749, -0.21179014696],[51.50570101396, -0.21144170998],[51.50591908094, -0.21041008984],[51.50601821828, -0.20992230818],[51.50601821828, -0.20992230818],[51.50601945362, -0.20991622989],[51.50612114332, -0.20950877407],[51.50623137885, -0.20907216195],[51.50637558127, -0.20850452784],[51.50650400714, -0.20808160694],[51.50660569038, -0.20767414285],[51.50684412002, -0.20680019303],[51.50710884329, -0.20588197121],[51.50723637813, -0.20540143087],[51.50741495471, -0.20471253538],[51.50741495471, -0.20471253538],[51.50750809302, -0.204353227],[51.50764328524, -0.20378591602],[51.50773728992, -0.20346519506],[51.50785693094, -0.20305700285],[51.50791675091, -0.20285290596],[51.50813171524, -0.20221039389],[51.50833592228, -0.20145301628],[51.50842225872, -0.20121904996],[51.50854100808, -0.20075323895],[51.50861607188, -0.19978478058],[51.5086311721, -0.19959684925],[51.50865282687, -0.19925014411],[51.50870431653, -0.19908959852],[51.50879073791, -0.198364007],[51.50879073791, -0.198364007],[51.50887158509, -0.19768517946],[51.50892085922, -0.19738061306],[51.50897057531, -0.19710484971],[51.50896703301, -0.19687442022],[51.50904016558, -0.19636716168],[51.50919651903, -0.19542429427],[51.50938115596, -0.19456676644],[51.50948212641, -0.19411604165],[51.5096297369, -0.19338563595],[51.5096297369, -0.19338563595],[51.50969937356, -0.19304105061],[51.50978369571, -0.19267744315],[51.5098831049, -0.19212589571],[51.50996387134, -0.19153185133],[51.50999448909, -0.19118477688],[51.51006093088, -0.19024543428],[51.51008144649, -0.18982670384],[51.5101044061, -0.18956639661],[51.51012174937, -0.18926637424],[51.51012174937, -0.18926637424],[51.51013279441, -0.18907529844],[51.51021207553, -0.18780398747],[51.51021051781, -0.18770317234],[51.51027893543, -0.1868934405],[51.51030092174, -0.18663430924],[51.51030092174, -0.18663430924],[51.51031696753, -0.18644518874],[51.51036918482, -0.18575138498],[51.51042295799, -0.18515839519],[51.51043669738, -0.1848840389],[51.51050761509, -0.18365627743],[51.5105233585, -0.1835115403],[51.51058432216, -0.18280297064],[51.51062953986, -0.18223913717],[51.5106600067, -0.18204956312],[51.5106600067, -0.18204956312],[51.5108509736, -0.18086125877],[51.510957973, -0.18022290194],[51.51099977895, -0.18001947848],[51.51104091401, -0.17977284757],[51.51110876545, -0.17932356716],[51.51110876545, -0.17932356716],[51.51127738428, -0.17820699703],[51.51138392153, -0.17753982346],[51.51150551827, -0.17668469704],[51.51157069575, -0.17624975147],[51.51160238796, -0.17597466822],[51.5116509332, -0.17562685397],[51.51169899034, -0.17522986918],[51.51169899034, -0.17522986918],[51.51173858546, -0.17490277742],[51.51179230345, -0.17430975842],[51.51183792859, -0.17377470775],[51.51201320559, -0.1723265395],[51.51209103436, -0.17149072574],[51.51209103436, -0.17149072574],[51.51225968448, -0.16967933922],[51.51235291375, -0.16873884187],[51.51236841375, -0.1685796915],[51.51246140915, -0.16762478717],[51.51252330372, -0.16701761949],[51.51252330372, -0.16701761949],[51.51257056934, -0.16655393565],[51.51296266738, -0.16287756949],[51.51297748253, -0.16267520671],[51.51303172035, -0.16220952081],[51.51303172035, -0.16220952081],[51.51305674464, -0.16199465652],[51.51310791339, -0.16124317534],[51.51314584693, -0.16079487688],[51.51323024374, -0.15986910994],[51.51326189731, -0.15959400627],[51.51333373717, -0.15901462968],[51.51335730632, -0.15879749889],[51.51329705417, -0.15839639179],[51.51323301586, -0.15832691445],[51.51295171126, -0.15816531682],[51.51273376639, -0.15802998903],[51.51229644704, -0.15779283403],[51.51229644704, -0.15779283403],[51.51218958222, -0.15773488276],[51.51150025107, -0.15735917105],[51.51115581135, -0.15718572158],[51.51100167813, -0.15710547356],[51.51084754485, -0.15702522608],[51.51046625216, -0.15679562433],[51.51013729522, -0.1564630366],[51.50999955038, -0.15628125426],[51.50973236735, -0.1558741247],[51.50894206259, -0.15479641646],[51.50846636552, -0.154282447],[51.50837988679, -0.15418510683],[51.50837988679, -0.15418510683],[51.50797201261, -0.15372601118],[51.50684577532, -0.15244581804],[51.50671814557, -0.15233570114],[51.50662646282, -0.1522241306],[51.50654376675, -0.15211219691],[51.50643388333, -0.15198695377],[51.50606828523, -0.15161268263],[51.50571189973, -0.15125245415],[51.50552989425, -0.15111572507],[51.50516792618, -0.15097187259],[51.50513652526, -0.15097035051],[51.50513652526, -0.15097035051],[51.50500593728, -0.15096402059],[51.50462018721, -0.15102286375],[51.50446809315, -0.15107224806],[51.50435194616, -0.15112017702],[51.50425354568, -0.15115297825],[51.50352175778, -0.15093764502],[51.50330289665, -0.15074477999],[51.50330279988, -0.15016842877],[51.50327379538, -0.15003992349],[51.5030996395, -0.14983084427],[51.50291967698, -0.14982372446],[51.50282127686, -0.14985652738],[51.5025007061, -0.1500568231],[51.50235224623, -0.15033659825],[51.50221436187, -0.15071680317],[51.5021881287, -0.15078210447],[51.5021881287, -0.15078210447],[51.50206726247, -0.15108297023],[51.50202437159, -0.15121438245],[51.50192619801, -0.15126158094],[51.50161996663, -0.1512307489],[51.5015280559, -0.15110479366],[51.5006702586, -0.14974192945],[51.499980345, -0.14876132298],[51.49976955794, -0.14851052457],[51.49924984394, -0.14794528858],[51.49924984394, -0.14794528858],[51.49915653157, -0.14784380461],[51.49878216142, -0.14748438775],[51.49833589611, -0.14712789241],[51.4982605896, -0.14691483705],[51.49824011339, -0.1467571874],[51.49826592865, -0.14554592731],[51.49822439353, -0.14462554691],[51.49816432211, -0.14423899016],[51.49807797284, -0.1438967237],[51.49800015347, -0.14352529749],[51.49794838128, -0.14309518511],[51.49772846076, -0.1422685095],[51.49771638543, -0.14225755953],[51.49771638543, -0.14225755953],[51.497409135, -0.14197894565],[51.49686764962, -0.141856897],[51.49680451433, -0.14184505776],[51.49664421074, -0.14137615286],[51.49678192125, -0.14041969964],[51.49680733749, -0.14024918747],[51.49680733749, -0.14024918747],[51.49695260121, -0.13927460834],[51.49725333916, -0.13725978878],[51.49730245656, -0.13695523908],[51.49735148958, -0.13660739912],[51.49735148958, -0.13660739912],[51.49748832926, -0.13563661649],[51.49752061361, -0.1354047858],[51.49763818521, -0.13488133132],[51.49768911017, -0.134668412],[51.49768911017, -0.134668412],[51.49785740986, -0.13396472907],[51.49838336717, -0.13254573352],[51.49861591795, -0.13190230099],[51.49896883022, -0.13093201299],[51.49896883022, -0.13093201299],[51.49940849874, -0.12972314723],[51.49952096231, -0.12944479645],[51.49977215824, -0.12884379142],[51.49986733564, -0.12860936781],[51.49999593142, -0.12821508748],[51.50013282292, -0.12777724119],[51.50033606793, -0.12755279206],[51.50076696772, -0.12750631438],[51.50093748431, -0.12748491695],[51.50108588901, -0.12720507773],[51.50103913346, -0.12652980875],[51.50102646629, -0.12629979696],[51.50102347553, -0.12611261298],[51.50098662095, -0.12549457244],[51.50097498441, -0.12525450222],[51.50097498441, -0.12525450222],[51.50093294794, -0.12438734513],[51.50091866436, -0.12405654356],[51.50092396562, -0.12382579505],[51.50092166203, -0.12368180789],[51.50091958864, -0.12355221947],[51.50084630493, -0.12178302663],[51.50080087769, -0.12007032528],[51.50079741533, -0.1198543456],[51.50077457529, -0.11899079735],[51.50083078348, -0.11857064643],[51.50081475486, -0.11802435092],[51.50081475486, -0.11802435092],[51.50081093815, -0.11789428063],[51.50074294776, -0.11758010289],[51.50053001507, -0.11719985919],[51.5004276948, -0.11698795571],[51.50037007595, -0.11675980243],[51.50046499764, -0.11651095266],[51.5006458528, -0.11601362065],[51.50069792186, -0.11589620836],[51.50061357245, -0.11568356575],[51.50055757066, -0.11555620298],[51.50048220724, -0.11534319092],[51.50035153534, -0.11504601346],[51.50009926972, -0.11477454508],[51.50009926972, -0.11477454508],[51.50006785917, -0.11474074378],[51.49982911519, -0.11443362333],[51.49970904834, -0.11423686954],[51.49958828652, -0.11399692214],[51.49888052003, -0.11248453206],[51.49873969558, -0.11211575495],[51.49867354442, -0.11191678365],[51.49856843268, -0.11153212627],[51.49848688696, -0.11116744999],[51.49848688696, -0.11116744999],[51.49829709487, -0.1103187154],[51.49830376135, -0.11017436591],[51.49837419788, -0.10952311942],[51.4983679306, -0.10913437903],[51.4983969117, -0.10870095737],[51.49842774915, -0.10838271761],[51.49844590368, -0.1081410691]]",
            "stopPoints": [
             {
              "$type": "Tfl.Api.Presentation.Entities.Identifier, Tfl.Api.Presentation.Entities",
              "id": "490G00008651",
              "name": "Royal Crescent",
              "routeType": "Unknown",
              "status": "Unknown",
              "type": "StopPoint",
              "uri": "/StopPoint/490G00008651"
             },
             {
              "$type": "Tfl.Api.Presentation.Entities.Identifier, Tfl.Api.Presentation.Entities",
              "id": "490G00010305",
              "name": "Norland Square",
              "routeType": "Unknown",
              "status": "Unknown",
              "type": "StopPoint",
              "uri": "/StopPoint/490G00010305"
             },
             {
              "$type": "Tfl.Api.Presentation.Entities.Identifier, Tfl.Api.Presentation.Entities",
              "id": "490G00113G",
              "name": "Holland Park",
              "routeType": "Unknown",
              "status": "Unknown",
              "type": "StopPoint",
              "uri": "/StopPoint/490G00113G"
             },
             {
              "$type": "Tfl.Api.Presentation.Entities.Identifier, Tfl.Api.Presentation.Entities",
              "id": "490G00019162",
              "name": "Notting Hill Gate Stn  / Hillgate St",
              "routeType": "Unknown",
              "status": "Unknown",
              "type": "StopPoint",
              "uri": "/StopPoint/490G00019162"
             },
             {
              "$type": "Tfl.Api.Presentation.Entities.Identifier, Tfl.Api.Presentation.Entities",
              "id": "490G000897",
              "name": "Palace Gardens Terrace",
              "routeType": "Unknown",
              "status": "Unknown",
              "type": "StopPoint",
              "uri": "/StopPoint/490G000897"
             },
             {
              "$type": "Tfl.Api.Presentation.Entities.Identifier, Tfl.Api.Presentation.Entities",
              "id": "490G00010632",
              "name": "Orme Square",
              "routeType": "Unknown",
              "status": "Unknown",
              "type": "StopPoint",
              "uri": "/StopPoint/490G00010632"
             },
             {
              "$type": "Tfl.Api.Presentation.Entities.Identifier, Tfl.Api.Presentation.Entities",
              "id": "490G00187B",
              "name": "Queensway Station",
              "routeType": "Unknown",
              "status": "Unknown",
              "type": "StopPoint",
              "uri": "/StopPoint/490G00187B"
             },
             {
              "$type": "Tfl.Api.Presentation.Entities.Identifier, Tfl.Api.Presentation.Entities",
              "id": "490G00009081",
              "name": "Leinster Terrace",
              "routeType": "Unknown",
              "status": "Unknown",
              "type": "StopPoint",
              "uri": "/StopPoint/490G00009081"
             },
             {
              "$type": "Tfl.Api.Presentation.Entities.Identifier, Tfl.Api.Presentation.Entities",
              "id": "490G00003121",
              "name": "Lancaster Gate",
              "routeType": "Unknown",
              "status": "Unknown",
              "type": "StopPoint",
              "uri": "/StopPoint/490G00003121"
             },
             {
              "$type": "Tfl.Api.Presentation.Entities.Identifier, Tfl.Api.Presentation.Entities",
              "id": "490G00133B",
              "name": "Lancaster Gate Station",
              "routeType": "Unknown",
              "status": "Unknown",
              "type": "StopPoint",
              "uri": "/StopPoint/490G00133B"
             },
             {
              "$type": "Tfl.Api.Presentation.Entities.Identifier, Tfl.Api.Presentation.Entities",
              "id": "490G00014055",
              "name": "Victoria Gate",
              "routeType": "Unknown",
              "status": "Unknown",
              "type": "StopPoint",
              "uri": "/StopPoint/490G00014055"
             },
             {
              "$type": "Tfl.Api.Presentation.Entities.Identifier, Tfl.Api.Presentation.Entities",
              "id": "490G00008446",
              "name": "Hyde Park Street",
              "routeType": "Unknown",
              "status": "Unknown",
              "type": "StopPoint",
              "uri": "/StopPoint/490G00008446"
             },
             {
              "$type": "Tfl.Api.Presentation.Entities.Identifier, Tfl.Api.Presentation.Entities",
              "id": "490G00008447",
              "name": "Marble Arch / Bayswater Road",
              "routeType": "Unknown",
              "status": "Unknown",
              "type": "StopPoint",
              "uri": "/StopPoint/490G00008447"
             },
             {
              "$type": "Tfl.Api.Presentation.Entities.Identifier, Tfl.Api.Presentation.Entities",
              "id": "490G00000399",
              "name": "Marble Arch Station  / Park Lane",
              "routeType": "Unknown",
              "status": "Unknown",
              "type": "StopPoint",
              "uri": "/StopPoint/490G00000399"
             },
             {
              "$type": "Tfl.Api.Presentation.Entities.Identifier, Tfl.Api.Presentation.Entities",
              "id": "490G00006111",
              "name": "Dorchester Hotel",
              "routeType": "Unknown",
              "status": "Unknown",
              "type": "StopPoint",
              "uri": "/StopPoint/490G00006111"
             },
             {
              "$type": "Tfl.Api.Presentation.Entities.Identifier, Tfl.Api.Presentation.Entities",
              "id": "490G00009277",
              "name": "London Hilton Hotel",
              "routeType": "Unknown",
              "status": "Unknown",
              "type": "StopPoint",
              "uri": "/StopPoint/490G00009277"
             },
             {
              "$type": "Tfl.Api.Presentation.Entities.Identifier, Tfl.Api.Presentation.Entities",
              "id": "490G00119F",
              "name": "Hyde Park Corner Station",
              "routeType": "Unknown",
              "status": "Unknown",
              "type": "StopPoint",
              "uri": "/StopPoint/490G00119F"
             },
             {
              "$type": "Tfl.Api.Presentation.Entities.Identifier, Tfl.Api.Presentation.Entities",
              "id": "490G00014728",
              "name": "Wilton Street",
              "routeType": "Unknown",
              "status": "Unknown",
              "type": "StopPoint",
              "uri": "/StopPoint/490G00014728"
             },
             {
              "$type": "Tfl.Api.Presentation.Entities.Identifier, Tfl.Api.Presentation.Entities",
              "id": "490G000931",
              "name": "Bressenden Place",
              "routeType": "Unknown",
              "status": "Unknown",
              "type": "StopPoint",
              "uri": "/StopPoint/490G000931"
             },
             {
              "$type": "Tfl.Api.Presentation.Entities.Identifier, Tfl.Api.Presentation.Entities",
              "id": "490G00014496",
              "name": "Westminster Cathedral",
              "routeType": "Unknown",
              "status": "Unknown",
              "type": "StopPoint",
              "uri": "/StopPoint/490G00014496"
             },
             {
              "$type": "Tfl.Api.Presentation.Entities.Identifier, Tfl.Api.Presentation.Entities",
              "id": "490G000394",
              "name": "Westminster City Hall",
              "routeType": "Unknown",
              "status": "Unknown",
              "type": "StopPoint",
              "uri": "/StopPoint/490G000394"
             },
             {
              "$type": "Tfl.Api.Presentation.Entities.Identifier, Tfl.Api.Presentation.Entities",
              "id": "490G00221V",
              "name": "St James's Park Station",
              "routeType": "Unknown",
              "status": "Unknown",
              "type": "StopPoint",
              "uri": "/StopPoint/490G00221V"
             },
             {
              "$type": "Tfl.Api.Presentation.Entities.Identifier, Tfl.Api.Presentation.Entities",
              "id": "490G000828",
              "name": "Westminster Abbey",
              "routeType": "Unknown",
              "status": "Unknown",
              "type": "StopPoint",
              "uri": "/StopPoint/490G000828"
             },
             {
              "$type": "Tfl.Api.Presentation.Entities.Identifier, Tfl.Api.Presentation.Entities",
              "id": "490G000829",
              "name": "Westminster Stn  / Westmr Pier",
              "routeType": "Unknown",
              "status": "Unknown",
              "type": "StopPoint",
              "uri": "/StopPoint/490G000829"
             },
             {
              "$type": "Tfl.Api.Presentation.Entities.Identifier, Tfl.Api.Presentation.Entities",
              "id": "490G00018956",
              "name": "St Thomas' Hospital / County Hall",
              "routeType": "Unknown",
              "status": "Unknown",
              "type": "StopPoint",
              "uri": "/StopPoint/490G00018956"
             },
             {
              "$type": "Tfl.Api.Presentation.Entities.Identifier, Tfl.Api.Presentation.Entities",
              "id": "490G00009420",
              "name": "Lower Marsh",
              "routeType": "Unknown",
              "status": "Unknown",
              "type": "StopPoint",
              "uri": "/StopPoint/490G00009420"
             },
             {
              "$type": "Tfl.Api.Presentation.Entities.Identifier, Tfl.Api.Presentation.Entities",
              "id": "490G00132G",
              "name": "Lambeth North Station",
              "routeType": "Unknown",
              "status": "Unknown",
              "type": "StopPoint",
              "uri": "/StopPoint/490G00132G"
             },
             {
              "$type": "Tfl.Api.Presentation.Entities.Identifier, Tfl.Api.Presentation.Entities",
              "id": "490G00012693",
              "name": "St George's Circus",
              "routeType": "Unknown",
              "status": "Unknown",
              "type": "StopPoint",
              "uri": "/StopPoint/490G00012693"
             }
            ]
           },
           "plannedWorks": [],
           "routeOptions": [
            {
             "$type": "Tfl.Api.Presentation.Entities.JourneyPlanner.RouteOption, Tfl.Api.Presentation.Entities",
             "directions": [
              "Camberwell Green"
             ],
             "lineIdentifier": {
              "$type": "Tfl.Api.Presentation.Entities.Identifier, Tfl.Api.Presentation.Entities",
              "crowding": {
               "$type": "Tfl.Api.Presentation.Entities.Crowding, Tfl.Api.Presentation.Entities"
              },
              "id": "148",
              "name": "148",
              "routeType": "Unknown",
              "status": "Unknown",
              "type": "Line",
              "uri": "/Line/148"
             },
             "name": "148"
            }
           ]
          },
          {
           "$type": "Tfl.Api.Presentation.Entities.JourneyPlanner.Leg, Tfl.Api.Presentation.Entities",
           "arrivalPoint": {
            "$type": "Tfl.Api.Presentation.Entities.StopPoint, Tfl.Api.Presentation.Entities",
            "additionalProperties": [],
            "commonName": "Bricklayer's Arms",
            "icsCode": "1004315",
            "lat": 51.49336501877,
            "lon": -0.08401593614000001,
            "naptanId": "490G00004315",
            "placeType": "StopPoint",
            "platformName": "",
            "stopLetter": "BF"
           },
           "arrivalTime": "2021-04-30T01:29:00",
           "departurePoint": {
            "$type": "Tfl.Api.Presentation.Entities.StopPoint, Tfl.Api.Presentation.Entities",
            "additionalProperties": [],
            "commonName": "St George's Circus",
            "icsCode": "1012693",
            "lat": 51.49941114266,
            "lon": -0.10468243625,
            "naptanId": "490G00012693",
            "placeType": "StopPoint",
            "platformName": "Y",
            "stopLetter": "Y"
           },
           "departureTime": "2021-04-30T01:22:00",
           "disruptions": [
            {
             "$type": "Tfl.Api.Presentation.Entities.Disruption, Tfl.Api.Presentation.Entities",
             "additionalInfo": "",
             "category": "PlannedWork",
             "categoryDescription": "PlannedWork",
             "created": "2021-04-16T18:18:00",
             "description": "MELFORD ROAD, SE22: Until 17:00 on Sunday 9 May, routes 363 and N63 are on diversion via Lordship Lane and Barry Road due to gas works. Buses towards Elephant and Castle or Kings Cross will miss stops from Underhill Road/Melford Road (MB) through to to Friern Road (WB). Buses towards Crystal Palace will not serve stops from Friend Road (WP) through to Underhill Road (MC)",
             "lastUpdate": "2021-04-22T11:29:00",
             "summary": "NMCC - SO21/15394 - Melford Road - Routes 363 and N63",
             "type": "lineInfo"
            }
           ],
           "duration": 7,
           "hasFixedLocations": true,
           "instruction": {
            "$type": "Tfl.Api.Presentation.Entities.Instruction, Tfl.Api.Presentation.Entities",
            "detailed": "N63 bus towards Crystal Palace",
            "steps": [],
            "summary": "N63 bus to Bricklayer's Arms"
           },
           "isDisrupted": true,
           "mode": {
            "$type": "Tfl.Api.Presentation.Entities.Identifier, Tfl.Api.Presentation.Entities",
            "id": "bus",
            "name": "bus",
            "routeType": "Unknown",
            "status": "Unknown",
            "type": "Mode"
           },
           "obstacles": [],
           "path": {
            "$type": "Tfl.Api.Presentation.Entities.JourneyPlanner.Path, Tfl.Api.Presentation.Entities",
            "elevation": [],
            "lineString": "[[51.49941126424, -0.1047128256],[51.49889914245, -0.10471808461],[51.49879633452, -0.10447742139],[51.49861613825, -0.10445608274],[51.49831655688, -0.10428121628],[51.49777424623, -0.10355454297],[51.49771939567, -0.10349919093],[51.49696689598, -0.10256515968],[51.49629643313, -0.10169978405],[51.49607343237, -0.10138454673],[51.49607343237, -0.10138454673],[51.4956430045, -0.10077609922],[51.49563600882, -0.10034419346],[51.49555046544, -0.1000596195],[51.4953598824, -0.09995229256],[51.49524072488, -0.09981318332],[51.49509799455, -0.09932930198],[51.49496786667, -0.09851355335],[51.4949383392, -0.09835631245],[51.49490904499, -0.09821346836],[51.4948294239, -0.09782712345],[51.4948294239, -0.09782712345],[51.49472358887, -0.09731359235],[51.49466569862, -0.09707109668],[51.49437226571, -0.09561388855],[51.49431343668, -0.09531381138],[51.49419205279, -0.09444845027],[51.49419205279, -0.09444845027],[51.49415070683, -0.09415370102],[51.49417410648, -0.09282736352],[51.49418443799, -0.09180409857],[51.49422070159, -0.09126955766],[51.49422984721, -0.09017431004],[51.49423344065, -0.08984281888],[51.49427016441, -0.08933706875],[51.49428486283, -0.08874268547],[51.49428486283, -0.08874268547],[51.49432435512, -0.08714506634],[51.49440247588, -0.08642148656],[51.494437482, -0.08636239573],[51.4946872232, -0.08623668617],[51.49486225298, -0.08594122858],[51.4948492716, -0.08569686475],[51.49476891848, -0.08518160416],[51.49464927367, -0.08501374284],[51.49448610704, -0.08493414385],[51.49423566203, -0.08501667106],[51.49408195205, -0.08496548859],[51.49389065049, -0.08481503975],[51.49357899775, -0.08445354784],[51.49348725197, -0.08434214666],[51.49331141982, -0.08412987559]]",
            "stopPoints": [
             {
              "$type": "Tfl.Api.Presentation.Entities.Identifier, Tfl.Api.Presentation.Entities",
              "id": "490G000642",
              "name": "Elephant & Castle / London Road",
              "routeType": "Unknown",
              "status": "Unknown",
              "type": "StopPoint",
              "uri": "/StopPoint/490G000642"
             },
             {
              "$type": "Tfl.Api.Presentation.Entities.Identifier, Tfl.Api.Presentation.Entities",
              "id": "490G000645",
              "name": "Elephant & Castle / New Kent Road",
              "routeType": "Unknown",
              "status": "Unknown",
              "type": "StopPoint",
              "uri": "/StopPoint/490G000645"
             },
             {
              "$type": "Tfl.Api.Presentation.Entities.Identifier, Tfl.Api.Presentation.Entities",
              "id": "490G00011632",
              "name": "Rodney Place",
              "routeType": "Unknown",
              "status": "Unknown",
              "type": "StopPoint",
              "uri": "/StopPoint/490G00011632"
             },
             {
              "$type": "Tfl.Api.Presentation.Entities.Identifier, Tfl.Api.Presentation.Entities",
              "id": "490G00003658",
              "name": "Bricklayer's Arms / New Kent Road",
              "routeType": "Unknown",
              "status": "Unknown",
              "type": "StopPoint",
              "uri": "/StopPoint/490G00003658"
             },
             {
              "$type": "Tfl.Api.Presentation.Entities.Identifier, Tfl.Api.Presentation.Entities",
              "id": "490G00004315",
              "name": "Bricklayer's Arms",
              "routeType": "Unknown",
              "status": "Unknown",
              "type": "StopPoint",
              "uri": "/StopPoint/490G00004315"
             }
            ]
           },
           "plannedWorks": [],
           "routeOptions": [
            {
             "$type": "Tfl.Api.Presentation.Entities.JourneyPlanner.RouteOption, Tfl.Api.Presentation.Entities",
             "directions": [
              "Crystal Palace"
             ],
             "lineIdentifier": {
              "$type": "Tfl.Api.Presentation.Entities.Identifier, Tfl.Api.Presentation.Entities",
              "crowding": {
               "$type": "Tfl.Api.Presentation.Entities.Crowding, Tfl.Api.Presentation.Entities"
              },
              "id": "n63",
              "name": "N63",
              "routeType": "Unknown",
              "status": "Unknown",
              "type": "Line",
              "uri": "/Line/n63"
             },
             "name": "N63"
            }
           ]
          },
          {
           "$type": "Tfl.Api.Presentation.Entities.JourneyPlanner.Leg, Tfl.Api.Presentation.Entities",
           "arrivalPoint": {
            "$type": "Tfl.Api.Presentation.Entities.Place, Tfl.Api.Presentation.Entities",
            "commonName": "SE1 4TW",
            "lat": 51.496527864600004,
            "lon": -0.08275956985,
            "placeType": "StopPoint"
           },
           "arrivalTime": "2021-04-30T01:36:00",
           "departurePoint": {
            "$type": "Tfl.Api.Presentation.Entities.StopPoint, Tfl.Api.Presentation.Entities",
            "additionalProperties": [],
            "commonName": "Bricklayer's Arms",
            "icsCode": "1004315",
            "lat": 51.49336501877,
            "lon": -0.08401593614000001,
            "naptanId": "490G00004315",
            "placeType": "StopPoint",
            "platformName": "",
            "stopLetter": "BF"
           },
           "departureTime": "2021-04-30T01:29:00",
           "disruptions": [],
           "distance": 460,
           "duration": 7,
           "hasFixedLocations": false,
           "instruction": {
            "$type": "Tfl.Api.Presentation.Entities.Instruction, Tfl.Api.Presentation.Entities",
            "detailed": "Walk to SE1 4TW",
            "steps": [
             {
              "$type": "Tfl.Api.Presentation.Entities.InstructionStep, Tfl.Api.Presentation.Entities",
              "cumulativeDistance": 121,
              "cumulativeTravelTime": 111,
              "description": "New Kent Road for 121 metres",
              "descriptionHeading": "Continue along ",
              "distance": 121,
              "latitude": 51.493312981749995,
              "longitude": -0.08413336486,
              "pathAttribute": {
               "$type": "Tfl.Api.Presentation.Entities.PathAttribute, Tfl.Api.Presentation.Entities"
              },
              "skyDirection": 321,
              "skyDirectionDescription": "NorthWest",
              "streetName": "New Kent Road",
              "trackType": "None",
              "turnDirection": "STRAIGHT"
             },
             {
              "$type": "Tfl.Api.Presentation.Entities.InstructionStep, Tfl.Api.Presentation.Entities",
              "cumulativeDistance": 149,
              "cumulativeTravelTime": 136,
              "description": "on to Bricklayers Arms, continue for 28 metres",
              "descriptionHeading": "Continue along ",
              "distance": 28,
              "latitude": 51.49423566202999,
              "longitude": -0.08501667106,
              "pathAttribute": {
               "$type": "Tfl.Api.Presentation.Entities.PathAttribute, Tfl.Api.Presentation.Entities"
              },
              "skyDirection": 370,
              "skyDirectionDescription": "North",
              "streetName": "Bricklayers Arms",
              "trackType": "None",
              "turnDirection": "STRAIGHT"
             },
             {
              "$type": "Tfl.Api.Presentation.Entities.InstructionStep, Tfl.Api.Presentation.Entities",
              "cumulativeDistance": 232,
              "cumulativeTravelTime": 210,
              "description": "on to Tower Bridge Road, continue for 83 metres",
              "descriptionHeading": "Continue along ",
              "distance": 83,
              "latitude": 51.494486107040004,
              "longitude": -0.08493414384999999,
              "pathAttribute": {
               "$type": "Tfl.Api.Presentation.Entities.PathAttribute, Tfl.Api.Presentation.Entities"
              },
              "skyDirection": 387,
              "skyDirectionDescription": "North",
              "streetName": "Tower Bridge Road",
              "trackType": "None",
              "turnDirection": "STRAIGHT"
             },
             {
              "$type": "Tfl.Api.Presentation.Entities.InstructionStep, Tfl.Api.Presentation.Entities",
              "cumulativeDistance": 295,
              "cumulativeTravelTime": 267,
              "description": "on to Green Walk, continue for 63 metres",
              "descriptionHeading": "Turn left",
              "distance": 63,
              "latitude": 51.49506792522,
              "longitude": -0.08421825112,
              "pathAttribute": {
               "$type": "Tfl.Api.Presentation.Entities.PathAttribute, Tfl.Api.Presentation.Entities"
              },
              "skyDirection": 325,
              "skyDirectionDescription": "North",
              "streetName": "Green Walk",
              "trackType": "None",
              "turnDirection": "LEFT"
             },
             {
              "$type": "Tfl.Api.Presentation.Entities.InstructionStep, Tfl.Api.Presentation.Entities",
              "cumulativeDistance": 399,
              "cumulativeTravelTime": 360,
              "description": "on to Alice Street, continue for 104 metres",
              "descriptionHeading": "Take a slight right",
              "distance": 104,
              "latitude": 51.49558650204,
              "longitude": -0.08458548502999999,
              "pathAttribute": {
               "$type": "Tfl.Api.Presentation.Entities.PathAttribute, Tfl.Api.Presentation.Entities"
              },
              "skyDirection": 402,
              "skyDirectionDescription": "North",
              "streetName": "Alice Street",
              "trackType": "None",
              "turnDirection": "SLIGHT_RIGHT"
             },
             {
              "$type": "Tfl.Api.Presentation.Entities.InstructionStep, Tfl.Api.Presentation.Entities",
              "cumulativeDistance": 460,
              "cumulativeTravelTime": 414,
              "description": "for 61 metres",
              "descriptionHeading": "Continue along ",
              "distance": 61,
              "latitude": 51.49626199286,
              "longitude": -0.08354869259999999,
              "pathAttribute": {
               "$type": "Tfl.Api.Presentation.Entities.PathAttribute, Tfl.Api.Presentation.Entities"
              },
              "skyDirection": 409,
              "skyDirectionDescription": "North",
              "streetName": "",
              "trackType": "None",
              "turnDirection": "STRAIGHT"
             }
            ],
            "summary": "Walk to SE1 4TW"
           },
           "isDisrupted": false,
           "mode": {
            "$type": "Tfl.Api.Presentation.Entities.Identifier, Tfl.Api.Presentation.Entities",
            "id": "walking",
            "name": "walking",
            "routeType": "Unknown",
            "status": "Unknown",
            "type": "Mode"
           },
           "obstacles": [],
           "path": {
            "$type": "Tfl.Api.Presentation.Entities.JourneyPlanner.Path, Tfl.Api.Presentation.Entities",
            "elevation": [],
            "lineString": "[[51.49331298175, -0.08413336486],[51.49348725197, -0.08434214666],[51.49357899775, -0.08445354784],[51.49389065049, -0.08481503975],[51.49408195205, -0.08496548859],[51.49423566203, -0.08501667106],[51.49448610704, -0.08493414385],[51.49461027151, -0.08482809608],[51.4948141382, -0.08464667525],[51.49500643125, -0.08430726775],[51.49506792522, -0.08421825112],[51.49515943595, -0.08431525924],[51.49558650204, -0.08458548503],[51.49626199286, -0.0835486926],[51.49658437223, -0.08291567437],[51.49661062545, -0.08287135213],[51.4965278646, -0.08275956985]]",
            "stopPoints": []
           },
           "plannedWorks": [],
           "routeOptions": [
            {
             "$type": "Tfl.Api.Presentation.Entities.JourneyPlanner.RouteOption, Tfl.Api.Presentation.Entities",
             "directions": [
              ""
             ],
             "name": ""
            }
           ]
          }
         ],
         "startDateTime": "2021-04-29T23:29:00"
        }
       ],
       "lines": [
        {
         "$type": "Tfl.Api.Presentation.Entities.Line, Tfl.Api.Presentation.Entities",
         "created": "2021-04-27T12:51:57.11Z",
         "crowding": {
          "$type": "Tfl.Api.Presentation.Entities.Crowding, Tfl.Api.Presentation.Entities"
         },
         "disruptions": [],
         "id": "105",
         "lineStatuses": [
          {
           "$type": "Tfl.Api.Presentation.Entities.LineStatus, Tfl.Api.Presentation.Entities",
           "created": "0001-01-01T00:00:00",
           "id": 0,
           "statusSeverity": 10,
           "statusSeverityDescription": "Good Service",
           "validityPeriods": []
          }
         ],
         "modeName": "bus",
         "modified": "2021-04-27T12:51:57.11Z",
         "name": "105",
         "routeSections": [],
         "serviceTypes": [
          {
           "$type": "Tfl.Api.Presentation.Entities.LineServiceTypeInfo, Tfl.Api.Presentation.Entities",
           "name": "Regular",
           "uri": "/Line/Route?ids=105&serviceTypes=Regular"
          }
         ]
        },
        {
         "$type": "Tfl.Api.Presentation.Entities.Line, Tfl.Api.Presentation.Entities",
         "created": "2021-04-27T12:51:57.11Z",
         "crowding": {
          "$type": "Tfl.Api.Presentation.Entities.Crowding, Tfl.Api.Presentation.Entities"
         },
         "disruptions": [],
         "id": "111",
         "lineStatuses": [
          {
           "$type": "Tfl.Api.Presentation.Entities.LineStatus, Tfl.Api.Presentation.Entities",
           "created": "0001-01-01T00:00:00",
           "disruption": {
            "$type": "Tfl.Api.Presentation.Entities.Disruption, Tfl.Api.Presentation.Entities",
            "additionalInfo": "Find out more and <a href=\"https://tfl.gov.uk/modes/buses/bus-changes?intcmp=47904#on-this-page-1\">which routes</a> are affected.",
            "affectedRoutes": [],
            "affectedStops": [],
            "category": "PlannedWork",
            "categoryDescription": "PlannedWork",
            "created": "2021-03-04T11:18:00Z",
            "description": "We are committed to helping London's schools remain open and operate safely and to help this 200 extra buses on our network continue to operate. We will also be prioritising some of our bus services for school travel from this date. Government guidance allows for all seats to be occupied on these 'school services', doubling their capacity, which is currently limited due to necessary social distancing. These 'school services' will be clearly signed and will operate on several key routes between 0730-0900 (some routes will run until 0930) and 1430-1630 on weekdays. On designated routes 'school services' will operate on an every other bus basis. We ask that schoolchildren travelling without adults use the designated 'school services' where these are provided, to help ensure space for customers on other services."
           },
           "id": 0,
           "lineId": "111",
           "reason": "We are committed to helping London's schools remain open and operate safely and to help this 200 extra buses on our network continue to operate. We will also be prioritising some of our bus services for school travel from this date. Government guidance allows for all seats to be occupied on these 'school services', doubling their capacity, which is currently limited due to necessary social distancing. These 'school services' will be clearly signed and will operate on several key routes between 0730-0900 (some routes will run until 0930) and 1430-1630 on weekdays. On designated routes 'school services' will operate on an every other bus basis. We ask that schoolchildren travelling without adults use the designated 'school services' where these are provided, to help ensure space for customers on other services.",
           "statusSeverity": 0,
           "statusSeverityDescription": "Special Service",
           "validityPeriods": [
            {
             "$type": "Tfl.Api.Presentation.Entities.ValidityPeriod, Tfl.Api.Presentation.Entities",
             "fromDate": "2021-03-08T11:18:00Z",
             "isNow": false,
             "toDate": "2021-07-25T01:29:00Z"
            }
           ]
          }
         ],
         "modeName": "bus",
         "modified": "2021-04-27T12:51:57.11Z",
         "name": "111",
         "routeSections": [],
         "serviceTypes": [
          {
           "$type": "Tfl.Api.Presentation.Entities.LineServiceTypeInfo, Tfl.Api.Presentation.Entities",
           "name": "Regular",
           "uri": "/Line/Route?ids=111&serviceTypes=Regular"
          }
         ]
        },
        {
         "$type": "Tfl.Api.Presentation.Entities.Line, Tfl.Api.Presentation.Entities",
         "created": "2021-04-27T12:51:57.11Z",
         "crowding": {
          "$type": "Tfl.Api.Presentation.Entities.Crowding, Tfl.Api.Presentation.Entities"
         },
         "disruptions": [],
         "id": "148",
         "lineStatuses": [
          {
           "$type": "Tfl.Api.Presentation.Entities.LineStatus, Tfl.Api.Presentation.Entities",
           "created": "0001-01-01T00:00:00",
           "id": 0,
           "statusSeverity": 10,
           "statusSeverityDescription": "Good Service",
           "validityPeriods": []
          }
         ],
         "modeName": "bus",
         "modified": "2021-04-27T12:51:57.11Z",
         "name": "148",
         "routeSections": [],
         "serviceTypes": [
          {
           "$type": "Tfl.Api.Presentation.Entities.LineServiceTypeInfo, Tfl.Api.Presentation.Entities",
           "name": "Regular",
           "uri": "/Line/Route?ids=148&serviceTypes=Regular"
          }
         ]
        },
        {
         "$type": "Tfl.Api.Presentation.Entities.Line, Tfl.Api.Presentation.Entities",
         "created": "2021-04-27T12:51:57.127Z",
         "crowding": {
          "$type": "Tfl.Api.Presentation.Entities.Crowding, Tfl.Api.Presentation.Entities"
         },
         "disruptions": [],
         "id": "237",
         "lineStatuses": [
          {
           "$type": "Tfl.Api.Presentation.Entities.LineStatus, Tfl.Api.Presentation.Entities",
           "created": "0001-01-01T00:00:00",
           "disruption": {
            "$type": "Tfl.Api.Presentation.Entities.Disruption, Tfl.Api.Presentation.Entities",
            "additionalInfo": "Find out more and <a href=\"https://tfl.gov.uk/modes/buses/bus-changes?intcmp=47904#on-this-page-1\">which routes</a> are affected.",
            "affectedRoutes": [],
            "affectedStops": [],
            "category": "PlannedWork",
            "categoryDescription": "PlannedWork",
            "created": "2021-03-04T11:18:00Z",
            "description": "We are committed to helping London's schools remain open and operate safely and to help this 200 extra buses on our network continue to operate. We will also be prioritising some of our bus services for school travel from this date. Government guidance allows for all seats to be occupied on these 'school services', doubling their capacity, which is currently limited due to necessary social distancing. These 'school services' will be clearly signed and will operate on several key routes between 0730-0900 (some routes will run until 0930) and 1430-1630 on weekdays. On designated routes 'school services' will operate on an every other bus basis. We ask that schoolchildren travelling without adults use the designated 'school services' where these are provided, to help ensure space for customers on other services."
           },
           "id": 0,
           "lineId": "237",
           "reason": "We are committed to helping London's schools remain open and operate safely and to help this 200 extra buses on our network continue to operate. We will also be prioritising some of our bus services for school travel from this date. Government guidance allows for all seats to be occupied on these 'school services', doubling their capacity, which is currently limited due to necessary social distancing. These 'school services' will be clearly signed and will operate on several key routes between 0730-0900 (some routes will run until 0930) and 1430-1630 on weekdays. On designated routes 'school services' will operate on an every other bus basis. We ask that schoolchildren travelling without adults use the designated 'school services' where these are provided, to help ensure space for customers on other services.",
           "statusSeverity": 0,
           "statusSeverityDescription": "Special Service",
           "validityPeriods": [
            {
             "$type": "Tfl.Api.Presentation.Entities.ValidityPeriod, Tfl.Api.Presentation.Entities",
             "fromDate": "2021-03-08T11:18:00Z",
             "isNow": false,
             "toDate": "2021-07-25T01:29:00Z"
            }
           ]
          }
         ],
         "modeName": "bus",
         "modified": "2021-04-27T12:51:57.127Z",
         "name": "237",
         "routeSections": [],
         "serviceTypes": [
          {
           "$type": "Tfl.Api.Presentation.Entities.LineServiceTypeInfo, Tfl.Api.Presentation.Entities",
           "name": "Regular",
           "uri": "/Line/Route?ids=237&serviceTypes=Regular"
          }
         ]
        },
        {
         "$type": "Tfl.Api.Presentation.Entities.Line, Tfl.Api.Presentation.Entities",
         "created": "2021-04-27T12:51:57.11Z",
         "crowding": {
          "$type": "Tfl.Api.Presentation.Entities.Crowding, Tfl.Api.Presentation.Entities"
         },
         "disruptions": [],
         "id": "278",
         "lineStatuses": [
          {
           "$type": "Tfl.Api.Presentation.Entities.LineStatus, Tfl.Api.Presentation.Entities",
           "created": "0001-01-01T00:00:00",
           "id": 0,
           "statusSeverity": 10,
           "statusSeverityDescription": "Good Service",
           "validityPeriods": []
          }
         ],
         "modeName": "bus",
         "modified": "2021-04-27T12:51:57.11Z",
         "name": "278",
         "routeSections": [],
         "serviceTypes": [
          {
           "$type": "Tfl.Api.Presentation.Entities.LineServiceTypeInfo, Tfl.Api.Presentation.Entities",
           "name": "Regular",
           "uri": "/Line/Route?ids=278&serviceTypes=Regular"
          }
         ]
        },
        {
         "$type": "Tfl.Api.Presentation.Entities.Line, Tfl.Api.Presentation.Entities",
         "created": "2021-04-27T12:51:57.127Z",
         "crowding": {
          "$type": "Tfl.Api.Presentation.Entities.Crowding, Tfl.Api.Presentation.Entities"
         },
         "disruptions": [],
         "id": "453",
         "lineStatuses": [
          {
           "$type": "Tfl.Api.Presentation.Entities.LineStatus, Tfl.Api.Presentation.Entities",
           "created": "0001-01-01T00:00:00",
           "disruption": {
            "$type": "Tfl.Api.Presentation.Entities.Disruption, Tfl.Api.Presentation.Entities",
            "additionalInfo": "Find out more and <a href=\"https://tfl.gov.uk/modes/buses/bus-changes?intcmp=47904#on-this-page-1\">which routes</a> are affected.",
            "affectedRoutes": [],
            "affectedStops": [],
            "category": "PlannedWork",
            "categoryDescription": "PlannedWork",
            "created": "2021-03-04T11:18:00Z",
            "description": "We are committed to helping London's schools remain open and operate safely and to help this 200 extra buses on our network continue to operate. We will also be prioritising some of our bus services for school travel from this date. Government guidance allows for all seats to be occupied on these 'school services', doubling their capacity, which is currently limited due to necessary social distancing. These 'school services' will be clearly signed and will operate on several key routes between 0730-0900 (some routes will run until 0930) and 1430-1630 on weekdays. On designated routes 'school services' will operate on an every other bus basis. We ask that schoolchildren travelling without adults use the designated 'school services' where these are provided, to help ensure space for customers on other services."
           },
           "id": 0,
           "lineId": "453",
           "reason": "We are committed to helping London's schools remain open and operate safely and to help this 200 extra buses on our network continue to operate. We will also be prioritising some of our bus services for school travel from this date. Government guidance allows for all seats to be occupied on these 'school services', doubling their capacity, which is currently limited due to necessary social distancing. These 'school services' will be clearly signed and will operate on several key routes between 0730-0900 (some routes will run until 0930) and 1430-1630 on weekdays. On designated routes 'school services' will operate on an every other bus basis. We ask that schoolchildren travelling without adults use the designated 'school services' where these are provided, to help ensure space for customers on other services.",
           "statusSeverity": 0,
           "statusSeverityDescription": "Special Service",
           "validityPeriods": [
            {
             "$type": "Tfl.Api.Presentation.Entities.ValidityPeriod, Tfl.Api.Presentation.Entities",
             "fromDate": "2021-03-08T11:18:00Z",
             "isNow": false,
             "toDate": "2021-07-25T01:29:00Z"
            }
           ]
          }
         ],
         "modeName": "bus",
         "modified": "2021-04-27T12:51:57.127Z",
         "name": "453",
         "routeSections": [],
         "serviceTypes": [
          {
           "$type": "Tfl.Api.Presentation.Entities.LineServiceTypeInfo, Tfl.Api.Presentation.Entities",
           "name": "Regular",
           "uri": "/Line/Route?ids=453&serviceTypes=Regular"
          }
         ]
        },
        {
         "$type": "Tfl.Api.Presentation.Entities.Line, Tfl.Api.Presentation.Entities",
         "created": "2021-04-27T12:51:57.127Z",
         "crowding": {
          "$type": "Tfl.Api.Presentation.Entities.Crowding, Tfl.Api.Presentation.Entities"
         },
         "disruptions": [],
         "id": "81",
         "lineStatuses": [
          {
           "$type": "Tfl.Api.Presentation.Entities.LineStatus, Tfl.Api.Presentation.Entities",
           "created": "0001-01-01T00:00:00",
           "disruption": {
            "$type": "Tfl.Api.Presentation.Entities.Disruption, Tfl.Api.Presentation.Entities",
            "additionalInfo": "Find out more and <a href=\"https://tfl.gov.uk/modes/buses/bus-changes?intcmp=47904#on-this-page-1\">which routes</a> are affected.",
            "affectedRoutes": [],
            "affectedStops": [],
            "category": "PlannedWork",
            "categoryDescription": "PlannedWork",
            "created": "2021-03-04T11:18:00Z",
            "description": "We are committed to helping London's schools remain open and operate safely and to help this 200 extra buses on our network continue to operate. We will also be prioritising some of our bus services for school travel from this date. Government guidance allows for all seats to be occupied on these 'school services', doubling their capacity, which is currently limited due to necessary social distancing. These 'school services' will be clearly signed and will operate on several key routes between 0730-0900 (some routes will run until 0930) and 1430-1630 on weekdays. On designated routes 'school services' will operate on an every other bus basis. We ask that schoolchildren travelling without adults use the designated 'school services' where these are provided, to help ensure space for customers on other services."
           },
           "id": 0,
           "lineId": "81",
           "reason": "We are committed to helping London's schools remain open and operate safely and to help this 200 extra buses on our network continue to operate. We will also be prioritising some of our bus services for school travel from this date. Government guidance allows for all seats to be occupied on these 'school services', doubling their capacity, which is currently limited due to necessary social distancing. These 'school services' will be clearly signed and will operate on several key routes between 0730-0900 (some routes will run until 0930) and 1430-1630 on weekdays. On designated routes 'school services' will operate on an every other bus basis. We ask that schoolchildren travelling without adults use the designated 'school services' where these are provided, to help ensure space for customers on other services.",
           "statusSeverity": 0,
           "statusSeverityDescription": "Special Service",
           "validityPeriods": [
            {
             "$type": "Tfl.Api.Presentation.Entities.ValidityPeriod, Tfl.Api.Presentation.Entities",
             "fromDate": "2021-03-08T11:18:00Z",
             "isNow": false,
             "toDate": "2021-07-25T01:29:00Z"
            }
           ]
          }
         ],
         "modeName": "bus",
         "modified": "2021-04-27T12:51:57.127Z",
         "name": "81",
         "routeSections": [],
         "serviceTypes": [
          {
           "$type": "Tfl.Api.Presentation.Entities.LineServiceTypeInfo, Tfl.Api.Presentation.Entities",
           "name": "Regular",
           "uri": "/Line/Route?ids=81&serviceTypes=Regular"
          }
         ]
        },
        {
         "$type": "Tfl.Api.Presentation.Entities.Line, Tfl.Api.Presentation.Entities",
         "created": "2021-04-27T12:51:57.11Z",
         "crowding": {
          "$type": "Tfl.Api.Presentation.Entities.Crowding, Tfl.Api.Presentation.Entities"
         },
         "disruptions": [],
         "id": "9",
         "lineStatuses": [
          {
           "$type": "Tfl.Api.Presentation.Entities.LineStatus, Tfl.Api.Presentation.Entities",
           "created": "0001-01-01T00:00:00",
           "id": 0,
           "statusSeverity": 10,
           "statusSeverityDescription": "Good Service",
           "validityPeriods": []
          }
         ],
         "modeName": "bus",
         "modified": "2021-04-27T12:51:57.11Z",
         "name": "9",
         "routeSections": [],
         "serviceTypes": [
          {
           "$type": "Tfl.Api.Presentation.Entities.LineServiceTypeInfo, Tfl.Api.Presentation.Entities",
           "name": "Regular",
           "uri": "/Line/Route?ids=9&serviceTypes=Regular"
          }
         ]
        },
        {
         "$type": "Tfl.Api.Presentation.Entities.Line, Tfl.Api.Presentation.Entities",
         "created": "2021-04-27T12:51:57.127Z",
         "crowding": {
          "$type": "Tfl.Api.Presentation.Entities.Crowding, Tfl.Api.Presentation.Entities"
         },
         "disruptions": [],
         "id": "h91",
         "lineStatuses": [
          {
           "$type": "Tfl.Api.Presentation.Entities.LineStatus, Tfl.Api.Presentation.Entities",
           "created": "0001-01-01T00:00:00",
           "disruption": {
            "$type": "Tfl.Api.Presentation.Entities.Disruption, Tfl.Api.Presentation.Entities",
            "additionalInfo": "Find out more and <a href=\"https://tfl.gov.uk/modes/buses/bus-changes?intcmp=47904#on-this-page-1\">which routes</a> are affected.",
            "affectedRoutes": [],
            "affectedStops": [],
            "category": "PlannedWork",
            "categoryDescription": "PlannedWork",
            "created": "2021-03-04T11:18:00Z",
            "description": "We are committed to helping London's schools remain open and operate safely and to help this 200 extra buses on our network continue to operate. We will also be prioritising some of our bus services for school travel from this date. Government guidance allows for all seats to be occupied on these 'school services', doubling their capacity, which is currently limited due to necessary social distancing. These 'school services' will be clearly signed and will operate on several key routes between 0730-0900 (some routes will run until 0930) and 1430-1630 on weekdays. On designated routes 'school services' will operate on an every other bus basis. We ask that schoolchildren travelling without adults use the designated 'school services' where these are provided, to help ensure space for customers on other services."
           },
           "id": 0,
           "lineId": "h91",
           "reason": "We are committed to helping London's schools remain open and operate safely and to help this 200 extra buses on our network continue to operate. We will also be prioritising some of our bus services for school travel from this date. Government guidance allows for all seats to be occupied on these 'school services', doubling their capacity, which is currently limited due to necessary social distancing. These 'school services' will be clearly signed and will operate on several key routes between 0730-0900 (some routes will run until 0930) and 1430-1630 on weekdays. On designated routes 'school services' will operate on an every other bus basis. We ask that schoolchildren travelling without adults use the designated 'school services' where these are provided, to help ensure space for customers on other services.",
           "statusSeverity": 0,
           "statusSeverityDescription": "Special Service",
           "validityPeriods": [
            {
             "$type": "Tfl.Api.Presentation.Entities.ValidityPeriod, Tfl.Api.Presentation.Entities",
             "fromDate": "2021-03-08T11:18:00Z",
             "isNow": false,
             "toDate": "2021-07-25T01:29:00Z"
            }
           ]
          }
         ],
         "modeName": "bus",
         "modified": "2021-04-27T12:51:57.127Z",
         "name": "H91",
         "routeSections": [],
         "serviceTypes": [
          {
           "$type": "Tfl.Api.Presentation.Entities.LineServiceTypeInfo, Tfl.Api.Presentation.Entities",
           "name": "Regular",
           "uri": "/Line/Route?ids=H91&serviceTypes=Regular"
          }
         ]
        },
        {
         "$type": "Tfl.Api.Presentation.Entities.Line, Tfl.Api.Presentation.Entities",
         "created": "2021-04-27T12:51:57.127Z",
         "crowding": {
          "$type": "Tfl.Api.Presentation.Entities.Crowding, Tfl.Api.Presentation.Entities"
         },
         "disruptions": [],
         "id": "n1",
         "lineStatuses": [
          {
           "$type": "Tfl.Api.Presentation.Entities.LineStatus, Tfl.Api.Presentation.Entities",
           "created": "0001-01-01T00:00:00",
           "id": 0,
           "statusSeverity": 10,
           "statusSeverityDescription": "Good Service",
           "validityPeriods": []
          }
         ],
         "modeName": "bus",
         "modified": "2021-04-27T12:51:57.127Z",
         "name": "N1",
         "routeSections": [],
         "serviceTypes": [
          {
           "$type": "Tfl.Api.Presentation.Entities.LineServiceTypeInfo, Tfl.Api.Presentation.Entities",
           "name": "Regular",
           "uri": "/Line/Route?ids=N1&serviceTypes=Regular"
          }
         ]
        },
        {
         "$type": "Tfl.Api.Presentation.Entities.Line, Tfl.Api.Presentation.Entities",
         "created": "2021-04-27T12:51:57.11Z",
         "crowding": {
          "$type": "Tfl.Api.Presentation.Entities.Crowding, Tfl.Api.Presentation.Entities"
         },
         "disruptions": [],
         "id": "n63",
         "lineStatuses": [
          {
           "$type": "Tfl.Api.Presentation.Entities.LineStatus, Tfl.Api.Presentation.Entities",
           "created": "0001-01-01T00:00:00",
           "disruption": {
            "$type": "Tfl.Api.Presentation.Entities.Disruption, Tfl.Api.Presentation.Entities",
            "affectedRoutes": [],
            "affectedStops": [],
            "category": "PlannedWork",
            "categoryDescription": "PlannedWork",
            "created": "2021-04-16T18:18:00Z",
            "description": "MELFORD ROAD, SE22: Until 17:00 on Sunday 9 May, routes 363 and N63 are on diversion via Lordship Lane and Barry Road due to gas works. Buses towards Elephant and Castle or Kings Cross will miss stops from Underhill Road/Melford Road (MB) through to to Friern Road (WB). Buses towards Crystal Palace will not serve stops from Friend Road (WP) through to Underhill Road (MC)"
           },
           "id": 0,
           "lineId": "n63",
           "reason": "MELFORD ROAD, SE22: Until 17:00 on Sunday 9 May, routes 363 and N63 are on diversion via Lordship Lane and Barry Road due to gas works. Buses towards Elephant and Castle or Kings Cross will miss stops from Underhill Road/Melford Road (MB) through to to Friern Road (WB). Buses towards Crystal Palace will not serve stops from Friend Road (WP) through to Underhill Road (MC)",
           "statusSeverity": 0,
           "statusSeverityDescription": "Special Service",
           "validityPeriods": [
            {
             "$type": "Tfl.Api.Presentation.Entities.ValidityPeriod, Tfl.Api.Presentation.Entities",
             "fromDate": "2021-04-16T18:18:00Z",
             "isNow": false,
             "toDate": "2021-05-09T17:00:00Z"
            }
           ]
          }
         ],
         "modeName": "bus",
         "modified": "2021-04-27T12:51:57.11Z",
         "name": "N63",
         "routeSections": [],
         "serviceTypes": [
          {
           "$type": "Tfl.Api.Presentation.Entities.LineServiceTypeInfo, Tfl.Api.Presentation.Entities",
           "name": "Regular",
           "uri": "/Line/Route?ids=N63&serviceTypes=Regular"
          }
         ]
        }
       ],
       "recommendedMaxAgeMinutes": 2,
       "searchCriteria": {
        "$type": "Tfl.Api.Presentation.Entities.JourneyPlanner.SearchCriteria, Tfl.Api.Presentation.Entities",
        "dateTime": "2021-04-29T23:11:00",
        "dateTimeType": "Departing",
        "timeAdjustments": {
         "$type": "Tfl.Api.Presentation.Entities.JourneyPlanner.TimeAdjustments, Tfl.Api.Presentation.Entities",
         "earlier": {
          "$type": "Tfl.Api.Presentation.Entities.JourneyPlanner.TimeAdjustment, Tfl.Api.Presentation.Entities",
          "date": "20210429",
          "time": "2314",
          "timeIs": "departing",
          "uri": "/journey/journeyresults/tw61ap/to/se14tw?journeypreference=leasttime&mode=bus&time=2314&date=20210429&timeIs=departing"
         },
         "earliest": {
          "$type": "Tfl.Api.Presentation.Entities.JourneyPlanner.TimeAdjustment, Tfl.Api.Presentation.Entities",
          "date": "20210429",
          "time": "0300",
          "timeIs": "departing",
          "uri": "/journey/journeyresults/tw61ap/to/se14tw?journeypreference=leasttime&mode=bus&time=0300&date=20210429&timeIs=departing"
         },
         "later": {
          "$type": "Tfl.Api.Presentation.Entities.JourneyPlanner.TimeAdjustment, Tfl.Api.Presentation.Entities",
          "date": "20210429",
          "time": "2329",
          "timeIs": "departing",
          "uri": "/journey/journeyresults/tw61ap/to/se14tw?journeypreference=leasttime&mode=bus&time=2329&date=20210429&timeIs=departing"
         },
         "latest": {
          "$type": "Tfl.Api.Presentation.Entities.JourneyPlanner.TimeAdjustment, Tfl.Api.Presentation.Entities",
          "date": "20210430",
          "time": "0300",
          "timeIs": "departing",
          "uri": "/journey/journeyresults/tw61ap/to/se14tw?journeypreference=leasttime&mode=bus&time=0300&date=20210430&timeIs=departing"
         }
        }
       },
       "stopMessages": []
      },
      "text/plain": [
       "<IPython.core.display.JSON object>"
      ]
     },
     "execution_count": 92,
     "metadata": {
      "application/json": {
       "expanded": false,
       "root": "root"
      }
     },
     "output_type": "execute_result"
    }
   ],
   "source": [
    "journey = requests.get('https://api.tfl.gov.uk/journey/journeyresults/TW61AP/to/SE14TW?journeyPreference=LeastTime&mode=bus')\n",
    "journey = journey.json()\n",
    "JSON(journey)"
   ]
  },
  {
   "cell_type": "code",
   "execution_count": null,
   "metadata": {},
   "outputs": [],
   "source": []
  },
  {
   "cell_type": "code",
   "execution_count": null,
   "metadata": {},
   "outputs": [],
   "source": []
  }
 ],
 "metadata": {
  "kernelspec": {
   "display_name": "Python 3",
   "language": "python",
   "name": "python3"
  },
  "language_info": {
   "codemirror_mode": {
    "name": "ipython",
    "version": 3
   },
   "file_extension": ".py",
   "mimetype": "text/x-python",
   "name": "python",
   "nbconvert_exporter": "python",
   "pygments_lexer": "ipython3",
   "version": "3.8.8"
  }
 },
 "nbformat": 4,
 "nbformat_minor": 4
}
