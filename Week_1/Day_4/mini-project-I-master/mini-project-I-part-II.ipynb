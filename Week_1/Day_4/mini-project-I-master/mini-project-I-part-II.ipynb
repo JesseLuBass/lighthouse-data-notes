{
 "cells": [
  {
   "cell_type": "markdown",
   "metadata": {},
   "source": [
    "## Movies\n",
    "In this part of mini-project, we need to have our API-KEY ready because this API won't work without it.\n",
    "\n",
    "We encourage you to look for correct endpoints in [the documentation](https://developers.themoviedb.org/3/account). We can also play around with requests there before copying them to Python."
   ]
  },
  {
   "cell_type": "code",
   "execution_count": 1,
   "metadata": {},
   "outputs": [],
   "source": [
    "import os \n",
    "from IPython.display import JSON\n",
    "import requests as re "
   ]
  },
  {
   "cell_type": "markdown",
   "metadata": {},
   "source": [
    "## Demo"
   ]
  },
  {
   "cell_type": "code",
   "execution_count": 71,
   "metadata": {},
   "outputs": [],
   "source": [
    "base = \"https://api.themoviedb.org/3\"\n",
    "url = \"/search/movie\"\n",
    "\n",
    "query = 'titanic'\n",
    "api_key = '5bea07ee7fc4d338ad663f6e4e9c881e'\n",
    "params = f'?query={query}&api_key={api_key}' "
   ]
  },
  {
   "cell_type": "code",
   "execution_count": 72,
   "metadata": {},
   "outputs": [
    {
     "name": "stdout",
     "output_type": "stream",
     "text": [
      "https://api.themoviedb.org/3/search/movie?query=titanic&api_key=5bea07ee7fc4d338ad663f6e4e9c881e\n"
     ]
    }
   ],
   "source": [
    "#res = re.get(base+url+params)\n",
    "print(base+url+params)"
   ]
  },
  {
   "cell_type": "code",
   "execution_count": 52,
   "metadata": {},
   "outputs": [
    {
     "data": {
      "text/plain": [
       "200"
      ]
     },
     "execution_count": 52,
     "metadata": {},
     "output_type": "execute_result"
    }
   ],
   "source": [
    "res.status_code"
   ]
  },
  {
   "cell_type": "code",
   "execution_count": 25,
   "metadata": {},
   "outputs": [
    {
     "data": {
      "application/json": {
       "page": 1,
       "results": [
        {
         "adult": false,
         "backdrop_path": "/6VmFqApQRyZZzmiGOQq2C92jyvH.jpg",
         "genre_ids": [
          18,
          10749
         ],
         "id": 597,
         "original_language": "en",
         "original_title": "Titanic",
         "overview": "101-year-old Rose DeWitt Bukater tells the story of her life aboard the Titanic, 84 years later. A young Rose boards the ship with her mother and fiancé. Meanwhile, Jack Dawson and Fabrizio De Rossi win third-class tickets aboard the ship. Rose tells the whole story from Titanic's departure through to its death—on its first and last voyage—on April 15, 1912.",
         "popularity": 69.896,
         "poster_path": "/9xjZS2rlVxm8SFx8kPC3aIGCOYQ.jpg",
         "release_date": "1997-11-18",
         "title": "Titanic",
         "video": false,
         "vote_average": 7.9,
         "vote_count": 19082
        },
        {
         "adult": false,
         "backdrop_path": "/e9XRikkyth0GtG8RkU3XNm0oMsA.jpg",
         "genre_ids": [
          28,
          12,
          53
         ],
         "id": 44918,
         "original_language": "en",
         "original_title": "Titanic II",
         "overview": "On the 100th anniversary of the original voyage, a modern luxury liner christened \"Titanic 2,\" follows the path of its namesake. But when a tsunami hurls an ice berg into the new ship's path, the passengers and crew must fight to avoid a similar fate.",
         "popularity": 27.809,
         "poster_path": "/3bhv6sf3Q8D3tbUvtPCCh3vdYyA.jpg",
         "release_date": "2010-08-07",
         "title": "Titanic II",
         "video": false,
         "vote_average": 4.7,
         "vote_count": 224
        },
        {
         "adult": false,
         "backdrop_path": "/3oShsRvAyZiQQ5lP2hszWN9Ri0b.jpg",
         "genre_ids": [
          28,
          18,
          10749
         ],
         "id": 16535,
         "original_language": "en",
         "original_title": "Titanic",
         "overview": "Unhappily married, Julia Sturges decides to go to America with her two children on the unsinkable Titanic. Her husband, Richard also arranges passage on the luxury liner so as to have custody of their two children. All this fades to insignificance once the ship hits an iceberg.",
         "popularity": 14.166,
         "poster_path": "/22Fh4UoxP6ejL2IFws76TJ8oYlj.jpg",
         "release_date": "1953-04-11",
         "title": "Titanic",
         "video": false,
         "vote_average": 6.4,
         "vote_count": 74
        },
        {
         "adult": false,
         "backdrop_path": "/82tRA7Vdf7TwdyJYILUh6FuY88L.jpg",
         "genre_ids": [
          99
         ],
         "id": 198901,
         "original_language": "en",
         "original_title": "Titanic: 100 Years On",
         "overview": "The \"unsinkable\" floating palace set sail from Southampton on 10th April 1912 on her maiden voyage to New York. An iceberg ended this monumental journey 5 days later. Only 705 of the passengers and crew survived. This program features an exclusive look at the Sea City Museum Titanic Exhibit in Southampton, interviews from both survivors and the cast of the blockbuster film.",
         "popularity": 22.482,
         "poster_path": "/uAaXfaJpKjmsA3F1KgowcRJPKPM.jpg",
         "release_date": "2012-06-01",
         "title": "Titanic: 100 Years On",
         "video": false,
         "vote_average": 6.8,
         "vote_count": 16
        },
        {
         "adult": false,
         "backdrop_path": "/xSssW53a2s2euCdyI4aEpzyZfb1.jpg",
         "genre_ids": [
          878,
          28,
          12,
          35
         ],
         "id": 467839,
         "original_language": "en",
         "original_title": "Aliens vs. Titanic",
         "overview": "Offering only the finest amenities, the ‘TITAN 1C’ space-cruiser is considered the most luxurious star-liner ever built. Future spring-breakers on board are excited to be touring through space with some of the world’s elite. However, a sudden meteor storm smashes into the hull, and a deadly biological alien life form is let loose on the ship.  Seeking a suitable host, the retrovirus successfully merges with some the passengers, transforming them into seemingly invincible predators with the “touch of death”. As the ship is destroyed, the surviving passengers crash on a remote planet, and they learn that one of them is “infected”. They must quickly band together before it has a chance to slaughter them all.",
         "popularity": 10.951,
         "poster_path": "/blREOd05hyvbiA3Qc6BqCJ7unvC.jpg",
         "release_date": "2017-09-18",
         "title": "Aliens vs. Titanic",
         "video": false,
         "vote_average": 5.1,
         "vote_count": 10
        },
        {
         "adult": false,
         "backdrop_path": null,
         "genre_ids": [
          10770,
          99
         ],
         "id": 463397,
         "original_language": "en",
         "original_title": "Nazi Titanic",
         "overview": "During a bizarre chapter of WWII, Nazi propaganda minister Joseph Goebbels decided to make a movie based on the sinking of the Titanic. This epic film was so large in scale that the Nazis were forced to divert men, material and ships from the war effort in order to complete it. Titanic was filmed aboard cruise ship SS Cap Arcona in the Baltic Sea. The movie’s director Herbert Selpin was arrested by the Gestapo over comments he made about the ship’s crew and he was questioned by Goebbels. Selpin was found dead the next day in his cell. The Gestapo’s verdict was suicide. Titanic never received the impressive premiere that Goebbels intended, being first shown in Nazi-occupied Paris in 1943. We reveal this little known but fascinating story by looking at the making of the film, as well as the fate of the German ship Cap Arcona.",
         "popularity": 6.946,
         "poster_path": "/pmCnVAP0dQumyDMgCnzEgnpMt1g.jpg",
         "release_date": "2012-04-14",
         "title": "Nazi Titanic",
         "video": false,
         "vote_average": 7,
         "vote_count": 3
        },
        {
         "adult": false,
         "backdrop_path": null,
         "genre_ids": [
          35,
          27
         ],
         "id": 4240,
         "original_language": "en",
         "original_title": "Titanic 2000",
         "overview": "The luxury liner Titanic 2000 has set sail on its maiden voyage, and one of the passengers is the vampire Vladamina. Vladamina is searching for a woman she can turn into a vampire queen, and frustrated rock groupie Shari looks to be a perfect target. As various people get seduced and/or killed as the liner continues on its doomed voyage, Shari must chose between eternity as a living dead sex slave or a frigid grave at the bottom of the ocean.",
         "popularity": 6.474,
         "poster_path": "/w8KzGphSGIDcUhHmdRbqxYXI8ke.jpg",
         "release_date": "1999-01-01",
         "title": "Titanic 2000",
         "video": false,
         "vote_average": 3.4,
         "vote_count": 8
        },
        {
         "adult": false,
         "backdrop_path": null,
         "genre_ids": [
          99
         ],
         "id": 421657,
         "original_language": "en",
         "original_title": "Inside the Titanic",
         "overview": "An ambitious factual drama that reveals moment by moment exactly how the Titanic sank, telling the untold stories of the engineers and stokers who battled the icy water.",
         "popularity": 7.959,
         "poster_path": "/jDHeorRWLuzyXSUGVX47OSdWvVM.jpg",
         "release_date": "2012-03-22",
         "title": "Inside the Titanic",
         "video": false,
         "vote_average": 7.5,
         "vote_count": 2
        },
        {
         "adult": false,
         "backdrop_path": "/q3b8Vi2W6j72aXKggiVoDnEyDgU.jpg",
         "genre_ids": [
          12
         ],
         "id": 24575,
         "original_language": "en",
         "original_title": "Raise the Titanic",
         "overview": "To obtain a supply of a rare mineral, a ship raising operation is conducted for the only known source, the Titanic.",
         "popularity": 7.327,
         "poster_path": "/beYNLj44FOdV47tomXuJyPkvCKl.jpg",
         "release_date": "1980-08-01",
         "title": "Raise the Titanic",
         "video": false,
         "vote_average": 5.6,
         "vote_count": 53
        },
        {
         "adult": false,
         "backdrop_path": "/mEoU71g0SjTDEiMTyRj1bV2EfIp.jpg",
         "genre_ids": [
          99
         ],
         "id": 213362,
         "original_language": "en",
         "original_title": "Reflections on Titanic",
         "overview": "An enthralling and fast-paced four-part documentary feature that covers the making of one of the last major Hollywood epics; Titanic. Cast and crew speak on setting the sinking of the ship against a classic romance. The feature also examines casting and the young couple headlining the film, DiCaprio's and Winslet's on-set friendship and their differing acting styles, the expansive sets and filming locations, the authenticity of the recreated ship, James Cameron's work and dedication, and budgeting. And many more aspects of the film are overviewed.",
         "popularity": 9.528,
         "poster_path": "/54Cp80F0KtRyLjVR10LgrmhWJma.jpg",
         "release_date": "2012-09-10",
         "title": "Reflections on Titanic",
         "video": false,
         "vote_average": 7.3,
         "vote_count": 18
        },
        {
         "adult": false,
         "backdrop_path": "/edHgXEtPbyVIQ7xKb1cvJJqTVhA.jpg",
         "genre_ids": [
          28,
          18,
          36
         ],
         "id": 11021,
         "original_language": "de",
         "original_title": "Titanic",
         "overview": "This little-known German film retells the true story of the British ocean liner that met a tragic fate. Ernst Fritz Fürbringer plays the president of the White Star Line, who unwisely pressed the Titanic's captain (Otto Wernicke) to make the swiftest possible crossing to New York. Interestingly, director Herbert Selpin was arrested by the Gestapo during this film's production, and German censors banned the film for its scenes of panic and terror.",
         "popularity": 3.6,
         "poster_path": "/Al7oIXQ4dZAofBTZWm6OiXS3MEa.jpg",
         "release_date": "1943-11-10",
         "title": "Titanic",
         "video": false,
         "vote_average": 6.1,
         "vote_count": 39
        },
        {
         "adult": false,
         "backdrop_path": "/sdtfwZulErbQ7y9RVbaOuWVouD6.jpg",
         "genre_ids": [
          36,
          18,
          53,
          10770
         ],
         "id": 86938,
         "original_language": "en",
         "original_title": "S.O.S. Titanic",
         "overview": "The Titanic disaster is depicted as seen through the eyes of one couple in each of the three classes on board.",
         "popularity": 3.769,
         "poster_path": "/7OWrNGGHfLzul6Cd3z3z3kYAdHv.jpg",
         "release_date": "1979-09-23",
         "title": "S.O.S. Titanic",
         "video": false,
         "vote_average": 6.4,
         "vote_count": 23
        },
        {
         "adult": false,
         "backdrop_path": "/yFD05fZjJKgZ4t7LGJB2ILPdZ2X.jpg",
         "genre_ids": [
          36
         ],
         "id": 287347,
         "original_language": "en",
         "original_title": "Titanic: The Aftermath",
         "overview": "Explores what happened after the Titanic sank: the lives the disaster affected and the changes it brought to sea travel.",
         "popularity": 5.379,
         "poster_path": "/3LqoUNnbHAolDXI2pLPEXko9wFt.jpg",
         "release_date": "2012-04-01",
         "title": "Titanic: The Aftermath",
         "video": false,
         "vote_average": 0,
         "vote_count": 0
        },
        {
         "adult": false,
         "backdrop_path": "/4Sddw1BFQFHOIQZ3DY7QS0mGnVe.jpg",
         "genre_ids": [
          16,
          10751
         ],
         "id": 71235,
         "original_language": "it",
         "original_title": "Titanic: La leggenda continua",
         "overview": "An animated retelling of the worst passenger ship disaster in history. In this version, love blossoms between the upper-class Sir William and the blue-collar Angelica, who is hoping to find romance in America. At the same time, there are also a number of animal passengers, including talking dogs, cats and mice, who are also looking forward to arriving in the New World.",
         "popularity": 4.683,
         "poster_path": "/s1PHRSlos2hIFrtA8Ze0JybJTGb.jpg",
         "release_date": "2000-09-15",
         "title": "Titanic: The Legend Goes On...",
         "video": false,
         "vote_average": 2.2,
         "vote_count": 43
        },
        {
         "adult": false,
         "backdrop_path": "/v6kUC2dsDwSfhwCWdAgldXB7Knu.jpg",
         "genre_ids": [
          99,
          18,
          10770
         ],
         "id": 102370,
         "original_language": "en",
         "original_title": "Saving the Titanic",
         "overview": "In the hours after the Titanic struck an iceberg 100 years ago, a team of shipbuilders and engineers raced against time to save the stricken vessel.  Based on eye-witness accounts, this film reveals what went on below decks in the hours before the Titanic sank, telling the previously relatively unheralded stories of engineers who fought courageously to hold back the power of the sea and keep the power systems running, even when they learned that all was lost.  Most of these men died but their actions bought enough time to save many lives.  This drama-documentary tells a poignant story of self-sacrifice by the Titanic's engineers, stokers and firemen in the face of impending death.",
         "popularity": 4.13,
         "poster_path": "/gei8kg0KouyPJKUmxDwTNSnBUTV.jpg",
         "release_date": "2012-04-15",
         "title": "Saving the Titanic",
         "video": false,
         "vote_average": 7.3,
         "vote_count": 6
        },
        {
         "adult": false,
         "backdrop_path": "/dxdN3RxJRVYzFxVSR0fNhSBqBSL.jpg",
         "genre_ids": [
          99
         ],
         "id": 682666,
         "original_language": "en",
         "original_title": "Back To The Titanic",
         "overview": "Back to the Titanic documents the first manned dives to Titanic in nearly 15 years. New footage reveals fresh decay and sheds light on the ship’s future.",
         "popularity": 5.006,
         "poster_path": "/wqa5qTTX547R9RIsiLbvQww1wkL.jpg",
         "release_date": "2020-02-23",
         "title": "Back To The Titanic",
         "video": false,
         "vote_average": 9,
         "vote_count": 3
        },
        {
         "adult": false,
         "backdrop_path": null,
         "genre_ids": [
          18
         ],
         "id": 83036,
         "original_language": "en",
         "original_title": "Titanic Town",
         "overview": "Belfast 1972: The politically naive Bernie is trying to bring up a normal family in less than normal surroundings. Her best friend is accidentally shot dead by the IRA, and her neighbours are constantly raided by the army. In this climate of fear she stands up and condemns the murders. Criticising both factions, her call for a ceasefire is interpreted as an attack against the IRA, and as her peace movement takes momentum, she and her family are placed in the frontline.",
         "popularity": 4.019,
         "poster_path": "/8gl2aeimAngsRHqZQwUKyp93Bdx.jpg",
         "release_date": "1998-08-08",
         "title": "Titanic Town",
         "video": false,
         "vote_average": 1,
         "vote_count": 1
        },
        {
         "adult": false,
         "backdrop_path": "/hDfaa3Nj3K3SkXBr8eALYfPT5pF.jpg",
         "genre_ids": [
          99
         ],
         "id": 428950,
         "original_language": "en",
         "original_title": "Drain the Titanic",
         "overview": "Computer-generated imagery and other visualization techniques reveal how it would look if all the water was removed from RMS Titanic's final resting place.",
         "popularity": 3.562,
         "poster_path": "/68Fppsnpc3OmQK8kIustffrxHbq.jpg",
         "release_date": "2016-05-05",
         "title": "Drain the Titanic",
         "video": false,
         "vote_average": 7.6,
         "vote_count": 7
        },
        {
         "adult": false,
         "backdrop_path": null,
         "genre_ids": [],
         "id": 760524,
         "original_language": "en",
         "original_title": "Titanic",
         "overview": "\"Titanic\" is a Punjabi feature film. It is family movie. \"Titanic\" is based on a young boy's life whose dreams are so high. He wants to join Indian Navy. Unfortunately his life completely changed due to week financial conditions at home. He starts his work at low level driving of Autoriksha. He works so hard and he faces many obstacles in this work. At the end he accepted that his vehicle is submarine for him.",
         "popularity": 2.627,
         "poster_path": null,
         "release_date": "2018-12-21",
         "title": "Titanic",
         "video": false,
         "vote_average": 0,
         "vote_count": 0
        },
        {
         "adult": false,
         "backdrop_path": "/8k0pR1v9WcVviJ7NdfiKh8FqlJt.jpg",
         "genre_ids": [],
         "id": 136331,
         "original_language": "en",
         "original_title": "Titanic: 100 Years in 3D",
         "overview": "100 years after an iceberg defeated the 882-foot luxury liner on its maiden voyage, scientists and historians are still exploring the Titanic. Armed with modern camera technology, submersibles were sent down to the ship's final resting place with the hope of capturing HD 3D visuals of the wreckage, in order to support or even confirm theories about the damage that took the boat down. Now, History Channel has brought some of that footage home in this 45-minute TV special, presented in 3D so that future generations can see it for themselves.",
         "popularity": 5.355,
         "poster_path": "/ciWUbeu5GdMFY0phRUjLms8ar0K.jpg",
         "release_date": "2012-09-10",
         "title": "Titanic: 100 Years in 3D",
         "video": false,
         "vote_average": 6.3,
         "vote_count": 5
        }
       ],
       "total_pages": 7,
       "total_results": 133
      },
      "text/plain": [
       "<IPython.core.display.JSON object>"
      ]
     },
     "execution_count": 25,
     "metadata": {
      "application/json": {
       "expanded": false,
       "root": "root"
      }
     },
     "output_type": "execute_result"
    }
   ],
   "source": [
    "JSON(res.json())"
   ]
  },
  {
   "cell_type": "code",
   "execution_count": 84,
   "metadata": {},
   "outputs": [],
   "source": [
    "def search_movie(movie_id):\n",
    "    base = \"https://api.themoviedb.org/3\"\n",
    "    url = \"/movie/\"\n",
    "\n",
    "    query = movie_id\n",
    "    api_key = '5bea07ee7fc4d338ad663f6e4e9c881e'\n",
    "    params = f'{query}?api_key={api_key}'\n",
    "    \n",
    "    res = re.get(base+url+params)\n",
    "    res = res.json()\n",
    "    return res\n",
    "\n",
    "    #return base+url+params"
   ]
  },
  {
   "cell_type": "code",
   "execution_count": null,
   "metadata": {},
   "outputs": [],
   "source": [
    "search_movie('157336')"
   ]
  },
  {
   "cell_type": "code",
   "execution_count": 103,
   "metadata": {},
   "outputs": [
    {
     "data": {
      "application/json": {
       "page": 1,
       "results": [
        {
         "adult": false,
         "gender": 2,
         "id": 287,
         "known_for": [
          {
           "adult": false,
           "backdrop_path": "/rr7E0NoGKxvbkb89eR1GwfoYjpA.jpg",
           "genre_ids": [
            18
           ],
           "id": 550,
           "media_type": "movie",
           "original_language": "en",
           "original_title": "Fight Club",
           "overview": "A ticking-time-bomb insomniac and a slippery soap salesman channel primal male aggression into a shocking new form of therapy. Their concept catches on, with underground \"fight clubs\" forming in every town, until an eccentric gets in the way and ignites an out-of-control spiral toward oblivion.",
           "poster_path": "/pB8BM7pdSp6B6Ih7QZ4DrQ3PmJK.jpg",
           "release_date": "1999-10-15",
           "title": "Fight Club",
           "video": false,
           "vote_average": 8.4,
           "vote_count": 21606
          },
          {
           "adult": false,
           "backdrop_path": "/bPnPsyo09tLRnTOb7AlsBsgnbhP.jpg",
           "genre_ids": [
            18,
            28,
            53,
            10752
           ],
           "id": 16869,
           "media_type": "movie",
           "original_language": "en",
           "original_title": "Inglourious Basterds",
           "overview": "In Nazi-occupied France during World War II, a group of Jewish-American soldiers known as \"The Basterds\" are chosen specifically to spread fear throughout the Third Reich by scalping and brutally killing Nazis. The Basterds, lead by Lt. Aldo Raine soon cross paths with a French-Jewish teenage girl who runs a movie theater in Paris which is targeted by the soldiers.",
           "poster_path": "/7sfbEnaARXDDhKm0CZ7D7uc2sbo.jpg",
           "release_date": "2009-08-18",
           "title": "Inglourious Basterds",
           "video": false,
           "vote_average": 8.2,
           "vote_count": 16741
          },
          {
           "adult": false,
           "backdrop_path": "/4U4q1zjIwCZTNkp6RKWkWPuC7uI.jpg",
           "genre_ids": [
            80,
            9648,
            53
           ],
           "id": 807,
           "media_type": "movie",
           "original_language": "en",
           "original_title": "Se7en",
           "overview": "Two homicide detectives are on a desperate hunt for a serial killer whose crimes are based on the \"seven deadly sins\" in this dark and haunting film that takes viewers from the tortured remains of one victim to the next. The seasoned Det. Sommerset researches each sin in an effort to get inside the killer's mind, while his novice partner, Mills, scoffs at his efforts to unravel the case.",
           "poster_path": "/69Sns8WoET6CfaYlIkHbla4l7nC.jpg",
           "release_date": "1995-09-22",
           "title": "Se7en",
           "video": false,
           "vote_average": 8.3,
           "vote_count": 15048
          }
         ],
         "known_for_department": "Acting",
         "name": "Brad Pitt",
         "popularity": 17.521,
         "profile_path": "/oTB9vGIBacH5aQNS0pUM74QSWuf.jpg"
        },
        {
         "adult": false,
         "gender": 2,
         "id": 2765075,
         "known_for": [
          {
           "adult": false,
           "backdrop_path": "/40Y3VwGGNJ43PkDenjHEo7pbDo4.jpg",
           "genre_ids": [
            27
           ],
           "id": 739345,
           "media_type": "movie",
           "original_language": "en",
           "original_title": "Halloween Homecoming",
           "overview": "A group of teenagers, led by Wesley Castle, throw a party in the house where Michael Myers murdered his sister many years ago.",
           "poster_path": "/tSzw1SAb6rg9FhZtleVeuZiKLS4.jpg",
           "release_date": "2019-10-05",
           "title": "Halloween Homecoming",
           "video": false,
           "vote_average": 0,
           "vote_count": 0
          }
         ],
         "known_for_department": "Acting",
         "name": "James McGarvey",
         "popularity": 0.6,
         "profile_path": null
        }
       ],
       "total_pages": 1,
       "total_results": 2
      },
      "text/plain": [
       "<IPython.core.display.JSON object>"
      ]
     },
     "execution_count": 103,
     "metadata": {
      "application/json": {
       "expanded": false,
       "root": "root"
      }
     },
     "output_type": "execute_result"
    }
   ],
   "source": [
    "irl = requests.get('https://api.themoviedb.org/3/search/person?query=Brad%20Pitt&api_key=5bea07ee7fc4d338ad663f6e4e9c881e&language=en-US&page=1&include_adult=false')\n",
    "JSON(irl.json())"
   ]
  },
  {
   "cell_type": "markdown",
   "metadata": {},
   "source": [
    "## Task\n",
    "Search for you favorite movie and return the information about the movie:\n",
    "- name\n",
    "- release date\n",
    "- runtime\n",
    "- revenue\n",
    "- length of the overview\n",
    "- number of votes\n",
    "- voting average"
   ]
  },
  {
   "cell_type": "code",
   "execution_count": 94,
   "metadata": {},
   "outputs": [
    {
     "name": "stdout",
     "output_type": "stream",
     "text": [
      "Name of the movie: Interstellar \n",
      "Release date: 2014-11-05\n",
      "Runtime: 169\n",
      "Overview: The adventures of a group of explorers who make use of a newly discovered wormhole to surpass the limitations on human space travel and conquer the vast distances involved in an interstellar voyage.\n",
      "Number of votes: 25636\n",
      "Voting average: 8.3\n"
     ]
    }
   ],
   "source": [
    "name = search_movie('157336')['original_title']\n",
    "release_date = search_movie('157336')['release_date']\n",
    "runtime = search_movie('157336')['runtime']\n",
    "revenue =search_movie('157336')['revenue']\n",
    "overview=search_movie('157336')['overview']\n",
    "vote_count =search_movie('157336')['vote_count']\n",
    "vote_average = search_movie('157336')['vote_average']\n",
    "print(\n",
    "f'Name of the movie: {name} \\nRelease date: {release_date}\\nRuntime: {runtime}\\nOverview: {overview}\\nNumber of votes: {vote_count}\\nVoting average: {vote_average}'\n",
    ")"
   ]
  },
  {
   "cell_type": "code",
   "execution_count": null,
   "metadata": {},
   "outputs": [],
   "source": []
  },
  {
   "cell_type": "code",
   "execution_count": null,
   "metadata": {},
   "outputs": [],
   "source": []
  },
  {
   "cell_type": "code",
   "execution_count": null,
   "metadata": {},
   "outputs": [],
   "source": []
  },
  {
   "cell_type": "markdown",
   "metadata": {},
   "source": [
    "## Task\n",
    "Search for you favorite actor/actress and return the information about him/her:\n",
    "- name\n",
    "- date of birth\n",
    "- place of birth\n",
    "- length of the biography"
   ]
  },
  {
   "cell_type": "code",
   "execution_count": 6,
   "metadata": {},
   "outputs": [],
   "source": [
    "def search_actor(name):\n",
    "    base = \"https://api.themoviedb.org/3\"\n",
    "    url = \"/search/person\"\n",
    "\n",
    "    query = name\n",
    "    api_key = '5bea07ee7fc4d338ad663f6e4e9c881e'\n",
    "    params = f'?query={query}&api_key={api_key}' \n",
    "    res = re.get(base+url+params)\n",
    "    res = res.json()\n",
    "    return res['results'][0]['id']\n",
    "\n"
   ]
  },
  {
   "cell_type": "code",
   "execution_count": 15,
   "metadata": {},
   "outputs": [],
   "source": [
    "def find_info(person_id):\n",
    "    base = \"https://api.themoviedb.org/3\"\n",
    "    url = \"/person/\"\n",
    "    query = person_id\n",
    "    api_key = '5bea07ee7fc4d338ad663f6e4e9c881e'\n",
    "    params = f'{query}?api_key={api_key}'\n",
    "    \n",
    "    res = re.get(base+url+params)\n",
    "    #return base+url+params\n",
    "    res = res.json()\n",
    "    return res"
   ]
  },
  {
   "cell_type": "code",
   "execution_count": 8,
   "metadata": {},
   "outputs": [
    {
     "data": {
      "text/plain": [
       "287"
      ]
     },
     "execution_count": 8,
     "metadata": {},
     "output_type": "execute_result"
    }
   ],
   "source": [
    "actor_id = search_actor('brad pitt')\n",
    "actor_id\n",
    "#find_info(actor_id)"
   ]
  },
  {
   "cell_type": "code",
   "execution_count": 16,
   "metadata": {},
   "outputs": [
    {
     "data": {
      "text/plain": [
       "{'adult': False,\n",
       " 'also_known_as': ['برد پیت',\n",
       "  'Бред Пітт',\n",
       "  'Брэд Питт',\n",
       "  '畢·彼特',\n",
       "  'ブラッド・ピット',\n",
       "  '브래드 피트',\n",
       "  'براد بيت',\n",
       "  'แบรด พิตต์',\n",
       "  'William Bradley \"Brad\" Pitt',\n",
       "  'William Bradley Pitt',\n",
       "  'Μπραντ Πιτ',\n",
       "  '布拉德·皮特',\n",
       "  'Breds Pits',\n",
       "  'ബ്രാഡ് പിറ്റ് '],\n",
       " 'biography': \"William Bradley Pitt is an American actor and film producer. He has received multiple awards, including two Golden Globe Awards and an Academy Award for his acting, in addition to another Academy Award and a Primetime Emmy Award as producer under his production company, Plan B Entertainment. Pitt first gained recognition as a cowboy hitchhiker in the road movie Thelma & Louise (1991). His first leading roles in big-budget productions came with the drama films A River Runs Through It (1992) and Legends of the Fall (1994), and the horror film Interview with the Vampire (1994). He gave critically acclaimed performances in the crime thriller Seven (1995) and the science fiction film 12 Monkeys (1995), the latter earning him a Golden Globe Award for Best Supporting Actor and an Academy Award nomination. Pitt starred in Fight Club (1999) and the heist film Ocean's Eleven (2001), as well as its sequels, Ocean's Twelve (2004) and Ocean's Thirteen (2007). His greatest commercial successes have been Ocean's Eleven (2001), Troy (2004), Mr. & Mrs. Smith (2005), World War Z (2013), and Once Upon a Time in Hollywood (2019), for which he won a second Golden Globe Award and the Academy Award for Best Supporting Actor. Pitt's other Academy Award nominated performances were in The Curious Case of Benjamin Button (2008) and Moneyball (2011). He produced The Departed (2006) and 12 Years a Slave (2013), both of which won the Academy Award for Best Picture, and also The Tree of Life (2011), Moneyball (2011), and The Big Short (2015), all of which were nominated for Best Picture. As a public figure, Pitt has been cited as one of the most influential and powerful people in the American entertainment industry. For a number of years, he was cited as the world's most attractive man by various media outlets, and his personal life is the subject of wide publicity. From 2000 to 2005, he was married to the actress Jennifer Aniston, and from 2014 to 2019, he was married to the actress Angelina Jolie. Pitt and Jolie have six children together, three of whom were adopted internationally.\",\n",
       " 'birthday': '1963-12-18',\n",
       " 'deathday': None,\n",
       " 'gender': 2,\n",
       " 'homepage': None,\n",
       " 'id': 287,\n",
       " 'imdb_id': 'nm0000093',\n",
       " 'known_for_department': 'Acting',\n",
       " 'name': 'Brad Pitt',\n",
       " 'place_of_birth': 'Shawnee, Oklahoma, USA',\n",
       " 'popularity': 17.521,\n",
       " 'profile_path': '/oTB9vGIBacH5aQNS0pUM74QSWuf.jpg'}"
      ]
     },
     "execution_count": 16,
     "metadata": {},
     "output_type": "execute_result"
    }
   ],
   "source": [
    "find_info(287)"
   ]
  },
  {
   "cell_type": "markdown",
   "metadata": {},
   "source": [
    "## Task\n",
    "Search for you favorite tv-show and return the information about it:\n",
    "- name\n",
    "- first air date\n",
    "- number of seasons\n",
    "- number of episodes\n",
    "- genres"
   ]
  },
  {
   "cell_type": "code",
   "execution_count": null,
   "metadata": {},
   "outputs": [],
   "source": []
  },
  {
   "cell_type": "code",
   "execution_count": null,
   "metadata": {},
   "outputs": [],
   "source": []
  },
  {
   "cell_type": "code",
   "execution_count": null,
   "metadata": {},
   "outputs": [],
   "source": []
  },
  {
   "cell_type": "markdown",
   "metadata": {},
   "source": [
    "## Task \n",
    "Find top 5 trending:\n",
    "- movies\n",
    "- tv-shows\n",
    "- people"
   ]
  },
  {
   "cell_type": "code",
   "execution_count": null,
   "metadata": {},
   "outputs": [],
   "source": []
  },
  {
   "cell_type": "code",
   "execution_count": null,
   "metadata": {},
   "outputs": [],
   "source": []
  }
 ],
 "metadata": {
  "kernelspec": {
   "display_name": "Python 3",
   "language": "python",
   "name": "python3"
  },
  "language_info": {
   "codemirror_mode": {
    "name": "ipython",
    "version": 3
   },
   "file_extension": ".py",
   "mimetype": "text/x-python",
   "name": "python",
   "nbconvert_exporter": "python",
   "pygments_lexer": "ipython3",
   "version": "3.8.8"
  }
 },
 "nbformat": 4,
 "nbformat_minor": 4
}
