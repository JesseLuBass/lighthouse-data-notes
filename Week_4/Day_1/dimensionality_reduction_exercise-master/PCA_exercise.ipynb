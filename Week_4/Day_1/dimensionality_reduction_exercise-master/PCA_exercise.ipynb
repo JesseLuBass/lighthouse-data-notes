{
 "cells": [
  {
   "cell_type": "markdown",
   "metadata": {},
   "source": [
    "## Dimensionality reduction\n",
    "\n",
    "We will test some of the dimensionality reduction techniques on the [UFO dataset](https://drive.google.com/file/d/0B2gZvn36c5CmRTJpS3pkUllmX1U/view?usp=sharing) from the last week."
   ]
  },
  {
   "cell_type": "markdown",
   "metadata": {},
   "source": [
    "\n",
    "\n",
    "\n",
    "### PCA\n",
    "\n",
    "Subset all **weather related** features from the data and run PCA over it. \n",
    "\n",
    "\n",
    "1. Extract the 2 best principal components (k=2). \n",
    "1. Plot the **feature** space into the new space. \n",
    "    - We should create a scatter plot with 1st component on the axis x and second component on y. \n",
    "    - The length of each component is equal to number of columns (features) we have in our data before PCA.\n",
    "    - Points in the graph that are close to each other are similar features. We need to anotate the points with feature names.\n",
    "1. Observe which features have similar meaning and which have opposite.\n",
    "    - Features close to each other have similar meaning.\n",
    "1. Select the optimal number of dimensions to keep - *k* (find the explained variance of each component and use the elbow rule)\n",
    "1. Create a projection of your data into the *k* axes of the trained PCA\n",
    "1. Export the data with the new features. Number of rows should be the same as in the original dataset."
   ]
  },
  {
   "cell_type": "code",
   "execution_count": 1,
   "metadata": {},
   "outputs": [],
   "source": [
    "import pandas as pd "
   ]
  },
  {
   "cell_type": "code",
   "execution_count": 2,
   "metadata": {},
   "outputs": [
    {
     "name": "stderr",
     "output_type": "stream",
     "text": [
      "C:\\Users\\jesse\\anaconda3\\lib\\site-packages\\IPython\\core\\interactiveshell.py:3165: DtypeWarning: Columns (20,23,26,38) have mixed types.Specify dtype option on import or set low_memory=False.\n",
      "  has_raised = await self.run_ast_nodes(code_ast.body, cell_name,\n"
     ]
    }
   ],
   "source": [
    "df = pd.read_csv('UFO_data.csv', delimiter=';')"
   ]
  },
  {
   "cell_type": "code",
   "execution_count": 3,
   "metadata": {},
   "outputs": [],
   "source": [
    "ufo = df.iloc[:, :36]"
   ]
  },
  {
   "cell_type": "code",
   "execution_count": 4,
   "metadata": {},
   "outputs": [],
   "source": [
    "ufo1=ufo[['apparentTemperature','cloudCover','dewPoint','humidity','pressure','temperature','visibility','windBearing','windSpeed']]"
   ]
  },
  {
   "cell_type": "code",
   "execution_count": 5,
   "metadata": {},
   "outputs": [],
   "source": [
    "ufo2=ufo1.dropna()"
   ]
  },
  {
   "cell_type": "code",
   "execution_count": 6,
   "metadata": {},
   "outputs": [
    {
     "data": {
      "text/html": [
       "<div>\n",
       "<style scoped>\n",
       "    .dataframe tbody tr th:only-of-type {\n",
       "        vertical-align: middle;\n",
       "    }\n",
       "\n",
       "    .dataframe tbody tr th {\n",
       "        vertical-align: top;\n",
       "    }\n",
       "\n",
       "    .dataframe thead th {\n",
       "        text-align: right;\n",
       "    }\n",
       "</style>\n",
       "<table border=\"1\" class=\"dataframe\">\n",
       "  <thead>\n",
       "    <tr style=\"text-align: right;\">\n",
       "      <th></th>\n",
       "      <th>apparentTemperature</th>\n",
       "      <th>cloudCover</th>\n",
       "      <th>dewPoint</th>\n",
       "      <th>humidity</th>\n",
       "      <th>pressure</th>\n",
       "      <th>temperature</th>\n",
       "      <th>visibility</th>\n",
       "      <th>windBearing</th>\n",
       "      <th>windSpeed</th>\n",
       "    </tr>\n",
       "  </thead>\n",
       "  <tbody>\n",
       "    <tr>\n",
       "      <th>0</th>\n",
       "      <td>25.86</td>\n",
       "      <td>0.00</td>\n",
       "      <td>20.56</td>\n",
       "      <td>0.73</td>\n",
       "      <td>1009.05</td>\n",
       "      <td>25.86</td>\n",
       "      <td>16.09</td>\n",
       "      <td>154.0</td>\n",
       "      <td>4.89</td>\n",
       "    </tr>\n",
       "    <tr>\n",
       "      <th>1</th>\n",
       "      <td>26.12</td>\n",
       "      <td>0.00</td>\n",
       "      <td>21.72</td>\n",
       "      <td>0.77</td>\n",
       "      <td>1008.81</td>\n",
       "      <td>26.12</td>\n",
       "      <td>16.09</td>\n",
       "      <td>135.0</td>\n",
       "      <td>6.60</td>\n",
       "    </tr>\n",
       "    <tr>\n",
       "      <th>3</th>\n",
       "      <td>22.68</td>\n",
       "      <td>0.12</td>\n",
       "      <td>17.04</td>\n",
       "      <td>0.71</td>\n",
       "      <td>1020.64</td>\n",
       "      <td>22.68</td>\n",
       "      <td>16.09</td>\n",
       "      <td>136.0</td>\n",
       "      <td>2.75</td>\n",
       "    </tr>\n",
       "    <tr>\n",
       "      <th>4</th>\n",
       "      <td>25.74</td>\n",
       "      <td>0.63</td>\n",
       "      <td>21.47</td>\n",
       "      <td>0.77</td>\n",
       "      <td>1015.33</td>\n",
       "      <td>25.74</td>\n",
       "      <td>16.09</td>\n",
       "      <td>80.0</td>\n",
       "      <td>3.60</td>\n",
       "    </tr>\n",
       "    <tr>\n",
       "      <th>7</th>\n",
       "      <td>12.22</td>\n",
       "      <td>0.30</td>\n",
       "      <td>7.29</td>\n",
       "      <td>0.72</td>\n",
       "      <td>1011.79</td>\n",
       "      <td>12.22</td>\n",
       "      <td>16.09</td>\n",
       "      <td>329.0</td>\n",
       "      <td>5.71</td>\n",
       "    </tr>\n",
       "    <tr>\n",
       "      <th>...</th>\n",
       "      <td>...</td>\n",
       "      <td>...</td>\n",
       "      <td>...</td>\n",
       "      <td>...</td>\n",
       "      <td>...</td>\n",
       "      <td>...</td>\n",
       "      <td>...</td>\n",
       "      <td>...</td>\n",
       "      <td>...</td>\n",
       "    </tr>\n",
       "    <tr>\n",
       "      <th>65530</th>\n",
       "      <td>21.49</td>\n",
       "      <td>0.88</td>\n",
       "      <td>14.73</td>\n",
       "      <td>0.65</td>\n",
       "      <td>1013.53</td>\n",
       "      <td>21.49</td>\n",
       "      <td>16.09</td>\n",
       "      <td>138.0</td>\n",
       "      <td>3.10</td>\n",
       "    </tr>\n",
       "    <tr>\n",
       "      <th>65531</th>\n",
       "      <td>22.83</td>\n",
       "      <td>0.22</td>\n",
       "      <td>16.61</td>\n",
       "      <td>0.68</td>\n",
       "      <td>1016.90</td>\n",
       "      <td>22.83</td>\n",
       "      <td>16.09</td>\n",
       "      <td>201.0</td>\n",
       "      <td>1.69</td>\n",
       "    </tr>\n",
       "    <tr>\n",
       "      <th>65532</th>\n",
       "      <td>33.59</td>\n",
       "      <td>0.11</td>\n",
       "      <td>25.33</td>\n",
       "      <td>0.84</td>\n",
       "      <td>1013.85</td>\n",
       "      <td>28.31</td>\n",
       "      <td>16.05</td>\n",
       "      <td>202.0</td>\n",
       "      <td>1.72</td>\n",
       "    </tr>\n",
       "    <tr>\n",
       "      <th>65533</th>\n",
       "      <td>22.61</td>\n",
       "      <td>0.01</td>\n",
       "      <td>10.55</td>\n",
       "      <td>0.46</td>\n",
       "      <td>1006.77</td>\n",
       "      <td>22.61</td>\n",
       "      <td>16.09</td>\n",
       "      <td>226.0</td>\n",
       "      <td>2.11</td>\n",
       "    </tr>\n",
       "    <tr>\n",
       "      <th>65534</th>\n",
       "      <td>14.79</td>\n",
       "      <td>0.00</td>\n",
       "      <td>10.73</td>\n",
       "      <td>0.77</td>\n",
       "      <td>1016.50</td>\n",
       "      <td>14.79</td>\n",
       "      <td>16.09</td>\n",
       "      <td>100.0</td>\n",
       "      <td>0.55</td>\n",
       "    </tr>\n",
       "  </tbody>\n",
       "</table>\n",
       "<p>62656 rows × 9 columns</p>\n",
       "</div>"
      ],
      "text/plain": [
       "       apparentTemperature  cloudCover  dewPoint  humidity  pressure  \\\n",
       "0                    25.86        0.00     20.56      0.73   1009.05   \n",
       "1                    26.12        0.00     21.72      0.77   1008.81   \n",
       "3                    22.68        0.12     17.04      0.71   1020.64   \n",
       "4                    25.74        0.63     21.47      0.77   1015.33   \n",
       "7                    12.22        0.30      7.29      0.72   1011.79   \n",
       "...                    ...         ...       ...       ...       ...   \n",
       "65530                21.49        0.88     14.73      0.65   1013.53   \n",
       "65531                22.83        0.22     16.61      0.68   1016.90   \n",
       "65532                33.59        0.11     25.33      0.84   1013.85   \n",
       "65533                22.61        0.01     10.55      0.46   1006.77   \n",
       "65534                14.79        0.00     10.73      0.77   1016.50   \n",
       "\n",
       "       temperature  visibility  windBearing  windSpeed  \n",
       "0            25.86       16.09        154.0       4.89  \n",
       "1            26.12       16.09        135.0       6.60  \n",
       "3            22.68       16.09        136.0       2.75  \n",
       "4            25.74       16.09         80.0       3.60  \n",
       "7            12.22       16.09        329.0       5.71  \n",
       "...            ...         ...          ...        ...  \n",
       "65530        21.49       16.09        138.0       3.10  \n",
       "65531        22.83       16.09        201.0       1.69  \n",
       "65532        28.31       16.05        202.0       1.72  \n",
       "65533        22.61       16.09        226.0       2.11  \n",
       "65534        14.79       16.09        100.0       0.55  \n",
       "\n",
       "[62656 rows x 9 columns]"
      ]
     },
     "execution_count": 6,
     "metadata": {},
     "output_type": "execute_result"
    }
   ],
   "source": [
    "ufo2"
   ]
  },
  {
   "cell_type": "code",
   "execution_count": 7,
   "metadata": {},
   "outputs": [],
   "source": [
    "from sklearn.preprocessing import StandardScaler\n",
    "\n",
    "sc=StandardScaler()\n",
    "ufo_weather_scaled = sc.fit_transform(ufo2)"
   ]
  },
  {
   "cell_type": "code",
   "execution_count": 8,
   "metadata": {},
   "outputs": [],
   "source": [
    "import matplotlib.pyplot as plt\n",
    "import seaborn as sns; sns.set()\n"
   ]
  },
  {
   "cell_type": "code",
   "execution_count": 9,
   "metadata": {},
   "outputs": [],
   "source": [
    "from sklearn.decomposition import PCA\n",
    "\n",
    "pca = PCA(n_components=2)\n",
    "pca.fit(ufo_weather_scaled)\n",
    "\n",
    "reduce_ufo = pca.transform(ufo_weather_scaled)\n",
    "\n"
   ]
  },
  {
   "cell_type": "code",
   "execution_count": 11,
   "metadata": {},
   "outputs": [
    {
     "data": {
      "image/png": "[encoded data removed]",
      "text/plain": [
       "<Figure size 432x288 with 1 Axes>"
      ]
     },
     "metadata": {},
     "output_type": "display_data"
    }
   ],
   "source": [
    "fig= plt.scatter(\n",
    "        reduce_ufo[: , 0],\n",
    "        reduce_ufo[: , 1],\n",
    "        alpha = 0.5,\n",
    "        s = 1)\n",
    "plt.show()"
   ]
  },
  {
   "cell_type": "code",
   "execution_count": 12,
   "metadata": {},
   "outputs": [
    {
     "data": {
      "text/plain": [
       "(2, 9)"
      ]
     },
     "execution_count": 12,
     "metadata": {},
     "output_type": "execute_result"
    }
   ],
   "source": [
    "pca.components_.shape"
   ]
  },
  {
   "cell_type": "code",
   "execution_count": 16,
   "metadata": {},
   "outputs": [],
   "source": [
    "pca_result = pca.components_.T"
   ]
  },
  {
   "cell_type": "code",
   "execution_count": 28,
   "metadata": {},
   "outputs": [],
   "source": [
    "label = list(ufo2.columns)"
   ]
  },
  {
   "cell_type": "code",
   "execution_count": 30,
   "metadata": {},
   "outputs": [
    {
     "data": {
      "image/png": "[encoded data removed]",
      "text/plain": [
       "<Figure size 432x288 with 1 Axes>"
      ]
     },
     "metadata": {},
     "output_type": "display_data"
    }
   ],
   "source": [
    "z = pca_result[: , 0]\n",
    "y = pca_result[:, 1]\n",
    "plt.scatter(\n",
    "        pca_result[: , 0], pca_result[:, 1])\n",
    "plt.xlabel('PC1')\n",
    "plt.ylabel('PC2')\n",
    "\n",
    "# for x,y in zip(pca_result[:,0], pca_result[:,1]):\n",
    "#     label = label\n",
    "#     plt.annotate(label, # this is the text\n",
    "#                  (x,y), # this is the point to label\n",
    "#                  textcoords='offset points', # how to position the text\n",
    "#                  xytext=(0,10), # distance from text to points (x,y)\n",
    "#                  ha='center') # horizontal alignment can be left, right or center\n",
    "\n",
    "for i, txt in enumerate(label):\n",
    "    plt.annotate(txt, (z[i], y[i]))\n",
    "\n",
    "\n",
    "plt.show()"
   ]
  },
  {
   "cell_type": "code",
   "execution_count": 37,
   "metadata": {},
   "outputs": [
    {
     "name": "stdout",
     "output_type": "stream",
     "text": [
      "Low-dimensional dataset shape: (62656, 9)\n"
     ]
    }
   ],
   "source": [
    "\n",
    "pca = PCA()\n",
    "pca.fit(ufo_weather_scaled)\n",
    "\n",
    "# Transform the data to its low-dimensional representation\n",
    "reduced_faces = pca.transform(ufo_weather_scaled)\n",
    "print('Low-dimensional dataset shape: {}'.format(reduced_faces.shape))"
   ]
  },
  {
   "cell_type": "code",
   "execution_count": 39,
   "metadata": {},
   "outputs": [
    {
     "data": {
      "text/plain": [
       "Text(0, 0.5, '% Cumulative explained variance')"
      ]
     },
     "execution_count": 39,
     "metadata": {},
     "output_type": "execute_result"
    },
    {
     "data": {
      "image/png": "[encoded data removed]",
      "text/plain": [
       "<Figure size 432x288 with 1 Axes>"
      ]
     },
     "metadata": {},
     "output_type": "display_data"
    }
   ],
   "source": [
    "import numpy as np\n",
    "# See how well PCs explain variance in the dataset\n",
    "cum_explained_variance = np.cumsum(pca.explained_variance_ratio_)\n",
    "plt.plot(cum_explained_variance)\n",
    "plt.xlabel('PC number')\n",
    "plt.ylabel('% Cumulative explained variance')"
   ]
  },
  {
   "cell_type": "code",
   "execution_count": 43,
   "metadata": {},
   "outputs": [
    {
     "name": "stdout",
     "output_type": "stream",
     "text": [
      "Low-dimensional dataset shape: (62656, 6)\n"
     ]
    }
   ],
   "source": [
    "# do this thing again, but basing n_components to 6 this time\n",
    "\n",
    "pca_final = PCA(n_components=6)\n",
    "pca_final.fit(ufo_weather_scaled)\n",
    "\n",
    "# Transform the data to its low-dimensional representation\n",
    "reduced_faces = pca_final.transform(ufo_weather_scaled)\n",
    "print('Low-dimensional dataset shape: {}'.format(reduced_faces.shape))"
   ]
  },
  {
   "cell_type": "code",
   "execution_count": 44,
   "metadata": {},
   "outputs": [],
   "source": [
    "pca_final_results = pca_final.components_.T"
   ]
  },
  {
   "cell_type": "code",
   "execution_count": 49,
   "metadata": {},
   "outputs": [],
   "source": [
    "ufo_pca_result = pd.DataFrame(reduced_faces)"
   ]
  },
  {
   "cell_type": "code",
   "execution_count": 50,
   "metadata": {},
   "outputs": [
    {
     "data": {
      "text/html": [
       "<div>\n",
       "<style scoped>\n",
       "    .dataframe tbody tr th:only-of-type {\n",
       "        vertical-align: middle;\n",
       "    }\n",
       "\n",
       "    .dataframe tbody tr th {\n",
       "        vertical-align: top;\n",
       "    }\n",
       "\n",
       "    .dataframe thead th {\n",
       "        text-align: right;\n",
       "    }\n",
       "</style>\n",
       "<table border=\"1\" class=\"dataframe\">\n",
       "  <thead>\n",
       "    <tr style=\"text-align: right;\">\n",
       "      <th></th>\n",
       "      <th>0</th>\n",
       "      <th>1</th>\n",
       "      <th>2</th>\n",
       "      <th>3</th>\n",
       "      <th>4</th>\n",
       "      <th>5</th>\n",
       "    </tr>\n",
       "  </thead>\n",
       "  <tbody>\n",
       "    <tr>\n",
       "      <th>0</th>\n",
       "      <td>-2.423065</td>\n",
       "      <td>-0.425925</td>\n",
       "      <td>0.365233</td>\n",
       "      <td>0.448317</td>\n",
       "      <td>-0.896086</td>\n",
       "      <td>-0.641775</td>\n",
       "    </tr>\n",
       "    <tr>\n",
       "      <th>1</th>\n",
       "      <td>-2.519264</td>\n",
       "      <td>-0.278920</td>\n",
       "      <td>0.893235</td>\n",
       "      <td>0.923981</td>\n",
       "      <td>-1.494815</td>\n",
       "      <td>-0.576051</td>\n",
       "    </tr>\n",
       "    <tr>\n",
       "      <th>2</th>\n",
       "      <td>-1.444537</td>\n",
       "      <td>-0.328586</td>\n",
       "      <td>-1.059702</td>\n",
       "      <td>0.346492</td>\n",
       "      <td>-0.858910</td>\n",
       "      <td>-0.033811</td>\n",
       "    </tr>\n",
       "    <tr>\n",
       "      <th>3</th>\n",
       "      <td>-2.253347</td>\n",
       "      <td>0.754910</td>\n",
       "      <td>-0.191706</td>\n",
       "      <td>1.143663</td>\n",
       "      <td>-0.800639</td>\n",
       "      <td>-0.547604</td>\n",
       "    </tr>\n",
       "    <tr>\n",
       "      <th>4</th>\n",
       "      <td>-0.079945</td>\n",
       "      <td>-0.283747</td>\n",
       "      <td>1.797268</td>\n",
       "      <td>-0.667388</td>\n",
       "      <td>-1.066963</td>\n",
       "      <td>-0.396759</td>\n",
       "    </tr>\n",
       "    <tr>\n",
       "      <th>...</th>\n",
       "      <td>...</td>\n",
       "      <td>...</td>\n",
       "      <td>...</td>\n",
       "      <td>...</td>\n",
       "      <td>...</td>\n",
       "      <td>...</td>\n",
       "    </tr>\n",
       "    <tr>\n",
       "      <th>62651</th>\n",
       "      <td>-1.515633</td>\n",
       "      <td>0.647977</td>\n",
       "      <td>0.490250</td>\n",
       "      <td>0.810554</td>\n",
       "      <td>-0.073753</td>\n",
       "      <td>-0.527658</td>\n",
       "    </tr>\n",
       "    <tr>\n",
       "      <th>62652</th>\n",
       "      <td>-1.572252</td>\n",
       "      <td>-0.340764</td>\n",
       "      <td>-0.817298</td>\n",
       "      <td>-0.394395</td>\n",
       "      <td>-0.266114</td>\n",
       "      <td>-0.294986</td>\n",
       "    </tr>\n",
       "    <tr>\n",
       "      <th>62653</th>\n",
       "      <td>-2.981008</td>\n",
       "      <td>0.019056</td>\n",
       "      <td>-1.085266</td>\n",
       "      <td>-0.701767</td>\n",
       "      <td>-0.706769</td>\n",
       "      <td>-0.649716</td>\n",
       "    </tr>\n",
       "    <tr>\n",
       "      <th>62654</th>\n",
       "      <td>-1.652887</td>\n",
       "      <td>-1.426318</td>\n",
       "      <td>0.206920</td>\n",
       "      <td>-0.423681</td>\n",
       "      <td>0.898391</td>\n",
       "      <td>-0.523756</td>\n",
       "    </tr>\n",
       "    <tr>\n",
       "      <th>62655</th>\n",
       "      <td>-0.450556</td>\n",
       "      <td>-0.184666</td>\n",
       "      <td>-1.775065</td>\n",
       "      <td>0.076914</td>\n",
       "      <td>0.252625</td>\n",
       "      <td>-0.962575</td>\n",
       "    </tr>\n",
       "  </tbody>\n",
       "</table>\n",
       "<p>62656 rows × 6 columns</p>\n",
       "</div>"
      ],
      "text/plain": [
       "              0         1         2         3         4         5\n",
       "0     -2.423065 -0.425925  0.365233  0.448317 -0.896086 -0.641775\n",
       "1     -2.519264 -0.278920  0.893235  0.923981 -1.494815 -0.576051\n",
       "2     -1.444537 -0.328586 -1.059702  0.346492 -0.858910 -0.033811\n",
       "3     -2.253347  0.754910 -0.191706  1.143663 -0.800639 -0.547604\n",
       "4     -0.079945 -0.283747  1.797268 -0.667388 -1.066963 -0.396759\n",
       "...         ...       ...       ...       ...       ...       ...\n",
       "62651 -1.515633  0.647977  0.490250  0.810554 -0.073753 -0.527658\n",
       "62652 -1.572252 -0.340764 -0.817298 -0.394395 -0.266114 -0.294986\n",
       "62653 -2.981008  0.019056 -1.085266 -0.701767 -0.706769 -0.649716\n",
       "62654 -1.652887 -1.426318  0.206920 -0.423681  0.898391 -0.523756\n",
       "62655 -0.450556 -0.184666 -1.775065  0.076914  0.252625 -0.962575\n",
       "\n",
       "[62656 rows x 6 columns]"
      ]
     },
     "execution_count": 50,
     "metadata": {},
     "output_type": "execute_result"
    }
   ],
   "source": [
    "ufo_pca_result"
   ]
  }
 ],
 "metadata": {
  "kernelspec": {
   "display_name": "Python 3",
   "language": "python",
   "name": "python3"
  },
  "language_info": {
   "codemirror_mode": {
    "name": "ipython",
    "version": 3
   },
   "file_extension": ".py",
   "mimetype": "text/x-python",
   "name": "python",
   "nbconvert_exporter": "python",
   "pygments_lexer": "ipython3",
   "version": "3.8.8"
  }
 },
 "nbformat": 4,
 "nbformat_minor": 4
}
