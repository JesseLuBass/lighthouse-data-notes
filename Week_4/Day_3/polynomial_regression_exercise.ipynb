{
 "cells": [
  {
   "cell_type": "markdown",
   "metadata": {},
   "source": [
    "## Regression exercise\n",
    "#### ## Welcome in the part 1!!\n",
    "\n",
    "We are going to work with randomly generalize data and trying to fit different polynomial regressions to it and explore how our loss function behaves. We will use the formulas we introduced in theoretical sections and we will create linear regression model from scratch."
   ]
  },
  {
   "cell_type": "code",
   "execution_count": 1,
   "metadata": {},
   "outputs": [],
   "source": [
    "import pandas as pd\n",
    "import numpy as np\n",
    "import matplotlib.pyplot as plt\n",
    "from sklearn.linear_model import LinearRegression"
   ]
  },
  {
   "cell_type": "markdown",
   "metadata": {},
   "source": [
    "#### Task 1\n",
    "\n",
    "Write a function psi(x,m) defined as $\\psi(x)=[1, x, x ^2, ..., x^m]$"
   ]
  },
  {
   "cell_type": "code",
   "execution_count": 2,
   "metadata": {},
   "outputs": [],
   "source": [
    "# original function: returns numpy array\n",
    "\n",
    "# def psi(x, m):\n",
    "#     return np.power(x, np.arange(m+1))"
   ]
  },
  {
   "cell_type": "code",
   "execution_count": 3,
   "metadata": {},
   "outputs": [],
   "source": [
    "# returns list\n",
    "def psi(x,m):\n",
    "    psi = []\n",
    "    for i in range(m+1):\n",
    "        psi.append(x**i)\n",
    "    return psi"
   ]
  },
  {
   "cell_type": "markdown",
   "metadata": {},
   "source": [
    "#### Task 2\n",
    "\n",
    "Write a function $h(x,\\alpha)$ defined as $h(x,\\alpha)=\\alpha^T\\psi(x)$"
   ]
  },
  {
   "cell_type": "code",
   "execution_count": 4,
   "metadata": {},
   "outputs": [],
   "source": [
    "def h(x, alpha, m):\n",
    "    return np.dot(alpha, psi(x, m))"
   ]
  },
  {
   "cell_type": "code",
   "execution_count": 5,
   "metadata": {},
   "outputs": [],
   "source": [
    "# original function: needed 3 parameters, and to return dot product\n",
    "# this was my original intuition, just wasn't completely sure because of the question \n",
    "\n",
    "# def h(x, a):\n",
    "#     m = a.shape[0]\n",
    "#     return np.transpose(a) * psi(x, m)"
   ]
  },
  {
   "cell_type": "markdown",
   "metadata": {},
   "source": [
    "#### Task 3\n",
    "Create a random 3rd order polynomial (we call it p3)"
   ]
  },
  {
   "cell_type": "code",
   "execution_count": 6,
   "metadata": {},
   "outputs": [],
   "source": [
    "p3 = np.poly1d([1,-3, 2,-1])"
   ]
  },
  {
   "cell_type": "code",
   "execution_count": 7,
   "metadata": {},
   "outputs": [],
   "source": [
    "# def p3(x):\n",
    "#     return 3*x**3 - 5*x + 6"
   ]
  },
  {
   "cell_type": "markdown",
   "metadata": {},
   "source": [
    "#### Task 4\n",
    "Choose an interval [a,b], on which the polynomial is S-shaped."
   ]
  },
  {
   "cell_type": "code",
   "execution_count": 8,
   "metadata": {},
   "outputs": [],
   "source": [
    "# this doesn't really matter"
   ]
  },
  {
   "cell_type": "code",
   "execution_count": 9,
   "metadata": {},
   "outputs": [],
   "source": [
    "# interval is [-3,5]"
   ]
  },
  {
   "cell_type": "markdown",
   "metadata": {},
   "source": [
    "#### Task 5\n",
    "Sample 30 random values in [a,b] and stored them in `xs`."
   ]
  },
  {
   "cell_type": "code",
   "execution_count": 10,
   "metadata": {},
   "outputs": [],
   "source": [
    "# original array of 30 values, specific to interval [-2,2]\n",
    "\n",
    "# xs = np.random.uniform(-2,2,30)"
   ]
  },
  {
   "cell_type": "code",
   "execution_count": 11,
   "metadata": {},
   "outputs": [],
   "source": [
    "xs = (np.random.random_sample(30) * 8 ) - 3"
   ]
  },
  {
   "cell_type": "code",
   "execution_count": 12,
   "metadata": {},
   "outputs": [
    {
     "data": {
      "text/plain": [
       "array([-0.54278075,  1.19272247,  1.14301131, -0.42798391, -2.91881136,\n",
       "        4.35769708,  0.16660008,  3.69361941, -2.85190098, -1.39255591,\n",
       "        2.36883955, -2.06944107,  2.7055252 ,  0.24701847, -0.27531477,\n",
       "       -1.26745085,  2.18327348,  4.76817742, -0.76849458,  4.48466748,\n",
       "       -1.45281878, -0.48281882,  4.48501822,  4.01832019,  3.9013856 ,\n",
       "        3.15320417,  1.31057202,  4.30791712,  0.46989563,  0.66269697])"
      ]
     },
     "execution_count": 12,
     "metadata": {},
     "output_type": "execute_result"
    }
   ],
   "source": [
    "xs"
   ]
  },
  {
   "cell_type": "markdown",
   "metadata": {},
   "source": [
    "#### Task 6\n",
    "For each x in xs, compute p3(x) and store them as `ys`."
   ]
  },
  {
   "cell_type": "code",
   "execution_count": 13,
   "metadata": {},
   "outputs": [],
   "source": [
    "ys = p3(xs)"
   ]
  },
  {
   "cell_type": "code",
   "execution_count": 14,
   "metadata": {},
   "outputs": [
    {
     "data": {
      "text/plain": [
       "array([ -3.12930345,  -1.18556438,  -1.1400864 ,  -2.48387242,\n",
       "       -57.26269796,  33.49741531,  -0.74544252,  15.85016654,\n",
       "       -54.29929749, -12.30320877,   0.19598482, -26.84920113,\n",
       "         2.25553413,  -0.67394483,  -1.79889258, -10.39026989,\n",
       "        -0.52652952,  48.73678055,  -4.76260148,  37.82932705,\n",
       "       -13.30412388,  -2.77753152,  37.8417546 ,  23.47935184,\n",
       "        20.52258982,   6.82967086,  -1.2806158 ,  31.88835635,\n",
       "        -0.6188606 ,  -0.70107306])"
      ]
     },
     "execution_count": 14,
     "metadata": {},
     "output_type": "execute_result"
    }
   ],
   "source": [
    "ys"
   ]
  },
  {
   "cell_type": "markdown",
   "metadata": {},
   "source": [
    "#### Task 7:\n",
    "Plot `ys` against `xs` on [a,b]. Does it look like a third order polynomial?"
   ]
  },
  {
   "cell_type": "code",
   "execution_count": 15,
   "metadata": {},
   "outputs": [
    {
     "data": {
      "image/png": "[encoded data removed]",
      "text/plain": [
       "<Figure size 432x288 with 1 Axes>"
      ]
     },
     "metadata": {
      "needs_background": "light"
     },
     "output_type": "display_data"
    }
   ],
   "source": [
    "plt.scatter(xs, ys, color='black')\n",
    "plt.show()"
   ]
  },
  {
   "cell_type": "markdown",
   "metadata": {},
   "source": [
    "## Fitting the data"
   ]
  },
  {
   "cell_type": "markdown",
   "metadata": {},
   "source": [
    "We will try to fit the data by a polynomial of order m=2. \n",
    "\n",
    "#### Task 8:\n",
    "\n",
    "Using xs and psi, create the matrix X defined as \n",
    "\n",
    "<img src=\"matrixX.png\">"
   ]
  },
  {
   "cell_type": "code",
   "execution_count": 16,
   "metadata": {},
   "outputs": [],
   "source": [
    "m = 2"
   ]
  },
  {
   "cell_type": "code",
   "execution_count": 17,
   "metadata": {},
   "outputs": [],
   "source": [
    "def create_X(m):\n",
    "    X = np.zeros([m+1,len(xs)])\n",
    "    \n",
    "    for i in range(len(list(xs))):\n",
    "        X[:,i] = psi(list(xs)[i],m)\n",
    "        \n",
    "    return X"
   ]
  },
  {
   "cell_type": "code",
   "execution_count": null,
   "metadata": {},
   "outputs": [],
   "source": []
  },
  {
   "cell_type": "markdown",
   "metadata": {},
   "source": [
    "#### Task 9\n",
    "Compute the optimal $\\alpha$ using the expression $\\alpha = (XX^T)^+Xy$ where $(XX^T)^+$ is the pseudoinverse matrix. y is our `ys` from the Task 6."
   ]
  },
  {
   "cell_type": "code",
   "execution_count": 18,
   "metadata": {},
   "outputs": [],
   "source": [
    "def compute_alpha(X, ys):\n",
    "    return np.dot(np.dot(np.linalg.inv(np.dot(X, X.transpose())),X), ys)"
   ]
  },
  {
   "cell_type": "code",
   "execution_count": 19,
   "metadata": {},
   "outputs": [],
   "source": [
    "X = create_X(2)"
   ]
  },
  {
   "cell_type": "code",
   "execution_count": 20,
   "metadata": {},
   "outputs": [
    {
     "data": {
      "text/html": [
       "<div>\n",
       "<style scoped>\n",
       "    .dataframe tbody tr th:only-of-type {\n",
       "        vertical-align: middle;\n",
       "    }\n",
       "\n",
       "    .dataframe tbody tr th {\n",
       "        vertical-align: top;\n",
       "    }\n",
       "\n",
       "    .dataframe thead th {\n",
       "        text-align: right;\n",
       "    }\n",
       "</style>\n",
       "<table border=\"1\" class=\"dataframe\">\n",
       "  <thead>\n",
       "    <tr style=\"text-align: right;\">\n",
       "      <th></th>\n",
       "      <th>0</th>\n",
       "      <th>1</th>\n",
       "      <th>2</th>\n",
       "      <th>3</th>\n",
       "      <th>4</th>\n",
       "      <th>5</th>\n",
       "      <th>6</th>\n",
       "      <th>7</th>\n",
       "      <th>8</th>\n",
       "      <th>9</th>\n",
       "      <th>...</th>\n",
       "      <th>20</th>\n",
       "      <th>21</th>\n",
       "      <th>22</th>\n",
       "      <th>23</th>\n",
       "      <th>24</th>\n",
       "      <th>25</th>\n",
       "      <th>26</th>\n",
       "      <th>27</th>\n",
       "      <th>28</th>\n",
       "      <th>29</th>\n",
       "    </tr>\n",
       "  </thead>\n",
       "  <tbody>\n",
       "    <tr>\n",
       "      <th>0</th>\n",
       "      <td>1.000000</td>\n",
       "      <td>1.000000</td>\n",
       "      <td>1.000000</td>\n",
       "      <td>1.000000</td>\n",
       "      <td>1.000000</td>\n",
       "      <td>1.000000</td>\n",
       "      <td>1.000000</td>\n",
       "      <td>1.000000</td>\n",
       "      <td>1.000000</td>\n",
       "      <td>1.000000</td>\n",
       "      <td>...</td>\n",
       "      <td>1.000000</td>\n",
       "      <td>1.000000</td>\n",
       "      <td>1.000000</td>\n",
       "      <td>1.000000</td>\n",
       "      <td>1.000000</td>\n",
       "      <td>1.000000</td>\n",
       "      <td>1.000000</td>\n",
       "      <td>1.000000</td>\n",
       "      <td>1.000000</td>\n",
       "      <td>1.000000</td>\n",
       "    </tr>\n",
       "    <tr>\n",
       "      <th>1</th>\n",
       "      <td>-0.542781</td>\n",
       "      <td>1.192722</td>\n",
       "      <td>1.143011</td>\n",
       "      <td>-0.427984</td>\n",
       "      <td>-2.918811</td>\n",
       "      <td>4.357697</td>\n",
       "      <td>0.166600</td>\n",
       "      <td>3.693619</td>\n",
       "      <td>-2.851901</td>\n",
       "      <td>-1.392556</td>\n",
       "      <td>...</td>\n",
       "      <td>-1.452819</td>\n",
       "      <td>-0.482819</td>\n",
       "      <td>4.485018</td>\n",
       "      <td>4.018320</td>\n",
       "      <td>3.901386</td>\n",
       "      <td>3.153204</td>\n",
       "      <td>1.310572</td>\n",
       "      <td>4.307917</td>\n",
       "      <td>0.469896</td>\n",
       "      <td>0.662697</td>\n",
       "    </tr>\n",
       "    <tr>\n",
       "      <th>2</th>\n",
       "      <td>0.294611</td>\n",
       "      <td>1.422587</td>\n",
       "      <td>1.306475</td>\n",
       "      <td>0.183170</td>\n",
       "      <td>8.519460</td>\n",
       "      <td>18.989524</td>\n",
       "      <td>0.027756</td>\n",
       "      <td>13.642824</td>\n",
       "      <td>8.133339</td>\n",
       "      <td>1.939212</td>\n",
       "      <td>...</td>\n",
       "      <td>2.110682</td>\n",
       "      <td>0.233114</td>\n",
       "      <td>20.115388</td>\n",
       "      <td>16.146897</td>\n",
       "      <td>15.220810</td>\n",
       "      <td>9.942697</td>\n",
       "      <td>1.717599</td>\n",
       "      <td>18.558150</td>\n",
       "      <td>0.220802</td>\n",
       "      <td>0.439167</td>\n",
       "    </tr>\n",
       "  </tbody>\n",
       "</table>\n",
       "<p>3 rows × 30 columns</p>\n",
       "</div>"
      ],
      "text/plain": [
       "         0         1         2         3         4          5         6   \\\n",
       "0  1.000000  1.000000  1.000000  1.000000  1.000000   1.000000  1.000000   \n",
       "1 -0.542781  1.192722  1.143011 -0.427984 -2.918811   4.357697  0.166600   \n",
       "2  0.294611  1.422587  1.306475  0.183170  8.519460  18.989524  0.027756   \n",
       "\n",
       "          7         8         9   ...        20        21         22  \\\n",
       "0   1.000000  1.000000  1.000000  ...  1.000000  1.000000   1.000000   \n",
       "1   3.693619 -2.851901 -1.392556  ... -1.452819 -0.482819   4.485018   \n",
       "2  13.642824  8.133339  1.939212  ...  2.110682  0.233114  20.115388   \n",
       "\n",
       "          23         24        25        26         27        28        29  \n",
       "0   1.000000   1.000000  1.000000  1.000000   1.000000  1.000000  1.000000  \n",
       "1   4.018320   3.901386  3.153204  1.310572   4.307917  0.469896  0.662697  \n",
       "2  16.146897  15.220810  9.942697  1.717599  18.558150  0.220802  0.439167  \n",
       "\n",
       "[3 rows x 30 columns]"
      ]
     },
     "execution_count": 20,
     "metadata": {},
     "output_type": "execute_result"
    }
   ],
   "source": [
    "import pandas as pd\n",
    "pd.DataFrame(X)"
   ]
  },
  {
   "cell_type": "code",
   "execution_count": 30,
   "metadata": {},
   "outputs": [
    {
     "data": {
      "text/plain": [
       "array([-0.54278075,  1.19272247,  1.14301131, -0.42798391, -2.91881136,\n",
       "        4.35769708,  0.16660008,  3.69361941, -2.85190098, -1.39255591,\n",
       "        2.36883955, -2.06944107,  2.7055252 ,  0.24701847, -0.27531477,\n",
       "       -1.26745085,  2.18327348,  4.76817742, -0.76849458,  4.48466748,\n",
       "       -1.45281878, -0.48281882,  4.48501822,  4.01832019,  3.9013856 ,\n",
       "        3.15320417,  1.31057202,  4.30791712,  0.46989563,  0.66269697])"
      ]
     },
     "execution_count": 30,
     "metadata": {},
     "output_type": "execute_result"
    }
   ],
   "source": [
    "xs"
   ]
  },
  {
   "cell_type": "code",
   "execution_count": 21,
   "metadata": {},
   "outputs": [],
   "source": [
    "alpha = compute_alpha(X, ys)"
   ]
  },
  {
   "cell_type": "code",
   "execution_count": 22,
   "metadata": {},
   "outputs": [
    {
     "data": {
      "text/plain": [
       "array([-6.83235954,  9.82734819, -0.37785361])"
      ]
     },
     "execution_count": 22,
     "metadata": {},
     "output_type": "execute_result"
    }
   ],
   "source": [
    "alpha"
   ]
  },
  {
   "cell_type": "markdown",
   "metadata": {},
   "source": [
    "#### Task 10\n",
    "Plot the data and the computed polynomial. Does it fit?"
   ]
  },
  {
   "cell_type": "code",
   "execution_count": 23,
   "metadata": {},
   "outputs": [],
   "source": [
    "def plot_predictions(alpha, m, test=True):\n",
    "    # we using \"new\" data now.\n",
    "    if test:\n",
    "        x = (np.random.random_sample(30) * 8) - 3\n",
    "    else:\n",
    "        x = xs\n",
    "    y_est = []\n",
    "    for i in range(len(list(x))):\n",
    "        y_est.append(h(list(x)[i],alpha, m))\n",
    "    plt.scatter(xs, ys, alpha=0.5, c=\"red\")\n",
    "    plt.scatter(x, y_est, alpha=0.5, c=\"blue\")\n",
    "    # plt.title('')\n",
    "    plt.xlabel('x')\n",
    "    plt.ylabel('y')\n",
    "    plt.show()"
   ]
  },
  {
   "cell_type": "code",
   "execution_count": 24,
   "metadata": {},
   "outputs": [
    {
     "data": {
      "image/png": "[encoded data removed]",
      "text/plain": [
       "<Figure size 432x288 with 1 Axes>"
      ]
     },
     "metadata": {
      "needs_background": "light"
     },
     "output_type": "display_data"
    }
   ],
   "source": [
    "plot_predictions(alpha, m, test=False)"
   ]
  },
  {
   "cell_type": "markdown",
   "metadata": {},
   "source": [
    "#### Task 11\n",
    "Repeat the process for m=3,…,10. What do you observe?"
   ]
  },
  {
   "cell_type": "code",
   "execution_count": 33,
   "metadata": {},
   "outputs": [
    {
     "name": "stdout",
     "output_type": "stream",
     "text": [
      "2\n"
     ]
    },
    {
     "data": {
      "image/png": "[encoded data removed]",
      "text/plain": [
       "<Figure size 432x288 with 1 Axes>"
      ]
     },
     "metadata": {
      "needs_background": "light"
     },
     "output_type": "display_data"
    },
    {
     "name": "stdout",
     "output_type": "stream",
     "text": [
      "3\n"
     ]
    },
    {
     "data": {
      "image/png": "[encoded data removed]",
      "text/plain": [
       "<Figure size 432x288 with 1 Axes>"
      ]
     },
     "metadata": {
      "needs_background": "light"
     },
     "output_type": "display_data"
    },
    {
     "name": "stdout",
     "output_type": "stream",
     "text": [
      "4\n"
     ]
    },
    {
     "data": {
      "image/png": "[encoded data removed]",
      "text/plain": [
       "<Figure size 432x288 with 1 Axes>"
      ]
     },
     "metadata": {
      "needs_background": "light"
     },
     "output_type": "display_data"
    },
    {
     "name": "stdout",
     "output_type": "stream",
     "text": [
      "5\n"
     ]
    },
    {
     "data": {
      "image/png": "[encoded data removed]",
      "text/plain": [
       "<Figure size 432x288 with 1 Axes>"
      ]
     },
     "metadata": {
      "needs_background": "light"
     },
     "output_type": "display_data"
    },
    {
     "name": "stdout",
     "output_type": "stream",
     "text": [
      "6\n"
     ]
    },
    {
     "data": {
      "image/png": "[encoded data removed]",
      "text/plain": [
       "<Figure size 432x288 with 1 Axes>"
      ]
     },
     "metadata": {
      "needs_background": "light"
     },
     "output_type": "display_data"
    },
    {
     "name": "stdout",
     "output_type": "stream",
     "text": [
      "7\n"
     ]
    },
    {
     "data": {
      "image/png": "[encoded data removed]",
      "text/plain": [
       "<Figure size 432x288 with 1 Axes>"
      ]
     },
     "metadata": {
      "needs_background": "light"
     },
     "output_type": "display_data"
    },
    {
     "name": "stdout",
     "output_type": "stream",
     "text": [
      "8\n"
     ]
    },
    {
     "data": {
      "image/png": "[encoded data removed]",
      "text/plain": [
       "<Figure size 432x288 with 1 Axes>"
      ]
     },
     "metadata": {
      "needs_background": "light"
     },
     "output_type": "display_data"
    },
    {
     "name": "stdout",
     "output_type": "stream",
     "text": [
      "9\n"
     ]
    },
    {
     "data": {
      "image/png": "[encoded data removed]",
      "text/plain": [
       "<Figure size 432x288 with 1 Axes>"
      ]
     },
     "metadata": {
      "needs_background": "light"
     },
     "output_type": "display_data"
    },
    {
     "name": "stdout",
     "output_type": "stream",
     "text": [
      "10\n"
     ]
    },
    {
     "data": {
      "image/png": "[encoded data removed]",
      "text/plain": [
       "<Figure size 432x288 with 1 Axes>"
      ]
     },
     "metadata": {
      "needs_background": "light"
     },
     "output_type": "display_data"
    }
   ],
   "source": [
    "#ms = [2,3,4,5,6,7,8,9,10,11,12,13,14,15,80, 90,100]\n",
    "ms = [2,3,4,5,6,7,8,9,10]\n",
    "\n",
    "for m in ms:\n",
    "    print(m)\n",
    "    X = create_X(m)\n",
    "    alpha = compute_alpha(X, ys)\n",
    "    plot_predictions(alpha, m, test=False)"
   ]
  },
  {
   "cell_type": "code",
   "execution_count": null,
   "metadata": {},
   "outputs": [],
   "source": []
  },
  {
   "cell_type": "markdown",
   "metadata": {},
   "source": [
    "#### Task 12\n",
    "Plot the value of the loss (defined as $ l(\\alpha^Tx, y) = \\sum(\\alpha^Tx - y)^2 $  ) for m=2,…,10. y is our `ys` from the Task 6. What do you observe? Could you tell the optimal m from the plot?"
   ]
  },
  {
   "cell_type": "code",
   "execution_count": 26,
   "metadata": {},
   "outputs": [],
   "source": [
    "def compute_loss(y_est, ys):\n",
    "    return ((y_est - ys)**2).sum()"
   ]
  },
  {
   "cell_type": "code",
   "execution_count": 27,
   "metadata": {},
   "outputs": [],
   "source": [
    "def find_loss(alpha, m, test=True):\n",
    "    # we are using \"new\" data now.\n",
    "    if test:\n",
    "        x = (np.random.random_sample(30) * 8) - 3\n",
    "    else:\n",
    "        x = xs\n",
    "        \n",
    "    y_est = []\n",
    "    for i in range(len(list(x))):\n",
    "        y_est.append(h(list(x)[i],alpha, m))\n",
    "        \n",
    "    loss = compute_loss(y_est, ys)\n",
    "    \n",
    "    return loss"
   ]
  },
  {
   "cell_type": "code",
   "execution_count": 28,
   "metadata": {},
   "outputs": [],
   "source": [
    "ms = range(2,10)\n",
    "losses = []\n",
    "\n",
    "for m in ms:\n",
    "    X = create_X(m)\n",
    "    alpha = compute_alpha(X, ys)\n",
    "    losses.append(find_loss(alpha, m, test=False))"
   ]
  },
  {
   "cell_type": "code",
   "execution_count": 29,
   "metadata": {},
   "outputs": [
    {
     "data": {
      "image/png": "[encoded data removed]",
      "text/plain": [
       "<Figure size 432x288 with 1 Axes>"
      ]
     },
     "metadata": {
      "needs_background": "light"
     },
     "output_type": "display_data"
    }
   ],
   "source": [
    "plt.scatter(ms, losses, alpha=0.5, c=\"red\")\n",
    "# plt.title('')\n",
    "plt.xlabel('x')\n",
    "plt.ylabel('y')\n",
    "#plt.ylim(0,0.1)\n",
    "#plt.xlim(0,20)\n",
    "plt.show()"
   ]
  },
  {
   "cell_type": "code",
   "execution_count": null,
   "metadata": {},
   "outputs": [],
   "source": []
  }
 ],
 "metadata": {
  "kernelspec": {
   "display_name": "Python 3",
   "language": "python",
   "name": "python3"
  },
  "language_info": {
   "codemirror_mode": {
    "name": "ipython",
    "version": 3
   },
   "file_extension": ".py",
   "mimetype": "text/x-python",
   "name": "python",
   "nbconvert_exporter": "python",
   "pygments_lexer": "ipython3",
   "version": "3.8.8"
  }
 },
 "nbformat": 4,
 "nbformat_minor": 4
}
