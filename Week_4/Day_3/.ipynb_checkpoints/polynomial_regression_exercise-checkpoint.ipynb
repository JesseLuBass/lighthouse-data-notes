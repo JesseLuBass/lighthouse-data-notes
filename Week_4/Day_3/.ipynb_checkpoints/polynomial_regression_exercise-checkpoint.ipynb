{
 "cells": [
  {
   "cell_type": "markdown",
   "metadata": {},
   "source": [
    "## Regression exercise\n",
    "#### ## Welcome in the part 1!!\n",
    "\n",
    "We are going to work with randomly generalize data and trying to fit different polynomial regressions to it and explore how our loss function behaves. We will use the formulas we introduced in theoretical sections and we will create linear regression model from scratch."
   ]
  },
  {
   "cell_type": "code",
   "execution_count": 1,
   "metadata": {},
   "outputs": [],
   "source": [
    "import pandas as pd\n",
    "import numpy as np\n",
    "import matplotlib.pyplot as plt\n",
    "from sklearn.linear_model import LinearRegression"
   ]
  },
  {
   "cell_type": "markdown",
   "metadata": {},
   "source": [
    "#### Task 1\n",
    "\n",
    "Write a function psi(x,m) defined as $\\psi(x)=[1, x, x ^2, ..., x^m]$"
   ]
  },
  {
   "cell_type": "code",
   "execution_count": 42,
   "metadata": {},
   "outputs": [],
   "source": [
    "# original function: returns numpy array\n",
    "\n",
    "# def psi(x, m):\n",
    "#     return np.power(x, np.arange(m+1))"
   ]
  },
  {
   "cell_type": "code",
   "execution_count": 47,
   "metadata": {},
   "outputs": [],
   "source": [
    "# returns list\n",
    "def psi(x,m):\n",
    "    psi = []\n",
    "    for i in range(m+1):\n",
    "        psi.append(x**i)\n",
    "    return psi"
   ]
  },
  {
   "cell_type": "markdown",
   "metadata": {},
   "source": [
    "#### Task 2\n",
    "\n",
    "Write a function $h(x,\\alpha)$ defined as $h(x,\\alpha)=\\alpha^T\\psi(x)$"
   ]
  },
  {
   "cell_type": "code",
   "execution_count": 32,
   "metadata": {},
   "outputs": [],
   "source": [
    "def h(x, alpha, m):\n",
    "    return np.dot(alpha, psi(x, m))"
   ]
  },
  {
   "cell_type": "code",
   "execution_count": 48,
   "metadata": {},
   "outputs": [],
   "source": [
    "# original function: needed 3 parameters, and to return dot product\n",
    "# this was my original intuition, just wasn't completely sure because of the question \n",
    "\n",
    "# def h(x, a):\n",
    "#     m = a.shape[0]\n",
    "#     return np.transpose(a) * psi(x, m)"
   ]
  },
  {
   "cell_type": "markdown",
   "metadata": {},
   "source": [
    "#### Task 3\n",
    "Create a random 3rd order polynomial (we call it p3)"
   ]
  },
  {
   "cell_type": "code",
   "execution_count": 11,
   "metadata": {},
   "outputs": [],
   "source": [
    "p3 = np.poly1d([1,-3, 2,-1])"
   ]
  },
  {
   "cell_type": "code",
   "execution_count": 12,
   "metadata": {},
   "outputs": [],
   "source": [
    "# def p3(x):\n",
    "#     return 3*x**3 - 5*x + 6"
   ]
  },
  {
   "cell_type": "markdown",
   "metadata": {},
   "source": [
    "#### Task 4\n",
    "Choose an interval [a,b], on which the polynomial is S-shaped."
   ]
  },
  {
   "cell_type": "code",
   "execution_count": 49,
   "metadata": {},
   "outputs": [],
   "source": [
    "# this doesn't really matter"
   ]
  },
  {
   "cell_type": "code",
   "execution_count": null,
   "metadata": {},
   "outputs": [],
   "source": [
    "# interval is [-3,5]"
   ]
  },
  {
   "cell_type": "markdown",
   "metadata": {},
   "source": [
    "#### Task 5\n",
    "Sample 30 random values in [a,b] and stored them in `xs`."
   ]
  },
  {
   "cell_type": "code",
   "execution_count": 50,
   "metadata": {},
   "outputs": [],
   "source": [
    "# original array of 30 values, specific to interval [-2,2]\n",
    "\n",
    "# xs = np.random.uniform(-2,2,30)"
   ]
  },
  {
   "cell_type": "code",
   "execution_count": 16,
   "metadata": {},
   "outputs": [],
   "source": [
    "xs = (np.random.random_sample(30) * 8 ) - 3"
   ]
  },
  {
   "cell_type": "code",
   "execution_count": 17,
   "metadata": {},
   "outputs": [
    {
     "data": {
      "text/plain": [
       "array([ 3.88638552,  2.52516068, -2.46908689,  4.09073506,  2.29565571,\n",
       "        4.01548524, -0.19120041,  4.98612625, -0.33856907,  4.63479501,\n",
       "        3.49353112,  1.67654699, -2.87617513, -1.0373758 , -0.74085722,\n",
       "       -2.0482248 ,  0.00884423, -1.62828504,  1.61211305,  4.25914773,\n",
       "        1.42312074,  1.7822417 ,  3.09902302,  1.73403301, -2.84376407,\n",
       "        3.48971796, -2.71617582, -0.09494506, -1.04921411,  4.91988866])"
      ]
     },
     "execution_count": 17,
     "metadata": {},
     "output_type": "execute_result"
    }
   ],
   "source": [
    "xs"
   ]
  },
  {
   "cell_type": "markdown",
   "metadata": {},
   "source": [
    "#### Task 6\n",
    "For each x in xs, compute p3(x) and store them as `ys`."
   ]
  },
  {
   "cell_type": "code",
   "execution_count": 19,
   "metadata": {},
   "outputs": [],
   "source": [
    "ys = p3(xs)"
   ]
  },
  {
   "cell_type": "code",
   "execution_count": 51,
   "metadata": {},
   "outputs": [
    {
     "data": {
      "text/plain": [
       "array([ 20.16073112,   1.02253861, -39.27986062,  25.43395427,\n",
       "        -0.12060772,  23.40477804,  -1.49906345,  58.35024099,\n",
       "        -2.05983504,  43.38715275,  12.01049101,  -1.36688072,\n",
       "       -55.36232368,  -7.41956769,  -4.53495661, -26.27488765,\n",
       "        -0.9825455 , -16.52759863,  -1.38276507,  30.35966261,\n",
       "        -1.34736894,  -1.30358638,   6.1490575 ,  -1.33853275,\n",
       "       -53.94601347,  11.94328554, -48.60407374,  -1.21778969,\n",
       "        -7.55600657,  55.31126667])"
      ]
     },
     "execution_count": 51,
     "metadata": {},
     "output_type": "execute_result"
    }
   ],
   "source": [
    "ys"
   ]
  },
  {
   "cell_type": "markdown",
   "metadata": {},
   "source": [
    "#### Task 7:\n",
    "Plot `ys` against `xs` on [a,b]. Does it look like a third order polynomial?"
   ]
  },
  {
   "cell_type": "code",
   "execution_count": 52,
   "metadata": {},
   "outputs": [
    {
     "data": {
      "image/png": "[encoded data removed]",
      "text/plain": [
       "<Figure size 432x288 with 1 Axes>"
      ]
     },
     "metadata": {
      "needs_background": "light"
     },
     "output_type": "display_data"
    }
   ],
   "source": [
    "plt.scatter(xs, ys, color='black')\n",
    "plt.show()"
   ]
  },
  {
   "cell_type": "markdown",
   "metadata": {},
   "source": [
    "## Fitting the data"
   ]
  },
  {
   "cell_type": "markdown",
   "metadata": {},
   "source": [
    "We will try to fit the data by a polynomial of order m=2. \n",
    "\n",
    "#### Task 8:\n",
    "\n",
    "Using xs and psi, create the matrix X defined as \n",
    "\n",
    "<img src=\"matrixX.png\">"
   ]
  },
  {
   "cell_type": "code",
   "execution_count": 70,
   "metadata": {},
   "outputs": [],
   "source": [
    "m = 2"
   ]
  },
  {
   "cell_type": "code",
   "execution_count": 54,
   "metadata": {},
   "outputs": [],
   "source": [
    "def create_X(m):\n",
    "    X = np.zeros([m+1,len(xs)])\n",
    "    \n",
    "    for i in range(len(list(xs))):\n",
    "        X[:,i] = psi(list(xs)[i],m)\n",
    "        \n",
    "    return X"
   ]
  },
  {
   "cell_type": "code",
   "execution_count": null,
   "metadata": {},
   "outputs": [],
   "source": []
  },
  {
   "cell_type": "markdown",
   "metadata": {},
   "source": [
    "#### Task 9\n",
    "Compute the optimal $\\alpha$ using the expression $\\alpha = (XX^T)^+Xy$ where $(XX^T)^+$ is the pseudoinverse matrix. y is our `ys` from the Task 6."
   ]
  },
  {
   "cell_type": "code",
   "execution_count": 57,
   "metadata": {},
   "outputs": [],
   "source": [
    "def compute_alpha(X, ys):\n",
    "    return np.dot(np.dot(np.linalg.inv(np.dot(X, X.transpose())),X), ys)"
   ]
  },
  {
   "cell_type": "code",
   "execution_count": 58,
   "metadata": {},
   "outputs": [],
   "source": [
    "X = create_X(2)"
   ]
  },
  {
   "cell_type": "code",
   "execution_count": 59,
   "metadata": {},
   "outputs": [
    {
     "data": {
      "text/plain": [
       "array([[ 1.00000000e+00,  1.00000000e+00,  1.00000000e+00,\n",
       "         1.00000000e+00,  1.00000000e+00,  1.00000000e+00,\n",
       "         1.00000000e+00,  1.00000000e+00,  1.00000000e+00,\n",
       "         1.00000000e+00,  1.00000000e+00,  1.00000000e+00,\n",
       "         1.00000000e+00,  1.00000000e+00,  1.00000000e+00,\n",
       "         1.00000000e+00,  1.00000000e+00,  1.00000000e+00,\n",
       "         1.00000000e+00,  1.00000000e+00,  1.00000000e+00,\n",
       "         1.00000000e+00,  1.00000000e+00,  1.00000000e+00,\n",
       "         1.00000000e+00,  1.00000000e+00,  1.00000000e+00,\n",
       "         1.00000000e+00,  1.00000000e+00,  1.00000000e+00],\n",
       "       [ 3.88638552e+00,  2.52516068e+00, -2.46908689e+00,\n",
       "         4.09073506e+00,  2.29565571e+00,  4.01548524e+00,\n",
       "        -1.91200413e-01,  4.98612625e+00, -3.38569074e-01,\n",
       "         4.63479501e+00,  3.49353112e+00,  1.67654699e+00,\n",
       "        -2.87617513e+00, -1.03737580e+00, -7.40857225e-01,\n",
       "        -2.04822480e+00,  8.84423294e-03, -1.62828504e+00,\n",
       "         1.61211305e+00,  4.25914773e+00,  1.42312074e+00,\n",
       "         1.78224170e+00,  3.09902302e+00,  1.73403301e+00,\n",
       "        -2.84376407e+00,  3.48971796e+00, -2.71617582e+00,\n",
       "        -9.49450561e-02, -1.04921411e+00,  4.91988866e+00],\n",
       "       [ 1.51039924e+01,  6.37643647e+00,  6.09639005e+00,\n",
       "         1.67341133e+01,  5.27003516e+00,  1.61241217e+01,\n",
       "         3.65575978e-02,  2.48614550e+01,  1.14629018e-01,\n",
       "         2.14813248e+01,  1.22047597e+01,  2.81080981e+00,\n",
       "         8.27238337e+00,  1.07614855e+00,  5.48869427e-01,\n",
       "         4.19522483e+00,  7.82204564e-05,  2.65131219e+00,\n",
       "         2.59890850e+00,  1.81403394e+01,  2.02527264e+00,\n",
       "         3.17638546e+00,  9.60394365e+00,  3.00687048e+00,\n",
       "         8.08699407e+00,  1.21781314e+01,  7.37761109e+00,\n",
       "         9.01456367e-03,  1.10085025e+00,  2.42053044e+01]])"
      ]
     },
     "execution_count": 59,
     "metadata": {},
     "output_type": "execute_result"
    }
   ],
   "source": [
    "X"
   ]
  },
  {
   "cell_type": "code",
   "execution_count": 60,
   "metadata": {},
   "outputs": [],
   "source": [
    "alpha = compute_alpha(X, ys)"
   ]
  },
  {
   "cell_type": "code",
   "execution_count": 61,
   "metadata": {},
   "outputs": [
    {
     "data": {
      "text/plain": [
       "array([-11.39192298,   9.7400103 ,   0.03190701])"
      ]
     },
     "execution_count": 61,
     "metadata": {},
     "output_type": "execute_result"
    }
   ],
   "source": [
    "alpha"
   ]
  },
  {
   "cell_type": "markdown",
   "metadata": {},
   "source": [
    "#### Task 10\n",
    "Plot the data and the computed polynomial. Does it fit?"
   ]
  },
  {
   "cell_type": "code",
   "execution_count": 62,
   "metadata": {},
   "outputs": [],
   "source": [
    "def plot_predictions(alpha, m, test=True):\n",
    "    # we using \"new\" data now.\n",
    "    if test:\n",
    "        x = (np.random.random_sample(30) * 8) - 3\n",
    "    else:\n",
    "        x = xs\n",
    "    y_est = []\n",
    "    for i in range(len(list(x))):\n",
    "        y_est.append(h(list(x)[i],alpha, m))\n",
    "    plt.scatter(xs, ys, alpha=0.5, c=\"red\")\n",
    "    plt.scatter(x, y_est, alpha=0.5, c=\"blue\")\n",
    "    # plt.title('')\n",
    "    plt.xlabel('x')\n",
    "    plt.ylabel('y')\n",
    "    plt.show()"
   ]
  },
  {
   "cell_type": "code",
   "execution_count": 63,
   "metadata": {},
   "outputs": [
    {
     "data": {
      "image/png": "[encoded data removed]",
      "text/plain": [
       "<Figure size 432x288 with 1 Axes>"
      ]
     },
     "metadata": {
      "needs_background": "light"
     },
     "output_type": "display_data"
    }
   ],
   "source": [
    "plot_predictions(alpha, m, test=False)"
   ]
  },
  {
   "cell_type": "markdown",
   "metadata": {},
   "source": [
    "#### Task 11\n",
    "Repeat the process for m=3,…,10. What do you observe?"
   ]
  },
  {
   "cell_type": "code",
   "execution_count": 64,
   "metadata": {},
   "outputs": [
    {
     "data": {
      "image/png": "[encoded data removed]",
      "text/plain": [
       "<Figure size 432x288 with 1 Axes>"
      ]
     },
     "metadata": {
      "needs_background": "light"
     },
     "output_type": "display_data"
    },
    {
     "data": {
      "image/png": "[encoded data removed]",
      "text/plain": [
       "<Figure size 432x288 with 1 Axes>"
      ]
     },
     "metadata": {
      "needs_background": "light"
     },
     "output_type": "display_data"
    },
    {
     "data": {
      "image/png": "[encoded data removed]",
      "text/plain": [
       "<Figure size 432x288 with 1 Axes>"
      ]
     },
     "metadata": {
      "needs_background": "light"
     },
     "output_type": "display_data"
    },
    {
     "data": {
      "image/png": "[encoded data removed]",
      "text/plain": [
       "<Figure size 432x288 with 1 Axes>"
      ]
     },
     "metadata": {
      "needs_background": "light"
     },
     "output_type": "display_data"
    },
    {
     "data": {
      "image/png": "[encoded data removed]",
      "text/plain": [
       "<Figure size 432x288 with 1 Axes>"
      ]
     },
     "metadata": {
      "needs_background": "light"
     },
     "output_type": "display_data"
    },
    {
     "data": {
      "image/png": "[encoded data removed]",
      "text/plain": [
       "<Figure size 432x288 with 1 Axes>"
      ]
     },
     "metadata": {
      "needs_background": "light"
     },
     "output_type": "display_data"
    },
    {
     "data": {
      "image/png": "[encoded data removed]",
      "text/plain": [
       "<Figure size 432x288 with 1 Axes>"
      ]
     },
     "metadata": {
      "needs_background": "light"
     },
     "output_type": "display_data"
    },
    {
     "data": {
      "image/png": "[encoded data removed]",
      "text/plain": [
       "<Figure size 432x288 with 1 Axes>"
      ]
     },
     "metadata": {
      "needs_background": "light"
     },
     "output_type": "display_data"
    },
    {
     "data": {
      "image/png": "[encoded data removed]",
      "text/plain": [
       "<Figure size 432x288 with 1 Axes>"
      ]
     },
     "metadata": {
      "needs_background": "light"
     },
     "output_type": "display_data"
    }
   ],
   "source": [
    "#ms = [2,3,4,5,6,7,8,9,10,11,12,13,14,15,80, 90,100]\n",
    "ms = [2,3,4,5,6,7,8,9,10]\n",
    "\n",
    "for m in ms:\n",
    "#     print(m)\n",
    "    X = create_X(m)\n",
    "    alpha = compute_alpha(X, ys)\n",
    "    plot_predictions(alpha, m, test=False)"
   ]
  },
  {
   "cell_type": "code",
   "execution_count": null,
   "metadata": {},
   "outputs": [],
   "source": []
  },
  {
   "cell_type": "markdown",
   "metadata": {},
   "source": [
    "#### Task 12\n",
    "Plot the value of the loss (defined as $ l(\\alpha^Tx, y) = \\sum(\\alpha^Tx - y)^2 $  ) for m=2,…,10. y is our `ys` from the Task 6. What do you observe? Could you tell the optimal m from the plot?"
   ]
  },
  {
   "cell_type": "code",
   "execution_count": 65,
   "metadata": {},
   "outputs": [],
   "source": [
    "def compute_loss(y_est, ys):\n",
    "    return ((y_est - ys)**2).sum()"
   ]
  },
  {
   "cell_type": "code",
   "execution_count": 67,
   "metadata": {},
   "outputs": [],
   "source": [
    "def find_loss(alpha, m, test=True):\n",
    "    # we are using \"new\" data now.\n",
    "    if test:\n",
    "        x = (np.random.random_sample(30) * 8) - 3\n",
    "    else:\n",
    "        x = xs\n",
    "        \n",
    "    y_est = []\n",
    "    for i in range(len(list(x))):\n",
    "        y_est.append(h(list(x)[i],alpha, m))\n",
    "        \n",
    "    loss = compute_loss(y_est, ys)\n",
    "    \n",
    "    return loss"
   ]
  },
  {
   "cell_type": "code",
   "execution_count": 68,
   "metadata": {},
   "outputs": [],
   "source": [
    "ms = range(2,10)\n",
    "losses = []\n",
    "\n",
    "for m in ms:\n",
    "    X = create_X(m)\n",
    "    alpha = compute_alpha(X, ys)\n",
    "    losses.append(find_loss(alpha, m, test=False))"
   ]
  },
  {
   "cell_type": "code",
   "execution_count": 69,
   "metadata": {},
   "outputs": [
    {
     "data": {
      "image/png": "[encoded data removed]",
      "text/plain": [
       "<Figure size 432x288 with 1 Axes>"
      ]
     },
     "metadata": {
      "needs_background": "light"
     },
     "output_type": "display_data"
    }
   ],
   "source": [
    "plt.scatter(ms, losses, alpha=0.5, c=\"red\")\n",
    "# plt.title('')\n",
    "plt.xlabel('x')\n",
    "plt.ylabel('y')\n",
    "#plt.ylim(0,0.1)\n",
    "#plt.xlim(0,20)\n",
    "plt.show()"
   ]
  },
  {
   "cell_type": "code",
   "execution_count": null,
   "metadata": {},
   "outputs": [],
   "source": []
  }
 ],
 "metadata": {
  "kernelspec": {
   "display_name": "Python 3",
   "language": "python",
   "name": "python3"
  },
  "language_info": {
   "codemirror_mode": {
    "name": "ipython",
    "version": 3
   },
   "file_extension": ".py",
   "mimetype": "text/x-python",
   "name": "python",
   "nbconvert_exporter": "python",
   "pygments_lexer": "ipython3",
   "version": "3.8.5"
  }
 },
 "nbformat": 4,
 "nbformat_minor": 4
}
