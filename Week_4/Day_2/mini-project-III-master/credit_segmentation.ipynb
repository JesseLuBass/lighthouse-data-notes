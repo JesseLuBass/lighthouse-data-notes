{
 "cells": [
  {
   "cell_type": "code",
   "execution_count": 1,
   "id": "47468843",
   "metadata": {},
   "outputs": [],
   "source": [
    "import pandas as pd \n",
    "import numpy as np\n",
    "from sklearn.cluster import KMeans\n",
    "from sklearn.compose import make_column_transformer\n",
    "from sklearn.preprocessing import MinMaxScaler, OneHotEncoder, StandardScaler\n",
    "import plotly.express as px\n",
    "import seaborn as sns\n",
    "import matplotlib.pyplot as plt"
   ]
  },
  {
   "cell_type": "code",
   "execution_count": 2,
   "id": "55c5c1c4",
   "metadata": {},
   "outputs": [],
   "source": [
    "df = pd.read_csv('twm_credit_acct.csv', delimiter=';')"
   ]
  },
  {
   "cell_type": "code",
   "execution_count": 6,
   "id": "624de497",
   "metadata": {},
   "outputs": [],
   "source": [
    "df = df[df['account_active'] == 'Y ']"
   ]
  },
  {
   "cell_type": "code",
   "execution_count": 8,
   "id": "005d20e8",
   "metadata": {},
   "outputs": [
    {
     "data": {
      "text/html": [
       "<div>\n",
       "<style scoped>\n",
       "    .dataframe tbody tr th:only-of-type {\n",
       "        vertical-align: middle;\n",
       "    }\n",
       "\n",
       "    .dataframe tbody tr th {\n",
       "        vertical-align: top;\n",
       "    }\n",
       "\n",
       "    .dataframe thead th {\n",
       "        text-align: right;\n",
       "    }\n",
       "</style>\n",
       "<table border=\"1\" class=\"dataframe\">\n",
       "  <thead>\n",
       "    <tr style=\"text-align: right;\">\n",
       "      <th></th>\n",
       "      <th>cust_id</th>\n",
       "      <th>acct_nbr</th>\n",
       "      <th>credit_limit</th>\n",
       "      <th>credit_rating</th>\n",
       "      <th>account_active</th>\n",
       "      <th>acct_start_date</th>\n",
       "      <th>acct_end_date</th>\n",
       "      <th>starting_balance</th>\n",
       "      <th>ending_balance</th>\n",
       "    </tr>\n",
       "  </thead>\n",
       "  <tbody>\n",
       "    <tr>\n",
       "      <th>0</th>\n",
       "      <td>1363160</td>\n",
       "      <td>4561143213631600</td>\n",
       "      <td>1000</td>\n",
       "      <td>0</td>\n",
       "      <td>Y</td>\n",
       "      <td>12.10.1988</td>\n",
       "      <td>NaN</td>\n",
       "      <td>657.46</td>\n",
       "      <td>286.69</td>\n",
       "    </tr>\n",
       "    <tr>\n",
       "      <th>1</th>\n",
       "      <td>1362487</td>\n",
       "      <td>4561143213624870</td>\n",
       "      <td>3000</td>\n",
       "      <td>0</td>\n",
       "      <td>Y</td>\n",
       "      <td>8.8.1995</td>\n",
       "      <td>NaN</td>\n",
       "      <td>0.00</td>\n",
       "      <td>1548.23</td>\n",
       "    </tr>\n",
       "    <tr>\n",
       "      <th>2</th>\n",
       "      <td>1362548</td>\n",
       "      <td>4561143213625480</td>\n",
       "      <td>6700</td>\n",
       "      <td>0</td>\n",
       "      <td>Y</td>\n",
       "      <td>11.11.1986</td>\n",
       "      <td>NaN</td>\n",
       "      <td>6965.25</td>\n",
       "      <td>68.68</td>\n",
       "    </tr>\n",
       "    <tr>\n",
       "      <th>4</th>\n",
       "      <td>1363017</td>\n",
       "      <td>4561143213630170</td>\n",
       "      <td>1000</td>\n",
       "      <td>0</td>\n",
       "      <td>Y</td>\n",
       "      <td>8.2.1995</td>\n",
       "      <td>NaN</td>\n",
       "      <td>0.00</td>\n",
       "      <td>1000.00</td>\n",
       "    </tr>\n",
       "    <tr>\n",
       "      <th>5</th>\n",
       "      <td>1362609</td>\n",
       "      <td>4561143213626090</td>\n",
       "      <td>3000</td>\n",
       "      <td>0</td>\n",
       "      <td>Y</td>\n",
       "      <td>20.7.1992</td>\n",
       "      <td>NaN</td>\n",
       "      <td>1775.07</td>\n",
       "      <td>3000.00</td>\n",
       "    </tr>\n",
       "    <tr>\n",
       "      <th>...</th>\n",
       "      <td>...</td>\n",
       "      <td>...</td>\n",
       "      <td>...</td>\n",
       "      <td>...</td>\n",
       "      <td>...</td>\n",
       "      <td>...</td>\n",
       "      <td>...</td>\n",
       "      <td>...</td>\n",
       "      <td>...</td>\n",
       "    </tr>\n",
       "    <tr>\n",
       "      <th>461</th>\n",
       "      <td>1362895</td>\n",
       "      <td>4561143213628950</td>\n",
       "      <td>1300</td>\n",
       "      <td>0</td>\n",
       "      <td>Y</td>\n",
       "      <td>3.10.1995</td>\n",
       "      <td>NaN</td>\n",
       "      <td>0.00</td>\n",
       "      <td>1300.00</td>\n",
       "    </tr>\n",
       "    <tr>\n",
       "      <th>464</th>\n",
       "      <td>1363467</td>\n",
       "      <td>4561143213634670</td>\n",
       "      <td>1500</td>\n",
       "      <td>0</td>\n",
       "      <td>Y</td>\n",
       "      <td>30.6.1993</td>\n",
       "      <td>NaN</td>\n",
       "      <td>1193.89</td>\n",
       "      <td>1500.00</td>\n",
       "    </tr>\n",
       "    <tr>\n",
       "      <th>465</th>\n",
       "      <td>1363263</td>\n",
       "      <td>4561143213632630</td>\n",
       "      <td>3000</td>\n",
       "      <td>0</td>\n",
       "      <td>Y</td>\n",
       "      <td>29.3.1995</td>\n",
       "      <td>NaN</td>\n",
       "      <td>0.00</td>\n",
       "      <td>1218.94</td>\n",
       "    </tr>\n",
       "    <tr>\n",
       "      <th>466</th>\n",
       "      <td>1362569</td>\n",
       "      <td>4561143213625690</td>\n",
       "      <td>9200</td>\n",
       "      <td>0</td>\n",
       "      <td>Y</td>\n",
       "      <td>6.12.1995</td>\n",
       "      <td>NaN</td>\n",
       "      <td>0.00</td>\n",
       "      <td>9200.00</td>\n",
       "    </tr>\n",
       "    <tr>\n",
       "      <th>467</th>\n",
       "      <td>1363303</td>\n",
       "      <td>4561143213633030</td>\n",
       "      <td>1000</td>\n",
       "      <td>0</td>\n",
       "      <td>Y</td>\n",
       "      <td>22.4.1995</td>\n",
       "      <td>NaN</td>\n",
       "      <td>0.00</td>\n",
       "      <td>1000.00</td>\n",
       "    </tr>\n",
       "  </tbody>\n",
       "</table>\n",
       "<p>423 rows × 9 columns</p>\n",
       "</div>"
      ],
      "text/plain": [
       "     cust_id          acct_nbr  credit_limit  credit_rating account_active  \\\n",
       "0    1363160  4561143213631600          1000              0             Y    \n",
       "1    1362487  4561143213624870          3000              0             Y    \n",
       "2    1362548  4561143213625480          6700              0             Y    \n",
       "4    1363017  4561143213630170          1000              0             Y    \n",
       "5    1362609  4561143213626090          3000              0             Y    \n",
       "..       ...               ...           ...            ...            ...   \n",
       "461  1362895  4561143213628950          1300              0             Y    \n",
       "464  1363467  4561143213634670          1500              0             Y    \n",
       "465  1363263  4561143213632630          3000              0             Y    \n",
       "466  1362569  4561143213625690          9200              0             Y    \n",
       "467  1363303  4561143213633030          1000              0             Y    \n",
       "\n",
       "    acct_start_date acct_end_date  starting_balance  ending_balance  \n",
       "0        12.10.1988           NaN            657.46          286.69  \n",
       "1          8.8.1995           NaN              0.00         1548.23  \n",
       "2        11.11.1986           NaN           6965.25           68.68  \n",
       "4          8.2.1995           NaN              0.00         1000.00  \n",
       "5         20.7.1992           NaN           1775.07         3000.00  \n",
       "..              ...           ...               ...             ...  \n",
       "461       3.10.1995           NaN              0.00         1300.00  \n",
       "464       30.6.1993           NaN           1193.89         1500.00  \n",
       "465       29.3.1995           NaN              0.00         1218.94  \n",
       "466       6.12.1995           NaN              0.00         9200.00  \n",
       "467       22.4.1995           NaN              0.00         1000.00  \n",
       "\n",
       "[423 rows x 9 columns]"
      ]
     },
     "execution_count": 8,
     "metadata": {},
     "output_type": "execute_result"
    }
   ],
   "source": [
    "df"
   ]
  },
  {
   "cell_type": "code",
   "execution_count": 9,
   "id": "51e9a67d",
   "metadata": {},
   "outputs": [
    {
     "data": {
      "application/vnd.jupyter.widget-view+json": {
       "model_id": "e81dd8c20d2d46f1a5ec68496ad732d3",
       "version_major": 2,
       "version_minor": 0
      },
      "text/plain": [
       "Summarize dataset:   0%|          | 0/24 [00:00<?, ?it/s]"
      ]
     },
     "metadata": {},
     "output_type": "display_data"
    },
    {
     "data": {
      "application/vnd.jupyter.widget-view+json": {
       "model_id": "59eaa4f32f414be887696ca8b2949ba7",
       "version_major": 2,
       "version_minor": 0
      },
      "text/plain": [
       "Generate report structure:   0%|          | 0/1 [00:00<?, ?it/s]"
      ]
     },
     "metadata": {},
     "output_type": "display_data"
    },
    {
     "data": {
      "application/vnd.jupyter.widget-view+json": {
       "model_id": "e5efc1b1a2b04d3680e2d911428ff374",
       "version_major": 2,
       "version_minor": 0
      },
      "text/plain": [
       "Render HTML:   0%|          | 0/1 [00:00<?, ?it/s]"
      ]
     },
     "metadata": {},
     "output_type": "display_data"
    },
    {
     "data": {
      "application/vnd.jupyter.widget-view+json": {
       "model_id": "8fc1c5fff0cb43eb8ddef0b36340ccd8",
       "version_major": 2,
       "version_minor": 0
      },
      "text/plain": [
       "Export report to file:   0%|          | 0/1 [00:00<?, ?it/s]"
      ]
     },
     "metadata": {},
     "output_type": "display_data"
    }
   ],
   "source": [
    "from pandas_profiling import ProfileReport\n",
    "prof = ProfileReport(df)\n",
    "prof.to_file(output_file='output1.html')"
   ]
  }
 ],
 "metadata": {
  "kernelspec": {
   "display_name": "Python 3",
   "language": "python",
   "name": "python3"
  },
  "language_info": {
   "codemirror_mode": {
    "name": "ipython",
    "version": 3
   },
   "file_extension": ".py",
   "mimetype": "text/x-python",
   "name": "python",
   "nbconvert_exporter": "python",
   "pygments_lexer": "ipython3",
   "version": "3.8.8"
  }
 },
 "nbformat": 4,
 "nbformat_minor": 5
}
